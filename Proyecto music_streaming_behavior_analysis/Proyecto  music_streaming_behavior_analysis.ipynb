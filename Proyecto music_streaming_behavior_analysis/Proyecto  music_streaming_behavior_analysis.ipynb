{
 "cells": [
  {
   "cell_type": "markdown",
   "metadata": {
    "id": "E0vqbgi9ay0H"
   },
   "source": [
    "# Déjame escuchar la música"
   ]
  },
  {
   "cell_type": "markdown",
   "metadata": {
    "id": "fhq_eyov_Zcs"
   },
   "source": [
    "# Contenido <a id='back'></a>\n",
    "\n",
    "* [Introducción](#intro)\n",
    "* [Etapa 1. Descripción de los datos](#data_review)\n",
    "    * [Conclusiones](#data_review_conclusions)\n",
    "* [Etapa 2. Preprocesamiento de datos](#data_preprocessing)\n",
    "    * [2.1 Estilo del encabezado](#header_style)\n",
    "    * [2.2 Valores ausentes](#missing_values)\n",
    "    * [2.3 Duplicados](#duplicates)\n",
    "    * [2.4 Conclusiones](#data_preprocessing_conclusions)\n",
    "* [Etapa 3. Prueba de hipótesis](#hypothesis)\n",
    "    * [3.1 Hipótesis 1: actividad de los usuarios y las usuarias en las dos ciudades](#activity)\n",
    "* [Conclusiones](#end)"
   ]
  },
  {
   "cell_type": "markdown",
   "metadata": {
    "id": "VUC88oWjTJw2"
   },
   "source": [
    "## Introducción <a id='intro'></a>\n",
    "Como analista de datos, tu trabajo consiste en analizar datos para extraer información valiosa y tomar decisiones basadas en ellos. Esto implica diferentes etapas, como la descripción general de los datos, el preprocesamiento y la prueba de hipótesis.\n",
    "\n",
    "Siempre que investigamos, necesitamos formular hipótesis que después podamos probar. A veces aceptamos estas hipótesis; otras veces, las rechazamos. Para tomar las decisiones correctas, una empresa debe ser capaz de entender si está haciendo las suposiciones correctas.\n",
    "\n",
    "En este proyecto, compararás las preferencias musicales de las ciudades de Springfield y Shelbyville. Estudiarás datos reales de transmisión de música online para probar la hipótesis a continuación y comparar el comportamiento de los usuarios y las usuarias de estas dos ciudades.\n",
    "\n",
    "### Objetivo:\n",
    "Prueba la hipótesis:\n",
    "1. La actividad de los usuarios y las usuarias difiere según el día de la semana y dependiendo de la ciudad.\n",
    "\n",
    "\n",
    "### Etapas\n",
    "Los datos del comportamiento del usuario se almacenan en el archivo `/datasets/music_project_en.csv`. No hay ninguna información sobre la calidad de los datos, así que necesitarás examinarlos antes de probar la hipótesis.\n",
    "\n",
    "Primero, evaluarás la calidad de los datos y verás si los problemas son significativos. Entonces, durante el preprocesamiento de datos, tomarás en cuenta los problemas más críticos.\n",
    "\n",
    "Tu proyecto consistirá en tres etapas:\n",
    " 1. Descripción de los datos.\n",
    " 2. Preprocesamiento de datos.\n",
    " 3. Prueba de hipótesis.\n",
    "\n",
    "\n",
    "\n",
    "\n",
    "\n",
    "\n"
   ]
  },
  {
   "cell_type": "markdown",
   "metadata": {
    "id": "hDt6pg-Rw-1U"
   },
   "source": [
    "[Volver a Contenidos](#back)"
   ]
  },
  {
   "cell_type": "markdown",
   "metadata": {
    "id": "Ml1hmfXC_Zcs"
   },
   "source": [
    "## Etapa 1. Descripción de los datos <a id='data_review'></a>\n",
    "\n",
    "Abre los datos y examínalos."
   ]
  },
  {
   "cell_type": "markdown",
   "metadata": {
    "id": "57eAOGIz_Zcs"
   },
   "source": [
    "Necesitarás `pandas`, así que impórtalo."
   ]
  },
  {
   "cell_type": "code",
   "execution_count": 1,
   "metadata": {
    "id": "AXN7PHPN_Zcs",
    "trusted": true
   },
   "outputs": [],
   "source": [
    "# Importar pandas\n",
    "\n",
    "import pandas as pd\n"
   ]
  },
  {
   "cell_type": "markdown",
   "metadata": {
    "id": "SG23P8tt_Zcs"
   },
   "source": [
    "Lee el archivo `music_project_en.csv` de la carpeta `/datasets/` y guárdalo en la variable `df`:"
   ]
  },
  {
   "cell_type": "code",
   "execution_count": 2,
   "metadata": {
    "id": "fFVu7vqh_Zct",
    "trusted": true
   },
   "outputs": [
    {
     "name": "stdout",
     "output_type": "stream",
     "text": [
      "         userID                              Track            artist  \\\n",
      "0      FFB692EC                  Kamigata To Boots  The Mass Missile   \n",
      "1      55204538        Delayed Because of Accident  Andreas Rönnberg   \n",
      "2        20EC38                  Funiculì funiculà       Mario Lanza   \n",
      "3      A3DD03C9              Dragons in the Sunset        Fire + Ice   \n",
      "4      E2DC1FAE                        Soul People        Space Echo   \n",
      "...         ...                                ...               ...   \n",
      "65074  729CBB09                            My Name            McLean   \n",
      "65075  D08D4A55  Maybe One Day (feat. Black Spade)       Blu & Exile   \n",
      "65076  C5E3A0D5                          Jalopiina               NaN   \n",
      "65077  321D0506                      Freight Train     Chas McDevitt   \n",
      "65078  3A64EF84          Tell Me Sweet Little Lies      Monica Lopez   \n",
      "\n",
      "            genre       City        time        Day  \n",
      "0            rock  Shelbyville  20:28:33  Wednesday  \n",
      "1            rock  Springfield  14:07:09     Friday  \n",
      "2             pop  Shelbyville  20:58:07  Wednesday  \n",
      "3            folk  Shelbyville  08:37:09     Monday  \n",
      "4           dance  Springfield  08:34:34     Monday  \n",
      "...           ...          ...       ...        ...  \n",
      "65074         rnb  Springfield  13:32:28  Wednesday  \n",
      "65075         hip  Shelbyville  10:00:00     Monday  \n",
      "65076  industrial  Springfield  20:09:26     Friday  \n",
      "65077        rock  Springfield  21:43:59     Friday  \n",
      "65078     country  Springfield  21:59:46     Friday  \n",
      "\n",
      "[65079 rows x 7 columns]\n"
     ]
    }
   ],
   "source": [
    "# Leer el archivo y almacenarlo en df\n",
    "import pandas as pd\n",
    "df= pd.read_csv('/datasets/music_project_en.csv')\n",
    "\n",
    "print(df)\n"
   ]
  },
  {
   "cell_type": "markdown",
   "metadata": {
    "id": "rDoOMd3uTqnZ"
   },
   "source": [
    "Muestra las 10 primeras filas de la tabla:"
   ]
  },
  {
   "cell_type": "code",
   "execution_count": 3,
   "metadata": {
    "id": "oWTVX3gW_Zct",
    "trusted": true
   },
   "outputs": [
    {
     "name": "stdout",
     "output_type": "stream",
     "text": [
      "     userID                        Track            artist   genre  \\\n",
      "0  FFB692EC            Kamigata To Boots  The Mass Missile    rock   \n",
      "1  55204538  Delayed Because of Accident  Andreas Rönnberg    rock   \n",
      "2    20EC38            Funiculì funiculà       Mario Lanza     pop   \n",
      "3  A3DD03C9        Dragons in the Sunset        Fire + Ice    folk   \n",
      "4  E2DC1FAE                  Soul People        Space Echo   dance   \n",
      "5  842029A1                       Chains          Obladaet  rusrap   \n",
      "6  4CB90AA5                         True      Roman Messer   dance   \n",
      "7  F03E1C1F             Feeling This Way   Polina Griffith   dance   \n",
      "8  8FA1D3BE                     L’estate       Julia Dalia  ruspop   \n",
      "9  E772D5C0                    Pessimist               NaN   dance   \n",
      "\n",
      "        City        time        Day  \n",
      "0  Shelbyville  20:28:33  Wednesday  \n",
      "1  Springfield  14:07:09     Friday  \n",
      "2  Shelbyville  20:58:07  Wednesday  \n",
      "3  Shelbyville  08:37:09     Monday  \n",
      "4  Springfield  08:34:34     Monday  \n",
      "5  Shelbyville  13:09:41     Friday  \n",
      "6  Springfield  13:00:07  Wednesday  \n",
      "7  Springfield  20:47:49  Wednesday  \n",
      "8  Springfield  09:17:40     Friday  \n",
      "9  Shelbyville  21:20:49  Wednesday  \n"
     ]
    }
   ],
   "source": [
    "# Obtener las 10 primeras filas de la tabla df\n",
    "print(df.head(10))\n"
   ]
  },
  {
   "cell_type": "markdown",
   "metadata": {
    "id": "EO73Kwic_Zct"
   },
   "source": [
    "Obtén la información general sobre la tabla con un comando. Conoces el método que muestra la información general que necesitamos."
   ]
  },
  {
   "cell_type": "code",
   "execution_count": 4,
   "metadata": {
    "id": "DSf2kIb-_Zct",
    "trusted": true
   },
   "outputs": [],
   "source": [
    "# Obtener la información general sobre nuestros datos\n"
   ]
  },
  {
   "cell_type": "markdown",
   "metadata": {
    "id": "TaQ2Iwbr_Zct"
   },
   "source": [
    "Estas son nuestras observaciones sobre la tabla. Contiene siete columnas. Almacenan los mismos tipos de datos: `object`.\n",
    "\n",
    "Según la documentación:\n",
    "- `' userID'`: identificador del usuario o la usuaria;\n",
    "- `'Track'`: título de la canción;\n",
    "- `'artist'`: nombre del artista;\n",
    "- `'genre'`: género de la pista;\n",
    "- `'City'`: ciudad del usuario o la usuaria;\n",
    "- `'time'`: la hora exacta en la que se reprodujo la canción;\n",
    "- `'Day'`: día de la semana.\n",
    "\n",
    "Podemos ver tres problemas con el estilo en los encabezados de la tabla:\n",
    "1. Algunos encabezados están en mayúsculas, otros en minúsculas.\n",
    "2. Hay espacios en algunos encabezados.\n",
    "3. `Detecta el tercer problema por tu cuenta y descríbelo aquí`.\n",
    "\n",
    "\n"
   ]
  },
  {
   "cell_type": "markdown",
   "metadata": {
    "id": "MCB6-dXG_Zct"
   },
   "source": [
    "### Escribe observaciones de tu parte. Estas son algunas de las preguntas que pueden ser útiles: <a id='data_review_conclusions'></a>\n",
    "\n",
    "`1.   ¿Qué tipo de datos tenemos a nuestra disposición en las filas? ¿Y cómo podemos entender lo que almacenan las columnas?`\n",
    "\n",
    "`2.   ¿Hay suficientes datos para proporcionar respuestas a nuestra hipótesis o necesitamos más información?`\n",
    "\n",
    "`3.   ¿Notaste algún problema en los datos, como valores ausentes, duplicados o tipos de datos incorrectos?`"
   ]
  },
  {
   "cell_type": "markdown",
   "metadata": {
    "id": "3eL__vcwViOi"
   },
   "source": [
    "[Volver a Contenidos](#back)"
   ]
  },
  {
   "cell_type": "markdown",
   "metadata": {
    "id": "SjYF6Ub9_Zct"
   },
   "source": [
    "## Etapa 2. Preprocesamiento de datos <a id='data_preprocessing'></a>\n",
    "\n",
    "El objetivo aquí es preparar los datos para que sean analizados.\n",
    "El primer paso es resolver cualquier problema con los encabezados. Luego podemos avanzar a los valores ausentes y duplicados. Empecemos.\n",
    "\n",
    "Corrige el formato en los encabezados de la tabla.\n"
   ]
  },
  {
   "cell_type": "markdown",
   "metadata": {
    "id": "dIaKXr29_Zct"
   },
   "source": [
    "### Estilo del encabezado <a id='header_style'></a>\n",
    "Muestra los encabezados de la tabla (los nombres de las columnas):"
   ]
  },
  {
   "cell_type": "code",
   "execution_count": 5,
   "metadata": {
    "id": "oKOTdF_Q_Zct",
    "trusted": true
   },
   "outputs": [
    {
     "name": "stdout",
     "output_type": "stream",
     "text": [
      "Index(['  userID', 'Track', 'artist', 'genre', '  City  ', 'time', 'Day'], dtype='object')\n"
     ]
    }
   ],
   "source": [
    "# Muestra los nombres de las columnas\n",
    "\n",
    "\n",
    "print(df.columns)\n"
   ]
  },
  {
   "cell_type": "markdown",
   "metadata": {
    "id": "zj5534cv_Zct"
   },
   "source": [
    "Cambia los encabezados de la tabla de acuerdo con las reglas del buen estilo:\n",
    "* Todos los caracteres deben ser minúsculas.\n",
    "* Elimina los espacios.\n",
    "* Si el nombre tiene varias palabras, utiliza snake_case."
   ]
  },
  {
   "cell_type": "markdown",
   "metadata": {
    "id": "Xu0zkfe5zNJe"
   },
   "source": [
    "Anteriormente, aprendiste acerca de la forma automática de cambiar el nombre de las columnas. Vamos a aplicarla ahora. Utiliza el bucle for para iterar sobre los nombres de las columnas y poner todos los caracteres en minúsculas. Cuando hayas terminado, vuelve a mostrar los encabezados de la tabla:"
   ]
  },
  {
   "cell_type": "code",
   "execution_count": 6,
   "metadata": {
    "id": "6I_RwwMhzM4e",
    "trusted": true
   },
   "outputs": [],
   "source": [
    "# Bucle en los encabezados poniendo todo en minúsculas\n",
    "\n",
    "df.columns = [col.strip().lower() for col in df.columns]\n"
   ]
  },
  {
   "cell_type": "markdown",
   "metadata": {
    "id": "pweIRxjSzPYW"
   },
   "source": [
    "Ahora, utilizando el mismo método, elimina los espacios al principio y al final de los nombres de las columnas e imprime los nombres de las columnas nuevamente:"
   ]
  },
  {
   "cell_type": "code",
   "execution_count": 7,
   "metadata": {
    "id": "vVQXbFyJzSYl",
    "trusted": true
   },
   "outputs": [],
   "source": [
    "# Bucle en los encabezados eliminando los espacios\n",
    "\n",
    "df.columns = [col.strip().lower() for col in df.columns]"
   ]
  },
  {
   "cell_type": "markdown",
   "metadata": {
    "id": "yCb8MW1JzURd"
   },
   "source": [
    "Necesitamos aplicar la regla de snake_case a la columna `userid`. Debe ser `user_id`. Cambia el nombre de esta columna y muestra los nombres de todas las columnas cuando hayas terminado."
   ]
  },
  {
   "cell_type": "code",
   "execution_count": 8,
   "metadata": {
    "id": "ISlFqs5y_Zct",
    "trusted": true
   },
   "outputs": [],
   "source": [
    "# Cambiar el nombre de la columna \"userid\"\n",
    "df.rename(columns={'userid': 'user_id'}, inplace=True)\n"
   ]
  },
  {
   "cell_type": "markdown",
   "metadata": {
    "id": "1dqbh00J_Zct"
   },
   "source": [
    "Comprueba el resultado. Muestra los encabezados una vez más:"
   ]
  },
  {
   "cell_type": "code",
   "execution_count": 9,
   "metadata": {
    "id": "d4NOAmTW_Zct",
    "trusted": true
   },
   "outputs": [
    {
     "name": "stdout",
     "output_type": "stream",
     "text": [
      "Index(['user_id', 'track', 'artist', 'genre', 'city', 'time', 'day'], dtype='object')\n"
     ]
    }
   ],
   "source": [
    "# Comprobar el resultado: la lista de encabezados\n",
    "print(df.columns)\n"
   ]
  },
  {
   "cell_type": "markdown",
   "metadata": {
    "id": "xYJk6ksJVpOl"
   },
   "source": [
    "[Volver a Contenidos](#back)"
   ]
  },
  {
   "cell_type": "markdown",
   "metadata": {
    "id": "5ISfbcfY_Zct"
   },
   "source": [
    "### Valores ausentes <a id='missing_values'></a>\n",
    " Primero, encuentra el número de valores ausentes en la tabla. Debes utilizar dos métodos en una secuencia para obtener el número de valores ausentes."
   ]
  },
  {
   "cell_type": "code",
   "execution_count": 10,
   "metadata": {
    "id": "RskX29qr_Zct",
    "trusted": true
   },
   "outputs": [
    {
     "name": "stdout",
     "output_type": "stream",
     "text": [
      "user_id       0\n",
      "track      1343\n",
      "artist     7567\n",
      "genre      1198\n",
      "city          0\n",
      "time          0\n",
      "day           0\n",
      "dtype: int64\n"
     ]
    }
   ],
   "source": [
    "# Calcular el número de valores ausentes\n",
    "print(df.isna().sum())\n"
   ]
  },
  {
   "cell_type": "markdown",
   "metadata": {
    "id": "qubhgnlO_Zct"
   },
   "source": [
    "No todos los valores ausentes afectan a la investigación. Por ejemplo, los valores ausentes en `track` y `artist` no son cruciales. Simplemente puedes reemplazarlos con valores predeterminados como el string `'unknown'` (desconocido).\n",
    "\n",
    "Pero los valores ausentes en `'genre'` pueden afectar la comparación entre las preferencias musicales de Springfield y Shelbyville. En la vida real, sería útil saber las razones por las cuales hay datos ausentes e intentar recuperarlos. Pero no tenemos esa oportunidad en este proyecto. Así que tendrás que:\n",
    "* rellenar estos valores ausentes con un valor predeterminado;\n",
    "* evaluar cuánto podrían afectar los valores ausentes a tus cómputos;"
   ]
  },
  {
   "cell_type": "markdown",
   "metadata": {
    "id": "fSv2laPA_Zct"
   },
   "source": [
    "Reemplazar los valores ausentes en las columnas `'track'`, `'artist'` y `'genre'` con el string `'unknown'`. Como mostramos anteriormente en las lecciones, la mejor forma de hacerlo es crear una lista que almacene los nombres de las columnas donde se necesita el reemplazo. Luego, utiliza esta lista e itera sobre las columnas donde se necesita el reemplazo haciendo el propio reemplazo."
   ]
  },
  {
   "cell_type": "code",
   "execution_count": 11,
   "metadata": {
    "id": "KplB5qWs_Zct",
    "trusted": true
   },
   "outputs": [],
   "source": [
    "# Bucle en los encabezados reemplazando los valores ausentes con 'unknown'\n",
    "\n",
    "columns_to_replace = ['track', 'artist', 'genre']\n",
    "\n",
    "for columns in columns_to_replace:\n",
    "    df[columns].fillna('unknown', inplace=True)\n"
   ]
  },
  {
   "cell_type": "markdown",
   "metadata": {
    "id": "Ilsm-MZo_Zct"
   },
   "source": [
    "Ahora comprueba el resultado para asegurarte de que después del reemplazo no haya valores ausentes en el conjunto de datos. Para hacer esto, cuenta los valores ausentes nuevamente."
   ]
  },
  {
   "cell_type": "code",
   "execution_count": 12,
   "metadata": {
    "id": "Tq4nYRX4_Zct",
    "trusted": true
   },
   "outputs": [
    {
     "name": "stdout",
     "output_type": "stream",
     "text": [
      "user_id    0\n",
      "track      0\n",
      "artist     0\n",
      "genre      0\n",
      "city       0\n",
      "time       0\n",
      "day        0\n",
      "dtype: int64\n"
     ]
    }
   ],
   "source": [
    "# Contar valores ausentes\n",
    "print(df.isna().sum())\n"
   ]
  },
  {
   "cell_type": "markdown",
   "metadata": {
    "id": "74ZIBmq9VrsK"
   },
   "source": [
    "[Volver a Contenidos](#back)"
   ]
  },
  {
   "cell_type": "markdown",
   "metadata": {
    "id": "BWKRtBJ3_Zct"
   },
   "source": [
    "### Duplicados <a id='duplicates'></a>\n",
    "Encuentra el número de duplicados explícitos en la tabla. Una vez más, debes aplicar dos métodos en una secuencia para obtener la cantidad de duplicados explícitos."
   ]
  },
  {
   "cell_type": "code",
   "execution_count": 13,
   "metadata": {
    "id": "36eES_S0_Zct",
    "trusted": true
   },
   "outputs": [
    {
     "name": "stdout",
     "output_type": "stream",
     "text": [
      "3826\n"
     ]
    }
   ],
   "source": [
    "# Contar duplicados explícitos\n",
    "\n",
    "print(df.duplicated().sum())\n"
   ]
  },
  {
   "cell_type": "markdown",
   "metadata": {
    "id": "Ot25h6XR_Zct"
   },
   "source": [
    "Ahora, elimina todos los duplicados. Para ello, llama al método que hace exactamente esto."
   ]
  },
  {
   "cell_type": "code",
   "execution_count": 14,
   "metadata": {
    "id": "exFHq6tt_Zct",
    "trusted": true
   },
   "outputs": [],
   "source": [
    "# Eliminar duplicados explícitos\n",
    "\n",
    "df = df.drop_duplicates()\n"
   ]
  },
  {
   "cell_type": "markdown",
   "metadata": {
    "id": "Im2YwBEG_Zct"
   },
   "source": [
    "Comprobemos ahora si eliminamos con éxito todos los duplicados. Cuenta los duplicados explícitos una vez más para asegurarte de haberlos eliminado todos:"
   ]
  },
  {
   "cell_type": "code",
   "execution_count": 15,
   "metadata": {
    "id": "-8PuNWQ0_Zct",
    "trusted": true
   },
   "outputs": [
    {
     "name": "stdout",
     "output_type": "stream",
     "text": [
      "0\n"
     ]
    }
   ],
   "source": [
    "# Comprobar de nuevo si hay duplicados\n",
    "\n",
    "print(df.duplicated().sum())\n",
    "\n"
   ]
  },
  {
   "cell_type": "markdown",
   "metadata": {
    "id": "QlFBsxAr_Zct"
   },
   "source": [
    "Ahora queremos deshacernos de los duplicados implícitos en la columna `genre`. Por ejemplo, el nombre de un género se puede escribir de varias formas. Dichos errores también pueden afectar al resultado."
   ]
  },
  {
   "cell_type": "markdown",
   "metadata": {
    "id": "eSjWwsOh_Zct"
   },
   "source": [
    "Para hacerlo, primero mostremos una lista de nombres de género únicos, ordenados en orden alfabético. Para ello:\n",
    "* Extrae la columna `genre` del DataFrame.\n",
    "* Llama al método que devolverá todos los valores únicos en la columna extraída.\n"
   ]
  },
  {
   "cell_type": "code",
   "execution_count": 16,
   "metadata": {
    "id": "JIUcqzZN_Zct",
    "trusted": true
   },
   "outputs": [
    {
     "data": {
      "text/plain": [
       "['acid',\n",
       " 'acoustic',\n",
       " 'action',\n",
       " 'adult',\n",
       " 'africa',\n",
       " 'afrikaans',\n",
       " 'alternative',\n",
       " 'ambient',\n",
       " 'americana',\n",
       " 'animated',\n",
       " 'anime',\n",
       " 'arabesk',\n",
       " 'arabic',\n",
       " 'arena',\n",
       " 'argentinetango',\n",
       " 'art',\n",
       " 'audiobook',\n",
       " 'avantgarde',\n",
       " 'axé',\n",
       " 'baile',\n",
       " 'balkan',\n",
       " 'beats',\n",
       " 'bigroom',\n",
       " 'black',\n",
       " 'bluegrass',\n",
       " 'blues',\n",
       " 'bollywood',\n",
       " 'bossa',\n",
       " 'brazilian',\n",
       " 'breakbeat',\n",
       " 'breaks',\n",
       " 'broadway',\n",
       " 'cantautori',\n",
       " 'cantopop',\n",
       " 'canzone',\n",
       " 'caribbean',\n",
       " 'caucasian',\n",
       " 'celtic',\n",
       " 'chamber',\n",
       " 'children',\n",
       " 'chill',\n",
       " 'chinese',\n",
       " 'choral',\n",
       " 'christian',\n",
       " 'christmas',\n",
       " 'classical',\n",
       " 'classicmetal',\n",
       " 'club',\n",
       " 'colombian',\n",
       " 'comedy',\n",
       " 'conjazz',\n",
       " 'contemporary',\n",
       " 'country',\n",
       " 'cuban',\n",
       " 'dance',\n",
       " 'dancehall',\n",
       " 'dancepop',\n",
       " 'dark',\n",
       " 'death',\n",
       " 'deep',\n",
       " 'deutschrock',\n",
       " 'deutschspr',\n",
       " 'dirty',\n",
       " 'disco',\n",
       " 'dnb',\n",
       " 'documentary',\n",
       " 'downbeat',\n",
       " 'downtempo',\n",
       " 'drum',\n",
       " 'dub',\n",
       " 'dubstep',\n",
       " 'eastern',\n",
       " 'easy',\n",
       " 'electronic',\n",
       " 'electropop',\n",
       " 'emo',\n",
       " 'entehno',\n",
       " 'epicmetal',\n",
       " 'estrada',\n",
       " 'ethnic',\n",
       " 'eurofolk',\n",
       " 'european',\n",
       " 'experimental',\n",
       " 'extrememetal',\n",
       " 'fado',\n",
       " 'film',\n",
       " 'fitness',\n",
       " 'flamenco',\n",
       " 'folk',\n",
       " 'folklore',\n",
       " 'folkmetal',\n",
       " 'folkrock',\n",
       " 'folktronica',\n",
       " 'forró',\n",
       " 'frankreich',\n",
       " 'französisch',\n",
       " 'french',\n",
       " 'funk',\n",
       " 'future',\n",
       " 'gangsta',\n",
       " 'garage',\n",
       " 'german',\n",
       " 'ghazal',\n",
       " 'gitarre',\n",
       " 'glitch',\n",
       " 'gospel',\n",
       " 'gothic',\n",
       " 'grime',\n",
       " 'grunge',\n",
       " 'gypsy',\n",
       " 'handsup',\n",
       " \"hard'n'heavy\",\n",
       " 'hardcore',\n",
       " 'hardstyle',\n",
       " 'hardtechno',\n",
       " 'hip',\n",
       " 'hip-hop',\n",
       " 'hiphop',\n",
       " 'historisch',\n",
       " 'holiday',\n",
       " 'hop',\n",
       " 'horror',\n",
       " 'house',\n",
       " 'idm',\n",
       " 'independent',\n",
       " 'indian',\n",
       " 'indie',\n",
       " 'indipop',\n",
       " 'industrial',\n",
       " 'inspirational',\n",
       " 'instrumental',\n",
       " 'international',\n",
       " 'irish',\n",
       " 'jam',\n",
       " 'japanese',\n",
       " 'jazz',\n",
       " 'jewish',\n",
       " 'jpop',\n",
       " 'jungle',\n",
       " 'k-pop',\n",
       " 'karadeniz',\n",
       " 'karaoke',\n",
       " 'kayokyoku',\n",
       " 'korean',\n",
       " 'laiko',\n",
       " 'latin',\n",
       " 'latino',\n",
       " 'leftfield',\n",
       " 'local',\n",
       " 'lounge',\n",
       " 'loungeelectronic',\n",
       " 'lovers',\n",
       " 'malaysian',\n",
       " 'mandopop',\n",
       " 'marschmusik',\n",
       " 'meditative',\n",
       " 'mediterranean',\n",
       " 'melodic',\n",
       " 'metal',\n",
       " 'metalcore',\n",
       " 'mexican',\n",
       " 'middle',\n",
       " 'minimal',\n",
       " 'miscellaneous',\n",
       " 'modern',\n",
       " 'mood',\n",
       " 'mpb',\n",
       " 'muslim',\n",
       " 'native',\n",
       " 'neoklassik',\n",
       " 'neue',\n",
       " 'new',\n",
       " 'newage',\n",
       " 'newwave',\n",
       " 'nu',\n",
       " 'nujazz',\n",
       " 'numetal',\n",
       " 'oceania',\n",
       " 'old',\n",
       " 'opera',\n",
       " 'orchestral',\n",
       " 'other',\n",
       " 'piano',\n",
       " 'pop',\n",
       " 'popelectronic',\n",
       " 'popeurodance',\n",
       " 'post',\n",
       " 'posthardcore',\n",
       " 'postrock',\n",
       " 'power',\n",
       " 'progmetal',\n",
       " 'progressive',\n",
       " 'psychedelic',\n",
       " 'punjabi',\n",
       " 'punk',\n",
       " 'quebecois',\n",
       " 'ragga',\n",
       " 'ram',\n",
       " 'rancheras',\n",
       " 'rap',\n",
       " 'rave',\n",
       " 'reggae',\n",
       " 'reggaeton',\n",
       " 'regional',\n",
       " 'relax',\n",
       " 'religious',\n",
       " 'retro',\n",
       " 'rhythm',\n",
       " 'rnb',\n",
       " 'rnr',\n",
       " 'rock',\n",
       " 'rockabilly',\n",
       " 'romance',\n",
       " 'roots',\n",
       " 'ruspop',\n",
       " 'rusrap',\n",
       " 'rusrock',\n",
       " 'salsa',\n",
       " 'samba',\n",
       " 'schlager',\n",
       " 'self',\n",
       " 'sertanejo',\n",
       " 'shoegazing',\n",
       " 'showtunes',\n",
       " 'singer',\n",
       " 'ska',\n",
       " 'slow',\n",
       " 'smooth',\n",
       " 'soul',\n",
       " 'soulful',\n",
       " 'sound',\n",
       " 'soundtrack',\n",
       " 'southern',\n",
       " 'specialty',\n",
       " 'speech',\n",
       " 'spiritual',\n",
       " 'sport',\n",
       " 'stonerrock',\n",
       " 'surf',\n",
       " 'swing',\n",
       " 'synthpop',\n",
       " 'sängerportrait',\n",
       " 'tango',\n",
       " 'tanzorchester',\n",
       " 'taraftar',\n",
       " 'tech',\n",
       " 'techno',\n",
       " 'thrash',\n",
       " 'top',\n",
       " 'traditional',\n",
       " 'tradjazz',\n",
       " 'trance',\n",
       " 'tribal',\n",
       " 'trip',\n",
       " 'triphop',\n",
       " 'tropical',\n",
       " 'türk',\n",
       " 'türkçe',\n",
       " 'unknown',\n",
       " 'urban',\n",
       " 'uzbek',\n",
       " 'variété',\n",
       " 'vi',\n",
       " 'videogame',\n",
       " 'vocal',\n",
       " 'western',\n",
       " 'world',\n",
       " 'worldbeat',\n",
       " 'ïîï']"
      ]
     },
     "execution_count": 16,
     "metadata": {},
     "output_type": "execute_result"
    }
   ],
   "source": [
    "# Inspeccionar los nombres de géneros únicos\n",
    "\n",
    "sorted(df['genre'].unique())\n"
   ]
  },
  {
   "cell_type": "markdown",
   "metadata": {
    "id": "qej-Qmuo_Zct"
   },
   "source": [
    "Busca en la lista para encontrar duplicados implícitos del género `hiphop`. Estos pueden ser nombres escritos incorrectamente o nombres alternativos para el mismo género.\n",
    "\n",
    "Verás los siguientes duplicados implícitos:\n",
    "* `hip`\n",
    "* `hop`\n",
    "* `hip-hop`\n",
    "\n",
    "Para deshacerte de ellos, crea una función llamada `replace_wrong_genres()` con dos parámetros:\n",
    "* `wrong_genres=`: esta es una lista que contiene todos los valores que necesitas reemplazar.\n",
    "* `correct_genre=`: este es un string que vas a utilizar como reemplazo.\n",
    "\n",
    "Como resultado, la función debería corregir los nombres en la columna `'genre'` de la tabla `df`, es decir, remplazar cada valor de la lista `wrong_genres` por el valor en `correct_genre`.\n",
    "\n",
    "Dentro del cuerpo de la función, utiliza un bucle `'for'` para iterar sobre la lista de géneros incorrectos, extrae la columna `'genre'` y aplica el método `replace` para hacer correcciones."
   ]
  },
  {
   "cell_type": "code",
   "execution_count": 17,
   "metadata": {
    "id": "ErNDkmns_Zct",
    "trusted": true
   },
   "outputs": [],
   "source": [
    "# Función para reemplazar duplicados implícitos\n",
    "def replace_wrong_genres(df, genre_column, wrong_genres, correct_genre):\n",
    "    df_copy = df.copy()\n",
    "    for wrong_genre in wrong_genres:\n",
    "        df_copy[genre_column] = df_copy[genre_column].replace({wrong_genre: correct_genre})\n",
    "    \n",
    "    return df_copy"
   ]
  },
  {
   "cell_type": "markdown",
   "metadata": {
    "id": "aDoBJxbA_Zct"
   },
   "source": [
    "Ahora, llama a `replace_wrong_genres()` y pásale tales argumentos para que retire los duplicados implícitos (`hip`, `hop` y `hip-hop`) y los reemplace por `hiphop`:"
   ]
  },
  {
   "cell_type": "code",
   "execution_count": 18,
   "metadata": {
    "id": "YN5i2hpmSo09",
    "scrolled": true,
    "trusted": true
   },
   "outputs": [],
   "source": [
    "# Eliminar duplicados implícitos\n",
    "generos_a_corregir =  ['hip', 'hop', 'hip-hop']\n",
    "df_cleanned = replace_wrong_genres(df, 'genre', generos_a_corregir, 'hiphop')"
   ]
  },
  {
   "cell_type": "markdown",
   "metadata": {
    "id": "zQKF16_RG15m"
   },
   "source": [
    "Asegúrate de que los nombres duplicados han sido eliminados. Muestra la lista de valores únicos de la columna `'genre'` una vez más:"
   ]
  },
  {
   "cell_type": "code",
   "execution_count": 19,
   "metadata": {
    "id": "wvixALnFG15m",
    "trusted": true
   },
   "outputs": [
    {
     "name": "stdout",
     "output_type": "stream",
     "text": [
      "['acid', 'acoustic', 'action', 'adult', 'africa', 'afrikaans', 'alternative', 'ambient', 'americana', 'animated', 'anime', 'arabesk', 'arabic', 'arena', 'argentinetango', 'art', 'audiobook', 'avantgarde', 'axé', 'baile', 'balkan', 'beats', 'bigroom', 'black', 'bluegrass', 'blues', 'bollywood', 'bossa', 'brazilian', 'breakbeat', 'breaks', 'broadway', 'cantautori', 'cantopop', 'canzone', 'caribbean', 'caucasian', 'celtic', 'chamber', 'children', 'chill', 'chinese', 'choral', 'christian', 'christmas', 'classical', 'classicmetal', 'club', 'colombian', 'comedy', 'conjazz', 'contemporary', 'country', 'cuban', 'dance', 'dancehall', 'dancepop', 'dark', 'death', 'deep', 'deutschrock', 'deutschspr', 'dirty', 'disco', 'dnb', 'documentary', 'downbeat', 'downtempo', 'drum', 'dub', 'dubstep', 'eastern', 'easy', 'electronic', 'electropop', 'emo', 'entehno', 'epicmetal', 'estrada', 'ethnic', 'eurofolk', 'european', 'experimental', 'extrememetal', 'fado', 'film', 'fitness', 'flamenco', 'folk', 'folklore', 'folkmetal', 'folkrock', 'folktronica', 'forró', 'frankreich', 'französisch', 'french', 'funk', 'future', 'gangsta', 'garage', 'german', 'ghazal', 'gitarre', 'glitch', 'gospel', 'gothic', 'grime', 'grunge', 'gypsy', 'handsup', \"hard'n'heavy\", 'hardcore', 'hardstyle', 'hardtechno', 'hiphop', 'historisch', 'holiday', 'horror', 'house', 'idm', 'independent', 'indian', 'indie', 'indipop', 'industrial', 'inspirational', 'instrumental', 'international', 'irish', 'jam', 'japanese', 'jazz', 'jewish', 'jpop', 'jungle', 'k-pop', 'karadeniz', 'karaoke', 'kayokyoku', 'korean', 'laiko', 'latin', 'latino', 'leftfield', 'local', 'lounge', 'loungeelectronic', 'lovers', 'malaysian', 'mandopop', 'marschmusik', 'meditative', 'mediterranean', 'melodic', 'metal', 'metalcore', 'mexican', 'middle', 'minimal', 'miscellaneous', 'modern', 'mood', 'mpb', 'muslim', 'native', 'neoklassik', 'neue', 'new', 'newage', 'newwave', 'nu', 'nujazz', 'numetal', 'oceania', 'old', 'opera', 'orchestral', 'other', 'piano', 'pop', 'popelectronic', 'popeurodance', 'post', 'posthardcore', 'postrock', 'power', 'progmetal', 'progressive', 'psychedelic', 'punjabi', 'punk', 'quebecois', 'ragga', 'ram', 'rancheras', 'rap', 'rave', 'reggae', 'reggaeton', 'regional', 'relax', 'religious', 'retro', 'rhythm', 'rnb', 'rnr', 'rock', 'rockabilly', 'romance', 'roots', 'ruspop', 'rusrap', 'rusrock', 'salsa', 'samba', 'schlager', 'self', 'sertanejo', 'shoegazing', 'showtunes', 'singer', 'ska', 'slow', 'smooth', 'soul', 'soulful', 'sound', 'soundtrack', 'southern', 'specialty', 'speech', 'spiritual', 'sport', 'stonerrock', 'surf', 'swing', 'synthpop', 'sängerportrait', 'tango', 'tanzorchester', 'taraftar', 'tech', 'techno', 'thrash', 'top', 'traditional', 'tradjazz', 'trance', 'tribal', 'trip', 'triphop', 'tropical', 'türk', 'türkçe', 'unknown', 'urban', 'uzbek', 'variété', 'vi', 'videogame', 'vocal', 'western', 'world', 'worldbeat', 'ïîï']\n"
     ]
    }
   ],
   "source": [
    "# Comprobación de duplicados implícitos\n",
    "print(sorted(df_cleanned['genre'].unique()))\n"
   ]
  },
  {
   "cell_type": "markdown",
   "metadata": {
    "id": "ALgNbvF3VtPA"
   },
   "source": [
    "[Volver a Contenidos](#back)"
   ]
  },
  {
   "cell_type": "markdown",
   "metadata": {
    "id": "jz6a9-7HQUDd"
   },
   "source": [
    "### Tus observaciones <a id='data_preprocessing_conclusions'></a>\n",
    "\n",
    "`Describe brevemente lo que has notado al analizar duplicados, cómo abordaste sus eliminaciones y qué resultados obtuviste.`\n",
    "\n",
    "\n",
    "Se notó que este archivo contenía muchos valores duplicados, tanto explícitos como implícitos, los cuales, antes de continuar con el análisis, tuvieron que ser corregidos mediante el uso de funciones como .duplicated(), .sum(), .unique() y sorted en el caso de los implícitos, y aplicando una función def con el uso de los implícitos, y de este modo, en ambos casos pudieran ser corregidos y continuar con el análisis."
   ]
  },
  {
   "cell_type": "markdown",
   "metadata": {
    "id": "eK1es74rVujj"
   },
   "source": [
    "[Volver a Contenidos](#back)"
   ]
  },
  {
   "cell_type": "markdown",
   "metadata": {
    "id": "WttZHXH0SqKk"
   },
   "source": [
    "## Etapa 3. Prueba de hipótesis <a id='hypothesis'></a>"
   ]
  },
  {
   "cell_type": "markdown",
   "metadata": {
    "id": "Im936VVi_Zcu"
   },
   "source": [
    "### Hipótesis: comparar el comportamiento del usuario o la usuaria en las dos ciudades <a id='activity'></a>"
   ]
  },
  {
   "cell_type": "markdown",
   "metadata": {
    "id": "nwt_MuaL_Zcu"
   },
   "source": [
    "La hipótesis afirma que existen diferencias en la forma en que los usuarios y las usuarias de Springfield y Shelbyville consumen música. Para comprobar esto, usa los datos de tres días de la semana: lunes, miércoles y viernes.\n",
    "\n",
    "* Agrupa a los usuarios y las usuarias por ciudad.\n",
    "* Compara el número de canciones que cada grupo reprodujo el lunes, el miércoles y el viernes.\n"
   ]
  },
  {
   "cell_type": "markdown",
   "metadata": {
    "id": "8Dw_YMmT_Zcu"
   },
   "source": [
    "Realiza cada cálculo por separado.\n",
    "\n",
    "El primer paso es evaluar la actividad del usuario en cada ciudad. Recuerda las etapas dividir-aplicar-combinar de las que hablamos anteriormente en la lección. Tu objetivo ahora es agrupar los datos por ciudad, aplicar el método apropiado para contar durante la etapa de aplicación y luego encontrar la cantidad de canciones reproducidas en cada grupo especificando la columna para obtener el recuento.\n",
    "\n",
    "A continuación se muestra un ejemplo de cómo debería verse el resultado final:\n",
    "`df.groupby(by='....')['column'].method()`Realiza cada cálculo por separado.\n",
    "\n",
    "Para evaluar la actividad de los usuarios y las usuarias en cada ciudad, agrupa los datos por ciudad y encuentra la cantidad de canciones reproducidas en cada grupo.\n",
    "\n"
   ]
  },
  {
   "cell_type": "code",
   "execution_count": 20,
   "metadata": {
    "id": "0_Qs96oh_Zcu",
    "trusted": true
   },
   "outputs": [
    {
     "data": {
      "text/plain": [
       "city\n",
       "Shelbyville    18512\n",
       "Springfield    42741\n",
       "Name: track, dtype: int64"
      ]
     },
     "execution_count": 20,
     "metadata": {},
     "output_type": "execute_result"
    }
   ],
   "source": [
    "# Contar las canciones reproducidas en cada ciudad\n",
    "\n",
    "df_cleanned.groupby(by='city')['track'].count()"
   ]
  },
  {
   "cell_type": "markdown",
   "metadata": {
    "id": "t_Qx-3NewAnK"
   },
   "source": [
    "`Comenta tus observaciones aquí`"
   ]
  },
  {
   "cell_type": "markdown",
   "metadata": {
    "id": "dzli3w8o_Zcu"
   },
   "source": [
    "Ahora agrupemos los datos por día de la semana y encontremos el número de canciones reproducidas el lunes, miércoles y viernes. Utiliza el mismo método que antes, pero ahora necesitamos una agrupación diferente.\n"
   ]
  },
  {
   "cell_type": "code",
   "execution_count": 21,
   "metadata": {
    "id": "uZMKjiJz_Zcu",
    "trusted": true
   },
   "outputs": [
    {
     "name": "stdout",
     "output_type": "stream",
     "text": [
      "day\n",
      "Friday       21840\n",
      "Monday       21354\n",
      "Wednesday    18059\n",
      "Name: track, dtype: int64\n"
     ]
    }
   ],
   "source": [
    "# Calcular las canciones reproducidas en cada uno de los tres días\n",
    "\n",
    "print(df.groupby(by='day')['track'].count())\n"
   ]
  },
  {
   "cell_type": "markdown",
   "metadata": {
    "id": "cC2tNrlL_Zcu"
   },
   "source": [
    "`Comenta tus observaciones aquí`\n",
    "\n",
    "Al hacer el análisis, se identificó que hay una diferencia importante entre las ciudades Shelbyville y Springfield, siendo Springfield la ciudad en la que más canciones se reproducen, con una diferencia de más de 20 mil reproducciones entre ambas ciudades. Además, se identificó que el día de la semana influye en el total de las reproducciones, siendo el día miércoles el que menos reproducciones tienen los usuarios y el día viernes el que más reproducciones se registran."
   ]
  },
  {
   "cell_type": "markdown",
   "metadata": {
    "id": "POzs8bGa_Zcu"
   },
   "source": [
    "Ya sabes cómo contar entradas agrupándolas por ciudad o día. Ahora necesitas escribir una función que pueda contar entradas según ambos criterios simultáneamente.\n",
    "\n",
    "Crea la función `number_tracks()` para calcular el número de canciones reproducidas en un determinado día **y** ciudad. La función debe aceptar dos parámetros:\n",
    "\n",
    "- `day`: un día de la semana para filtrar. Por ejemplo, `'Monday'` (lunes).\n",
    "- `city`: una ciudad para filtrar. Por ejemplo, `'Springfield'`.\n",
    "\n",
    "Dentro de la función, aplicarás un filtrado consecutivo con indexación lógica.\n",
    "\n",
    "Primero filtra los datos por día y luego filtra la tabla resultante por ciudad.\n",
    "\n",
    "Después de filtrar los datos por dos criterios, cuenta el número de valores de la columna 'user_id' en la tabla resultante. Este recuento representa el número de entradas que estás buscando. Guarda el resultado en una nueva variable y devuélvelo desde la función."
   ]
  },
  {
   "cell_type": "code",
   "execution_count": 22,
   "metadata": {
    "id": "Nz3GdQB1_Zcu",
    "trusted": true
   },
   "outputs": [],
   "source": [
    "# Declara la función number_tracks() con dos parámetros: day= y city=.\n",
    "\n",
    "def number_tracks(df, day, city):\n",
    "\n",
    "    # Almacena las filas del DataFrame donde el valor en la columna 'day' es igual al parámetro day=\n",
    "    \n",
    "    filtered_by_day = df[df['day'] == day]\n",
    "\n",
    "    # Filtra las filas donde el valor en la columna 'city' es igual al parámetro city=\n",
    "    \n",
    "    filtered_by_day_city = filtered_by_day[filtered_by_day['city'] == city]\n",
    "\n",
    "    # Extrae la columna 'user_id' de la tabla filtrada y aplica el método count()\n",
    "    \n",
    "    track_count = filtered_by_day_city['user_id'].count()\n",
    "\n",
    "    # Devolve el número de valores de la columna 'user_id'\n",
    "    \n",
    "    return track_count\n",
    "\n"
   ]
  },
  {
   "cell_type": "markdown",
   "metadata": {
    "id": "ytf7xFrFJQ2r"
   },
   "source": [
    "Llama a `number_tracks()` seis veces, cambiando los valores de los parámetros para que recuperes los datos de ambas ciudades para cada uno de los tres días."
   ]
  },
  {
   "cell_type": "code",
   "execution_count": 23,
   "metadata": {
    "id": "rJcRATNQ_Zcu",
    "trusted": true
   },
   "outputs": [
    {
     "data": {
      "text/plain": [
       "15740"
      ]
     },
     "execution_count": 23,
     "metadata": {},
     "output_type": "execute_result"
    }
   ],
   "source": [
    "# El número de canciones reproducidas en Springfield el lunes\n",
    "number_tracks(df_cleanned, 'Monday', 'Springfield')"
   ]
  },
  {
   "cell_type": "code",
   "execution_count": 24,
   "metadata": {
    "id": "hq_ncZ5T_Zcu",
    "trusted": true
   },
   "outputs": [
    {
     "data": {
      "text/plain": [
       "5614"
      ]
     },
     "execution_count": 24,
     "metadata": {},
     "output_type": "execute_result"
    }
   ],
   "source": [
    "# El número de canciones reproducidas en Shelbyville el lunes\n",
    "number_tracks(df_cleanned, 'Monday', 'Shelbyville')\n"
   ]
  },
  {
   "cell_type": "code",
   "execution_count": 25,
   "metadata": {
    "id": "_NTy2VPU_Zcu",
    "trusted": true
   },
   "outputs": [
    {
     "data": {
      "text/plain": [
       "11056"
      ]
     },
     "execution_count": 25,
     "metadata": {},
     "output_type": "execute_result"
    }
   ],
   "source": [
    "# El número de canciones reproducidas en Springfield el miércoles\n",
    "number_tracks(df_cleanned, 'Wednesday', 'Springfield')\n",
    "\n"
   ]
  },
  {
   "cell_type": "code",
   "execution_count": 26,
   "metadata": {
    "id": "j2y3TAwo_Zcu",
    "trusted": true
   },
   "outputs": [
    {
     "data": {
      "text/plain": [
       "7003"
      ]
     },
     "execution_count": 26,
     "metadata": {},
     "output_type": "execute_result"
    }
   ],
   "source": [
    "# El número de canciones reproducidas en Shelbyville el miércoles\n",
    "number_tracks(df_cleanned, 'Wednesday', 'Shelbyville')\n",
    "\n",
    "\n"
   ]
  },
  {
   "cell_type": "code",
   "execution_count": 27,
   "metadata": {
    "id": "vYDw5u_K_Zcu",
    "trusted": true
   },
   "outputs": [
    {
     "data": {
      "text/plain": [
       "15945"
      ]
     },
     "execution_count": 27,
     "metadata": {},
     "output_type": "execute_result"
    }
   ],
   "source": [
    "# El número de canciones reproducidas en Springfield el viernes\n",
    "\n",
    "number_tracks(df_cleanned, 'Friday', 'Springfield')\n"
   ]
  },
  {
   "cell_type": "code",
   "execution_count": 28,
   "metadata": {
    "id": "8_yzFtW3_Zcu",
    "trusted": true
   },
   "outputs": [
    {
     "data": {
      "text/plain": [
       "5895"
      ]
     },
     "execution_count": 28,
     "metadata": {},
     "output_type": "execute_result"
    }
   ],
   "source": [
    "# El número de canciones reproducidas en Shelbyville el viernes\n",
    "\n",
    "number_tracks(df_cleanned, 'Friday', 'Shelbyville')\n"
   ]
  },
  {
   "cell_type": "markdown",
   "metadata": {
    "id": "-EgPIHYu_Zcu"
   },
   "source": [
    "**Conclusiones**\n",
    "\n",
    "`Comenta si la hipótesis es correcta o se debe rechazar. Explica tu razonamiento.`\n",
    "\n",
    "Después de haber llevado a cabo el análisis, se puede llegar a la conclusión de que la hipótesis central es correcta, ya que el número de reproducciones cambia dependiendo del día y la ciudad, teniendo datos con diferencias significativas entre ambas ciudades. En Springfield, por ejemplo, el día con más reproducciones es el día viernes, con un total de 15,945 reproducciones, mientras que en Shelbyville es el día miércoles, con un total de 7,003.\n",
    "\n"
   ]
  },
  {
   "cell_type": "markdown",
   "metadata": {
    "id": "p7nFQajCVw5B"
   },
   "source": [
    "[Volver a Contenidos](#back)"
   ]
  },
  {
   "cell_type": "markdown",
   "metadata": {
    "id": "ykKQ0N65_Zcv"
   },
   "source": [
    "# Conclusiones <a id='end'></a>"
   ]
  },
  {
   "cell_type": "markdown",
   "metadata": {
    "id": "tjUwbHb3_Zcv"
   },
   "source": [
    "`Resume aquí tus conclusiones sobre la hipótesis.`\n",
    "\n",
    "Como se mencionó anteriormente, la hipótesis planteada es correcta, ya que varía el número de reproducciones dependiendo del día y la ciudad. Sin embargo, solo fue un documento el que se analizó. Considero que, para tener un análisis más profundo, se podrían analizar los días restantes, como lo son martes, jueves y sábado, así como analizar en diferentes períodos de tiempo para verificar si la hipótesis permanece constante en todo momento o cambia. De este modo, se tendría más certeza de que la hipótesis establecida y comprobada siempre se mantiene de la misma manera o cambia en ciertos períodos de tiempo."
   ]
  },
  {
   "cell_type": "markdown",
   "metadata": {
    "id": "Ju4AHDSgV1FE"
   },
   "source": [
    "[Volver a Contenidos](#back)"
   ]
  }
 ],
 "metadata": {
  "ExecuteTimeLog": [
   {
    "duration": 154,
    "start_time": "2025-01-15T04:04:04.865Z"
   },
   {
    "duration": 10,
    "start_time": "2025-01-15T04:04:55.699Z"
   },
   {
    "duration": 4,
    "start_time": "2025-01-15T04:05:19.618Z"
   },
   {
    "duration": 11,
    "start_time": "2025-01-15T04:06:10.511Z"
   },
   {
    "duration": 12,
    "start_time": "2025-01-15T04:06:56.956Z"
   },
   {
    "duration": 10,
    "start_time": "2025-01-15T04:08:06.567Z"
   },
   {
    "duration": 13,
    "start_time": "2025-01-15T04:10:29.810Z"
   },
   {
    "duration": 657,
    "start_time": "2025-01-15T04:11:12.878Z"
   },
   {
    "duration": 109,
    "start_time": "2025-01-15T04:15:04.517Z"
   },
   {
    "duration": 93,
    "start_time": "2025-01-15T04:15:16.701Z"
   },
   {
    "duration": 102,
    "start_time": "2025-01-15T04:15:31.983Z"
   },
   {
    "duration": 6,
    "start_time": "2025-01-15T04:16:03.205Z"
   },
   {
    "duration": 12,
    "start_time": "2025-01-15T04:18:36.442Z"
   },
   {
    "duration": 117,
    "start_time": "2025-01-15T04:19:10.748Z"
   },
   {
    "duration": 92,
    "start_time": "2025-01-15T04:19:47.295Z"
   },
   {
    "duration": 13,
    "start_time": "2025-01-15T04:31:49.540Z"
   },
   {
    "duration": 12,
    "start_time": "2025-01-15T04:34:13.141Z"
   },
   {
    "duration": 2,
    "start_time": "2025-01-15T04:34:41.520Z"
   },
   {
    "duration": 2,
    "start_time": "2025-01-15T04:34:47.618Z"
   },
   {
    "duration": 3,
    "start_time": "2025-01-15T04:37:10.336Z"
   },
   {
    "duration": 12,
    "start_time": "2025-01-15T04:41:01.024Z"
   },
   {
    "duration": 16,
    "start_time": "2025-01-15T04:41:34.451Z"
   },
   {
    "duration": 12,
    "start_time": "2025-01-15T04:41:48.771Z"
   },
   {
    "duration": 12,
    "start_time": "2025-01-15T04:42:32.981Z"
   },
   {
    "duration": 11,
    "start_time": "2025-01-15T04:44:06.476Z"
   },
   {
    "duration": 12,
    "start_time": "2025-01-15T04:44:55.393Z"
   },
   {
    "duration": 12,
    "start_time": "2025-01-15T04:45:06.974Z"
   },
   {
    "duration": 11,
    "start_time": "2025-01-15T04:46:05.948Z"
   },
   {
    "duration": 5,
    "start_time": "2025-01-15T04:46:15.971Z"
   },
   {
    "duration": 3,
    "start_time": "2025-01-15T04:46:37.222Z"
   },
   {
    "duration": 3,
    "start_time": "2025-01-15T04:46:46.721Z"
   },
   {
    "duration": 4,
    "start_time": "2025-01-15T04:46:55.928Z"
   },
   {
    "duration": 13,
    "start_time": "2025-01-15T04:47:03.354Z"
   },
   {
    "duration": 3,
    "start_time": "2025-01-15T04:47:47.891Z"
   },
   {
    "duration": 445,
    "start_time": "2025-01-15T04:48:21.414Z"
   },
   {
    "duration": 40,
    "start_time": "2025-01-15T04:48:40.639Z"
   },
   {
    "duration": 39,
    "start_time": "2025-01-15T04:49:08.325Z"
   },
   {
    "duration": 39,
    "start_time": "2025-01-15T04:49:27.435Z"
   },
   {
    "duration": 41,
    "start_time": "2025-01-15T04:49:43.172Z"
   },
   {
    "duration": 40,
    "start_time": "2025-01-15T04:50:06.462Z"
   },
   {
    "duration": 42,
    "start_time": "2025-01-15T04:50:53.872Z"
   },
   {
    "duration": 42,
    "start_time": "2025-01-15T04:52:54.462Z"
   },
   {
    "duration": 40,
    "start_time": "2025-01-15T04:55:18.873Z"
   },
   {
    "duration": 18,
    "start_time": "2025-01-15T04:56:32.791Z"
   },
   {
    "duration": 3,
    "start_time": "2025-01-15T05:04:03.266Z"
   },
   {
    "duration": 3,
    "start_time": "2025-01-15T05:05:44.178Z"
   },
   {
    "duration": 15,
    "start_time": "2025-01-15T05:06:35.855Z"
   },
   {
    "duration": 4,
    "start_time": "2025-01-15T05:07:02.744Z"
   },
   {
    "duration": 289,
    "start_time": "2025-01-15T05:07:10.153Z"
   },
   {
    "duration": 13,
    "start_time": "2025-01-15T05:07:26.047Z"
   },
   {
    "duration": 10,
    "start_time": "2025-01-15T05:07:29.821Z"
   },
   {
    "duration": 18,
    "start_time": "2025-01-15T05:08:21.116Z"
   },
   {
    "duration": 41,
    "start_time": "2025-01-15T05:12:45.509Z"
   },
   {
    "duration": 3,
    "start_time": "2025-01-15T05:15:40.018Z"
   },
   {
    "duration": 41,
    "start_time": "2025-01-15T05:15:46.631Z"
   },
   {
    "duration": 41,
    "start_time": "2025-01-15T05:16:21.978Z"
   },
   {
    "duration": 49,
    "start_time": "2025-01-15T05:16:27.484Z"
   },
   {
    "duration": 42,
    "start_time": "2025-01-15T05:16:38.341Z"
   },
   {
    "duration": 42,
    "start_time": "2025-01-15T05:17:33.813Z"
   },
   {
    "duration": 52,
    "start_time": "2025-01-15T05:18:29.639Z"
   },
   {
    "duration": 44,
    "start_time": "2025-01-15T05:18:48.797Z"
   },
   {
    "duration": 41,
    "start_time": "2025-01-15T05:19:12.337Z"
   },
   {
    "duration": 4,
    "start_time": "2025-01-15T05:20:27.644Z"
   },
   {
    "duration": 15,
    "start_time": "2025-01-15T05:22:28.178Z"
   },
   {
    "duration": 3,
    "start_time": "2025-01-15T05:22:35.987Z"
   },
   {
    "duration": 4,
    "start_time": "2025-01-15T05:22:47.846Z"
   },
   {
    "duration": 3,
    "start_time": "2025-01-15T05:31:24.832Z"
   },
   {
    "duration": 3,
    "start_time": "2025-01-15T05:31:29.054Z"
   },
   {
    "duration": 12,
    "start_time": "2025-01-15T05:37:26.453Z"
   },
   {
    "duration": 12,
    "start_time": "2025-01-15T05:38:18.682Z"
   },
   {
    "duration": 13,
    "start_time": "2025-01-15T05:39:14.429Z"
   },
   {
    "duration": 13,
    "start_time": "2025-01-15T05:40:22.048Z"
   },
   {
    "duration": 14,
    "start_time": "2025-01-15T05:41:17.462Z"
   },
   {
    "duration": 160,
    "start_time": "2025-01-16T00:18:10.834Z"
   },
   {
    "duration": 16,
    "start_time": "2025-01-16T00:24:16.557Z"
   },
   {
    "duration": 579,
    "start_time": "2025-01-16T00:25:01.078Z"
   },
   {
    "duration": 435,
    "start_time": "2025-01-16T00:42:06.601Z"
   },
   {
    "duration": 127,
    "start_time": "2025-01-16T00:43:05.107Z"
   },
   {
    "duration": 127,
    "start_time": "2025-01-16T00:43:56.123Z"
   },
   {
    "duration": 165,
    "start_time": "2025-01-16T00:49:31.252Z"
   },
   {
    "duration": 114,
    "start_time": "2025-01-16T00:55:08.282Z"
   },
   {
    "duration": 127,
    "start_time": "2025-01-16T00:55:22.891Z"
   },
   {
    "duration": 162,
    "start_time": "2025-01-16T02:56:50.590Z"
   },
   {
    "duration": 6,
    "start_time": "2025-01-16T02:57:09.601Z"
   },
   {
    "duration": 4,
    "start_time": "2025-01-16T02:57:36.776Z"
   },
   {
    "duration": 4,
    "start_time": "2025-01-16T02:57:46.915Z"
   },
   {
    "duration": 4,
    "start_time": "2025-01-16T02:58:40.968Z"
   },
   {
    "duration": 2,
    "start_time": "2025-01-16T02:58:45.921Z"
   },
   {
    "duration": 3,
    "start_time": "2025-01-16T02:58:56.944Z"
   },
   {
    "duration": 4,
    "start_time": "2025-01-16T02:59:06.244Z"
   },
   {
    "duration": 3,
    "start_time": "2025-01-16T03:00:36.250Z"
   },
   {
    "duration": 4,
    "start_time": "2025-01-16T03:01:41.713Z"
   },
   {
    "duration": 3,
    "start_time": "2025-01-16T03:01:45.289Z"
   },
   {
    "duration": 4,
    "start_time": "2025-01-16T03:01:50.741Z"
   },
   {
    "duration": 3,
    "start_time": "2025-01-16T03:02:18.855Z"
   },
   {
    "duration": 4,
    "start_time": "2025-01-16T03:02:21.781Z"
   },
   {
    "duration": 5,
    "start_time": "2025-01-16T03:03:22.872Z"
   },
   {
    "duration": 4,
    "start_time": "2025-01-16T03:03:26.706Z"
   },
   {
    "duration": 4,
    "start_time": "2025-01-16T03:04:29.815Z"
   },
   {
    "duration": 4,
    "start_time": "2025-01-16T03:06:30.639Z"
   },
   {
    "duration": 5,
    "start_time": "2025-01-16T03:06:33.800Z"
   },
   {
    "duration": 3,
    "start_time": "2025-01-16T03:06:48.467Z"
   },
   {
    "duration": 12,
    "start_time": "2025-01-16T03:06:59.721Z"
   },
   {
    "duration": 6,
    "start_time": "2025-01-16T03:07:46.266Z"
   },
   {
    "duration": 4,
    "start_time": "2025-01-16T03:08:25.845Z"
   },
   {
    "duration": 13,
    "start_time": "2025-01-16T03:08:32.083Z"
   },
   {
    "duration": 12,
    "start_time": "2025-01-16T03:10:37.615Z"
   },
   {
    "duration": 13,
    "start_time": "2025-01-16T03:11:32.286Z"
   },
   {
    "duration": 581,
    "start_time": "2025-01-16T03:12:23.277Z"
   },
   {
    "duration": 112,
    "start_time": "2025-01-16T03:13:03.679Z"
   },
   {
    "duration": 110,
    "start_time": "2025-01-16T03:13:11.286Z"
   },
   {
    "duration": 146,
    "start_time": "2025-01-16T03:13:50.789Z"
   },
   {
    "duration": 488,
    "start_time": "2025-01-16T03:15:12.578Z"
   },
   {
    "duration": 127,
    "start_time": "2025-01-16T03:16:20.149Z"
   },
   {
    "duration": 127,
    "start_time": "2025-01-16T03:16:36.479Z"
   },
   {
    "duration": 104,
    "start_time": "2025-01-16T03:16:44.993Z"
   },
   {
    "duration": 100,
    "start_time": "2025-01-16T03:16:54.236Z"
   },
   {
    "duration": 110,
    "start_time": "2025-01-16T03:17:18.573Z"
   },
   {
    "duration": 109,
    "start_time": "2025-01-16T03:17:39.167Z"
   },
   {
    "duration": 101,
    "start_time": "2025-01-16T03:18:43.161Z"
   },
   {
    "duration": 7,
    "start_time": "2025-01-16T03:26:32.497Z"
   },
   {
    "duration": 275,
    "start_time": "2025-01-16T03:26:42.562Z"
   },
   {
    "duration": 153,
    "start_time": "2025-01-16T03:28:56.973Z"
   },
   {
    "duration": 124,
    "start_time": "2025-01-16T03:29:21.369Z"
   },
   {
    "duration": 9,
    "start_time": "2025-01-16T03:31:59.187Z"
   },
   {
    "duration": 3,
    "start_time": "2025-01-16T03:32:15.602Z"
   },
   {
    "duration": 3,
    "start_time": "2025-01-16T03:32:44.981Z"
   },
   {
    "duration": 3,
    "start_time": "2025-01-16T03:33:03.373Z"
   },
   {
    "duration": 4,
    "start_time": "2025-01-16T03:33:19.953Z"
   },
   {
    "duration": 4,
    "start_time": "2025-01-16T03:33:56.591Z"
   },
   {
    "duration": 125,
    "start_time": "2025-01-16T03:34:41.617Z"
   },
   {
    "duration": 135,
    "start_time": "2025-01-16T03:35:02.029Z"
   },
   {
    "duration": 117,
    "start_time": "2025-01-16T03:35:34.445Z"
   },
   {
    "duration": 105,
    "start_time": "2025-01-16T03:35:52.228Z"
   },
   {
    "duration": 104,
    "start_time": "2025-01-16T03:36:00.990Z"
   },
   {
    "duration": 12,
    "start_time": "2025-01-16T03:37:42.682Z"
   },
   {
    "duration": 116,
    "start_time": "2025-01-16T03:39:40.388Z"
   },
   {
    "duration": 112,
    "start_time": "2025-01-16T03:40:03.326Z"
   },
   {
    "duration": 104,
    "start_time": "2025-01-16T03:40:11.775Z"
   },
   {
    "duration": 125,
    "start_time": "2025-01-16T03:40:37.280Z"
   },
   {
    "duration": 119,
    "start_time": "2025-01-16T03:40:54.720Z"
   },
   {
    "duration": 123,
    "start_time": "2025-01-16T03:41:14.059Z"
   },
   {
    "duration": 120,
    "start_time": "2025-01-16T03:41:29.242Z"
   },
   {
    "duration": 125,
    "start_time": "2025-01-16T03:41:41.369Z"
   },
   {
    "duration": 134,
    "start_time": "2025-01-16T03:41:54.761Z"
   },
   {
    "duration": 109,
    "start_time": "2025-01-16T03:42:28.437Z"
   },
   {
    "duration": 106,
    "start_time": "2025-01-16T03:42:35.776Z"
   },
   {
    "duration": 115,
    "start_time": "2025-01-16T03:43:28.108Z"
   },
   {
    "duration": 106,
    "start_time": "2025-01-16T03:43:41.177Z"
   },
   {
    "duration": 12,
    "start_time": "2025-01-16T03:54:15.548Z"
   },
   {
    "duration": 12,
    "start_time": "2025-01-16T03:54:38.870Z"
   },
   {
    "duration": 12,
    "start_time": "2025-01-16T03:55:22.293Z"
   },
   {
    "duration": 13,
    "start_time": "2025-01-16T03:56:10.848Z"
   },
   {
    "duration": 13,
    "start_time": "2025-01-16T03:56:21.938Z"
   },
   {
    "duration": 12,
    "start_time": "2025-01-16T03:57:13.808Z"
   },
   {
    "duration": 17,
    "start_time": "2025-01-16T03:58:00.527Z"
   },
   {
    "duration": 3,
    "start_time": "2025-01-16T03:58:37.302Z"
   },
   {
    "duration": 127,
    "start_time": "2025-01-16T04:00:05.498Z"
   },
   {
    "duration": 2910,
    "start_time": "2025-01-16T04:04:06.730Z"
   },
   {
    "duration": 2740,
    "start_time": "2025-01-16T04:04:41.418Z"
   },
   {
    "duration": 5,
    "start_time": "2025-01-16T04:05:06.104Z"
   },
   {
    "duration": 2771,
    "start_time": "2025-01-16T04:05:24.884Z"
   },
   {
    "duration": 2758,
    "start_time": "2025-01-16T04:05:28.061Z"
   },
   {
    "duration": 125,
    "start_time": "2025-01-16T04:06:01.214Z"
   },
   {
    "duration": 2888,
    "start_time": "2025-01-16T04:06:14.825Z"
   },
   {
    "duration": 2832,
    "start_time": "2025-01-16T04:09:22.285Z"
   },
   {
    "duration": 24,
    "start_time": "2025-01-16T04:12:25.827Z"
   },
   {
    "duration": 22,
    "start_time": "2025-01-16T04:12:50.979Z"
   },
   {
    "duration": 23,
    "start_time": "2025-01-16T04:13:26.091Z"
   },
   {
    "duration": 2644,
    "start_time": "2025-01-16T04:13:40.684Z"
   },
   {
    "duration": 2753,
    "start_time": "2025-01-16T04:13:43.818Z"
   },
   {
    "duration": 2888,
    "start_time": "2025-01-16T04:15:37.192Z"
   },
   {
    "duration": 2659,
    "start_time": "2025-01-16T04:16:12.322Z"
   },
   {
    "duration": 2723,
    "start_time": "2025-01-16T04:18:51.150Z"
   },
   {
    "duration": 90,
    "start_time": "2025-01-16T04:40:47.203Z"
   },
   {
    "duration": 104,
    "start_time": "2025-01-16T04:42:10.456Z"
   },
   {
    "duration": 103,
    "start_time": "2025-01-16T04:44:02.178Z"
   },
   {
    "duration": 14,
    "start_time": "2025-01-16T04:46:45.090Z"
   },
   {
    "duration": 12,
    "start_time": "2025-01-16T04:46:50.273Z"
   },
   {
    "duration": 14,
    "start_time": "2025-01-16T04:47:06.171Z"
   },
   {
    "duration": 3,
    "start_time": "2025-01-16T04:49:14.111Z"
   },
   {
    "duration": 15,
    "start_time": "2025-01-16T04:55:00.224Z"
   },
   {
    "duration": 106,
    "start_time": "2025-01-16T04:55:28.311Z"
   },
   {
    "duration": 101,
    "start_time": "2025-01-16T04:55:46.662Z"
   },
   {
    "duration": 94,
    "start_time": "2025-01-16T04:56:06.943Z"
   },
   {
    "duration": 2,
    "start_time": "2025-01-16T04:57:04.469Z"
   },
   {
    "duration": 5,
    "start_time": "2025-01-16T04:57:17.685Z"
   },
   {
    "duration": 4,
    "start_time": "2025-01-16T04:58:12.824Z"
   },
   {
    "duration": 98,
    "start_time": "2025-01-16T04:58:19.444Z"
   },
   {
    "duration": 4,
    "start_time": "2025-01-16T04:59:24.490Z"
   },
   {
    "duration": 4,
    "start_time": "2025-01-16T05:00:08.774Z"
   },
   {
    "duration": 4,
    "start_time": "2025-01-16T05:00:45.998Z"
   },
   {
    "duration": 16,
    "start_time": "2025-01-16T05:05:17.204Z"
   },
   {
    "duration": 4,
    "start_time": "2025-01-16T05:05:41.480Z"
   },
   {
    "duration": 4,
    "start_time": "2025-01-16T05:06:26.030Z"
   },
   {
    "duration": 97,
    "start_time": "2025-01-16T05:14:23.639Z"
   },
   {
    "duration": 12,
    "start_time": "2025-01-16T05:14:26.987Z"
   },
   {
    "duration": 4,
    "start_time": "2025-01-16T05:14:43.993Z"
   },
   {
    "duration": 15,
    "start_time": "2025-01-16T05:15:01.489Z"
   },
   {
    "duration": 3,
    "start_time": "2025-01-16T05:15:17.441Z"
   },
   {
    "duration": 12,
    "start_time": "2025-01-16T05:15:44.267Z"
   },
   {
    "duration": 3,
    "start_time": "2025-01-16T05:15:50.921Z"
   },
   {
    "duration": 3,
    "start_time": "2025-01-16T05:16:08.481Z"
   },
   {
    "duration": 11,
    "start_time": "2025-01-16T05:16:11.920Z"
   },
   {
    "duration": 3,
    "start_time": "2025-01-16T05:20:22.573Z"
   },
   {
    "duration": 4,
    "start_time": "2025-01-16T05:20:53.552Z"
   },
   {
    "duration": 5,
    "start_time": "2025-01-16T05:21:47.136Z"
   },
   {
    "duration": 10,
    "start_time": "2025-01-16T05:22:30.839Z"
   },
   {
    "duration": 9,
    "start_time": "2025-01-16T05:23:36.360Z"
   },
   {
    "duration": 9,
    "start_time": "2025-01-16T05:25:27.029Z"
   },
   {
    "duration": 10,
    "start_time": "2025-01-16T05:25:39.196Z"
   },
   {
    "duration": 10,
    "start_time": "2025-01-16T05:29:20.104Z"
   },
   {
    "duration": 5,
    "start_time": "2025-01-16T19:43:48.205Z"
   },
   {
    "duration": 177,
    "start_time": "2025-01-16T19:46:14.148Z"
   },
   {
    "duration": 7,
    "start_time": "2025-01-16T19:46:44.469Z"
   },
   {
    "duration": 5,
    "start_time": "2025-01-16T19:57:14.243Z"
   },
   {
    "duration": 3,
    "start_time": "2025-01-16T19:58:48.097Z"
   },
   {
    "duration": 512,
    "start_time": "2025-01-16T20:02:33.512Z"
   },
   {
    "duration": 224,
    "start_time": "2025-01-16T20:03:14.629Z"
   },
   {
    "duration": 2766,
    "start_time": "2025-01-16T20:03:39.173Z"
   },
   {
    "duration": 3,
    "start_time": "2025-01-16T20:04:45.522Z"
   },
   {
    "duration": 5,
    "start_time": "2025-01-16T20:06:39.096Z"
   },
   {
    "duration": 3,
    "start_time": "2025-01-16T20:07:21.669Z"
   },
   {
    "duration": 5,
    "start_time": "2025-01-16T20:10:39.396Z"
   },
   {
    "duration": 3,
    "start_time": "2025-01-16T20:10:48.390Z"
   },
   {
    "duration": 13,
    "start_time": "2025-01-16T20:12:37.472Z"
   },
   {
    "duration": 13,
    "start_time": "2025-01-16T20:24:52.983Z"
   },
   {
    "duration": 12,
    "start_time": "2025-01-16T20:25:12.936Z"
   },
   {
    "duration": 12,
    "start_time": "2025-01-16T20:25:29.265Z"
   },
   {
    "duration": 200,
    "start_time": "2025-01-16T20:27:03.401Z"
   },
   {
    "duration": 47,
    "start_time": "2025-01-16T20:27:25.322Z"
   },
   {
    "duration": 45,
    "start_time": "2025-01-16T20:28:28.577Z"
   },
   {
    "duration": 44,
    "start_time": "2025-01-16T20:28:44.423Z"
   },
   {
    "duration": 60,
    "start_time": "2025-01-16T20:29:31.362Z"
   },
   {
    "duration": 3,
    "start_time": "2025-01-16T20:44:31.128Z"
   },
   {
    "duration": 3,
    "start_time": "2025-01-16T20:45:04.887Z"
   },
   {
    "duration": 3,
    "start_time": "2025-01-16T20:45:17.304Z"
   },
   {
    "duration": 4,
    "start_time": "2025-01-16T20:45:36.999Z"
   },
   {
    "duration": 4,
    "start_time": "2025-01-16T20:45:49.914Z"
   },
   {
    "duration": 45,
    "start_time": "2025-01-16T20:46:02.845Z"
   },
   {
    "duration": 5,
    "start_time": "2025-01-16T20:48:59.461Z"
   },
   {
    "duration": 5,
    "start_time": "2025-01-16T20:49:21.104Z"
   },
   {
    "duration": 4,
    "start_time": "2025-01-16T21:04:10.391Z"
   },
   {
    "duration": 58,
    "start_time": "2025-01-16T21:05:05.226Z"
   },
   {
    "duration": 47,
    "start_time": "2025-01-16T21:06:20.331Z"
   },
   {
    "duration": 51,
    "start_time": "2025-01-16T21:06:57.420Z"
   },
   {
    "duration": 48,
    "start_time": "2025-01-16T21:08:06.770Z"
   },
   {
    "duration": 45,
    "start_time": "2025-01-16T21:09:00.502Z"
   },
   {
    "duration": 48,
    "start_time": "2025-01-16T21:09:17.643Z"
   },
   {
    "duration": 51,
    "start_time": "2025-01-16T21:10:44.724Z"
   },
   {
    "duration": 14,
    "start_time": "2025-01-16T21:12:14.297Z"
   },
   {
    "duration": 101,
    "start_time": "2025-01-16T21:13:04.628Z"
   },
   {
    "duration": 113,
    "start_time": "2025-01-16T21:13:53.743Z"
   },
   {
    "duration": 107,
    "start_time": "2025-01-16T21:14:43.346Z"
   },
   {
    "duration": 108,
    "start_time": "2025-01-16T21:15:27.719Z"
   },
   {
    "duration": 4,
    "start_time": "2025-01-16T21:15:57.827Z"
   },
   {
    "duration": 116,
    "start_time": "2025-01-16T21:16:02.351Z"
   },
   {
    "duration": 3,
    "start_time": "2025-01-16T21:18:19.022Z"
   },
   {
    "duration": 5,
    "start_time": "2025-01-16T21:20:12.607Z"
   },
   {
    "duration": 160,
    "start_time": "2025-01-16T21:21:17.627Z"
   },
   {
    "duration": 16,
    "start_time": "2025-01-16T21:31:24.005Z"
   },
   {
    "duration": 4,
    "start_time": "2025-01-16T21:32:05.371Z"
   },
   {
    "duration": 4,
    "start_time": "2025-01-16T21:33:18.501Z"
   },
   {
    "duration": 3,
    "start_time": "2025-01-16T21:33:28.145Z"
   },
   {
    "duration": 2,
    "start_time": "2025-01-16T21:34:19.321Z"
   },
   {
    "duration": 4,
    "start_time": "2025-01-16T21:35:04.377Z"
   },
   {
    "duration": 3,
    "start_time": "2025-01-16T21:36:32.310Z"
   },
   {
    "duration": 15,
    "start_time": "2025-01-16T21:37:32.826Z"
   },
   {
    "duration": 4,
    "start_time": "2025-01-16T21:37:56.098Z"
   },
   {
    "duration": 4,
    "start_time": "2025-01-16T21:38:09.019Z"
   },
   {
    "duration": 6,
    "start_time": "2025-01-16T21:46:38.683Z"
   },
   {
    "duration": 189,
    "start_time": "2025-01-16T22:13:11.509Z"
   },
   {
    "duration": 13,
    "start_time": "2025-01-16T22:13:35.218Z"
   },
   {
    "duration": 12,
    "start_time": "2025-01-16T22:14:28.563Z"
   },
   {
    "duration": 11,
    "start_time": "2025-01-16T22:15:05.087Z"
   },
   {
    "duration": 11,
    "start_time": "2025-01-16T22:16:01.563Z"
   },
   {
    "duration": 11,
    "start_time": "2025-01-16T22:16:05.201Z"
   },
   {
    "duration": 13,
    "start_time": "2025-01-16T22:17:25.102Z"
   },
   {
    "duration": 29,
    "start_time": "2025-01-16T22:17:39.960Z"
   },
   {
    "duration": 13,
    "start_time": "2025-01-16T22:17:46.936Z"
   },
   {
    "duration": 7,
    "start_time": "2025-01-16T22:19:39.086Z"
   },
   {
    "duration": 3,
    "start_time": "2025-01-16T22:19:48.439Z"
   },
   {
    "duration": 12,
    "start_time": "2025-01-16T22:19:59.873Z"
   },
   {
    "duration": 4,
    "start_time": "2025-01-16T22:20:16.890Z"
   },
   {
    "duration": 12,
    "start_time": "2025-01-16T22:20:54.662Z"
   },
   {
    "duration": 14,
    "start_time": "2025-01-16T22:21:24.013Z"
   },
   {
    "duration": 5,
    "start_time": "2025-01-16T22:21:33.650Z"
   },
   {
    "duration": 11,
    "start_time": "2025-01-16T22:21:38.494Z"
   },
   {
    "duration": 12,
    "start_time": "2025-01-16T22:21:53.609Z"
   },
   {
    "duration": 11,
    "start_time": "2025-01-16T22:26:36.166Z"
   },
   {
    "duration": 420,
    "start_time": "2025-01-16T22:27:02.731Z"
   },
   {
    "duration": 3,
    "start_time": "2025-01-16T22:27:12.178Z"
   },
   {
    "duration": 42,
    "start_time": "2025-01-16T22:27:15.135Z"
   },
   {
    "duration": 3,
    "start_time": "2025-01-16T22:27:36.375Z"
   },
   {
    "duration": 4,
    "start_time": "2025-01-16T22:28:16.899Z"
   },
   {
    "duration": 4,
    "start_time": "2025-01-16T22:28:47.196Z"
   },
   {
    "duration": 5,
    "start_time": "2025-01-16T22:29:01.716Z"
   },
   {
    "duration": 3,
    "start_time": "2025-01-16T22:29:08.636Z"
   },
   {
    "duration": 12,
    "start_time": "2025-01-16T22:29:25.146Z"
   },
   {
    "duration": 13,
    "start_time": "2025-01-16T22:29:57.219Z"
   },
   {
    "duration": 100,
    "start_time": "2025-01-16T22:30:02.569Z"
   },
   {
    "duration": 3,
    "start_time": "2025-01-16T22:30:04.963Z"
   },
   {
    "duration": 13,
    "start_time": "2025-01-16T22:30:09.895Z"
   },
   {
    "duration": 13,
    "start_time": "2025-01-16T22:30:44.108Z"
   },
   {
    "duration": 14,
    "start_time": "2025-01-16T22:30:49.653Z"
   },
   {
    "duration": 13,
    "start_time": "2025-01-16T22:31:28.628Z"
   },
   {
    "duration": 419,
    "start_time": "2025-01-16T22:31:41.742Z"
   },
   {
    "duration": 3,
    "start_time": "2025-01-16T22:32:09.743Z"
   },
   {
    "duration": 35,
    "start_time": "2025-01-16T22:32:15.679Z"
   },
   {
    "duration": 38,
    "start_time": "2025-01-16T22:32:34.114Z"
   },
   {
    "duration": 3,
    "start_time": "2025-01-16T22:32:55.852Z"
   },
   {
    "duration": 32,
    "start_time": "2025-01-16T22:32:58.340Z"
   },
   {
    "duration": 33,
    "start_time": "2025-01-16T22:33:08.444Z"
   },
   {
    "duration": 21,
    "start_time": "2025-01-16T22:33:22.926Z"
   },
   {
    "duration": 3,
    "start_time": "2025-01-16T22:33:42.955Z"
   },
   {
    "duration": 2,
    "start_time": "2025-01-16T22:35:19.156Z"
   },
   {
    "duration": 3,
    "start_time": "2025-01-16T22:35:22.372Z"
   },
   {
    "duration": 13,
    "start_time": "2025-01-16T22:36:20.179Z"
   },
   {
    "duration": 12,
    "start_time": "2025-01-16T22:37:10.643Z"
   },
   {
    "duration": 97,
    "start_time": "2025-01-16T22:37:29.005Z"
   },
   {
    "duration": 2,
    "start_time": "2025-01-16T22:37:32.972Z"
   },
   {
    "duration": 29,
    "start_time": "2025-01-16T22:37:36.644Z"
   },
   {
    "duration": 3,
    "start_time": "2025-01-16T22:37:55.857Z"
   },
   {
    "duration": 104,
    "start_time": "2025-01-16T22:42:38.047Z"
   },
   {
    "duration": 6,
    "start_time": "2025-01-16T22:42:58.155Z"
   },
   {
    "duration": 4,
    "start_time": "2025-01-16T22:43:18.894Z"
   },
   {
    "duration": 176,
    "start_time": "2025-01-17T03:29:25.472Z"
   },
   {
    "duration": 12,
    "start_time": "2025-01-17T03:30:28.003Z"
   },
   {
    "duration": 14,
    "start_time": "2025-01-17T03:30:44.806Z"
   },
   {
    "duration": 390,
    "start_time": "2025-01-17T03:31:15.809Z"
   },
   {
    "duration": 3,
    "start_time": "2025-01-17T03:31:18.465Z"
   },
   {
    "duration": 3,
    "start_time": "2025-01-17T03:31:20.897Z"
   },
   {
    "duration": 3,
    "start_time": "2025-01-17T03:32:45.692Z"
   },
   {
    "duration": 36,
    "start_time": "2025-01-17T03:32:50.615Z"
   },
   {
    "duration": 14,
    "start_time": "2025-01-17T03:33:13.029Z"
   },
   {
    "duration": 11,
    "start_time": "2025-01-17T03:33:45.642Z"
   },
   {
    "duration": 13,
    "start_time": "2025-01-17T03:35:34.514Z"
   },
   {
    "duration": 9,
    "start_time": "2025-01-17T03:36:37.166Z"
   },
   {
    "duration": 7,
    "start_time": "2025-01-17T03:37:23.599Z"
   },
   {
    "duration": 8,
    "start_time": "2025-01-17T03:38:24.337Z"
   },
   {
    "duration": 8,
    "start_time": "2025-01-17T03:38:56.797Z"
   },
   {
    "duration": 12,
    "start_time": "2025-01-17T03:40:55.685Z"
   },
   {
    "duration": 7,
    "start_time": "2025-01-17T03:42:42.124Z"
   },
   {
    "duration": 17,
    "start_time": "2025-01-17T03:42:49.306Z"
   },
   {
    "duration": 18,
    "start_time": "2025-01-17T03:42:57.934Z"
   },
   {
    "duration": 17,
    "start_time": "2025-01-17T03:44:03.864Z"
   },
   {
    "duration": 13,
    "start_time": "2025-01-17T03:44:34.483Z"
   },
   {
    "duration": 13,
    "start_time": "2025-01-17T03:45:15.296Z"
   },
   {
    "duration": 12,
    "start_time": "2025-01-17T03:45:25.813Z"
   },
   {
    "duration": 12,
    "start_time": "2025-01-17T03:45:39.818Z"
   },
   {
    "duration": 13,
    "start_time": "2025-01-17T03:45:57.847Z"
   },
   {
    "duration": 17,
    "start_time": "2025-01-17T03:46:19.751Z"
   },
   {
    "duration": 16,
    "start_time": "2025-01-17T03:47:46.240Z"
   },
   {
    "duration": 12,
    "start_time": "2025-01-17T03:47:53.177Z"
   },
   {
    "duration": 12,
    "start_time": "2025-01-17T03:47:59.441Z"
   },
   {
    "duration": 12,
    "start_time": "2025-01-17T03:48:38.749Z"
   },
   {
    "duration": 16,
    "start_time": "2025-01-17T03:48:56.853Z"
   },
   {
    "duration": 7,
    "start_time": "2025-01-17T03:49:22.912Z"
   },
   {
    "duration": 7,
    "start_time": "2025-01-17T03:50:18.361Z"
   },
   {
    "duration": 16,
    "start_time": "2025-01-17T03:51:45.854Z"
   },
   {
    "duration": 17,
    "start_time": "2025-01-17T03:52:30.597Z"
   },
   {
    "duration": 5,
    "start_time": "2025-01-17T03:52:41.145Z"
   },
   {
    "duration": 7,
    "start_time": "2025-01-17T03:52:58.309Z"
   },
   {
    "duration": 12,
    "start_time": "2025-01-17T03:58:37.267Z"
   },
   {
    "duration": 13,
    "start_time": "2025-01-17T04:01:08.318Z"
   },
   {
    "duration": 8,
    "start_time": "2025-01-17T04:01:57.343Z"
   },
   {
    "duration": 7,
    "start_time": "2025-01-17T04:02:29.608Z"
   },
   {
    "duration": 3,
    "start_time": "2025-01-17T04:03:55.216Z"
   },
   {
    "duration": 3,
    "start_time": "2025-01-17T04:04:10.714Z"
   },
   {
    "duration": 3,
    "start_time": "2025-01-17T04:04:38.844Z"
   },
   {
    "duration": 13,
    "start_time": "2025-01-17T04:04:45.273Z"
   },
   {
    "duration": 12,
    "start_time": "2025-01-17T04:06:10.887Z"
   },
   {
    "duration": 3,
    "start_time": "2025-01-17T04:06:35.202Z"
   },
   {
    "duration": 2837,
    "start_time": "2025-01-17T04:06:42.897Z"
   },
   {
    "duration": 2814,
    "start_time": "2025-01-17T04:07:36.172Z"
   },
   {
    "duration": 2752,
    "start_time": "2025-01-17T04:07:39.181Z"
   },
   {
    "duration": 5,
    "start_time": "2025-01-17T04:09:45.748Z"
   },
   {
    "duration": 2724,
    "start_time": "2025-01-17T04:10:09.711Z"
   },
   {
    "duration": 2,
    "start_time": "2025-01-17T04:11:20.492Z"
   },
   {
    "duration": 2,
    "start_time": "2025-01-17T04:11:24.423Z"
   },
   {
    "duration": 2,
    "start_time": "2025-01-17T04:11:27.683Z"
   },
   {
    "duration": 2,
    "start_time": "2025-01-17T04:11:32.853Z"
   },
   {
    "duration": 2871,
    "start_time": "2025-01-17T04:11:37.594Z"
   },
   {
    "duration": 12,
    "start_time": "2025-01-17T04:12:25.811Z"
   },
   {
    "duration": 2711,
    "start_time": "2025-01-17T04:12:34.704Z"
   },
   {
    "duration": 2819,
    "start_time": "2025-01-17T04:13:08.405Z"
   },
   {
    "duration": 2748,
    "start_time": "2025-01-17T04:13:31.812Z"
   },
   {
    "duration": 12,
    "start_time": "2025-01-17T04:13:56.758Z"
   },
   {
    "duration": 2782,
    "start_time": "2025-01-17T04:14:05.920Z"
   },
   {
    "duration": 2,
    "start_time": "2025-01-17T04:15:37.924Z"
   },
   {
    "duration": 2729,
    "start_time": "2025-01-17T04:17:46.182Z"
   },
   {
    "duration": 2732,
    "start_time": "2025-01-17T04:17:49.310Z"
   },
   {
    "duration": 0,
    "start_time": "2025-01-17T04:17:52.044Z"
   },
   {
    "duration": 2719,
    "start_time": "2025-01-17T04:17:52.471Z"
   },
   {
    "duration": 0,
    "start_time": "2025-01-17T04:17:55.192Z"
   },
   {
    "duration": 2755,
    "start_time": "2025-01-17T04:18:14.399Z"
   },
   {
    "duration": 12,
    "start_time": "2025-01-17T04:18:49.995Z"
   },
   {
    "duration": 0,
    "start_time": "2025-01-17T04:19:03.369Z"
   },
   {
    "duration": 2786,
    "start_time": "2025-01-17T04:19:06.546Z"
   },
   {
    "duration": 2774,
    "start_time": "2025-01-17T04:20:19.519Z"
   },
   {
    "duration": 13,
    "start_time": "2025-01-17T04:20:57.232Z"
   },
   {
    "duration": 2756,
    "start_time": "2025-01-17T04:21:03.522Z"
   },
   {
    "duration": 3,
    "start_time": "2025-01-17T04:23:57.316Z"
   },
   {
    "duration": 0,
    "start_time": "2025-01-17T04:25:16.960Z"
   },
   {
    "duration": 2776,
    "start_time": "2025-01-17T04:25:20.613Z"
   },
   {
    "duration": 2705,
    "start_time": "2025-01-17T04:26:15.022Z"
   },
   {
    "duration": 0,
    "start_time": "2025-01-17T04:27:08.933Z"
   },
   {
    "duration": 2759,
    "start_time": "2025-01-17T04:27:11.834Z"
   },
   {
    "duration": 2738,
    "start_time": "2025-01-17T04:27:30.277Z"
   },
   {
    "duration": 2774,
    "start_time": "2025-01-17T04:28:37.504Z"
   },
   {
    "duration": 2822,
    "start_time": "2025-01-17T04:28:54.431Z"
   },
   {
    "duration": 2,
    "start_time": "2025-01-17T04:30:34.656Z"
   },
   {
    "duration": 12,
    "start_time": "2025-01-17T04:32:27.512Z"
   },
   {
    "duration": 12,
    "start_time": "2025-01-17T04:32:33.597Z"
   },
   {
    "duration": 2727,
    "start_time": "2025-01-17T04:32:43.117Z"
   },
   {
    "duration": 2,
    "start_time": "2025-01-17T04:32:58.819Z"
   },
   {
    "duration": 2711,
    "start_time": "2025-01-17T04:33:04.538Z"
   },
   {
    "duration": 2,
    "start_time": "2025-01-17T04:43:19.387Z"
   },
   {
    "duration": 2896,
    "start_time": "2025-01-17T04:59:13.920Z"
   },
   {
    "duration": 2,
    "start_time": "2025-01-17T05:00:29.741Z"
   },
   {
    "duration": 3,
    "start_time": "2025-01-17T05:07:25.904Z"
   },
   {
    "duration": 3,
    "start_time": "2025-01-17T05:07:45.360Z"
   },
   {
    "duration": 3,
    "start_time": "2025-01-17T05:09:29.649Z"
   },
   {
    "duration": 364,
    "start_time": "2025-01-17T05:11:15.179Z"
   },
   {
    "duration": 5,
    "start_time": "2025-01-17T05:15:48.349Z"
   },
   {
    "duration": 2781,
    "start_time": "2025-01-17T05:15:59.443Z"
   },
   {
    "duration": 2,
    "start_time": "2025-01-17T05:16:18.110Z"
   },
   {
    "duration": 314,
    "start_time": "2025-01-17T15:37:03.842Z"
   },
   {
    "duration": 127,
    "start_time": "2025-01-17T15:37:04.158Z"
   },
   {
    "duration": 5,
    "start_time": "2025-01-17T15:37:04.287Z"
   },
   {
    "duration": 3,
    "start_time": "2025-01-17T15:37:04.294Z"
   },
   {
    "duration": 3,
    "start_time": "2025-01-17T15:37:08.722Z"
   },
   {
    "duration": 2,
    "start_time": "2025-01-17T15:37:14.589Z"
   },
   {
    "duration": 3,
    "start_time": "2025-01-17T15:37:22.745Z"
   },
   {
    "duration": 3,
    "start_time": "2025-01-17T15:37:25.992Z"
   },
   {
    "duration": 5,
    "start_time": "2025-01-17T15:37:37.071Z"
   },
   {
    "duration": 3,
    "start_time": "2025-01-17T15:37:44.281Z"
   },
   {
    "duration": 18,
    "start_time": "2025-01-17T15:37:52.305Z"
   },
   {
    "duration": 545,
    "start_time": "2025-01-17T15:37:56.132Z"
   },
   {
    "duration": 11,
    "start_time": "2025-01-17T15:38:10.018Z"
   },
   {
    "duration": 18,
    "start_time": "2025-01-17T15:38:17.508Z"
   },
   {
    "duration": 47,
    "start_time": "2025-01-17T15:38:20.247Z"
   },
   {
    "duration": 49,
    "start_time": "2025-01-17T15:38:21.877Z"
   },
   {
    "duration": 47,
    "start_time": "2025-01-17T15:38:23.202Z"
   },
   {
    "duration": 4,
    "start_time": "2025-01-17T15:38:25.390Z"
   },
   {
    "duration": 7,
    "start_time": "2025-01-17T15:38:56.839Z"
   },
   {
    "duration": 8,
    "start_time": "2025-01-17T15:39:25.037Z"
   },
   {
    "duration": 2,
    "start_time": "2025-01-17T15:39:57.800Z"
   },
   {
    "duration": 3,
    "start_time": "2025-01-17T15:39:59.836Z"
   },
   {
    "duration": 6,
    "start_time": "2025-01-17T15:40:14.188Z"
   },
   {
    "duration": 5,
    "start_time": "2025-01-17T15:40:23.591Z"
   },
   {
    "duration": 18,
    "start_time": "2025-01-17T15:43:53.131Z"
   },
   {
    "duration": 19,
    "start_time": "2025-01-17T15:44:17.583Z"
   },
   {
    "duration": 4,
    "start_time": "2025-01-17T15:44:23.582Z"
   },
   {
    "duration": 6,
    "start_time": "2025-01-17T15:44:25.638Z"
   },
   {
    "duration": 6,
    "start_time": "2025-01-17T15:45:14.675Z"
   },
   {
    "duration": 3,
    "start_time": "2025-01-17T15:48:31.654Z"
   },
   {
    "duration": 11,
    "start_time": "2025-01-17T15:48:33.217Z"
   },
   {
    "duration": 6,
    "start_time": "2025-01-17T15:48:37.347Z"
   },
   {
    "duration": 3,
    "start_time": "2025-01-17T15:50:09.473Z"
   },
   {
    "duration": 8,
    "start_time": "2025-01-17T15:50:11.153Z"
   },
   {
    "duration": 6,
    "start_time": "2025-01-17T15:50:15.632Z"
   },
   {
    "duration": 3,
    "start_time": "2025-01-17T15:51:07.689Z"
   },
   {
    "duration": 12,
    "start_time": "2025-01-17T15:51:08.985Z"
   },
   {
    "duration": 6,
    "start_time": "2025-01-17T15:51:12.590Z"
   },
   {
    "duration": 3,
    "start_time": "2025-01-17T15:51:53.096Z"
   },
   {
    "duration": 14,
    "start_time": "2025-01-17T15:51:54.528Z"
   },
   {
    "duration": 5,
    "start_time": "2025-01-17T15:51:57.591Z"
   },
   {
    "duration": 2756,
    "start_time": "2025-01-17T15:54:21.007Z"
   },
   {
    "duration": 2773,
    "start_time": "2025-01-17T15:54:36.546Z"
   },
   {
    "duration": 12,
    "start_time": "2025-01-17T15:57:04.875Z"
   },
   {
    "duration": 9,
    "start_time": "2025-01-17T15:57:52.360Z"
   },
   {
    "duration": 3,
    "start_time": "2025-01-17T15:58:10.987Z"
   },
   {
    "duration": 15,
    "start_time": "2025-01-17T16:00:05.965Z"
   },
   {
    "duration": 155,
    "start_time": "2025-01-17T16:00:58.869Z"
   },
   {
    "duration": 283,
    "start_time": "2025-01-17T16:01:32.677Z"
   },
   {
    "duration": 93,
    "start_time": "2025-01-17T16:01:32.962Z"
   },
   {
    "duration": 5,
    "start_time": "2025-01-17T16:01:33.057Z"
   },
   {
    "duration": 3,
    "start_time": "2025-01-17T16:01:33.064Z"
   },
   {
    "duration": 4,
    "start_time": "2025-01-17T16:01:33.068Z"
   },
   {
    "duration": 3,
    "start_time": "2025-01-17T16:01:33.074Z"
   },
   {
    "duration": 4,
    "start_time": "2025-01-17T16:01:33.078Z"
   },
   {
    "duration": 29,
    "start_time": "2025-01-17T16:01:33.083Z"
   },
   {
    "duration": 3,
    "start_time": "2025-01-17T16:01:33.113Z"
   },
   {
    "duration": 16,
    "start_time": "2025-01-17T16:01:33.120Z"
   },
   {
    "duration": 10,
    "start_time": "2025-01-17T16:01:33.138Z"
   },
   {
    "duration": 16,
    "start_time": "2025-01-17T16:01:33.150Z"
   },
   {
    "duration": 67,
    "start_time": "2025-01-17T16:01:33.168Z"
   },
   {
    "duration": 46,
    "start_time": "2025-01-17T16:01:33.237Z"
   },
   {
    "duration": 55,
    "start_time": "2025-01-17T16:01:33.284Z"
   },
   {
    "duration": 16,
    "start_time": "2025-01-17T16:01:33.341Z"
   },
   {
    "duration": 4,
    "start_time": "2025-01-17T16:01:33.359Z"
   },
   {
    "duration": 14,
    "start_time": "2025-01-17T16:01:33.365Z"
   },
   {
    "duration": 6,
    "start_time": "2025-01-17T16:01:33.381Z"
   },
   {
    "duration": 30,
    "start_time": "2025-01-17T16:01:33.389Z"
   },
   {
    "duration": 9,
    "start_time": "2025-01-17T16:01:33.420Z"
   },
   {
    "duration": 4,
    "start_time": "2025-01-17T16:01:33.430Z"
   },
   {
    "duration": 17,
    "start_time": "2025-01-17T16:01:38.238Z"
   },
   {
    "duration": 13,
    "start_time": "2025-01-17T16:02:39.437Z"
   },
   {
    "duration": 14,
    "start_time": "2025-01-17T16:03:08.591Z"
   },
   {
    "duration": 12,
    "start_time": "2025-01-17T16:03:46.653Z"
   },
   {
    "duration": 13,
    "start_time": "2025-01-17T16:05:14.325Z"
   },
   {
    "duration": 12,
    "start_time": "2025-01-17T16:05:36.497Z"
   },
   {
    "duration": 13,
    "start_time": "2025-01-17T16:06:18.232Z"
   },
   {
    "duration": 2,
    "start_time": "2025-01-17T16:52:29.022Z"
   },
   {
    "duration": 97,
    "start_time": "2025-01-17T16:52:29.029Z"
   },
   {
    "duration": 5,
    "start_time": "2025-01-17T16:52:29.128Z"
   },
   {
    "duration": 4,
    "start_time": "2025-01-17T16:52:29.134Z"
   },
   {
    "duration": 4,
    "start_time": "2025-01-17T16:52:29.141Z"
   },
   {
    "duration": 4,
    "start_time": "2025-01-17T16:52:29.146Z"
   },
   {
    "duration": 3,
    "start_time": "2025-01-17T16:52:29.152Z"
   },
   {
    "duration": 4,
    "start_time": "2025-01-17T16:52:29.157Z"
   },
   {
    "duration": 4,
    "start_time": "2025-01-17T16:52:29.163Z"
   },
   {
    "duration": 63,
    "start_time": "2025-01-17T16:52:29.170Z"
   },
   {
    "duration": 13,
    "start_time": "2025-01-17T16:52:29.237Z"
   },
   {
    "duration": 18,
    "start_time": "2025-01-17T16:52:29.253Z"
   },
   {
    "duration": 63,
    "start_time": "2025-01-17T16:52:29.273Z"
   },
   {
    "duration": 43,
    "start_time": "2025-01-17T16:52:29.338Z"
   },
   {
    "duration": 54,
    "start_time": "2025-01-17T16:52:29.383Z"
   },
   {
    "duration": 9,
    "start_time": "2025-01-17T16:52:29.438Z"
   },
   {
    "duration": 3,
    "start_time": "2025-01-17T16:52:29.449Z"
   },
   {
    "duration": 19,
    "start_time": "2025-01-17T16:52:29.453Z"
   },
   {
    "duration": 7,
    "start_time": "2025-01-17T16:52:29.474Z"
   },
   {
    "duration": 36,
    "start_time": "2025-01-17T16:52:29.483Z"
   },
   {
    "duration": 8,
    "start_time": "2025-01-17T16:52:29.520Z"
   },
   {
    "duration": 3,
    "start_time": "2025-01-17T16:52:29.622Z"
   },
   {
    "duration": 15,
    "start_time": "2025-01-17T16:52:29.627Z"
   },
   {
    "duration": 12,
    "start_time": "2025-01-17T16:52:29.644Z"
   },
   {
    "duration": 13,
    "start_time": "2025-01-17T16:52:29.658Z"
   },
   {
    "duration": 12,
    "start_time": "2025-01-17T16:52:29.673Z"
   },
   {
    "duration": 38,
    "start_time": "2025-01-17T16:52:29.686Z"
   },
   {
    "duration": 14,
    "start_time": "2025-01-17T16:52:29.726Z"
   },
   {
    "duration": 3,
    "start_time": "2025-01-17T16:53:01.936Z"
   },
   {
    "duration": 102,
    "start_time": "2025-01-17T16:53:01.941Z"
   },
   {
    "duration": 5,
    "start_time": "2025-01-17T16:53:02.046Z"
   },
   {
    "duration": 3,
    "start_time": "2025-01-17T16:53:02.053Z"
   },
   {
    "duration": 3,
    "start_time": "2025-01-17T16:53:02.059Z"
   },
   {
    "duration": 3,
    "start_time": "2025-01-17T16:53:02.064Z"
   },
   {
    "duration": 3,
    "start_time": "2025-01-17T16:53:02.069Z"
   },
   {
    "duration": 4,
    "start_time": "2025-01-17T16:53:02.074Z"
   },
   {
    "duration": 32,
    "start_time": "2025-01-17T16:53:02.080Z"
   },
   {
    "duration": 26,
    "start_time": "2025-01-17T16:53:02.114Z"
   },
   {
    "duration": 10,
    "start_time": "2025-01-17T16:53:02.144Z"
   },
   {
    "duration": 17,
    "start_time": "2025-01-17T16:53:02.156Z"
   },
   {
    "duration": 66,
    "start_time": "2025-01-17T16:53:02.175Z"
   },
   {
    "duration": 45,
    "start_time": "2025-01-17T16:53:02.242Z"
   },
   {
    "duration": 65,
    "start_time": "2025-01-17T16:53:02.289Z"
   },
   {
    "duration": 7,
    "start_time": "2025-01-17T16:53:02.356Z"
   },
   {
    "duration": 3,
    "start_time": "2025-01-17T16:53:02.365Z"
   },
   {
    "duration": 19,
    "start_time": "2025-01-17T16:53:02.369Z"
   },
   {
    "duration": 24,
    "start_time": "2025-01-17T16:53:02.389Z"
   },
   {
    "duration": 9,
    "start_time": "2025-01-17T16:53:02.414Z"
   },
   {
    "duration": 9,
    "start_time": "2025-01-17T16:53:02.425Z"
   },
   {
    "duration": 4,
    "start_time": "2025-01-17T16:53:02.437Z"
   },
   {
    "duration": 14,
    "start_time": "2025-01-17T16:53:02.443Z"
   },
   {
    "duration": 11,
    "start_time": "2025-01-17T16:53:02.459Z"
   },
   {
    "duration": 45,
    "start_time": "2025-01-17T16:53:02.472Z"
   },
   {
    "duration": 11,
    "start_time": "2025-01-17T16:53:02.518Z"
   },
   {
    "duration": 13,
    "start_time": "2025-01-17T16:53:02.530Z"
   },
   {
    "duration": 12,
    "start_time": "2025-01-17T16:53:02.544Z"
   },
   {
    "duration": 321,
    "start_time": "2025-01-17T18:35:03.313Z"
   },
   {
    "duration": 116,
    "start_time": "2025-01-17T18:35:03.636Z"
   },
   {
    "duration": 5,
    "start_time": "2025-01-17T18:35:03.754Z"
   },
   {
    "duration": 2,
    "start_time": "2025-01-17T18:35:03.762Z"
   },
   {
    "duration": 5,
    "start_time": "2025-01-17T18:35:03.766Z"
   },
   {
    "duration": 3,
    "start_time": "2025-01-17T18:35:03.773Z"
   },
   {
    "duration": 3,
    "start_time": "2025-01-17T18:35:03.778Z"
   },
   {
    "duration": 3,
    "start_time": "2025-01-17T18:35:03.783Z"
   },
   {
    "duration": 4,
    "start_time": "2025-01-17T18:35:03.787Z"
   },
   {
    "duration": 16,
    "start_time": "2025-01-17T18:35:03.796Z"
   },
   {
    "duration": 10,
    "start_time": "2025-01-17T18:35:03.813Z"
   },
   {
    "duration": 53,
    "start_time": "2025-01-17T18:35:03.824Z"
   },
   {
    "duration": 41,
    "start_time": "2025-01-17T18:35:03.880Z"
   },
   {
    "duration": 57,
    "start_time": "2025-01-17T18:35:03.922Z"
   },
   {
    "duration": 38,
    "start_time": "2025-01-17T18:35:03.981Z"
   },
   {
    "duration": 10,
    "start_time": "2025-01-17T18:35:04.021Z"
   },
   {
    "duration": 3,
    "start_time": "2025-01-17T18:35:04.032Z"
   },
   {
    "duration": 39,
    "start_time": "2025-01-17T18:35:04.036Z"
   },
   {
    "duration": 5,
    "start_time": "2025-01-17T18:35:04.076Z"
   },
   {
    "duration": 9,
    "start_time": "2025-01-17T18:35:04.083Z"
   },
   {
    "duration": 8,
    "start_time": "2025-01-17T18:35:04.094Z"
   },
   {
    "duration": 4,
    "start_time": "2025-01-17T18:35:04.104Z"
   },
   {
    "duration": 14,
    "start_time": "2025-01-17T18:35:04.109Z"
   },
   {
    "duration": 10,
    "start_time": "2025-01-17T18:35:04.126Z"
   },
   {
    "duration": 13,
    "start_time": "2025-01-17T18:35:04.169Z"
   },
   {
    "duration": 10,
    "start_time": "2025-01-17T18:35:04.184Z"
   },
   {
    "duration": 12,
    "start_time": "2025-01-17T18:35:04.196Z"
   },
   {
    "duration": 12,
    "start_time": "2025-01-17T18:35:04.212Z"
   }
  ],
  "colab": {
   "collapsed_sections": [
    "E0vqbgi9ay0H",
    "VUC88oWjTJw2"
   ],
   "provenance": []
  },
  "kernelspec": {
   "display_name": "Python 3 (ipykernel)",
   "language": "python",
   "name": "python3"
  },
  "language_info": {
   "codemirror_mode": {
    "name": "ipython",
    "version": 3
   },
   "file_extension": ".py",
   "mimetype": "text/x-python",
   "name": "python",
   "nbconvert_exporter": "python",
   "pygments_lexer": "ipython3",
   "version": "3.9.19"
  },
  "toc": {
   "base_numbering": 1,
   "nav_menu": {},
   "number_sections": true,
   "sideBar": true,
   "skip_h1_title": true,
   "title_cell": "Table of Contents",
   "title_sidebar": "Contents",
   "toc_cell": false,
   "toc_position": {},
   "toc_section_display": true,
   "toc_window_display": false
  }
 },
 "nbformat": 4,
 "nbformat_minor": 1
}
