{
 "cells": [
  {
   "cell_type": "markdown",
   "metadata": {},
   "source": [
    "<h1 style=\"font-size:40px;\">Sprint 11 - Proyecto</h1> "
   ]
  },
  {
   "cell_type": "markdown",
   "metadata": {},
   "source": [
    "<h1 style=\"font-size:40px;\">Descripcion del proyecto </h1> \n",
    "\n",
    "Este proyecto se desarrollará en el contexto de una startup tecnológica dedicada a la venta de productos alimenticios a través de una aplicación móvil. El objetivo principal es comprender el comportamiento de los usuarios dentro de la app y evaluar el impacto de un posible rediseño visual, con base en un cambio tipográfico.\n",
    "\n",
    "El análisis se llevará a cabo sobre un conjunto de datos basado en eventos de interacción del usuario, en el cual cada fila representa una acción realizada dentro de la aplicación. A partir de este registro de eventos, se abordarán dos líneas principales de investigación:\n",
    "\n",
    "1 Análisis del embudo de conversión\n",
    "Se estudiará el recorrido de los usuarios desde que abren la aplicación hasta que completan una compra. Esto incluye la identificación de etapas clave (pantalla principal, ofertas, carrito, pago), el cálculo de tasas de conversión entre cada etapa y el análisis de dónde se pierden más usuarios. Esta parte del estudio permitirá evaluar la efectividad del diseño actual y detectar posibles puntos de fricción en la experiencia de usuario.\n",
    "\n",
    "\n",
    "2.- Evaluación de un experimento A/A/B\n",
    "Con el fin de medir el impacto de un cambio en la fuente tipográfica de la interfaz, se implementó un experimento controlado con tres grupos de usuarios:\n",
    "\n",
    "Dos grupos de control (A/A) que utilizaron la fuente original.\n",
    "\n",
    "Un grupo experimental (B) que interactuó con la nueva fuente.\n",
    "\n",
    "Se compararán métricas clave de interacción y conversión entre los grupos para determinar si el cambio visual afecta el comportamiento del usuario. Además, el experimento sirve para validar la correcta segmentación aleatoria de usuarios y la integridad del sistema de experimentación.\n",
    "\n",
    "Objetivo final\n",
    "El propósito del proyecto es apoyar la toma de decisiones del equipo de producto sobre si implementar o no el nuevo diseño visual, basándose en datos objetivos sobre el comportamiento real de los usuarios, en lugar de percepciones subjetivas.\n"
   ]
  },
  {
   "cell_type": "code",
   "execution_count": 1,
   "metadata": {},
   "outputs": [],
   "source": [
    "import pandas as pd\n",
    "import numpy as np\n",
    "import matplotlib.pyplot as plt\n",
    "import seaborn as sns\n",
    "import scipy.stats as stats\n",
    "from scipy.stats import ttest_ind\n",
    "from statsmodels.stats.proportion import proportions_ztest"
   ]
  },
  {
   "cell_type": "markdown",
   "metadata": {},
   "source": [
    "<h1 style=\"font-size:20px;\">Paso 1 y 2 Limpieza de datos y preparar datos</h1> "
   ]
  },
  {
   "cell_type": "code",
   "execution_count": 2,
   "metadata": {},
   "outputs": [
    {
     "name": "stdout",
     "output_type": "stream",
     "text": [
      "           EventName\\tDeviceIDHash\\tEventTimestamp\\tExpId\n",
      "0       MainScreenAppear\\t4575588528974610257\\t1564029...\n",
      "1       MainScreenAppear\\t7416695313311560658\\t1564053...\n",
      "2       PaymentScreenSuccessful\\t3518123091307005509\\t...\n",
      "3       CartScreenAppear\\t3518123091307005509\\t1564054...\n",
      "4       PaymentScreenSuccessful\\t6217807653094995999\\t...\n",
      "...                                                   ...\n",
      "244121  MainScreenAppear\\t4599628364049201812\\t1565212...\n",
      "244122  MainScreenAppear\\t5849806612437486590\\t1565212...\n",
      "244123  MainScreenAppear\\t5746969938801999050\\t1565212...\n",
      "244124  MainScreenAppear\\t5746969938801999050\\t1565212...\n",
      "244125  OffersScreenAppear\\t5746969938801999050\\t15652...\n",
      "\n",
      "[244126 rows x 1 columns]\n"
     ]
    }
   ],
   "source": [
    "df = pd.read_csv('/datasets/logs_exp_us.csv')\n",
    "print(df)"
   ]
  },
  {
   "cell_type": "code",
   "execution_count": 3,
   "metadata": {},
   "outputs": [
    {
     "name": "stdout",
     "output_type": "stream",
     "text": [
      "      EventName\\tDeviceIDHash\\tEventTimestamp\\tExpId\n",
      "0  MainScreenAppear\\t4575588528974610257\\t1564029...\n",
      "1  MainScreenAppear\\t7416695313311560658\\t1564053...\n",
      "2  PaymentScreenSuccessful\\t3518123091307005509\\t...\n",
      "3  CartScreenAppear\\t3518123091307005509\\t1564054...\n",
      "4  PaymentScreenSuccessful\\t6217807653094995999\\t...\n",
      "5  CartScreenAppear\\t6217807653094995999\\t1564055...\n",
      "6  OffersScreenAppear\\t8351860793733343758\\t15640...\n",
      "7  MainScreenAppear\\t5682100281902512875\\t1564085...\n",
      "8  MainScreenAppear\\t1850981295691852772\\t1564086...\n",
      "9  MainScreenAppear\\t5407636962369102641\\t1564112...\n"
     ]
    }
   ],
   "source": [
    "print(df.head(10))"
   ]
  },
  {
   "cell_type": "code",
   "execution_count": 4,
   "metadata": {},
   "outputs": [
    {
     "name": "stdout",
     "output_type": "stream",
     "text": [
      "<class 'pandas.core.frame.DataFrame'>\n",
      "RangeIndex: 244126 entries, 0 to 244125\n",
      "Data columns (total 1 columns):\n",
      " #   Column                                       Non-Null Count   Dtype \n",
      "---  ------                                       --------------   ----- \n",
      " 0   EventName\tDeviceIDHash\tEventTimestamp\tExpId  244126 non-null  object\n",
      "dtypes: object(1)\n",
      "memory usage: 1.9+ MB\n",
      "None\n"
     ]
    }
   ],
   "source": [
    "print(df.info())"
   ]
  },
  {
   "cell_type": "code",
   "execution_count": 5,
   "metadata": {},
   "outputs": [
    {
     "name": "stdout",
     "output_type": "stream",
     "text": [
      "                 EventName         DeviceIDHash EventTimestamp ExpId\n",
      "0         MainScreenAppear  4575588528974610257     1564029816   246\n",
      "1         MainScreenAppear  7416695313311560658     1564053102   246\n",
      "2  PaymentScreenSuccessful  3518123091307005509     1564054127   248\n",
      "3         CartScreenAppear  3518123091307005509     1564054127   248\n",
      "4  PaymentScreenSuccessful  6217807653094995999     1564055322   248\n",
      "5         CartScreenAppear  6217807653094995999     1564055323   248\n",
      "6       OffersScreenAppear  8351860793733343758     1564066242   246\n",
      "7         MainScreenAppear  5682100281902512875     1564085677   246\n",
      "8         MainScreenAppear  1850981295691852772     1564086702   247\n",
      "9         MainScreenAppear  5407636962369102641     1564112112   246\n"
     ]
    }
   ],
   "source": [
    "df_1 = df.iloc[:, 0].str.split('\\t', expand=True)\n",
    "df_1.columns = ['EventName', 'DeviceIDHash', 'EventTimestamp', 'ExpId']\n",
    "print(df_1.head(10))"
   ]
  },
  {
   "cell_type": "code",
   "execution_count": 6,
   "metadata": {},
   "outputs": [
    {
     "name": "stdout",
     "output_type": "stream",
     "text": [
      "<class 'pandas.core.frame.DataFrame'>\n",
      "RangeIndex: 244126 entries, 0 to 244125\n",
      "Data columns (total 4 columns):\n",
      " #   Column          Non-Null Count   Dtype \n",
      "---  ------          --------------   ----- \n",
      " 0   EventName       244126 non-null  object\n",
      " 1   DeviceIDHash    244126 non-null  object\n",
      " 2   EventTimestamp  244126 non-null  object\n",
      " 3   ExpId           244126 non-null  object\n",
      "dtypes: object(4)\n",
      "memory usage: 7.5+ MB\n",
      "None\n"
     ]
    }
   ],
   "source": [
    "print(df_1.info())"
   ]
  },
  {
   "cell_type": "code",
   "execution_count": 7,
   "metadata": {},
   "outputs": [],
   "source": [
    "df_1['DeviceIDHash'] = df_1['DeviceIDHash'].astype(int)\n",
    "df_1['ExpId'] = df_1['ExpId'].astype(int)\n",
    "df_1['EventTimestamp'] = pd.to_datetime(df_1['EventTimestamp'], unit='s')"
   ]
  },
  {
   "cell_type": "code",
   "execution_count": 8,
   "metadata": {},
   "outputs": [
    {
     "name": "stdout",
     "output_type": "stream",
     "text": [
      "<class 'pandas.core.frame.DataFrame'>\n",
      "RangeIndex: 244126 entries, 0 to 244125\n",
      "Data columns (total 4 columns):\n",
      " #   Column          Non-Null Count   Dtype         \n",
      "---  ------          --------------   -----         \n",
      " 0   EventName       244126 non-null  object        \n",
      " 1   DeviceIDHash    244126 non-null  int64         \n",
      " 2   EventTimestamp  244126 non-null  datetime64[ns]\n",
      " 3   ExpId           244126 non-null  int64         \n",
      "dtypes: datetime64[ns](1), int64(2), object(1)\n",
      "memory usage: 7.5+ MB\n",
      "None\n"
     ]
    }
   ],
   "source": [
    "print(df_1.info())"
   ]
  },
  {
   "cell_type": "code",
   "execution_count": 9,
   "metadata": {},
   "outputs": [
    {
     "name": "stdout",
     "output_type": "stream",
     "text": [
      "                 EventName         DeviceIDHash      EventTimestamp  ExpId\n",
      "0         MainScreenAppear  4575588528974610257 2019-07-25 04:43:36    246\n",
      "1         MainScreenAppear  7416695313311560658 2019-07-25 11:11:42    246\n",
      "2  PaymentScreenSuccessful  3518123091307005509 2019-07-25 11:28:47    248\n",
      "3         CartScreenAppear  3518123091307005509 2019-07-25 11:28:47    248\n",
      "4  PaymentScreenSuccessful  6217807653094995999 2019-07-25 11:48:42    248\n"
     ]
    }
   ],
   "source": [
    "print(df_1.head())"
   ]
  },
  {
   "cell_type": "code",
   "execution_count": 10,
   "metadata": {},
   "outputs": [
    {
     "name": "stdout",
     "output_type": "stream",
     "text": [
      "Index(['event name', 'user id', 'event time', 'exp id'], dtype='object')\n"
     ]
    }
   ],
   "source": [
    "df_1 = df_1.rename(columns={\n",
    "    'EventName': 'event name',\n",
    "    'DeviceIDHash': 'user id',\n",
    "    'EventTimestamp': 'event time',\n",
    "    'ExpId': 'exp id'\n",
    "})\n",
    "\n",
    "\n",
    "print(df_1.columns)"
   ]
  },
  {
   "cell_type": "code",
   "execution_count": 11,
   "metadata": {},
   "outputs": [
    {
     "name": "stdout",
     "output_type": "stream",
     "text": [
      "event name    0\n",
      "user id       0\n",
      "event time    0\n",
      "exp id        0\n",
      "dtype: int64\n"
     ]
    }
   ],
   "source": [
    "print(df_1.isnull().sum())"
   ]
  },
  {
   "cell_type": "code",
   "execution_count": 12,
   "metadata": {},
   "outputs": [
    {
     "name": "stdout",
     "output_type": "stream",
     "text": [
      "413\n"
     ]
    }
   ],
   "source": [
    "print(df_1.duplicated().sum())"
   ]
  },
  {
   "cell_type": "code",
   "execution_count": 13,
   "metadata": {},
   "outputs": [
    {
     "name": "stdout",
     "output_type": "stream",
     "text": [
      "                     event name              user id          event time  \\\n",
      "453            MainScreenAppear  5613408041324010552 2019-07-30 08:19:44   \n",
      "2350           CartScreenAppear  1694940645335807244 2019-07-31 21:51:39   \n",
      "3573           MainScreenAppear   434103746454591587 2019-08-01 02:59:37   \n",
      "4076           MainScreenAppear  3761373764179762633 2019-08-01 03:47:46   \n",
      "4803           MainScreenAppear  2835328739789306622 2019-08-01 04:44:01   \n",
      "...                         ...                  ...                 ...   \n",
      "242329         MainScreenAppear  8870358373313968633 2019-08-07 19:26:44   \n",
      "242332  PaymentScreenSuccessful  4718002964983105693 2019-08-07 19:26:45   \n",
      "242360  PaymentScreenSuccessful  2382591782303281935 2019-08-07 19:27:29   \n",
      "242362         CartScreenAppear  2382591782303281935 2019-08-07 19:27:29   \n",
      "242635         MainScreenAppear  4097782667445790512 2019-08-07 19:36:58   \n",
      "\n",
      "        exp id  \n",
      "453        248  \n",
      "2350       248  \n",
      "3573       248  \n",
      "4076       247  \n",
      "4803       248  \n",
      "...        ...  \n",
      "242329     247  \n",
      "242332     247  \n",
      "242360     246  \n",
      "242362     246  \n",
      "242635     246  \n",
      "\n",
      "[413 rows x 4 columns]\n"
     ]
    }
   ],
   "source": [
    "print(df_1[df_1.duplicated()])"
   ]
  },
  {
   "cell_type": "code",
   "execution_count": 14,
   "metadata": {},
   "outputs": [],
   "source": [
    "df_1['event time']\n",
    "df_1['event date'] = df_1['event time'].dt.date\n"
   ]
  },
  {
   "cell_type": "code",
   "execution_count": 15,
   "metadata": {},
   "outputs": [
    {
     "name": "stdout",
     "output_type": "stream",
     "text": [
      "                event name              user id          event time  exp id  \\\n",
      "0         MainScreenAppear  4575588528974610257 2019-07-25 04:43:36     246   \n",
      "1         MainScreenAppear  7416695313311560658 2019-07-25 11:11:42     246   \n",
      "2  PaymentScreenSuccessful  3518123091307005509 2019-07-25 11:28:47     248   \n",
      "3         CartScreenAppear  3518123091307005509 2019-07-25 11:28:47     248   \n",
      "4  PaymentScreenSuccessful  6217807653094995999 2019-07-25 11:48:42     248   \n",
      "5         CartScreenAppear  6217807653094995999 2019-07-25 11:48:43     248   \n",
      "6       OffersScreenAppear  8351860793733343758 2019-07-25 14:50:42     246   \n",
      "7         MainScreenAppear  5682100281902512875 2019-07-25 20:14:37     246   \n",
      "8         MainScreenAppear  1850981295691852772 2019-07-25 20:31:42     247   \n",
      "9         MainScreenAppear  5407636962369102641 2019-07-26 03:35:12     246   \n",
      "\n",
      "   event date  \n",
      "0  2019-07-25  \n",
      "1  2019-07-25  \n",
      "2  2019-07-25  \n",
      "3  2019-07-25  \n",
      "4  2019-07-25  \n",
      "5  2019-07-25  \n",
      "6  2019-07-25  \n",
      "7  2019-07-25  \n",
      "8  2019-07-25  \n",
      "9  2019-07-26  \n"
     ]
    }
   ],
   "source": [
    "print(df_1.head(10))"
   ]
  },
  {
   "cell_type": "code",
   "execution_count": 16,
   "metadata": {},
   "outputs": [
    {
     "name": "stdout",
     "output_type": "stream",
     "text": [
      "Index(['event name', 'user id', 'event time', 'exp id', 'event date'], dtype='object')\n"
     ]
    }
   ],
   "source": [
    "print(df_1.columns)"
   ]
  },
  {
   "cell_type": "markdown",
   "metadata": {},
   "source": [
    "<h1 style=\"font-size:15px;\">Analisis: </h1> \n",
    "    \n",
    "Al analizar y cargar el dataset y limpiar los datos se realizaron las siguientes acciones:\n",
    "    \n",
    "- Se separaron las columas ya que aparecian como una sola columna.\n",
    "-Se cambio el tipo de datos de la columa \"DeviceIDHash\" de object a entero y la columna event time de object a datetime.\n",
    "-Se cambio el nombre de las columas para que fueran más legibles.\n",
    "- Los elementos duplicados no fueron eliminados ya que pertenecian al usuario de id o id de expeimento y si fueran eliminados afectaria el analisis al momento de analizar los grupos, ademas de que pertenecian a diferentes eventos."
   ]
  },
  {
   "cell_type": "markdown",
   "metadata": {},
   "source": [
    "<h1 style=\"font-size:25px;\">Paso 3 . Estudiar y comprobar los datos</h1> "
   ]
  },
  {
   "cell_type": "markdown",
   "metadata": {},
   "source": [
    "¿Cuántos eventos hay en los registros?"
   ]
  },
  {
   "cell_type": "code",
   "execution_count": 17,
   "metadata": {},
   "outputs": [
    {
     "name": "stdout",
     "output_type": "stream",
     "text": [
      "Número total de eventos registrados: 244126\n"
     ]
    }
   ],
   "source": [
    "total_eventos = len(df_1)\n",
    "\n",
    "print(f\"Número total de eventos registrados: {total_eventos}\")"
   ]
  },
  {
   "cell_type": "markdown",
   "metadata": {},
   "source": [
    "¿Cuántos usuarios hay en los registros?"
   ]
  },
  {
   "cell_type": "code",
   "execution_count": 18,
   "metadata": {},
   "outputs": [
    {
     "name": "stdout",
     "output_type": "stream",
     "text": [
      "Número total de usuarios únicos: 7551\n"
     ]
    }
   ],
   "source": [
    "usuarios_unicos = df_1['user id'].nunique()\n",
    "\n",
    "print(f\"Número total de usuarios únicos: {usuarios_unicos}\")"
   ]
  },
  {
   "cell_type": "markdown",
   "metadata": {},
   "source": [
    "¿Cuál es el promedio de eventos por usuario?"
   ]
  },
  {
   "cell_type": "code",
   "execution_count": 19,
   "metadata": {},
   "outputs": [
    {
     "name": "stdout",
     "output_type": "stream",
     "text": [
      "Promedio de eventos por usuario: 32.33\n"
     ]
    }
   ],
   "source": [
    "total_eventos = len(df_1)\n",
    "\n",
    "usuarios_unicos = df_1['user id'].nunique()\n",
    "\n",
    "\n",
    "promedio_eventos_por_usuario = total_eventos / usuarios_unicos\n",
    "\n",
    "print(f\"Promedio de eventos por usuario: {promedio_eventos_por_usuario:.2f}\")"
   ]
  },
  {
   "cell_type": "markdown",
   "metadata": {},
   "source": [
    "¿Qué periodo de tiempo cubren los datos? Encuentra la fecha máxima y mínima. Traza un histograma por fecha y hora."
   ]
  },
  {
   "cell_type": "code",
   "execution_count": 20,
   "metadata": {},
   "outputs": [
    {
     "name": "stdout",
     "output_type": "stream",
     "text": [
      "Fecha mínima: 2019-07-25 04:43:36\n",
      "Fecha máxima: 2019-08-07 21:15:17\n"
     ]
    }
   ],
   "source": [
    "df_1['event time'] = pd.to_datetime(df_1['event time'])\n",
    "\n",
    "\n",
    "fecha_min = df_1['event time'].min()\n",
    "fecha_max = df_1['event time'].max()\n",
    "\n",
    "print(f\"Fecha mínima: {fecha_min}\")\n",
    "print(f\"Fecha máxima: {fecha_max}\")"
   ]
  },
  {
   "cell_type": "code",
   "execution_count": 21,
   "metadata": {},
   "outputs": [
    {
     "data": {
      "image/png": "[encoded data removed]",
      "text/plain": [
       "<Figure size 1500x500 with 1 Axes>"
      ]
     },
     "metadata": {},
     "output_type": "display_data"
    }
   ],
   "source": [
    "df_1['event date'] = pd.to_datetime(df_1['event date'])\n",
    "\n",
    "\n",
    "eventos_por_fecha = df_1.groupby(df_1['event date']).size()\n",
    "\n",
    "\n",
    "plt.figure(figsize=(15,5))\n",
    "eventos_por_fecha.plot(kind='bar')\n",
    "plt.title('Número de eventos por fecha')\n",
    "plt.xlabel('Fecha')\n",
    "plt.ylabel('Número de eventos')\n",
    "plt.xticks(rotation=45)\n",
    "plt.tight_layout()\n",
    "plt.show()"
   ]
  },
  {
   "cell_type": "markdown",
   "metadata": {},
   "source": [
    "¿Puedes tener seguridad de que tienes datos igualmente completos para todo el periodo? Los eventos más antiguos podrían terminar en los registros de algunos usuarios por razones técnicas y esto podría sesgar el panorama general. Encuentra el momento en el que los datos comienzan a estar completos e ignora la sección anterior. ¿Qué periodo representan realmente los datos?"
   ]
  },
  {
   "cell_type": "code",
   "execution_count": 22,
   "metadata": {
    "scrolled": true
   },
   "outputs": [
    {
     "name": "stdout",
     "output_type": "stream",
     "text": [
      "Los datos comienzan a estar completos desde: 2019-08-01 00:00:00\n",
      "Los datos confiables cubren el periodo: 2019-08-01 00:00:00 hasta 2019-08-07 00:00:00\n"
     ]
    }
   ],
   "source": [
    "umbral = eventos_por_fecha.max() * 0.8\n",
    "\n",
    "\n",
    "fechas_completas = eventos_por_fecha[eventos_por_fecha >= umbral]\n",
    "\n",
    "\n",
    "fecha_inicio_confiable = fechas_completas.index.min()\n",
    "fecha_fin_confiable = fechas_completas.index.max()\n",
    "\n",
    "print(f\"Los datos comienzan a estar completos desde: {fecha_inicio_confiable}\")\n",
    "print(f\"Los datos confiables cubren el periodo: {fecha_inicio_confiable} hasta {fecha_fin_confiable}\")"
   ]
  },
  {
   "cell_type": "code",
   "execution_count": 23,
   "metadata": {},
   "outputs": [
    {
     "name": "stdout",
     "output_type": "stream",
     "text": [
      "                event name              user id          event time  exp id  \\\n",
      "2828              Tutorial  3737462046622621720 2019-08-01 00:07:28     246   \n",
      "2829      MainScreenAppear  3737462046622621720 2019-08-01 00:08:00     246   \n",
      "2830      MainScreenAppear  3737462046622621720 2019-08-01 00:08:55     246   \n",
      "2831    OffersScreenAppear  3737462046622621720 2019-08-01 00:08:58     246   \n",
      "2832      MainScreenAppear  1433840883824088890 2019-08-01 00:08:59     247   \n",
      "...                    ...                  ...                 ...     ...   \n",
      "244121    MainScreenAppear  4599628364049201812 2019-08-07 21:12:25     247   \n",
      "244122    MainScreenAppear  5849806612437486590 2019-08-07 21:13:59     246   \n",
      "244123    MainScreenAppear  5746969938801999050 2019-08-07 21:14:43     246   \n",
      "244124    MainScreenAppear  5746969938801999050 2019-08-07 21:14:58     246   \n",
      "244125  OffersScreenAppear  5746969938801999050 2019-08-07 21:15:17     246   \n",
      "\n",
      "       event date  \n",
      "2828   2019-08-01  \n",
      "2829   2019-08-01  \n",
      "2830   2019-08-01  \n",
      "2831   2019-08-01  \n",
      "2832   2019-08-01  \n",
      "...           ...  \n",
      "244121 2019-08-07  \n",
      "244122 2019-08-07  \n",
      "244123 2019-08-07  \n",
      "244124 2019-08-07  \n",
      "244125 2019-08-07  \n",
      "\n",
      "[241298 rows x 5 columns]\n"
     ]
    }
   ],
   "source": [
    "df_filtrado = df_1[df_1['event date'] >= fecha_inicio_confiable]\n",
    "print(df_filtrado)"
   ]
  },
  {
   "cell_type": "markdown",
   "metadata": {},
   "source": [
    "¿Perdiste muchos eventos y usuarios al excluir los datos más antiguos?"
   ]
  },
  {
   "cell_type": "code",
   "execution_count": 24,
   "metadata": {},
   "outputs": [],
   "source": [
    "eventos_totales_antes = len(df_1)\n",
    "usuarios_unicos_antes = df_1['user id'].nunique()"
   ]
  },
  {
   "cell_type": "code",
   "execution_count": 25,
   "metadata": {},
   "outputs": [],
   "source": [
    "eventos_totales_despues = len(df_filtrado)\n",
    "usuarios_unicos_despues = df_filtrado['user id'].nunique()"
   ]
  },
  {
   "cell_type": "code",
   "execution_count": 26,
   "metadata": {},
   "outputs": [
    {
     "name": "stdout",
     "output_type": "stream",
     "text": [
      "Eventos perdidos: 2828 (1.16%)\n",
      "Usuarios perdidos: 17 (0.23%)\n"
     ]
    }
   ],
   "source": [
    "eventos_perdidos = eventos_totales_antes - eventos_totales_despues\n",
    "porcentaje_eventos_perdidos = (eventos_perdidos / eventos_totales_antes) * 100\n",
    "\n",
    "\n",
    "usuarios_perdidos = usuarios_unicos_antes - usuarios_unicos_despues\n",
    "porcentaje_usuarios_perdidos = (usuarios_perdidos / usuarios_unicos_antes) * 100\n",
    "\n",
    "\n",
    "print(f\"Eventos perdidos: {eventos_perdidos} ({porcentaje_eventos_perdidos:.2f}%)\")\n",
    "print(f\"Usuarios perdidos: {usuarios_perdidos} ({porcentaje_usuarios_perdidos:.2f}%)\")"
   ]
  },
  {
   "cell_type": "markdown",
   "metadata": {},
   "source": [
    "Asegúrate de tener usuarios de los tres grupos experimentales"
   ]
  },
  {
   "cell_type": "code",
   "execution_count": 27,
   "metadata": {},
   "outputs": [
    {
     "name": "stdout",
     "output_type": "stream",
     "text": [
      "Grupos experimentales presentes en los datos filtrados: [246 247 248]\n"
     ]
    }
   ],
   "source": [
    "grupos_presentes = df_filtrado['exp id'].unique()\n",
    "\n",
    "print(f\"Grupos experimentales presentes en los datos filtrados: {grupos_presentes}\")"
   ]
  },
  {
   "cell_type": "code",
   "execution_count": 28,
   "metadata": {},
   "outputs": [
    {
     "name": "stdout",
     "output_type": "stream",
     "text": [
      "Número de usuarios únicos por grupo experimental:\n",
      "exp id\n",
      "246    2484\n",
      "247    2513\n",
      "248    2537\n",
      "Name: user id, dtype: int64\n"
     ]
    }
   ],
   "source": [
    "usuarios_por_grupo = df_filtrado.groupby('exp id')['user id'].nunique()\n",
    "\n",
    "print(\"Número de usuarios únicos por grupo experimental:\")\n",
    "print(usuarios_por_grupo)"
   ]
  },
  {
   "cell_type": "markdown",
   "metadata": {},
   "source": [
    "<h1 style=\"font-size:20px;\"> Analisis de comprobacion de los datos:</h1>\n",
    "\n",
    "Despues de haber analizado la información anterior, se puede identificar lo siguiente:\n",
    "\n",
    "-Hay 244,126 eventos lo cual es un buen volumen  para análisis estadístico. Sin embargo, no todos los eventos son iguales: algunos pueden estar muy concentrados en ciertos usuarios o fechas.\n",
    "\n",
    "-Tambien hay 7,551 usuarios únicos por lo que el tamaño muestral es suficiente para detectar efectos moderados en tests A/B.\n",
    "\n",
    "-Los 32.33 eventos/usuario lo que Indica un alto grado de interacción. También sugiere que hay repetición y engagement, útil para observar embudos, secuencias y patrones de comportamiento.\n",
    "\n",
    "\n",
    "-Se pierden pocos datos,como el 1.16% Eventos perdidos y el 0.23 de usuarios perdidos,por lo tanto, el filtrado es una buena decisión sin perjudicar la validez estadística.\n",
    "\n",
    "-Por ultimo que los grupos Grupos 246 (control A), 247 (control A), y 248 (prueba B) están presentes, esto permite que  que el análisis A/A/B es aplicable y que se puede evaluar la consistencia de los controles y el impacto del cambio.\n"
   ]
  },
  {
   "cell_type": "markdown",
   "metadata": {},
   "source": [
    "<h1 style=\"font-size:25px;\">Paso 4. Estudiar el embudo de eventos</h1> "
   ]
  },
  {
   "cell_type": "markdown",
   "metadata": {},
   "source": [
    "Observa qué eventos hay en los registros y su frecuencia de suceso. Ordénalos por frecuencia."
   ]
  },
  {
   "cell_type": "code",
   "execution_count": 29,
   "metadata": {},
   "outputs": [
    {
     "name": "stdout",
     "output_type": "stream",
     "text": [
      "Frecuencia de eventos (ordenados de mayor a menor):\n",
      "MainScreenAppear           117431\n",
      "OffersScreenAppear          46350\n",
      "CartScreenAppear            42365\n",
      "PaymentScreenSuccessful     34113\n",
      "Tutorial                     1039\n",
      "Name: event name, dtype: int64\n"
     ]
    }
   ],
   "source": [
    "frecuencia_eventos = df_filtrado['event name'].value_counts()\n",
    "\n",
    "\n",
    "print(\"Frecuencia de eventos (ordenados de mayor a menor):\")\n",
    "print(frecuencia_eventos)"
   ]
  },
  {
   "cell_type": "markdown",
   "metadata": {},
   "source": [
    "Encuentra la cantidad de usuarios que realizaron cada una de estas acciones. Ordena los eventos por el número de usuarios. Calcula la proporción de usuarios que realizaron la acción al menos una vez."
   ]
  },
  {
   "cell_type": "code",
   "execution_count": 30,
   "metadata": {},
   "outputs": [
    {
     "name": "stdout",
     "output_type": "stream",
     "text": [
      "Usuarios únicos por evento (ordenados):\n",
      "event name\n",
      "MainScreenAppear           7419\n",
      "OffersScreenAppear         4593\n",
      "CartScreenAppear           3734\n",
      "PaymentScreenSuccessful    3539\n",
      "Tutorial                    840\n",
      "Name: user id, dtype: int64\n"
     ]
    }
   ],
   "source": [
    "usuarios_por_evento = df_filtrado.groupby('event name')['user id'].nunique()\n",
    "\n",
    "\n",
    "usuarios_por_evento = usuarios_por_evento.sort_values(ascending=False)\n",
    "\n",
    "print(\"Usuarios únicos por evento (ordenados):\")\n",
    "print(usuarios_por_evento)"
   ]
  },
  {
   "cell_type": "code",
   "execution_count": 31,
   "metadata": {},
   "outputs": [
    {
     "name": "stdout",
     "output_type": "stream",
     "text": [
      "Embudo de eventos con proporción de usuarios:\n",
      "                         usuarios únicos  proporción\n",
      "event name                                          \n",
      "MainScreenAppear                    7419    0.984736\n",
      "OffersScreenAppear                  4593    0.609636\n",
      "CartScreenAppear                    3734    0.495620\n",
      "PaymentScreenSuccessful             3539    0.469737\n",
      "Tutorial                             840    0.111495\n"
     ]
    }
   ],
   "source": [
    "total_usuarios = df_filtrado['user id'].nunique()\n",
    "\n",
    "\n",
    "proporcion_usuarios = usuarios_por_evento / total_usuarios\n",
    "\n",
    "\n",
    "embudo_df = pd.DataFrame({\n",
    "    'usuarios únicos': usuarios_por_evento,\n",
    "    'proporción': proporcion_usuarios\n",
    "})\n",
    "\n",
    "print(\"Embudo de eventos con proporción de usuarios:\")\n",
    "print(embudo_df)"
   ]
  },
  {
   "cell_type": "markdown",
   "metadata": {},
   "source": [
    "¿En qué orden crees que ocurrieron las acciones? ¿Todas son parte de una sola secuencia? No es necesario tenerlas en cuenta al calcular el embudo."
   ]
  },
  {
   "cell_type": "markdown",
   "metadata": {},
   "source": [
    "Al analizar en embudo considero que las acciones ocurrieron de la siguiente manera: \n",
    "\n",
    "\n",
    "1.-MainScreenAppear\n",
    "El usuario abre la app o aterriza en la pantalla principal.\n",
    " Inicio claro del embudo.\n",
    "\n",
    "2.-OffersScreenAppear\n",
    "El usuario consulta las ofertas.\n",
    " Podría ser un paso intermedio opcional entre explorar y añadir al carrito.\n",
    "\n",
    "3.-CartScreenAppear\n",
    "El usuario entra al carrito.\n",
    "Paso típico después de elegir productos.\n",
    "\n",
    "4.-PaymentScreenSuccessful\n",
    "El usuario completa el pago con éxito.\n",
    " Último paso del embudo de conversión.\n",
    "\n",
    "5.-Tutorial\n",
    "El usuario ve un tutorial.\n",
    " No forma parte del embudo de compra, es un evento paralelo.\n",
    "\n",
    "\n",
    "En otras palabras, el orden sugerido del embudo seria el siguiente: MainScreenAppear → OffersScreenAppear (opcional) → CartScreenAppear → PaymentScreenSuccessful.Por lo que No Todas son parte de una sola secuencia ya que El evento Tutorial claramente no forma parte del flujo de compra, aunque es útil para entender usuarios nuevos y este embudo Solo considera los 4 primeros eventos en orden lógico como parte del embudo."
   ]
  },
  {
   "cell_type": "markdown",
   "metadata": {},
   "source": [
    "Utiliza el embudo de eventos para encontrar la proporción de usuarios que pasan de una etapa a la siguiente"
   ]
  },
  {
   "cell_type": "code",
   "execution_count": 32,
   "metadata": {},
   "outputs": [
    {
     "name": "stdout",
     "output_type": "stream",
     "text": [
      "Conversión MainScreen → Offers: 61.91%\n",
      "Conversión Offers → Cart: 81.30%\n",
      "Conversión Cart → Payment: 94.78%\n"
     ]
    }
   ],
   "source": [
    "usuarios_embudo = {\n",
    "    'MainScreenAppear': 7419,\n",
    "    'OffersScreenAppear': 4593,\n",
    "    'CartScreenAppear': 3734,\n",
    "    'PaymentScreenSuccessful': 3539\n",
    "}\n",
    "\n",
    "\n",
    "conversion_1 = usuarios_embudo['OffersScreenAppear'] / usuarios_embudo['MainScreenAppear']\n",
    "conversion_2 = usuarios_embudo['CartScreenAppear'] / usuarios_embudo['OffersScreenAppear']\n",
    "conversion_3 = usuarios_embudo['PaymentScreenSuccessful'] / usuarios_embudo['CartScreenAppear']\n",
    "\n",
    "\n",
    "print(f\"Conversión MainScreen → Offers: {conversion_1:.2%}\")\n",
    "print(f\"Conversión Offers → Cart: {conversion_2:.2%}\")\n",
    "print(f\"Conversión Cart → Payment: {conversion_3:.2%}\")"
   ]
  },
  {
   "cell_type": "markdown",
   "metadata": {},
   "source": [
    "¿Qué porcentaje de usuarios hace todo el viaje desde su primer evento hasta el pago?"
   ]
  },
  {
   "cell_type": "code",
   "execution_count": 33,
   "metadata": {},
   "outputs": [
    {
     "name": "stdout",
     "output_type": "stream",
     "text": [
      "Usuarios que completaron todo el embudo: 3429\n",
      "Porcentaje de usuarios que hicieron todo el viaje: 45.51%\n"
     ]
    }
   ],
   "source": [
    "usuarios_main = set(df_filtrado[df_filtrado['event name'] == 'MainScreenAppear']['user id'])\n",
    "usuarios_offers = set(df_filtrado[df_filtrado['event name'] == 'OffersScreenAppear']['user id'])\n",
    "usuarios_cart = set(df_filtrado[df_filtrado['event name'] == 'CartScreenAppear']['user id'])\n",
    "usuarios_payment = set(df_filtrado[df_filtrado['event name'] == 'PaymentScreenSuccessful']['user id'])\n",
    "\n",
    "\n",
    "usuarios_completos = usuarios_main & usuarios_offers & usuarios_cart & usuarios_payment\n",
    "\n",
    "\n",
    "total_usuarios = df_filtrado['user id'].nunique()\n",
    "\n",
    "\n",
    "porcentaje_completos = len(usuarios_completos) / total_usuarios * 100\n",
    "\n",
    "print(f\"Usuarios que completaron todo el embudo: {len(usuarios_completos)}\")\n",
    "print(f\"Porcentaje de usuarios que hicieron todo el viaje: {porcentaje_completos:.2f}%\")"
   ]
  },
  {
   "cell_type": "markdown",
   "metadata": {},
   "source": [
    "<h1 style=\"font-size:20px;\">Analisis del paso  embudo de eventos</h1> \n",
    "\n",
    "Al analizar la informacion anterior se puede observar lo siguiente:\n",
    "\n",
    "-Que el orden de los eventos más importantes son: 1.-MainScreenAppear,2.- OffersScreenAppear, 3.- CartScreenAppear, 4.- PaymentScreenSuccessful. 5.-PaymentScreenSuccessful.\n",
    "\n",
    "-Cada embudo tiene una importancia relevante como la siguiente: MainScreenAppear: Entrada a la app — punto de partida claro del embudo, OffersScreenAppear Indica intención de exploración, CartScreenAppear es clave para la intención de compra y PaymentScreenSuccessful indica la Conversión completa.\n",
    "\n",
    "-La mayor pérdida se da entre la pantalla principal y la de ofertas.\n",
    "\n",
    "-Más de 1 de cada 3 usuarios que abren la app no llegan a la sección de ofertas.\n",
    "\n",
    "-Las caídas en pasos posteriores son mucho menores, lo que indica que los usuarios que se interesan en las ofertas tienden a avanzar en el proceso de compra.\n",
    "\n",
    "-La etapa donde se pierden más usuarios es MainScreen - Offers, con una pérdida del 38.09% por lo que es importante analizar los aspectos de la pantalla principal y verificar aspectos de   la pantalla principal como por ejemplo si ¿Es poco clara? ¿Los botones de navegación no son visibles? ¿Las ofertas no se destacan lo suficiente?\n",
    "\n",
    "\n",
    "- Casi todos ven la pantalla principal (98.5%), sim embargo solo el Solo el 61% ve ofertas y menos del Menos del 47% completa la compra, es decir que Hay una fuerte pérdida inicial, lo cual sugiere problemas de UX (interfaz o navegación) en la pantalla principal. En otras palabras, hay una fuerte pérdida inicial, lo cual sugiere problemas de UX (interfaz o navegación) en la pantalla principal.\n",
    "\n",
    "- El mayor problema está en la primera pantalla es decir en el embudo de \"MainScreenAppear\" y puede deberse a diferentes factores como ofertas poco visibles, mal diseño de la página, carga lenta de elementos, o bien Usuarios que abren la app pero no tienen intención real.\n",
    "\n",
    "- En cuanto a las personas que completan el proceso de compra (45.51%) Es una buena tasa. Sin embargo, si se mejora la primera conversión mencionada anteriormente, esta cifra podría subir significativamente.\n",
    "\n"
   ]
  },
  {
   "cell_type": "markdown",
   "metadata": {},
   "source": [
    "<h1 style=\"font-size:25px;\">Paso 5. Estudiar los resultados del experimento</h1> "
   ]
  },
  {
   "cell_type": "markdown",
   "metadata": {},
   "source": [
    "¿Cuántos usuarios hay en cada grupo?"
   ]
  },
  {
   "cell_type": "code",
   "execution_count": 34,
   "metadata": {},
   "outputs": [
    {
     "name": "stdout",
     "output_type": "stream",
     "text": [
      "   Grupo Experimental  Usuarios Únicos\n",
      "0                 246             2484\n",
      "1                 247             2513\n",
      "2                 248             2537\n"
     ]
    }
   ],
   "source": [
    "usuarios_por_grupo = df_filtrado.groupby('exp id')['user id'].nunique().reset_index()\n",
    "usuarios_por_grupo.columns = ['Grupo Experimental', 'Usuarios Únicos']\n",
    "\n",
    "print(usuarios_por_grupo)"
   ]
  },
  {
   "cell_type": "markdown",
   "metadata": {},
   "source": [
    "Tenemos dos grupos de control en el test A/A, donde comprobamos nuestros mecanismos y cálculos. Observa si hay una diferencia estadísticamente significativa entre las muestras 246 y 247."
   ]
  },
  {
   "cell_type": "code",
   "execution_count": 35,
   "metadata": {},
   "outputs": [],
   "source": [
    "grupo_aa = df_filtrado[df_filtrado['exp id'].isin([246, 247])]\n",
    "\n",
    "\n",
    "eventos_por_usuario = grupo_aa.groupby(['exp id', 'user id']).size().reset_index(name='event_count')\n",
    "\n",
    "\n",
    "grupo_246 = eventos_por_usuario[eventos_por_usuario['exp id'] == 246]['event_count']\n",
    "grupo_247 = eventos_por_usuario[eventos_por_usuario['exp id'] == 247]['event_count']"
   ]
  },
  {
   "cell_type": "code",
   "execution_count": 36,
   "metadata": {
    "scrolled": true
   },
   "outputs": [
    {
     "name": "stdout",
     "output_type": "stream",
     "text": [
      "Grupo 246 - media de eventos por usuario: 31.97\n",
      "Grupo 247 - media de eventos por usuario: 30.70\n",
      "\n",
      "Resultado del test t:\n",
      "Estadístico t: 0.7402\n",
      "Valor-p: 0.4592\n",
      "\n",
      "✅ No hay diferencia significativa en la actividad entre los grupos 246 y 247.\n"
     ]
    }
   ],
   "source": [
    "stat, pval = ttest_ind(grupo_246, grupo_247, equal_var=False)  # Welch’s t-test\n",
    "\n",
    "print(f\"Grupo 246 - media de eventos por usuario: {grupo_246.mean():.2f}\")\n",
    "print(f\"Grupo 247 - media de eventos por usuario: {grupo_247.mean():.2f}\")\n",
    "print(\"\\nResultado del test t:\")\n",
    "print(f\"Estadístico t: {stat:.4f}\")\n",
    "print(f\"Valor-p: {pval:.4f}\")\n",
    "\n",
    "if pval < 0.05:\n",
    "    print(\"\\n❗️Hay una diferencia estadísticamente significativa en la actividad entre los grupos 246 y 247.\")\n",
    "else:\n",
    "    print(\"\\n✅ No hay diferencia significativa en la actividad entre los grupos 246 y 247.\")"
   ]
  },
  {
   "cell_type": "markdown",
   "metadata": {},
   "source": [
    "Selecciona el evento más popular. En cada uno de los grupos de control, encuentra la cantidad de usuarios que realizaron esta acción. Encuentra su proporción. Comprueba si la diferencia entre los grupos es estadísticamente significativa. Repite el procedimiento para todos los demás eventos (ahorrarás tiempo si creas una función especial para esta prueba). ¿Puedes confirmar que los grupos se dividieron correctamente?"
   ]
  },
  {
   "cell_type": "code",
   "execution_count": 37,
   "metadata": {},
   "outputs": [
    {
     "name": "stdout",
     "output_type": "stream",
     "text": [
      "📊 El evento más frecuente es: 'MainScreenAppear' con 117431 ocurrencias.\n"
     ]
    }
   ],
   "source": [
    "evento_mas_frecuente = df_filtrado['event name'].value_counts().idxmax()\n",
    "frecuencia = df_filtrado['event name'].value_counts().max()\n",
    "\n",
    "print(f\"📊 El evento más frecuente es: '{evento_mas_frecuente}' con {frecuencia} ocurrencias.\")"
   ]
  },
  {
   "cell_type": "code",
   "execution_count": 38,
   "metadata": {},
   "outputs": [
    {
     "name": "stdout",
     "output_type": "stream",
     "text": [
      "📊 Usando el evento más popular: 'MainScreenAppear'\n",
      "\n",
      "Proporciones de usuarios que realizaron el evento 'MainScreenAppear':\n",
      "Grupo 246: 2450/2484 = 0.9863\n",
      "Grupo 247: 2476/2513 = 0.9853\n",
      "\n",
      "🔍 Resultado del test Z:\n",
      "Estadístico Z: 0.3093\n",
      "Valor-p: 0.7571\n"
     ]
    }
   ],
   "source": [
    "grupo_aa = df_filtrado[df_filtrado['exp id'].isin([246, 247])]\n",
    "\n",
    "\n",
    "evento_mas_popular = 'MainScreenAppear'\n",
    "print(f\"📊 Usando el evento más popular: '{evento_mas_popular}'\")\n",
    "\n",
    "\n",
    "usuarios_por_grupo = grupo_aa.groupby('exp id')['user id'].nunique()\n",
    "\n",
    "\n",
    "usuarios_evento = grupo_aa[grupo_aa['event name'] == evento_mas_popular]\n",
    "usuarios_evento_por_grupo = usuarios_evento.groupby('exp id')['user id'].nunique()\n",
    "\n",
    "\n",
    "count_246 = usuarios_evento_por_grupo.get(246, 0)\n",
    "count_247 = usuarios_evento_por_grupo.get(247, 0)\n",
    "nobs_246 = usuarios_por_grupo.get(246, 1)  # evitar división por cero\n",
    "nobs_247 = usuarios_por_grupo.get(247, 1)\n",
    "\n",
    "counts = [count_246, count_247]\n",
    "nobs = [nobs_246, nobs_247]\n",
    "\n",
    "\n",
    "stat, pval = proportions_ztest(count=counts, nobs=nobs)\n",
    "\n",
    "\n",
    "print(\"\\nProporciones de usuarios que realizaron el evento 'MainScreenAppear':\")\n",
    "print(f\"Grupo 246: {count_246}/{nobs_246} = {count_246 / nobs_246:.4f}\")\n",
    "print(f\"Grupo 247: {count_247}/{nobs_247} = {count_247 / nobs_247:.4f}\")\n",
    "\n",
    "print(\"\\n🔍 Resultado del test Z:\")\n",
    "print(f\"Estadístico Z: {stat:.4f}\")\n",
    "print(f\"Valor-p: {pval:.4f}\")"
   ]
  },
  {
   "cell_type": "code",
   "execution_count": 39,
   "metadata": {},
   "outputs": [
    {
     "name": "stdout",
     "output_type": "stream",
     "text": [
      "\n",
      "✅ No hay diferencia significativa entre los grupos 246 y 247. La división fue correcta.\n"
     ]
    }
   ],
   "source": [
    "if pval < 0.05:\n",
    "    print(\"\\n❗️Existe una diferencia estadísticamente significativa entre los grupos 246 y 247.\")\n",
    "else:\n",
    "    print(\"\\n✅ No hay diferencia significativa entre los grupos 246 y 247. La división fue correcta.\")"
   ]
  },
  {
   "cell_type": "markdown",
   "metadata": {},
   "source": [
    "Haz lo mismo para el grupo con fuentes alteradas. Compara los resultados con los de cada uno de los grupos de control para cada evento de forma aislada. Compara los resultados con los resultados combinados de los grupos de control. ¿Qué conclusiones puedes sacar del experimento?"
   ]
  },
  {
   "cell_type": "code",
   "execution_count": 40,
   "metadata": {},
   "outputs": [],
   "source": [
    "grupo_control = df_filtrado[df_filtrado['exp id'].isin([246, 247])]\n",
    "grupo_control_246 = df_filtrado[df_filtrado['exp id'] == 246]\n",
    "grupo_control_247 = df_filtrado[df_filtrado['exp id'] == 247]\n",
    "grupo_test = df_filtrado[df_filtrado['exp id'] == 248]\n",
    "\n",
    "\n",
    "usuarios_total = {\n",
    "    246: grupo_control_246['user id'].nunique(),\n",
    "    247: grupo_control_247['user id'].nunique(),\n",
    "    248: grupo_test['user id'].nunique(),\n",
    "    'control_combinado': grupo_control['user id'].nunique()\n",
    "}\n",
    "\n",
    "\n",
    "def comparar_evento_entre_grupos(evento, df1, df2, n1, n2):\n",
    "    usuarios1 = df1[df1['event name'] == evento]['user id'].nunique()\n",
    "    usuarios2 = df2[df2['event name'] == evento]['user id'].nunique()\n",
    "\n",
    "    prop1 = usuarios1 / n1 if n1 > 0 else 0\n",
    "    prop2 = usuarios2 / n2 if n2 > 0 else 0\n",
    "\n",
    "    stat, pval = proportions_ztest([usuarios1, usuarios2], [n1, n2])\n",
    "\n",
    "    return prop1, prop2, pval"
   ]
  },
  {
   "cell_type": "code",
   "execution_count": 41,
   "metadata": {},
   "outputs": [
    {
     "name": "stdout",
     "output_type": "stream",
     "text": [
      "                    evento  prop_246  prop_247  prop_248  pval_246_vs_248  \\\n",
      "3         CartScreenAppear  0.509662  0.492638  0.484825         0.078429   \n",
      "1         MainScreenAppear  0.986312  0.985277  0.982657         0.294972   \n",
      "2       OffersScreenAppear  0.620773  0.604855  0.603469         0.208362   \n",
      "4  PaymentScreenSuccessful  0.483092  0.460804  0.465510         0.212255   \n",
      "0                 Tutorial  0.111916  0.112614  0.109972         0.826429   \n",
      "\n",
      "   pval_247_vs_248  pval_control_vs_248  \n",
      "3         0.578620             0.181759  \n",
      "1         0.458705             0.294245  \n",
      "2         0.919782             0.434255  \n",
      "4         0.737342             0.600429  \n",
      "0         0.765324             0.764862  \n",
      "\n",
      "✅ No se detectaron diferencias significativas. El nuevo diseño no parece afectar el comportamiento.\n"
     ]
    }
   ],
   "source": [
    "eventos_unicos = df_filtrado['event name'].unique()\n",
    "\n",
    "\n",
    "comparaciones = []\n",
    "\n",
    "for evento in eventos_unicos:\n",
    "    \n",
    "    prop_246, prop_248_a, pval_246_vs_248 = comparar_evento_entre_grupos(\n",
    "        evento, grupo_control_246, grupo_test, usuarios_total[246], usuarios_total[248]\n",
    "    )\n",
    "    prop_247, prop_248_b, pval_247_vs_248 = comparar_evento_entre_grupos(\n",
    "        evento, grupo_control_247, grupo_test, usuarios_total[247], usuarios_total[248]\n",
    "    )\n",
    "    \n",
    "    prop_control, prop_248_c, pval_control_vs_248 = comparar_evento_entre_grupos(\n",
    "        evento, grupo_control, grupo_test, usuarios_total['control_combinado'], usuarios_total[248]\n",
    "    )\n",
    "\n",
    "    comparaciones.append({\n",
    "        'evento': evento,\n",
    "        'prop_246': prop_246,\n",
    "        'prop_247': prop_247,\n",
    "        'prop_248': prop_248_a,  # todas iguales para 248\n",
    "        'pval_246_vs_248': pval_246_vs_248,\n",
    "        'pval_247_vs_248': pval_247_vs_248,\n",
    "        'pval_control_vs_248': pval_control_vs_248\n",
    "    })\n",
    "\n",
    "\n",
    "df_comparacion = pd.DataFrame(comparaciones)\n",
    "\n",
    "\n",
    "df_comparacion.sort_values(by='pval_control_vs_248', inplace=True)\n",
    "\n",
    "\n",
    "print(df_comparacion)\n",
    "\n",
    "\n",
    "eventos_significativos = df_comparacion[df_comparacion['pval_control_vs_248'] < 0.05]\n",
    "\n",
    "if not eventos_significativos.empty:\n",
    "    print(\"\\n❗️Hay diferencias estadísticamente significativas entre el grupo con fuentes nuevas y los controles.\")\n",
    "    print(\"Eventos afectados:\")\n",
    "    print(eventos_significativos[['evento', 'prop_246', 'prop_247', 'prop_248', 'pval_control_vs_248']])\n",
    "else:\n",
    "    print(\"\\n✅ No se detectaron diferencias significativas. El nuevo diseño no parece afectar el comportamiento.\")"
   ]
  },
  {
   "cell_type": "markdown",
   "metadata": {},
   "source": [
    "¿Qué nivel de significancia has establecido para probar las hipótesis estadísticas mencionadas anteriormente? Calcula cuántas pruebas de hipótesis estadísticas has realizado. Con un nivel de significancia estadística de 0.1, uno de cada 10 resultados podría ser falso. ¿Cuál debería ser el nivel de significancia? Si deseas cambiarlo, vuelve a ejecutar los pasos anteriores y comprueba tus conclusiones."
   ]
  },
  {
   "cell_type": "code",
   "execution_count": 42,
   "metadata": {},
   "outputs": [],
   "source": [
    "alpha = 0.1\n",
    "\n",
    "eventos_significativos = df_comparacion[df_comparacion['pval_control_vs_248'] < alpha]"
   ]
  },
  {
   "cell_type": "code",
   "execution_count": 43,
   "metadata": {},
   "outputs": [
    {
     "name": "stdout",
     "output_type": "stream",
     "text": [
      "\n",
      "🔍 Se realizaron 15 pruebas de hipótesis.\n",
      "Con un nivel de significancia de 0.1, se espera aproximadamente 1.5 falsos positivos solo por azar.\n"
     ]
    }
   ],
   "source": [
    "num_pruebas = len(eventos_unicos) * 3\n",
    "falsos_positivos_esperados = num_pruebas * alpha\n",
    "\n",
    "print(f\"\\n🔍 Se realizaron {num_pruebas} pruebas de hipótesis.\")\n",
    "print(f\"Con un nivel de significancia de {alpha}, se espera aproximadamente {falsos_positivos_esperados:.1f} falsos positivos solo por azar.\")"
   ]
  },
  {
   "cell_type": "code",
   "execution_count": 44,
   "metadata": {},
   "outputs": [
    {
     "name": "stdout",
     "output_type": "stream",
     "text": [
      "\n",
      "✅ No hay diferencias significativas incluso con nivel de significancia más flexible (0.1).\n",
      "\n",
      "🔍 Se realizaron 15 pruebas.\n",
      "Con α = 0.1, podrías esperar ~1.5 falsos positivos.\n"
     ]
    }
   ],
   "source": [
    "alpha = 0.1\n",
    "\n",
    "eventos_significativos = df_comparacion[df_comparacion['pval_control_vs_248'] < alpha]\n",
    "\n",
    "if not eventos_significativos.empty:\n",
    "    print(\"\\n❗️Con nivel de significancia de 0.1, se detectan diferencias entre grupo de prueba y controles.\")\n",
    "    print(\"Eventos afectados:\")\n",
    "    print(eventos_significativos[['evento', 'prop_246', 'prop_247', 'prop_248', 'pval_control_vs_248']])\n",
    "else:\n",
    "    print(\"\\n✅ No hay diferencias significativas incluso con nivel de significancia más flexible (0.1).\")\n",
    "\n",
    "\n",
    "num_pruebas = len(eventos_unicos) * 3\n",
    "falsos_positivos_esperados = num_pruebas * alpha\n",
    "\n",
    "print(f\"\\n🔍 Se realizaron {num_pruebas} pruebas.\")\n",
    "print(f\"Con α = {alpha}, podrías esperar ~{falsos_positivos_esperados:.1f} falsos positivos.\")"
   ]
  },
  {
   "cell_type": "markdown",
   "metadata": {},
   "source": [
    " <h1 style=\"font-size:25px;\">Analisis de los resultados del experimento</h1>\n",
    "\n",
    "Despues de analizar la informacion anterior se puede concluir lo siguiente:\n",
    "\n",
    "-No hay diferencias estadísticas ni prácticas entre los dos grupos de control.\n",
    "Esto valida el sistema de asignación aleatoria y sugiere que el experimento está bien diseñado.\n",
    "\n",
    "- Se usaron dos niveles de significancia de α = 0.05 y α = 0.1 y no hubo impacto en las Ni en comportamiento general, Ni en tasas de conversión, Ni en interacción con funcionalidades específicas\n",
    "\n",
    "- El cambio no afecta el comportamiento del usuario, según todas las métricas observadas, asi como recomendación que Se puede implementar un nuevo diseño de la pagina principal, ademas de que  El sistema de experimentación es sólido y puede usarse para futuros cambios.\n",
    "\n",
    "- Como ultimas recomendaciones extras tambien se puede: Aplicar el nuevo diseño visual, Implementar un sistema de experimentación continua,  Acompañar cambios futuros con feedback cualitativo,  Segmentar usuarios y observar efectos por tipo de dispositivo, edad, etc,  enfocarse en optimizar la conversión desde la pantalla principal ya que como se observo en el analisis la mayor pérdida está en el paso MainScreen - Offers."
   ]
  }
 ],
 "metadata": {
  "ExecuteTimeLog": [
   {
    "duration": 315,
    "start_time": "2025-05-09T03:35:08.169Z"
   },
   {
    "duration": 227,
    "start_time": "2025-05-09T03:35:09.940Z"
   },
   {
    "duration": 255,
    "start_time": "2025-05-09T03:35:40.982Z"
   },
   {
    "duration": 213,
    "start_time": "2025-05-09T03:36:29.770Z"
   },
   {
    "duration": 7,
    "start_time": "2025-05-09T03:36:41.652Z"
   },
   {
    "duration": 14,
    "start_time": "2025-05-09T03:37:10.692Z"
   },
   {
    "duration": 572,
    "start_time": "2025-05-09T03:46:21.211Z"
   },
   {
    "duration": 563,
    "start_time": "2025-05-09T03:46:30.585Z"
   },
   {
    "duration": 680,
    "start_time": "2025-05-09T03:46:44.112Z"
   },
   {
    "duration": 6,
    "start_time": "2025-05-09T04:04:29.322Z"
   },
   {
    "duration": 70,
    "start_time": "2025-05-09T04:04:50.601Z"
   },
   {
    "duration": 28,
    "start_time": "2025-05-09T04:22:34.823Z"
   },
   {
    "duration": 423,
    "start_time": "2025-05-09T04:22:53.179Z"
   },
   {
    "duration": 19,
    "start_time": "2025-05-09T04:23:02.870Z"
   },
   {
    "duration": 6,
    "start_time": "2025-05-09T04:23:22.869Z"
   },
   {
    "duration": 14,
    "start_time": "2025-05-09T04:42:49.349Z"
   },
   {
    "duration": 9,
    "start_time": "2025-05-09T04:43:02.133Z"
   },
   {
    "duration": 15,
    "start_time": "2025-05-09T04:47:20.953Z"
   },
   {
    "duration": 51,
    "start_time": "2025-05-09T04:47:52.539Z"
   },
   {
    "duration": 47,
    "start_time": "2025-05-09T04:48:20.399Z"
   },
   {
    "duration": 49,
    "start_time": "2025-05-09T04:48:43.194Z"
   },
   {
    "duration": 16,
    "start_time": "2025-05-09T04:50:19.620Z"
   },
   {
    "duration": 49,
    "start_time": "2025-05-09T04:52:20.269Z"
   },
   {
    "duration": 5,
    "start_time": "2025-05-09T04:52:32.155Z"
   },
   {
    "duration": 51,
    "start_time": "2025-05-09T04:54:19.738Z"
   },
   {
    "duration": 13,
    "start_time": "2025-05-09T04:57:05.178Z"
   },
   {
    "duration": 39,
    "start_time": "2025-05-09T04:57:12.326Z"
   },
   {
    "duration": 14,
    "start_time": "2025-05-09T04:57:27.982Z"
   },
   {
    "duration": 25,
    "start_time": "2025-05-09T04:57:41.789Z"
   },
   {
    "duration": 3,
    "start_time": "2025-05-09T04:58:05.441Z"
   },
   {
    "duration": 4,
    "start_time": "2025-05-09T04:58:17.008Z"
   },
   {
    "duration": 5,
    "start_time": "2025-05-09T04:58:25.106Z"
   },
   {
    "duration": 337,
    "start_time": "2025-05-10T02:12:33.689Z"
   },
   {
    "duration": 229,
    "start_time": "2025-05-10T02:12:36.737Z"
   },
   {
    "duration": 4,
    "start_time": "2025-05-10T02:12:42.118Z"
   },
   {
    "duration": 14,
    "start_time": "2025-05-10T02:12:45.934Z"
   },
   {
    "duration": 13,
    "start_time": "2025-05-10T02:13:03.924Z"
   },
   {
    "duration": 416,
    "start_time": "2025-05-10T02:13:07.523Z"
   },
   {
    "duration": 44,
    "start_time": "2025-05-10T02:13:12.521Z"
   },
   {
    "duration": 250,
    "start_time": "2025-05-10T02:13:15.877Z"
   },
   {
    "duration": 19,
    "start_time": "2025-05-10T02:13:19.556Z"
   },
   {
    "duration": 5,
    "start_time": "2025-05-10T02:13:22.811Z"
   },
   {
    "duration": 9,
    "start_time": "2025-05-10T02:13:25.395Z"
   },
   {
    "duration": 14,
    "start_time": "2025-05-10T02:13:28.148Z"
   },
   {
    "duration": 50,
    "start_time": "2025-05-10T02:13:31.104Z"
   },
   {
    "duration": 56,
    "start_time": "2025-05-10T02:13:34.224Z"
   },
   {
    "duration": 41,
    "start_time": "2025-05-10T02:13:37.853Z"
   },
   {
    "duration": 5,
    "start_time": "2025-05-10T02:19:09.779Z"
   },
   {
    "duration": 3,
    "start_time": "2025-05-10T02:23:51.135Z"
   },
   {
    "duration": 3,
    "start_time": "2025-05-10T02:43:18.808Z"
   },
   {
    "duration": 3,
    "start_time": "2025-05-10T02:43:42.054Z"
   },
   {
    "duration": 2253,
    "start_time": "2025-05-10T02:46:11.909Z"
   },
   {
    "duration": 8,
    "start_time": "2025-05-10T02:47:06.528Z"
   },
   {
    "duration": 6,
    "start_time": "2025-05-10T02:53:30.136Z"
   },
   {
    "duration": 3,
    "start_time": "2025-05-10T02:55:05.948Z"
   },
   {
    "duration": 11,
    "start_time": "2025-05-10T02:58:42.741Z"
   },
   {
    "duration": 29,
    "start_time": "2025-05-10T02:59:48.866Z"
   },
   {
    "duration": 6,
    "start_time": "2025-05-10T02:59:52.806Z"
   },
   {
    "duration": 3,
    "start_time": "2025-05-10T02:59:59.191Z"
   },
   {
    "duration": 40,
    "start_time": "2025-05-10T03:00:16.194Z"
   },
   {
    "duration": 5,
    "start_time": "2025-05-10T03:00:20.211Z"
   },
   {
    "duration": 359,
    "start_time": "2025-05-10T03:00:35.041Z"
   },
   {
    "duration": 11,
    "start_time": "2025-05-10T03:05:31.005Z"
   },
   {
    "duration": 22,
    "start_time": "2025-05-10T03:05:58.607Z"
   },
   {
    "duration": 21,
    "start_time": "2025-05-10T03:06:31.970Z"
   },
   {
    "duration": 15,
    "start_time": "2025-05-10T03:13:59.151Z"
   },
   {
    "duration": 24,
    "start_time": "2025-05-10T03:14:13.915Z"
   },
   {
    "duration": 6,
    "start_time": "2025-05-10T03:14:20.106Z"
   },
   {
    "duration": 17,
    "start_time": "2025-05-10T03:15:18.883Z"
   },
   {
    "duration": 6,
    "start_time": "2025-05-10T03:15:34.393Z"
   },
   {
    "duration": 5,
    "start_time": "2025-05-10T03:15:50.954Z"
   },
   {
    "duration": 3,
    "start_time": "2025-05-10T03:16:09.724Z"
   },
   {
    "duration": 5,
    "start_time": "2025-05-10T03:37:41.831Z"
   },
   {
    "duration": 4,
    "start_time": "2025-05-10T03:38:06.389Z"
   },
   {
    "duration": 21,
    "start_time": "2025-05-10T03:38:18.625Z"
   },
   {
    "duration": 5,
    "start_time": "2025-05-10T04:13:59.958Z"
   },
   {
    "duration": 28,
    "start_time": "2025-05-10T04:26:05.256Z"
   },
   {
    "duration": 24,
    "start_time": "2025-05-10T04:29:03.175Z"
   },
   {
    "duration": 46,
    "start_time": "2025-05-10T04:29:32.382Z"
   },
   {
    "duration": 9,
    "start_time": "2025-05-10T04:29:57.722Z"
   },
   {
    "duration": 3,
    "start_time": "2025-05-10T04:38:30.492Z"
   },
   {
    "duration": 4,
    "start_time": "2025-05-10T04:41:39.729Z"
   },
   {
    "duration": 3,
    "start_time": "2025-05-10T04:48:53.764Z"
   },
   {
    "duration": 5,
    "start_time": "2025-05-10T04:49:09.176Z"
   },
   {
    "duration": 142,
    "start_time": "2025-05-10T04:56:01.329Z"
   },
   {
    "duration": 2521,
    "start_time": "2025-05-12T00:20:28.534Z"
   },
   {
    "duration": 201,
    "start_time": "2025-05-12T00:20:31.057Z"
   },
   {
    "duration": 4,
    "start_time": "2025-05-12T00:20:33.928Z"
   },
   {
    "duration": 15,
    "start_time": "2025-05-12T00:20:36.422Z"
   },
   {
    "duration": 513,
    "start_time": "2025-05-12T00:20:38.951Z"
   },
   {
    "duration": 42,
    "start_time": "2025-05-12T00:20:42.366Z"
   },
   {
    "duration": 294,
    "start_time": "2025-05-12T00:20:45.680Z"
   },
   {
    "duration": 17,
    "start_time": "2025-05-12T00:20:47.425Z"
   },
   {
    "duration": 19,
    "start_time": "2025-05-12T00:20:50.334Z"
   },
   {
    "duration": 5,
    "start_time": "2025-05-12T00:20:52.832Z"
   },
   {
    "duration": 9,
    "start_time": "2025-05-12T00:20:56.075Z"
   },
   {
    "duration": 16,
    "start_time": "2025-05-12T00:20:58.495Z"
   },
   {
    "duration": 50,
    "start_time": "2025-05-12T00:21:01.193Z"
   },
   {
    "duration": 53,
    "start_time": "2025-05-12T00:21:04.232Z"
   },
   {
    "duration": 41,
    "start_time": "2025-05-12T00:21:08.255Z"
   },
   {
    "duration": 4,
    "start_time": "2025-05-12T00:21:10.897Z"
   },
   {
    "duration": 3,
    "start_time": "2025-05-12T00:21:14.809Z"
   },
   {
    "duration": 3,
    "start_time": "2025-05-12T00:21:19.353Z"
   },
   {
    "duration": 6,
    "start_time": "2025-05-12T00:21:22.088Z"
   },
   {
    "duration": 6,
    "start_time": "2025-05-12T00:21:25.392Z"
   },
   {
    "duration": 10,
    "start_time": "2025-05-12T00:21:28.704Z"
   },
   {
    "duration": 213,
    "start_time": "2025-05-12T00:21:34.561Z"
   },
   {
    "duration": 14,
    "start_time": "2025-05-12T00:21:44.154Z"
   },
   {
    "duration": 14,
    "start_time": "2025-05-12T00:21:52.021Z"
   },
   {
    "duration": 14,
    "start_time": "2025-05-12T00:22:07.972Z"
   },
   {
    "duration": 3,
    "start_time": "2025-05-12T00:22:23.406Z"
   },
   {
    "duration": 6,
    "start_time": "2025-05-12T00:22:26.069Z"
   },
   {
    "duration": 6,
    "start_time": "2025-05-12T00:22:29.157Z"
   },
   {
    "duration": 10,
    "start_time": "2025-05-12T00:22:32.983Z"
   },
   {
    "duration": 372,
    "start_time": "2025-05-12T00:22:36.079Z"
   },
   {
    "duration": 13,
    "start_time": "2025-05-12T00:22:40.759Z"
   },
   {
    "duration": 19,
    "start_time": "2025-05-12T00:22:45.382Z"
   },
   {
    "duration": 7,
    "start_time": "2025-05-12T00:22:49.135Z"
   },
   {
    "duration": 5,
    "start_time": "2025-05-12T00:22:51.431Z"
   },
   {
    "duration": 4,
    "start_time": "2025-05-12T00:22:54.454Z"
   },
   {
    "duration": 4,
    "start_time": "2025-05-12T00:22:57.321Z"
   },
   {
    "duration": 27,
    "start_time": "2025-05-12T00:23:02.712Z"
   },
   {
    "duration": 49,
    "start_time": "2025-05-12T00:23:06.208Z"
   },
   {
    "duration": 8,
    "start_time": "2025-05-12T00:23:09.177Z"
   },
   {
    "duration": 4,
    "start_time": "2025-05-12T00:23:14.898Z"
   },
   {
    "duration": 101,
    "start_time": "2025-05-12T00:23:19.749Z"
   },
   {
    "duration": 21,
    "start_time": "2025-05-12T00:28:55.208Z"
   },
   {
    "duration": 32,
    "start_time": "2025-05-12T00:31:05.873Z"
   },
   {
    "duration": 30,
    "start_time": "2025-05-12T00:31:27.850Z"
   },
   {
    "duration": 29,
    "start_time": "2025-05-12T00:31:46.042Z"
   },
   {
    "duration": 33,
    "start_time": "2025-05-12T00:32:53.226Z"
   },
   {
    "duration": 6,
    "start_time": "2025-05-12T00:33:20.929Z"
   },
   {
    "duration": 6,
    "start_time": "2025-05-12T00:33:36.564Z"
   },
   {
    "duration": 30,
    "start_time": "2025-05-12T00:34:08.084Z"
   },
   {
    "duration": 5,
    "start_time": "2025-05-12T00:34:10.317Z"
   },
   {
    "duration": 6,
    "start_time": "2025-05-12T00:35:03.785Z"
   },
   {
    "duration": 4,
    "start_time": "2025-05-12T00:41:39.138Z"
   },
   {
    "duration": 4,
    "start_time": "2025-05-12T00:41:54.644Z"
   },
   {
    "duration": 4,
    "start_time": "2025-05-12T00:42:03.396Z"
   },
   {
    "duration": 4,
    "start_time": "2025-05-12T00:42:06.845Z"
   },
   {
    "duration": 34,
    "start_time": "2025-05-12T01:18:01.216Z"
   },
   {
    "duration": 4,
    "start_time": "2025-05-12T01:19:03.639Z"
   },
   {
    "duration": 29,
    "start_time": "2025-05-12T01:21:56.334Z"
   },
   {
    "duration": 20,
    "start_time": "2025-05-12T01:22:29.120Z"
   },
   {
    "duration": 3,
    "start_time": "2025-05-12T01:23:09.768Z"
   },
   {
    "duration": 6,
    "start_time": "2025-05-12T01:23:15.332Z"
   },
   {
    "duration": 24,
    "start_time": "2025-05-12T01:26:33.894Z"
   },
   {
    "duration": 95,
    "start_time": "2025-05-12T01:27:05.543Z"
   },
   {
    "duration": 25,
    "start_time": "2025-05-12T01:33:53.669Z"
   },
   {
    "duration": 95,
    "start_time": "2025-05-12T01:34:12.431Z"
   },
   {
    "duration": 38,
    "start_time": "2025-05-12T01:35:09.834Z"
   },
   {
    "duration": 268,
    "start_time": "2025-05-12T01:35:29.684Z"
   },
   {
    "duration": 4,
    "start_time": "2025-05-12T01:51:17.916Z"
   },
   {
    "duration": 3,
    "start_time": "2025-05-12T01:51:51.061Z"
   },
   {
    "duration": 3,
    "start_time": "2025-05-12T01:52:06.638Z"
   },
   {
    "duration": 37,
    "start_time": "2025-05-12T01:52:33.924Z"
   },
   {
    "duration": 3,
    "start_time": "2025-05-12T01:54:57.848Z"
   },
   {
    "duration": 3,
    "start_time": "2025-05-12T01:55:14.428Z"
   },
   {
    "duration": 5,
    "start_time": "2025-05-12T01:56:11.383Z"
   },
   {
    "duration": 3,
    "start_time": "2025-05-12T01:57:05.317Z"
   },
   {
    "duration": 3,
    "start_time": "2025-05-12T01:57:11.556Z"
   },
   {
    "duration": 5,
    "start_time": "2025-05-12T01:57:15.070Z"
   },
   {
    "duration": 41,
    "start_time": "2025-05-12T02:08:14.106Z"
   },
   {
    "duration": 19,
    "start_time": "2025-05-12T02:08:50.670Z"
   },
   {
    "duration": 46,
    "start_time": "2025-05-12T02:13:05.394Z"
   },
   {
    "duration": 3,
    "start_time": "2025-05-12T02:13:35.178Z"
   },
   {
    "duration": 2,
    "start_time": "2025-05-12T02:18:52.341Z"
   },
   {
    "duration": 169,
    "start_time": "2025-05-12T02:18:55.300Z"
   },
   {
    "duration": 5,
    "start_time": "2025-05-12T02:18:58.267Z"
   },
   {
    "duration": 15,
    "start_time": "2025-05-12T02:19:01.533Z"
   },
   {
    "duration": 489,
    "start_time": "2025-05-12T02:19:04.690Z"
   },
   {
    "duration": 51,
    "start_time": "2025-05-12T02:19:08.972Z"
   },
   {
    "duration": 2484,
    "start_time": "2025-05-12T04:28:25.879Z"
   },
   {
    "duration": 210,
    "start_time": "2025-05-12T04:28:29.033Z"
   },
   {
    "duration": 5,
    "start_time": "2025-05-12T04:28:33.104Z"
   },
   {
    "duration": 14,
    "start_time": "2025-05-12T04:28:36.339Z"
   },
   {
    "duration": 223,
    "start_time": "2025-05-12T04:33:26.033Z"
   },
   {
    "duration": 183,
    "start_time": "2025-05-12T04:33:41.332Z"
   },
   {
    "duration": 5,
    "start_time": "2025-05-12T04:33:44.328Z"
   },
   {
    "duration": 15,
    "start_time": "2025-05-12T04:33:47.228Z"
   },
   {
    "duration": 530,
    "start_time": "2025-05-12T04:33:50.200Z"
   },
   {
    "duration": 43,
    "start_time": "2025-05-12T04:33:53.409Z"
   },
   {
    "duration": 253,
    "start_time": "2025-05-12T04:33:56.713Z"
   },
   {
    "duration": 19,
    "start_time": "2025-05-12T04:33:59.242Z"
   },
   {
    "duration": 4,
    "start_time": "2025-05-12T04:34:02.076Z"
   },
   {
    "duration": 9,
    "start_time": "2025-05-12T04:34:05.038Z"
   },
   {
    "duration": 17,
    "start_time": "2025-05-12T04:34:07.897Z"
   },
   {
    "duration": 51,
    "start_time": "2025-05-12T04:34:10.310Z"
   },
   {
    "duration": 55,
    "start_time": "2025-05-12T04:34:13.572Z"
   },
   {
    "duration": 41,
    "start_time": "2025-05-12T04:34:18.587Z"
   },
   {
    "duration": 6,
    "start_time": "2025-05-12T04:34:21.527Z"
   },
   {
    "duration": 3,
    "start_time": "2025-05-12T04:34:25.155Z"
   },
   {
    "duration": 3,
    "start_time": "2025-05-12T04:34:30.676Z"
   },
   {
    "duration": 6,
    "start_time": "2025-05-12T04:34:33.360Z"
   },
   {
    "duration": 6,
    "start_time": "2025-05-12T04:34:37.932Z"
   },
   {
    "duration": 10,
    "start_time": "2025-05-12T04:34:41.730Z"
   },
   {
    "duration": 330,
    "start_time": "2025-05-12T04:34:46.912Z"
   },
   {
    "duration": 12,
    "start_time": "2025-05-12T04:34:51.118Z"
   },
   {
    "duration": 6,
    "start_time": "2025-05-12T04:34:57.962Z"
   },
   {
    "duration": 16,
    "start_time": "2025-05-12T04:35:00.603Z"
   },
   {
    "duration": 6,
    "start_time": "2025-05-12T04:35:04.343Z"
   },
   {
    "duration": 18,
    "start_time": "2025-05-12T04:35:09.824Z"
   },
   {
    "duration": 19,
    "start_time": "2025-05-12T04:35:20.132Z"
   },
   {
    "duration": 6,
    "start_time": "2025-05-12T04:35:24.108Z"
   },
   {
    "duration": 5,
    "start_time": "2025-05-12T04:35:26.722Z"
   },
   {
    "duration": 4,
    "start_time": "2025-05-12T04:35:30.779Z"
   },
   {
    "duration": 4,
    "start_time": "2025-05-12T04:35:34.969Z"
   },
   {
    "duration": 22,
    "start_time": "2025-05-12T04:35:37.695Z"
   },
   {
    "duration": 6,
    "start_time": "2025-05-12T04:36:18.745Z"
   },
   {
    "duration": 28,
    "start_time": "2025-05-12T04:45:49.853Z"
   },
   {
    "duration": 45,
    "start_time": "2025-05-12T04:45:54.287Z"
   },
   {
    "duration": 9,
    "start_time": "2025-05-12T04:45:57.580Z"
   },
   {
    "duration": 4,
    "start_time": "2025-05-12T04:46:04.329Z"
   },
   {
    "duration": 90,
    "start_time": "2025-05-12T04:46:10.569Z"
   }
  ],
  "kernelspec": {
   "display_name": "Python 3 (ipykernel)",
   "language": "python",
   "name": "python3"
  },
  "language_info": {
   "codemirror_mode": {
    "name": "ipython",
    "version": 3
   },
   "file_extension": ".py",
   "mimetype": "text/x-python",
   "name": "python",
   "nbconvert_exporter": "python",
   "pygments_lexer": "ipython3",
   "version": "3.9.22"
  },
  "toc": {
   "base_numbering": 1,
   "nav_menu": {},
   "number_sections": true,
   "sideBar": true,
   "skip_h1_title": true,
   "title_cell": "Table of Contents",
   "title_sidebar": "Contents",
   "toc_cell": false,
   "toc_position": {},
   "toc_section_display": true,
   "toc_window_display": false
  }
 },
 "nbformat": 4,
 "nbformat_minor": 4
}
