{
 "cells": [
  {
   "cell_type": "markdown",
   "id": "643022f1",
   "metadata": {},
   "source": [
    "---"
   ]
  },
  {
   "cell_type": "markdown",
   "id": "a1cf0591",
   "metadata": {},
   "source": [
    "---"
   ]
  },
  {
   "cell_type": "markdown",
   "id": "3Xg_RQfnafXz",
   "metadata": {
    "id": "3Xg_RQfnafXz"
   },
   "source": [
    "# ¡Llena ese carrito!"
   ]
  },
  {
   "cell_type": "markdown",
   "id": "mhIvmmkW414q",
   "metadata": {
    "id": "mhIvmmkW414q"
   },
   "source": [
    "# Introducción\n",
    "\n",
    "Instacart es una plataforma de entregas de comestibles donde la clientela puede registrar un pedido y hacer que se lo entreguen, similar a Uber Eats y Door Dash.\n",
    "El conjunto de datos que te hemos proporcionado tiene modificaciones del original. Redujimos el tamaño del conjunto para que tus cálculos se hicieran más rápido e introdujimos valores ausentes y duplicados. Tuvimos cuidado de conservar las distribuciones de los datos originales cuando hicimos los cambios.\n",
    "\n",
    "Debes completar tres pasos. Para cada uno de ellos, escribe una breve introducción que refleje con claridad cómo pretendes resolver cada paso, y escribe párrafos explicatorios que justifiquen tus decisiones al tiempo que avanzas en tu solución.  También escribe una conclusión que resuma tus hallazgos y elecciones.\n"
   ]
  },
  {
   "cell_type": "markdown",
   "id": "3MbyzpOQZ5Or",
   "metadata": {
    "id": "3MbyzpOQZ5Or"
   },
   "source": [
    "## Diccionario de datos\n",
    "\n",
    "Hay cinco tablas en el conjunto de datos, y tendrás que usarlas todas para hacer el preprocesamiento de datos y el análisis exploratorio de datos. A continuación se muestra un diccionario de datos que enumera las columnas de cada tabla y describe los datos que contienen.\n",
    "\n",
    "- `instacart_orders.csv`: cada fila corresponde a un pedido en la aplicación Instacart.\n",
    "    - `'order_id'`: número de ID que identifica de manera única cada pedido.\n",
    "    - `'user_id'`: número de ID que identifica de manera única la cuenta de cada cliente.\n",
    "    - `'order_number'`: el número de veces que este cliente ha hecho un pedido.\n",
    "    - `'order_dow'`: día de la semana en que se hizo el pedido (0 si es domingo).\n",
    "    - `'order_hour_of_day'`: hora del día en que se hizo el pedido.\n",
    "    - `'days_since_prior_order'`: número de días transcurridos desde que este cliente hizo su pedido anterior.\n",
    "- `products.csv`: cada fila corresponde a un producto único que pueden comprar los clientes.\n",
    "    - `'product_id'`: número ID que identifica de manera única cada producto.\n",
    "    - `'product_name'`: nombre del producto.\n",
    "    - `'aisle_id'`: número ID que identifica de manera única cada categoría de pasillo de víveres.\n",
    "    - `'department_id'`: número ID que identifica de manera única cada departamento de víveres.\n",
    "- `order_products.csv`: cada fila corresponde a un artículo pedido en un pedido.\n",
    "    - `'order_id'`: número de ID que identifica de manera única cada pedido.\n",
    "    - `'product_id'`: número ID que identifica de manera única cada producto.\n",
    "    - `'add_to_cart_order'`: el orden secuencial en el que se añadió cada artículo en el carrito.\n",
    "    - `'reordered'`: 0 si el cliente nunca ha pedido este producto antes, 1 si lo ha pedido.\n",
    "- `aisles.csv`\n",
    "    - `'aisle_id'`: número ID que identifica de manera única cada categoría de pasillo de víveres.\n",
    "    - `'aisle'`: nombre del pasillo.\n",
    "- `departments.csv`\n",
    "    - `'department_id'`: número ID que identifica de manera única cada departamento de víveres.\n",
    "    - `'department'`: nombre del departamento."
   ]
  },
  {
   "cell_type": "markdown",
   "id": "n3Ha_cNSZ8lK",
   "metadata": {
    "id": "n3Ha_cNSZ8lK"
   },
   "source": [
    "# Paso 1. Descripción de los datos\n",
    "\n",
    "Lee los archivos de datos (`/datasets/instacart_orders.csv`, `/datasets/products.csv`, `/datasets/aisles.csv`, `/datasets/departments.csv` y `/datasets/order_products.csv`) con `pd.read_csv()` usando los parámetros adecuados para leer los datos correctamente. Verifica la información para cada DataFrame creado.\n"
   ]
  },
  {
   "cell_type": "markdown",
   "id": "OmlQPLlyaAfR",
   "metadata": {
    "id": "OmlQPLlyaAfR"
   },
   "source": [
    "## Plan de solución\n",
    "\n",
    "Escribe aquí tu plan de solución para el Paso 1. Descripción de los datos."
   ]
  },
  {
   "cell_type": "code",
   "execution_count": 1,
   "id": "fbf1adab",
   "metadata": {
    "id": "fbf1adab",
    "trusted": false
   },
   "outputs": [],
   "source": [
    "# importar librerías\n",
    "import pandas as pd"
   ]
  },
  {
   "cell_type": "code",
   "execution_count": 2,
   "id": "ad36396d",
   "metadata": {
    "id": "ad36396d",
    "trusted": false
   },
   "outputs": [],
   "source": [
    "# leer conjuntos de datos en los DataFrames\n",
    "import pandas as pd\n",
    "\n",
    "df_instacart_orders = pd.read_csv('/datasets/instacart_orders.csv', delimiter=';')\n",
    "df_products = pd.read_csv('/datasets/products.csv', delimiter=';')\n",
    "df_order_products = pd.read_csv('/datasets/order_products.csv', delimiter=';')\n",
    "df_aisles = pd.read_csv('/datasets/aisles.csv', delimiter=';')\n",
    "df_departments = pd.read_csv('/datasets/departments.csv', delimiter=';')\n",
    "\n",
    "\n",
    "\n"
   ]
  },
  {
   "cell_type": "code",
   "execution_count": 3,
   "id": "ad6a1efa",
   "metadata": {
    "id": "ad6a1efa",
    "trusted": false
   },
   "outputs": [
    {
     "name": "stdout",
     "output_type": "stream",
     "text": [
      "<class 'pandas.core.frame.DataFrame'>\n",
      "RangeIndex: 478967 entries, 0 to 478966\n",
      "Data columns (total 6 columns):\n",
      " #   Column                  Non-Null Count   Dtype  \n",
      "---  ------                  --------------   -----  \n",
      " 0   order_id                478967 non-null  int64  \n",
      " 1   user_id                 478967 non-null  int64  \n",
      " 2   order_number            478967 non-null  int64  \n",
      " 3   order_dow               478967 non-null  int64  \n",
      " 4   order_hour_of_day       478967 non-null  int64  \n",
      " 5   days_since_prior_order  450148 non-null  float64\n",
      "dtypes: float64(1), int64(5)\n",
      "memory usage: 21.9 MB\n",
      "None\n"
     ]
    }
   ],
   "source": [
    "# mostrar información del DataFrame\n",
    "print(df_instacart_orders.info())"
   ]
  },
  {
   "cell_type": "code",
   "execution_count": 4,
   "id": "a96a19c6",
   "metadata": {
    "trusted": false
   },
   "outputs": [
    {
     "name": "stdout",
     "output_type": "stream",
     "text": [
      "   order_id  user_id  order_number  order_dow  order_hour_of_day  \\\n",
      "0   1515936   183418            11          6                 13   \n",
      "1   1690866   163593             5          5                 12   \n",
      "2   1454967    39980             4          5                 19   \n",
      "3   1768857    82516            56          0                 20   \n",
      "4   3007858   196724             2          4                 12   \n",
      "\n",
      "   days_since_prior_order  \n",
      "0                      30  \n",
      "1                       9  \n",
      "2                       2  \n",
      "3                      10  \n",
      "4                      17  \n"
     ]
    }
   ],
   "source": [
    "df_instacart_orders['days_since_prior_order'] = df_instacart_orders['days_since_prior_order'].fillna(0).astype(int)\n",
    "print(df_instacart_orders.head())"
   ]
  },
  {
   "cell_type": "code",
   "execution_count": 5,
   "id": "cb887d86",
   "metadata": {
    "trusted": false
   },
   "outputs": [
    {
     "name": "stdout",
     "output_type": "stream",
     "text": [
      "<class 'pandas.core.frame.DataFrame'>\n",
      "RangeIndex: 478967 entries, 0 to 478966\n",
      "Data columns (total 6 columns):\n",
      " #   Column                  Non-Null Count   Dtype\n",
      "---  ------                  --------------   -----\n",
      " 0   order_id                478967 non-null  int64\n",
      " 1   user_id                 478967 non-null  int64\n",
      " 2   order_number            478967 non-null  int64\n",
      " 3   order_dow               478967 non-null  int64\n",
      " 4   order_hour_of_day       478967 non-null  int64\n",
      " 5   days_since_prior_order  478967 non-null  int64\n",
      "dtypes: int64(6)\n",
      "memory usage: 21.9 MB\n",
      "None\n"
     ]
    }
   ],
   "source": [
    "print(df_instacart_orders.info())"
   ]
  },
  {
   "cell_type": "code",
   "execution_count": 6,
   "id": "2db2957c",
   "metadata": {
    "trusted": false
   },
   "outputs": [
    {
     "name": "stdout",
     "output_type": "stream",
     "text": [
      "<class 'pandas.core.frame.DataFrame'>\n",
      "RangeIndex: 49694 entries, 0 to 49693\n",
      "Data columns (total 4 columns):\n",
      " #   Column         Non-Null Count  Dtype \n",
      "---  ------         --------------  ----- \n",
      " 0   product_id     49694 non-null  int64 \n",
      " 1   product_name   48436 non-null  object\n",
      " 2   aisle_id       49694 non-null  int64 \n",
      " 3   department_id  49694 non-null  int64 \n",
      "dtypes: int64(3), object(1)\n",
      "memory usage: 1.5+ MB\n",
      "None\n"
     ]
    }
   ],
   "source": [
    "print(df_products.info())"
   ]
  },
  {
   "cell_type": "code",
   "execution_count": 7,
   "id": "d8370c05",
   "metadata": {
    "id": "d8370c05",
    "trusted": false
   },
   "outputs": [
    {
     "name": "stdout",
     "output_type": "stream",
     "text": [
      "<class 'pandas.core.frame.DataFrame'>\n",
      "RangeIndex: 4545007 entries, 0 to 4545006\n",
      "Data columns (total 4 columns):\n",
      " #   Column             Dtype  \n",
      "---  ------             -----  \n",
      " 0   order_id           int64  \n",
      " 1   product_id         int64  \n",
      " 2   add_to_cart_order  float64\n",
      " 3   reordered          int64  \n",
      "dtypes: float64(1), int64(3)\n",
      "memory usage: 138.7 MB\n",
      "None\n"
     ]
    }
   ],
   "source": [
    "# mostrar información del DataFrame\n",
    "print(df_order_products.info())"
   ]
  },
  {
   "cell_type": "code",
   "execution_count": 8,
   "id": "0d256de0",
   "metadata": {
    "trusted": false
   },
   "outputs": [
    {
     "name": "stdout",
     "output_type": "stream",
     "text": [
      "<class 'pandas.core.frame.DataFrame'>\n",
      "RangeIndex: 4545007 entries, 0 to 4545006\n",
      "Data columns (total 4 columns):\n",
      " #   Column             Dtype\n",
      "---  ------             -----\n",
      " 0   order_id           int64\n",
      " 1   product_id         int64\n",
      " 2   add_to_cart_order  int64\n",
      " 3   reordered          int64\n",
      "dtypes: int64(4)\n",
      "memory usage: 138.7 MB\n",
      "None\n"
     ]
    }
   ],
   "source": [
    "df_order_products['add_to_cart_order'] = df_order_products['add_to_cart_order'].fillna(0).astype(int)\n",
    "print(df_order_products.info())"
   ]
  },
  {
   "cell_type": "code",
   "execution_count": 9,
   "id": "59e2090f",
   "metadata": {
    "id": "59e2090f",
    "trusted": false
   },
   "outputs": [
    {
     "name": "stdout",
     "output_type": "stream",
     "text": [
      "<class 'pandas.core.frame.DataFrame'>\n",
      "RangeIndex: 134 entries, 0 to 133\n",
      "Data columns (total 2 columns):\n",
      " #   Column    Non-Null Count  Dtype \n",
      "---  ------    --------------  ----- \n",
      " 0   aisle_id  134 non-null    int64 \n",
      " 1   aisle     134 non-null    object\n",
      "dtypes: int64(1), object(1)\n",
      "memory usage: 2.2+ KB\n",
      "None\n"
     ]
    }
   ],
   "source": [
    "# mostrar información del DataFrame\n",
    "print(df_aisles.info())"
   ]
  },
  {
   "cell_type": "code",
   "execution_count": 10,
   "id": "6fc81694",
   "metadata": {
    "id": "6fc81694",
    "trusted": false
   },
   "outputs": [
    {
     "name": "stdout",
     "output_type": "stream",
     "text": [
      "<class 'pandas.core.frame.DataFrame'>\n",
      "RangeIndex: 21 entries, 0 to 20\n",
      "Data columns (total 2 columns):\n",
      " #   Column         Non-Null Count  Dtype \n",
      "---  ------         --------------  ----- \n",
      " 0   department_id  21 non-null     int64 \n",
      " 1   department     21 non-null     object\n",
      "dtypes: int64(1), object(1)\n",
      "memory usage: 464.0+ bytes\n",
      "None\n"
     ]
    }
   ],
   "source": [
    "# mostrar información del DataFrame\n",
    "print(df_departments.info())"
   ]
  },
  {
   "cell_type": "markdown",
   "id": "t75BD19oaR5f",
   "metadata": {
    "id": "t75BD19oaR5f"
   },
   "source": [
    "## Conclusiones\n",
    "\n",
    "En el dataframe \"instacart_orders\", se cambió la columna 'days_since_prior_order' de flotante a entero para hacer más fácil el análisis.\n",
    "En el dataframe \"df_products\", no se hizo ninguna conversión, ya que el tipo de variable coincide con los datos.\n",
    "En el dataframe \"df_order_products\", se hizo la conversión de la columna 'add_to_cart_order' de flotante a entero.\n",
    "En el dataframe \"df_aisles\", no se hizo ninguna conversión, ya que el tipo de variable coincide con los datos.\n",
    "En el dataframe \"df_departments\", no se hizo ninguna conversión, ya que el tipo de variable coincide con los datos.\n"
   ]
  },
  {
   "cell_type": "markdown",
   "id": "8RJHqxVmaVsF",
   "metadata": {
    "id": "8RJHqxVmaVsF"
   },
   "source": [
    "# Paso 2. Preprocesamiento de los datos\n",
    "\n",
    "Preprocesa los datos de la siguiente manera:\n",
    "\n",
    "- Verifica y corrige los tipos de datos (por ejemplo, asegúrate de que las columnas de ID sean números enteros).\n",
    "- Identifica y completa los valores ausentes.\n",
    "- Identifica y elimina los valores duplicados.\n",
    "\n",
    "Asegúrate de explicar qué tipos de valores ausentes y duplicados encontraste, cómo los completaste o eliminaste y por qué usaste esos métodos. ¿Por qué crees que estos valores ausentes y duplicados pueden haber estado presentes en el conjunto de datos?"
   ]
  },
  {
   "cell_type": "markdown",
   "id": "p6poABZQaZYb",
   "metadata": {
    "id": "p6poABZQaZYb"
   },
   "source": [
    "## Plan de solución\n",
    "\n",
    "Escribe aquí tu plan para el Paso 2. Preprocesamiento de los datos."
   ]
  },
  {
   "cell_type": "markdown",
   "id": "07357848-dc64-4156-9cc3-01ff4365226d",
   "metadata": {
    "id": "07357848-dc64-4156-9cc3-01ff4365226d"
   },
   "source": [
    "## Encuentra y elimina los valores duplicados (y describe cómo tomaste tus decisiones)."
   ]
  },
  {
   "cell_type": "markdown",
   "id": "f179f0a9",
   "metadata": {
    "id": "f179f0a9"
   },
   "source": [
    "### `orders` data frame"
   ]
  },
  {
   "cell_type": "code",
   "execution_count": 11,
   "id": "b99297a5-405a-463d-8535-9adc3da4ad74",
   "metadata": {
    "id": "b99297a5-405a-463d-8535-9adc3da4ad74",
    "trusted": false
   },
   "outputs": [
    {
     "name": "stdout",
     "output_type": "stream",
     "text": [
      "15\n"
     ]
    }
   ],
   "source": [
    "# Revisa si hay pedidos duplicados\n",
    "print(df_instacart_orders.duplicated().sum())\n"
   ]
  },
  {
   "cell_type": "code",
   "execution_count": 12,
   "id": "7b054f4e",
   "metadata": {
    "trusted": false
   },
   "outputs": [
    {
     "name": "stdout",
     "output_type": "stream",
     "text": [
      "0         False\n",
      "1         False\n",
      "2         False\n",
      "3         False\n",
      "4         False\n",
      "          ...  \n",
      "478962    False\n",
      "478963    False\n",
      "478964    False\n",
      "478965    False\n",
      "478966    False\n",
      "Length: 478967, dtype: bool\n"
     ]
    }
   ],
   "source": [
    "print(df_instacart_orders.duplicated(keep=False))"
   ]
  },
  {
   "cell_type": "code",
   "execution_count": 13,
   "id": "95ab27dd",
   "metadata": {
    "trusted": false
   },
   "outputs": [
    {
     "name": "stdout",
     "output_type": "stream",
     "text": [
      "        order_id  user_id  order_number  order_dow  order_hour_of_day  \\\n",
      "30371    1918001   188546            14          3                  2   \n",
      "99462     794638    50898            24          3                  2   \n",
      "119251    408114    68324             4          3                  2   \n",
      "142258   2845099    31189            11          3                  2   \n",
      "145574    794638    50898            24          3                  2   \n",
      "164581   1112182   202304            84          3                  2   \n",
      "200059   1782114   106752             1          3                  2   \n",
      "204042   2125197    14050            48          3                  2   \n",
      "215294   2160484   107525            16          3                  2   \n",
      "223105   2160484   107525            16          3                  2   \n",
      "230807   1918001   188546            14          3                  2   \n",
      "242618   1021560    53767             3          3                  2   \n",
      "250626    467134    63189            21          3                  2   \n",
      "257934   1919531   191501            32          3                  2   \n",
      "259636   2282673    86751            49          3                  2   \n",
      "266232   1782114   106752             1          3                  2   \n",
      "273805   1112182   202304            84          3                  2   \n",
      "284038   2845099    31189            11          3                  2   \n",
      "311713   1021560    53767             3          3                  2   \n",
      "314427   1286742   183220            48          3                  2   \n",
      "321100    408114    68324             4          3                  2   \n",
      "323900   1919531   191501            32          3                  2   \n",
      "324868   2232988    82565             1          3                  2   \n",
      "345917   2232988    82565             1          3                  2   \n",
      "354993    391768    57671            19          3                  2   \n",
      "371905    391768    57671            19          3                  2   \n",
      "394347    467134    63189            21          3                  2   \n",
      "411408   1286742   183220            48          3                  2   \n",
      "415163   2282673    86751            49          3                  2   \n",
      "441599   2125197    14050            48          3                  2   \n",
      "\n",
      "        days_since_prior_order  \n",
      "30371                       16  \n",
      "99462                        2  \n",
      "119251                      18  \n",
      "142258                       7  \n",
      "145574                       2  \n",
      "164581                       6  \n",
      "200059                       0  \n",
      "204042                       3  \n",
      "215294                      30  \n",
      "223105                      30  \n",
      "230807                      16  \n",
      "242618                       9  \n",
      "250626                       2  \n",
      "257934                       7  \n",
      "259636                       2  \n",
      "266232                       0  \n",
      "273805                       6  \n",
      "284038                       7  \n",
      "311713                       9  \n",
      "314427                       4  \n",
      "321100                      18  \n",
      "323900                       7  \n",
      "324868                       0  \n",
      "345917                       0  \n",
      "354993                      10  \n",
      "371905                      10  \n",
      "394347                       2  \n",
      "411408                       4  \n",
      "415163                       2  \n",
      "441599                       3  \n"
     ]
    }
   ],
   "source": [
    "duplicados = df_instacart_orders[df_instacart_orders.duplicated(keep=False)]\n",
    "print(duplicados)"
   ]
  },
  {
   "cell_type": "markdown",
   "id": "PEkwUX_gvt5A",
   "metadata": {
    "id": "PEkwUX_gvt5A"
   },
   "source": [
    "¿Tienes líneas duplicadas? Si sí, ¿qué tienen en común?\n",
    "\n",
    "Sí, se encontraron 15 líneas duplicadas al aplicar el método duplicated() junto con el método sum(), y se identificó que los valores duplicados se encuentran en order_id y en user_id, ya que se repite la orden del mismo usuario."
   ]
  },
  {
   "cell_type": "code",
   "execution_count": 14,
   "id": "0d44de5d",
   "metadata": {
    "id": "0d44de5d",
    "trusted": false
   },
   "outputs": [
    {
     "name": "stdout",
     "output_type": "stream",
     "text": [
      "        order_id  user_id  order_number  order_dow  order_hour_of_day  \\\n",
      "4838     2766110   162084            41          3                  2   \n",
      "5156     2190225   138285            18          3                  2   \n",
      "15506     553049    58599            13          3                  2   \n",
      "18420     382357   120200            19          3                  2   \n",
      "24691     690242    77357             2          3                  2   \n",
      "...          ...      ...           ...        ...                ...   \n",
      "457013   3384021    14881             6          3                  2   \n",
      "458816    910166   164782            18          3                  2   \n",
      "459635   1680532   106435             6          3                  2   \n",
      "468324    222962    54979            59          3                  2   \n",
      "477526   2592344    46860            38          3                  2   \n",
      "\n",
      "        days_since_prior_order  \n",
      "4838                        16  \n",
      "5156                        11  \n",
      "15506                        7  \n",
      "18420                       11  \n",
      "24691                        9  \n",
      "...                        ...  \n",
      "457013                      30  \n",
      "458816                       4  \n",
      "459635                      21  \n",
      "468324                       3  \n",
      "477526                       3  \n",
      "\n",
      "[121 rows x 6 columns]\n"
     ]
    }
   ],
   "source": [
    "# Basándote en tus hallazgos,\n",
    "# Verifica todos los pedidos que se hicieron el miércoles a las 2:00 a.m.\n",
    "\n",
    "orders_wednesday_2am = df_instacart_orders[(df_instacart_orders['order_dow'] == 3) & (df_instacart_orders['order_hour_of_day'] == 2)]\n",
    "print(orders_wednesday_2am)\n"
   ]
  },
  {
   "cell_type": "markdown",
   "id": "vu2OWyoqwOx5",
   "metadata": {
    "id": "vu2OWyoqwOx5"
   },
   "source": [
    "¿Qué sugiere este resultado?\n",
    "\n",
    "Sugiere eliminar los datos duplicados ya que pertenecen al mismo id y al mismo número de orden."
   ]
  },
  {
   "cell_type": "code",
   "execution_count": 15,
   "id": "480563c7",
   "metadata": {
    "id": "480563c7",
    "trusted": false
   },
   "outputs": [],
   "source": [
    "# Elimina los pedidos duplicados\n",
    "df_instacart_orders = df_instacart_orders.drop_duplicates()\n"
   ]
  },
  {
   "cell_type": "code",
   "execution_count": 16,
   "id": "0b2396a2",
   "metadata": {
    "id": "0b2396a2",
    "trusted": false
   },
   "outputs": [
    {
     "name": "stdout",
     "output_type": "stream",
     "text": [
      "0\n"
     ]
    }
   ],
   "source": [
    "# Vuelve a verificar si hay filas duplicadas\n",
    "\n",
    "print(df_instacart_orders.duplicated().sum())\n"
   ]
  },
  {
   "cell_type": "code",
   "execution_count": 17,
   "id": "f6113ef1",
   "metadata": {
    "id": "f6113ef1",
    "trusted": false
   },
   "outputs": [
    {
     "name": "stdout",
     "output_type": "stream",
     "text": [
      "0\n"
     ]
    }
   ],
   "source": [
    "# Vuelve a verificar únicamente si hay IDs duplicados de pedidos\n",
    "\n",
    "duplicated_ids = df_instacart_orders['order_id'].value_counts()\n",
    "duplicated_ids = duplicated_ids[duplicated_ids > 1]\n",
    "\n",
    "print (duplicated_ids.count())\n"
   ]
  },
  {
   "cell_type": "code",
   "execution_count": 18,
   "id": "d4987241",
   "metadata": {
    "trusted": false
   },
   "outputs": [
    {
     "name": "stdout",
     "output_type": "stream",
     "text": [
      "order_id                  0\n",
      "user_id                   0\n",
      "order_number              0\n",
      "order_dow                 0\n",
      "order_hour_of_day         0\n",
      "days_since_prior_order    0\n",
      "dtype: int64\n"
     ]
    }
   ],
   "source": [
    "duplicados = df_instacart_orders[df_instacart_orders[['order_id', 'user_id']].duplicated(keep=False)]\n",
    "print(duplicados.count())"
   ]
  },
  {
   "cell_type": "code",
   "execution_count": 19,
   "id": "f7f65c6b",
   "metadata": {
    "trusted": false
   },
   "outputs": [
    {
     "name": "stdout",
     "output_type": "stream",
     "text": [
      "Empty DataFrame\n",
      "Columns: [order_id, user_id, order_number, order_dow, order_hour_of_day, days_since_prior_order]\n",
      "Index: []\n"
     ]
    }
   ],
   "source": [
    "print(duplicados.head(20))"
   ]
  },
  {
   "cell_type": "code",
   "execution_count": 20,
   "id": "fc5c8d56",
   "metadata": {
    "trusted": false
   },
   "outputs": [
    {
     "name": "stdout",
     "output_type": "stream",
     "text": [
      "        order_id  user_id  order_number  order_dow  order_hour_of_day  \\\n",
      "0        1515936   183418            11          6                 13   \n",
      "1        1690866   163593             5          5                 12   \n",
      "2        1454967    39980             4          5                 19   \n",
      "3        1768857    82516            56          0                 20   \n",
      "4        3007858   196724             2          4                 12   \n",
      "...          ...      ...           ...        ...                ...   \n",
      "478947   3210681     5617             5          1                 14   \n",
      "478948   3270802   112087             2          3                 13   \n",
      "478949    885349    82944            16          2                 11   \n",
      "478950    216274     4391             3          3                  8   \n",
      "478951   2071924     1730            18          1                 14   \n",
      "\n",
      "        days_since_prior_order  \n",
      "0                           30  \n",
      "1                            9  \n",
      "2                            2  \n",
      "3                           10  \n",
      "4                           17  \n",
      "...                        ...  \n",
      "478947                       7  \n",
      "478948                       6  \n",
      "478949                       6  \n",
      "478950                       8  \n",
      "478951                      15  \n",
      "\n",
      "[478952 rows x 6 columns]\n"
     ]
    }
   ],
   "source": [
    "df_instacart_orders_sin_duplicados = df_instacart_orders.drop_duplicates(subset=['order_id', 'user_id'])\n",
    "df_instacart_orders_sin_duplicados.reset_index(drop=True, inplace=True)\n",
    "\n",
    "print(df_instacart_orders_sin_duplicados)"
   ]
  },
  {
   "cell_type": "markdown",
   "id": "5e8905ae",
   "metadata": {
    "id": "5e8905ae"
   },
   "source": [
    "Describe brevemente tus hallazgos y lo que hiciste con ellos\n",
    "\n",
    "Después de analizar los duplicados, se identificó que la orden del cliente se repetía, la cual era la misma. Por tal motivo, se eliminaron del dataframe y, posteriormente, se restableció el dataframe para no alterar el orden de las filas."
   ]
  },
  {
   "cell_type": "markdown",
   "id": "45e6bc46",
   "metadata": {
    "id": "45e6bc46"
   },
   "source": [
    "### `products` data frame"
   ]
  },
  {
   "cell_type": "code",
   "execution_count": 21,
   "id": "5f526b5b-8175-46fa-a0fd-441767d50e64",
   "metadata": {
    "id": "5f526b5b-8175-46fa-a0fd-441767d50e64",
    "trusted": false
   },
   "outputs": [
    {
     "name": "stdout",
     "output_type": "stream",
     "text": [
      "0\n"
     ]
    }
   ],
   "source": [
    "# Verifica si hay filas totalmente duplicadas\n",
    "print(df_products.duplicated().sum())\n"
   ]
  },
  {
   "cell_type": "code",
   "execution_count": 22,
   "id": "88daa4f4",
   "metadata": {
    "id": "88daa4f4",
    "trusted": false
   },
   "outputs": [],
   "source": [
    "# Revisa únicamente si hay ID de departamentos duplicados\n",
    "\n"
   ]
  },
  {
   "cell_type": "code",
   "execution_count": 23,
   "id": "7253a8b1",
   "metadata": {
    "trusted": false
   },
   "outputs": [
    {
     "name": "stdout",
     "output_type": "stream",
     "text": [
      "    product_id                                       product_name  aisle_id  \\\n",
      "0            1                         Chocolate Sandwich Cookies        61   \n",
      "1            2                                   All-Seasons Salt       104   \n",
      "2            3               Robust Golden Unsweetened Oolong Tea        94   \n",
      "3            4  Smart Ones Classic Favorites Mini Rigatoni Wit...        38   \n",
      "4            5                          Green Chile Anytime Sauce         5   \n",
      "5            6                                       Dry Nose Oil        11   \n",
      "6            7                     Pure Coconut Water With Orange        98   \n",
      "7            8                  Cut Russet Potatoes Steam N' Mash       116   \n",
      "8            9                  Light Strawberry Blueberry Yogurt       120   \n",
      "9           10     Sparkling Orange Juice & Prickly Pear Beverage       115   \n",
      "10          11                                  Peach Mango Juice        31   \n",
      "11          12                         Chocolate Fudge Layer Cake       119   \n",
      "12          13                                  Saline Nasal Mist        11   \n",
      "13          14                     Fresh Scent Dishwasher Cleaner        74   \n",
      "14          15                           Overnight Diapers Size 6        56   \n",
      "15          16                      Mint Chocolate Flavored Syrup       103   \n",
      "16          17                                  Rendered Duck Fat        35   \n",
      "17          18                Pizza for One Suprema  Frozen Pizza        79   \n",
      "18          19   Gluten Free Quinoa Three Cheese & Mushroom Blend        63   \n",
      "19          20     Pomegranate Cranberry & Aloe Vera Enrich Drink        98   \n",
      "\n",
      "    department_id  \n",
      "0              19  \n",
      "1              13  \n",
      "2               7  \n",
      "3               1  \n",
      "4              13  \n",
      "5              11  \n",
      "6               7  \n",
      "7               1  \n",
      "8              16  \n",
      "9               7  \n",
      "10              7  \n",
      "11              1  \n",
      "12             11  \n",
      "13             17  \n",
      "14             18  \n",
      "15             19  \n",
      "16             12  \n",
      "17              1  \n",
      "18              9  \n",
      "19              7  \n"
     ]
    }
   ],
   "source": [
    "duplicados_orders = df_products[df_products[['department_id']].duplicated(keep=False)]\n",
    "print(duplicados_orders.head(20))"
   ]
  },
  {
   "cell_type": "code",
   "execution_count": 24,
   "id": "b019f2fd",
   "metadata": {
    "trusted": false
   },
   "outputs": [
    {
     "name": "stdout",
     "output_type": "stream",
     "text": [
      "product_id       49694\n",
      "product_name     48436\n",
      "aisle_id         49694\n",
      "department_id    49694\n",
      "dtype: int64\n"
     ]
    }
   ],
   "source": [
    "print(duplicados_orders.count())"
   ]
  },
  {
   "cell_type": "code",
   "execution_count": 25,
   "id": "c773f0bf",
   "metadata": {
    "id": "c773f0bf",
    "trusted": false
   },
   "outputs": [
    {
     "name": "stdout",
     "output_type": "stream",
     "text": [
      "103\n"
     ]
    }
   ],
   "source": [
    "# Revisa únicamente si hay nombres duplicados de productos (convierte los nombres a letras mayúsculas para compararlos mejor)\n",
    "\n",
    "df_products['product_name_upper'] = df_products['product_name'].str.upper()\n",
    "num_duplicados_productos =  df_products['product_name_upper'].value_counts()\n",
    "num_duplicados_productos = num_duplicados_productos[num_duplicados_productos > 1]\n",
    "\n",
    "\n",
    "print (num_duplicados_productos.count())\n"
   ]
  },
  {
   "cell_type": "code",
   "execution_count": 26,
   "id": "37bfbbc8",
   "metadata": {
    "trusted": false
   },
   "outputs": [
    {
     "name": "stdout",
     "output_type": "stream",
     "text": [
      "<class 'pandas.core.frame.DataFrame'>\n",
      "Int64Index: 1258 entries, 37 to 49668\n",
      "Data columns (total 5 columns):\n",
      " #   Column              Non-Null Count  Dtype \n",
      "---  ------              --------------  ----- \n",
      " 0   product_id          1258 non-null   int64 \n",
      " 1   product_name        0 non-null      object\n",
      " 2   aisle_id            1258 non-null   int64 \n",
      " 3   department_id       1258 non-null   int64 \n",
      " 4   product_name_upper  0 non-null      object\n",
      "dtypes: int64(3), object(2)\n",
      "memory usage: 59.0+ KB\n",
      "None\n"
     ]
    }
   ],
   "source": [
    "duplicados_product_name = df_products[df_products[['product_name']].duplicated(keep=False)]\n",
    "print(duplicados_product_name.info())"
   ]
  },
  {
   "cell_type": "code",
   "execution_count": 27,
   "id": "29a07707",
   "metadata": {
    "trusted": false
   },
   "outputs": [
    {
     "name": "stdout",
     "output_type": "stream",
     "text": [
      "      product_id product_name  aisle_id  department_id product_name_upper\n",
      "37            38          NaN       100             21                NaN\n",
      "71            72          NaN       100             21                NaN\n",
      "109          110          NaN       100             21                NaN\n",
      "296          297          NaN       100             21                NaN\n",
      "416          417          NaN       100             21                NaN\n",
      "436          437          NaN       100             21                NaN\n",
      "439          440          NaN       100             21                NaN\n",
      "471          472          NaN       100             21                NaN\n",
      "490          491          NaN       100             21                NaN\n",
      "555          556          NaN       100             21                NaN\n",
      "561          562          NaN       100             21                NaN\n",
      "613          614          NaN       100             21                NaN\n",
      "623          624          NaN       100             21                NaN\n",
      "689          690          NaN       100             21                NaN\n",
      "767          768          NaN       100             21                NaN\n",
      "803          804          NaN       100             21                NaN\n",
      "890          891          NaN       100             21                NaN\n",
      "990          991          NaN       100             21                NaN\n",
      "1018        1019          NaN       100             21                NaN\n",
      "1054        1055          NaN       100             21                NaN\n"
     ]
    }
   ],
   "source": [
    "print(duplicados_product_name.head(20))"
   ]
  },
  {
   "cell_type": "code",
   "execution_count": 28,
   "id": "ef51442c",
   "metadata": {
    "trusted": false
   },
   "outputs": [
    {
     "name": "stdout",
     "output_type": "stream",
     "text": [
      "      product_id product_name  aisle_id  department_id\n",
      "37            38  desconocido       100             21\n",
      "71            72  desconocido       100             21\n",
      "109          110  desconocido       100             21\n",
      "296          297  desconocido       100             21\n",
      "416          417  desconocido       100             21\n",
      "436          437  desconocido       100             21\n",
      "439          440  desconocido       100             21\n",
      "471          472  desconocido       100             21\n",
      "490          491  desconocido       100             21\n",
      "555          556  desconocido       100             21\n",
      "561          562  desconocido       100             21\n",
      "613          614  desconocido       100             21\n",
      "623          624  desconocido       100             21\n",
      "689          690  desconocido       100             21\n",
      "767          768  desconocido       100             21\n",
      "803          804  desconocido       100             21\n",
      "890          891  desconocido       100             21\n",
      "990          991  desconocido       100             21\n",
      "1018        1019  desconocido       100             21\n",
      "1054        1055  desconocido       100             21\n"
     ]
    }
   ],
   "source": [
    "duplicados_product_name = duplicados_product_name.fillna(\"desconocido\")\n",
    "duplicados_product_name = duplicados_product_name.drop(columns=['product_name_upper'])\n",
    "print(duplicados_product_name.head(20))"
   ]
  },
  {
   "cell_type": "code",
   "execution_count": null,
   "id": "d0b07978",
   "metadata": {
    "trusted": false
   },
   "outputs": [],
   "source": []
  },
  {
   "cell_type": "code",
   "execution_count": 29,
   "id": "01efd02e",
   "metadata": {
    "id": "01efd02e",
    "trusted": false
   },
   "outputs": [
    {
     "name": "stdout",
     "output_type": "stream",
     "text": [
      "Empty DataFrame\n",
      "Columns: [product_id, product_name]\n",
      "Index: []\n"
     ]
    }
   ],
   "source": [
    "# Revisa si hay nombres duplicados de productos no faltantes\n",
    "\n",
    "productos_no_faltantes = df_products[df_products['product_name'].notna()]\n",
    "productos_duplicados = productos_no_faltantes[productos_no_faltantes.duplicated(subset='product_name', keep=False)]\n",
    "\n",
    "print(productos_duplicados[['product_id', 'product_name']].head(20))\n"
   ]
  },
  {
   "cell_type": "code",
   "execution_count": 30,
   "id": "c2702467",
   "metadata": {
    "trusted": false
   },
   "outputs": [
    {
     "name": "stdout",
     "output_type": "stream",
     "text": [
      "product_id      0\n",
      "product_name    0\n",
      "dtype: int64\n"
     ]
    }
   ],
   "source": [
    "print(productos_duplicados[['product_id', 'product_name']].count())"
   ]
  },
  {
   "cell_type": "markdown",
   "id": "9da8d293",
   "metadata": {
    "id": "9da8d293"
   },
   "source": [
    "Describe brevemente tus hallazgos y lo que hiciste con ellos.\n",
    "\n",
    "\n",
    "Al revisar los duplicados en \"ID de departamentos\", sí se encontraron muchos valores duplicados; sin embargo, no fueron eliminados, ya que repiten el mismo departamento pero con diferentes artículos de compra.\n",
    "\n",
    "En la columna \"product_name\" se identificaron duplicados en las columnas \"aisle_id\" y \"department_id\"; sin embargo, no fueron eliminados, ya que pertenecen a diferentes productos.\n",
    "\n",
    "Al analizar los duplicados de productos no faltantes, se identificó que los duplicados se encontraban en la columna \"product_name\", en los productos cuyo nombre se desconoce y aparecen como valores ausentes (\"NaN\"). Por tal motivo, no fueron eliminados, ya que se borrarían las ventas de dichos productos, pero fueron reemplazados por \"Desconocido\".\n",
    "\n"
   ]
  },
  {
   "cell_type": "markdown",
   "id": "60f30db1",
   "metadata": {
    "id": "60f30db1"
   },
   "source": [
    "### `departments` data frame"
   ]
  },
  {
   "cell_type": "code",
   "execution_count": 31,
   "id": "fb410ad4-0fbf-4b80-bb09-23fdea79afe3",
   "metadata": {
    "id": "fb410ad4-0fbf-4b80-bb09-23fdea79afe3",
    "trusted": false
   },
   "outputs": [
    {
     "name": "stdout",
     "output_type": "stream",
     "text": [
      "0\n"
     ]
    }
   ],
   "source": [
    "# Revisa si hay filas totalmente duplicadas\n",
    "print(df_departments.duplicated().sum())\n"
   ]
  },
  {
   "cell_type": "code",
   "execution_count": 32,
   "id": "332b12bb",
   "metadata": {
    "id": "332b12bb",
    "trusted": false
   },
   "outputs": [
    {
     "name": "stdout",
     "output_type": "stream",
     "text": [
      "0\n"
     ]
    }
   ],
   "source": [
    "# Revisa únicamente si hay IDs duplicadas de productos\n",
    "duplicados_departments_count = df_departments['department_id'].duplicated().sum()\n",
    "\n",
    "print(duplicados_departments_count)\n"
   ]
  },
  {
   "cell_type": "markdown",
   "id": "bd30d78e",
   "metadata": {
    "id": "bd30d78e"
   },
   "source": [
    "Describe brevemente tus hallazgos y lo que hiciste con ellos.\n",
    "\n",
    "No se encontraron duplicados en los IDS dentro del archivo del departamento."
   ]
  },
  {
   "cell_type": "markdown",
   "id": "889349c1",
   "metadata": {
    "id": "889349c1"
   },
   "source": [
    "### `aisles` data frame"
   ]
  },
  {
   "cell_type": "code",
   "execution_count": 33,
   "id": "9da89fb9-4679-40f5-ad0d-c34df753a3f8",
   "metadata": {
    "id": "9da89fb9-4679-40f5-ad0d-c34df753a3f8",
    "trusted": false
   },
   "outputs": [
    {
     "name": "stdout",
     "output_type": "stream",
     "text": [
      "0\n"
     ]
    }
   ],
   "source": [
    "# Revisa si hay filas totalmente duplicadas\n",
    "print(df_aisles.duplicated().sum())\n"
   ]
  },
  {
   "cell_type": "code",
   "execution_count": 34,
   "id": "da7c2822",
   "metadata": {
    "id": "da7c2822",
    "trusted": false
   },
   "outputs": [
    {
     "name": "stdout",
     "output_type": "stream",
     "text": [
      "0\n"
     ]
    }
   ],
   "source": [
    "# Revisa únicamente si hay IDs duplicadas de pasillos\n",
    "\n",
    "duplicados_aisle_count = df_aisles['aisle_id'].duplicated().sum()\n",
    "\n",
    "print(duplicados_aisle_count)\n"
   ]
  },
  {
   "cell_type": "markdown",
   "id": "ac63826f",
   "metadata": {
    "id": "ac63826f"
   },
   "source": [
    "Describe brevemente tus hallazgos y lo que hiciste con ellos.\n",
    "\n",
    "No se encontraron valores duplicados de ID en el departamento de pasillos."
   ]
  },
  {
   "cell_type": "markdown",
   "id": "274cd06a",
   "metadata": {
    "id": "274cd06a"
   },
   "source": [
    "### `order_products` data frame"
   ]
  },
  {
   "cell_type": "code",
   "execution_count": 35,
   "id": "52326689-84a8-4b8f-a881-7c68780f62c9",
   "metadata": {
    "id": "52326689-84a8-4b8f-a881-7c68780f62c9",
    "trusted": false
   },
   "outputs": [
    {
     "name": "stdout",
     "output_type": "stream",
     "text": [
      "0\n"
     ]
    }
   ],
   "source": [
    "# Revisa si hay filas totalmente duplicadas\n",
    "print(df_order_products.duplicated().sum())\n",
    "\n"
   ]
  },
  {
   "cell_type": "code",
   "execution_count": 36,
   "id": "7b861391",
   "metadata": {
    "id": "7b861391",
    "trusted": false
   },
   "outputs": [
    {
     "name": "stdout",
     "output_type": "stream",
     "text": [
      "order_id             0\n",
      "product_id           0\n",
      "add_to_cart_order    0\n",
      "reordered            0\n",
      "dtype: int64\n"
     ]
    }
   ],
   "source": [
    "# Vuelve a verificar si hay cualquier otro duplicado engañoso\n",
    "\n",
    "duplicados_engañosos = df_order_products[df_order_products.duplicated(subset=['order_id', 'product_id'], keep=False)]\n",
    "\n",
    "print(duplicados_engañosos.count())\n"
   ]
  },
  {
   "cell_type": "markdown",
   "id": "0b890492",
   "metadata": {
    "id": "0b890492"
   },
   "source": [
    "Describe brevemente tus hallazgos y lo que hiciste con ellos.\n",
    "\n",
    "No se encontraron valores duplicados engañosos en el data frame \"df_order_products\""
   ]
  },
  {
   "cell_type": "markdown",
   "id": "1e46de76",
   "metadata": {
    "id": "1e46de76"
   },
   "source": [
    "## Encuentra y elimina los valores ausentes\n",
    "\n",
    "Al trabajar con valores duplicados, pudimos observar que también nos falta investigar valores ausentes:\n",
    "\n",
    "* La columna `'product_name'` de la tabla products.\n",
    "* La columna `'days_since_prior_order'` de la tabla orders.\n",
    "* La columna `'add_to_cart_order'` de la tabla order_productos."
   ]
  },
  {
   "cell_type": "markdown",
   "id": "c0aebd78",
   "metadata": {
    "id": "c0aebd78"
   },
   "source": [
    "### `products` data frame"
   ]
  },
  {
   "cell_type": "code",
   "execution_count": 37,
   "id": "fe4a8b0f",
   "metadata": {
    "id": "fe4a8b0f",
    "trusted": false
   },
   "outputs": [
    {
     "name": "stdout",
     "output_type": "stream",
     "text": [
      "product_id               0\n",
      "product_name          1258\n",
      "aisle_id                 0\n",
      "department_id            0\n",
      "product_name_upper    1258\n",
      "dtype: int64\n"
     ]
    }
   ],
   "source": [
    "# Encuentra los valores ausentes en la columna 'product_name'\n",
    "\n",
    "print(df_products.isna().sum())"
   ]
  },
  {
   "cell_type": "code",
   "execution_count": 38,
   "id": "4f530417",
   "metadata": {
    "trusted": false
   },
   "outputs": [
    {
     "name": "stdout",
     "output_type": "stream",
     "text": [
      "0        False\n",
      "1        False\n",
      "2        False\n",
      "3        False\n",
      "4        False\n",
      "         ...  \n",
      "49689    False\n",
      "49690    False\n",
      "49691    False\n",
      "49692    False\n",
      "49693    False\n",
      "Name: product_name, Length: 49694, dtype: bool\n"
     ]
    }
   ],
   "source": [
    "ausentes_product_name = df_products['product_name'].isna()\n",
    "print(ausentes_product_name)"
   ]
  },
  {
   "cell_type": "code",
   "execution_count": 39,
   "id": "5f499701",
   "metadata": {
    "trusted": false
   },
   "outputs": [
    {
     "name": "stdout",
     "output_type": "stream",
     "text": [
      "       product_id                                       product_name  \\\n",
      "0               1                         Chocolate Sandwich Cookies   \n",
      "1               2                                   All-Seasons Salt   \n",
      "2               3               Robust Golden Unsweetened Oolong Tea   \n",
      "3               4  Smart Ones Classic Favorites Mini Rigatoni Wit...   \n",
      "4               5                          Green Chile Anytime Sauce   \n",
      "...           ...                                                ...   \n",
      "49689       49690                      HIGH PERFORMANCE ENERGY DRINK   \n",
      "49690       49691                      ORIGINAL PANCAKE & WAFFLE MIX   \n",
      "49691       49692    ORGANIC INSTANT OATMEAL LIGHT MAPLE BROWN SUGAR   \n",
      "49692       49693                             SPRING WATER BODY WASH   \n",
      "49693       49694                            BURRITO- STEAK & CHEESE   \n",
      "\n",
      "       aisle_id  department_id  \\\n",
      "0            61             19   \n",
      "1           104             13   \n",
      "2            94              7   \n",
      "3            38              1   \n",
      "4             5             13   \n",
      "...         ...            ...   \n",
      "49689        64              7   \n",
      "49690       130             14   \n",
      "49691       130             14   \n",
      "49692       127             11   \n",
      "49693        38              1   \n",
      "\n",
      "                                      product_name_upper  \n",
      "0                             CHOCOLATE SANDWICH COOKIES  \n",
      "1                                       ALL-SEASONS SALT  \n",
      "2                   ROBUST GOLDEN UNSWEETENED OOLONG TEA  \n",
      "3      SMART ONES CLASSIC FAVORITES MINI RIGATONI WIT...  \n",
      "4                              GREEN CHILE ANYTIME SAUCE  \n",
      "...                                                  ...  \n",
      "49689                      HIGH PERFORMANCE ENERGY DRINK  \n",
      "49690                      ORIGINAL PANCAKE & WAFFLE MIX  \n",
      "49691    ORGANIC INSTANT OATMEAL LIGHT MAPLE BROWN SUGAR  \n",
      "49692                             SPRING WATER BODY WASH  \n",
      "49693                            BURRITO- STEAK & CHEESE  \n",
      "\n",
      "[49694 rows x 5 columns]\n"
     ]
    }
   ],
   "source": [
    "df_products['product_name'].fillna('Desconocido', inplace=True)\n",
    "print(df_products)"
   ]
  },
  {
   "cell_type": "markdown",
   "id": "-A6x1AbJhjkp",
   "metadata": {
    "id": "-A6x1AbJhjkp"
   },
   "source": [
    "Describe brevemente cuáles son tus hallazgos.\n",
    "\n",
    "Se detectó que los valores ausentes se encontraban en el nombre del producto, por lo cual fueron llenados con la leyenda \"'Desconocido\""
   ]
  },
  {
   "cell_type": "code",
   "execution_count": 40,
   "id": "e96167bc",
   "metadata": {
    "id": "e96167bc",
    "trusted": false
   },
   "outputs": [
    {
     "name": "stdout",
     "output_type": "stream",
     "text": [
      "Todos los productos con nombre ausente están relacionados con el pasillo con ID 100.\n"
     ]
    }
   ],
   "source": [
    "#  ¿Todos los nombres de productos ausentes están relacionados con el pasillo con ID 100?\n",
    "\n",
    "productos_ausentes = df_products[df_products['product_name'].isna()]\n",
    "todos_pasillo_100 = (productos_ausentes['aisle_id'] == 100).all()\n",
    "\n",
    "\n",
    "if todos_pasillo_100:\n",
    "    print(\"Todos los productos con nombre ausente están relacionados con el pasillo con ID 100.\")\n",
    "else:\n",
    "    print(\"No todos los productos con nombre ausente están relacionados con el pasillo con ID 100.\")\n",
    "\n"
   ]
  },
  {
   "cell_type": "markdown",
   "id": "WRpIfXRphpSL",
   "metadata": {
    "id": "WRpIfXRphpSL"
   },
   "source": [
    "Describe brevemente cuáles son tus hallazgos.\n",
    "\n",
    "Haciendo el análisis, se detectó que todos los nombres de productos ausentes están relacionados con el pasillo 100."
   ]
  },
  {
   "cell_type": "code",
   "execution_count": 41,
   "id": "8fd0a541",
   "metadata": {
    "id": "8fd0a541",
    "trusted": false
   },
   "outputs": [
    {
     "name": "stdout",
     "output_type": "stream",
     "text": [
      "Todos los productos con nombre ausente están relacionados con el pasillo con ID 100.\n"
     ]
    }
   ],
   "source": [
    "# ¿Todos los nombres de productos ausentes están relacionados con el departamento con ID 21?\n",
    "\n",
    "productos_ausentes = df_products[df_products['product_name'].isna()]\n",
    "todos_pasillo_21 = (productos_ausentes['aisle_id'] == 21).all()\n",
    "\n",
    "\n",
    "if todos_pasillo_21:\n",
    "    print(\"Todos los productos con nombre ausente están relacionados con el pasillo con ID 100.\")\n",
    "else:\n",
    "    print(\"No todos los productos con nombre ausente están relacionados con el pasillo con ID 100.\")\n",
    "\n"
   ]
  },
  {
   "cell_type": "markdown",
   "id": "qDpdYn1Fht_I",
   "metadata": {
    "id": "qDpdYn1Fht_I"
   },
   "source": [
    "Describe brevemente cuáles son tus hallazgos.\n",
    "\n",
    "Haciendo el análisis, se detectó que no todos los nombres de productos ausentes están relacionados con el departamento con el ID 21."
   ]
  },
  {
   "cell_type": "code",
   "execution_count": 42,
   "id": "325c3464",
   "metadata": {
    "id": "325c3464",
    "trusted": false
   },
   "outputs": [
    {
     "name": "stdout",
     "output_type": "stream",
     "text": [
      "      product_id product_name  aisle_id    aisle  department_id department\n",
      "0             38  Desconocido       100  missing             21    missing\n",
      "1             72  Desconocido       100  missing             21    missing\n",
      "2            110  Desconocido       100  missing             21    missing\n",
      "3            297  Desconocido       100  missing             21    missing\n",
      "4            417  Desconocido       100  missing             21    missing\n",
      "...          ...          ...       ...      ...            ...        ...\n",
      "1253       49553  Desconocido       100  missing             21    missing\n",
      "1254       49575  Desconocido       100  missing             21    missing\n",
      "1255       49641  Desconocido       100  missing             21    missing\n",
      "1256       49664  Desconocido       100  missing             21    missing\n",
      "1257       49669  Desconocido       100  missing             21    missing\n",
      "\n",
      "[1258 rows x 6 columns]\n"
     ]
    }
   ],
   "source": [
    "# Usa las tablas department y aisle para revisar los datos del pasillo con ID 100 y el departamento con ID 21.\n",
    "\n",
    "productos_pasillo_100_departamento_21 = df_products[(df_products['aisle_id'] == 100) & (df_products['department_id'] == 21)]\n",
    "\n",
    "productos_completos = pd.merge(productos_pasillo_100_departamento_21, df_aisles, on='aisle_id', how='left')\n",
    "productos_completos = pd.merge(productos_completos, df_departments, on='department_id', how='left')\n",
    "\n",
    "print(productos_completos[['product_id', 'product_name', 'aisle_id', 'aisle', 'department_id', 'department']])\n"
   ]
  },
  {
   "cell_type": "markdown",
   "id": "nqhSTUPhhvEJ",
   "metadata": {
    "id": "nqhSTUPhhvEJ"
   },
   "source": [
    "Describe brevemente cuáles son tus hallazgos.\n",
    "\n",
    "Se detecto que los nombres de los productos en estos dos pasillos tienen valores ausentes."
   ]
  },
  {
   "cell_type": "code",
   "execution_count": 43,
   "id": "6b295120",
   "metadata": {
    "id": "6b295120",
    "trusted": false
   },
   "outputs": [
    {
     "name": "stdout",
     "output_type": "stream",
     "text": [
      "0\n"
     ]
    }
   ],
   "source": [
    "# Completa los nombres de productos ausentes con 'Unknown'\n",
    "\n",
    "df_products['product_name'] = df_products['product_name'].fillna('Unknown')\n",
    "print(df_products['product_name'].isna().sum())\n",
    "\n"
   ]
  },
  {
   "cell_type": "code",
   "execution_count": 44,
   "id": "6c6c7911",
   "metadata": {
    "trusted": false
   },
   "outputs": [
    {
     "name": "stdout",
     "output_type": "stream",
     "text": [
      "<class 'pandas.core.frame.DataFrame'>\n",
      "Int64Index: 0 entries\n",
      "Data columns (total 5 columns):\n",
      " #   Column              Non-Null Count  Dtype \n",
      "---  ------              --------------  ----- \n",
      " 0   product_id          0 non-null      int64 \n",
      " 1   product_name        0 non-null      object\n",
      " 2   aisle_id            0 non-null      int64 \n",
      " 3   department_id       0 non-null      int64 \n",
      " 4   product_name_upper  0 non-null      object\n",
      "dtypes: int64(3), object(2)\n",
      "memory usage: 0.0+ bytes\n",
      "None\n"
     ]
    }
   ],
   "source": [
    "productos_unknown = df_products[df_products['product_name'] == 'Unknown']\n",
    "\n",
    "print(productos_unknown.info())"
   ]
  },
  {
   "cell_type": "markdown",
   "id": "fc70e5ad",
   "metadata": {
    "id": "fc70e5ad"
   },
   "source": [
    "Describe brevemente tus hallazgos y lo que hiciste con ellos.\n",
    "\n",
    "Despues de identificar los valores ausentes en los nombres de los pasillos, se remplazo \"NaN\" por 'Unknown'"
   ]
  },
  {
   "cell_type": "markdown",
   "id": "7eb45c86",
   "metadata": {
    "id": "7eb45c86"
   },
   "source": [
    "### `orders` data frame"
   ]
  },
  {
   "cell_type": "code",
   "execution_count": 45,
   "id": "93e41d96",
   "metadata": {
    "id": "93e41d96",
    "trusted": false
   },
   "outputs": [
    {
     "name": "stdout",
     "output_type": "stream",
     "text": [
      "order_id                  0\n",
      "user_id                   0\n",
      "order_number              0\n",
      "order_dow                 0\n",
      "order_hour_of_day         0\n",
      "days_since_prior_order    0\n",
      "dtype: int64\n"
     ]
    }
   ],
   "source": [
    "# Encuentra los valores ausentes\n",
    "print(df_instacart_orders.isna().sum())"
   ]
  },
  {
   "cell_type": "code",
   "execution_count": 46,
   "id": "166e5a86",
   "metadata": {
    "id": "166e5a86",
    "trusted": false
   },
   "outputs": [
    {
     "name": "stdout",
     "output_type": "stream",
     "text": [
      "Valores ausentes solo para primeros pedidos:\n",
      "Empty DataFrame\n",
      "Columns: [order_id, user_id, order_number, days_since_prior_order]\n",
      "Index: []\n"
     ]
    }
   ],
   "source": [
    "# ¿Hay algún valor ausente que no sea el primer pedido del cliente?\n",
    "\n",
    "primeros_pedidos = df_instacart_orders[df_instacart_orders['order_number'] == 1]\n",
    "primeros_pedidos_ausentes = primeros_pedidos[primeros_pedidos['days_since_prior_order'].isna()]\n",
    "otros_pedidos_ausentes = df_instacart_orders[(df_instacart_orders['order_number'] > 1) & df_instacart_orders['days_since_prior_order'].isna()]\n",
    "\n",
    "print(\"Valores ausentes solo para primeros pedidos:\")\n",
    "print(primeros_pedidos_ausentes[['order_id', 'user_id', 'order_number', 'days_since_prior_order']])\n"
   ]
  },
  {
   "cell_type": "code",
   "execution_count": 47,
   "id": "b237e779",
   "metadata": {
    "trusted": false
   },
   "outputs": [
    {
     "name": "stdout",
     "output_type": "stream",
     "text": [
      "\n",
      "No hay valores ausentes en 'days_since_prior_order' que no sean para el primer pedido.\n"
     ]
    }
   ],
   "source": [
    "if otros_pedidos_ausentes.empty:\n",
    "    print(\"\\nNo hay valores ausentes en 'days_since_prior_order' que no sean para el primer pedido.\")\n",
    "else:\n",
    "    print(\"\\nExisten valores ausentes en 'days_since_prior_order' que no son para el primer pedido.\")"
   ]
  },
  {
   "cell_type": "code",
   "execution_count": 48,
   "id": "c5ecd165",
   "metadata": {
    "trusted": false
   },
   "outputs": [
    {
     "name": "stdout",
     "output_type": "stream",
     "text": [
      "        order_id  user_id  order_number  order_dow  order_hour_of_day  \\\n",
      "430691   2418551   137574            11          1                 10   \n",
      "421800    190882    52831            16          0                  8   \n",
      "224101    252299   159515             4          4                 14   \n",
      "148013   2202439   184272            23          4                 16   \n",
      "178932   3062017    85910             9          6                 17   \n",
      "57990     261498   128634             3          3                 12   \n",
      "38305    3055681   124587            11          6                  8   \n",
      "114055    237906   110566             7          0                 15   \n",
      "403305   1276003   177507             1          1                 20   \n",
      "471144    829336    68121             2          1                 11   \n",
      "\n",
      "        days_since_prior_order  \n",
      "430691                      30  \n",
      "421800                       7  \n",
      "224101                       5  \n",
      "148013                       6  \n",
      "178932                       7  \n",
      "57990                        6  \n",
      "38305                        5  \n",
      "114055                       5  \n",
      "403305                       0  \n",
      "471144                       5  \n"
     ]
    }
   ],
   "source": [
    "\n",
    "df_instacart_orders['days_since_prior_order'] = df_instacart_orders['days_since_prior_order'].fillna('0')\n",
    "print(df_instacart_orders.sample(10))"
   ]
  },
  {
   "cell_type": "markdown",
   "id": "4e23d089",
   "metadata": {
    "id": "4e23d089"
   },
   "source": [
    "Describe brevemente tus hallazgos y lo que hiciste con ellos.\n",
    "\n",
    "Primero filtrar los primeros pedidos de cada cliente (order_number == 1), Verificar los valores ausentes en 'days_since_prior_order' para los primeros pedidos y tambien para los demás pedidos y se encontró que no hay valores ausentes en 'days_since_prior_order' que no sean para el primer pedido. Ademas de que se llenaron los valores ausentes de la columna 'days_since_prior_order' a cero."
   ]
  },
  {
   "cell_type": "markdown",
   "id": "69dc9ca4",
   "metadata": {
    "id": "69dc9ca4"
   },
   "source": [
    "### `order_products` data frame"
   ]
  },
  {
   "cell_type": "code",
   "execution_count": 49,
   "id": "b8240253",
   "metadata": {
    "id": "b8240253",
    "trusted": false
   },
   "outputs": [
    {
     "name": "stdout",
     "output_type": "stream",
     "text": [
      "order_id             0\n",
      "product_id           0\n",
      "add_to_cart_order    0\n",
      "reordered            0\n",
      "dtype: int64\n"
     ]
    }
   ],
   "source": [
    "# Encuentra los valores ausentes\n",
    "print(df_order_products.isna().sum())"
   ]
  },
  {
   "cell_type": "code",
   "execution_count": 50,
   "id": "2f00e2ef",
   "metadata": {
    "trusted": false
   },
   "outputs": [
    {
     "name": "stdout",
     "output_type": "stream",
     "text": [
      "0     17\n",
      "1      1\n",
      "2      1\n",
      "3     35\n",
      "4      5\n",
      "5      4\n",
      "6      5\n",
      "7     10\n",
      "8     14\n",
      "9      4\n",
      "10     2\n",
      "11    28\n",
      "12    10\n",
      "13     3\n",
      "14     1\n",
      "15    16\n",
      "16     1\n",
      "17     8\n",
      "18     7\n",
      "19     5\n",
      "Name: add_to_cart_order, dtype: int64\n"
     ]
    }
   ],
   "source": [
    "print(df_order_products['add_to_cart_order'].head(20))"
   ]
  },
  {
   "cell_type": "code",
   "execution_count": 51,
   "id": "9a78e5ee",
   "metadata": {
    "id": "9a78e5ee",
    "trusted": false
   },
   "outputs": [
    {
     "name": "stdout",
     "output_type": "stream",
     "text": [
      "order_id             3421079\n",
      "product_id             49694\n",
      "add_to_cart_order         64\n",
      "reordered                  1\n",
      "dtype: int64\n"
     ]
    }
   ],
   "source": [
    "# ¿Cuáles son los valores mínimos y máximos en esta columna?\n",
    "print(df_order_products.max())\n"
   ]
  },
  {
   "cell_type": "code",
   "execution_count": 52,
   "id": "d2a4085a",
   "metadata": {
    "trusted": false
   },
   "outputs": [
    {
     "name": "stdout",
     "output_type": "stream",
     "text": [
      "order_id             4\n",
      "product_id           1\n",
      "add_to_cart_order    0\n",
      "reordered            0\n",
      "dtype: int64\n"
     ]
    }
   ],
   "source": [
    "print(df_order_products.min())"
   ]
  },
  {
   "cell_type": "markdown",
   "id": "-Z2Ja215jW78",
   "metadata": {
    "id": "-Z2Ja215jW78"
   },
   "source": [
    "Describe brevemente cuáles son tus hallazgos.\n",
    "\n",
    "Mediante el método min() y max(), se obtuvieron los valores mínimos y máximos de la columna."
   ]
  },
  {
   "cell_type": "code",
   "execution_count": 53,
   "id": "ab9d0c2b",
   "metadata": {
    "id": "ab9d0c2b",
    "trusted": false
   },
   "outputs": [
    {
     "name": "stdout",
     "output_type": "stream",
     "text": [
      "Empty DataFrame\n",
      "Columns: [order_id, product_id, add_to_cart_order, reordered]\n",
      "Index: []\n"
     ]
    }
   ],
   "source": [
    "# Guarda todas las IDs de pedidos que tengan un valor ausente en 'add_to_cart_order'\n",
    "\n",
    "valores_ausentes_pedidos = df_order_products[df_order_products['add_to_cart_order'].isna()]\n",
    "\n",
    "print(valores_ausentes_pedidos.head(10))\n",
    "\n",
    "\n"
   ]
  },
  {
   "cell_type": "code",
   "execution_count": 54,
   "id": "54c31695",
   "metadata": {
    "id": "54c31695",
    "trusted": false
   },
   "outputs": [
    {
     "name": "stdout",
     "output_type": "stream",
     "text": [
      "Todos los pedidos con valores ausentes en 'add_to_cart_order' tienen más de 64 productos.\n"
     ]
    }
   ],
   "source": [
    "# ¿Todos los pedidos con valores ausentes tienen más de 64 productos?\n",
    "\n",
    "productos_por_pedido = valores_ausentes_pedidos.groupby('order_id').size()\n",
    "todos_mas_de_64 = (productos_por_pedido > 64).all()\n",
    "\n",
    "if todos_mas_de_64:\n",
    "    print(\"Todos los pedidos con valores ausentes en 'add_to_cart_order' tienen más de 64 productos.\")\n",
    "else:\n",
    "    print(\"No todos los pedidos con valores ausentes en 'add_to_cart_order' tienen más de 64 productos.\")\n"
   ]
  },
  {
   "cell_type": "code",
   "execution_count": 55,
   "id": "7a9bd1bb",
   "metadata": {
    "trusted": false
   },
   "outputs": [
    {
     "name": "stdout",
     "output_type": "stream",
     "text": [
      "Series([], Name: product_id, dtype: int64)\n"
     ]
    }
   ],
   "source": [
    "# Agrupa todos los pedidos con datos ausentes por su ID de pedido.\n",
    "\n",
    "conteo_productos_por_pedido = valores_ausentes_pedidos.groupby('order_id')['product_id'].count()\n",
    "print(conteo_productos_por_pedido.head(10))"
   ]
  },
  {
   "cell_type": "code",
   "execution_count": 56,
   "id": "7f0ab8ba",
   "metadata": {
    "trusted": false
   },
   "outputs": [
    {
     "name": "stdout",
     "output_type": "stream",
     "text": [
      "El valor mínimo del conteo de productos en los pedidos con datos ausentes es: nan\n"
     ]
    }
   ],
   "source": [
    "# Cuenta el número de 'product_id' en cada pedido y revisa el valor mínimo del conteo\n",
    "\n",
    "valor_minimo_conteo = conteo_productos_por_pedido.min()\n",
    "print(f\"El valor mínimo del conteo de productos en los pedidos con datos ausentes es: {valor_minimo_conteo}\")"
   ]
  },
  {
   "cell_type": "markdown",
   "id": "p9V6pddtjglj",
   "metadata": {
    "id": "p9V6pddtjglj"
   },
   "source": [
    "Describe brevemente cuáles son tus hallazgos.\n",
    "\n",
    "Despues de hacer el analisis se identifico que todos los pedidos con valores ausentes en 'add_to_cart_order' tienen más de 64 productos y tambien que el valor mínimo del conteo de productos en los pedidos con datos ausentes es: 1."
   ]
  },
  {
   "cell_type": "code",
   "execution_count": 57,
   "id": "7a987d08",
   "metadata": {
    "id": "7a987d08",
    "trusted": false
   },
   "outputs": [
    {
     "name": "stdout",
     "output_type": "stream",
     "text": [
      "         order_id  product_id  add_to_cart_order  reordered\n",
      "3922358   1519851       19348                  3          1\n",
      "908991     742017       20197                  6          0\n",
      "3688967   1666698        2966                 11          0\n",
      "3535024   1551979       22006                  9          1\n",
      "1033585   1167680       13176                  7          1\n",
      "1368069   2553246       35976                  7          0\n",
      "2978692   2743298       27966                  2          1\n",
      "3092997    194230       46979                  1          0\n",
      "3417063   1406941       42495                 16          1\n",
      "4002075    867953       44275                  5          1\n"
     ]
    }
   ],
   "source": [
    "# Remplaza los valores ausentes en la columna 'add_to_cart? con 999 y convierte la columna al tipo entero.\n",
    "\n",
    "df_order_products['add_to_cart_order'] = df_order_products['add_to_cart_order'].fillna(999).astype(int)\n",
    "print(df_order_products.sample(10))\n",
    "\n",
    "\n"
   ]
  },
  {
   "cell_type": "markdown",
   "id": "fea4bcc7",
   "metadata": {
    "id": "fea4bcc7"
   },
   "source": [
    "Describe brevemente tus hallazgos y lo que hiciste con ellos."
   ]
  },
  {
   "cell_type": "markdown",
   "id": "RnplPFY1gSrb",
   "metadata": {
    "id": "RnplPFY1gSrb"
   },
   "source": [
    "## Conclusiones\n",
    "\n",
    "Escribe aquí tus conclusiones intermedias sobre el Paso 2. Preprocesamiento de los datos\n",
    "\n",
    "Es importante chequear y siempre analizar qué hacer con los valores ausentes y duplicados, como en el caso de estos DataFrames, para que no afecten el análisis posterior."
   ]
  },
  {
   "cell_type": "markdown",
   "id": "UjrOIwTcz3ri",
   "metadata": {
    "id": "UjrOIwTcz3ri"
   },
   "source": [
    "# Paso 3. Análisis de los datos\n",
    "\n",
    "Una vez los datos estén procesados y listos, haz el siguiente análisis:"
   ]
  },
  {
   "cell_type": "markdown",
   "id": "turkish-kidney",
   "metadata": {
    "id": "turkish-kidney"
   },
   "source": [
    "# [A] Fácil (deben completarse todos para aprobar)\n",
    "\n",
    "1. Verifica que los valores en las columnas `'order_hour_of_day'` y `'order_dow'` en la tabla orders sean razonables (es decir, `'order_hour_of_day'` oscile entre 0 y 23 y `'order_dow'` oscile entre 0 y 6).\n",
    "2. Crea un gráfico que muestre el número de personas que hacen pedidos dependiendo de la hora del día.\n",
    "3. Crea un gráfico que muestre qué día de la semana la gente hace sus compras.\n",
    "4. Crea un gráfico que muestre el tiempo que la gente espera hasta hacer su siguiente pedido, y comenta sobre los valores mínimos y máximos."
   ]
  },
  {
   "cell_type": "markdown",
   "id": "short-capability",
   "metadata": {
    "id": "short-capability"
   },
   "source": [
    "### [A1] Verifica que los valores sean sensibles"
   ]
  },
  {
   "cell_type": "code",
   "execution_count": 58,
   "id": "growing-fruit",
   "metadata": {
    "id": "growing-fruit",
    "trusted": false
   },
   "outputs": [
    {
     "name": "stdout",
     "output_type": "stream",
     "text": [
      "    order_id  user_id  order_number  order_dow  order_hour_of_day  \\\n",
      "0    1515936   183418            11          6                 13   \n",
      "1    1690866   163593             5          5                 12   \n",
      "2    1454967    39980             4          5                 19   \n",
      "3    1768857    82516            56          0                 20   \n",
      "4    3007858   196724             2          4                 12   \n",
      "5    1843871    20084             5          0                 11   \n",
      "6    2511640   148233            40          3                  8   \n",
      "7    2521283    97711             2          0                 18   \n",
      "8    2266494    34954            40          5                 15   \n",
      "9     446014    15356             2          4                  8   \n",
      "10   1162566    43738            33          4                 11   \n",
      "11    102585   191558            18          6                 16   \n",
      "12   2276302   190167            21          1                 12   \n",
      "13    782916    36310            34          5                  9   \n",
      "14   2843219    74699             4          6                 11   \n",
      "\n",
      "    days_since_prior_order  \n",
      "0                       30  \n",
      "1                        9  \n",
      "2                        2  \n",
      "3                       10  \n",
      "4                       17  \n",
      "5                       15  \n",
      "6                        2  \n",
      "7                       22  \n",
      "8                        4  \n",
      "9                       10  \n",
      "10                       2  \n",
      "11                       8  \n",
      "12                       2  \n",
      "13                       3  \n",
      "14                      30  \n"
     ]
    }
   ],
   "source": [
    "\n",
    "print(df_instacart_orders.head(15))"
   ]
  },
  {
   "cell_type": "code",
   "execution_count": 59,
   "id": "09d06a48",
   "metadata": {
    "trusted": false
   },
   "outputs": [
    {
     "name": "stdout",
     "output_type": "stream",
     "text": [
      "Valores sensibles en 'order_hour_of_day':\n"
     ]
    }
   ],
   "source": [
    "valores_sensibles_hora = df_instacart_orders.query('order_hour_of_day < 0 or order_hour_of_day > 23')\n",
    "print(\"Valores sensibles en 'order_hour_of_day':\")"
   ]
  },
  {
   "cell_type": "code",
   "execution_count": 60,
   "id": "28ffe2aa",
   "metadata": {
    "trusted": false
   },
   "outputs": [
    {
     "name": "stdout",
     "output_type": "stream",
     "text": [
      "Valores inválidos en 'order_dow':\n"
     ]
    }
   ],
   "source": [
    "valores_sensibles_dia = df_instacart_orders.query('order_dow < 0 or order_dow > 6')\n",
    "print(\"Valores inválidos en 'order_dow':\")"
   ]
  },
  {
   "cell_type": "markdown",
   "id": "hmR2GNQ6lCsX",
   "metadata": {
    "id": "hmR2GNQ6lCsX"
   },
   "source": [
    "Escribe aquí tus conclusiones\n",
    "\n",
    "Después de analizar los valores mediante Query, se detectó que los datos son razonables y oscilan entre 0 y 23 en 'order_hour_of_day' y entre 0 y 6 en 'order_dow'."
   ]
  },
  {
   "cell_type": "markdown",
   "id": "a6743a70",
   "metadata": {
    "id": "a6743a70"
   },
   "source": [
    "### [A2] Para cada hora del día, ¿cuántas personas hacen órdenes?"
   ]
  },
  {
   "cell_type": "code",
   "execution_count": 61,
   "id": "a36cca27",
   "metadata": {
    "id": "a36cca27",
    "trusted": false
   },
   "outputs": [
    {
     "name": "stdout",
     "output_type": "stream",
     "text": [
      "0      3180\n",
      "1      1763\n",
      "2       989\n",
      "3       770\n",
      "4       765\n",
      "5      1371\n",
      "6      4215\n",
      "7     13043\n",
      "8     25024\n",
      "9     35896\n",
      "10    40578\n",
      "11    40032\n",
      "12    38034\n",
      "13    39007\n",
      "14    39631\n",
      "15    39789\n",
      "16    38112\n",
      "17    31930\n",
      "18    25510\n",
      "19    19547\n",
      "20    14624\n",
      "21    11019\n",
      "22     8512\n",
      "23     5611\n",
      "Name: order_hour_of_day, dtype: int64\n"
     ]
    }
   ],
   "source": [
    "orders_by_hour = df_instacart_orders['order_hour_of_day'].value_counts().sort_index()\n",
    "\n",
    "print(orders_by_hour)"
   ]
  },
  {
   "cell_type": "code",
   "execution_count": 62,
   "id": "4afb782d",
   "metadata": {
    "trusted": false
   },
   "outputs": [
    {
     "data": {
      "image/png": "[encoded data removed]",
      "text/plain": [
       "<Figure size 1000x600 with 1 Axes>"
      ]
     },
     "metadata": {},
     "output_type": "display_data"
    }
   ],
   "source": [
    "import pandas as pd\n",
    "from matplotlib import pyplot as plt\n",
    "\n",
    "df_instacart_orders = pd.read_csv('/datasets/instacart_orders.csv', delimiter=';')\n",
    "\n",
    "orders_by_hour.plot(kind='bar',\n",
    "                    color='dodgerblue',\n",
    "                    figsize=(10, 6),\n",
    "                    legend='y',\n",
    "                    title='Número de pedidos por hora del día',\n",
    "                    xlabel='Hora del día',\n",
    "                    ylabel='Número de pedidos')\n",
    "\n",
    "plt.legend(['Orden por hora del dia'])\n",
    "\n",
    "plt.show()"
   ]
  },
  {
   "cell_type": "code",
   "execution_count": 63,
   "id": "a44af652",
   "metadata": {
    "trusted": false
   },
   "outputs": [
    {
     "name": "stdout",
     "output_type": "stream",
     "text": [
      "10    40578\n",
      "11    40032\n",
      "15    39789\n",
      "14    39631\n",
      "13    39007\n",
      "16    38112\n",
      "12    38034\n",
      "9     35896\n",
      "17    31930\n",
      "18    25510\n",
      "8     25024\n",
      "19    19547\n",
      "20    14624\n",
      "7     13043\n",
      "21    11019\n",
      "22     8512\n",
      "23     5611\n",
      "6      4215\n",
      "0      3180\n",
      "1      1763\n",
      "5      1371\n",
      "2      1004\n",
      "3       770\n",
      "4       765\n",
      "Name: order_hour_of_day, dtype: int64\n"
     ]
    }
   ],
   "source": [
    "orders_by_hour = df_instacart_orders['order_hour_of_day'].value_counts().sort_values(ascending=False)\n",
    "print(orders_by_hour)"
   ]
  },
  {
   "cell_type": "markdown",
   "id": "11270eed",
   "metadata": {
    "id": "11270eed"
   },
   "source": [
    "Escribe aquí tus conclusiones\n",
    "\n",
    "Después de hacer el análisis y la gráfica correspondiente, se identificó que el promedio de cuántas órdenes hacen las personas en cada hora del día varía mucho, siendo la hora 10 en la que las personas hacen más pedidos, con un total de 40,578, y siendo la hora 4 en la que menos pedidos se hacen, con un total de 765."
   ]
  },
  {
   "cell_type": "markdown",
   "id": "documented-command",
   "metadata": {
    "id": "documented-command"
   },
   "source": [
    "### [A3] ¿Qué día de la semana compran víveres las personas?"
   ]
  },
  {
   "cell_type": "code",
   "execution_count": 64,
   "id": "chief-digit",
   "metadata": {
    "id": "chief-digit",
    "trusted": false
   },
   "outputs": [
    {
     "name": "stdout",
     "output_type": "stream",
     "text": [
      "0    84090\n",
      "1    82185\n",
      "2    65833\n",
      "3    60912\n",
      "4    59810\n",
      "5    63488\n",
      "6    62649\n",
      "Name: order_dow, dtype: int64\n"
     ]
    }
   ],
   "source": [
    "orders_by_day = df_instacart_orders['order_dow'].value_counts().sort_index()\n",
    "\n",
    "print(orders_by_day)"
   ]
  },
  {
   "cell_type": "code",
   "execution_count": 65,
   "id": "63d5e7fd",
   "metadata": {
    "trusted": false
   },
   "outputs": [
    {
     "name": "stdout",
     "output_type": "stream",
     "text": [
      "0    84090\n",
      "1    82185\n",
      "2    65833\n",
      "5    63488\n",
      "6    62649\n",
      "3    60912\n",
      "4    59810\n",
      "Name: order_dow, dtype: int64\n"
     ]
    }
   ],
   "source": [
    "orders_by_day_sorted = orders_by_day.sort_values(ascending=False)\n",
    "\n",
    "print(orders_by_day_sorted)"
   ]
  },
  {
   "cell_type": "code",
   "execution_count": 66,
   "id": "012553c7",
   "metadata": {
    "trusted": false
   },
   "outputs": [
    {
     "data": {
      "image/png": "[encoded data removed]",
      "text/plain": [
       "<Figure size 1000x600 with 1 Axes>"
      ]
     },
     "metadata": {},
     "output_type": "display_data"
    }
   ],
   "source": [
    "colores = ['red', 'blue', 'green', 'orange', 'purple', 'yellow', 'pink']\n",
    "\n",
    "orders_by_day.plot(kind='bar',\n",
    "                   color=colores,\n",
    "                   figsize=(10, 6),\n",
    "                   title='Número de compras por día de la semana',\n",
    "                   legend='0 = domingo',\n",
    "                   xlabel='Día de la semana (0 = domingo, 6 = sábado)',\n",
    "                   ylabel='Número de pedidos')\n",
    "\n",
    "plt.legend(['Días de la semana'])\n",
    "\n",
    "plt.show()"
   ]
  },
  {
   "cell_type": "markdown",
   "id": "dominant-lightning",
   "metadata": {
    "id": "dominant-lightning"
   },
   "source": [
    "Escribe aquí tus conclusiones\n",
    "\n",
    "En el análisis, se identificó que el día en el que más compras de víveres hacen los usuarios es el día domingo, con un total de 84,090, y el día en el que menos hacen compras es el día jueves, con un total de 59,810."
   ]
  },
  {
   "cell_type": "markdown",
   "id": "cutting-concert",
   "metadata": {
    "id": "cutting-concert"
   },
   "source": [
    "### [A4] ¿Cuánto tiempo esperan las personas hasta hacer otro pedido? Comenta sobre los valores mínimos y máximos."
   ]
  },
  {
   "cell_type": "code",
   "execution_count": 67,
   "id": "63970d3e",
   "metadata": {
    "trusted": false
   },
   "outputs": [],
   "source": [
    "min_days = df_instacart_orders['days_since_prior_order'].min()\n",
    "max_days = df_instacart_orders['days_since_prior_order'].max()\n",
    "mean_days = df_instacart_orders['days_since_prior_order'].mean()"
   ]
  },
  {
   "cell_type": "code",
   "execution_count": 68,
   "id": "260bb9c3",
   "metadata": {
    "trusted": false
   },
   "outputs": [
    {
     "name": "stdout",
     "output_type": "stream",
     "text": [
      "Valor mínimo de días entre pedidos: 0.0\n",
      "Valor máximo de días entre pedidos: 30.0\n",
      "Valor promedio de días entre pedidos: 11.101750979677794\n"
     ]
    }
   ],
   "source": [
    "print(f'Valor mínimo de días entre pedidos: {min_days}')\n",
    "print(f'Valor máximo de días entre pedidos: {max_days}')\n",
    "print(f'Valor promedio de días entre pedidos: {mean_days}')"
   ]
  },
  {
   "cell_type": "code",
   "execution_count": 69,
   "id": "39957265",
   "metadata": {
    "trusted": false
   },
   "outputs": [
    {
     "data": {
      "text/plain": [
       "Text(0, 0.5, 'Frecuencia')"
      ]
     },
     "execution_count": 69,
     "metadata": {},
     "output_type": "execute_result"
    },
    {
     "data": {
      "image/png": "[encoded data removed]",
      "text/plain": [
       "<Figure size 1000x600 with 1 Axes>"
      ]
     },
     "metadata": {},
     "output_type": "display_data"
    }
   ],
   "source": [
    "df_instacart_orders['days_since_prior_order'].plot(kind='hist',\n",
    "                                                   bins=50,\n",
    "                                                   color='gold',\n",
    "                                                   figsize=(10, 6),\n",
    "                                                   edgecolor='black')\n",
    "\n",
    "plt.title('Distribución de días entre pedidos', fontsize=16)\n",
    "plt.xlabel('Días desde el último pedido', fontsize=14)\n",
    "plt.ylabel('Frecuencia', fontsize=14)\n",
    "\n"
   ]
  },
  {
   "cell_type": "markdown",
   "id": "discrete-vertex",
   "metadata": {
    "id": "discrete-vertex"
   },
   "source": [
    "Escribe aquí tus conclusiones\n",
    "\n",
    "Al analizar los datos, se detectó que el valor mínimo de días entre pedidos es de 0, el valor máximo de días entre pedidos es de 30 y el valor promedio de días entre pedidos es de 10.43376892353753. Siendo el valor máximo de días el número 30, como se puede notar en la tabla."
   ]
  },
  {
   "cell_type": "markdown",
   "id": "tight-staff",
   "metadata": {
    "id": "tight-staff"
   },
   "source": [
    "# [B] Intermedio (deben completarse todos para aprobar)\n",
    "\n",
    "1. ¿Existe alguna diferencia entre las distribuciones `'order_hour_of_day'` de los miércoles y los sábados? Traza gráficos de barra de `'order_hour_of_day'` para ambos días en la misma figura y describe las diferencias que observes.\n",
    "2. Grafica la distribución para el número de órdenes que hacen los clientes (es decir, cuántos clientes hicieron solo 1 pedido, cuántos hicieron 2, cuántos 3, y así sucesivamente...).\n",
    "3. ¿Cuáles son los 20 principales productos que se piden con más frecuencia (muestra su identificación y nombre)?"
   ]
  },
  {
   "cell_type": "markdown",
   "id": "packed-classic",
   "metadata": {
    "id": "packed-classic"
   },
   "source": [
    "### [B1] Diferencia entre miércoles y sábados para  `'order_hour_of_day'`. Traza gráficos de barra para los dos días y describe las diferencias que veas."
   ]
  },
  {
   "cell_type": "code",
   "execution_count": 70,
   "id": "d89b8403",
   "metadata": {
    "id": "d89b8403",
    "trusted": false
   },
   "outputs": [],
   "source": [
    "wednesday_orders = df_instacart_orders[df_instacart_orders['order_dow'] == 3]\n",
    "saturday_orders = df_instacart_orders[df_instacart_orders['order_dow'] == 6]"
   ]
  },
  {
   "cell_type": "code",
   "execution_count": 71,
   "id": "c6a731d5",
   "metadata": {
    "trusted": false
   },
   "outputs": [
    {
     "name": "stdout",
     "output_type": "stream",
     "text": [
      "0      373\n",
      "1      215\n",
      "2      121\n",
      "3      101\n",
      "4      108\n",
      "5      170\n",
      "6      643\n",
      "7     1732\n",
      "8     3125\n",
      "9     4490\n",
      "10    5026\n",
      "11    5004\n",
      "12    4688\n",
      "13    4674\n",
      "14    4774\n",
      "15    5163\n",
      "16    4976\n",
      "17    4175\n",
      "18    3463\n",
      "19    2652\n",
      "20    1917\n",
      "21    1450\n",
      "22    1154\n",
      "23     718\n",
      "Name: order_hour_of_day, dtype: int64\n"
     ]
    }
   ],
   "source": [
    "print(wednesday_orders['order_hour_of_day'].value_counts().sort_index())"
   ]
  },
  {
   "cell_type": "code",
   "execution_count": 72,
   "id": "f483edc9",
   "metadata": {
    "trusted": false
   },
   "outputs": [
    {
     "name": "stdout",
     "output_type": "stream",
     "text": [
      "15    5163\n",
      "10    5026\n",
      "11    5004\n",
      "16    4976\n",
      "14    4774\n",
      "12    4688\n",
      "13    4674\n",
      "9     4490\n",
      "17    4175\n",
      "18    3463\n",
      "8     3125\n",
      "19    2652\n",
      "20    1917\n",
      "7     1732\n",
      "21    1450\n",
      "22    1154\n",
      "23     718\n",
      "6      643\n",
      "0      373\n",
      "1      215\n",
      "5      170\n",
      "2      121\n",
      "4      108\n",
      "3      101\n",
      "Name: order_hour_of_day, dtype: int64\n"
     ]
    }
   ],
   "source": [
    "print(wednesday_orders['order_hour_of_day'].value_counts().sort_values(ascending=False))"
   ]
  },
  {
   "cell_type": "code",
   "execution_count": 73,
   "id": "94e54e8a",
   "metadata": {
    "id": "94e54e8a",
    "trusted": false
   },
   "outputs": [
    {
     "data": {
      "image/png": "[encoded data removed]",
      "text/plain": [
       "<Figure size 1200x600 with 1 Axes>"
      ]
     },
     "metadata": {},
     "output_type": "display_data"
    }
   ],
   "source": [
    "wednesday_orders['order_hour_of_day'].value_counts().sort_index().plot(kind='bar',\n",
    "                                                                       color='orange',\n",
    "                                                                       figsize=(12, 6),\n",
    "                                                                       position=1, \n",
    "                                                                       width=0.4,\n",
    "                                                                       title='Pedidos de dias miercoles',\n",
    "                                                                       xlabel='Hora del día',\n",
    "                                                                       ylabel='Número de pedidos')\n",
    "\n",
    "plt.show()"
   ]
  },
  {
   "cell_type": "code",
   "execution_count": 74,
   "id": "ae00436b",
   "metadata": {
    "trusted": false
   },
   "outputs": [
    {
     "name": "stdout",
     "output_type": "stream",
     "text": [
      "14    5375\n",
      "13    5323\n",
      "15    5188\n",
      "12    5132\n",
      "11    5116\n",
      "16    5029\n",
      "10    4919\n",
      "9     4311\n",
      "17    4295\n",
      "18    3338\n",
      "8     3246\n",
      "19    2610\n",
      "20    1847\n",
      "7     1619\n",
      "21    1473\n",
      "22    1185\n",
      "23     893\n",
      "0      464\n",
      "6      451\n",
      "1      254\n",
      "2      177\n",
      "5      161\n",
      "3      125\n",
      "4      118\n",
      "Name: order_hour_of_day, dtype: int64\n"
     ]
    }
   ],
   "source": [
    "print(saturday_orders['order_hour_of_day'].value_counts().sort_values(ascending=False))"
   ]
  },
  {
   "cell_type": "code",
   "execution_count": 75,
   "id": "797c90a8",
   "metadata": {
    "id": "797c90a8",
    "trusted": false
   },
   "outputs": [
    {
     "data": {
      "image/png": "[encoded data removed]",
      "text/plain": [
       "<Figure size 1200x600 with 1 Axes>"
      ]
     },
     "metadata": {},
     "output_type": "display_data"
    }
   ],
   "source": [
    "saturday_orders['order_hour_of_day'].value_counts().sort_index().plot(kind='bar',\n",
    "                                                                       color='pink',\n",
    "                                                                       figsize=(12, 6),\n",
    "                                                                       position=1, \n",
    "                                                                       width=0.4,\n",
    "                                                                       title='Pedidos de dias sabados',\n",
    "                                                                       xlabel='Hora del día',\n",
    "                                                                       ylabel='Número de pedidos')\n",
    "                                                                     \n",
    "\n",
    "\n",
    "plt.show()"
   ]
  },
  {
   "cell_type": "markdown",
   "id": "charitable-congo",
   "metadata": {
    "id": "charitable-congo"
   },
   "source": [
    "Escribe aquí tus conclusiones\n",
    "\n",
    "En las dos gráficas se puede notar que la hora del día en la que más pedidos hacen los clientes cambia. En el día miércoles, la hora del día con más pedidos es la hora 15, con un total de 5,163, y la hora en la que menos pedidos hacen es la hora 4, con un total de 118. Mientras que en el día sábado, la hora en la que más se realizan pedidos es la hora 14, con un total de 5,375, y la hora en la que menos se hacen pedidos es la hora 4, con solo 118."
   ]
  },
  {
   "cell_type": "markdown",
   "id": "e3891143",
   "metadata": {
    "id": "e3891143"
   },
   "source": [
    "### [B2] ¿Cuál es la distribución para el número de pedidos por cliente?"
   ]
  },
  {
   "cell_type": "code",
   "execution_count": 76,
   "id": "d8c26c23",
   "metadata": {
    "id": "d8c26c23",
    "trusted": false
   },
   "outputs": [
    {
     "name": "stdout",
     "output_type": "stream",
     "text": [
      "1     55355\n",
      "2     36508\n",
      "3     21548\n",
      "4     13498\n",
      "5      8778\n",
      "6      6012\n",
      "7      4240\n",
      "8      3016\n",
      "9      2153\n",
      "10     1646\n",
      "11     1308\n",
      "12      948\n",
      "13      701\n",
      "14      514\n",
      "15      437\n",
      "16      263\n",
      "17      184\n",
      "18      121\n",
      "19       85\n",
      "20       52\n",
      "21       22\n",
      "22       23\n",
      "23       19\n",
      "24        3\n",
      "25        1\n",
      "26        1\n",
      "28        1\n",
      "Name: order_id, dtype: int64\n"
     ]
    }
   ],
   "source": [
    "orders_per_user = df_instacart_orders.groupby('user_id')['order_id'].count()\n",
    "orders_count = orders_per_user.value_counts().sort_index()\n",
    "\n",
    "print(orders_count)"
   ]
  },
  {
   "cell_type": "code",
   "execution_count": 77,
   "id": "00e69a66",
   "metadata": {
    "id": "00e69a66",
    "trusted": false
   },
   "outputs": [
    {
     "data": {
      "image/png": "[encoded data removed]",
      "text/plain": [
       "<Figure size 1000x600 with 1 Axes>"
      ]
     },
     "metadata": {},
     "output_type": "display_data"
    }
   ],
   "source": [
    "orders_count.plot(kind='bar',\n",
    "                  color='lightcoral',\n",
    "                  figsize=(10, 6),\n",
    "                  title='Distribución del número de pedidos por cliente',\n",
    "                  xlabel='Número de pedidos',\n",
    "                  ylabel='Número de clientes')\n",
    "\n",
    "plt.xlim(0, 17)\n",
    "plt.show()"
   ]
  },
  {
   "cell_type": "markdown",
   "id": "d2eff7d5",
   "metadata": {
    "id": "d2eff7d5"
   },
   "source": [
    "Escribe aquí tus conclusiones\n",
    "\n",
    "Analizando la gráfica anterior, se puede notar que el mayor número de pedidos es realizado por los clientes con un promedio de uno, y se puede observar que la gráfica sigue una forma descendente, es decir, a mayor número de pedidos, se reduce el número de clientes."
   ]
  },
  {
   "cell_type": "markdown",
   "id": "54a0319c",
   "metadata": {
    "id": "54a0319c"
   },
   "source": [
    "### [B3] ¿Cuáles son los 20 productos más populares (muestra su ID y nombre)?"
   ]
  },
  {
   "cell_type": "code",
   "execution_count": 78,
   "id": "exterior-arizona",
   "metadata": {
    "id": "exterior-arizona",
    "scrolled": true,
    "trusted": false
   },
   "outputs": [
    {
     "name": "stdout",
     "output_type": "stream",
     "text": [
      "24852    66050\n",
      "13176    53297\n",
      "21137    37039\n",
      "21903    33971\n",
      "47209    29773\n",
      "47766    24689\n",
      "47626    21495\n",
      "16797    20018\n",
      "26209    19690\n",
      "27845    19600\n",
      "27966    19197\n",
      "22935    15898\n",
      "24964    15292\n",
      "45007    14584\n",
      "39275    13879\n",
      "49683    13675\n",
      "28204    12544\n",
      "5876     12232\n",
      "8277     11993\n",
      "40706    11781\n",
      "Name: product_id, dtype: int64\n"
     ]
    }
   ],
   "source": [
    "top_20_products = df_order_products['product_id'].value_counts().head(20)\n",
    "\n",
    "print(top_20_products)"
   ]
  },
  {
   "cell_type": "code",
   "execution_count": 79,
   "id": "universal-facial",
   "metadata": {
    "id": "universal-facial",
    "trusted": false
   },
   "outputs": [
    {
     "name": "stdout",
     "output_type": "stream",
     "text": [
      "       product_id              product_name  aisle_id  department_id  \\\n",
      "5875         5876             Organic Lemon        24              4   \n",
      "8276         8277  Apple Honeycrisp Organic        24              4   \n",
      "13175       13176    Bag of Organic Bananas        24              4   \n",
      "16796       16797              Strawberries        24              4   \n",
      "21136       21137      Organic Strawberries        24              4   \n",
      "21902       21903      Organic Baby Spinach       123              4   \n",
      "22934       22935      Organic Yellow Onion        83              4   \n",
      "24851       24852                    Banana        24              4   \n",
      "24963       24964            Organic Garlic        83              4   \n",
      "26208       26209                     Limes        24              4   \n",
      "27844       27845        Organic Whole Milk        84             16   \n",
      "27965       27966       Organic Raspberries       123              4   \n",
      "28203       28204        Organic Fuji Apple        24              4   \n",
      "39274       39275       Organic Blueberries       123              4   \n",
      "40705       40706    Organic Grape Tomatoes       123              4   \n",
      "45006       45007          Organic Zucchini        83              4   \n",
      "47208       47209      Organic Hass Avocado        24              4   \n",
      "47625       47626               Large Lemon        24              4   \n",
      "47765       47766           Organic Avocado        24              4   \n",
      "49682       49683            Cucumber Kirby        83              4   \n",
      "\n",
      "             product_name_upper  \n",
      "5875              ORGANIC LEMON  \n",
      "8276   APPLE HONEYCRISP ORGANIC  \n",
      "13175    BAG OF ORGANIC BANANAS  \n",
      "16796              STRAWBERRIES  \n",
      "21136      ORGANIC STRAWBERRIES  \n",
      "21902      ORGANIC BABY SPINACH  \n",
      "22934      ORGANIC YELLOW ONION  \n",
      "24851                    BANANA  \n",
      "24963            ORGANIC GARLIC  \n",
      "26208                     LIMES  \n",
      "27844        ORGANIC WHOLE MILK  \n",
      "27965       ORGANIC RASPBERRIES  \n",
      "28203        ORGANIC FUJI APPLE  \n",
      "39274       ORGANIC BLUEBERRIES  \n",
      "40705    ORGANIC GRAPE TOMATOES  \n",
      "45006          ORGANIC ZUCCHINI  \n",
      "47208      ORGANIC HASS AVOCADO  \n",
      "47625               LARGE LEMON  \n",
      "47765           ORGANIC AVOCADO  \n",
      "49682            CUCUMBER KIRBY  \n"
     ]
    }
   ],
   "source": [
    "top_20_product_names = df_products[df_products['product_id'].isin(top_20_products.index)]\n",
    "\n",
    "print(top_20_product_names)"
   ]
  },
  {
   "cell_type": "code",
   "execution_count": 80,
   "id": "bbcdd20b",
   "metadata": {
    "id": "bbcdd20b",
    "trusted": false
   },
   "outputs": [
    {
     "data": {
      "image/png": "[encoded data removed]",
      "text/plain": [
       "<Figure size 1200x600 with 1 Axes>"
      ]
     },
     "metadata": {},
     "output_type": "display_data"
    }
   ],
   "source": [
    "top_20_products_info = pd.DataFrame({\n",
    "    'product_id': top_20_products.index,\n",
    "    'order_count': top_20_products.values,\n",
    "    'product_name': top_20_product_names['product_name'].values\n",
    "})\n",
    "\n",
    "\n",
    "top_20_products_info.plot(title= 'Top 20 productos más populares',\n",
    "                          kind='bar',\n",
    "                          x='product_name',\n",
    "                          y='order_count',\n",
    "                          legend=False,\n",
    "                          color='brown',\n",
    "                          figsize=(12, 6),\n",
    "                         xlabel='Nombre del producto',\n",
    "                          ylabel=\"Número de ordenes\"\n",
    "                         )\n",
    "\n",
    "\n",
    "plt.show()"
   ]
  },
  {
   "cell_type": "markdown",
   "id": "7df00f47",
   "metadata": {
    "id": "7df00f47"
   },
   "source": [
    "Escribe aquí tus conclusiones\n",
    "\n",
    "\n",
    "Como se puede notar en la tabla de arriba, el producto más vendido es el \"Organic Lemon\" con ID \"5876\" y el menos vendido es el \"Cucumber Kirby\" con ID \"49682\"."
   ]
  },
  {
   "cell_type": "markdown",
   "id": "gross-theme",
   "metadata": {
    "id": "gross-theme"
   },
   "source": [
    "# [C] Difícil (deben completarse todos para aprobar)\n",
    "\n",
    "1. ¿Cuántos artículos suelen comprar las personas en un pedido? ¿Cómo es la distribución?\n",
    "2. ¿Cuáles son los 20 principales artículos que vuelven a pedirse con mayor frecuencia (muestra sus nombres e IDs de los productos)?\n",
    "3. Para cada producto, ¿cuál es la tasa de repetición del pedido (número de repeticiones de pedido/total de pedidos?\n",
    "4. Para cada cliente, ¿qué proporción de los productos que pidió ya los había pedido? Calcula la tasa de repetición de pedido para cada usuario en lugar de para cada producto.\n",
    "5. ¿Cuáles son los 20 principales artículos que la gente pone primero en sus carritos (muestra las IDs de los productos, sus nombres, y el número de veces en que fueron el primer artículo en añadirse al carrito)?"
   ]
  },
  {
   "cell_type": "markdown",
   "id": "romantic-deposit",
   "metadata": {
    "id": "romantic-deposit"
   },
   "source": [
    "### [C1] ¿Cuántos artículos compran normalmente las personas en un pedido? ¿Cómo es la distribución?"
   ]
  },
  {
   "cell_type": "code",
   "execution_count": 81,
   "id": "virtual-punch",
   "metadata": {
    "id": "virtual-punch",
    "trusted": false
   },
   "outputs": [],
   "source": [
    "articulos_por_pedido = df_order_products.groupby('order_id').size()"
   ]
  },
  {
   "cell_type": "code",
   "execution_count": 82,
   "id": "sensitive-breathing",
   "metadata": {
    "id": "sensitive-breathing",
    "trusted": false
   },
   "outputs": [
    {
     "name": "stdout",
     "output_type": "stream",
     "text": [
      "count    450046.000000\n",
      "mean         10.098983\n",
      "std           7.540206\n",
      "min           1.000000\n",
      "25%           5.000000\n",
      "50%           8.000000\n",
      "75%          14.000000\n",
      "max         127.000000\n",
      "dtype: float64\n"
     ]
    }
   ],
   "source": [
    "estadisticas = articulos_por_pedido.describe()\n",
    "print(estadisticas)"
   ]
  },
  {
   "cell_type": "markdown",
   "id": "designed-mortality",
   "metadata": {
    "id": "designed-mortality"
   },
   "source": [
    "Escribe aquí tus conclusiones\n",
    "\n",
    "En promedio, las personas colocan 10 artículos en su carrito, con una distribución que va desde un mínimo de 1 producto hasta un máximo de 127 productos."
   ]
  },
  {
   "cell_type": "markdown",
   "id": "5e6b5537",
   "metadata": {
    "id": "5e6b5537"
   },
   "source": [
    "### [C2] ¿Cuáles son los 20 principales artículos que vuelven a pedirse con mayor frecuencia (muestra sus nombres e IDs de los productos)?"
   ]
  },
  {
   "cell_type": "code",
   "execution_count": 83,
   "id": "9374e55a",
   "metadata": {
    "id": "9374e55a",
    "trusted": false
   },
   "outputs": [
    {
     "name": "stdout",
     "output_type": "stream",
     "text": [
      "24852    55763\n",
      "13176    44450\n",
      "21137    28639\n",
      "21903    26233\n",
      "47209    23629\n",
      "47766    18743\n",
      "27845    16251\n",
      "47626    15044\n",
      "27966    14748\n",
      "16797    13945\n",
      "26209    13327\n",
      "22935    11145\n",
      "24964    10411\n",
      "45007    10076\n",
      "49683     9538\n",
      "28204     8989\n",
      "8277      8836\n",
      "39275     8799\n",
      "5876      8412\n",
      "49235     8389\n",
      "Name: product_id, dtype: int64\n"
     ]
    }
   ],
   "source": [
    "repeated_products = df_order_products[df_order_products['reordered'] == 1]\n",
    "repeated_product_counts = repeated_products['product_id'].value_counts().head(20)\n",
    "\n",
    "print(repeated_product_counts)"
   ]
  },
  {
   "cell_type": "code",
   "execution_count": 84,
   "id": "possible-change",
   "metadata": {
    "id": "possible-change",
    "scrolled": true,
    "trusted": false
   },
   "outputs": [
    {
     "name": "stdout",
     "output_type": "stream",
     "text": [
      "    product_id              product_name\n",
      "0        24852                    Banana\n",
      "1        13176    Bag of Organic Bananas\n",
      "2        21137      Organic Strawberries\n",
      "3        21903      Organic Baby Spinach\n",
      "4        47209      Organic Hass Avocado\n",
      "5        47766           Organic Avocado\n",
      "6        27845        Organic Whole Milk\n",
      "7        47626               Large Lemon\n",
      "8        27966       Organic Raspberries\n",
      "9        16797              Strawberries\n",
      "10       26209                     Limes\n",
      "11       22935      Organic Yellow Onion\n",
      "12       24964            Organic Garlic\n",
      "13       45007          Organic Zucchini\n",
      "14       49683            Cucumber Kirby\n",
      "15       28204        Organic Fuji Apple\n",
      "16        8277  Apple Honeycrisp Organic\n",
      "17       39275       Organic Blueberries\n",
      "18        5876             Organic Lemon\n",
      "19       49235       Organic Half & Half\n"
     ]
    }
   ],
   "source": [
    "top_20_repeated_products = repeated_product_counts.index.to_frame(name='product_id') \\\n",
    "    .merge(df_products[['product_id', 'product_name']], on='product_id')\n",
    "\n",
    "print(top_20_repeated_products)"
   ]
  },
  {
   "cell_type": "markdown",
   "id": "80e70c74",
   "metadata": {
    "id": "80e70c74"
   },
   "source": [
    "Escribe aquí tus conclusiones\n",
    "\n",
    "\n",
    "El producto que más se repite es la banana, con un ID de \"24852\", y el último producto de los 20 que más se repiten es el \"Organic Half & Half\", con un ID de 49235."
   ]
  },
  {
   "cell_type": "markdown",
   "id": "9d312b14",
   "metadata": {
    "id": "9d312b14"
   },
   "source": [
    "### [C3] Para cada producto, ¿cuál es la proporción de las veces que se pide y que se vuelve a pedir?"
   ]
  },
  {
   "cell_type": "code",
   "execution_count": 85,
   "id": "8ae9f4b1",
   "metadata": {
    "id": "8ae9f4b1",
    "trusted": false
   },
   "outputs": [],
   "source": [
    "product_counts = df_order_products.groupby('product_id').size()\n",
    "reordered_counts = df_order_products[df_order_products['reordered'] == 1].groupby('product_id').size()"
   ]
  },
  {
   "cell_type": "code",
   "execution_count": 86,
   "id": "103e7fe1",
   "metadata": {
    "id": "103e7fe1",
    "trusted": false
   },
   "outputs": [
    {
     "name": "stdout",
     "output_type": "stream",
     "text": [
      "product_id\n",
      "1        0.564286\n",
      "2             NaN\n",
      "3        0.738095\n",
      "4        0.510204\n",
      "7        0.500000\n",
      "           ...   \n",
      "49690    0.800000\n",
      "49691    0.430556\n",
      "49692    0.416667\n",
      "49693    0.440000\n",
      "49694    0.333333\n",
      "Length: 45573, dtype: float64\n"
     ]
    }
   ],
   "source": [
    "proporcion_repetidos = reordered_counts / product_counts\n",
    "print(proporcion_repetidos)"
   ]
  },
  {
   "cell_type": "code",
   "execution_count": 87,
   "id": "social-individual",
   "metadata": {
    "id": "social-individual",
    "trusted": false
   },
   "outputs": [
    {
     "name": "stdout",
     "output_type": "stream",
     "text": [
      "       product_id  proporcion_repetidos  \\\n",
      "10973       12038                   1.0   \n",
      "1646         1809                   1.0   \n",
      "33130       36122                   1.0   \n",
      "2929         3205                   1.0   \n",
      "38398       41901                   1.0   \n",
      "42526       46398                   1.0   \n",
      "9464        10378                   1.0   \n",
      "28455       31026                   1.0   \n",
      "42558       46437                   1.0   \n",
      "19043       20787                   1.0   \n",
      "1651         1814                   1.0   \n",
      "42566       46445                   1.0   \n",
      "26764       29168                   1.0   \n",
      "23654       25777                   1.0   \n",
      "40224       43895                   1.0   \n",
      "28442       31011                   1.0   \n",
      "5927         6490                   1.0   \n",
      "1643         1806                   1.0   \n",
      "1642         1805                   1.0   \n",
      "14718       16106                   1.0   \n",
      "\n",
      "                                            product_name  \n",
      "10973           for Women Maximum Absorbency L Underwear  \n",
      "1646   Slow Kettle Style Santa Fe Chicken Enchilada S...  \n",
      "33130                                  Spicy Chili Beans  \n",
      "2929             Original Pure Chocolate Whippet Cookies  \n",
      "38398   Moisturizing Lotionized Shave Gel with Vitamin E  \n",
      "42526                          Chocolate Animal Crackers  \n",
      "9464                          Honey Flake & Oat Clusters  \n",
      "28455                            Drinkable Yogurt- Mango  \n",
      "42558            Spinach Saag Medium Indian Simmer Sauce  \n",
      "19043                             West Coast Style Stout  \n",
      "1651               Austin's Own Goodflow Honey Green Tea  \n",
      "42566                             Organic Tropical Mango  \n",
      "26764                              Beef Chuck Short Ribs  \n",
      "23654                            Instant Nonfat Dry Milk  \n",
      "40224                               Sugar Land Sweet Tea  \n",
      "28442  Natural Instincts Non-Permanent Hair Color Cin...  \n",
      "5927   Vitamin D3 1000 IU in Extra Virgin Olive Oil S...  \n",
      "1643               Strawberry Unsweetened Soft Drink Mix  \n",
      "1642              Organic Lemon Agave Ginger Super Juice  \n",
      "14718                                          Budweiser  \n"
     ]
    }
   ],
   "source": [
    "proporcion_repetidos_df = proporcion_repetidos.to_frame(name='proporcion_repetidos').reset_index()\n",
    "proporcion_repetidos_df = proporcion_repetidos_df.merge(df_products[['product_id', 'product_name']], on='product_id', how='left')\n",
    "\n",
    "print(proporcion_repetidos_df.sort_values('proporcion_repetidos', ascending=False).head(20))"
   ]
  },
  {
   "cell_type": "markdown",
   "id": "I10dEIAyldcO",
   "metadata": {
    "id": "I10dEIAyldcO"
   },
   "source": [
    "Escribe aquí tus conclusiones\n",
    "\n",
    "Al hacer el analisis se puede notar que proporción de las veces que se pide y que se vuelve a pedir un producto es en promedio de 1."
   ]
  },
  {
   "cell_type": "markdown",
   "id": "subject-boxing",
   "metadata": {
    "id": "subject-boxing"
   },
   "source": [
    "### [C4] Para cada cliente, ¿qué proporción de sus productos ya los había pedido?"
   ]
  },
  {
   "cell_type": "code",
   "execution_count": 88,
   "id": "medical-couple",
   "metadata": {
    "id": "medical-couple",
    "scrolled": true,
    "trusted": false
   },
   "outputs": [],
   "source": [
    "df_order_info = pd.merge(df_order_products, df_instacart_orders[['order_id', 'user_id']], on='order_id', how='left')\n",
    "df_order_info = pd.merge(df_order_info, df_products[['product_id', 'product_name']], on='product_id', how='left')"
   ]
  },
  {
   "cell_type": "code",
   "execution_count": 89,
   "id": "8892e4b4",
   "metadata": {
    "id": "8892e4b4",
    "trusted": false
   },
   "outputs": [],
   "source": [
    "proporcion_repetidos = df_order_info.groupby('user_id').agg(\n",
    "    total_productos=('product_id', 'count'),\n",
    "    productos_repetidos=('reordered', 'sum')\n",
    ")"
   ]
  },
  {
   "cell_type": "code",
   "execution_count": 90,
   "id": "4c286e35",
   "metadata": {
    "trusted": false
   },
   "outputs": [
    {
     "name": "stdout",
     "output_type": "stream",
     "text": [
      "         proporcion_repetidos\n",
      "user_id                      \n",
      "2                    0.038462\n",
      "4                    0.000000\n",
      "5                    0.666667\n",
      "6                    0.000000\n",
      "7                    0.928571\n",
      "...                       ...\n",
      "206203               0.222222\n",
      "206206               0.714286\n",
      "206207               0.891304\n",
      "206208               0.696000\n",
      "206209               0.320000\n",
      "\n",
      "[149626 rows x 1 columns]\n"
     ]
    }
   ],
   "source": [
    "proporcion_repetidos['proporcion_repetidos'] = proporcion_repetidos['productos_repetidos'] / proporcion_repetidos['total_productos']\n",
    "\n",
    "print(proporcion_repetidos[['proporcion_repetidos']])"
   ]
  },
  {
   "cell_type": "code",
   "execution_count": 91,
   "id": "639522eb",
   "metadata": {
    "trusted": false
   },
   "outputs": [
    {
     "data": {
      "image/png": "[encoded data removed]",
      "text/plain": [
       "<Figure size 640x480 with 1 Axes>"
      ]
     },
     "metadata": {},
     "output_type": "display_data"
    }
   ],
   "source": [
    "proporcion_repetidos_counts = proporcion_repetidos['proporcion_repetidos'].value_counts().sort_index()\n",
    "\n",
    "proporcion_repetidos_counts.plot(\n",
    "    title='Distribución de la Proporción de Productos Repetidos por Cliente',\n",
    "    color='skyblue',\n",
    "    marker='o',\n",
    "    linestyle='-',\n",
    "    markersize=6,\n",
    "    xlabel='Proporción de Productos Repetidos',\n",
    "    ylabel='Frecuencia'\n",
    ")\n",
    "\n",
    "plt.show()"
   ]
  },
  {
   "cell_type": "markdown",
   "id": "BgJSvXDsleXz",
   "metadata": {
    "id": "BgJSvXDsleXz"
   },
   "source": [
    "En la gráfica y los datos anteriores, se puede notar que la distribución de productos que el cliente ya había pedido, en promedio, es menor a 1 para la mayoría de los clientes."
   ]
  },
  {
   "cell_type": "markdown",
   "id": "92d35137",
   "metadata": {
    "id": "92d35137"
   },
   "source": [
    "### [C5] ¿Cuáles son los 20 principales artículos que las personas ponen primero en sus carritos?"
   ]
  },
  {
   "cell_type": "code",
   "execution_count": 92,
   "id": "6ec00521",
   "metadata": {
    "trusted": false
   },
   "outputs": [
    {
     "name": "stdout",
     "output_type": "stream",
     "text": [
      "24852    15562\n",
      "13176    11026\n",
      "27845     4363\n",
      "21137     3946\n",
      "47209     3390\n",
      "21903     3336\n",
      "47766     3044\n",
      "19660     2336\n",
      "16797     2308\n",
      "27966     2024\n",
      "44632     1914\n",
      "49235     1797\n",
      "47626     1737\n",
      "196       1733\n",
      "38689     1397\n",
      "26209     1370\n",
      "12341     1340\n",
      "5785      1310\n",
      "27086     1309\n",
      "22935     1246\n",
      "Name: product_id, dtype: int64\n"
     ]
    }
   ],
   "source": [
    "first_products = df_order_products[df_order_products['add_to_cart_order'] == 1]\n",
    "first_products_count = first_products['product_id'].value_counts().head(20)\n",
    "\n",
    "print(first_products_count)"
   ]
  },
  {
   "cell_type": "code",
   "execution_count": 93,
   "id": "0ae57274",
   "metadata": {
    "id": "0ae57274",
    "scrolled": true,
    "trusted": false
   },
   "outputs": [
    {
     "name": "stdout",
     "output_type": "stream",
     "text": [
      "                   product_name  product_id\n",
      "0                        Banana       24852\n",
      "1        Bag of Organic Bananas       13176\n",
      "2            Organic Whole Milk       27845\n",
      "3          Organic Strawberries       21137\n",
      "4          Organic Hass Avocado       47209\n",
      "5          Organic Baby Spinach       21903\n",
      "6               Organic Avocado       47766\n",
      "7                  Spring Water       19660\n",
      "8                  Strawberries       16797\n",
      "9           Organic Raspberries       27966\n",
      "10   Sparkling Water Grapefruit       44632\n",
      "11          Organic Half & Half       49235\n",
      "12                  Large Lemon       47626\n",
      "13                         Soda         196\n",
      "14     Organic Reduced Fat Milk       38689\n",
      "15                        Limes       26209\n",
      "16                Hass Avocados       12341\n",
      "17  Organic Reduced Fat 2% Milk        5785\n",
      "18                  Half & Half       27086\n",
      "19         Organic Yellow Onion       22935\n"
     ]
    }
   ],
   "source": [
    "top_20_first_products = first_products_count.index.to_frame(name='product_id') \\\n",
    ".merge(df_products[['product_id', 'product_name']], on='product_id')\n",
    "print(top_20_first_products[['product_name', 'product_id']])"
   ]
  },
  {
   "cell_type": "markdown",
   "id": "28ce9872",
   "metadata": {
    "id": "28ce9872"
   },
   "source": [
    "Escribe aquí tus conclusiones\n",
    "\n",
    "Al identificar los productos que los clientes vuelven a poner en sus carritos se puede identificar que nuevamente la banana es el primer producto, sin embargo el último producto que las personas ponen primero en su carrito cambia y es el producto \"Organic Yellow Onion\""
   ]
  },
  {
   "cell_type": "markdown",
   "id": "uITbFCEoDosC",
   "metadata": {
    "id": "uITbFCEoDosC"
   },
   "source": [
    "### Conclusion general del proyecto:"
   ]
  },
  {
   "cell_type": "code",
   "execution_count": 94,
   "id": "Nk-4GS7mDwqY",
   "metadata": {
    "id": "Nk-4GS7mDwqY",
    "trusted": false
   },
   "outputs": [],
   "source": [
    "#Como conclusión general del proyecto, se puede mencionar que, primero, se identificó que el tipo de datos coincidiera con la información de los data frames y, en su defecto, se cambiaron los que no estuvieran correctos. En la segunda parte, fue importante tratar de identificar los valores ausentes y duplicados para saber cómo tratarlos y qué hacer con ellos, para que esto no afectara el análisis y sus gráficas. Por último, al obtener la información en cada punto, se crearon las tablas, las cuales pudieran ser sencillas de entender para futuros dueños de negocio o inversionistas. Todo lo anterior es importante para tener un análisis completo y correcto."
   ]
  }
 ],
 "metadata": {
  "ExecuteTimeLog": [
   {
    "duration": 7,
    "start_time": "2025-01-25T21:44:58.329Z"
   },
   {
    "duration": 3,
    "start_time": "2025-01-25T21:45:30.704Z"
   },
   {
    "duration": 4,
    "start_time": "2025-01-25T21:45:44.521Z"
   },
   {
    "duration": 164,
    "start_time": "2025-01-25T21:46:11.694Z"
   },
   {
    "duration": 11,
    "start_time": "2025-01-25T21:46:33.903Z"
   },
   {
    "duration": 11,
    "start_time": "2025-01-25T21:46:47.815Z"
   },
   {
    "duration": 331,
    "start_time": "2025-01-25T22:06:05.393Z"
   },
   {
    "duration": 4,
    "start_time": "2025-01-25T22:06:49.983Z"
   },
   {
    "duration": 264,
    "start_time": "2025-01-25T22:07:24.497Z"
   },
   {
    "duration": 2061,
    "start_time": "2025-01-25T22:12:45.737Z"
   },
   {
    "duration": 20,
    "start_time": "2025-01-25T22:13:31.915Z"
   },
   {
    "duration": 11,
    "start_time": "2025-01-25T22:16:04.557Z"
   },
   {
    "duration": 6,
    "start_time": "2025-01-25T22:16:16.208Z"
   },
   {
    "duration": 7,
    "start_time": "2025-01-25T22:16:29.715Z"
   },
   {
    "duration": 7,
    "start_time": "2025-01-25T22:16:32.824Z"
   },
   {
    "duration": 4,
    "start_time": "2025-01-25T22:20:51.140Z"
   },
   {
    "duration": 4,
    "start_time": "2025-01-25T22:21:04.003Z"
   },
   {
    "duration": 10,
    "start_time": "2025-01-25T22:21:33.231Z"
   },
   {
    "duration": 167,
    "start_time": "2025-01-25T22:32:42.637Z"
   },
   {
    "duration": 11,
    "start_time": "2025-01-25T22:33:34.220Z"
   },
   {
    "duration": 3,
    "start_time": "2025-01-25T22:34:13.952Z"
   },
   {
    "duration": 4,
    "start_time": "2025-01-25T22:34:35.321Z"
   },
   {
    "duration": 2356,
    "start_time": "2025-01-25T22:35:43.867Z"
   },
   {
    "duration": 173,
    "start_time": "2025-01-25T22:35:55.069Z"
   },
   {
    "duration": 12,
    "start_time": "2025-01-25T22:36:08.752Z"
   },
   {
    "duration": 3,
    "start_time": "2025-01-25T22:36:19.008Z"
   },
   {
    "duration": 3,
    "start_time": "2025-01-25T22:36:25.261Z"
   },
   {
    "duration": 2394,
    "start_time": "2025-01-25T22:36:32.584Z"
   },
   {
    "duration": 171,
    "start_time": "2025-01-25T22:37:00.640Z"
   },
   {
    "duration": 384,
    "start_time": "2025-01-25T22:40:49.342Z"
   },
   {
    "duration": 196,
    "start_time": "2025-01-25T22:41:51.350Z"
   },
   {
    "duration": 190,
    "start_time": "2025-01-25T22:43:18.278Z"
   },
   {
    "duration": 189,
    "start_time": "2025-01-25T22:44:51.464Z"
   },
   {
    "duration": 192,
    "start_time": "2025-01-25T22:46:52.641Z"
   },
   {
    "duration": 185,
    "start_time": "2025-01-25T22:47:01.616Z"
   },
   {
    "duration": 182,
    "start_time": "2025-01-25T22:48:18.572Z"
   },
   {
    "duration": 5,
    "start_time": "2025-01-25T22:54:53.616Z"
   },
   {
    "duration": 4,
    "start_time": "2025-01-25T22:55:16.856Z"
   },
   {
    "duration": 203,
    "start_time": "2025-01-25T23:00:56.265Z"
   },
   {
    "duration": 36,
    "start_time": "2025-01-25T23:01:28.188Z"
   },
   {
    "duration": 39,
    "start_time": "2025-01-25T23:05:05.654Z"
   },
   {
    "duration": 12,
    "start_time": "2025-01-25T23:09:52.074Z"
   },
   {
    "duration": 38,
    "start_time": "2025-01-25T23:10:13.254Z"
   },
   {
    "duration": 13,
    "start_time": "2025-01-25T23:12:47.221Z"
   },
   {
    "duration": 3,
    "start_time": "2025-01-25T23:13:07.896Z"
   },
   {
    "duration": 38,
    "start_time": "2025-01-25T23:13:32.619Z"
   },
   {
    "duration": 37,
    "start_time": "2025-01-25T23:13:46.250Z"
   },
   {
    "duration": 38,
    "start_time": "2025-01-25T23:13:53.493Z"
   },
   {
    "duration": 36,
    "start_time": "2025-01-25T23:14:03.108Z"
   },
   {
    "duration": 6,
    "start_time": "2025-01-25T23:14:49.712Z"
   },
   {
    "duration": 0,
    "start_time": "2025-01-25T23:14:49.719Z"
   },
   {
    "duration": 154,
    "start_time": "2025-01-25T23:14:49.721Z"
   },
   {
    "duration": 0,
    "start_time": "2025-01-25T23:14:49.877Z"
   },
   {
    "duration": 0,
    "start_time": "2025-01-25T23:14:49.878Z"
   },
   {
    "duration": 0,
    "start_time": "2025-01-25T23:14:49.879Z"
   },
   {
    "duration": 0,
    "start_time": "2025-01-25T23:14:49.880Z"
   },
   {
    "duration": 0,
    "start_time": "2025-01-25T23:14:49.881Z"
   },
   {
    "duration": 300,
    "start_time": "2025-01-25T23:15:27.152Z"
   },
   {
    "duration": 2113,
    "start_time": "2025-01-25T23:15:27.454Z"
   },
   {
    "duration": 21,
    "start_time": "2025-01-25T23:15:29.569Z"
   },
   {
    "duration": 9,
    "start_time": "2025-01-25T23:15:29.592Z"
   },
   {
    "duration": 6,
    "start_time": "2025-01-25T23:15:29.603Z"
   },
   {
    "duration": 8,
    "start_time": "2025-01-25T23:15:29.610Z"
   },
   {
    "duration": 7,
    "start_time": "2025-01-25T23:15:29.642Z"
   },
   {
    "duration": 390,
    "start_time": "2025-01-25T23:15:38.561Z"
   },
   {
    "duration": 6,
    "start_time": "2025-01-25T23:16:52.246Z"
   },
   {
    "duration": 40,
    "start_time": "2025-01-25T23:18:08.122Z"
   },
   {
    "duration": 153,
    "start_time": "2025-01-25T23:18:36.775Z"
   },
   {
    "duration": 308,
    "start_time": "2025-01-25T23:18:49.546Z"
   },
   {
    "duration": 2167,
    "start_time": "2025-01-25T23:18:49.855Z"
   },
   {
    "duration": 6,
    "start_time": "2025-01-25T23:18:52.024Z"
   },
   {
    "duration": 18,
    "start_time": "2025-01-25T23:18:52.032Z"
   },
   {
    "duration": 7,
    "start_time": "2025-01-25T23:18:52.052Z"
   },
   {
    "duration": 8,
    "start_time": "2025-01-25T23:18:52.061Z"
   },
   {
    "duration": 6,
    "start_time": "2025-01-25T23:18:52.071Z"
   },
   {
    "duration": 196,
    "start_time": "2025-01-25T23:18:52.078Z"
   },
   {
    "duration": 400,
    "start_time": "2025-01-25T23:19:45.028Z"
   },
   {
    "duration": 2,
    "start_time": "2025-01-25T23:20:19.537Z"
   },
   {
    "duration": 2,
    "start_time": "2025-01-25T23:20:23.778Z"
   },
   {
    "duration": 319,
    "start_time": "2025-01-25T23:20:40.059Z"
   },
   {
    "duration": 2087,
    "start_time": "2025-01-25T23:20:40.380Z"
   },
   {
    "duration": 6,
    "start_time": "2025-01-25T23:20:42.468Z"
   },
   {
    "duration": 9,
    "start_time": "2025-01-25T23:20:42.477Z"
   },
   {
    "duration": 6,
    "start_time": "2025-01-25T23:20:42.488Z"
   },
   {
    "duration": 6,
    "start_time": "2025-01-25T23:20:42.496Z"
   },
   {
    "duration": 7,
    "start_time": "2025-01-25T23:20:42.504Z"
   },
   {
    "duration": 200,
    "start_time": "2025-01-25T23:20:42.513Z"
   },
   {
    "duration": 4,
    "start_time": "2025-01-25T23:26:15.547Z"
   },
   {
    "duration": 535,
    "start_time": "2025-01-25T23:26:42.651Z"
   },
   {
    "duration": 2,
    "start_time": "2025-01-25T23:28:00.223Z"
   },
   {
    "duration": 13,
    "start_time": "2025-01-25T23:29:27.613Z"
   },
   {
    "duration": 5,
    "start_time": "2025-01-25T23:29:50.844Z"
   },
   {
    "duration": 38,
    "start_time": "2025-01-25T23:30:19.979Z"
   },
   {
    "duration": 55,
    "start_time": "2025-01-25T23:31:01.694Z"
   },
   {
    "duration": 2001,
    "start_time": "2025-01-25T23:33:41.243Z"
   },
   {
    "duration": 2,
    "start_time": "2025-01-25T23:34:04.517Z"
   },
   {
    "duration": 2005,
    "start_time": "2025-01-25T23:34:04.521Z"
   },
   {
    "duration": 3,
    "start_time": "2025-01-25T23:34:06.528Z"
   },
   {
    "duration": 13,
    "start_time": "2025-01-25T23:34:06.533Z"
   },
   {
    "duration": 7,
    "start_time": "2025-01-25T23:34:06.549Z"
   },
   {
    "duration": 7,
    "start_time": "2025-01-25T23:34:06.557Z"
   },
   {
    "duration": 7,
    "start_time": "2025-01-25T23:34:06.566Z"
   },
   {
    "duration": 115,
    "start_time": "2025-01-25T23:34:06.575Z"
   },
   {
    "duration": 13,
    "start_time": "2025-01-25T23:34:08.285Z"
   },
   {
    "duration": 96,
    "start_time": "2025-01-26T00:06:15.091Z"
   },
   {
    "duration": 86,
    "start_time": "2025-01-26T00:07:01.639Z"
   },
   {
    "duration": 43,
    "start_time": "2025-01-26T00:09:12.521Z"
   },
   {
    "duration": 41,
    "start_time": "2025-01-26T00:09:34.999Z"
   },
   {
    "duration": 75,
    "start_time": "2025-01-26T00:13:12.199Z"
   },
   {
    "duration": 41,
    "start_time": "2025-01-26T00:13:28.257Z"
   },
   {
    "duration": 41,
    "start_time": "2025-01-26T00:16:05.823Z"
   },
   {
    "duration": 39,
    "start_time": "2025-01-26T00:17:31.349Z"
   },
   {
    "duration": 39,
    "start_time": "2025-01-26T00:17:59.444Z"
   },
   {
    "duration": 42,
    "start_time": "2025-01-26T00:19:11.748Z"
   },
   {
    "duration": 21,
    "start_time": "2025-01-26T00:25:01.304Z"
   },
   {
    "duration": 20,
    "start_time": "2025-01-26T00:25:47.953Z"
   },
   {
    "duration": 19,
    "start_time": "2025-01-26T00:26:22.332Z"
   },
   {
    "duration": 20,
    "start_time": "2025-01-26T00:28:15.831Z"
   },
   {
    "duration": 38,
    "start_time": "2025-01-26T00:31:57.553Z"
   },
   {
    "duration": 38,
    "start_time": "2025-01-26T00:32:43.984Z"
   },
   {
    "duration": 9,
    "start_time": "2025-01-26T00:33:13.909Z"
   },
   {
    "duration": 17,
    "start_time": "2025-01-26T00:33:33.315Z"
   },
   {
    "duration": 3,
    "start_time": "2025-01-26T00:33:40.043Z"
   },
   {
    "duration": 2114,
    "start_time": "2025-01-26T00:34:07.187Z"
   },
   {
    "duration": 14,
    "start_time": "2025-01-26T00:34:16.858Z"
   },
   {
    "duration": 2,
    "start_time": "2025-01-26T00:34:26.493Z"
   },
   {
    "duration": 1822,
    "start_time": "2025-01-26T00:34:26.499Z"
   },
   {
    "duration": 11,
    "start_time": "2025-01-26T00:34:28.323Z"
   },
   {
    "duration": 2,
    "start_time": "2025-01-26T00:34:28.343Z"
   },
   {
    "duration": 6,
    "start_time": "2025-01-26T00:34:28.347Z"
   },
   {
    "duration": 7,
    "start_time": "2025-01-26T00:34:28.355Z"
   },
   {
    "duration": 7,
    "start_time": "2025-01-26T00:34:28.364Z"
   },
   {
    "duration": 88,
    "start_time": "2025-01-26T00:34:28.373Z"
   },
   {
    "duration": 7,
    "start_time": "2025-01-26T00:34:28.463Z"
   },
   {
    "duration": 96,
    "start_time": "2025-01-26T00:34:28.472Z"
   },
   {
    "duration": 86,
    "start_time": "2025-01-26T00:34:28.570Z"
   },
   {
    "duration": 40,
    "start_time": "2025-01-26T00:34:28.658Z"
   },
   {
    "duration": 12,
    "start_time": "2025-01-26T00:34:28.699Z"
   },
   {
    "duration": 14,
    "start_time": "2025-01-26T00:34:31.377Z"
   },
   {
    "duration": 5,
    "start_time": "2025-01-26T00:34:55.653Z"
   },
   {
    "duration": 10,
    "start_time": "2025-01-26T00:39:39.126Z"
   },
   {
    "duration": 4,
    "start_time": "2025-01-26T01:11:43.366Z"
   },
   {
    "duration": 42,
    "start_time": "2025-01-26T01:14:01.341Z"
   },
   {
    "duration": 38,
    "start_time": "2025-01-26T01:14:16.344Z"
   },
   {
    "duration": 13,
    "start_time": "2025-01-26T01:19:31.570Z"
   },
   {
    "duration": 31,
    "start_time": "2025-01-26T01:22:25.296Z"
   },
   {
    "duration": 13,
    "start_time": "2025-01-26T01:24:50.315Z"
   },
   {
    "duration": 3,
    "start_time": "2025-01-26T01:24:57.127Z"
   },
   {
    "duration": 876,
    "start_time": "2025-01-26T01:25:16.660Z"
   },
   {
    "duration": 7,
    "start_time": "2025-01-26T01:25:32.014Z"
   },
   {
    "duration": 33,
    "start_time": "2025-01-26T01:25:48.656Z"
   },
   {
    "duration": 30,
    "start_time": "2025-01-26T01:26:42.206Z"
   },
   {
    "duration": 31,
    "start_time": "2025-01-26T01:31:39.895Z"
   },
   {
    "duration": 66,
    "start_time": "2025-01-26T01:34:09.407Z"
   },
   {
    "duration": 70,
    "start_time": "2025-01-26T01:34:13.279Z"
   },
   {
    "duration": 13,
    "start_time": "2025-01-26T01:34:36.919Z"
   },
   {
    "duration": 5,
    "start_time": "2025-01-26T01:34:40.862Z"
   },
   {
    "duration": 4,
    "start_time": "2025-01-26T01:34:46.353Z"
   },
   {
    "duration": 115,
    "start_time": "2025-01-26T01:36:44.080Z"
   },
   {
    "duration": 46,
    "start_time": "2025-01-26T01:37:14.861Z"
   },
   {
    "duration": 35,
    "start_time": "2025-01-26T01:40:47.111Z"
   },
   {
    "duration": 38,
    "start_time": "2025-01-26T01:43:11.822Z"
   },
   {
    "duration": 5,
    "start_time": "2025-01-26T01:48:23.347Z"
   },
   {
    "duration": 29,
    "start_time": "2025-01-26T01:48:39.332Z"
   },
   {
    "duration": 4,
    "start_time": "2025-01-26T01:48:54.279Z"
   },
   {
    "duration": 4,
    "start_time": "2025-01-26T01:49:27.720Z"
   },
   {
    "duration": 4,
    "start_time": "2025-01-26T01:49:54.877Z"
   },
   {
    "duration": 9,
    "start_time": "2025-01-26T02:15:49.740Z"
   },
   {
    "duration": 14,
    "start_time": "2025-01-26T02:17:34.660Z"
   },
   {
    "duration": 5,
    "start_time": "2025-01-26T02:18:33.846Z"
   },
   {
    "duration": 14,
    "start_time": "2025-01-26T02:20:01.805Z"
   },
   {
    "duration": 13,
    "start_time": "2025-01-26T02:20:33.069Z"
   },
   {
    "duration": 3,
    "start_time": "2025-01-26T02:21:01.716Z"
   },
   {
    "duration": 3,
    "start_time": "2025-01-26T02:21:17.101Z"
   },
   {
    "duration": 8,
    "start_time": "2025-01-26T02:22:16.066Z"
   },
   {
    "duration": 3,
    "start_time": "2025-01-26T02:24:00.472Z"
   },
   {
    "duration": 5,
    "start_time": "2025-01-26T02:24:12.451Z"
   },
   {
    "duration": 286,
    "start_time": "2025-01-26T02:24:45.904Z"
   },
   {
    "duration": 899,
    "start_time": "2025-01-26T02:24:46.192Z"
   },
   {
    "duration": 11,
    "start_time": "2025-01-26T02:24:47.093Z"
   },
   {
    "duration": 3,
    "start_time": "2025-01-26T02:24:47.107Z"
   },
   {
    "duration": 8,
    "start_time": "2025-01-26T02:24:47.111Z"
   },
   {
    "duration": 24,
    "start_time": "2025-01-26T02:24:47.120Z"
   },
   {
    "duration": 8,
    "start_time": "2025-01-26T02:24:47.145Z"
   },
   {
    "duration": 107,
    "start_time": "2025-01-26T02:24:47.154Z"
   },
   {
    "duration": 112,
    "start_time": "2025-01-26T02:24:47.263Z"
   },
   {
    "duration": 10,
    "start_time": "2025-01-26T02:24:47.379Z"
   },
   {
    "duration": 128,
    "start_time": "2025-01-26T02:24:47.391Z"
   },
   {
    "duration": 100,
    "start_time": "2025-01-26T02:24:47.521Z"
   },
   {
    "duration": 53,
    "start_time": "2025-01-26T02:24:47.622Z"
   },
   {
    "duration": 12,
    "start_time": "2025-01-26T02:24:47.677Z"
   },
   {
    "duration": 4,
    "start_time": "2025-01-26T02:24:47.691Z"
   },
   {
    "duration": 3,
    "start_time": "2025-01-26T02:24:47.697Z"
   },
   {
    "duration": 53,
    "start_time": "2025-01-26T02:24:47.701Z"
   },
   {
    "duration": 3,
    "start_time": "2025-01-26T02:24:47.756Z"
   },
   {
    "duration": 3,
    "start_time": "2025-01-26T02:24:47.761Z"
   },
   {
    "duration": 4,
    "start_time": "2025-01-26T02:24:47.765Z"
   },
   {
    "duration": 3,
    "start_time": "2025-01-26T02:24:47.771Z"
   },
   {
    "duration": 4,
    "start_time": "2025-01-26T02:24:47.775Z"
   },
   {
    "duration": 3,
    "start_time": "2025-01-26T02:24:47.780Z"
   },
   {
    "duration": 793,
    "start_time": "2025-01-26T02:24:47.784Z"
   },
   {
    "duration": 3,
    "start_time": "2025-01-26T02:24:48.578Z"
   },
   {
    "duration": 10,
    "start_time": "2025-01-26T02:24:48.582Z"
   },
   {
    "duration": 4,
    "start_time": "2025-01-26T02:24:52.766Z"
   },
   {
    "duration": 317,
    "start_time": "2025-01-26T02:25:18.147Z"
   },
   {
    "duration": 887,
    "start_time": "2025-01-26T02:25:18.466Z"
   },
   {
    "duration": 11,
    "start_time": "2025-01-26T02:25:19.354Z"
   },
   {
    "duration": 4,
    "start_time": "2025-01-26T02:25:19.367Z"
   },
   {
    "duration": 8,
    "start_time": "2025-01-26T02:25:19.372Z"
   },
   {
    "duration": 8,
    "start_time": "2025-01-26T02:25:19.381Z"
   },
   {
    "duration": 8,
    "start_time": "2025-01-26T02:25:19.390Z"
   },
   {
    "duration": 124,
    "start_time": "2025-01-26T02:25:19.399Z"
   },
   {
    "duration": 103,
    "start_time": "2025-01-26T02:25:19.524Z"
   },
   {
    "duration": 16,
    "start_time": "2025-01-26T02:25:19.630Z"
   },
   {
    "duration": 118,
    "start_time": "2025-01-26T02:25:19.647Z"
   },
   {
    "duration": 90,
    "start_time": "2025-01-26T02:25:19.767Z"
   },
   {
    "duration": 44,
    "start_time": "2025-01-26T02:25:19.860Z"
   },
   {
    "duration": 12,
    "start_time": "2025-01-26T02:25:19.906Z"
   },
   {
    "duration": 25,
    "start_time": "2025-01-26T02:25:19.919Z"
   },
   {
    "duration": 3,
    "start_time": "2025-01-26T02:25:19.946Z"
   },
   {
    "duration": 28,
    "start_time": "2025-01-26T02:25:19.950Z"
   },
   {
    "duration": 3,
    "start_time": "2025-01-26T02:25:19.979Z"
   },
   {
    "duration": 3,
    "start_time": "2025-01-26T02:25:19.984Z"
   },
   {
    "duration": 4,
    "start_time": "2025-01-26T02:25:19.989Z"
   },
   {
    "duration": 4,
    "start_time": "2025-01-26T02:25:19.994Z"
   },
   {
    "duration": 4,
    "start_time": "2025-01-26T02:25:19.999Z"
   },
   {
    "duration": 3,
    "start_time": "2025-01-26T02:25:20.004Z"
   },
   {
    "duration": 778,
    "start_time": "2025-01-26T02:25:20.044Z"
   },
   {
    "duration": 2,
    "start_time": "2025-01-26T02:25:20.824Z"
   },
   {
    "duration": 17,
    "start_time": "2025-01-26T02:25:20.828Z"
   },
   {
    "duration": 178,
    "start_time": "2025-01-26T02:28:13.124Z"
   },
   {
    "duration": 13,
    "start_time": "2025-01-26T02:28:38.612Z"
   },
   {
    "duration": 11,
    "start_time": "2025-01-26T02:29:21.329Z"
   },
   {
    "duration": 482,
    "start_time": "2025-01-26T02:34:25.537Z"
   },
   {
    "duration": 37,
    "start_time": "2025-01-26T02:34:44.172Z"
   },
   {
    "duration": 5,
    "start_time": "2025-01-26T02:35:22.067Z"
   },
   {
    "duration": 154,
    "start_time": "2025-01-26T02:40:25.861Z"
   },
   {
    "duration": 85,
    "start_time": "2025-01-26T02:40:28.431Z"
   },
   {
    "duration": 25,
    "start_time": "2025-01-26T02:40:30.884Z"
   },
   {
    "duration": 26,
    "start_time": "2025-01-26T02:40:34.034Z"
   },
   {
    "duration": 27,
    "start_time": "2025-01-26T02:40:42.725Z"
   },
   {
    "duration": 27,
    "start_time": "2025-01-26T02:41:53.088Z"
   },
   {
    "duration": 27,
    "start_time": "2025-01-26T02:44:09.797Z"
   },
   {
    "duration": 27,
    "start_time": "2025-01-26T02:45:22.484Z"
   },
   {
    "duration": 26,
    "start_time": "2025-01-26T02:49:02.369Z"
   },
   {
    "duration": 12,
    "start_time": "2025-01-26T02:52:52.864Z"
   },
   {
    "duration": 3,
    "start_time": "2025-01-26T02:53:35.140Z"
   },
   {
    "duration": 13,
    "start_time": "2025-01-26T02:54:15.012Z"
   },
   {
    "duration": 4,
    "start_time": "2025-01-26T02:54:31.314Z"
   },
   {
    "duration": 26,
    "start_time": "2025-01-26T02:56:29.458Z"
   },
   {
    "duration": 27,
    "start_time": "2025-01-26T02:56:43.111Z"
   },
   {
    "duration": 26,
    "start_time": "2025-01-26T03:01:07.586Z"
   },
   {
    "duration": 2,
    "start_time": "2025-01-26T03:02:10.741Z"
   },
   {
    "duration": 316,
    "start_time": "2025-01-26T23:19:53.790Z"
   },
   {
    "duration": 1036,
    "start_time": "2025-01-26T23:19:54.108Z"
   },
   {
    "duration": 12,
    "start_time": "2025-01-26T23:19:55.146Z"
   },
   {
    "duration": 9,
    "start_time": "2025-01-26T23:19:55.161Z"
   },
   {
    "duration": 4,
    "start_time": "2025-01-26T23:19:55.174Z"
   },
   {
    "duration": 8,
    "start_time": "2025-01-26T23:19:55.181Z"
   },
   {
    "duration": 8,
    "start_time": "2025-01-26T23:19:55.191Z"
   },
   {
    "duration": 35,
    "start_time": "2025-01-26T23:19:55.201Z"
   },
   {
    "duration": 131,
    "start_time": "2025-01-26T23:19:55.238Z"
   },
   {
    "duration": 110,
    "start_time": "2025-01-26T23:19:55.373Z"
   },
   {
    "duration": 9,
    "start_time": "2025-01-26T23:19:55.485Z"
   },
   {
    "duration": 119,
    "start_time": "2025-01-26T23:19:55.496Z"
   },
   {
    "duration": 92,
    "start_time": "2025-01-26T23:19:55.616Z"
   },
   {
    "duration": 54,
    "start_time": "2025-01-26T23:19:55.710Z"
   },
   {
    "duration": 14,
    "start_time": "2025-01-26T23:19:55.765Z"
   },
   {
    "duration": 4,
    "start_time": "2025-01-26T23:19:55.782Z"
   },
   {
    "duration": 3,
    "start_time": "2025-01-26T23:19:55.788Z"
   },
   {
    "duration": 52,
    "start_time": "2025-01-26T23:19:55.793Z"
   },
   {
    "duration": 4,
    "start_time": "2025-01-26T23:19:55.848Z"
   },
   {
    "duration": 2,
    "start_time": "2025-01-26T23:19:55.854Z"
   },
   {
    "duration": 4,
    "start_time": "2025-01-26T23:19:55.859Z"
   },
   {
    "duration": 2,
    "start_time": "2025-01-26T23:19:55.865Z"
   },
   {
    "duration": 4,
    "start_time": "2025-01-26T23:19:55.870Z"
   },
   {
    "duration": 2,
    "start_time": "2025-01-26T23:19:55.876Z"
   },
   {
    "duration": 842,
    "start_time": "2025-01-26T23:19:55.880Z"
   },
   {
    "duration": 7,
    "start_time": "2025-01-26T23:19:56.724Z"
   },
   {
    "duration": 8,
    "start_time": "2025-01-26T23:19:56.732Z"
   },
   {
    "duration": 5,
    "start_time": "2025-01-26T23:19:56.745Z"
   },
   {
    "duration": 3,
    "start_time": "2025-01-26T23:19:56.752Z"
   },
   {
    "duration": 3,
    "start_time": "2025-01-26T23:19:56.756Z"
   },
   {
    "duration": 3,
    "start_time": "2025-01-26T23:19:56.761Z"
   },
   {
    "duration": 3,
    "start_time": "2025-01-26T23:19:56.766Z"
   },
   {
    "duration": 8,
    "start_time": "2025-01-26T23:19:56.770Z"
   },
   {
    "duration": 2,
    "start_time": "2025-01-26T23:19:56.780Z"
   },
   {
    "duration": 57,
    "start_time": "2025-01-26T23:19:56.784Z"
   },
   {
    "duration": 2,
    "start_time": "2025-01-26T23:19:56.843Z"
   },
   {
    "duration": 3,
    "start_time": "2025-01-26T23:19:56.847Z"
   },
   {
    "duration": 3,
    "start_time": "2025-01-26T23:19:56.852Z"
   },
   {
    "duration": 2,
    "start_time": "2025-01-26T23:19:56.858Z"
   },
   {
    "duration": 21,
    "start_time": "2025-01-26T23:21:09.828Z"
   },
   {
    "duration": 21,
    "start_time": "2025-01-26T23:21:18.533Z"
   },
   {
    "duration": 6,
    "start_time": "2025-01-26T23:21:33.568Z"
   },
   {
    "duration": 21,
    "start_time": "2025-01-26T23:21:43.678Z"
   },
   {
    "duration": 4,
    "start_time": "2025-01-26T23:23:59.028Z"
   },
   {
    "duration": 8,
    "start_time": "2025-01-26T23:24:22.320Z"
   },
   {
    "duration": 40,
    "start_time": "2025-01-26T23:27:39.989Z"
   },
   {
    "duration": 95,
    "start_time": "2025-01-26T23:30:49.716Z"
   },
   {
    "duration": 694,
    "start_time": "2025-01-26T23:36:25.528Z"
   },
   {
    "duration": 11,
    "start_time": "2025-01-26T23:36:55.474Z"
   },
   {
    "duration": 2,
    "start_time": "2025-01-26T23:46:15.437Z"
   },
   {
    "duration": 2,
    "start_time": "2025-01-26T23:46:18.414Z"
   },
   {
    "duration": 20,
    "start_time": "2025-01-26T23:56:22.897Z"
   },
   {
    "duration": 21,
    "start_time": "2025-01-26T23:56:48.109Z"
   },
   {
    "duration": 19,
    "start_time": "2025-01-26T23:56:59.323Z"
   },
   {
    "duration": 21,
    "start_time": "2025-01-26T23:57:38.647Z"
   },
   {
    "duration": 19,
    "start_time": "2025-01-26T23:58:58.676Z"
   },
   {
    "duration": 25,
    "start_time": "2025-01-26T23:59:03.766Z"
   },
   {
    "duration": 21,
    "start_time": "2025-01-26T23:59:11.231Z"
   },
   {
    "duration": 18,
    "start_time": "2025-01-26T23:59:14.080Z"
   },
   {
    "duration": 19,
    "start_time": "2025-01-26T23:59:18.089Z"
   },
   {
    "duration": 20,
    "start_time": "2025-01-26T23:59:51.199Z"
   },
   {
    "duration": 3,
    "start_time": "2025-01-27T00:00:07.475Z"
   },
   {
    "duration": 4,
    "start_time": "2025-01-27T00:01:03.682Z"
   },
   {
    "duration": 4,
    "start_time": "2025-01-27T00:02:36.891Z"
   },
   {
    "duration": 438,
    "start_time": "2025-01-27T00:05:35.056Z"
   },
   {
    "duration": 3,
    "start_time": "2025-01-27T00:06:27.506Z"
   },
   {
    "duration": 7,
    "start_time": "2025-01-27T00:06:52.314Z"
   },
   {
    "duration": 862,
    "start_time": "2025-01-27T00:07:34.478Z"
   },
   {
    "duration": 3,
    "start_time": "2025-01-27T00:07:45.862Z"
   },
   {
    "duration": 21,
    "start_time": "2025-01-27T00:12:04.171Z"
   },
   {
    "duration": 14,
    "start_time": "2025-01-27T00:12:43.226Z"
   },
   {
    "duration": 814,
    "start_time": "2025-01-27T00:13:11.570Z"
   },
   {
    "duration": 12,
    "start_time": "2025-01-27T00:13:25.615Z"
   },
   {
    "duration": 13,
    "start_time": "2025-01-27T00:13:38.748Z"
   },
   {
    "duration": 12,
    "start_time": "2025-01-27T00:13:43.885Z"
   },
   {
    "duration": 2,
    "start_time": "2025-01-27T00:13:48.486Z"
   },
   {
    "duration": 824,
    "start_time": "2025-01-27T00:13:48.492Z"
   },
   {
    "duration": 14,
    "start_time": "2025-01-27T00:13:49.318Z"
   },
   {
    "duration": 9,
    "start_time": "2025-01-27T00:13:49.334Z"
   },
   {
    "duration": 3,
    "start_time": "2025-01-27T00:13:49.345Z"
   },
   {
    "duration": 21,
    "start_time": "2025-01-27T00:13:49.350Z"
   },
   {
    "duration": 8,
    "start_time": "2025-01-27T00:13:49.374Z"
   },
   {
    "duration": 3,
    "start_time": "2025-01-27T00:13:49.384Z"
   },
   {
    "duration": 105,
    "start_time": "2025-01-27T00:13:49.389Z"
   },
   {
    "duration": 79,
    "start_time": "2025-01-27T00:13:49.496Z"
   },
   {
    "duration": 8,
    "start_time": "2025-01-27T00:13:49.579Z"
   },
   {
    "duration": 7,
    "start_time": "2025-01-27T00:13:49.588Z"
   },
   {
    "duration": 108,
    "start_time": "2025-01-27T00:13:49.597Z"
   },
   {
    "duration": 91,
    "start_time": "2025-01-27T00:13:49.707Z"
   },
   {
    "duration": 50,
    "start_time": "2025-01-27T00:13:49.800Z"
   },
   {
    "duration": 14,
    "start_time": "2025-01-27T00:13:49.852Z"
   },
   {
    "duration": 4,
    "start_time": "2025-01-27T00:13:49.867Z"
   },
   {
    "duration": 4,
    "start_time": "2025-01-27T00:13:49.873Z"
   },
   {
    "duration": 28,
    "start_time": "2025-01-27T00:13:49.878Z"
   },
   {
    "duration": 4,
    "start_time": "2025-01-27T00:13:49.930Z"
   },
   {
    "duration": 23,
    "start_time": "2025-01-27T00:13:49.936Z"
   },
   {
    "duration": 3,
    "start_time": "2025-01-27T00:13:49.961Z"
   },
   {
    "duration": 4,
    "start_time": "2025-01-27T00:13:49.966Z"
   },
   {
    "duration": 4,
    "start_time": "2025-01-27T00:13:49.972Z"
   },
   {
    "duration": 6,
    "start_time": "2025-01-27T00:13:49.978Z"
   },
   {
    "duration": 4,
    "start_time": "2025-01-27T00:14:27.421Z"
   },
   {
    "duration": 769,
    "start_time": "2025-01-27T00:17:44.299Z"
   },
   {
    "duration": 4,
    "start_time": "2025-01-27T00:18:02.401Z"
   },
   {
    "duration": 117,
    "start_time": "2025-01-27T00:18:11.834Z"
   },
   {
    "duration": 132,
    "start_time": "2025-01-27T00:18:19.150Z"
   },
   {
    "duration": 746,
    "start_time": "2025-01-27T00:22:00.265Z"
   },
   {
    "duration": 738,
    "start_time": "2025-01-27T00:22:20.296Z"
   },
   {
    "duration": 733,
    "start_time": "2025-01-27T00:22:34.026Z"
   },
   {
    "duration": 738,
    "start_time": "2025-01-27T00:23:01.309Z"
   },
   {
    "duration": 812,
    "start_time": "2025-01-27T00:23:32.348Z"
   },
   {
    "duration": 6,
    "start_time": "2025-01-27T00:30:35.388Z"
   },
   {
    "duration": 19,
    "start_time": "2025-01-27T00:32:51.953Z"
   },
   {
    "duration": 7,
    "start_time": "2025-01-27T00:33:05.742Z"
   },
   {
    "duration": 14,
    "start_time": "2025-01-27T00:35:55.861Z"
   },
   {
    "duration": 5,
    "start_time": "2025-01-27T00:39:33.443Z"
   },
   {
    "duration": 5,
    "start_time": "2025-01-27T00:40:00.803Z"
   },
   {
    "duration": 6,
    "start_time": "2025-01-27T00:40:06.917Z"
   },
   {
    "duration": 6,
    "start_time": "2025-01-27T00:41:16.410Z"
   },
   {
    "duration": 8,
    "start_time": "2025-01-27T00:41:41.485Z"
   },
   {
    "duration": 5,
    "start_time": "2025-01-27T00:42:05.304Z"
   },
   {
    "duration": 6,
    "start_time": "2025-01-27T00:42:12.187Z"
   },
   {
    "duration": 13,
    "start_time": "2025-01-27T00:43:50.405Z"
   },
   {
    "duration": 5,
    "start_time": "2025-01-27T00:44:11.372Z"
   },
   {
    "duration": 4,
    "start_time": "2025-01-27T00:45:34.444Z"
   },
   {
    "duration": 5,
    "start_time": "2025-01-27T00:46:03.591Z"
   },
   {
    "duration": 6,
    "start_time": "2025-01-27T00:46:51.551Z"
   },
   {
    "duration": 7,
    "start_time": "2025-01-27T00:47:13.033Z"
   },
   {
    "duration": 4,
    "start_time": "2025-01-27T00:48:30.925Z"
   },
   {
    "duration": 6,
    "start_time": "2025-01-27T00:48:41.304Z"
   },
   {
    "duration": 13,
    "start_time": "2025-01-27T00:49:35.789Z"
   },
   {
    "duration": 5,
    "start_time": "2025-01-27T00:49:43.870Z"
   },
   {
    "duration": 133,
    "start_time": "2025-01-27T00:50:03.651Z"
   },
   {
    "duration": 10,
    "start_time": "2025-01-27T00:51:02.727Z"
   },
   {
    "duration": 4,
    "start_time": "2025-01-27T00:55:29.233Z"
   },
   {
    "duration": 63,
    "start_time": "2025-01-27T00:55:50.442Z"
   },
   {
    "duration": 36,
    "start_time": "2025-01-27T00:57:00.283Z"
   },
   {
    "duration": 35,
    "start_time": "2025-01-27T00:57:17.073Z"
   },
   {
    "duration": 827,
    "start_time": "2025-01-27T00:57:38.052Z"
   },
   {
    "duration": 34,
    "start_time": "2025-01-27T00:58:37.207Z"
   },
   {
    "duration": 12,
    "start_time": "2025-01-27T00:59:10.522Z"
   },
   {
    "duration": 3,
    "start_time": "2025-01-27T00:59:20.122Z"
   },
   {
    "duration": 13,
    "start_time": "2025-01-27T01:00:12.346Z"
   },
   {
    "duration": 4,
    "start_time": "2025-01-27T01:00:22.386Z"
   },
   {
    "duration": 6,
    "start_time": "2025-01-27T01:01:48.897Z"
   },
   {
    "duration": 5,
    "start_time": "2025-01-27T01:02:38.445Z"
   },
   {
    "duration": 12,
    "start_time": "2025-01-27T01:10:30.154Z"
   },
   {
    "duration": 3,
    "start_time": "2025-01-27T01:12:07.076Z"
   },
   {
    "duration": 4,
    "start_time": "2025-01-27T01:12:26.647Z"
   },
   {
    "duration": 40,
    "start_time": "2025-01-27T01:21:34.209Z"
   },
   {
    "duration": 31,
    "start_time": "2025-01-27T01:21:56.585Z"
   },
   {
    "duration": 26,
    "start_time": "2025-01-27T01:22:19.954Z"
   },
   {
    "duration": 36,
    "start_time": "2025-01-27T01:27:43.489Z"
   },
   {
    "duration": 4,
    "start_time": "2025-01-27T01:27:55.488Z"
   },
   {
    "duration": 7,
    "start_time": "2025-01-27T01:28:13.175Z"
   },
   {
    "duration": 3,
    "start_time": "2025-01-27T01:29:13.261Z"
   },
   {
    "duration": 829,
    "start_time": "2025-01-27T01:29:13.266Z"
   },
   {
    "duration": 10,
    "start_time": "2025-01-27T01:29:14.097Z"
   },
   {
    "duration": 8,
    "start_time": "2025-01-27T01:29:14.109Z"
   },
   {
    "duration": 12,
    "start_time": "2025-01-27T01:29:14.130Z"
   },
   {
    "duration": 6,
    "start_time": "2025-01-27T01:29:14.145Z"
   },
   {
    "duration": 26,
    "start_time": "2025-01-27T01:29:14.153Z"
   },
   {
    "duration": 8,
    "start_time": "2025-01-27T01:29:14.180Z"
   },
   {
    "duration": 4,
    "start_time": "2025-01-27T01:29:14.190Z"
   },
   {
    "duration": 101,
    "start_time": "2025-01-27T01:29:14.195Z"
   },
   {
    "duration": 70,
    "start_time": "2025-01-27T01:29:14.299Z"
   },
   {
    "duration": 11,
    "start_time": "2025-01-27T01:29:14.371Z"
   },
   {
    "duration": 7,
    "start_time": "2025-01-27T01:29:14.384Z"
   },
   {
    "duration": 93,
    "start_time": "2025-01-27T01:29:14.393Z"
   },
   {
    "duration": 76,
    "start_time": "2025-01-27T01:29:14.489Z"
   },
   {
    "duration": 40,
    "start_time": "2025-01-27T01:29:14.567Z"
   },
   {
    "duration": 25,
    "start_time": "2025-01-27T01:29:14.609Z"
   },
   {
    "duration": 5,
    "start_time": "2025-01-27T01:29:14.636Z"
   },
   {
    "duration": 4,
    "start_time": "2025-01-27T01:29:14.642Z"
   },
   {
    "duration": 32,
    "start_time": "2025-01-27T01:29:14.647Z"
   },
   {
    "duration": 4,
    "start_time": "2025-01-27T01:29:14.681Z"
   },
   {
    "duration": 46,
    "start_time": "2025-01-27T01:29:14.686Z"
   },
   {
    "duration": 3,
    "start_time": "2025-01-27T01:29:14.734Z"
   },
   {
    "duration": 3,
    "start_time": "2025-01-27T01:29:14.739Z"
   },
   {
    "duration": 3,
    "start_time": "2025-01-27T01:29:14.744Z"
   },
   {
    "duration": 4,
    "start_time": "2025-01-27T01:29:14.749Z"
   },
   {
    "duration": 3,
    "start_time": "2025-01-27T01:29:14.755Z"
   },
   {
    "duration": 767,
    "start_time": "2025-01-27T01:29:14.760Z"
   },
   {
    "duration": 717,
    "start_time": "2025-01-27T01:29:15.534Z"
   },
   {
    "duration": 8,
    "start_time": "2025-01-27T01:29:16.253Z"
   },
   {
    "duration": 8,
    "start_time": "2025-01-27T01:29:16.263Z"
   },
   {
    "duration": 9,
    "start_time": "2025-01-27T01:29:16.273Z"
   },
   {
    "duration": 8,
    "start_time": "2025-01-27T01:29:16.284Z"
   },
   {
    "duration": 47,
    "start_time": "2025-01-27T01:29:16.294Z"
   },
   {
    "duration": 10,
    "start_time": "2025-01-27T01:29:16.343Z"
   },
   {
    "duration": 8,
    "start_time": "2025-01-27T01:29:16.355Z"
   },
   {
    "duration": 6,
    "start_time": "2025-01-27T01:29:16.365Z"
   },
   {
    "duration": 4,
    "start_time": "2025-01-27T01:29:16.373Z"
   },
   {
    "duration": 6,
    "start_time": "2025-01-27T01:29:16.379Z"
   },
   {
    "duration": 44,
    "start_time": "2025-01-27T01:29:16.387Z"
   },
   {
    "duration": 4,
    "start_time": "2025-01-27T01:29:16.433Z"
   },
   {
    "duration": 12,
    "start_time": "2025-01-27T01:29:21.518Z"
   },
   {
    "duration": 26,
    "start_time": "2025-01-27T01:31:50.431Z"
   },
   {
    "duration": 26,
    "start_time": "2025-01-27T01:32:06.054Z"
   },
   {
    "duration": 27,
    "start_time": "2025-01-27T01:32:54.129Z"
   },
   {
    "duration": 5,
    "start_time": "2025-01-27T01:51:52.935Z"
   },
   {
    "duration": 161,
    "start_time": "2025-01-27T01:52:25.277Z"
   },
   {
    "duration": 27,
    "start_time": "2025-01-27T01:52:39.560Z"
   },
   {
    "duration": 12,
    "start_time": "2025-01-27T01:54:43.003Z"
   },
   {
    "duration": 13,
    "start_time": "2025-01-27T01:55:13.127Z"
   },
   {
    "duration": 11,
    "start_time": "2025-01-27T01:56:27.944Z"
   },
   {
    "duration": 4,
    "start_time": "2025-01-27T01:57:47.628Z"
   },
   {
    "duration": 10,
    "start_time": "2025-01-27T01:58:14.416Z"
   },
   {
    "duration": 9,
    "start_time": "2025-01-27T01:58:55.569Z"
   },
   {
    "duration": 8,
    "start_time": "2025-01-27T01:59:00.808Z"
   },
   {
    "duration": 30,
    "start_time": "2025-01-27T02:01:43.991Z"
   },
   {
    "duration": 23,
    "start_time": "2025-01-27T02:02:01.189Z"
   },
   {
    "duration": 162,
    "start_time": "2025-01-27T02:02:16.889Z"
   },
   {
    "duration": 185,
    "start_time": "2025-01-27T02:02:24.524Z"
   },
   {
    "duration": 5,
    "start_time": "2025-01-27T02:03:19.498Z"
   },
   {
    "duration": 5,
    "start_time": "2025-01-27T02:03:27.129Z"
   },
   {
    "duration": 4,
    "start_time": "2025-01-27T02:03:32.740Z"
   },
   {
    "duration": 57,
    "start_time": "2025-01-27T02:03:53.043Z"
   },
   {
    "duration": 24,
    "start_time": "2025-01-27T02:04:02.787Z"
   },
   {
    "duration": 5,
    "start_time": "2025-01-27T02:04:28.973Z"
   },
   {
    "duration": 3,
    "start_time": "2025-01-27T02:05:33.269Z"
   },
   {
    "duration": 5,
    "start_time": "2025-01-27T02:05:37.077Z"
   },
   {
    "duration": 2,
    "start_time": "2025-01-27T02:05:44.535Z"
   },
   {
    "duration": 852,
    "start_time": "2025-01-27T02:05:44.539Z"
   },
   {
    "duration": 10,
    "start_time": "2025-01-27T02:05:45.393Z"
   },
   {
    "duration": 6,
    "start_time": "2025-01-27T02:05:45.405Z"
   },
   {
    "duration": 25,
    "start_time": "2025-01-27T02:05:45.414Z"
   },
   {
    "duration": 3,
    "start_time": "2025-01-27T02:05:45.441Z"
   },
   {
    "duration": 21,
    "start_time": "2025-01-27T02:05:45.446Z"
   },
   {
    "duration": 8,
    "start_time": "2025-01-27T02:05:45.468Z"
   },
   {
    "duration": 4,
    "start_time": "2025-01-27T02:05:45.478Z"
   },
   {
    "duration": 101,
    "start_time": "2025-01-27T02:05:45.483Z"
   },
   {
    "duration": 72,
    "start_time": "2025-01-27T02:05:45.586Z"
   },
   {
    "duration": 15,
    "start_time": "2025-01-27T02:05:45.660Z"
   },
   {
    "duration": 6,
    "start_time": "2025-01-27T02:05:45.677Z"
   },
   {
    "duration": 97,
    "start_time": "2025-01-27T02:05:45.687Z"
   },
   {
    "duration": 83,
    "start_time": "2025-01-27T02:05:45.785Z"
   },
   {
    "duration": 38,
    "start_time": "2025-01-27T02:05:45.870Z"
   },
   {
    "duration": 24,
    "start_time": "2025-01-27T02:05:45.910Z"
   },
   {
    "duration": 5,
    "start_time": "2025-01-27T02:05:45.936Z"
   },
   {
    "duration": 3,
    "start_time": "2025-01-27T02:05:45.944Z"
   },
   {
    "duration": 29,
    "start_time": "2025-01-27T02:05:45.949Z"
   },
   {
    "duration": 6,
    "start_time": "2025-01-27T02:05:45.980Z"
   },
   {
    "duration": 51,
    "start_time": "2025-01-27T02:05:45.988Z"
   },
   {
    "duration": 3,
    "start_time": "2025-01-27T02:05:46.041Z"
   },
   {
    "duration": 5,
    "start_time": "2025-01-27T02:05:46.045Z"
   },
   {
    "duration": 3,
    "start_time": "2025-01-27T02:05:46.051Z"
   },
   {
    "duration": 4,
    "start_time": "2025-01-27T02:05:46.056Z"
   },
   {
    "duration": 3,
    "start_time": "2025-01-27T02:05:46.062Z"
   },
   {
    "duration": 796,
    "start_time": "2025-01-27T02:05:46.067Z"
   },
   {
    "duration": 825,
    "start_time": "2025-01-27T02:05:46.864Z"
   },
   {
    "duration": 9,
    "start_time": "2025-01-27T02:05:47.691Z"
   },
   {
    "duration": 6,
    "start_time": "2025-01-27T02:05:47.701Z"
   },
   {
    "duration": 28,
    "start_time": "2025-01-27T02:05:47.709Z"
   },
   {
    "duration": 8,
    "start_time": "2025-01-27T02:05:47.740Z"
   },
   {
    "duration": 14,
    "start_time": "2025-01-27T02:05:47.750Z"
   },
   {
    "duration": 10,
    "start_time": "2025-01-27T02:05:47.765Z"
   },
   {
    "duration": 10,
    "start_time": "2025-01-27T02:05:47.777Z"
   },
   {
    "duration": 7,
    "start_time": "2025-01-27T02:05:47.789Z"
   },
   {
    "duration": 39,
    "start_time": "2025-01-27T02:05:47.797Z"
   },
   {
    "duration": 7,
    "start_time": "2025-01-27T02:05:47.837Z"
   },
   {
    "duration": 9,
    "start_time": "2025-01-27T02:05:47.845Z"
   },
   {
    "duration": 3,
    "start_time": "2025-01-27T02:05:47.859Z"
   },
   {
    "duration": 12,
    "start_time": "2025-01-27T02:05:47.864Z"
   },
   {
    "duration": 52,
    "start_time": "2025-01-27T02:05:47.879Z"
   },
   {
    "duration": 28,
    "start_time": "2025-01-27T02:05:47.935Z"
   },
   {
    "duration": 28,
    "start_time": "2025-01-27T02:05:47.966Z"
   },
   {
    "duration": 8,
    "start_time": "2025-01-27T02:05:54.188Z"
   },
   {
    "duration": 4,
    "start_time": "2025-01-27T02:09:13.638Z"
   },
   {
    "duration": 12,
    "start_time": "2025-01-27T02:09:26.078Z"
   },
   {
    "duration": 6,
    "start_time": "2025-01-27T02:10:40.560Z"
   },
   {
    "duration": 15,
    "start_time": "2025-01-27T02:13:30.970Z"
   },
   {
    "duration": 15,
    "start_time": "2025-01-27T02:13:35.441Z"
   },
   {
    "duration": 12,
    "start_time": "2025-01-27T02:14:13.852Z"
   },
   {
    "duration": 5,
    "start_time": "2025-01-27T02:14:55.226Z"
   },
   {
    "duration": 3,
    "start_time": "2025-01-27T02:15:04.762Z"
   },
   {
    "duration": 173,
    "start_time": "2025-01-27T02:15:47.218Z"
   },
   {
    "duration": 5,
    "start_time": "2025-01-27T02:42:18.438Z"
   },
   {
    "duration": 3,
    "start_time": "2025-01-27T02:42:29.982Z"
   },
   {
    "duration": 4,
    "start_time": "2025-01-27T02:42:45.248Z"
   },
   {
    "duration": 246,
    "start_time": "2025-01-27T02:43:32.804Z"
   },
   {
    "duration": 253,
    "start_time": "2025-01-27T02:43:52.989Z"
   },
   {
    "duration": 253,
    "start_time": "2025-01-27T02:44:15.231Z"
   },
   {
    "duration": 2359,
    "start_time": "2025-01-27T02:44:27.652Z"
   },
   {
    "duration": 297,
    "start_time": "2025-01-27T02:49:44.898Z"
   },
   {
    "duration": 1029,
    "start_time": "2025-01-27T02:49:45.197Z"
   },
   {
    "duration": 12,
    "start_time": "2025-01-27T02:49:46.228Z"
   },
   {
    "duration": 9,
    "start_time": "2025-01-27T02:49:46.242Z"
   },
   {
    "duration": 10,
    "start_time": "2025-01-27T02:49:46.253Z"
   },
   {
    "duration": 3,
    "start_time": "2025-01-27T02:49:46.265Z"
   },
   {
    "duration": 26,
    "start_time": "2025-01-27T02:49:46.270Z"
   },
   {
    "duration": 41,
    "start_time": "2025-01-27T02:49:46.298Z"
   },
   {
    "duration": 3,
    "start_time": "2025-01-27T02:49:46.341Z"
   },
   {
    "duration": 106,
    "start_time": "2025-01-27T02:49:46.349Z"
   },
   {
    "duration": 83,
    "start_time": "2025-01-27T02:49:46.457Z"
   },
   {
    "duration": 16,
    "start_time": "2025-01-27T02:49:46.542Z"
   },
   {
    "duration": 6,
    "start_time": "2025-01-27T02:49:46.559Z"
   },
   {
    "duration": 108,
    "start_time": "2025-01-27T02:49:46.567Z"
   },
   {
    "duration": 92,
    "start_time": "2025-01-27T02:49:46.678Z"
   },
   {
    "duration": 40,
    "start_time": "2025-01-27T02:49:46.772Z"
   },
   {
    "duration": 20,
    "start_time": "2025-01-27T02:49:46.814Z"
   },
   {
    "duration": 4,
    "start_time": "2025-01-27T02:49:46.835Z"
   },
   {
    "duration": 3,
    "start_time": "2025-01-27T02:49:46.841Z"
   },
   {
    "duration": 27,
    "start_time": "2025-01-27T02:49:46.845Z"
   },
   {
    "duration": 4,
    "start_time": "2025-01-27T02:49:46.874Z"
   },
   {
    "duration": 19,
    "start_time": "2025-01-27T02:49:46.879Z"
   },
   {
    "duration": 3,
    "start_time": "2025-01-27T02:49:46.931Z"
   },
   {
    "duration": 4,
    "start_time": "2025-01-27T02:49:46.936Z"
   },
   {
    "duration": 3,
    "start_time": "2025-01-27T02:49:46.942Z"
   },
   {
    "duration": 4,
    "start_time": "2025-01-27T02:49:46.947Z"
   },
   {
    "duration": 4,
    "start_time": "2025-01-27T02:49:46.952Z"
   },
   {
    "duration": 837,
    "start_time": "2025-01-27T02:49:46.961Z"
   },
   {
    "duration": 841,
    "start_time": "2025-01-27T02:49:47.800Z"
   },
   {
    "duration": 7,
    "start_time": "2025-01-27T02:49:48.643Z"
   },
   {
    "duration": 6,
    "start_time": "2025-01-27T02:49:48.652Z"
   },
   {
    "duration": 8,
    "start_time": "2025-01-27T02:49:48.659Z"
   },
   {
    "duration": 6,
    "start_time": "2025-01-27T02:49:48.668Z"
   },
   {
    "duration": 13,
    "start_time": "2025-01-27T02:49:48.676Z"
   },
   {
    "duration": 41,
    "start_time": "2025-01-27T02:49:48.691Z"
   },
   {
    "duration": 9,
    "start_time": "2025-01-27T02:49:48.734Z"
   },
   {
    "duration": 5,
    "start_time": "2025-01-27T02:49:48.745Z"
   },
   {
    "duration": 5,
    "start_time": "2025-01-27T02:49:48.752Z"
   },
   {
    "duration": 5,
    "start_time": "2025-01-27T02:49:48.762Z"
   },
   {
    "duration": 9,
    "start_time": "2025-01-27T02:49:48.769Z"
   },
   {
    "duration": 3,
    "start_time": "2025-01-27T02:49:48.781Z"
   },
   {
    "duration": 52,
    "start_time": "2025-01-27T02:49:48.786Z"
   },
   {
    "duration": 16,
    "start_time": "2025-01-27T02:49:48.840Z"
   },
   {
    "duration": 26,
    "start_time": "2025-01-27T02:49:48.857Z"
   },
   {
    "duration": 51,
    "start_time": "2025-01-27T02:49:48.884Z"
   },
   {
    "duration": 7,
    "start_time": "2025-01-27T02:49:48.937Z"
   },
   {
    "duration": 5,
    "start_time": "2025-01-27T02:49:48.946Z"
   },
   {
    "duration": 4,
    "start_time": "2025-01-27T02:49:48.954Z"
   },
   {
    "duration": 4,
    "start_time": "2025-01-27T02:49:48.960Z"
   },
   {
    "duration": 234,
    "start_time": "2025-01-27T02:49:48.965Z"
   },
   {
    "duration": 186,
    "start_time": "2025-01-27T02:52:55.355Z"
   },
   {
    "duration": 13,
    "start_time": "2025-01-27T02:54:12.245Z"
   },
   {
    "duration": 12,
    "start_time": "2025-01-27T02:54:27.014Z"
   },
   {
    "duration": 337,
    "start_time": "2025-01-27T02:55:47.325Z"
   },
   {
    "duration": 1017,
    "start_time": "2025-01-27T02:55:47.665Z"
   },
   {
    "duration": 10,
    "start_time": "2025-01-27T02:55:48.685Z"
   },
   {
    "duration": 8,
    "start_time": "2025-01-27T02:55:48.698Z"
   },
   {
    "duration": 22,
    "start_time": "2025-01-27T02:55:48.709Z"
   },
   {
    "duration": 4,
    "start_time": "2025-01-27T02:55:48.733Z"
   },
   {
    "duration": 32,
    "start_time": "2025-01-27T02:55:48.739Z"
   },
   {
    "duration": 9,
    "start_time": "2025-01-27T02:55:48.774Z"
   },
   {
    "duration": 3,
    "start_time": "2025-01-27T02:55:48.786Z"
   },
   {
    "duration": 110,
    "start_time": "2025-01-27T02:55:48.793Z"
   },
   {
    "duration": 89,
    "start_time": "2025-01-27T02:55:48.905Z"
   },
   {
    "duration": 16,
    "start_time": "2025-01-27T02:55:48.996Z"
   },
   {
    "duration": 19,
    "start_time": "2025-01-27T02:55:49.014Z"
   },
   {
    "duration": 99,
    "start_time": "2025-01-27T02:55:49.034Z"
   },
   {
    "duration": 83,
    "start_time": "2025-01-27T02:55:49.135Z"
   },
   {
    "duration": 42,
    "start_time": "2025-01-27T02:55:49.230Z"
   },
   {
    "duration": 12,
    "start_time": "2025-01-27T02:55:49.274Z"
   },
   {
    "duration": 4,
    "start_time": "2025-01-27T02:55:49.288Z"
   },
   {
    "duration": 3,
    "start_time": "2025-01-27T02:55:49.294Z"
   },
   {
    "duration": 56,
    "start_time": "2025-01-27T02:55:49.299Z"
   },
   {
    "duration": 4,
    "start_time": "2025-01-27T02:55:49.356Z"
   },
   {
    "duration": 20,
    "start_time": "2025-01-27T02:55:49.362Z"
   },
   {
    "duration": 2,
    "start_time": "2025-01-27T02:55:49.384Z"
   },
   {
    "duration": 5,
    "start_time": "2025-01-27T02:55:49.387Z"
   },
   {
    "duration": 4,
    "start_time": "2025-01-27T02:55:49.393Z"
   },
   {
    "duration": 4,
    "start_time": "2025-01-27T02:55:49.399Z"
   },
   {
    "duration": 4,
    "start_time": "2025-01-27T02:55:49.431Z"
   },
   {
    "duration": 786,
    "start_time": "2025-01-27T02:55:49.439Z"
   },
   {
    "duration": 833,
    "start_time": "2025-01-27T02:55:50.228Z"
   },
   {
    "duration": 7,
    "start_time": "2025-01-27T02:55:51.062Z"
   },
   {
    "duration": 6,
    "start_time": "2025-01-27T02:55:51.071Z"
   },
   {
    "duration": 6,
    "start_time": "2025-01-27T02:55:51.078Z"
   },
   {
    "duration": 6,
    "start_time": "2025-01-27T02:55:51.085Z"
   },
   {
    "duration": 42,
    "start_time": "2025-01-27T02:55:51.093Z"
   },
   {
    "duration": 7,
    "start_time": "2025-01-27T02:55:51.137Z"
   },
   {
    "duration": 9,
    "start_time": "2025-01-27T02:55:51.145Z"
   },
   {
    "duration": 5,
    "start_time": "2025-01-27T02:55:51.156Z"
   },
   {
    "duration": 5,
    "start_time": "2025-01-27T02:55:51.163Z"
   },
   {
    "duration": 6,
    "start_time": "2025-01-27T02:55:51.170Z"
   },
   {
    "duration": 9,
    "start_time": "2025-01-27T02:55:51.177Z"
   },
   {
    "duration": 3,
    "start_time": "2025-01-27T02:55:51.188Z"
   },
   {
    "duration": 14,
    "start_time": "2025-01-27T02:55:51.231Z"
   },
   {
    "duration": 16,
    "start_time": "2025-01-27T02:55:51.247Z"
   },
   {
    "duration": 26,
    "start_time": "2025-01-27T02:55:51.265Z"
   },
   {
    "duration": 50,
    "start_time": "2025-01-27T02:55:51.292Z"
   },
   {
    "duration": 8,
    "start_time": "2025-01-27T02:55:51.344Z"
   },
   {
    "duration": 5,
    "start_time": "2025-01-27T02:55:51.353Z"
   },
   {
    "duration": 5,
    "start_time": "2025-01-27T02:55:51.360Z"
   },
   {
    "duration": 3,
    "start_time": "2025-01-27T02:55:51.367Z"
   },
   {
    "duration": 207,
    "start_time": "2025-01-27T02:55:51.371Z"
   },
   {
    "duration": 172,
    "start_time": "2025-01-27T02:55:51.580Z"
   },
   {
    "duration": 718,
    "start_time": "2025-01-27T02:55:56.580Z"
   },
   {
    "duration": 319,
    "start_time": "2025-01-28T00:36:43.083Z"
   },
   {
    "duration": 1010,
    "start_time": "2025-01-28T00:36:43.406Z"
   },
   {
    "duration": 11,
    "start_time": "2025-01-28T00:36:44.418Z"
   },
   {
    "duration": 7,
    "start_time": "2025-01-28T00:36:44.432Z"
   },
   {
    "duration": 10,
    "start_time": "2025-01-28T00:36:44.441Z"
   },
   {
    "duration": 3,
    "start_time": "2025-01-28T00:36:44.454Z"
   },
   {
    "duration": 44,
    "start_time": "2025-01-28T00:36:44.458Z"
   },
   {
    "duration": 8,
    "start_time": "2025-01-28T00:36:44.504Z"
   },
   {
    "duration": 4,
    "start_time": "2025-01-28T00:36:44.513Z"
   },
   {
    "duration": 103,
    "start_time": "2025-01-28T00:36:44.520Z"
   },
   {
    "duration": 90,
    "start_time": "2025-01-28T00:36:44.624Z"
   },
   {
    "duration": 17,
    "start_time": "2025-01-28T00:36:44.716Z"
   },
   {
    "duration": 8,
    "start_time": "2025-01-28T00:36:44.734Z"
   },
   {
    "duration": 111,
    "start_time": "2025-01-28T00:36:44.744Z"
   },
   {
    "duration": 90,
    "start_time": "2025-01-28T00:36:44.856Z"
   },
   {
    "duration": 47,
    "start_time": "2025-01-28T00:36:44.947Z"
   },
   {
    "duration": 12,
    "start_time": "2025-01-28T00:36:44.996Z"
   },
   {
    "duration": 4,
    "start_time": "2025-01-28T00:36:45.010Z"
   },
   {
    "duration": 3,
    "start_time": "2025-01-28T00:36:45.016Z"
   },
   {
    "duration": 27,
    "start_time": "2025-01-28T00:36:45.021Z"
   },
   {
    "duration": 4,
    "start_time": "2025-01-28T00:36:45.050Z"
   },
   {
    "duration": 19,
    "start_time": "2025-01-28T00:36:45.087Z"
   },
   {
    "duration": 2,
    "start_time": "2025-01-28T00:36:45.108Z"
   },
   {
    "duration": 3,
    "start_time": "2025-01-28T00:36:45.112Z"
   },
   {
    "duration": 4,
    "start_time": "2025-01-28T00:36:45.117Z"
   },
   {
    "duration": 4,
    "start_time": "2025-01-28T00:36:45.122Z"
   },
   {
    "duration": 3,
    "start_time": "2025-01-28T00:36:45.128Z"
   },
   {
    "duration": 756,
    "start_time": "2025-01-28T00:36:45.135Z"
   },
   {
    "duration": 747,
    "start_time": "2025-01-28T00:36:45.893Z"
   },
   {
    "duration": 8,
    "start_time": "2025-01-28T00:36:46.642Z"
   },
   {
    "duration": 6,
    "start_time": "2025-01-28T00:36:46.651Z"
   },
   {
    "duration": 8,
    "start_time": "2025-01-28T00:36:46.659Z"
   },
   {
    "duration": 7,
    "start_time": "2025-01-28T00:36:46.688Z"
   },
   {
    "duration": 13,
    "start_time": "2025-01-28T00:36:46.696Z"
   },
   {
    "duration": 7,
    "start_time": "2025-01-28T00:36:46.711Z"
   },
   {
    "duration": 9,
    "start_time": "2025-01-28T00:36:46.719Z"
   },
   {
    "duration": 6,
    "start_time": "2025-01-28T00:36:46.730Z"
   },
   {
    "duration": 6,
    "start_time": "2025-01-28T00:36:46.738Z"
   },
   {
    "duration": 42,
    "start_time": "2025-01-28T00:36:46.749Z"
   },
   {
    "duration": 10,
    "start_time": "2025-01-28T00:36:46.792Z"
   },
   {
    "duration": 3,
    "start_time": "2025-01-28T00:36:46.804Z"
   },
   {
    "duration": 14,
    "start_time": "2025-01-28T00:36:46.809Z"
   },
   {
    "duration": 16,
    "start_time": "2025-01-28T00:36:46.824Z"
   },
   {
    "duration": 63,
    "start_time": "2025-01-28T00:36:46.842Z"
   },
   {
    "duration": 28,
    "start_time": "2025-01-28T00:36:46.907Z"
   },
   {
    "duration": 8,
    "start_time": "2025-01-28T00:36:46.937Z"
   },
   {
    "duration": 5,
    "start_time": "2025-01-28T00:36:46.947Z"
   },
   {
    "duration": 4,
    "start_time": "2025-01-28T00:36:46.954Z"
   },
   {
    "duration": 4,
    "start_time": "2025-01-28T00:36:46.987Z"
   },
   {
    "duration": 224,
    "start_time": "2025-01-28T00:36:46.993Z"
   },
   {
    "duration": 1864,
    "start_time": "2025-01-28T00:36:47.219Z"
   },
   {
    "duration": 299,
    "start_time": "2025-01-28T00:40:42.042Z"
   },
   {
    "duration": 1077,
    "start_time": "2025-01-28T00:40:42.344Z"
   },
   {
    "duration": 17,
    "start_time": "2025-01-28T00:40:43.422Z"
   },
   {
    "duration": 8,
    "start_time": "2025-01-28T00:40:43.442Z"
   },
   {
    "duration": 9,
    "start_time": "2025-01-28T00:40:43.453Z"
   },
   {
    "duration": 3,
    "start_time": "2025-01-28T00:40:43.464Z"
   },
   {
    "duration": 42,
    "start_time": "2025-01-28T00:40:43.469Z"
   },
   {
    "duration": 8,
    "start_time": "2025-01-28T00:40:43.513Z"
   },
   {
    "duration": 4,
    "start_time": "2025-01-28T00:40:43.522Z"
   },
   {
    "duration": 103,
    "start_time": "2025-01-28T00:40:43.527Z"
   },
   {
    "duration": 89,
    "start_time": "2025-01-28T00:40:43.632Z"
   },
   {
    "duration": 16,
    "start_time": "2025-01-28T00:40:43.723Z"
   },
   {
    "duration": 6,
    "start_time": "2025-01-28T00:40:43.741Z"
   },
   {
    "duration": 120,
    "start_time": "2025-01-28T00:40:43.752Z"
   },
   {
    "duration": 93,
    "start_time": "2025-01-28T00:40:43.874Z"
   },
   {
    "duration": 43,
    "start_time": "2025-01-28T00:40:43.969Z"
   },
   {
    "duration": 11,
    "start_time": "2025-01-28T00:40:44.014Z"
   },
   {
    "duration": 4,
    "start_time": "2025-01-28T00:40:44.027Z"
   },
   {
    "duration": 3,
    "start_time": "2025-01-28T00:40:44.033Z"
   },
   {
    "duration": 57,
    "start_time": "2025-01-28T00:40:44.038Z"
   },
   {
    "duration": 4,
    "start_time": "2025-01-28T00:40:44.096Z"
   },
   {
    "duration": 19,
    "start_time": "2025-01-28T00:40:44.101Z"
   },
   {
    "duration": 4,
    "start_time": "2025-01-28T00:40:44.122Z"
   },
   {
    "duration": 3,
    "start_time": "2025-01-28T00:40:44.129Z"
   },
   {
    "duration": 3,
    "start_time": "2025-01-28T00:40:44.135Z"
   },
   {
    "duration": 4,
    "start_time": "2025-01-28T00:40:44.140Z"
   },
   {
    "duration": 4,
    "start_time": "2025-01-28T00:40:44.145Z"
   },
   {
    "duration": 729,
    "start_time": "2025-01-28T00:40:44.186Z"
   },
   {
    "duration": 762,
    "start_time": "2025-01-28T00:40:44.918Z"
   },
   {
    "duration": 6,
    "start_time": "2025-01-28T00:40:45.687Z"
   },
   {
    "duration": 6,
    "start_time": "2025-01-28T00:40:45.695Z"
   },
   {
    "duration": 6,
    "start_time": "2025-01-28T00:40:45.702Z"
   },
   {
    "duration": 6,
    "start_time": "2025-01-28T00:40:45.710Z"
   },
   {
    "duration": 12,
    "start_time": "2025-01-28T00:40:45.718Z"
   },
   {
    "duration": 6,
    "start_time": "2025-01-28T00:40:45.732Z"
   },
   {
    "duration": 47,
    "start_time": "2025-01-28T00:40:45.740Z"
   },
   {
    "duration": 6,
    "start_time": "2025-01-28T00:40:45.789Z"
   },
   {
    "duration": 4,
    "start_time": "2025-01-28T00:40:45.796Z"
   },
   {
    "duration": 6,
    "start_time": "2025-01-28T00:40:45.802Z"
   },
   {
    "duration": 9,
    "start_time": "2025-01-28T00:40:45.809Z"
   },
   {
    "duration": 3,
    "start_time": "2025-01-28T00:40:45.822Z"
   },
   {
    "duration": 14,
    "start_time": "2025-01-28T00:40:45.826Z"
   },
   {
    "duration": 53,
    "start_time": "2025-01-28T00:40:45.842Z"
   },
   {
    "duration": 26,
    "start_time": "2025-01-28T00:40:45.897Z"
   },
   {
    "duration": 26,
    "start_time": "2025-01-28T00:40:45.925Z"
   },
   {
    "duration": 33,
    "start_time": "2025-01-28T00:40:45.953Z"
   },
   {
    "duration": 5,
    "start_time": "2025-01-28T00:40:45.988Z"
   },
   {
    "duration": 5,
    "start_time": "2025-01-28T00:40:45.994Z"
   },
   {
    "duration": 3,
    "start_time": "2025-01-28T00:40:46.001Z"
   },
   {
    "duration": 200,
    "start_time": "2025-01-28T00:40:46.005Z"
   },
   {
    "duration": 6,
    "start_time": "2025-01-28T00:53:36.743Z"
   },
   {
    "duration": 2587,
    "start_time": "2025-01-28T00:53:52.321Z"
   },
   {
    "duration": 1752,
    "start_time": "2025-01-28T00:54:48.099Z"
   },
   {
    "duration": 1436,
    "start_time": "2025-01-28T00:55:49.787Z"
   },
   {
    "duration": 1660,
    "start_time": "2025-01-28T00:59:00.164Z"
   },
   {
    "duration": 5,
    "start_time": "2025-01-28T00:59:25.461Z"
   },
   {
    "duration": 13,
    "start_time": "2025-01-28T01:00:11.127Z"
   },
   {
    "duration": 12,
    "start_time": "2025-01-28T01:00:19.441Z"
   },
   {
    "duration": 11,
    "start_time": "2025-01-28T01:00:42.138Z"
   },
   {
    "duration": 5,
    "start_time": "2025-01-28T01:01:15.349Z"
   },
   {
    "duration": 4,
    "start_time": "2025-01-28T01:01:33.014Z"
   },
   {
    "duration": 906,
    "start_time": "2025-01-28T01:01:33.022Z"
   },
   {
    "duration": 9,
    "start_time": "2025-01-28T01:01:33.930Z"
   },
   {
    "duration": 7,
    "start_time": "2025-01-28T01:01:33.941Z"
   },
   {
    "duration": 10,
    "start_time": "2025-01-28T01:01:33.950Z"
   },
   {
    "duration": 19,
    "start_time": "2025-01-28T01:01:33.966Z"
   },
   {
    "duration": 27,
    "start_time": "2025-01-28T01:01:33.990Z"
   },
   {
    "duration": 7,
    "start_time": "2025-01-28T01:01:34.025Z"
   },
   {
    "duration": 3,
    "start_time": "2025-01-28T01:01:34.034Z"
   },
   {
    "duration": 93,
    "start_time": "2025-01-28T01:01:34.039Z"
   },
   {
    "duration": 82,
    "start_time": "2025-01-28T01:01:34.136Z"
   },
   {
    "duration": 11,
    "start_time": "2025-01-28T01:01:34.219Z"
   },
   {
    "duration": 6,
    "start_time": "2025-01-28T01:01:34.232Z"
   },
   {
    "duration": 92,
    "start_time": "2025-01-28T01:01:34.240Z"
   },
   {
    "duration": 75,
    "start_time": "2025-01-28T01:01:34.334Z"
   },
   {
    "duration": 38,
    "start_time": "2025-01-28T01:01:34.411Z"
   },
   {
    "duration": 13,
    "start_time": "2025-01-28T01:01:34.451Z"
   },
   {
    "duration": 24,
    "start_time": "2025-01-28T01:01:34.465Z"
   },
   {
    "duration": 4,
    "start_time": "2025-01-28T01:01:34.491Z"
   },
   {
    "duration": 28,
    "start_time": "2025-01-28T01:01:34.497Z"
   },
   {
    "duration": 3,
    "start_time": "2025-01-28T01:01:34.527Z"
   },
   {
    "duration": 21,
    "start_time": "2025-01-28T01:01:34.532Z"
   },
   {
    "duration": 33,
    "start_time": "2025-01-28T01:01:34.554Z"
   },
   {
    "duration": 4,
    "start_time": "2025-01-28T01:01:34.589Z"
   },
   {
    "duration": 3,
    "start_time": "2025-01-28T01:01:34.595Z"
   },
   {
    "duration": 3,
    "start_time": "2025-01-28T01:01:34.600Z"
   },
   {
    "duration": 3,
    "start_time": "2025-01-28T01:01:34.605Z"
   },
   {
    "duration": 760,
    "start_time": "2025-01-28T01:01:34.610Z"
   },
   {
    "duration": 752,
    "start_time": "2025-01-28T01:01:35.375Z"
   },
   {
    "duration": 9,
    "start_time": "2025-01-28T01:01:36.129Z"
   },
   {
    "duration": 5,
    "start_time": "2025-01-28T01:01:36.140Z"
   },
   {
    "duration": 6,
    "start_time": "2025-01-28T01:01:36.147Z"
   },
   {
    "duration": 6,
    "start_time": "2025-01-28T01:01:36.155Z"
   },
   {
    "duration": 37,
    "start_time": "2025-01-28T01:01:36.162Z"
   },
   {
    "duration": 8,
    "start_time": "2025-01-28T01:01:36.200Z"
   },
   {
    "duration": 10,
    "start_time": "2025-01-28T01:01:36.209Z"
   },
   {
    "duration": 5,
    "start_time": "2025-01-28T01:01:36.221Z"
   },
   {
    "duration": 4,
    "start_time": "2025-01-28T01:01:36.228Z"
   },
   {
    "duration": 5,
    "start_time": "2025-01-28T01:01:36.234Z"
   },
   {
    "duration": 52,
    "start_time": "2025-01-28T01:01:36.241Z"
   },
   {
    "duration": 3,
    "start_time": "2025-01-28T01:01:36.295Z"
   },
   {
    "duration": 12,
    "start_time": "2025-01-28T01:01:36.300Z"
   },
   {
    "duration": 15,
    "start_time": "2025-01-28T01:01:36.314Z"
   },
   {
    "duration": 56,
    "start_time": "2025-01-28T01:01:36.331Z"
   },
   {
    "duration": 27,
    "start_time": "2025-01-28T01:01:36.388Z"
   },
   {
    "duration": 7,
    "start_time": "2025-01-28T01:01:36.417Z"
   },
   {
    "duration": 5,
    "start_time": "2025-01-28T01:01:36.426Z"
   },
   {
    "duration": 5,
    "start_time": "2025-01-28T01:01:36.432Z"
   },
   {
    "duration": 6,
    "start_time": "2025-01-28T01:01:36.438Z"
   },
   {
    "duration": 195,
    "start_time": "2025-01-28T01:01:36.445Z"
   },
   {
    "duration": 7,
    "start_time": "2025-01-28T01:01:43.159Z"
   },
   {
    "duration": 5,
    "start_time": "2025-01-28T01:03:02.571Z"
   },
   {
    "duration": 6,
    "start_time": "2025-01-28T01:03:29.733Z"
   },
   {
    "duration": 297,
    "start_time": "2025-01-28T01:06:23.604Z"
   },
   {
    "duration": 16,
    "start_time": "2025-01-28T01:08:15.319Z"
   },
   {
    "duration": 6,
    "start_time": "2025-01-28T01:08:25.648Z"
   },
   {
    "duration": 6,
    "start_time": "2025-01-28T01:12:19.968Z"
   },
   {
    "duration": 203,
    "start_time": "2025-01-28T01:14:14.717Z"
   },
   {
    "duration": 155,
    "start_time": "2025-01-28T01:14:40.682Z"
   },
   {
    "duration": 4,
    "start_time": "2025-01-28T01:19:21.866Z"
   },
   {
    "duration": 3,
    "start_time": "2025-01-28T01:19:45.226Z"
   },
   {
    "duration": 1180,
    "start_time": "2025-01-28T01:19:45.232Z"
   },
   {
    "duration": 9,
    "start_time": "2025-01-28T01:19:46.414Z"
   },
   {
    "duration": 165,
    "start_time": "2025-01-28T01:19:46.424Z"
   },
   {
    "duration": 138,
    "start_time": "2025-01-28T01:19:46.591Z"
   },
   {
    "duration": 122,
    "start_time": "2025-01-28T01:19:46.731Z"
   },
   {
    "duration": 181,
    "start_time": "2025-01-28T01:19:46.856Z"
   },
   {
    "duration": 147,
    "start_time": "2025-01-28T01:19:47.040Z"
   },
   {
    "duration": 126,
    "start_time": "2025-01-28T01:19:47.189Z"
   },
   {
    "duration": 228,
    "start_time": "2025-01-28T01:19:47.317Z"
   },
   {
    "duration": 169,
    "start_time": "2025-01-28T01:19:47.548Z"
   },
   {
    "duration": 77,
    "start_time": "2025-01-28T01:19:47.719Z"
   },
   {
    "duration": 136,
    "start_time": "2025-01-28T01:19:47.798Z"
   },
   {
    "duration": 73,
    "start_time": "2025-01-28T01:19:47.936Z"
   },
   {
    "duration": 66,
    "start_time": "2025-01-28T01:19:48.011Z"
   },
   {
    "duration": 37,
    "start_time": "2025-01-28T01:19:48.087Z"
   },
   {
    "duration": 15,
    "start_time": "2025-01-28T01:19:48.126Z"
   },
   {
    "duration": 4,
    "start_time": "2025-01-28T01:19:48.143Z"
   },
   {
    "duration": 4,
    "start_time": "2025-01-28T01:19:48.149Z"
   },
   {
    "duration": 54,
    "start_time": "2025-01-28T01:19:48.154Z"
   },
   {
    "duration": 3,
    "start_time": "2025-01-28T01:19:48.209Z"
   },
   {
    "duration": 20,
    "start_time": "2025-01-28T01:19:48.214Z"
   },
   {
    "duration": 3,
    "start_time": "2025-01-28T01:19:48.236Z"
   },
   {
    "duration": 3,
    "start_time": "2025-01-28T01:19:48.241Z"
   },
   {
    "duration": 3,
    "start_time": "2025-01-28T01:19:48.246Z"
   },
   {
    "duration": 37,
    "start_time": "2025-01-28T01:19:48.250Z"
   },
   {
    "duration": 4,
    "start_time": "2025-01-28T01:19:48.289Z"
   },
   {
    "duration": 686,
    "start_time": "2025-01-28T01:19:48.294Z"
   },
   {
    "duration": 734,
    "start_time": "2025-01-28T01:19:48.985Z"
   },
   {
    "duration": 7,
    "start_time": "2025-01-28T01:19:49.721Z"
   },
   {
    "duration": 5,
    "start_time": "2025-01-28T01:19:49.730Z"
   },
   {
    "duration": 6,
    "start_time": "2025-01-28T01:19:49.737Z"
   },
   {
    "duration": 7,
    "start_time": "2025-01-28T01:19:49.744Z"
   },
   {
    "duration": 42,
    "start_time": "2025-01-28T01:19:49.752Z"
   },
   {
    "duration": 8,
    "start_time": "2025-01-28T01:19:49.796Z"
   },
   {
    "duration": 8,
    "start_time": "2025-01-28T01:19:49.805Z"
   },
   {
    "duration": 6,
    "start_time": "2025-01-28T01:19:49.815Z"
   },
   {
    "duration": 5,
    "start_time": "2025-01-28T01:19:49.823Z"
   },
   {
    "duration": 5,
    "start_time": "2025-01-28T01:19:49.829Z"
   },
   {
    "duration": 8,
    "start_time": "2025-01-28T01:19:49.836Z"
   },
   {
    "duration": 41,
    "start_time": "2025-01-28T01:19:49.846Z"
   },
   {
    "duration": 13,
    "start_time": "2025-01-28T01:19:49.889Z"
   },
   {
    "duration": 15,
    "start_time": "2025-01-28T01:19:49.903Z"
   },
   {
    "duration": 27,
    "start_time": "2025-01-28T01:19:49.920Z"
   },
   {
    "duration": 55,
    "start_time": "2025-01-28T01:19:49.949Z"
   },
   {
    "duration": 8,
    "start_time": "2025-01-28T01:19:50.006Z"
   },
   {
    "duration": 5,
    "start_time": "2025-01-28T01:19:50.015Z"
   },
   {
    "duration": 4,
    "start_time": "2025-01-28T01:19:50.022Z"
   },
   {
    "duration": 3,
    "start_time": "2025-01-28T01:19:50.028Z"
   },
   {
    "duration": 208,
    "start_time": "2025-01-28T01:19:50.033Z"
   },
   {
    "duration": 5,
    "start_time": "2025-01-28T01:19:50.243Z"
   },
   {
    "duration": 7,
    "start_time": "2025-01-28T01:19:50.249Z"
   },
   {
    "duration": 304,
    "start_time": "2025-01-28T01:19:50.258Z"
   },
   {
    "duration": 4,
    "start_time": "2025-01-28T01:19:50.564Z"
   },
   {
    "duration": 0,
    "start_time": "2025-01-28T01:19:50.569Z"
   },
   {
    "duration": 0,
    "start_time": "2025-01-28T01:19:50.571Z"
   },
   {
    "duration": 0,
    "start_time": "2025-01-28T01:19:50.587Z"
   },
   {
    "duration": 5,
    "start_time": "2025-01-28T01:19:56.558Z"
   },
   {
    "duration": 442,
    "start_time": "2025-01-28T01:23:29.161Z"
   },
   {
    "duration": 187,
    "start_time": "2025-01-28T01:24:30.628Z"
   },
   {
    "duration": 2,
    "start_time": "2025-01-28T01:25:13.838Z"
   },
   {
    "duration": 11,
    "start_time": "2025-01-28T01:47:31.537Z"
   },
   {
    "duration": 9,
    "start_time": "2025-01-28T01:49:42.650Z"
   },
   {
    "duration": 309,
    "start_time": "2025-01-28T01:50:50.566Z"
   },
   {
    "duration": 192,
    "start_time": "2025-01-28T01:51:54.873Z"
   },
   {
    "duration": 4,
    "start_time": "2025-01-28T01:55:01.518Z"
   },
   {
    "duration": 6,
    "start_time": "2025-01-28T01:55:48.056Z"
   },
   {
    "duration": 177,
    "start_time": "2025-01-28T01:56:22.061Z"
   },
   {
    "duration": 5,
    "start_time": "2025-01-28T01:57:12.333Z"
   },
   {
    "duration": 199,
    "start_time": "2025-01-28T01:57:31.418Z"
   },
   {
    "duration": 193,
    "start_time": "2025-01-28T01:59:20.713Z"
   },
   {
    "duration": 38,
    "start_time": "2025-01-28T02:03:18.826Z"
   },
   {
    "duration": 39,
    "start_time": "2025-01-28T02:03:37.360Z"
   },
   {
    "duration": 38,
    "start_time": "2025-01-28T02:03:47.030Z"
   },
   {
    "duration": 205,
    "start_time": "2025-01-28T02:04:47.955Z"
   },
   {
    "duration": 78,
    "start_time": "2025-01-28T02:23:15.917Z"
   },
   {
    "duration": 64,
    "start_time": "2025-01-28T02:23:24.180Z"
   },
   {
    "duration": 6,
    "start_time": "2025-01-28T02:25:01.300Z"
   },
   {
    "duration": 217,
    "start_time": "2025-01-28T02:28:49.726Z"
   },
   {
    "duration": 217,
    "start_time": "2025-01-28T02:39:20.601Z"
   },
   {
    "duration": 160,
    "start_time": "2025-01-28T02:40:20.366Z"
   },
   {
    "duration": 85,
    "start_time": "2025-01-28T02:45:41.731Z"
   },
   {
    "duration": 94,
    "start_time": "2025-01-28T02:45:59.817Z"
   },
   {
    "duration": 86,
    "start_time": "2025-01-28T02:46:10.246Z"
   },
   {
    "duration": 11,
    "start_time": "2025-01-28T02:46:58.121Z"
   },
   {
    "duration": 14,
    "start_time": "2025-01-28T02:48:39.949Z"
   },
   {
    "duration": 74,
    "start_time": "2025-01-28T02:49:07.191Z"
   },
   {
    "duration": 197,
    "start_time": "2025-01-28T02:50:14.907Z"
   },
   {
    "duration": 1431,
    "start_time": "2025-01-28T02:53:02.143Z"
   },
   {
    "duration": 2051,
    "start_time": "2025-01-28T02:54:18.498Z"
   },
   {
    "duration": 4,
    "start_time": "2025-01-28T02:58:44.017Z"
   },
   {
    "duration": 4,
    "start_time": "2025-01-28T02:58:47.676Z"
   },
   {
    "duration": 5,
    "start_time": "2025-01-28T02:59:51.350Z"
   },
   {
    "duration": 4,
    "start_time": "2025-01-28T03:00:00.373Z"
   },
   {
    "duration": 3,
    "start_time": "2025-01-28T03:00:19.497Z"
   },
   {
    "duration": 4,
    "start_time": "2025-01-28T03:00:48.339Z"
   },
   {
    "duration": 5,
    "start_time": "2025-01-28T03:01:10.719Z"
   },
   {
    "duration": 2111,
    "start_time": "2025-01-28T03:02:17.675Z"
   },
   {
    "duration": 2278,
    "start_time": "2025-01-28T03:03:49.467Z"
   },
   {
    "duration": 5,
    "start_time": "2025-01-28T03:06:44.415Z"
   },
   {
    "duration": 292,
    "start_time": "2025-01-28T04:22:53.656Z"
   },
   {
    "duration": 1087,
    "start_time": "2025-01-28T04:22:53.950Z"
   },
   {
    "duration": 12,
    "start_time": "2025-01-28T04:22:55.039Z"
   },
   {
    "duration": 9,
    "start_time": "2025-01-28T04:22:55.053Z"
   },
   {
    "duration": 11,
    "start_time": "2025-01-28T04:22:55.064Z"
   },
   {
    "duration": 3,
    "start_time": "2025-01-28T04:22:55.086Z"
   },
   {
    "duration": 25,
    "start_time": "2025-01-28T04:22:55.091Z"
   },
   {
    "duration": 8,
    "start_time": "2025-01-28T04:22:55.118Z"
   },
   {
    "duration": 3,
    "start_time": "2025-01-28T04:22:55.128Z"
   },
   {
    "duration": 112,
    "start_time": "2025-01-28T04:22:55.135Z"
   },
   {
    "duration": 110,
    "start_time": "2025-01-28T04:22:55.250Z"
   },
   {
    "duration": 26,
    "start_time": "2025-01-28T04:22:55.362Z"
   },
   {
    "duration": 8,
    "start_time": "2025-01-28T04:22:55.391Z"
   },
   {
    "duration": 128,
    "start_time": "2025-01-28T04:22:55.400Z"
   },
   {
    "duration": 96,
    "start_time": "2025-01-28T04:22:55.530Z"
   },
   {
    "duration": 44,
    "start_time": "2025-01-28T04:22:55.629Z"
   },
   {
    "duration": 21,
    "start_time": "2025-01-28T04:22:55.675Z"
   },
   {
    "duration": 4,
    "start_time": "2025-01-28T04:22:55.698Z"
   },
   {
    "duration": 3,
    "start_time": "2025-01-28T04:22:55.704Z"
   },
   {
    "duration": 40,
    "start_time": "2025-01-28T04:22:55.709Z"
   },
   {
    "duration": 4,
    "start_time": "2025-01-28T04:22:55.751Z"
   },
   {
    "duration": 49,
    "start_time": "2025-01-28T04:22:55.756Z"
   },
   {
    "duration": 3,
    "start_time": "2025-01-28T04:22:55.807Z"
   },
   {
    "duration": 4,
    "start_time": "2025-01-28T04:22:55.812Z"
   },
   {
    "duration": 3,
    "start_time": "2025-01-28T04:22:55.818Z"
   },
   {
    "duration": 4,
    "start_time": "2025-01-28T04:22:55.823Z"
   },
   {
    "duration": 3,
    "start_time": "2025-01-28T04:22:55.829Z"
   },
   {
    "duration": 813,
    "start_time": "2025-01-28T04:22:55.838Z"
   },
   {
    "duration": 819,
    "start_time": "2025-01-28T04:22:56.653Z"
   },
   {
    "duration": 15,
    "start_time": "2025-01-28T04:22:57.474Z"
   },
   {
    "duration": 6,
    "start_time": "2025-01-28T04:22:57.491Z"
   },
   {
    "duration": 7,
    "start_time": "2025-01-28T04:22:57.499Z"
   },
   {
    "duration": 5,
    "start_time": "2025-01-28T04:22:57.508Z"
   },
   {
    "duration": 14,
    "start_time": "2025-01-28T04:22:57.515Z"
   },
   {
    "duration": 8,
    "start_time": "2025-01-28T04:22:57.531Z"
   },
   {
    "duration": 48,
    "start_time": "2025-01-28T04:22:57.540Z"
   },
   {
    "duration": 7,
    "start_time": "2025-01-28T04:22:57.590Z"
   },
   {
    "duration": 6,
    "start_time": "2025-01-28T04:22:57.598Z"
   },
   {
    "duration": 7,
    "start_time": "2025-01-28T04:22:57.606Z"
   },
   {
    "duration": 10,
    "start_time": "2025-01-28T04:22:57.614Z"
   },
   {
    "duration": 6,
    "start_time": "2025-01-28T04:22:57.627Z"
   },
   {
    "duration": 15,
    "start_time": "2025-01-28T04:22:57.634Z"
   },
   {
    "duration": 53,
    "start_time": "2025-01-28T04:22:57.650Z"
   },
   {
    "duration": 26,
    "start_time": "2025-01-28T04:22:57.704Z"
   },
   {
    "duration": 32,
    "start_time": "2025-01-28T04:22:57.732Z"
   },
   {
    "duration": 24,
    "start_time": "2025-01-28T04:22:57.766Z"
   },
   {
    "duration": 5,
    "start_time": "2025-01-28T04:22:57.794Z"
   },
   {
    "duration": 7,
    "start_time": "2025-01-28T04:22:57.801Z"
   },
   {
    "duration": 3,
    "start_time": "2025-01-28T04:22:57.810Z"
   },
   {
    "duration": 201,
    "start_time": "2025-01-28T04:22:57.815Z"
   },
   {
    "duration": 4,
    "start_time": "2025-01-28T04:22:58.024Z"
   },
   {
    "duration": 6,
    "start_time": "2025-01-28T04:22:58.030Z"
   },
   {
    "duration": 2206,
    "start_time": "2025-01-28T04:22:58.038Z"
   },
   {
    "duration": 2,
    "start_time": "2025-01-28T04:23:00.246Z"
   },
   {
    "duration": 7,
    "start_time": "2025-01-28T04:23:00.250Z"
   },
   {
    "duration": 184,
    "start_time": "2025-01-28T04:23:00.259Z"
   },
   {
    "duration": 16,
    "start_time": "2025-01-28T04:23:00.444Z"
   },
   {
    "duration": 0,
    "start_time": "2025-01-28T04:23:00.462Z"
   },
   {
    "duration": 0,
    "start_time": "2025-01-28T04:23:00.463Z"
   },
   {
    "duration": 0,
    "start_time": "2025-01-28T04:23:00.465Z"
   },
   {
    "duration": 0,
    "start_time": "2025-01-28T04:23:00.466Z"
   },
   {
    "duration": 0,
    "start_time": "2025-01-28T04:23:00.468Z"
   },
   {
    "duration": 0,
    "start_time": "2025-01-28T04:23:00.469Z"
   },
   {
    "duration": 0,
    "start_time": "2025-01-28T04:23:00.470Z"
   },
   {
    "duration": 0,
    "start_time": "2025-01-28T04:23:00.486Z"
   },
   {
    "duration": 0,
    "start_time": "2025-01-28T04:23:00.487Z"
   },
   {
    "duration": 0,
    "start_time": "2025-01-28T04:23:00.488Z"
   },
   {
    "duration": 0,
    "start_time": "2025-01-28T04:23:00.489Z"
   },
   {
    "duration": 0,
    "start_time": "2025-01-28T04:23:00.491Z"
   },
   {
    "duration": 0,
    "start_time": "2025-01-28T04:23:00.491Z"
   },
   {
    "duration": 0,
    "start_time": "2025-01-28T04:23:00.492Z"
   },
   {
    "duration": 0,
    "start_time": "2025-01-28T04:23:00.494Z"
   },
   {
    "duration": 0,
    "start_time": "2025-01-28T04:23:00.495Z"
   },
   {
    "duration": 0,
    "start_time": "2025-01-28T04:23:00.496Z"
   },
   {
    "duration": 0,
    "start_time": "2025-01-28T04:23:00.496Z"
   },
   {
    "duration": 0,
    "start_time": "2025-01-28T04:23:00.497Z"
   },
   {
    "duration": 199,
    "start_time": "2025-01-28T04:25:53.640Z"
   },
   {
    "duration": 3,
    "start_time": "2025-01-28T04:26:21.325Z"
   },
   {
    "duration": 17,
    "start_time": "2025-01-28T04:26:27.389Z"
   },
   {
    "duration": 2,
    "start_time": "2025-01-28T04:27:11.065Z"
   },
   {
    "duration": 908,
    "start_time": "2025-01-28T04:27:11.071Z"
   },
   {
    "duration": 16,
    "start_time": "2025-01-28T04:27:11.981Z"
   },
   {
    "duration": 8,
    "start_time": "2025-01-28T04:27:11.998Z"
   },
   {
    "duration": 9,
    "start_time": "2025-01-28T04:27:12.009Z"
   },
   {
    "duration": 3,
    "start_time": "2025-01-28T04:27:12.019Z"
   },
   {
    "duration": 20,
    "start_time": "2025-01-28T04:27:12.024Z"
   },
   {
    "duration": 7,
    "start_time": "2025-01-28T04:27:12.047Z"
   },
   {
    "duration": 3,
    "start_time": "2025-01-28T04:27:12.086Z"
   },
   {
    "duration": 67,
    "start_time": "2025-01-28T04:27:12.091Z"
   },
   {
    "duration": 79,
    "start_time": "2025-01-28T04:27:12.162Z"
   },
   {
    "duration": 12,
    "start_time": "2025-01-28T04:27:12.243Z"
   },
   {
    "duration": 8,
    "start_time": "2025-01-28T04:27:12.257Z"
   },
   {
    "duration": 117,
    "start_time": "2025-01-28T04:27:12.267Z"
   },
   {
    "duration": 93,
    "start_time": "2025-01-28T04:27:12.386Z"
   },
   {
    "duration": 50,
    "start_time": "2025-01-28T04:27:12.486Z"
   },
   {
    "duration": 15,
    "start_time": "2025-01-28T04:27:12.538Z"
   },
   {
    "duration": 4,
    "start_time": "2025-01-28T04:27:12.555Z"
   },
   {
    "duration": 3,
    "start_time": "2025-01-28T04:27:12.561Z"
   },
   {
    "duration": 40,
    "start_time": "2025-01-28T04:27:12.586Z"
   },
   {
    "duration": 4,
    "start_time": "2025-01-28T04:27:12.628Z"
   },
   {
    "duration": 28,
    "start_time": "2025-01-28T04:27:12.634Z"
   },
   {
    "duration": 22,
    "start_time": "2025-01-28T04:27:12.665Z"
   },
   {
    "duration": 4,
    "start_time": "2025-01-28T04:27:12.690Z"
   },
   {
    "duration": 3,
    "start_time": "2025-01-28T04:27:12.696Z"
   },
   {
    "duration": 4,
    "start_time": "2025-01-28T04:27:12.701Z"
   },
   {
    "duration": 3,
    "start_time": "2025-01-28T04:27:12.707Z"
   },
   {
    "duration": 956,
    "start_time": "2025-01-28T04:27:12.712Z"
   },
   {
    "duration": 769,
    "start_time": "2025-01-28T04:27:13.675Z"
   },
   {
    "duration": 10,
    "start_time": "2025-01-28T04:27:14.446Z"
   },
   {
    "duration": 6,
    "start_time": "2025-01-28T04:27:14.457Z"
   },
   {
    "duration": 23,
    "start_time": "2025-01-28T04:27:14.465Z"
   },
   {
    "duration": 7,
    "start_time": "2025-01-28T04:27:14.490Z"
   },
   {
    "duration": 14,
    "start_time": "2025-01-28T04:27:14.499Z"
   },
   {
    "duration": 8,
    "start_time": "2025-01-28T04:27:14.515Z"
   },
   {
    "duration": 8,
    "start_time": "2025-01-28T04:27:14.525Z"
   },
   {
    "duration": 5,
    "start_time": "2025-01-28T04:27:14.535Z"
   },
   {
    "duration": 5,
    "start_time": "2025-01-28T04:27:14.541Z"
   },
   {
    "duration": 38,
    "start_time": "2025-01-28T04:27:14.548Z"
   },
   {
    "duration": 10,
    "start_time": "2025-01-28T04:27:14.589Z"
   },
   {
    "duration": 5,
    "start_time": "2025-01-28T04:27:14.602Z"
   },
   {
    "duration": 15,
    "start_time": "2025-01-28T04:27:14.609Z"
   },
   {
    "duration": 24,
    "start_time": "2025-01-28T04:27:14.626Z"
   },
   {
    "duration": 51,
    "start_time": "2025-01-28T04:27:14.652Z"
   },
   {
    "duration": 33,
    "start_time": "2025-01-28T04:27:14.706Z"
   },
   {
    "duration": 7,
    "start_time": "2025-01-28T04:27:14.742Z"
   },
   {
    "duration": 5,
    "start_time": "2025-01-28T04:27:14.751Z"
   },
   {
    "duration": 32,
    "start_time": "2025-01-28T04:27:14.758Z"
   },
   {
    "duration": 4,
    "start_time": "2025-01-28T04:27:14.791Z"
   },
   {
    "duration": 177,
    "start_time": "2025-01-28T04:27:14.796Z"
   },
   {
    "duration": 4,
    "start_time": "2025-01-28T04:27:14.976Z"
   },
   {
    "duration": 7,
    "start_time": "2025-01-28T04:27:14.986Z"
   },
   {
    "duration": 323,
    "start_time": "2025-01-28T04:27:14.995Z"
   },
   {
    "duration": 4,
    "start_time": "2025-01-28T04:27:15.320Z"
   },
   {
    "duration": 6,
    "start_time": "2025-01-28T04:27:15.327Z"
   },
   {
    "duration": 152,
    "start_time": "2025-01-28T04:27:15.336Z"
   },
   {
    "duration": 2,
    "start_time": "2025-01-28T04:27:15.490Z"
   },
   {
    "duration": 22131,
    "start_time": "2025-01-28T04:27:15.494Z"
   },
   {
    "duration": 2,
    "start_time": "2025-01-28T04:27:37.835Z"
   },
   {
    "duration": 10,
    "start_time": "2025-01-28T04:27:37.839Z"
   },
   {
    "duration": 207,
    "start_time": "2025-01-28T04:27:37.851Z"
   },
   {
    "duration": 196,
    "start_time": "2025-01-28T04:27:38.061Z"
   },
   {
    "duration": 27,
    "start_time": "2025-01-28T04:27:38.262Z"
   },
   {
    "duration": 202,
    "start_time": "2025-01-28T04:27:38.292Z"
   },
   {
    "duration": 96,
    "start_time": "2025-01-28T04:27:38.496Z"
   },
   {
    "duration": 6,
    "start_time": "2025-01-28T04:27:38.594Z"
   },
   {
    "duration": 235,
    "start_time": "2025-01-28T04:27:38.605Z"
   },
   {
    "duration": 14,
    "start_time": "2025-01-28T04:27:58.747Z"
   },
   {
    "duration": 15,
    "start_time": "2025-01-28T04:28:14.443Z"
   },
   {
    "duration": 222,
    "start_time": "2025-01-28T04:28:24.122Z"
   },
   {
    "duration": 169,
    "start_time": "2025-01-28T04:28:27.978Z"
   },
   {
    "duration": 14,
    "start_time": "2025-01-28T04:30:17.360Z"
   },
   {
    "duration": 107,
    "start_time": "2025-01-28T04:36:26.342Z"
   },
   {
    "duration": 15,
    "start_time": "2025-01-28T04:37:04.322Z"
   },
   {
    "duration": 15,
    "start_time": "2025-01-28T04:37:37.009Z"
   },
   {
    "duration": 356,
    "start_time": "2025-01-28T04:37:40.787Z"
   },
   {
    "duration": 245,
    "start_time": "2025-01-28T04:37:56.306Z"
   },
   {
    "duration": 153,
    "start_time": "2025-01-28T04:54:45.034Z"
   },
   {
    "duration": 149,
    "start_time": "2025-01-28T04:55:01.861Z"
   },
   {
    "duration": 18,
    "start_time": "2025-01-28T04:56:06.433Z"
   },
   {
    "duration": 9,
    "start_time": "2025-01-28T04:56:13.641Z"
   },
   {
    "duration": 24,
    "start_time": "2025-01-28T04:57:07.911Z"
   },
   {
    "duration": 85,
    "start_time": "2025-01-28T04:57:46.868Z"
   },
   {
    "duration": 10,
    "start_time": "2025-01-28T04:57:59.268Z"
   },
   {
    "duration": 218,
    "start_time": "2025-01-28T04:58:14.299Z"
   },
   {
    "duration": 108,
    "start_time": "2025-01-28T05:00:53.497Z"
   },
   {
    "duration": 14,
    "start_time": "2025-01-28T05:02:00.807Z"
   },
   {
    "duration": 35,
    "start_time": "2025-01-28T05:02:25.320Z"
   },
   {
    "duration": 22,
    "start_time": "2025-01-28T05:02:28.010Z"
   },
   {
    "duration": 172,
    "start_time": "2025-01-28T05:07:03.981Z"
   },
   {
    "duration": 42,
    "start_time": "2025-01-28T05:08:55.092Z"
   },
   {
    "duration": 2,
    "start_time": "2025-01-28T05:09:09.049Z"
   },
   {
    "duration": 910,
    "start_time": "2025-01-28T05:09:09.054Z"
   },
   {
    "duration": 11,
    "start_time": "2025-01-28T05:09:09.965Z"
   },
   {
    "duration": 14,
    "start_time": "2025-01-28T05:09:09.977Z"
   },
   {
    "duration": 9,
    "start_time": "2025-01-28T05:09:09.993Z"
   },
   {
    "duration": 3,
    "start_time": "2025-01-28T05:09:10.004Z"
   },
   {
    "duration": 20,
    "start_time": "2025-01-28T05:09:10.009Z"
   },
   {
    "duration": 7,
    "start_time": "2025-01-28T05:09:10.031Z"
   },
   {
    "duration": 3,
    "start_time": "2025-01-28T05:09:10.040Z"
   },
   {
    "duration": 96,
    "start_time": "2025-01-28T05:09:10.044Z"
   },
   {
    "duration": 71,
    "start_time": "2025-01-28T05:09:10.142Z"
   },
   {
    "duration": 12,
    "start_time": "2025-01-28T05:09:10.214Z"
   },
   {
    "duration": 6,
    "start_time": "2025-01-28T05:09:10.227Z"
   },
   {
    "duration": 86,
    "start_time": "2025-01-28T05:09:10.237Z"
   },
   {
    "duration": 66,
    "start_time": "2025-01-28T05:09:10.326Z"
   },
   {
    "duration": 33,
    "start_time": "2025-01-28T05:09:10.395Z"
   },
   {
    "duration": 11,
    "start_time": "2025-01-28T05:09:10.430Z"
   },
   {
    "duration": 4,
    "start_time": "2025-01-28T05:09:10.443Z"
   },
   {
    "duration": 3,
    "start_time": "2025-01-28T05:09:10.448Z"
   },
   {
    "duration": 57,
    "start_time": "2025-01-28T05:09:10.453Z"
   },
   {
    "duration": 4,
    "start_time": "2025-01-28T05:09:10.512Z"
   },
   {
    "duration": 19,
    "start_time": "2025-01-28T05:09:10.517Z"
   },
   {
    "duration": 3,
    "start_time": "2025-01-28T05:09:10.538Z"
   },
   {
    "duration": 4,
    "start_time": "2025-01-28T05:09:10.542Z"
   },
   {
    "duration": 4,
    "start_time": "2025-01-28T05:09:10.547Z"
   },
   {
    "duration": 36,
    "start_time": "2025-01-28T05:09:10.552Z"
   },
   {
    "duration": 4,
    "start_time": "2025-01-28T05:09:10.590Z"
   },
   {
    "duration": 691,
    "start_time": "2025-01-28T05:09:10.595Z"
   },
   {
    "duration": 681,
    "start_time": "2025-01-28T05:09:11.288Z"
   },
   {
    "duration": 7,
    "start_time": "2025-01-28T05:09:11.971Z"
   },
   {
    "duration": 5,
    "start_time": "2025-01-28T05:09:11.987Z"
   },
   {
    "duration": 6,
    "start_time": "2025-01-28T05:09:11.994Z"
   },
   {
    "duration": 5,
    "start_time": "2025-01-28T05:09:12.002Z"
   },
   {
    "duration": 12,
    "start_time": "2025-01-28T05:09:12.009Z"
   },
   {
    "duration": 7,
    "start_time": "2025-01-28T05:09:12.023Z"
   },
   {
    "duration": 8,
    "start_time": "2025-01-28T05:09:12.031Z"
   },
   {
    "duration": 5,
    "start_time": "2025-01-28T05:09:12.042Z"
   },
   {
    "duration": 5,
    "start_time": "2025-01-28T05:09:12.087Z"
   },
   {
    "duration": 5,
    "start_time": "2025-01-28T05:09:12.093Z"
   },
   {
    "duration": 8,
    "start_time": "2025-01-28T05:09:12.100Z"
   },
   {
    "duration": 3,
    "start_time": "2025-01-28T05:09:12.112Z"
   },
   {
    "duration": 11,
    "start_time": "2025-01-28T05:09:12.117Z"
   },
   {
    "duration": 15,
    "start_time": "2025-01-28T05:09:12.130Z"
   },
   {
    "duration": 62,
    "start_time": "2025-01-28T05:09:12.147Z"
   },
   {
    "duration": 26,
    "start_time": "2025-01-28T05:09:12.211Z"
   },
   {
    "duration": 7,
    "start_time": "2025-01-28T05:09:12.238Z"
   },
   {
    "duration": 4,
    "start_time": "2025-01-28T05:09:12.247Z"
   },
   {
    "duration": 35,
    "start_time": "2025-01-28T05:09:12.253Z"
   },
   {
    "duration": 3,
    "start_time": "2025-01-28T05:09:12.290Z"
   },
   {
    "duration": 175,
    "start_time": "2025-01-28T05:09:12.294Z"
   },
   {
    "duration": 4,
    "start_time": "2025-01-28T05:09:12.471Z"
   },
   {
    "duration": 6,
    "start_time": "2025-01-28T05:09:12.487Z"
   },
   {
    "duration": 293,
    "start_time": "2025-01-28T05:09:12.495Z"
   },
   {
    "duration": 2,
    "start_time": "2025-01-28T05:09:12.790Z"
   },
   {
    "duration": 7,
    "start_time": "2025-01-28T05:09:12.794Z"
   },
   {
    "duration": 161,
    "start_time": "2025-01-28T05:09:12.803Z"
   },
   {
    "duration": 4,
    "start_time": "2025-01-28T05:09:12.965Z"
   },
   {
    "duration": 0,
    "start_time": "2025-01-28T05:09:12.970Z"
   },
   {
    "duration": 0,
    "start_time": "2025-01-28T05:09:12.971Z"
   },
   {
    "duration": 0,
    "start_time": "2025-01-28T05:09:12.988Z"
   },
   {
    "duration": 0,
    "start_time": "2025-01-28T05:09:12.989Z"
   },
   {
    "duration": 0,
    "start_time": "2025-01-28T05:09:12.990Z"
   },
   {
    "duration": 0,
    "start_time": "2025-01-28T05:09:12.991Z"
   },
   {
    "duration": 0,
    "start_time": "2025-01-28T05:09:12.992Z"
   },
   {
    "duration": 1,
    "start_time": "2025-01-28T05:09:12.993Z"
   },
   {
    "duration": 0,
    "start_time": "2025-01-28T05:09:12.995Z"
   },
   {
    "duration": 0,
    "start_time": "2025-01-28T05:09:12.996Z"
   },
   {
    "duration": 0,
    "start_time": "2025-01-28T05:09:12.996Z"
   },
   {
    "duration": 0,
    "start_time": "2025-01-28T05:09:12.997Z"
   },
   {
    "duration": 0,
    "start_time": "2025-01-28T05:09:12.999Z"
   },
   {
    "duration": 0,
    "start_time": "2025-01-28T05:09:13.000Z"
   },
   {
    "duration": 0,
    "start_time": "2025-01-28T05:09:13.001Z"
   },
   {
    "duration": 0,
    "start_time": "2025-01-28T05:09:13.002Z"
   },
   {
    "duration": 0,
    "start_time": "2025-01-28T05:09:13.003Z"
   },
   {
    "duration": 40,
    "start_time": "2025-01-28T05:09:17.604Z"
   },
   {
    "duration": 2,
    "start_time": "2025-01-28T05:09:51.693Z"
   },
   {
    "duration": 2,
    "start_time": "2025-01-28T05:09:59.513Z"
   },
   {
    "duration": 851,
    "start_time": "2025-01-28T05:09:59.518Z"
   },
   {
    "duration": 10,
    "start_time": "2025-01-28T05:10:00.371Z"
   },
   {
    "duration": 6,
    "start_time": "2025-01-28T05:10:00.388Z"
   },
   {
    "duration": 10,
    "start_time": "2025-01-28T05:10:00.396Z"
   },
   {
    "duration": 3,
    "start_time": "2025-01-28T05:10:00.407Z"
   },
   {
    "duration": 21,
    "start_time": "2025-01-28T05:10:00.412Z"
   },
   {
    "duration": 7,
    "start_time": "2025-01-28T05:10:00.435Z"
   },
   {
    "duration": 4,
    "start_time": "2025-01-28T05:10:00.443Z"
   },
   {
    "duration": 99,
    "start_time": "2025-01-28T05:10:00.448Z"
   },
   {
    "duration": 73,
    "start_time": "2025-01-28T05:10:00.551Z"
   },
   {
    "duration": 10,
    "start_time": "2025-01-28T05:10:00.626Z"
   },
   {
    "duration": 6,
    "start_time": "2025-01-28T05:10:00.638Z"
   },
   {
    "duration": 90,
    "start_time": "2025-01-28T05:10:00.645Z"
   },
   {
    "duration": 73,
    "start_time": "2025-01-28T05:10:00.737Z"
   },
   {
    "duration": 34,
    "start_time": "2025-01-28T05:10:00.812Z"
   },
   {
    "duration": 12,
    "start_time": "2025-01-28T05:10:00.848Z"
   },
   {
    "duration": 3,
    "start_time": "2025-01-28T05:10:00.862Z"
   },
   {
    "duration": 21,
    "start_time": "2025-01-28T05:10:00.867Z"
   },
   {
    "duration": 29,
    "start_time": "2025-01-28T05:10:00.890Z"
   },
   {
    "duration": 4,
    "start_time": "2025-01-28T05:10:00.922Z"
   },
   {
    "duration": 21,
    "start_time": "2025-01-28T05:10:00.928Z"
   },
   {
    "duration": 3,
    "start_time": "2025-01-28T05:10:00.951Z"
   },
   {
    "duration": 33,
    "start_time": "2025-01-28T05:10:00.956Z"
   },
   {
    "duration": 4,
    "start_time": "2025-01-28T05:10:00.990Z"
   },
   {
    "duration": 4,
    "start_time": "2025-01-28T05:10:00.996Z"
   },
   {
    "duration": 4,
    "start_time": "2025-01-28T05:10:01.001Z"
   },
   {
    "duration": 754,
    "start_time": "2025-01-28T05:10:01.006Z"
   },
   {
    "duration": 699,
    "start_time": "2025-01-28T05:10:01.766Z"
   },
   {
    "duration": 19,
    "start_time": "2025-01-28T05:10:02.467Z"
   },
   {
    "duration": 5,
    "start_time": "2025-01-28T05:10:02.489Z"
   },
   {
    "duration": 6,
    "start_time": "2025-01-28T05:10:02.495Z"
   },
   {
    "duration": 5,
    "start_time": "2025-01-28T05:10:02.503Z"
   },
   {
    "duration": 13,
    "start_time": "2025-01-28T05:10:02.509Z"
   },
   {
    "duration": 7,
    "start_time": "2025-01-28T05:10:02.524Z"
   },
   {
    "duration": 8,
    "start_time": "2025-01-28T05:10:02.533Z"
   },
   {
    "duration": 46,
    "start_time": "2025-01-28T05:10:02.542Z"
   },
   {
    "duration": 5,
    "start_time": "2025-01-28T05:10:02.590Z"
   },
   {
    "duration": 4,
    "start_time": "2025-01-28T05:10:02.598Z"
   },
   {
    "duration": 9,
    "start_time": "2025-01-28T05:10:02.604Z"
   },
   {
    "duration": 2,
    "start_time": "2025-01-28T05:10:02.615Z"
   },
   {
    "duration": 11,
    "start_time": "2025-01-28T05:10:02.619Z"
   },
   {
    "duration": 14,
    "start_time": "2025-01-28T05:10:02.632Z"
   },
   {
    "duration": 63,
    "start_time": "2025-01-28T05:10:02.648Z"
   },
   {
    "duration": 27,
    "start_time": "2025-01-28T05:10:02.713Z"
   },
   {
    "duration": 7,
    "start_time": "2025-01-28T05:10:02.742Z"
   },
   {
    "duration": 4,
    "start_time": "2025-01-28T05:10:02.751Z"
   },
   {
    "duration": 31,
    "start_time": "2025-01-28T05:10:02.757Z"
   },
   {
    "duration": 3,
    "start_time": "2025-01-28T05:10:02.790Z"
   },
   {
    "duration": 182,
    "start_time": "2025-01-28T05:10:02.794Z"
   },
   {
    "duration": 4,
    "start_time": "2025-01-28T05:10:02.986Z"
   },
   {
    "duration": 6,
    "start_time": "2025-01-28T05:10:02.992Z"
   },
   {
    "duration": 315,
    "start_time": "2025-01-28T05:10:03.000Z"
   },
   {
    "duration": 3,
    "start_time": "2025-01-28T05:10:03.316Z"
   },
   {
    "duration": 7,
    "start_time": "2025-01-28T05:10:03.320Z"
   },
   {
    "duration": 145,
    "start_time": "2025-01-28T05:10:03.328Z"
   },
   {
    "duration": 2,
    "start_time": "2025-01-28T05:10:03.475Z"
   },
   {
    "duration": 20705,
    "start_time": "2025-01-28T05:10:03.487Z"
   },
   {
    "duration": 187,
    "start_time": "2025-01-28T05:10:24.194Z"
   },
   {
    "duration": 3,
    "start_time": "2025-01-28T05:10:24.383Z"
   },
   {
    "duration": 9,
    "start_time": "2025-01-28T05:10:24.388Z"
   },
   {
    "duration": 201,
    "start_time": "2025-01-28T05:10:24.398Z"
   },
   {
    "duration": 188,
    "start_time": "2025-01-28T05:10:24.600Z"
   },
   {
    "duration": 17,
    "start_time": "2025-01-28T05:10:24.790Z"
   },
   {
    "duration": 202,
    "start_time": "2025-01-28T05:10:24.809Z"
   },
   {
    "duration": 96,
    "start_time": "2025-01-28T05:10:25.013Z"
   },
   {
    "duration": 6,
    "start_time": "2025-01-28T05:10:25.111Z"
   },
   {
    "duration": 220,
    "start_time": "2025-01-28T05:10:25.118Z"
   },
   {
    "duration": 228,
    "start_time": "2025-01-28T05:10:25.339Z"
   },
   {
    "duration": 178,
    "start_time": "2025-01-28T05:10:25.569Z"
   },
   {
    "duration": 129,
    "start_time": "2025-01-28T05:10:25.750Z"
   },
   {
    "duration": 14,
    "start_time": "2025-01-28T05:10:25.887Z"
   },
   {
    "duration": 260,
    "start_time": "2025-01-28T05:10:25.903Z"
   },
   {
    "duration": 111,
    "start_time": "2025-01-28T05:10:26.165Z"
   },
   {
    "duration": 51,
    "start_time": "2025-01-28T05:10:26.286Z"
   },
   {
    "duration": 40,
    "start_time": "2025-01-28T05:11:44.514Z"
   },
   {
    "duration": 27,
    "start_time": "2025-01-28T05:13:31.639Z"
   },
   {
    "duration": 27,
    "start_time": "2025-01-28T05:13:49.429Z"
   },
   {
    "duration": 127,
    "start_time": "2025-01-28T05:14:34.179Z"
   },
   {
    "duration": 12,
    "start_time": "2025-01-28T05:14:48.427Z"
   },
   {
    "duration": 202,
    "start_time": "2025-01-28T05:15:46.260Z"
   },
   {
    "duration": 158,
    "start_time": "2025-01-29T00:37:14.593Z"
   },
   {
    "duration": 326,
    "start_time": "2025-01-29T00:37:20.198Z"
   },
   {
    "duration": 1001,
    "start_time": "2025-01-29T00:37:20.526Z"
   },
   {
    "duration": 13,
    "start_time": "2025-01-29T00:37:21.529Z"
   },
   {
    "duration": 7,
    "start_time": "2025-01-29T00:37:21.544Z"
   },
   {
    "duration": 20,
    "start_time": "2025-01-29T00:37:21.553Z"
   },
   {
    "duration": 4,
    "start_time": "2025-01-29T00:37:21.576Z"
   },
   {
    "duration": 29,
    "start_time": "2025-01-29T00:37:21.585Z"
   },
   {
    "duration": 9,
    "start_time": "2025-01-29T00:37:21.617Z"
   },
   {
    "duration": 3,
    "start_time": "2025-01-29T00:37:21.628Z"
   },
   {
    "duration": 109,
    "start_time": "2025-01-29T00:37:21.635Z"
   },
   {
    "duration": 88,
    "start_time": "2025-01-29T00:37:21.745Z"
   },
   {
    "duration": 16,
    "start_time": "2025-01-29T00:37:21.835Z"
   },
   {
    "duration": 21,
    "start_time": "2025-01-29T00:37:21.853Z"
   },
   {
    "duration": 96,
    "start_time": "2025-01-29T00:37:21.875Z"
   },
   {
    "duration": 106,
    "start_time": "2025-01-29T00:37:21.972Z"
   },
   {
    "duration": 40,
    "start_time": "2025-01-29T00:37:22.080Z"
   },
   {
    "duration": 12,
    "start_time": "2025-01-29T00:37:22.121Z"
   },
   {
    "duration": 4,
    "start_time": "2025-01-29T00:37:22.134Z"
   },
   {
    "duration": 4,
    "start_time": "2025-01-29T00:37:22.140Z"
   },
   {
    "duration": 27,
    "start_time": "2025-01-29T00:37:22.171Z"
   },
   {
    "duration": 4,
    "start_time": "2025-01-29T00:37:22.200Z"
   },
   {
    "duration": 21,
    "start_time": "2025-01-29T00:37:22.206Z"
   },
   {
    "duration": 3,
    "start_time": "2025-01-29T00:37:22.229Z"
   },
   {
    "duration": 5,
    "start_time": "2025-01-29T00:37:22.233Z"
   },
   {
    "duration": 3,
    "start_time": "2025-01-29T00:37:22.271Z"
   },
   {
    "duration": 5,
    "start_time": "2025-01-29T00:37:22.276Z"
   },
   {
    "duration": 3,
    "start_time": "2025-01-29T00:37:22.283Z"
   },
   {
    "duration": 768,
    "start_time": "2025-01-29T00:37:22.292Z"
   },
   {
    "duration": 776,
    "start_time": "2025-01-29T00:37:23.061Z"
   },
   {
    "duration": 7,
    "start_time": "2025-01-29T00:37:23.839Z"
   },
   {
    "duration": 6,
    "start_time": "2025-01-29T00:37:23.848Z"
   },
   {
    "duration": 6,
    "start_time": "2025-01-29T00:37:23.870Z"
   },
   {
    "duration": 7,
    "start_time": "2025-01-29T00:37:23.877Z"
   },
   {
    "duration": 12,
    "start_time": "2025-01-29T00:37:23.885Z"
   },
   {
    "duration": 8,
    "start_time": "2025-01-29T00:37:23.898Z"
   },
   {
    "duration": 8,
    "start_time": "2025-01-29T00:37:23.908Z"
   },
   {
    "duration": 5,
    "start_time": "2025-01-29T00:37:23.917Z"
   },
   {
    "duration": 4,
    "start_time": "2025-01-29T00:37:23.924Z"
   },
   {
    "duration": 45,
    "start_time": "2025-01-29T00:37:23.930Z"
   },
   {
    "duration": 9,
    "start_time": "2025-01-29T00:37:23.976Z"
   },
   {
    "duration": 3,
    "start_time": "2025-01-29T00:37:23.987Z"
   },
   {
    "duration": 15,
    "start_time": "2025-01-29T00:37:23.992Z"
   },
   {
    "duration": 15,
    "start_time": "2025-01-29T00:37:24.008Z"
   },
   {
    "duration": 58,
    "start_time": "2025-01-29T00:37:24.025Z"
   },
   {
    "duration": 25,
    "start_time": "2025-01-29T00:37:24.085Z"
   },
   {
    "duration": 7,
    "start_time": "2025-01-29T00:37:24.111Z"
   },
   {
    "duration": 4,
    "start_time": "2025-01-29T00:37:24.120Z"
   },
   {
    "duration": 5,
    "start_time": "2025-01-29T00:37:24.126Z"
   },
   {
    "duration": 4,
    "start_time": "2025-01-29T00:37:24.134Z"
   },
   {
    "duration": 182,
    "start_time": "2025-01-29T00:37:24.171Z"
   },
   {
    "duration": 4,
    "start_time": "2025-01-29T00:37:24.354Z"
   },
   {
    "duration": 11,
    "start_time": "2025-01-29T00:37:24.360Z"
   },
   {
    "duration": 2225,
    "start_time": "2025-01-29T00:37:24.372Z"
   },
   {
    "duration": 2,
    "start_time": "2025-01-29T00:37:26.599Z"
   },
   {
    "duration": 7,
    "start_time": "2025-01-29T00:37:26.603Z"
   },
   {
    "duration": 156,
    "start_time": "2025-01-29T00:37:26.611Z"
   },
   {
    "duration": 3,
    "start_time": "2025-01-29T00:37:26.768Z"
   },
   {
    "duration": 21901,
    "start_time": "2025-01-29T00:37:26.774Z"
   },
   {
    "duration": 189,
    "start_time": "2025-01-29T00:37:48.677Z"
   },
   {
    "duration": 3,
    "start_time": "2025-01-29T00:37:48.871Z"
   },
   {
    "duration": 10,
    "start_time": "2025-01-29T00:37:48.875Z"
   },
   {
    "duration": 194,
    "start_time": "2025-01-29T00:37:48.886Z"
   },
   {
    "duration": 200,
    "start_time": "2025-01-29T00:37:49.082Z"
   },
   {
    "duration": 18,
    "start_time": "2025-01-29T00:37:49.284Z"
   },
   {
    "duration": 214,
    "start_time": "2025-01-29T00:37:49.304Z"
   },
   {
    "duration": 94,
    "start_time": "2025-01-29T00:37:49.520Z"
   },
   {
    "duration": 6,
    "start_time": "2025-01-29T00:37:49.616Z"
   },
   {
    "duration": 239,
    "start_time": "2025-01-29T00:37:49.623Z"
   },
   {
    "duration": 250,
    "start_time": "2025-01-29T00:37:49.864Z"
   },
   {
    "duration": 179,
    "start_time": "2025-01-29T00:37:50.116Z"
   },
   {
    "duration": 105,
    "start_time": "2025-01-29T00:37:50.296Z"
   },
   {
    "duration": 12,
    "start_time": "2025-01-29T00:37:50.403Z"
   },
   {
    "duration": 217,
    "start_time": "2025-01-29T00:37:50.416Z"
   },
   {
    "duration": 163,
    "start_time": "2025-01-29T00:37:50.635Z"
   },
   {
    "duration": 0,
    "start_time": "2025-01-29T00:37:50.800Z"
   },
   {
    "duration": 0,
    "start_time": "2025-01-29T00:37:50.801Z"
   },
   {
    "duration": 0,
    "start_time": "2025-01-29T00:37:50.802Z"
   },
   {
    "duration": 13,
    "start_time": "2025-01-29T00:38:35.753Z"
   },
   {
    "duration": 2,
    "start_time": "2025-01-29T00:38:48.576Z"
   },
   {
    "duration": 875,
    "start_time": "2025-01-29T00:38:48.581Z"
   },
   {
    "duration": 14,
    "start_time": "2025-01-29T00:38:49.458Z"
   },
   {
    "duration": 6,
    "start_time": "2025-01-29T00:38:49.474Z"
   },
   {
    "duration": 10,
    "start_time": "2025-01-29T00:38:49.482Z"
   },
   {
    "duration": 3,
    "start_time": "2025-01-29T00:38:49.494Z"
   },
   {
    "duration": 20,
    "start_time": "2025-01-29T00:38:49.499Z"
   },
   {
    "duration": 9,
    "start_time": "2025-01-29T00:38:49.521Z"
   },
   {
    "duration": 3,
    "start_time": "2025-01-29T00:38:49.532Z"
   },
   {
    "duration": 104,
    "start_time": "2025-01-29T00:38:49.536Z"
   },
   {
    "duration": 75,
    "start_time": "2025-01-29T00:38:49.644Z"
   },
   {
    "duration": 13,
    "start_time": "2025-01-29T00:38:49.721Z"
   },
   {
    "duration": 6,
    "start_time": "2025-01-29T00:38:49.737Z"
   },
   {
    "duration": 95,
    "start_time": "2025-01-29T00:38:49.744Z"
   },
   {
    "duration": 76,
    "start_time": "2025-01-29T00:38:49.841Z"
   },
   {
    "duration": 37,
    "start_time": "2025-01-29T00:38:49.919Z"
   },
   {
    "duration": 23,
    "start_time": "2025-01-29T00:38:49.957Z"
   },
   {
    "duration": 4,
    "start_time": "2025-01-29T00:38:49.982Z"
   },
   {
    "duration": 3,
    "start_time": "2025-01-29T00:38:49.988Z"
   },
   {
    "duration": 28,
    "start_time": "2025-01-29T00:38:49.993Z"
   },
   {
    "duration": 4,
    "start_time": "2025-01-29T00:38:50.023Z"
   },
   {
    "duration": 49,
    "start_time": "2025-01-29T00:38:50.028Z"
   },
   {
    "duration": 3,
    "start_time": "2025-01-29T00:38:50.079Z"
   },
   {
    "duration": 4,
    "start_time": "2025-01-29T00:38:50.084Z"
   },
   {
    "duration": 4,
    "start_time": "2025-01-29T00:38:50.089Z"
   },
   {
    "duration": 3,
    "start_time": "2025-01-29T00:38:50.095Z"
   },
   {
    "duration": 4,
    "start_time": "2025-01-29T00:38:50.100Z"
   },
   {
    "duration": 737,
    "start_time": "2025-01-29T00:38:50.106Z"
   },
   {
    "duration": 764,
    "start_time": "2025-01-29T00:38:50.848Z"
   },
   {
    "duration": 12,
    "start_time": "2025-01-29T00:38:51.616Z"
   },
   {
    "duration": 8,
    "start_time": "2025-01-29T00:38:51.632Z"
   },
   {
    "duration": 6,
    "start_time": "2025-01-29T00:38:51.644Z"
   },
   {
    "duration": 18,
    "start_time": "2025-01-29T00:38:51.651Z"
   },
   {
    "duration": 13,
    "start_time": "2025-01-29T00:38:51.671Z"
   },
   {
    "duration": 8,
    "start_time": "2025-01-29T00:38:51.686Z"
   },
   {
    "duration": 9,
    "start_time": "2025-01-29T00:38:51.695Z"
   },
   {
    "duration": 6,
    "start_time": "2025-01-29T00:38:51.705Z"
   },
   {
    "duration": 6,
    "start_time": "2025-01-29T00:38:51.712Z"
   },
   {
    "duration": 5,
    "start_time": "2025-01-29T00:38:51.720Z"
   },
   {
    "duration": 45,
    "start_time": "2025-01-29T00:38:51.727Z"
   },
   {
    "duration": 3,
    "start_time": "2025-01-29T00:38:51.775Z"
   },
   {
    "duration": 12,
    "start_time": "2025-01-29T00:38:51.780Z"
   },
   {
    "duration": 15,
    "start_time": "2025-01-29T00:38:51.793Z"
   },
   {
    "duration": 25,
    "start_time": "2025-01-29T00:38:51.810Z"
   },
   {
    "duration": 54,
    "start_time": "2025-01-29T00:38:51.837Z"
   },
   {
    "duration": 7,
    "start_time": "2025-01-29T00:38:51.893Z"
   },
   {
    "duration": 5,
    "start_time": "2025-01-29T00:38:51.901Z"
   },
   {
    "duration": 5,
    "start_time": "2025-01-29T00:38:51.907Z"
   },
   {
    "duration": 3,
    "start_time": "2025-01-29T00:38:51.914Z"
   },
   {
    "duration": 195,
    "start_time": "2025-01-29T00:38:51.919Z"
   },
   {
    "duration": 4,
    "start_time": "2025-01-29T00:38:52.117Z"
   },
   {
    "duration": 6,
    "start_time": "2025-01-29T00:38:52.123Z"
   },
   {
    "duration": 307,
    "start_time": "2025-01-29T00:38:52.131Z"
   },
   {
    "duration": 4,
    "start_time": "2025-01-29T00:38:52.440Z"
   },
   {
    "duration": 7,
    "start_time": "2025-01-29T00:38:52.446Z"
   },
   {
    "duration": 214,
    "start_time": "2025-01-29T00:38:52.454Z"
   },
   {
    "duration": 3,
    "start_time": "2025-01-29T00:38:52.670Z"
   },
   {
    "duration": 21815,
    "start_time": "2025-01-29T00:38:52.675Z"
   },
   {
    "duration": 185,
    "start_time": "2025-01-29T00:39:14.492Z"
   },
   {
    "duration": 2,
    "start_time": "2025-01-29T00:39:14.679Z"
   },
   {
    "duration": 10,
    "start_time": "2025-01-29T00:39:14.683Z"
   },
   {
    "duration": 200,
    "start_time": "2025-01-29T00:39:14.695Z"
   },
   {
    "duration": 192,
    "start_time": "2025-01-29T00:39:14.896Z"
   },
   {
    "duration": 23,
    "start_time": "2025-01-29T00:39:15.092Z"
   },
   {
    "duration": 224,
    "start_time": "2025-01-29T00:39:15.117Z"
   },
   {
    "duration": 97,
    "start_time": "2025-01-29T00:39:15.343Z"
   },
   {
    "duration": 5,
    "start_time": "2025-01-29T00:39:15.442Z"
   },
   {
    "duration": 218,
    "start_time": "2025-01-29T00:39:15.449Z"
   },
   {
    "duration": 243,
    "start_time": "2025-01-29T00:39:15.670Z"
   },
   {
    "duration": 166,
    "start_time": "2025-01-29T00:39:15.915Z"
   },
   {
    "duration": 107,
    "start_time": "2025-01-29T00:39:16.082Z"
   },
   {
    "duration": 12,
    "start_time": "2025-01-29T00:39:16.190Z"
   },
   {
    "duration": 266,
    "start_time": "2025-01-29T00:39:16.204Z"
   },
   {
    "duration": 137,
    "start_time": "2025-01-29T00:39:16.472Z"
   },
   {
    "duration": 0,
    "start_time": "2025-01-29T00:39:16.611Z"
   },
   {
    "duration": 0,
    "start_time": "2025-01-29T00:39:16.612Z"
   },
   {
    "duration": 109,
    "start_time": "2025-01-29T00:39:27.778Z"
   },
   {
    "duration": 27,
    "start_time": "2025-01-29T00:39:41.584Z"
   },
   {
    "duration": 12,
    "start_time": "2025-01-29T00:39:44.999Z"
   },
   {
    "duration": 212,
    "start_time": "2025-01-29T00:39:49.508Z"
   },
   {
    "duration": 1134,
    "start_time": "2025-01-29T00:46:27.406Z"
   },
   {
    "duration": 7,
    "start_time": "2025-01-29T00:46:29.978Z"
   },
   {
    "duration": 3,
    "start_time": "2025-01-29T00:46:41.015Z"
   },
   {
    "duration": 5,
    "start_time": "2025-01-29T00:48:20.937Z"
   },
   {
    "duration": 302,
    "start_time": "2025-01-29T00:48:37.523Z"
   },
   {
    "duration": 14,
    "start_time": "2025-01-29T00:49:18.998Z"
   },
   {
    "duration": 7,
    "start_time": "2025-01-29T00:49:27.543Z"
   },
   {
    "duration": 5,
    "start_time": "2025-01-29T00:53:05.953Z"
   },
   {
    "duration": 4,
    "start_time": "2025-01-29T00:53:27.138Z"
   },
   {
    "duration": 4,
    "start_time": "2025-01-29T00:59:12.628Z"
   },
   {
    "duration": 109,
    "start_time": "2025-01-29T01:01:19.587Z"
   },
   {
    "duration": 856,
    "start_time": "2025-01-29T01:01:44.181Z"
   },
   {
    "duration": 135,
    "start_time": "2025-01-29T01:04:51.358Z"
   },
   {
    "duration": 216,
    "start_time": "2025-01-29T01:23:04.564Z"
   },
   {
    "duration": 7,
    "start_time": "2025-01-29T01:23:34.374Z"
   },
   {
    "duration": 15,
    "start_time": "2025-01-29T01:24:03.247Z"
   },
   {
    "duration": 4,
    "start_time": "2025-01-29T01:29:49.110Z"
   },
   {
    "duration": 5,
    "start_time": "2025-01-29T01:30:08.609Z"
   },
   {
    "duration": 233,
    "start_time": "2025-01-29T01:31:29.219Z"
   },
   {
    "duration": 13,
    "start_time": "2025-01-29T01:49:35.438Z"
   },
   {
    "duration": 277,
    "start_time": "2025-01-29T01:49:45.423Z"
   },
   {
    "duration": 13,
    "start_time": "2025-01-29T01:49:47.264Z"
   },
   {
    "duration": 146,
    "start_time": "2025-01-29T01:50:31.186Z"
   },
   {
    "duration": 4,
    "start_time": "2025-01-29T01:52:54.151Z"
   },
   {
    "duration": 4,
    "start_time": "2025-01-29T01:53:12.501Z"
   },
   {
    "duration": 3,
    "start_time": "2025-01-29T01:53:20.894Z"
   },
   {
    "duration": 156,
    "start_time": "2025-01-29T01:54:22.129Z"
   },
   {
    "duration": 4,
    "start_time": "2025-01-29T01:55:46.237Z"
   },
   {
    "duration": 5,
    "start_time": "2025-01-29T01:56:01.716Z"
   },
   {
    "duration": 169,
    "start_time": "2025-01-29T01:56:08.031Z"
   },
   {
    "duration": 168,
    "start_time": "2025-01-29T01:56:31.422Z"
   },
   {
    "duration": 119,
    "start_time": "2025-01-29T01:57:58.935Z"
   },
   {
    "duration": 12,
    "start_time": "2025-01-29T01:58:11.183Z"
   },
   {
    "duration": 205,
    "start_time": "2025-01-29T01:58:25.722Z"
   },
   {
    "duration": 201,
    "start_time": "2025-01-29T01:59:17.757Z"
   },
   {
    "duration": 11,
    "start_time": "2025-01-29T02:00:25.906Z"
   },
   {
    "duration": 12,
    "start_time": "2025-01-29T02:01:00.448Z"
   },
   {
    "duration": 202,
    "start_time": "2025-01-29T02:01:04.915Z"
   },
   {
    "duration": 30,
    "start_time": "2025-01-29T02:02:34.940Z"
   },
   {
    "duration": 13,
    "start_time": "2025-01-29T02:02:48.938Z"
   },
   {
    "duration": 222,
    "start_time": "2025-01-29T02:03:06.515Z"
   },
   {
    "duration": 12,
    "start_time": "2025-01-29T02:03:54.204Z"
   },
   {
    "duration": 217,
    "start_time": "2025-01-29T02:04:22.456Z"
   },
   {
    "duration": 16,
    "start_time": "2025-01-29T02:05:48.729Z"
   },
   {
    "duration": 15,
    "start_time": "2025-01-29T02:06:17.931Z"
   },
   {
    "duration": 20,
    "start_time": "2025-01-29T02:06:57.279Z"
   },
   {
    "duration": 6,
    "start_time": "2025-01-29T02:18:18.585Z"
   },
   {
    "duration": 8,
    "start_time": "2025-01-29T02:19:56.041Z"
   },
   {
    "duration": 302,
    "start_time": "2025-01-29T02:20:16.637Z"
   },
   {
    "duration": 6,
    "start_time": "2025-01-29T02:21:11.243Z"
   },
   {
    "duration": 131,
    "start_time": "2025-01-29T02:21:28.932Z"
   },
   {
    "duration": 22515,
    "start_time": "2025-01-29T02:22:16.630Z"
   },
   {
    "duration": 184,
    "start_time": "2025-01-29T02:22:39.147Z"
   },
   {
    "duration": 8,
    "start_time": "2025-01-29T02:24:14.417Z"
   },
   {
    "duration": 225,
    "start_time": "2025-01-29T02:24:16.657Z"
   },
   {
    "duration": 208,
    "start_time": "2025-01-29T02:24:36.539Z"
   },
   {
    "duration": 17,
    "start_time": "2025-01-29T02:25:58.247Z"
   },
   {
    "duration": 199,
    "start_time": "2025-01-29T02:26:02.975Z"
   },
   {
    "duration": 85,
    "start_time": "2025-01-29T02:27:21.058Z"
   },
   {
    "duration": 6,
    "start_time": "2025-01-29T02:27:43.514Z"
   },
   {
    "duration": 207,
    "start_time": "2025-01-29T02:28:08.014Z"
   },
   {
    "duration": 383,
    "start_time": "2025-01-29T02:28:21.311Z"
   },
   {
    "duration": 206,
    "start_time": "2025-01-29T02:28:32.392Z"
   },
   {
    "duration": 73,
    "start_time": "2025-01-29T02:28:53.117Z"
   },
   {
    "duration": 216,
    "start_time": "2025-01-29T02:29:08.227Z"
   },
   {
    "duration": 7,
    "start_time": "2025-01-29T02:30:48.875Z"
   },
   {
    "duration": 8,
    "start_time": "2025-01-29T02:36:19.802Z"
   },
   {
    "duration": 12,
    "start_time": "2025-01-29T02:36:36.585Z"
   },
   {
    "duration": 12,
    "start_time": "2025-01-29T02:38:41.382Z"
   },
   {
    "duration": 4,
    "start_time": "2025-01-29T02:39:11.075Z"
   },
   {
    "duration": 13,
    "start_time": "2025-01-29T02:40:15.267Z"
   },
   {
    "duration": 12,
    "start_time": "2025-01-29T02:41:18.029Z"
   },
   {
    "duration": 4,
    "start_time": "2025-01-29T02:42:24.500Z"
   },
   {
    "duration": 229,
    "start_time": "2025-01-29T02:42:41.421Z"
   },
   {
    "duration": 35,
    "start_time": "2025-01-29T02:42:53.168Z"
   },
   {
    "duration": 36,
    "start_time": "2025-01-29T02:42:58.464Z"
   },
   {
    "duration": 10,
    "start_time": "2025-01-29T02:43:24.805Z"
   },
   {
    "duration": 10,
    "start_time": "2025-01-29T02:43:52.124Z"
   },
   {
    "duration": 9,
    "start_time": "2025-01-29T02:44:59.569Z"
   },
   {
    "duration": 7,
    "start_time": "2025-01-29T02:45:58.096Z"
   },
   {
    "duration": 10,
    "start_time": "2025-01-29T02:46:11.203Z"
   },
   {
    "duration": 7,
    "start_time": "2025-01-29T02:46:14.781Z"
   },
   {
    "duration": 9,
    "start_time": "2025-01-29T02:48:21.158Z"
   },
   {
    "duration": 66,
    "start_time": "2025-01-29T02:49:52.452Z"
   },
   {
    "duration": 72,
    "start_time": "2025-01-29T03:11:16.899Z"
   },
   {
    "duration": 6,
    "start_time": "2025-01-29T03:15:28.146Z"
   },
   {
    "duration": 8,
    "start_time": "2025-01-29T03:15:33.674Z"
   },
   {
    "duration": 7,
    "start_time": "2025-01-29T03:15:42.648Z"
   },
   {
    "duration": 6,
    "start_time": "2025-01-29T03:17:01.027Z"
   },
   {
    "duration": 7,
    "start_time": "2025-01-29T03:17:40.705Z"
   },
   {
    "duration": 7,
    "start_time": "2025-01-29T03:17:45.940Z"
   },
   {
    "duration": 6,
    "start_time": "2025-01-29T03:18:01.089Z"
   },
   {
    "duration": 58,
    "start_time": "2025-01-29T03:26:16.981Z"
   },
   {
    "duration": 64,
    "start_time": "2025-01-29T03:26:34.695Z"
   },
   {
    "duration": 5,
    "start_time": "2025-01-29T03:31:07.599Z"
   },
   {
    "duration": 61,
    "start_time": "2025-01-29T03:35:25.447Z"
   },
   {
    "duration": 73,
    "start_time": "2025-01-29T03:37:31.723Z"
   },
   {
    "duration": 9,
    "start_time": "2025-01-29T03:42:05.673Z"
   },
   {
    "duration": 9,
    "start_time": "2025-01-29T03:42:16.517Z"
   },
   {
    "duration": 4,
    "start_time": "2025-01-29T03:43:13.957Z"
   },
   {
    "duration": 4,
    "start_time": "2025-01-29T03:43:25.566Z"
   },
   {
    "duration": 8,
    "start_time": "2025-01-29T03:43:42.607Z"
   },
   {
    "duration": 8,
    "start_time": "2025-01-29T03:44:01.730Z"
   },
   {
    "duration": 4,
    "start_time": "2025-01-29T03:45:11.446Z"
   },
   {
    "duration": 3,
    "start_time": "2025-01-29T03:45:17.149Z"
   },
   {
    "duration": 12,
    "start_time": "2025-01-29T03:45:52.423Z"
   },
   {
    "duration": 11,
    "start_time": "2025-01-29T03:47:00.908Z"
   },
   {
    "duration": 10,
    "start_time": "2025-01-29T03:47:37.906Z"
   },
   {
    "duration": 10,
    "start_time": "2025-01-29T03:48:40.607Z"
   },
   {
    "duration": 8,
    "start_time": "2025-01-29T03:49:11.414Z"
   },
   {
    "duration": 8,
    "start_time": "2025-01-29T03:52:32.887Z"
   },
   {
    "duration": 14,
    "start_time": "2025-01-29T03:58:55.373Z"
   },
   {
    "duration": 18,
    "start_time": "2025-01-29T03:59:53.079Z"
   },
   {
    "duration": 5,
    "start_time": "2025-01-29T04:00:08.729Z"
   },
   {
    "duration": 16,
    "start_time": "2025-01-29T04:02:13.722Z"
   },
   {
    "duration": 5,
    "start_time": "2025-01-29T04:02:24.341Z"
   },
   {
    "duration": 17,
    "start_time": "2025-01-29T04:08:55.458Z"
   },
   {
    "duration": 15,
    "start_time": "2025-01-29T04:09:52.527Z"
   },
   {
    "duration": 7,
    "start_time": "2025-01-29T04:10:08.787Z"
   },
   {
    "duration": 15,
    "start_time": "2025-01-29T04:10:20.419Z"
   },
   {
    "duration": 17,
    "start_time": "2025-01-29T04:10:25.865Z"
   },
   {
    "duration": 3,
    "start_time": "2025-01-29T04:15:45.253Z"
   },
   {
    "duration": 13,
    "start_time": "2025-01-29T04:16:48.247Z"
   },
   {
    "duration": 12,
    "start_time": "2025-01-29T04:17:01.888Z"
   },
   {
    "duration": 3,
    "start_time": "2025-01-29T04:18:50.387Z"
   },
   {
    "duration": 4,
    "start_time": "2025-01-29T04:20:21.993Z"
   },
   {
    "duration": 660,
    "start_time": "2025-01-29T04:21:53.218Z"
   },
   {
    "duration": 649,
    "start_time": "2025-01-29T04:22:09.121Z"
   },
   {
    "duration": 6,
    "start_time": "2025-01-29T04:24:24.389Z"
   },
   {
    "duration": 6,
    "start_time": "2025-01-29T04:24:30.747Z"
   },
   {
    "duration": 155,
    "start_time": "2025-01-29T04:26:31.327Z"
   },
   {
    "duration": 12,
    "start_time": "2025-01-29T04:26:52.386Z"
   },
   {
    "duration": 10,
    "start_time": "2025-01-29T04:33:15.500Z"
   },
   {
    "duration": 9,
    "start_time": "2025-01-29T04:35:21.621Z"
   },
   {
    "duration": 5,
    "start_time": "2025-01-29T04:36:40.669Z"
   },
   {
    "duration": 8,
    "start_time": "2025-01-29T04:37:08.602Z"
   },
   {
    "duration": 9,
    "start_time": "2025-01-29T04:37:28.909Z"
   },
   {
    "duration": 5,
    "start_time": "2025-01-29T04:37:34.580Z"
   },
   {
    "duration": 9,
    "start_time": "2025-01-29T04:37:37.615Z"
   },
   {
    "duration": 6,
    "start_time": "2025-01-29T04:37:45.107Z"
   },
   {
    "duration": 6,
    "start_time": "2025-01-29T04:37:47.793Z"
   },
   {
    "duration": 5,
    "start_time": "2025-01-29T04:38:09.438Z"
   },
   {
    "duration": 6,
    "start_time": "2025-01-29T04:38:22.287Z"
   },
   {
    "duration": 654,
    "start_time": "2025-01-29T04:38:42.832Z"
   },
   {
    "duration": 6,
    "start_time": "2025-01-29T04:38:47.840Z"
   },
   {
    "duration": 6,
    "start_time": "2025-01-29T04:38:52.077Z"
   },
   {
    "duration": 5,
    "start_time": "2025-01-29T04:38:55.768Z"
   },
   {
    "duration": 9,
    "start_time": "2025-01-29T04:39:16.271Z"
   },
   {
    "duration": 3,
    "start_time": "2025-01-29T04:39:27.304Z"
   },
   {
    "duration": 804,
    "start_time": "2025-01-29T04:39:27.311Z"
   },
   {
    "duration": 11,
    "start_time": "2025-01-29T04:39:28.117Z"
   },
   {
    "duration": 6,
    "start_time": "2025-01-29T04:39:28.129Z"
   },
   {
    "duration": 11,
    "start_time": "2025-01-29T04:39:28.138Z"
   },
   {
    "duration": 23,
    "start_time": "2025-01-29T04:39:28.151Z"
   },
   {
    "duration": 8,
    "start_time": "2025-01-29T04:39:28.176Z"
   },
   {
    "duration": 7,
    "start_time": "2025-01-29T04:39:28.186Z"
   },
   {
    "duration": 89,
    "start_time": "2025-01-29T04:39:28.194Z"
   },
   {
    "duration": 69,
    "start_time": "2025-01-29T04:39:28.285Z"
   },
   {
    "duration": 99,
    "start_time": "2025-01-29T04:39:28.371Z"
   },
   {
    "duration": 7,
    "start_time": "2025-01-29T04:39:28.471Z"
   },
   {
    "duration": 73,
    "start_time": "2025-01-29T04:39:28.480Z"
   },
   {
    "duration": 81,
    "start_time": "2025-01-29T04:39:28.555Z"
   },
   {
    "duration": 54,
    "start_time": "2025-01-29T04:39:28.638Z"
   },
   {
    "duration": 60,
    "start_time": "2025-01-29T04:39:28.694Z"
   },
   {
    "duration": 14,
    "start_time": "2025-01-29T04:39:28.756Z"
   },
   {
    "duration": 61,
    "start_time": "2025-01-29T04:39:28.772Z"
   },
   {
    "duration": 13,
    "start_time": "2025-01-29T04:39:28.835Z"
   },
   {
    "duration": 20,
    "start_time": "2025-01-29T04:39:28.850Z"
   },
   {
    "duration": 10,
    "start_time": "2025-01-29T04:39:28.872Z"
   },
   {
    "duration": 7,
    "start_time": "2025-01-29T04:39:28.883Z"
   },
   {
    "duration": 28,
    "start_time": "2025-01-29T04:39:28.892Z"
   },
   {
    "duration": 17,
    "start_time": "2025-01-29T04:39:28.921Z"
   },
   {
    "duration": 33,
    "start_time": "2025-01-29T04:39:28.940Z"
   },
   {
    "duration": 19,
    "start_time": "2025-01-29T04:39:28.974Z"
   },
   {
    "duration": 4,
    "start_time": "2025-01-29T04:39:28.995Z"
   },
   {
    "duration": 4,
    "start_time": "2025-01-29T04:39:29.001Z"
   },
   {
    "duration": 3,
    "start_time": "2025-01-29T04:39:29.008Z"
   },
   {
    "duration": 5,
    "start_time": "2025-01-29T04:39:29.012Z"
   },
   {
    "duration": 4,
    "start_time": "2025-01-29T04:39:29.018Z"
   },
   {
    "duration": 746,
    "start_time": "2025-01-29T04:39:29.024Z"
   },
   {
    "duration": 718,
    "start_time": "2025-01-29T04:39:29.772Z"
   },
   {
    "duration": 7,
    "start_time": "2025-01-29T04:39:30.492Z"
   },
   {
    "duration": 5,
    "start_time": "2025-01-29T04:39:30.501Z"
   },
   {
    "duration": 9,
    "start_time": "2025-01-29T04:39:35.556Z"
   },
   {
    "duration": 9,
    "start_time": "2025-01-29T04:42:07.870Z"
   },
   {
    "duration": 6,
    "start_time": "2025-01-29T04:42:11.925Z"
   },
   {
    "duration": 6,
    "start_time": "2025-01-29T04:42:17.502Z"
   },
   {
    "duration": 5,
    "start_time": "2025-01-29T04:43:06.425Z"
   },
   {
    "duration": 5,
    "start_time": "2025-01-29T04:43:12.569Z"
   },
   {
    "duration": 6,
    "start_time": "2025-01-29T04:43:19.747Z"
   },
   {
    "duration": 2,
    "start_time": "2025-01-29T04:43:26.562Z"
   },
   {
    "duration": 862,
    "start_time": "2025-01-29T04:43:26.567Z"
   },
   {
    "duration": 10,
    "start_time": "2025-01-29T04:43:27.432Z"
   },
   {
    "duration": 6,
    "start_time": "2025-01-29T04:43:27.444Z"
   },
   {
    "duration": 21,
    "start_time": "2025-01-29T04:43:27.452Z"
   },
   {
    "duration": 7,
    "start_time": "2025-01-29T04:43:27.475Z"
   },
   {
    "duration": 9,
    "start_time": "2025-01-29T04:43:27.484Z"
   },
   {
    "duration": 7,
    "start_time": "2025-01-29T04:43:27.495Z"
   },
   {
    "duration": 90,
    "start_time": "2025-01-29T04:43:27.504Z"
   },
   {
    "duration": 77,
    "start_time": "2025-01-29T04:43:27.596Z"
   },
   {
    "duration": 74,
    "start_time": "2025-01-29T04:43:27.676Z"
   },
   {
    "duration": 19,
    "start_time": "2025-01-29T04:43:27.752Z"
   },
   {
    "duration": 66,
    "start_time": "2025-01-29T04:43:27.773Z"
   },
   {
    "duration": 72,
    "start_time": "2025-01-29T04:43:27.840Z"
   },
   {
    "duration": 36,
    "start_time": "2025-01-29T04:43:27.913Z"
   },
   {
    "duration": 71,
    "start_time": "2025-01-29T04:43:27.950Z"
   },
   {
    "duration": 4,
    "start_time": "2025-01-29T04:43:28.022Z"
   },
   {
    "duration": 84,
    "start_time": "2025-01-29T04:43:28.028Z"
   },
   {
    "duration": 12,
    "start_time": "2025-01-29T04:43:28.114Z"
   },
   {
    "duration": 5,
    "start_time": "2025-01-29T04:43:28.128Z"
   },
   {
    "duration": 8,
    "start_time": "2025-01-29T04:43:28.136Z"
   },
   {
    "duration": 30,
    "start_time": "2025-01-29T04:43:28.145Z"
   },
   {
    "duration": 28,
    "start_time": "2025-01-29T04:43:28.176Z"
   },
   {
    "duration": 16,
    "start_time": "2025-01-29T04:43:28.206Z"
   },
   {
    "duration": 5,
    "start_time": "2025-01-29T04:43:28.224Z"
   },
   {
    "duration": 47,
    "start_time": "2025-01-29T04:43:28.231Z"
   },
   {
    "duration": 4,
    "start_time": "2025-01-29T04:43:28.280Z"
   },
   {
    "duration": 4,
    "start_time": "2025-01-29T04:43:28.286Z"
   },
   {
    "duration": 3,
    "start_time": "2025-01-29T04:43:28.294Z"
   },
   {
    "duration": 4,
    "start_time": "2025-01-29T04:43:28.298Z"
   },
   {
    "duration": 3,
    "start_time": "2025-01-29T04:43:28.304Z"
   },
   {
    "duration": 710,
    "start_time": "2025-01-29T04:43:28.308Z"
   },
   {
    "duration": 675,
    "start_time": "2025-01-29T04:43:29.020Z"
   },
   {
    "duration": 8,
    "start_time": "2025-01-29T04:43:29.698Z"
   },
   {
    "duration": 6,
    "start_time": "2025-01-29T04:43:29.707Z"
   },
   {
    "duration": 9,
    "start_time": "2025-01-29T04:43:29.714Z"
   },
   {
    "duration": 6,
    "start_time": "2025-01-29T04:43:29.725Z"
   },
   {
    "duration": 6,
    "start_time": "2025-01-29T04:43:29.733Z"
   },
   {
    "duration": 13,
    "start_time": "2025-01-29T04:43:29.770Z"
   },
   {
    "duration": 8,
    "start_time": "2025-01-29T04:43:29.785Z"
   },
   {
    "duration": 8,
    "start_time": "2025-01-29T04:43:29.794Z"
   },
   {
    "duration": 4,
    "start_time": "2025-01-29T04:43:29.803Z"
   },
   {
    "duration": 5,
    "start_time": "2025-01-29T04:43:33.097Z"
   },
   {
    "duration": 36,
    "start_time": "2025-01-29T04:43:48.900Z"
   },
   {
    "duration": 38,
    "start_time": "2025-01-29T04:44:17.225Z"
   },
   {
    "duration": 35,
    "start_time": "2025-01-29T04:44:21.483Z"
   },
   {
    "duration": 40,
    "start_time": "2025-01-29T04:44:26.767Z"
   },
   {
    "duration": 6,
    "start_time": "2025-01-29T04:44:37.239Z"
   },
   {
    "duration": 2,
    "start_time": "2025-01-29T04:45:01.009Z"
   },
   {
    "duration": 6,
    "start_time": "2025-01-29T04:45:54.566Z"
   },
   {
    "duration": 7,
    "start_time": "2025-01-29T04:46:00.767Z"
   },
   {
    "duration": 8,
    "start_time": "2025-01-29T04:46:08.710Z"
   },
   {
    "duration": 8,
    "start_time": "2025-01-29T04:46:11.864Z"
   },
   {
    "duration": 7,
    "start_time": "2025-01-29T04:46:16.215Z"
   },
   {
    "duration": 3,
    "start_time": "2025-01-29T04:46:55.758Z"
   },
   {
    "duration": 6,
    "start_time": "2025-01-29T04:46:59.193Z"
   },
   {
    "duration": 6,
    "start_time": "2025-01-29T04:47:04.669Z"
   },
   {
    "duration": 38,
    "start_time": "2025-01-29T04:47:08.923Z"
   },
   {
    "duration": 14,
    "start_time": "2025-01-29T04:47:40.232Z"
   },
   {
    "duration": 6,
    "start_time": "2025-01-29T04:47:50.779Z"
   },
   {
    "duration": 6,
    "start_time": "2025-01-29T04:48:52.747Z"
   },
   {
    "duration": 6,
    "start_time": "2025-01-29T04:49:09.555Z"
   },
   {
    "duration": 6,
    "start_time": "2025-01-29T04:49:17.090Z"
   },
   {
    "duration": 13,
    "start_time": "2025-01-29T04:50:49.977Z"
   },
   {
    "duration": 2,
    "start_time": "2025-01-29T04:51:01.302Z"
   },
   {
    "duration": 813,
    "start_time": "2025-01-29T04:51:01.308Z"
   },
   {
    "duration": 10,
    "start_time": "2025-01-29T04:51:02.123Z"
   },
   {
    "duration": 7,
    "start_time": "2025-01-29T04:51:02.135Z"
   },
   {
    "duration": 27,
    "start_time": "2025-01-29T04:51:02.145Z"
   },
   {
    "duration": 6,
    "start_time": "2025-01-29T04:51:02.174Z"
   },
   {
    "duration": 7,
    "start_time": "2025-01-29T04:51:02.182Z"
   },
   {
    "duration": 8,
    "start_time": "2025-01-29T04:51:02.191Z"
   },
   {
    "duration": 83,
    "start_time": "2025-01-29T04:51:02.200Z"
   },
   {
    "duration": 66,
    "start_time": "2025-01-29T04:51:02.286Z"
   },
   {
    "duration": 89,
    "start_time": "2025-01-29T04:51:02.355Z"
   },
   {
    "duration": 6,
    "start_time": "2025-01-29T04:51:02.446Z"
   },
   {
    "duration": 82,
    "start_time": "2025-01-29T04:51:02.454Z"
   },
   {
    "duration": 73,
    "start_time": "2025-01-29T04:51:02.538Z"
   },
   {
    "duration": 35,
    "start_time": "2025-01-29T04:51:02.612Z"
   },
   {
    "duration": 63,
    "start_time": "2025-01-29T04:51:02.649Z"
   },
   {
    "duration": 3,
    "start_time": "2025-01-29T04:51:02.714Z"
   },
   {
    "duration": 74,
    "start_time": "2025-01-29T04:51:02.719Z"
   },
   {
    "duration": 12,
    "start_time": "2025-01-29T04:51:02.795Z"
   },
   {
    "duration": 4,
    "start_time": "2025-01-29T04:51:02.809Z"
   },
   {
    "duration": 9,
    "start_time": "2025-01-29T04:51:02.814Z"
   },
   {
    "duration": 7,
    "start_time": "2025-01-29T04:51:02.824Z"
   },
   {
    "duration": 56,
    "start_time": "2025-01-29T04:51:02.833Z"
   },
   {
    "duration": 16,
    "start_time": "2025-01-29T04:51:02.891Z"
   },
   {
    "duration": 4,
    "start_time": "2025-01-29T04:51:02.909Z"
   },
   {
    "duration": 16,
    "start_time": "2025-01-29T04:51:02.915Z"
   },
   {
    "duration": 4,
    "start_time": "2025-01-29T04:51:02.933Z"
   },
   {
    "duration": 33,
    "start_time": "2025-01-29T04:51:02.939Z"
   },
   {
    "duration": 3,
    "start_time": "2025-01-29T04:51:02.976Z"
   },
   {
    "duration": 4,
    "start_time": "2025-01-29T04:51:02.980Z"
   },
   {
    "duration": 4,
    "start_time": "2025-01-29T04:51:02.985Z"
   },
   {
    "duration": 697,
    "start_time": "2025-01-29T04:51:02.990Z"
   },
   {
    "duration": 700,
    "start_time": "2025-01-29T04:51:03.688Z"
   },
   {
    "duration": 8,
    "start_time": "2025-01-29T04:51:04.390Z"
   },
   {
    "duration": 6,
    "start_time": "2025-01-29T04:51:04.400Z"
   },
   {
    "duration": 9,
    "start_time": "2025-01-29T04:51:04.407Z"
   },
   {
    "duration": 6,
    "start_time": "2025-01-29T04:51:04.418Z"
   },
   {
    "duration": 5,
    "start_time": "2025-01-29T04:51:04.426Z"
   },
   {
    "duration": 45,
    "start_time": "2025-01-29T04:51:04.433Z"
   },
   {
    "duration": 13,
    "start_time": "2025-01-29T04:51:32.179Z"
   },
   {
    "duration": 157,
    "start_time": "2025-01-30T02:10:41.775Z"
   },
   {
    "duration": 329,
    "start_time": "2025-01-30T02:10:46.437Z"
   },
   {
    "duration": 1033,
    "start_time": "2025-01-30T02:10:46.769Z"
   },
   {
    "duration": 10,
    "start_time": "2025-01-30T02:10:47.804Z"
   },
   {
    "duration": 8,
    "start_time": "2025-01-30T02:10:47.817Z"
   },
   {
    "duration": 9,
    "start_time": "2025-01-30T02:10:47.828Z"
   },
   {
    "duration": 6,
    "start_time": "2025-01-30T02:10:47.840Z"
   },
   {
    "duration": 8,
    "start_time": "2025-01-30T02:10:47.848Z"
   },
   {
    "duration": 35,
    "start_time": "2025-01-30T02:10:47.858Z"
   },
   {
    "duration": 101,
    "start_time": "2025-01-30T02:10:47.895Z"
   },
   {
    "duration": 109,
    "start_time": "2025-01-30T02:10:48.000Z"
   },
   {
    "duration": 121,
    "start_time": "2025-01-30T02:10:48.112Z"
   },
   {
    "duration": 7,
    "start_time": "2025-01-30T02:10:48.235Z"
   },
   {
    "duration": 113,
    "start_time": "2025-01-30T02:10:48.244Z"
   },
   {
    "duration": 91,
    "start_time": "2025-01-30T02:10:48.359Z"
   },
   {
    "duration": 56,
    "start_time": "2025-01-30T02:10:48.452Z"
   },
   {
    "duration": 76,
    "start_time": "2025-01-30T02:10:48.510Z"
   },
   {
    "duration": 4,
    "start_time": "2025-01-30T02:10:48.588Z"
   },
   {
    "duration": 72,
    "start_time": "2025-01-30T02:10:48.594Z"
   },
   {
    "duration": 31,
    "start_time": "2025-01-30T02:10:48.668Z"
   },
   {
    "duration": 5,
    "start_time": "2025-01-30T02:10:48.701Z"
   },
   {
    "duration": 8,
    "start_time": "2025-01-30T02:10:48.709Z"
   },
   {
    "duration": 10,
    "start_time": "2025-01-30T02:10:48.719Z"
   },
   {
    "duration": 62,
    "start_time": "2025-01-30T02:10:48.731Z"
   },
   {
    "duration": 17,
    "start_time": "2025-01-30T02:10:48.795Z"
   },
   {
    "duration": 5,
    "start_time": "2025-01-30T02:10:48.814Z"
   },
   {
    "duration": 16,
    "start_time": "2025-01-30T02:10:48.821Z"
   },
   {
    "duration": 4,
    "start_time": "2025-01-30T02:10:48.839Z"
   },
   {
    "duration": 4,
    "start_time": "2025-01-30T02:10:48.847Z"
   },
   {
    "duration": 4,
    "start_time": "2025-01-30T02:10:48.888Z"
   },
   {
    "duration": 4,
    "start_time": "2025-01-30T02:10:48.893Z"
   },
   {
    "duration": 4,
    "start_time": "2025-01-30T02:10:48.899Z"
   },
   {
    "duration": 813,
    "start_time": "2025-01-30T02:10:48.905Z"
   },
   {
    "duration": 806,
    "start_time": "2025-01-30T02:10:49.720Z"
   },
   {
    "duration": 7,
    "start_time": "2025-01-30T02:10:50.528Z"
   },
   {
    "duration": 5,
    "start_time": "2025-01-30T02:10:50.537Z"
   },
   {
    "duration": 9,
    "start_time": "2025-01-30T02:10:50.544Z"
   },
   {
    "duration": 5,
    "start_time": "2025-01-30T02:10:50.555Z"
   },
   {
    "duration": 6,
    "start_time": "2025-01-30T02:10:50.588Z"
   },
   {
    "duration": 14,
    "start_time": "2025-01-30T02:10:50.596Z"
   },
   {
    "duration": 7,
    "start_time": "2025-01-30T02:10:50.612Z"
   },
   {
    "duration": 7,
    "start_time": "2025-01-30T02:10:53.829Z"
   },
   {
    "duration": 6,
    "start_time": "2025-01-30T02:11:02.705Z"
   },
   {
    "duration": 9,
    "start_time": "2025-01-30T02:11:35.695Z"
   },
   {
    "duration": 6,
    "start_time": "2025-01-30T02:12:06.967Z"
   },
   {
    "duration": 6,
    "start_time": "2025-01-30T02:12:18.029Z"
   },
   {
    "duration": 9,
    "start_time": "2025-01-30T02:12:31.686Z"
   },
   {
    "duration": 15,
    "start_time": "2025-01-30T02:12:43.676Z"
   },
   {
    "duration": 5,
    "start_time": "2025-01-30T02:13:17.083Z"
   },
   {
    "duration": 9,
    "start_time": "2025-01-30T02:13:20.473Z"
   },
   {
    "duration": 5,
    "start_time": "2025-01-30T02:13:23.588Z"
   },
   {
    "duration": 12,
    "start_time": "2025-01-30T02:14:32.105Z"
   },
   {
    "duration": 15,
    "start_time": "2025-01-30T02:14:36.619Z"
   },
   {
    "duration": 9,
    "start_time": "2025-01-30T02:15:15.677Z"
   },
   {
    "duration": 4,
    "start_time": "2025-01-30T02:16:11.294Z"
   },
   {
    "duration": 4,
    "start_time": "2025-01-30T02:16:26.343Z"
   },
   {
    "duration": 4,
    "start_time": "2025-01-30T02:16:32.776Z"
   },
   {
    "duration": 7,
    "start_time": "2025-01-30T02:17:37.750Z"
   },
   {
    "duration": 10,
    "start_time": "2025-01-30T02:19:13.799Z"
   },
   {
    "duration": 24,
    "start_time": "2025-01-30T02:21:34.235Z"
   },
   {
    "duration": 51,
    "start_time": "2025-01-30T02:22:09.558Z"
   },
   {
    "duration": 22,
    "start_time": "2025-01-30T02:22:23.512Z"
   },
   {
    "duration": 13,
    "start_time": "2025-01-30T02:23:52.169Z"
   },
   {
    "duration": 11,
    "start_time": "2025-01-30T02:24:09.331Z"
   },
   {
    "duration": 13,
    "start_time": "2025-01-30T02:24:34.907Z"
   },
   {
    "duration": 4,
    "start_time": "2025-01-30T02:24:42.470Z"
   },
   {
    "duration": 14,
    "start_time": "2025-01-30T02:25:02.036Z"
   },
   {
    "duration": 53,
    "start_time": "2025-01-30T02:25:37.365Z"
   },
   {
    "duration": 2,
    "start_time": "2025-01-30T02:25:45.911Z"
   },
   {
    "duration": 1006,
    "start_time": "2025-01-30T02:25:45.919Z"
   },
   {
    "duration": 13,
    "start_time": "2025-01-30T02:25:46.927Z"
   },
   {
    "duration": 7,
    "start_time": "2025-01-30T02:25:46.942Z"
   },
   {
    "duration": 9,
    "start_time": "2025-01-30T02:25:46.952Z"
   },
   {
    "duration": 28,
    "start_time": "2025-01-30T02:25:46.963Z"
   },
   {
    "duration": 9,
    "start_time": "2025-01-30T02:25:46.993Z"
   },
   {
    "duration": 30,
    "start_time": "2025-01-30T02:25:47.003Z"
   },
   {
    "duration": 8,
    "start_time": "2025-01-30T02:25:47.035Z"
   },
   {
    "duration": 11,
    "start_time": "2025-01-30T02:25:47.046Z"
   },
   {
    "duration": 101,
    "start_time": "2025-01-30T02:25:47.086Z"
   },
   {
    "duration": 108,
    "start_time": "2025-01-30T02:25:47.190Z"
   },
   {
    "duration": 117,
    "start_time": "2025-01-30T02:25:47.300Z"
   },
   {
    "duration": 9,
    "start_time": "2025-01-30T02:25:47.419Z"
   },
   {
    "duration": 112,
    "start_time": "2025-01-30T02:25:47.431Z"
   },
   {
    "duration": 115,
    "start_time": "2025-01-30T02:25:47.545Z"
   },
   {
    "duration": 222,
    "start_time": "2025-01-30T02:25:47.662Z"
   },
   {
    "duration": 62,
    "start_time": "2025-01-30T02:25:47.886Z"
   },
   {
    "duration": 3,
    "start_time": "2025-01-30T02:25:47.950Z"
   },
   {
    "duration": 72,
    "start_time": "2025-01-30T02:25:47.955Z"
   },
   {
    "duration": 12,
    "start_time": "2025-01-30T02:25:48.028Z"
   },
   {
    "duration": 4,
    "start_time": "2025-01-30T02:25:48.041Z"
   },
   {
    "duration": 7,
    "start_time": "2025-01-30T02:25:48.047Z"
   },
   {
    "duration": 31,
    "start_time": "2025-01-30T02:25:48.055Z"
   },
   {
    "duration": 30,
    "start_time": "2025-01-30T02:25:48.088Z"
   },
   {
    "duration": 22,
    "start_time": "2025-01-30T02:25:48.120Z"
   },
   {
    "duration": 6,
    "start_time": "2025-01-30T02:25:48.144Z"
   },
   {
    "duration": 38,
    "start_time": "2025-01-30T02:25:48.151Z"
   },
   {
    "duration": 4,
    "start_time": "2025-01-30T02:25:48.193Z"
   },
   {
    "duration": 4,
    "start_time": "2025-01-30T02:25:48.198Z"
   },
   {
    "duration": 3,
    "start_time": "2025-01-30T02:25:48.204Z"
   },
   {
    "duration": 3,
    "start_time": "2025-01-30T02:25:48.209Z"
   },
   {
    "duration": 4,
    "start_time": "2025-01-30T02:25:48.214Z"
   },
   {
    "duration": 709,
    "start_time": "2025-01-30T02:25:48.221Z"
   },
   {
    "duration": 731,
    "start_time": "2025-01-30T02:25:48.932Z"
   },
   {
    "duration": 12,
    "start_time": "2025-01-30T02:25:49.664Z"
   },
   {
    "duration": 6,
    "start_time": "2025-01-30T02:25:49.686Z"
   },
   {
    "duration": 10,
    "start_time": "2025-01-30T02:25:49.695Z"
   },
   {
    "duration": 7,
    "start_time": "2025-01-30T02:25:49.706Z"
   },
   {
    "duration": 5,
    "start_time": "2025-01-30T02:25:49.716Z"
   },
   {
    "duration": 13,
    "start_time": "2025-01-30T02:25:49.723Z"
   },
   {
    "duration": 7,
    "start_time": "2025-01-30T02:25:49.739Z"
   },
   {
    "duration": 40,
    "start_time": "2025-01-30T02:25:49.750Z"
   },
   {
    "duration": 6,
    "start_time": "2025-01-30T02:25:49.792Z"
   },
   {
    "duration": 9,
    "start_time": "2025-01-30T02:25:49.799Z"
   },
   {
    "duration": 2,
    "start_time": "2025-01-30T02:25:49.812Z"
   },
   {
    "duration": 11,
    "start_time": "2025-01-30T02:25:49.816Z"
   },
   {
    "duration": 13,
    "start_time": "2025-01-30T02:25:49.828Z"
   },
   {
    "duration": 3,
    "start_time": "2025-01-30T02:25:49.843Z"
   },
   {
    "duration": 52,
    "start_time": "2025-01-30T02:25:49.848Z"
   },
   {
    "duration": 15,
    "start_time": "2025-01-30T02:25:49.902Z"
   },
   {
    "duration": 5,
    "start_time": "2025-01-30T02:25:59.165Z"
   },
   {
    "duration": 5,
    "start_time": "2025-01-30T02:26:13.696Z"
   },
   {
    "duration": 3,
    "start_time": "2025-01-30T02:26:20.888Z"
   },
   {
    "duration": 12,
    "start_time": "2025-01-30T02:26:35.524Z"
   },
   {
    "duration": 4,
    "start_time": "2025-01-30T02:26:43.550Z"
   },
   {
    "duration": 13,
    "start_time": "2025-01-30T02:27:07.225Z"
   },
   {
    "duration": 7,
    "start_time": "2025-01-30T02:30:26.933Z"
   },
   {
    "duration": 8,
    "start_time": "2025-01-30T02:38:58.112Z"
   },
   {
    "duration": 7,
    "start_time": "2025-01-30T02:39:06.382Z"
   },
   {
    "duration": 6,
    "start_time": "2025-01-30T02:39:11.579Z"
   },
   {
    "duration": 6,
    "start_time": "2025-01-30T02:39:34.294Z"
   },
   {
    "duration": 6,
    "start_time": "2025-01-30T02:40:18.947Z"
   },
   {
    "duration": 6,
    "start_time": "2025-01-30T02:42:36.996Z"
   },
   {
    "duration": 6,
    "start_time": "2025-01-30T02:42:55.717Z"
   },
   {
    "duration": 6,
    "start_time": "2025-01-30T02:43:00.112Z"
   },
   {
    "duration": 6,
    "start_time": "2025-01-30T02:47:52.423Z"
   },
   {
    "duration": 4,
    "start_time": "2025-01-30T02:48:04.435Z"
   },
   {
    "duration": 1985,
    "start_time": "2025-01-30T02:48:27.999Z"
   },
   {
    "duration": 107,
    "start_time": "2025-01-30T02:49:50.667Z"
   },
   {
    "duration": 107,
    "start_time": "2025-01-30T02:50:14.580Z"
   },
   {
    "duration": 6,
    "start_time": "2025-01-30T02:50:21.634Z"
   },
   {
    "duration": 330,
    "start_time": "2025-01-30T02:50:27.380Z"
   },
   {
    "duration": 384,
    "start_time": "2025-01-30T02:51:29.090Z"
   },
   {
    "duration": 281,
    "start_time": "2025-01-30T02:51:42.496Z"
   },
   {
    "duration": 281,
    "start_time": "2025-01-30T02:52:50.175Z"
   },
   {
    "duration": 277,
    "start_time": "2025-01-30T02:53:24.696Z"
   },
   {
    "duration": 233,
    "start_time": "2025-01-30T02:54:07.743Z"
   },
   {
    "duration": 120,
    "start_time": "2025-01-30T02:55:52.320Z"
   },
   {
    "duration": 354,
    "start_time": "2025-01-30T02:57:00.817Z"
   },
   {
    "duration": 247,
    "start_time": "2025-01-30T02:57:49.211Z"
   },
   {
    "duration": 282,
    "start_time": "2025-01-30T02:58:06.564Z"
   },
   {
    "duration": 296,
    "start_time": "2025-01-30T02:58:33.131Z"
   },
   {
    "duration": 7,
    "start_time": "2025-01-30T03:01:55.958Z"
   },
   {
    "duration": 14,
    "start_time": "2025-01-30T03:08:13.061Z"
   },
   {
    "duration": 6,
    "start_time": "2025-01-30T03:08:20.170Z"
   },
   {
    "duration": 127,
    "start_time": "2025-01-30T03:08:23.852Z"
   },
   {
    "duration": 132,
    "start_time": "2025-01-30T03:09:02.818Z"
   },
   {
    "duration": 135,
    "start_time": "2025-01-30T03:09:11.940Z"
   },
   {
    "duration": 131,
    "start_time": "2025-01-30T03:09:24.064Z"
   },
   {
    "duration": 131,
    "start_time": "2025-01-30T03:11:15.907Z"
   },
   {
    "duration": 3,
    "start_time": "2025-01-30T03:14:11.255Z"
   },
   {
    "duration": 5,
    "start_time": "2025-01-30T03:14:54.220Z"
   },
   {
    "duration": 4,
    "start_time": "2025-01-30T03:15:04.684Z"
   },
   {
    "duration": 146,
    "start_time": "2025-01-30T03:15:53.360Z"
   },
   {
    "duration": 140,
    "start_time": "2025-01-30T03:16:31.966Z"
   },
   {
    "duration": 140,
    "start_time": "2025-01-30T03:17:08.326Z"
   },
   {
    "duration": 2,
    "start_time": "2025-01-30T03:22:04.449Z"
   },
   {
    "duration": 854,
    "start_time": "2025-01-30T03:22:04.457Z"
   },
   {
    "duration": 10,
    "start_time": "2025-01-30T03:22:05.313Z"
   },
   {
    "duration": 6,
    "start_time": "2025-01-30T03:22:05.324Z"
   },
   {
    "duration": 9,
    "start_time": "2025-01-30T03:22:05.333Z"
   },
   {
    "duration": 9,
    "start_time": "2025-01-30T03:22:05.343Z"
   },
   {
    "duration": 7,
    "start_time": "2025-01-30T03:22:05.354Z"
   },
   {
    "duration": 50,
    "start_time": "2025-01-30T03:22:05.362Z"
   },
   {
    "duration": 95,
    "start_time": "2025-01-30T03:22:05.414Z"
   },
   {
    "duration": 7,
    "start_time": "2025-01-30T03:22:05.511Z"
   },
   {
    "duration": 82,
    "start_time": "2025-01-30T03:22:05.521Z"
   },
   {
    "duration": 69,
    "start_time": "2025-01-30T03:22:05.605Z"
   },
   {
    "duration": 86,
    "start_time": "2025-01-30T03:22:05.676Z"
   },
   {
    "duration": 7,
    "start_time": "2025-01-30T03:22:05.764Z"
   },
   {
    "duration": 86,
    "start_time": "2025-01-30T03:22:05.772Z"
   },
   {
    "duration": 81,
    "start_time": "2025-01-30T03:22:05.860Z"
   },
   {
    "duration": 44,
    "start_time": "2025-01-30T03:22:05.942Z"
   },
   {
    "duration": 58,
    "start_time": "2025-01-30T03:22:05.988Z"
   },
   {
    "duration": 4,
    "start_time": "2025-01-30T03:22:06.048Z"
   },
   {
    "duration": 80,
    "start_time": "2025-01-30T03:22:06.054Z"
   },
   {
    "duration": 12,
    "start_time": "2025-01-30T03:22:06.136Z"
   },
   {
    "duration": 4,
    "start_time": "2025-01-30T03:22:06.149Z"
   },
   {
    "duration": 8,
    "start_time": "2025-01-30T03:22:06.155Z"
   },
   {
    "duration": 7,
    "start_time": "2025-01-30T03:22:06.187Z"
   },
   {
    "duration": 28,
    "start_time": "2025-01-30T03:22:06.196Z"
   },
   {
    "duration": 15,
    "start_time": "2025-01-30T03:22:06.226Z"
   },
   {
    "duration": 5,
    "start_time": "2025-01-30T03:22:06.243Z"
   },
   {
    "duration": 42,
    "start_time": "2025-01-30T03:22:06.249Z"
   },
   {
    "duration": 4,
    "start_time": "2025-01-30T03:22:06.296Z"
   },
   {
    "duration": 4,
    "start_time": "2025-01-30T03:22:06.302Z"
   },
   {
    "duration": 3,
    "start_time": "2025-01-30T03:22:06.307Z"
   },
   {
    "duration": 3,
    "start_time": "2025-01-30T03:22:06.312Z"
   },
   {
    "duration": 3,
    "start_time": "2025-01-30T03:22:06.317Z"
   },
   {
    "duration": 733,
    "start_time": "2025-01-30T03:22:06.322Z"
   },
   {
    "duration": 771,
    "start_time": "2025-01-30T03:22:07.057Z"
   },
   {
    "duration": 7,
    "start_time": "2025-01-30T03:22:07.831Z"
   },
   {
    "duration": 6,
    "start_time": "2025-01-30T03:22:07.839Z"
   },
   {
    "duration": 10,
    "start_time": "2025-01-30T03:22:07.846Z"
   },
   {
    "duration": 8,
    "start_time": "2025-01-30T03:22:07.858Z"
   },
   {
    "duration": 6,
    "start_time": "2025-01-30T03:22:07.887Z"
   },
   {
    "duration": 13,
    "start_time": "2025-01-30T03:22:07.895Z"
   },
   {
    "duration": 7,
    "start_time": "2025-01-30T03:22:07.910Z"
   },
   {
    "duration": 9,
    "start_time": "2025-01-30T03:22:07.919Z"
   },
   {
    "duration": 5,
    "start_time": "2025-01-30T03:22:07.929Z"
   },
   {
    "duration": 9,
    "start_time": "2025-01-30T03:22:07.935Z"
   },
   {
    "duration": 41,
    "start_time": "2025-01-30T03:22:07.945Z"
   },
   {
    "duration": 15,
    "start_time": "2025-01-30T03:22:07.988Z"
   },
   {
    "duration": 13,
    "start_time": "2025-01-30T03:22:08.005Z"
   },
   {
    "duration": 4,
    "start_time": "2025-01-30T03:22:08.020Z"
   },
   {
    "duration": 15,
    "start_time": "2025-01-30T03:22:08.026Z"
   },
   {
    "duration": 51,
    "start_time": "2025-01-30T03:22:08.043Z"
   },
   {
    "duration": 4,
    "start_time": "2025-01-30T03:22:08.096Z"
   },
   {
    "duration": 4,
    "start_time": "2025-01-30T03:22:08.102Z"
   },
   {
    "duration": 4,
    "start_time": "2025-01-30T03:22:08.108Z"
   },
   {
    "duration": 3,
    "start_time": "2025-01-30T03:22:08.114Z"
   },
   {
    "duration": 155,
    "start_time": "2025-01-30T03:22:08.118Z"
   },
   {
    "duration": 5,
    "start_time": "2025-01-30T03:22:08.275Z"
   },
   {
    "duration": 5,
    "start_time": "2025-01-30T03:22:08.286Z"
   },
   {
    "duration": 5,
    "start_time": "2025-01-30T03:22:08.293Z"
   },
   {
    "duration": 5,
    "start_time": "2025-01-30T03:22:08.300Z"
   },
   {
    "duration": 5,
    "start_time": "2025-01-30T03:22:08.307Z"
   },
   {
    "duration": 315,
    "start_time": "2025-01-30T03:22:08.314Z"
   },
   {
    "duration": 6,
    "start_time": "2025-01-30T03:22:08.631Z"
   },
   {
    "duration": 4,
    "start_time": "2025-01-30T03:22:08.638Z"
   },
   {
    "duration": 163,
    "start_time": "2025-01-30T03:22:08.644Z"
   },
   {
    "duration": 22167,
    "start_time": "2025-01-30T03:22:08.809Z"
   },
   {
    "duration": 141,
    "start_time": "2025-01-30T03:22:37.524Z"
   },
   {
    "duration": 296,
    "start_time": "2025-01-30T03:25:02.905Z"
   },
   {
    "duration": 278,
    "start_time": "2025-01-30T03:25:26.878Z"
   },
   {
    "duration": 7,
    "start_time": "2025-01-30T03:25:33.625Z"
   },
   {
    "duration": 277,
    "start_time": "2025-01-30T03:25:37.284Z"
   },
   {
    "duration": 7,
    "start_time": "2025-01-30T03:25:51.841Z"
   },
   {
    "duration": 7,
    "start_time": "2025-01-30T03:25:59.888Z"
   },
   {
    "duration": 4,
    "start_time": "2025-01-30T03:26:03.273Z"
   },
   {
    "duration": 147,
    "start_time": "2025-01-30T03:26:10.441Z"
   },
   {
    "duration": 3,
    "start_time": "2025-01-30T03:26:44.097Z"
   },
   {
    "duration": 142,
    "start_time": "2025-01-30T03:26:58.844Z"
   },
   {
    "duration": 147,
    "start_time": "2025-01-30T03:27:36.482Z"
   },
   {
    "duration": 5,
    "start_time": "2025-01-30T03:29:04.512Z"
   },
   {
    "duration": 4,
    "start_time": "2025-01-30T03:29:12.247Z"
   },
   {
    "duration": 5,
    "start_time": "2025-01-30T03:29:24.994Z"
   },
   {
    "duration": 4,
    "start_time": "2025-01-30T03:29:38.786Z"
   },
   {
    "duration": 4,
    "start_time": "2025-01-30T03:29:51.566Z"
   },
   {
    "duration": 140,
    "start_time": "2025-01-30T03:30:08.291Z"
   },
   {
    "duration": 8,
    "start_time": "2025-01-30T03:30:34.807Z"
   },
   {
    "duration": 158,
    "start_time": "2025-01-30T03:30:41.994Z"
   },
   {
    "duration": 6,
    "start_time": "2025-01-30T03:31:38.558Z"
   },
   {
    "duration": 316,
    "start_time": "2025-01-30T03:31:45.829Z"
   },
   {
    "duration": 9,
    "start_time": "2025-01-30T03:33:28.541Z"
   },
   {
    "duration": 338,
    "start_time": "2025-01-30T03:33:34.328Z"
   },
   {
    "duration": 162,
    "start_time": "2025-01-30T03:34:26.600Z"
   },
   {
    "duration": 171,
    "start_time": "2025-01-30T03:36:25.992Z"
   },
   {
    "duration": 180,
    "start_time": "2025-01-30T03:37:44.114Z"
   },
   {
    "duration": 142,
    "start_time": "2025-01-30T03:38:22.095Z"
   },
   {
    "duration": 154,
    "start_time": "2025-01-30T03:40:46.326Z"
   },
   {
    "duration": 223,
    "start_time": "2025-01-30T03:41:20.717Z"
   },
   {
    "duration": 182,
    "start_time": "2025-01-30T03:44:07.330Z"
   },
   {
    "duration": 4,
    "start_time": "2025-01-30T03:44:42.448Z"
   },
   {
    "duration": 7,
    "start_time": "2025-01-30T03:45:16.616Z"
   },
   {
    "duration": 184,
    "start_time": "2025-01-30T03:45:35.443Z"
   },
   {
    "duration": 4,
    "start_time": "2025-01-30T03:45:48.298Z"
   },
   {
    "duration": 14,
    "start_time": "2025-01-30T03:51:01.011Z"
   },
   {
    "duration": 4,
    "start_time": "2025-01-30T03:51:10.694Z"
   },
   {
    "duration": 3,
    "start_time": "2025-01-30T03:51:13.081Z"
   },
   {
    "duration": 172,
    "start_time": "2025-01-30T03:51:53.287Z"
   },
   {
    "duration": 4,
    "start_time": "2025-01-30T03:54:32.596Z"
   },
   {
    "duration": 5,
    "start_time": "2025-01-30T03:54:49.012Z"
   },
   {
    "duration": 1036,
    "start_time": "2025-01-30T03:55:04.467Z"
   },
   {
    "duration": 739,
    "start_time": "2025-01-30T03:55:20.892Z"
   },
   {
    "duration": 163,
    "start_time": "2025-01-30T03:55:56.344Z"
   },
   {
    "duration": 176,
    "start_time": "2025-01-30T03:56:29.062Z"
   },
   {
    "duration": 5,
    "start_time": "2025-01-30T03:57:30.602Z"
   },
   {
    "duration": 4,
    "start_time": "2025-01-30T03:57:40.147Z"
   },
   {
    "duration": 158,
    "start_time": "2025-01-30T03:58:12.838Z"
   },
   {
    "duration": 176,
    "start_time": "2025-01-30T03:58:46.178Z"
   },
   {
    "duration": 4,
    "start_time": "2025-01-30T04:00:03.917Z"
   },
   {
    "duration": 4,
    "start_time": "2025-01-30T04:00:12.794Z"
   },
   {
    "duration": 5,
    "start_time": "2025-01-30T04:00:55.365Z"
   },
   {
    "duration": 4,
    "start_time": "2025-01-30T04:01:11.504Z"
   },
   {
    "duration": 188,
    "start_time": "2025-01-30T04:02:39.809Z"
   },
   {
    "duration": 188,
    "start_time": "2025-01-30T04:03:11.365Z"
   },
   {
    "duration": 183,
    "start_time": "2025-01-30T04:03:22.190Z"
   },
   {
    "duration": 24,
    "start_time": "2025-01-30T04:03:34.620Z"
   },
   {
    "duration": 23,
    "start_time": "2025-01-30T04:04:10.317Z"
   },
   {
    "duration": 28,
    "start_time": "2025-01-30T04:04:37.331Z"
   },
   {
    "duration": 185,
    "start_time": "2025-01-30T04:05:16.232Z"
   },
   {
    "duration": 193,
    "start_time": "2025-01-30T04:05:52.309Z"
   },
   {
    "duration": 329,
    "start_time": "2025-01-30T04:08:45.894Z"
   },
   {
    "duration": 12,
    "start_time": "2025-01-30T04:14:01.261Z"
   },
   {
    "duration": 12,
    "start_time": "2025-01-30T04:14:05.820Z"
   },
   {
    "duration": 6,
    "start_time": "2025-01-30T04:14:09.194Z"
   },
   {
    "duration": 5,
    "start_time": "2025-01-30T04:14:22.157Z"
   },
   {
    "duration": 5,
    "start_time": "2025-01-30T04:16:58.556Z"
   },
   {
    "duration": 4,
    "start_time": "2025-01-30T04:20:20.273Z"
   },
   {
    "duration": 230,
    "start_time": "2025-01-30T04:20:30.091Z"
   },
   {
    "duration": 213,
    "start_time": "2025-01-30T04:21:19.544Z"
   },
   {
    "duration": 229,
    "start_time": "2025-01-30T04:22:04.536Z"
   },
   {
    "duration": 227,
    "start_time": "2025-01-30T04:22:23.684Z"
   },
   {
    "duration": 5,
    "start_time": "2025-01-30T04:23:12.148Z"
   },
   {
    "duration": 209,
    "start_time": "2025-01-30T04:23:16.768Z"
   },
   {
    "duration": 11,
    "start_time": "2025-01-30T04:23:31.722Z"
   },
   {
    "duration": 4,
    "start_time": "2025-01-30T04:34:36.488Z"
   },
   {
    "duration": 13,
    "start_time": "2025-01-30T04:35:21.828Z"
   },
   {
    "duration": 37,
    "start_time": "2025-01-30T04:35:34.896Z"
   },
   {
    "duration": 190,
    "start_time": "2025-01-30T04:35:38.813Z"
   },
   {
    "duration": 174,
    "start_time": "2025-01-30T04:35:45.586Z"
   },
   {
    "duration": 183,
    "start_time": "2025-01-30T04:36:01.267Z"
   },
   {
    "duration": 4,
    "start_time": "2025-01-30T04:40:10.229Z"
   },
   {
    "duration": 15,
    "start_time": "2025-01-30T04:40:18.543Z"
   },
   {
    "duration": 91,
    "start_time": "2025-01-30T04:40:26.555Z"
   },
   {
    "duration": 6,
    "start_time": "2025-01-30T04:40:33.398Z"
   },
   {
    "duration": 224,
    "start_time": "2025-01-30T04:40:36.995Z"
   },
   {
    "duration": 212,
    "start_time": "2025-01-30T04:40:49.579Z"
   },
   {
    "duration": 229,
    "start_time": "2025-01-30T04:42:27.762Z"
   },
   {
    "duration": 213,
    "start_time": "2025-01-30T04:42:56.683Z"
   },
   {
    "duration": 139,
    "start_time": "2025-01-30T04:44:39.315Z"
   },
   {
    "duration": 210,
    "start_time": "2025-01-30T04:44:53.984Z"
   },
   {
    "duration": 223,
    "start_time": "2025-01-30T04:45:03.213Z"
   },
   {
    "duration": 96,
    "start_time": "2025-01-30T04:49:41.790Z"
   },
   {
    "duration": 10,
    "start_time": "2025-01-30T04:49:47.587Z"
   },
   {
    "duration": 202,
    "start_time": "2025-01-30T04:49:52.764Z"
   },
   {
    "duration": 7,
    "start_time": "2025-01-30T04:53:10.346Z"
   },
   {
    "duration": 14,
    "start_time": "2025-01-30T04:53:23.616Z"
   },
   {
    "duration": 6,
    "start_time": "2025-01-30T04:53:30.678Z"
   },
   {
    "duration": 5,
    "start_time": "2025-01-30T04:55:55.015Z"
   },
   {
    "duration": 7,
    "start_time": "2025-01-30T04:56:00.711Z"
   },
   {
    "duration": 753,
    "start_time": "2025-01-30T04:56:18.792Z"
   },
   {
    "duration": 94,
    "start_time": "2025-01-30T04:56:40.339Z"
   },
   {
    "duration": 10,
    "start_time": "2025-01-30T04:56:47.991Z"
   },
   {
    "duration": 9,
    "start_time": "2025-01-30T04:57:09.910Z"
   },
   {
    "duration": 12,
    "start_time": "2025-01-30T04:57:31.190Z"
   },
   {
    "duration": 6,
    "start_time": "2025-01-30T04:58:09.062Z"
   },
   {
    "duration": 14,
    "start_time": "2025-01-30T05:02:51.105Z"
   },
   {
    "duration": 218,
    "start_time": "2025-01-30T05:02:57.494Z"
   },
   {
    "duration": 14,
    "start_time": "2025-01-30T05:03:01.037Z"
   },
   {
    "duration": 169,
    "start_time": "2025-01-30T05:03:05.476Z"
   },
   {
    "duration": 101,
    "start_time": "2025-01-30T05:03:41.385Z"
   },
   {
    "duration": 99,
    "start_time": "2025-01-30T05:04:13.034Z"
   },
   {
    "duration": 13,
    "start_time": "2025-01-30T05:06:58.062Z"
   },
   {
    "duration": 14,
    "start_time": "2025-01-30T05:08:30.232Z"
   },
   {
    "duration": 159,
    "start_time": "2025-01-30T05:11:07.667Z"
   },
   {
    "duration": 6,
    "start_time": "2025-01-30T05:11:11.591Z"
   },
   {
    "duration": 180,
    "start_time": "2025-01-30T05:11:30.388Z"
   },
   {
    "duration": 5,
    "start_time": "2025-01-30T05:11:34.568Z"
   },
   {
    "duration": 6,
    "start_time": "2025-01-30T05:11:44.025Z"
   },
   {
    "duration": 20,
    "start_time": "2025-01-30T05:15:30.328Z"
   },
   {
    "duration": 1184,
    "start_time": "2025-01-30T05:18:16.351Z"
   },
   {
    "duration": 292,
    "start_time": "2025-01-30T05:18:19.396Z"
   },
   {
    "duration": 7,
    "start_time": "2025-01-30T05:18:22.445Z"
   },
   {
    "duration": 27,
    "start_time": "2025-01-30T05:22:32.328Z"
   },
   {
    "duration": 12,
    "start_time": "2025-01-30T05:22:35.238Z"
   },
   {
    "duration": 2,
    "start_time": "2025-01-30T05:25:09.552Z"
   },
   {
    "duration": 5,
    "start_time": "2025-01-30T05:25:31.411Z"
   },
   {
    "duration": 2,
    "start_time": "2025-01-30T05:25:52.760Z"
   },
   {
    "duration": 3,
    "start_time": "2025-01-30T05:29:48.729Z"
   },
   {
    "duration": 2,
    "start_time": "2025-01-30T05:30:01.732Z"
   },
   {
    "duration": 877,
    "start_time": "2025-01-30T05:30:01.736Z"
   },
   {
    "duration": 10,
    "start_time": "2025-01-30T05:30:02.615Z"
   },
   {
    "duration": 7,
    "start_time": "2025-01-30T05:30:02.627Z"
   },
   {
    "duration": 11,
    "start_time": "2025-01-30T05:30:02.638Z"
   },
   {
    "duration": 11,
    "start_time": "2025-01-30T05:30:02.650Z"
   },
   {
    "duration": 8,
    "start_time": "2025-01-30T05:30:02.687Z"
   },
   {
    "duration": 27,
    "start_time": "2025-01-30T05:30:02.697Z"
   },
   {
    "duration": 12,
    "start_time": "2025-01-30T05:30:02.726Z"
   },
   {
    "duration": 9,
    "start_time": "2025-01-30T05:30:02.740Z"
   },
   {
    "duration": 107,
    "start_time": "2025-01-30T05:30:02.754Z"
   },
   {
    "duration": 88,
    "start_time": "2025-01-30T05:30:02.863Z"
   },
   {
    "duration": 98,
    "start_time": "2025-01-30T05:30:02.953Z"
   },
   {
    "duration": 7,
    "start_time": "2025-01-30T05:30:03.053Z"
   },
   {
    "duration": 102,
    "start_time": "2025-01-30T05:30:03.062Z"
   },
   {
    "duration": 96,
    "start_time": "2025-01-30T05:30:03.166Z"
   },
   {
    "duration": 51,
    "start_time": "2025-01-30T05:30:03.264Z"
   },
   {
    "duration": 70,
    "start_time": "2025-01-30T05:30:03.317Z"
   },
   {
    "duration": 4,
    "start_time": "2025-01-30T05:30:03.389Z"
   },
   {
    "duration": 72,
    "start_time": "2025-01-30T05:30:03.395Z"
   },
   {
    "duration": 15,
    "start_time": "2025-01-30T05:30:03.487Z"
   },
   {
    "duration": 5,
    "start_time": "2025-01-30T05:30:03.504Z"
   },
   {
    "duration": 8,
    "start_time": "2025-01-30T05:30:03.511Z"
   },
   {
    "duration": 7,
    "start_time": "2025-01-30T05:30:03.520Z"
   },
   {
    "duration": 61,
    "start_time": "2025-01-30T05:30:03.529Z"
   },
   {
    "duration": 21,
    "start_time": "2025-01-30T05:30:03.594Z"
   },
   {
    "duration": 5,
    "start_time": "2025-01-30T05:30:03.617Z"
   },
   {
    "duration": 20,
    "start_time": "2025-01-30T05:30:03.623Z"
   },
   {
    "duration": 4,
    "start_time": "2025-01-30T05:30:03.648Z"
   },
   {
    "duration": 35,
    "start_time": "2025-01-30T05:30:03.654Z"
   },
   {
    "duration": 4,
    "start_time": "2025-01-30T05:30:03.692Z"
   },
   {
    "duration": 5,
    "start_time": "2025-01-30T05:30:03.698Z"
   },
   {
    "duration": 3,
    "start_time": "2025-01-30T05:30:03.705Z"
   },
   {
    "duration": 842,
    "start_time": "2025-01-30T05:30:03.710Z"
   },
   {
    "duration": 873,
    "start_time": "2025-01-30T05:30:04.554Z"
   },
   {
    "duration": 8,
    "start_time": "2025-01-30T05:30:05.429Z"
   },
   {
    "duration": 5,
    "start_time": "2025-01-30T05:30:05.439Z"
   },
   {
    "duration": 8,
    "start_time": "2025-01-30T05:30:05.445Z"
   },
   {
    "duration": 6,
    "start_time": "2025-01-30T05:30:05.455Z"
   },
   {
    "duration": 7,
    "start_time": "2025-01-30T05:30:05.487Z"
   },
   {
    "duration": 13,
    "start_time": "2025-01-30T05:30:05.496Z"
   },
   {
    "duration": 7,
    "start_time": "2025-01-30T05:30:05.511Z"
   },
   {
    "duration": 10,
    "start_time": "2025-01-30T05:30:05.520Z"
   },
   {
    "duration": 6,
    "start_time": "2025-01-30T05:30:05.532Z"
   },
   {
    "duration": 48,
    "start_time": "2025-01-30T05:30:05.539Z"
   },
   {
    "duration": 3,
    "start_time": "2025-01-30T05:30:05.589Z"
   },
   {
    "duration": 13,
    "start_time": "2025-01-30T05:30:05.595Z"
   },
   {
    "duration": 14,
    "start_time": "2025-01-30T05:30:05.609Z"
   },
   {
    "duration": 4,
    "start_time": "2025-01-30T05:30:05.625Z"
   },
   {
    "duration": 15,
    "start_time": "2025-01-30T05:30:05.631Z"
   },
   {
    "duration": 52,
    "start_time": "2025-01-30T05:30:05.648Z"
   },
   {
    "duration": 5,
    "start_time": "2025-01-30T05:30:05.701Z"
   },
   {
    "duration": 5,
    "start_time": "2025-01-30T05:30:05.708Z"
   },
   {
    "duration": 5,
    "start_time": "2025-01-30T05:30:05.714Z"
   },
   {
    "duration": 5,
    "start_time": "2025-01-30T05:30:05.720Z"
   },
   {
    "duration": 201,
    "start_time": "2025-01-30T05:30:05.726Z"
   },
   {
    "duration": 5,
    "start_time": "2025-01-30T05:30:05.929Z"
   },
   {
    "duration": 7,
    "start_time": "2025-01-30T05:30:05.935Z"
   },
   {
    "duration": 6,
    "start_time": "2025-01-30T05:30:05.944Z"
   },
   {
    "duration": 34,
    "start_time": "2025-01-30T05:30:05.953Z"
   },
   {
    "duration": 312,
    "start_time": "2025-01-30T05:30:05.989Z"
   },
   {
    "duration": 6,
    "start_time": "2025-01-30T05:30:06.304Z"
   },
   {
    "duration": 6,
    "start_time": "2025-01-30T05:30:06.312Z"
   },
   {
    "duration": 4,
    "start_time": "2025-01-30T05:30:06.320Z"
   },
   {
    "duration": 176,
    "start_time": "2025-01-30T05:30:06.326Z"
   },
   {
    "duration": 7,
    "start_time": "2025-01-30T05:30:06.504Z"
   },
   {
    "duration": 4,
    "start_time": "2025-01-30T05:30:06.512Z"
   },
   {
    "duration": 217,
    "start_time": "2025-01-30T05:30:06.518Z"
   },
   {
    "duration": 9,
    "start_time": "2025-01-30T05:30:06.737Z"
   },
   {
    "duration": 5,
    "start_time": "2025-01-30T05:30:06.748Z"
   },
   {
    "duration": 4,
    "start_time": "2025-01-30T05:30:06.755Z"
   },
   {
    "duration": 362,
    "start_time": "2025-01-30T05:30:06.761Z"
   },
   {
    "duration": 5,
    "start_time": "2025-01-30T05:30:07.125Z"
   },
   {
    "duration": 200,
    "start_time": "2025-01-30T05:30:07.131Z"
   },
   {
    "duration": 36,
    "start_time": "2025-01-30T05:30:07.333Z"
   },
   {
    "duration": 218,
    "start_time": "2025-01-30T05:30:07.371Z"
   },
   {
    "duration": 105,
    "start_time": "2025-01-30T05:30:07.591Z"
   },
   {
    "duration": 7,
    "start_time": "2025-01-30T05:30:07.698Z"
   },
   {
    "duration": 242,
    "start_time": "2025-01-30T05:30:07.706Z"
   },
   {
    "duration": 291,
    "start_time": "2025-01-30T05:30:07.950Z"
   },
   {
    "duration": 13,
    "start_time": "2025-01-30T05:30:08.243Z"
   },
   {
    "duration": 109,
    "start_time": "2025-01-30T05:30:08.258Z"
   },
   {
    "duration": 18,
    "start_time": "2025-01-30T05:30:08.375Z"
   },
   {
    "duration": 183,
    "start_time": "2025-01-30T05:30:08.395Z"
   },
   {
    "duration": 10,
    "start_time": "2025-01-30T05:30:08.580Z"
   },
   {
    "duration": 20,
    "start_time": "2025-01-30T05:30:08.591Z"
   },
   {
    "duration": 1257,
    "start_time": "2025-01-30T05:30:08.612Z"
   },
   {
    "duration": 293,
    "start_time": "2025-01-30T05:30:09.871Z"
   },
   {
    "duration": 6,
    "start_time": "2025-01-30T05:30:10.165Z"
   },
   {
    "duration": 143,
    "start_time": "2025-01-30T05:30:10.174Z"
   },
   {
    "duration": 29,
    "start_time": "2025-01-30T05:30:10.319Z"
   },
   {
    "duration": 12,
    "start_time": "2025-01-30T05:30:10.351Z"
   },
   {
    "duration": 21,
    "start_time": "2025-01-30T05:30:10.366Z"
   },
   {
    "duration": 2,
    "start_time": "2025-01-30T05:36:54.566Z"
   },
   {
    "duration": 3,
    "start_time": "2025-01-30T05:38:39.356Z"
   },
   {
    "duration": 5,
    "start_time": "2025-01-30T05:39:55.597Z"
   },
   {
    "duration": 31,
    "start_time": "2025-01-30T05:41:01.717Z"
   },
   {
    "duration": 7,
    "start_time": "2025-01-30T05:44:25.492Z"
   },
   {
    "duration": 6,
    "start_time": "2025-01-30T05:45:48.098Z"
   },
   {
    "duration": 6,
    "start_time": "2025-01-30T05:47:37.809Z"
   },
   {
    "duration": 5,
    "start_time": "2025-01-30T05:53:54.817Z"
   },
   {
    "duration": 143,
    "start_time": "2025-01-30T06:07:39.242Z"
   },
   {
    "duration": 145,
    "start_time": "2025-01-30T06:08:10.604Z"
   },
   {
    "duration": 141,
    "start_time": "2025-01-30T06:09:04.361Z"
   },
   {
    "duration": 7,
    "start_time": "2025-01-30T06:14:24.939Z"
   },
   {
    "duration": 89,
    "start_time": "2025-01-30T06:14:37.355Z"
   },
   {
    "duration": 304,
    "start_time": "2025-01-30T06:22:55.937Z"
   },
   {
    "duration": 307,
    "start_time": "2025-01-30T16:30:20.525Z"
   },
   {
    "duration": 1050,
    "start_time": "2025-01-30T16:30:20.835Z"
   },
   {
    "duration": 12,
    "start_time": "2025-01-30T16:30:21.887Z"
   },
   {
    "duration": 8,
    "start_time": "2025-01-30T16:30:21.901Z"
   },
   {
    "duration": 20,
    "start_time": "2025-01-30T16:30:21.912Z"
   },
   {
    "duration": 10,
    "start_time": "2025-01-30T16:30:21.933Z"
   },
   {
    "duration": 9,
    "start_time": "2025-01-30T16:30:21.945Z"
   },
   {
    "duration": 31,
    "start_time": "2025-01-30T16:30:21.956Z"
   },
   {
    "duration": 7,
    "start_time": "2025-01-30T16:30:21.989Z"
   },
   {
    "duration": 37,
    "start_time": "2025-01-30T16:30:21.997Z"
   },
   {
    "duration": 101,
    "start_time": "2025-01-30T16:30:22.036Z"
   },
   {
    "duration": 98,
    "start_time": "2025-01-30T16:30:22.138Z"
   },
   {
    "duration": 112,
    "start_time": "2025-01-30T16:30:22.238Z"
   },
   {
    "duration": 7,
    "start_time": "2025-01-30T16:30:22.354Z"
   },
   {
    "duration": 108,
    "start_time": "2025-01-30T16:30:22.362Z"
   },
   {
    "duration": 91,
    "start_time": "2025-01-30T16:30:22.471Z"
   },
   {
    "duration": 39,
    "start_time": "2025-01-30T16:30:22.564Z"
   },
   {
    "duration": 84,
    "start_time": "2025-01-30T16:30:22.605Z"
   },
   {
    "duration": 4,
    "start_time": "2025-01-30T16:30:22.691Z"
   },
   {
    "duration": 84,
    "start_time": "2025-01-30T16:30:22.697Z"
   },
   {
    "duration": 13,
    "start_time": "2025-01-30T16:30:22.783Z"
   },
   {
    "duration": 2,
    "start_time": "2025-01-30T16:30:22.798Z"
   },
   {
    "duration": 10,
    "start_time": "2025-01-30T16:30:22.802Z"
   },
   {
    "duration": 8,
    "start_time": "2025-01-30T16:30:22.831Z"
   },
   {
    "duration": 31,
    "start_time": "2025-01-30T16:30:22.841Z"
   },
   {
    "duration": 17,
    "start_time": "2025-01-30T16:30:22.873Z"
   },
   {
    "duration": 5,
    "start_time": "2025-01-30T16:30:22.893Z"
   },
   {
    "duration": 36,
    "start_time": "2025-01-30T16:30:22.899Z"
   },
   {
    "duration": 16,
    "start_time": "2025-01-30T16:30:22.937Z"
   },
   {
    "duration": 4,
    "start_time": "2025-01-30T16:30:22.955Z"
   },
   {
    "duration": 3,
    "start_time": "2025-01-30T16:30:22.961Z"
   },
   {
    "duration": 4,
    "start_time": "2025-01-30T16:30:22.966Z"
   },
   {
    "duration": 5,
    "start_time": "2025-01-30T16:30:22.973Z"
   },
   {
    "duration": 3,
    "start_time": "2025-01-30T16:30:22.980Z"
   },
   {
    "duration": 887,
    "start_time": "2025-01-30T16:30:22.985Z"
   },
   {
    "duration": 1557,
    "start_time": "2025-01-30T16:30:23.874Z"
   },
   {
    "duration": 8,
    "start_time": "2025-01-30T16:30:25.434Z"
   },
   {
    "duration": 6,
    "start_time": "2025-01-30T16:30:25.445Z"
   },
   {
    "duration": 10,
    "start_time": "2025-01-30T16:30:25.453Z"
   },
   {
    "duration": 6,
    "start_time": "2025-01-30T16:30:25.465Z"
   },
   {
    "duration": 8,
    "start_time": "2025-01-30T16:30:25.537Z"
   },
   {
    "duration": 15,
    "start_time": "2025-01-30T16:30:25.547Z"
   },
   {
    "duration": 8,
    "start_time": "2025-01-30T16:30:25.563Z"
   },
   {
    "duration": 68,
    "start_time": "2025-01-30T16:30:25.572Z"
   },
   {
    "duration": 6,
    "start_time": "2025-01-30T16:30:25.642Z"
   },
   {
    "duration": 8,
    "start_time": "2025-01-30T16:30:25.649Z"
   },
   {
    "duration": 3,
    "start_time": "2025-01-30T16:30:25.659Z"
   },
   {
    "duration": 12,
    "start_time": "2025-01-30T16:30:25.663Z"
   },
   {
    "duration": 13,
    "start_time": "2025-01-30T16:30:25.677Z"
   },
   {
    "duration": 4,
    "start_time": "2025-01-30T16:30:25.692Z"
   },
   {
    "duration": 47,
    "start_time": "2025-01-30T16:30:25.698Z"
   },
   {
    "duration": 16,
    "start_time": "2025-01-30T16:30:25.746Z"
   },
   {
    "duration": 4,
    "start_time": "2025-01-30T16:30:25.764Z"
   },
   {
    "duration": 4,
    "start_time": "2025-01-30T16:30:25.770Z"
   },
   {
    "duration": 5,
    "start_time": "2025-01-30T16:30:25.776Z"
   },
   {
    "duration": 3,
    "start_time": "2025-01-30T16:30:25.783Z"
   },
   {
    "duration": 186,
    "start_time": "2025-01-30T16:30:25.788Z"
   },
   {
    "duration": 5,
    "start_time": "2025-01-30T16:30:25.976Z"
   },
   {
    "duration": 8,
    "start_time": "2025-01-30T16:30:25.982Z"
   },
   {
    "duration": 6,
    "start_time": "2025-01-30T16:30:25.992Z"
   },
   {
    "duration": 31,
    "start_time": "2025-01-30T16:30:26.001Z"
   },
   {
    "duration": 524,
    "start_time": "2025-01-30T16:30:26.034Z"
   },
   {
    "duration": 7,
    "start_time": "2025-01-30T16:30:26.560Z"
   },
   {
    "duration": 7,
    "start_time": "2025-01-30T16:30:26.568Z"
   },
   {
    "duration": 4,
    "start_time": "2025-01-30T16:30:26.576Z"
   },
   {
    "duration": 174,
    "start_time": "2025-01-30T16:30:26.582Z"
   },
   {
    "duration": 9,
    "start_time": "2025-01-30T16:30:26.758Z"
   },
   {
    "duration": 4,
    "start_time": "2025-01-30T16:30:26.768Z"
   },
   {
    "duration": 560,
    "start_time": "2025-01-30T16:30:26.774Z"
   },
   {
    "duration": 10,
    "start_time": "2025-01-30T16:30:27.336Z"
   },
   {
    "duration": 5,
    "start_time": "2025-01-30T16:30:27.347Z"
   },
   {
    "duration": 4,
    "start_time": "2025-01-30T16:30:27.355Z"
   },
   {
    "duration": 472,
    "start_time": "2025-01-30T16:30:27.361Z"
   },
   {
    "duration": 5,
    "start_time": "2025-01-30T16:30:27.835Z"
   },
   {
    "duration": 203,
    "start_time": "2025-01-30T16:30:27.841Z"
   },
   {
    "duration": 37,
    "start_time": "2025-01-30T16:30:28.046Z"
   },
   {
    "duration": 201,
    "start_time": "2025-01-30T16:30:28.085Z"
   },
   {
    "duration": 90,
    "start_time": "2025-01-30T16:30:28.288Z"
   },
   {
    "duration": 6,
    "start_time": "2025-01-30T16:30:28.380Z"
   },
   {
    "duration": 231,
    "start_time": "2025-01-30T16:30:28.387Z"
   },
   {
    "duration": 291,
    "start_time": "2025-01-30T16:30:28.620Z"
   },
   {
    "duration": 21,
    "start_time": "2025-01-30T16:30:28.912Z"
   },
   {
    "duration": 111,
    "start_time": "2025-01-30T16:30:28.935Z"
   },
   {
    "duration": 11,
    "start_time": "2025-01-30T16:30:29.049Z"
   },
   {
    "duration": 210,
    "start_time": "2025-01-30T16:30:29.062Z"
   },
   {
    "duration": 6,
    "start_time": "2025-01-30T16:30:29.275Z"
   },
   {
    "duration": 25,
    "start_time": "2025-01-30T16:30:29.282Z"
   },
   {
    "duration": 1233,
    "start_time": "2025-01-30T16:30:29.308Z"
   },
   {
    "duration": 322,
    "start_time": "2025-01-30T16:30:30.543Z"
   },
   {
    "duration": 6,
    "start_time": "2025-01-30T16:30:30.866Z"
   },
   {
    "duration": 138,
    "start_time": "2025-01-30T16:30:30.874Z"
   },
   {
    "duration": 38,
    "start_time": "2025-01-30T16:30:31.014Z"
   },
   {
    "duration": 12,
    "start_time": "2025-01-30T16:30:31.054Z"
   },
   {
    "duration": 2,
    "start_time": "2025-01-30T16:30:31.067Z"
   },
   {
    "duration": 6,
    "start_time": "2025-01-30T16:30:38.711Z"
   }
  ],
  "colab": {
   "provenance": []
  },
  "kernelspec": {
   "display_name": "Python 3 (ipykernel)",
   "language": "python",
   "name": "python3"
  },
  "language_info": {
   "codemirror_mode": {
    "name": "ipython",
    "version": 3
   },
   "file_extension": ".py",
   "mimetype": "text/x-python",
   "name": "python",
   "nbconvert_exporter": "python",
   "pygments_lexer": "ipython3",
   "version": "3.9.19"
  },
  "toc": {
   "base_numbering": 1,
   "nav_menu": {},
   "number_sections": true,
   "sideBar": true,
   "skip_h1_title": true,
   "title_cell": "Table of Contents",
   "title_sidebar": "Contents",
   "toc_cell": false,
   "toc_position": {},
   "toc_section_display": true,
   "toc_window_display": false
  },
  "vscode": {
   "interpreter": {
    "hash": "01a7be9ec63e704a62cefc5fe7a4756944464ee731be31632bdf42a4cb4688cf"
   }
  }
 },
 "nbformat": 4,
 "nbformat_minor": 5
}
