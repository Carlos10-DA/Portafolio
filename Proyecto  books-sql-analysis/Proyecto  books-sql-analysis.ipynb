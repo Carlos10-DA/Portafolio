{
 "cells": [
  {
   "cell_type": "markdown",
   "metadata": {},
   "source": [
    "<h1 style=\"font-size:40px;\">Proyecto SQL</h1>"
   ]
  },
  {
   "cell_type": "markdown",
   "metadata": {},
   "source": [
    "<h1 style=\"font-size:25px;\">Descripción del poyecto: </h1> \n",
    "\n",
    "Durante la pandemia, el comportamiento de los consumidores cambió significativamente, con más personas optando por actividades dentro del hogar, como la lectura. Esto generó oportunidades para startups interesadas en desarrollar aplicaciones para lectores. Con base en este contexto, el objetivo del proyecto es analizar una base de datos de un servicio digital de libros que contiene información sobre publicaciones, autores, editoriales, calificaciones y reseñas de usuarios.\n",
    "\n",
    "Este estudio busca extraer información relevante a través de consultas SQL que permita entender mejor el comportamiento de los usuarios y las características del contenido más valorado. A partir de estos análisis, se podrá generar una propuesta de valor para el desarrollo de un nuevo producto o funcionalidad que compita en el mercado de aplicaciones para lectores.\n",
    "\n",
    "\n",
    "Los principales objetivos de este analisis son: identificar la cantidad de libros modernos (publicados después del 2000), analizar la relación entre calificaciones y reseñas por libro, determinar qué editorial publica más libros de contenido sustancial (más de 50 páginas), detectar al autor con mejor desempeño en términos de calificaciones, considerando libros con suficiente retroalimentación y evaluar el nivel de participación de los usuarios más activos, mediante la cantidad de reseñas de texto."
   ]
  },
  {
   "cell_type": "code",
   "execution_count": 31,
   "metadata": {},
   "outputs": [],
   "source": [
    "import pandas as pd\n",
    "from sqlalchemy import create_engine\n",
    "\n",
    "\n",
    "db_config = {\n",
    "    'user': 'practicum_student',\n",
    "    'pwd': 'QnmDH8Sc2TQLvy2G3Vvh7',\n",
    "    'host': 'yp-trainers-practicum.cluster-czs0gxyx2d8w.us-east-1.rds.amazonaws.com',\n",
    "    'port': 5432,\n",
    "    'db': 'data-analyst-final-project-db'\n",
    "}\n",
    "\n",
    "\n",
    "connection_string = 'postgresql://{}:{}@{}:{}/{}'.format(\n",
    "    db_config['user'],\n",
    "    db_config['pwd'],\n",
    "    db_config['host'],\n",
    "    db_config['port'],\n",
    "    db_config['db']\n",
    ")\n",
    "\n",
    "\n",
    "engine = create_engine(connection_string, connect_args={'sslmode':'require'})"
   ]
  },
  {
   "cell_type": "markdown",
   "metadata": {},
   "source": [
    "<h1 style=\"font-size:20px;\"> 1.-Imprimir las tablas </h1> "
   ]
  },
  {
   "cell_type": "code",
   "execution_count": 32,
   "metadata": {},
   "outputs": [
    {
     "name": "stdout",
     "output_type": "stream",
     "text": [
      " Tabla: books\n",
      "   book_id  author_id                                              title  \\\n",
      "0        1        546                                       'Salem's Lot   \n",
      "1        2        465                 1 000 Places to See Before You Die   \n",
      "2        3        407  13 Little Blue Envelopes (Little Blue Envelope...   \n",
      "3        4         82  1491: New Revelations of the Americas Before C...   \n",
      "4        5        125                                               1776   \n",
      "\n",
      "   num_pages publication_date  publisher_id  \n",
      "0        594       2005-11-01            93  \n",
      "1        992       2003-05-22           336  \n",
      "2        322       2010-12-21           135  \n",
      "3        541       2006-10-10           309  \n",
      "4        386       2006-07-04           268   \n",
      "\n",
      " Tabla: authors\n",
      "   author_id                          author\n",
      "0          1                      A.S. Byatt\n",
      "1          2  Aesop/Laura Harris/Laura Gibbs\n",
      "2          3                 Agatha Christie\n",
      "3          4                   Alan Brennert\n",
      "4          5        Alan Moore/David   Lloyd \n",
      "\n",
      " Tabla: publishers\n",
      "   publisher_id                          publisher\n",
      "0             1                                Ace\n",
      "1             2                           Ace Book\n",
      "2             3                          Ace Books\n",
      "3             4                      Ace Hardcover\n",
      "4             5  Addison Wesley Publishing Company \n",
      "\n",
      " Tabla: ratings\n",
      "   rating_id  book_id       username  rating\n",
      "0          1        1     ryanfranco       4\n",
      "1          2        1  grantpatricia       2\n",
      "2          3        1   brandtandrea       5\n",
      "3          4        2       lorichen       3\n",
      "4          5        2    mariokeller       2 \n",
      "\n",
      " Tabla: reviews\n",
      "   review_id  book_id       username  \\\n",
      "0          1        1   brandtandrea   \n",
      "1          2        1     ryanfranco   \n",
      "2          3        2       lorichen   \n",
      "3          4        3  johnsonamanda   \n",
      "4          5        3    scotttamara   \n",
      "\n",
      "                                                text  \n",
      "0  Mention society tell send professor analysis. ...  \n",
      "1  Foot glass pretty audience hit themselves. Amo...  \n",
      "2  Listen treat keep worry. Miss husband tax but ...  \n",
      "3  Finally month interesting blue could nature cu...  \n",
      "4  Nation purpose heavy give wait song will. List...   \n",
      "\n"
     ]
    }
   ],
   "source": [
    "# Tabla: books\n",
    "query_books = 'SELECT * FROM books LIMIT 5;'\n",
    "books_sample = pd.read_sql(query_books, con=engine)\n",
    "print(\" Tabla: books\")\n",
    "print(books_sample, '\\n')\n",
    "\n",
    "# Tabla: authors\n",
    "query_authors = 'SELECT * FROM authors LIMIT 5;'\n",
    "authors_sample = pd.read_sql(query_authors, con=engine)\n",
    "print(\" Tabla: authors\")\n",
    "print(authors_sample, '\\n')\n",
    "\n",
    "# Tabla: publishers\n",
    "query_publishers = 'SELECT * FROM publishers LIMIT 5;'\n",
    "publishers_sample = pd.read_sql(query_publishers, con=engine)\n",
    "print(\" Tabla: publishers\")\n",
    "print(publishers_sample, '\\n')\n",
    "\n",
    "# Tabla: ratings\n",
    "query_ratings = 'SELECT * FROM ratings LIMIT 5;'\n",
    "ratings_sample = pd.read_sql(query_ratings, con=engine)\n",
    "print(\" Tabla: ratings\")\n",
    "print(ratings_sample, '\\n')\n",
    "\n",
    "# Tabla: reviews\n",
    "query_reviews = 'SELECT * FROM reviews LIMIT 5;'\n",
    "reviews_sample = pd.read_sql(query_reviews, con=engine)\n",
    "print(\" Tabla: reviews\")\n",
    "print(reviews_sample, '\\n')"
   ]
  },
  {
   "cell_type": "markdown",
   "metadata": {},
   "source": [
    "<h1 style=\"font-size:20px;\"> 2.-Número de libros publicados después del 1 de enero de 2000</h1>"
   ]
  },
  {
   "cell_type": "code",
   "execution_count": 33,
   "metadata": {},
   "outputs": [
    {
     "name": "stdout",
     "output_type": "stream",
     "text": [
      "   books_after_2000\n",
      "0               819\n"
     ]
    }
   ],
   "source": [
    "query_1 = '''\n",
    "SELECT COUNT(*) AS books_after_2000\n",
    "FROM books\n",
    "WHERE publication_date > '2000-01-01';\n",
    "'''\n",
    "\n",
    "\n",
    "result_1 = pd.read_sql(query_1, con=engine)\n",
    "print(result_1)"
   ]
  },
  {
   "cell_type": "markdown",
   "metadata": {},
   "source": [
    "<h1 style=\"font-size:20px;\"> 3.-Número de reseñas de usuarios y la calificación promedio para cada libro.</h1>"
   ]
  },
  {
   "cell_type": "code",
   "execution_count": 34,
   "metadata": {},
   "outputs": [
    {
     "name": "stdout",
     "output_type": "stream",
     "text": [
      "   book_id                                              title  num_reviews  \\\n",
      "0      948                            Twilight (Twilight  #1)            7   \n",
      "1      963                                Water for Elephants            6   \n",
      "2      734                                   The Glass Castle            6   \n",
      "3      302  Harry Potter and the Prisoner of Azkaban (Harr...            6   \n",
      "4      695  The Curious Incident of the Dog in the Night-Time            6   \n",
      "5      696             The Da Vinci Code (Robert Langdon  #2)            6   \n",
      "6      627                                      The Alchemist            6   \n",
      "7      750                The Hobbit  or There and Back Again            6   \n",
      "8      656                                     The Book Thief            6   \n",
      "9      779  The Lightning Thief (Percy Jackson and the Oly...            6   \n",
      "\n",
      "   avg_rating  \n",
      "0        3.66  \n",
      "1        3.98  \n",
      "2        4.21  \n",
      "3        4.41  \n",
      "4        4.08  \n",
      "5        3.83  \n",
      "6        3.79  \n",
      "7        4.13  \n",
      "8        4.26  \n",
      "9        4.08  \n"
     ]
    }
   ],
   "source": [
    "query_2 = '''\n",
    "SELECT \n",
    "    b.book_id,\n",
    "    b.title,\n",
    "    COUNT(DISTINCT r.review_id) AS num_reviews,\n",
    "    ROUND(AVG(rt.rating), 2) AS avg_rating\n",
    "FROM books b\n",
    "LEFT JOIN reviews r ON b.book_id = r.book_id\n",
    "LEFT JOIN ratings rt ON b.book_id = rt.book_id\n",
    "GROUP BY b.book_id, b.title\n",
    "ORDER BY num_reviews DESC;\n",
    "'''\n",
    "\n",
    "\n",
    "result_2 = pd.read_sql(query_2, con=engine)\n",
    "print(result_2.head(10))  "
   ]
  },
  {
   "cell_type": "markdown",
   "metadata": {},
   "source": [
    "<h1 style=\"font-size:20px;\"> 4.-Editorial que ha publicado el mayor número de libros con más de 50 páginas.</h1>"
   ]
  },
  {
   "cell_type": "code",
   "execution_count": 35,
   "metadata": {},
   "outputs": [
    {
     "name": "stdout",
     "output_type": "stream",
     "text": [
      "       publisher  num_books\n",
      "0  Penguin Books         42\n"
     ]
    }
   ],
   "source": [
    "query_3 = '''\n",
    "SELECT \n",
    "    p.publisher,\n",
    "    COUNT(b.book_id) AS num_books\n",
    "FROM books b\n",
    "JOIN publishers p ON b.publisher_id = p.publisher_id\n",
    "WHERE b.num_pages > 50\n",
    "GROUP BY p.publisher\n",
    "ORDER BY num_books DESC\n",
    "LIMIT 1;\n",
    "'''\n",
    "\n",
    "\n",
    "result_3 = pd.read_sql(query_3, con=engine)\n",
    "print(result_3)"
   ]
  },
  {
   "cell_type": "markdown",
   "metadata": {},
   "source": [
    "<h1 style=\"font-size:20px;\">5.-Autor que tiene la más alta calificación promedio del libro.</h1>"
   ]
  },
  {
   "cell_type": "code",
   "execution_count": 36,
   "metadata": {},
   "outputs": [
    {
     "name": "stdout",
     "output_type": "stream",
     "text": [
      "                       author  avg_author_rating\n",
      "0  J.K. Rowling/Mary GrandPré               4.28\n"
     ]
    }
   ],
   "source": [
    "query_4 = '''\n",
    "WITH book_rating_stats AS (\n",
    "    SELECT \n",
    "        b.book_id,\n",
    "        b.author_id,\n",
    "        COUNT(r.rating_id) AS num_ratings,\n",
    "        AVG(r.rating) AS avg_rating\n",
    "    FROM books b\n",
    "    JOIN ratings r ON b.book_id = r.book_id\n",
    "    GROUP BY b.book_id, b.author_id\n",
    "    HAVING COUNT(r.rating_id) >= 50\n",
    "),\n",
    "author_avg_ratings AS (\n",
    "    SELECT \n",
    "        a.author,\n",
    "        ROUND(AVG(brs.avg_rating), 2) AS avg_author_rating\n",
    "    FROM book_rating_stats brs\n",
    "    JOIN authors a ON brs.author_id = a.author_id\n",
    "    GROUP BY a.author\n",
    ")\n",
    "\n",
    "SELECT \n",
    "    author,\n",
    "    avg_author_rating\n",
    "FROM author_avg_ratings\n",
    "ORDER BY avg_author_rating DESC\n",
    "LIMIT 1;\n",
    "'''\n",
    "\n",
    "\n",
    "result_4 = pd.read_sql(query_4, con=engine)\n",
    "print(result_4)"
   ]
  },
  {
   "cell_type": "markdown",
   "metadata": {},
   "source": [
    "<h1 style=\"font-size:20px;\"> 6.-Número promedio de reseñas de texto entre los usuarios que calificaron más de 50 libros.</h1>"
   ]
  },
  {
   "cell_type": "code",
   "execution_count": 37,
   "metadata": {},
   "outputs": [
    {
     "name": "stdout",
     "output_type": "stream",
     "text": [
      "   avg_reviews_per_user\n",
      "0                 24.33\n"
     ]
    }
   ],
   "source": [
    "query_5 = '''\n",
    "WITH active_raters AS (\n",
    "    SELECT username\n",
    "    FROM ratings\n",
    "    GROUP BY username\n",
    "    HAVING COUNT(rating_id) > 50\n",
    "),\n",
    "user_reviews AS (\n",
    "    SELECT ar.username, COUNT(rv.review_id) AS num_reviews\n",
    "    FROM active_raters ar\n",
    "    LEFT JOIN reviews rv ON ar.username = rv.username\n",
    "    GROUP BY ar.username\n",
    ")\n",
    "\n",
    "SELECT ROUND(AVG(num_reviews), 2) AS avg_reviews_per_user\n",
    "FROM user_reviews;\n",
    "'''\n",
    "\n",
    "\n",
    "result_5 = pd.read_sql(query_5, con=engine)\n",
    "print(result_5)"
   ]
  },
  {
   "cell_type": "markdown",
   "metadata": {},
   "source": [
    "<h1 style=\"font-size:35px;\"> Conclusiones generales</h1>"
   ]
  },
  {
   "cell_type": "markdown",
   "metadata": {},
   "source": [
    "Despues de haber realizado la consulta anterior, se puede observar lo siguiente:\n",
    "\n",
    "\n",
    "-Se han publicado 819 libros publicados después del 1 de enero de 2000 lo cual muestra que si ha habido un numero considerable de publicaciones posterior a la pandemia y refleja el gusto de las personas por leer y aprovechar el tiempo en casa.\n",
    "\n",
    "-Entre los libros con mayor numero de reseñas y calificacion promedio mas alto de libros son Twilight con  7 reseñasy una calificación promedio 3.66 y Harry Potter and the Prisoner of Azkaban con 6 reseñas y una calificaíon promedio de 4.41, por lo que se puede notar que los libros populares y de literatura juvenil o fantástica suelen tener más reseñas y buenas calificaciones, además de  indica un alta preferencia por parte de los lectores.\n",
    "\n",
    "-La editorial Penguin Books destaca como la editorial con mayor número de publicaciones en el catálogo (excluyendo folletos u obras breves), por lo que podría ser una editorial clave para establecer alianzas o destacar contenido de calidad en la plataforma.\n",
    "\n",
    "\n",
    "-La autora con la calificación promedio más alta es J.K. Rowling/Mary GrandPré con 4.28 (que es la autora de la saga de Harry Potter) por lo que se puede notar que no solo son leídos muy leidos y buscados, sino también consistentemente bien valorados, lo que confirma nuevamente su relevancia para el público lector como en sus reseñas y puntuación. Lo anterior nos ayuda a identificar que si se hace alguna alianza con la autora para lanzar un libro nuevo, se tiene más certeza de que el libro tenga exito.\n",
    "\n",
    "-Por ultimo, el número promedio de reseñas de texto entre usuarios que calificaron más de 50 libros es de 24.33 reseñas por usuario, por lo que se puede notar que los usuarios más activos no solo califican muchos libros, sino que también escriben reseñas detalladas. Al tener usuarios participativos, se podrían implementar nuevas formás para crear más  interacción mediante una nueva aplicación, como foros, recomendaciones o clubes de lectura.\n",
    "\n",
    "\n",
    "Como comentario final y como respuesta a cual sería una buena opción para generar una propuesta de valor para nuevo producto, se podría hacer alianza con la editorial o editoriales con más participacion en el mercado como lo es Penguin, trabajando en conjunto con autores de renombre internacional para tener más certeza de exito como lo es la autora J.K. Rowling y la ilustradora Mary GrandPré para crear un nuevo libro con temá de interes actual como fantasia. Si se ponen en conjunto los 3 aspectos principales (editorial, autora y genero más buscado) se puede tener más certeza de que el libro puede tener mayor exito en su lanzamiento."
   ]
  }
 ],
 "metadata": {
  "kernelspec": {
   "display_name": "Python 3 (ipykernel)",
   "language": "python",
   "name": "python3"
  },
  "language_info": {
   "codemirror_mode": {
    "name": "ipython",
    "version": 3
   },
   "file_extension": ".py",
   "mimetype": "text/x-python",
   "name": "python",
   "nbconvert_exporter": "python",
   "pygments_lexer": "ipython3",
   "version": "3.9.23"
  }
 },
 "nbformat": 4,
 "nbformat_minor": 4
}
