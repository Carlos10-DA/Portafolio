{
 "cells": [
  {
   "cell_type": "markdown",
   "metadata": {},
   "source": [
    "-----"
   ]
  },
  {
   "cell_type": "markdown",
   "metadata": {},
   "source": [
    "-----"
   ]
  },
  {
   "cell_type": "markdown",
   "metadata": {
    "id": "3rYiDeEH0q0f"
   },
   "source": [
    "# ¿Cuál es la mejor tarifa?\n",
    "\n",
    "Trabajas como analista para el operador de telecomunicaciones Megaline. La empresa ofrece a sus clientes dos tarifas de prepago, Surf y Ultimate. El departamento comercial quiere saber cuál de las tarifas genera más ingresos para poder ajustar el presupuesto de publicidad.\n",
    "\n",
    "Vas a realizar un análisis preliminar de las tarifas basado en una selección de clientes relativamente pequeña. Tendrás los datos de 500 clientes de Megaline: quiénes son los clientes, de dónde son, qué tarifa usan, así como la cantidad de llamadas que hicieron y los mensajes de texto que enviaron en 2018. Tu trabajo es analizar el comportamiento de los clientes y determinar qué tarifa de prepago genera más ingresos."
   ]
  },
  {
   "cell_type": "markdown",
   "metadata": {
    "id": "VNddPNRQ0q0w"
   },
   "source": [
    "[Te proporcionamos algunos comentarios para orientarte mientras completas este proyecto. Pero debes asegurarte de eliminar todos los comentarios entre corchetes antes de entregar tu proyecto.]\n",
    "\n",
    "[Antes de sumergirte en el análisis de datos, explica por tu propia cuenta el propósito del proyecto y las acciones que planeas realizar.]\n",
    "\n",
    "[Ten en cuenta que estudiar, modificar y analizar datos es un proceso iterativo. Es normal volver a los pasos anteriores y corregirlos/ampliarlos para permitir nuevos pasos.]"
   ]
  },
  {
   "cell_type": "markdown",
   "metadata": {
    "id": "MQi4IPy70q0y"
   },
   "source": [
    "## Inicialización"
   ]
  },
  {
   "cell_type": "code",
   "execution_count": 1,
   "metadata": {
    "id": "MtYIuBxu0q0z",
    "trusted": true
   },
   "outputs": [],
   "source": [
    "# Cargar todas las librerías\n",
    "\n",
    "import pandas as pd\n",
    "import numpy as np\n",
    "import matplotlib.pyplot as plt\n",
    "import seaborn as sns\n",
    "import scipy.stats as stats\n",
    "\n",
    "\n"
   ]
  },
  {
   "cell_type": "markdown",
   "metadata": {
    "id": "4ysWWC5i0q00"
   },
   "source": [
    "## Cargar datos"
   ]
  },
  {
   "cell_type": "code",
   "execution_count": 2,
   "metadata": {
    "id": "CCqPW7rS0q01",
    "trusted": true
   },
   "outputs": [
    {
     "name": "stdout",
     "output_type": "stream",
     "text": [
      "     user_id first_name   last_name  age  \\\n",
      "0       1000   Anamaria       Bauer   45   \n",
      "1       1001     Mickey   Wilkerson   28   \n",
      "2       1002     Carlee     Hoffman   36   \n",
      "3       1003   Reynaldo     Jenkins   52   \n",
      "4       1004    Leonila    Thompson   40   \n",
      "..       ...        ...         ...  ...   \n",
      "495     1495      Fidel      Sharpe   67   \n",
      "496     1496      Ariel    Shepherd   49   \n",
      "497     1497      Donte     Barrera   49   \n",
      "498     1498       Scot  Williamson   51   \n",
      "499     1499      Shena     Dickson   37   \n",
      "\n",
      "                                          city    reg_date      plan  \\\n",
      "0        Atlanta-Sandy Springs-Roswell, GA MSA  2018-12-24  ultimate   \n",
      "1              Seattle-Tacoma-Bellevue, WA MSA  2018-08-13      surf   \n",
      "2         Las Vegas-Henderson-Paradise, NV MSA  2018-10-21      surf   \n",
      "3                                Tulsa, OK MSA  2018-01-28      surf   \n",
      "4              Seattle-Tacoma-Bellevue, WA MSA  2018-05-23      surf   \n",
      "..                                         ...         ...       ...   \n",
      "495  New York-Newark-Jersey City, NY-NJ-PA MSA  2018-09-04      surf   \n",
      "496               New Orleans-Metairie, LA MSA  2018-02-20      surf   \n",
      "497     Los Angeles-Long Beach-Anaheim, CA MSA  2018-12-10  ultimate   \n",
      "498  New York-Newark-Jersey City, NY-NJ-PA MSA  2018-02-04      surf   \n",
      "499          Orlando-Kissimmee-Sanford, FL MSA  2018-05-06      surf   \n",
      "\n",
      "    churn_date  \n",
      "0          NaN  \n",
      "1          NaN  \n",
      "2          NaN  \n",
      "3          NaN  \n",
      "4          NaN  \n",
      "..         ...  \n",
      "495        NaN  \n",
      "496        NaN  \n",
      "497        NaN  \n",
      "498        NaN  \n",
      "499        NaN  \n",
      "\n",
      "[500 rows x 8 columns]\n"
     ]
    }
   ],
   "source": [
    "# Carga los archivos de datos en diferentes DataFrames\n",
    "\n",
    "df_users = pd.read_csv('/datasets/megaline_users.csv')\n",
    "\n",
    "print(df_users)\n",
    "\n"
   ]
  },
  {
   "cell_type": "code",
   "execution_count": 3,
   "metadata": {
    "trusted": true
   },
   "outputs": [
    {
     "name": "stdout",
     "output_type": "stream",
     "text": [
      "              id  user_id   call_date  duration\n",
      "0        1000_93     1000  2018-12-27      8.52\n",
      "1       1000_145     1000  2018-12-27     13.66\n",
      "2       1000_247     1000  2018-12-27     14.48\n",
      "3       1000_309     1000  2018-12-28      5.76\n",
      "4       1000_380     1000  2018-12-30      4.22\n",
      "...          ...      ...         ...       ...\n",
      "137730  1499_199     1499  2018-11-21      8.72\n",
      "137731  1499_200     1499  2018-10-20     10.89\n",
      "137732  1499_201     1499  2018-09-21      8.12\n",
      "137733  1499_202     1499  2018-10-10      0.37\n",
      "137734  1499_203     1499  2018-12-29     13.86\n",
      "\n",
      "[137735 rows x 4 columns]\n"
     ]
    }
   ],
   "source": [
    "df_calls = pd.read_csv('/datasets/megaline_calls.csv')\n",
    "\n",
    "print(df_calls)"
   ]
  },
  {
   "cell_type": "code",
   "execution_count": 4,
   "metadata": {
    "trusted": true
   },
   "outputs": [
    {
     "name": "stdout",
     "output_type": "stream",
     "text": [
      "             id  user_id message_date\n",
      "0      1000_125     1000   2018-12-27\n",
      "1      1000_160     1000   2018-12-31\n",
      "2      1000_223     1000   2018-12-31\n",
      "3      1000_251     1000   2018-12-27\n",
      "4      1000_255     1000   2018-12-26\n",
      "...         ...      ...          ...\n",
      "76046  1497_526     1497   2018-12-24\n",
      "76047  1497_536     1497   2018-12-24\n",
      "76048  1497_547     1497   2018-12-31\n",
      "76049  1497_558     1497   2018-12-24\n",
      "76050  1497_613     1497   2018-12-23\n",
      "\n",
      "[76051 rows x 3 columns]\n"
     ]
    }
   ],
   "source": [
    "df_messages = pd.read_csv('/datasets/megaline_messages.csv')\n",
    "\n",
    "print(df_messages)"
   ]
  },
  {
   "cell_type": "code",
   "execution_count": 5,
   "metadata": {
    "trusted": true
   },
   "outputs": [
    {
     "name": "stdout",
     "output_type": "stream",
     "text": [
      "              id  user_id session_date  mb_used\n",
      "0        1000_13     1000   2018-12-29    89.86\n",
      "1       1000_204     1000   2018-12-31     0.00\n",
      "2       1000_379     1000   2018-12-28   660.40\n",
      "3       1000_413     1000   2018-12-26   270.99\n",
      "4       1000_442     1000   2018-12-27   880.22\n",
      "...          ...      ...          ...      ...\n",
      "104820  1499_215     1499   2018-10-20   218.06\n",
      "104821  1499_216     1499   2018-12-30   304.72\n",
      "104822  1499_217     1499   2018-09-22   292.75\n",
      "104823  1499_218     1499   2018-12-07     0.00\n",
      "104824  1499_219     1499   2018-12-24   758.31\n",
      "\n",
      "[104825 rows x 4 columns]\n"
     ]
    }
   ],
   "source": [
    "df_internet = pd.read_csv('/datasets/megaline_internet.csv')\n",
    "\n",
    "print(df_internet)"
   ]
  },
  {
   "cell_type": "code",
   "execution_count": 6,
   "metadata": {
    "trusted": true
   },
   "outputs": [
    {
     "name": "stdout",
     "output_type": "stream",
     "text": [
      "   messages_included  mb_per_month_included  minutes_included  \\\n",
      "0                 50                  15360               500   \n",
      "1               1000                  30720              3000   \n",
      "\n",
      "   usd_monthly_pay  usd_per_gb  usd_per_message  usd_per_minute plan_name  \n",
      "0               20          10             0.03            0.03      surf  \n",
      "1               70           7             0.01            0.01  ultimate  \n"
     ]
    }
   ],
   "source": [
    "df_plans = pd.read_csv('/datasets/megaline_plans.csv')\n",
    "\n",
    "print(df_plans)"
   ]
  },
  {
   "cell_type": "markdown",
   "metadata": {
    "id": "69qqoJ3r0q01"
   },
   "source": [
    "## Preparar los datos"
   ]
  },
  {
   "cell_type": "markdown",
   "metadata": {
    "id": "vUuZw80S0q01"
   },
   "source": [
    "[Los datos para este proyecto se dividen en varias tablas. Explora cada una para tener una comprensión inicial de los datos. Si es necesario, haz las correcciones requeridas en cada tabla.]"
   ]
  },
  {
   "cell_type": "code",
   "execution_count": 7,
   "metadata": {
    "trusted": true
   },
   "outputs": [
    {
     "name": "stdout",
     "output_type": "stream",
     "text": [
      "<class 'pandas.core.frame.DataFrame'>\n",
      "RangeIndex: 500 entries, 0 to 499\n",
      "Data columns (total 8 columns):\n",
      " #   Column      Non-Null Count  Dtype \n",
      "---  ------      --------------  ----- \n",
      " 0   user_id     500 non-null    int64 \n",
      " 1   first_name  500 non-null    object\n",
      " 2   last_name   500 non-null    object\n",
      " 3   age         500 non-null    int64 \n",
      " 4   city        500 non-null    object\n",
      " 5   reg_date    500 non-null    object\n",
      " 6   plan        500 non-null    object\n",
      " 7   churn_date  34 non-null     object\n",
      "dtypes: int64(2), object(6)\n",
      "memory usage: 31.4+ KB\n",
      "None\n"
     ]
    }
   ],
   "source": [
    "print(df_users.info())"
   ]
  },
  {
   "cell_type": "code",
   "execution_count": 8,
   "metadata": {
    "trusted": true
   },
   "outputs": [
    {
     "name": "stdout",
     "output_type": "stream",
     "text": [
      "<class 'pandas.core.frame.DataFrame'>\n",
      "RangeIndex: 500 entries, 0 to 499\n",
      "Data columns (total 8 columns):\n",
      " #   Column      Non-Null Count  Dtype         \n",
      "---  ------      --------------  -----         \n",
      " 0   user_id     500 non-null    int64         \n",
      " 1   first_name  500 non-null    object        \n",
      " 2   last_name   500 non-null    object        \n",
      " 3   age         500 non-null    int64         \n",
      " 4   city        500 non-null    object        \n",
      " 5   reg_date    500 non-null    datetime64[ns]\n",
      " 6   plan        500 non-null    object        \n",
      " 7   churn_date  34 non-null     object        \n",
      "dtypes: datetime64[ns](1), int64(2), object(5)\n",
      "memory usage: 31.4+ KB\n",
      "None\n"
     ]
    }
   ],
   "source": [
    "df_users['reg_date'] = pd.to_datetime(df_users['reg_date'], format='%Y-%m-%d')\n",
    "\n",
    "print(df_users.info())"
   ]
  },
  {
   "cell_type": "code",
   "execution_count": 9,
   "metadata": {
    "trusted": true
   },
   "outputs": [
    {
     "name": "stdout",
     "output_type": "stream",
     "text": [
      "<class 'pandas.core.frame.DataFrame'>\n",
      "RangeIndex: 500 entries, 0 to 499\n",
      "Data columns (total 8 columns):\n",
      " #   Column      Non-Null Count  Dtype         \n",
      "---  ------      --------------  -----         \n",
      " 0   user_id     500 non-null    int64         \n",
      " 1   first_name  500 non-null    object        \n",
      " 2   last_name   500 non-null    object        \n",
      " 3   age         500 non-null    int64         \n",
      " 4   city        500 non-null    object        \n",
      " 5   reg_date    500 non-null    datetime64[ns]\n",
      " 6   plan        500 non-null    object        \n",
      " 7   churn_date  34 non-null     object        \n",
      "dtypes: datetime64[ns](1), int64(2), object(5)\n",
      "memory usage: 31.4+ KB\n",
      "None\n"
     ]
    }
   ],
   "source": [
    "df_users['reg_date'] = pd.to_datetime(df_users['reg_date'], format='%Y-%m-%d')\n",
    "\n",
    "print(df_users.info())"
   ]
  },
  {
   "cell_type": "code",
   "execution_count": 10,
   "metadata": {
    "trusted": true
   },
   "outputs": [
    {
     "name": "stdout",
     "output_type": "stream",
     "text": [
      "user_id         0\n",
      "first_name      0\n",
      "last_name       0\n",
      "age             0\n",
      "city            0\n",
      "reg_date        0\n",
      "plan            0\n",
      "churn_date    466\n",
      "dtype: int64\n"
     ]
    }
   ],
   "source": [
    "print(df_users.isna().sum())"
   ]
  },
  {
   "cell_type": "code",
   "execution_count": 11,
   "metadata": {
    "trusted": true
   },
   "outputs": [
    {
     "name": "stdout",
     "output_type": "stream",
     "text": [
      "120           NaN\n",
      "408           NaN\n",
      "150           NaN\n",
      "41            NaN\n",
      "316           NaN\n",
      "299           NaN\n",
      "445           NaN\n",
      "211           NaN\n",
      "413           NaN\n",
      "354           NaN\n",
      "9             NaN\n",
      "186    2018-12-31\n",
      "474           NaN\n",
      "329           NaN\n",
      "20            NaN\n",
      "Name: churn_date, dtype: object\n"
     ]
    }
   ],
   "source": [
    "print(df_users['churn_date'].sample(15))"
   ]
  },
  {
   "cell_type": "code",
   "execution_count": 12,
   "metadata": {
    "scrolled": true,
    "trusted": true
   },
   "outputs": [
    {
     "name": "stdout",
     "output_type": "stream",
     "text": [
      "<class 'pandas.core.frame.DataFrame'>\n",
      "RangeIndex: 500 entries, 0 to 499\n",
      "Data columns (total 8 columns):\n",
      " #   Column      Non-Null Count  Dtype         \n",
      "---  ------      --------------  -----         \n",
      " 0   user_id     500 non-null    int64         \n",
      " 1   first_name  500 non-null    object        \n",
      " 2   last_name   500 non-null    object        \n",
      " 3   age         500 non-null    int64         \n",
      " 4   city        500 non-null    object        \n",
      " 5   reg_date    500 non-null    datetime64[ns]\n",
      " 6   plan        500 non-null    object        \n",
      " 7   churn_date  34 non-null     datetime64[ns]\n",
      "dtypes: datetime64[ns](2), int64(2), object(4)\n",
      "memory usage: 31.4+ KB\n",
      "None\n"
     ]
    }
   ],
   "source": [
    "df_users['churn_date'] = pd.to_datetime(df_users['churn_date'], format='%Y-%m-%d')\n",
    "\n",
    "print(df_users.info())"
   ]
  },
  {
   "cell_type": "code",
   "execution_count": 13,
   "metadata": {
    "trusted": true
   },
   "outputs": [
    {
     "name": "stdout",
     "output_type": "stream",
     "text": [
      "358   2018-10-22\n",
      "87    2019-01-01\n",
      "359   2019-01-01\n",
      "260   2019-01-01\n",
      "422   2019-01-01\n",
      "314   2019-01-01\n",
      "205   2019-01-01\n",
      "129   2018-12-27\n",
      "363   2018-08-16\n",
      "426   2019-01-01\n",
      "13    2019-01-01\n",
      "401   2019-01-01\n",
      "301   2019-01-01\n",
      "483   2019-01-01\n",
      "241   2019-01-01\n",
      "Name: churn_date, dtype: datetime64[ns]\n",
      "None\n"
     ]
    }
   ],
   "source": [
    "df_users['churn_date'] = df_users['churn_date'].fillna(pd.to_datetime('2019-01-01'))\n",
    "\n",
    "print(print(df_users['churn_date'].sample(15)))"
   ]
  },
  {
   "cell_type": "code",
   "execution_count": 14,
   "metadata": {
    "trusted": true
   },
   "outputs": [
    {
     "name": "stdout",
     "output_type": "stream",
     "text": [
      "0\n"
     ]
    }
   ],
   "source": [
    "print(df_users.duplicated().sum())"
   ]
  },
  {
   "cell_type": "markdown",
   "metadata": {},
   "source": [
    "Observaciones:\n",
    "    \n",
    "- Se cambio el tipo de dato de \"Object\"  a  en \"reg_date\" y \"churn_date\"\n",
    "    \n",
    "De 500 filas en la fecha, hay 466 valores nulos en la columa \"churn_date\" lo que represanta más del 90 % de los datos asi que no se podian eliminar\n",
    "y fueron remplazadas con una fecha estandar la cual fue con la fecha \"primero de enero de 2019\", indicando que la mayoria de \n",
    "usuarios seguian usando  su plan.\n",
    "\n",
    "-No se encontraron valores duplicados"
   ]
  },
  {
   "cell_type": "code",
   "execution_count": 15,
   "metadata": {
    "scrolled": true,
    "trusted": true
   },
   "outputs": [
    {
     "name": "stdout",
     "output_type": "stream",
     "text": [
      "<class 'pandas.core.frame.DataFrame'>\n",
      "RangeIndex: 137735 entries, 0 to 137734\n",
      "Data columns (total 4 columns):\n",
      " #   Column     Non-Null Count   Dtype  \n",
      "---  ------     --------------   -----  \n",
      " 0   id         137735 non-null  object \n",
      " 1   user_id    137735 non-null  int64  \n",
      " 2   call_date  137735 non-null  object \n",
      " 3   duration   137735 non-null  float64\n",
      "dtypes: float64(1), int64(1), object(2)\n",
      "memory usage: 4.2+ MB\n",
      "None\n"
     ]
    }
   ],
   "source": [
    "print(df_calls.info())"
   ]
  },
  {
   "cell_type": "code",
   "execution_count": 16,
   "metadata": {
    "trusted": true
   },
   "outputs": [
    {
     "name": "stdout",
     "output_type": "stream",
     "text": [
      "<class 'pandas.core.frame.DataFrame'>\n",
      "RangeIndex: 137735 entries, 0 to 137734\n",
      "Data columns (total 4 columns):\n",
      " #   Column     Non-Null Count   Dtype         \n",
      "---  ------     --------------   -----         \n",
      " 0   id         137735 non-null  object        \n",
      " 1   user_id    137735 non-null  int64         \n",
      " 2   call_date  137735 non-null  datetime64[ns]\n",
      " 3   duration   137735 non-null  float64       \n",
      "dtypes: datetime64[ns](1), float64(1), int64(1), object(1)\n",
      "memory usage: 4.2+ MB\n",
      "None\n"
     ]
    }
   ],
   "source": [
    "df_calls['call_date'] = pd.to_datetime(df_calls['call_date'], format='%Y-%m-%d')\n",
    "\n",
    "print(df_calls.info())"
   ]
  },
  {
   "cell_type": "code",
   "execution_count": 17,
   "metadata": {
    "trusted": true
   },
   "outputs": [
    {
     "name": "stdout",
     "output_type": "stream",
     "text": [
      "0\n"
     ]
    }
   ],
   "source": [
    "print(df_calls.duplicated().sum())"
   ]
  },
  {
   "cell_type": "code",
   "execution_count": 18,
   "metadata": {
    "trusted": true
   },
   "outputs": [
    {
     "name": "stdout",
     "output_type": "stream",
     "text": [
      "id           0\n",
      "user_id      0\n",
      "call_date    0\n",
      "duration     0\n",
      "dtype: int64\n"
     ]
    }
   ],
   "source": [
    "print(df_calls.isna().sum())"
   ]
  },
  {
   "cell_type": "markdown",
   "metadata": {},
   "source": [
    "Observaciones:\n",
    "\n",
    "- Id no se cambió a entero ya que el user id contiene un guion bajo por lo cual se dejo como \"object\"\n",
    "- se cambió la columna \"call_date\" de \"object\" a \"datetime64\" ya que indica una fecha.\n",
    "- No se encontraron valores duplicados ni ausentes."
   ]
  },
  {
   "cell_type": "code",
   "execution_count": 19,
   "metadata": {
    "trusted": true
   },
   "outputs": [
    {
     "name": "stdout",
     "output_type": "stream",
     "text": [
      "<class 'pandas.core.frame.DataFrame'>\n",
      "RangeIndex: 76051 entries, 0 to 76050\n",
      "Data columns (total 3 columns):\n",
      " #   Column        Non-Null Count  Dtype \n",
      "---  ------        --------------  ----- \n",
      " 0   id            76051 non-null  object\n",
      " 1   user_id       76051 non-null  int64 \n",
      " 2   message_date  76051 non-null  object\n",
      "dtypes: int64(1), object(2)\n",
      "memory usage: 1.7+ MB\n",
      "None\n"
     ]
    }
   ],
   "source": [
    "print(df_messages.info())"
   ]
  },
  {
   "cell_type": "code",
   "execution_count": 20,
   "metadata": {
    "trusted": true
   },
   "outputs": [
    {
     "name": "stdout",
     "output_type": "stream",
     "text": [
      "<class 'pandas.core.frame.DataFrame'>\n",
      "RangeIndex: 76051 entries, 0 to 76050\n",
      "Data columns (total 3 columns):\n",
      " #   Column        Non-Null Count  Dtype         \n",
      "---  ------        --------------  -----         \n",
      " 0   id            76051 non-null  object        \n",
      " 1   user_id       76051 non-null  int64         \n",
      " 2   message_date  76051 non-null  datetime64[ns]\n",
      "dtypes: datetime64[ns](1), int64(1), object(1)\n",
      "memory usage: 1.7+ MB\n",
      "None\n"
     ]
    }
   ],
   "source": [
    "df_messages['message_date'] = pd.to_datetime(df_messages['message_date'], format='%Y-%m-%d')\n",
    "\n",
    "print(df_messages.info())"
   ]
  },
  {
   "cell_type": "code",
   "execution_count": 21,
   "metadata": {
    "trusted": true
   },
   "outputs": [
    {
     "name": "stdout",
     "output_type": "stream",
     "text": [
      "0\n"
     ]
    }
   ],
   "source": [
    "print(df_messages.duplicated().sum())"
   ]
  },
  {
   "cell_type": "code",
   "execution_count": 22,
   "metadata": {
    "trusted": true
   },
   "outputs": [
    {
     "name": "stdout",
     "output_type": "stream",
     "text": [
      "id           0\n",
      "user_id      0\n",
      "call_date    0\n",
      "duration     0\n",
      "dtype: int64\n"
     ]
    }
   ],
   "source": [
    "print(df_calls.isna().sum())"
   ]
  },
  {
   "cell_type": "markdown",
   "metadata": {},
   "source": [
    "Observaciones:\n",
    "    \n",
    "-Se cambio el tipo de dato de object a datetime  en 'message_date' ya que contiene una fecha.\n",
    "-No se encontraron valores ausentes ni duplicados."
   ]
  },
  {
   "cell_type": "code",
   "execution_count": 23,
   "metadata": {
    "trusted": true
   },
   "outputs": [
    {
     "name": "stdout",
     "output_type": "stream",
     "text": [
      "<class 'pandas.core.frame.DataFrame'>\n",
      "RangeIndex: 104825 entries, 0 to 104824\n",
      "Data columns (total 4 columns):\n",
      " #   Column        Non-Null Count   Dtype  \n",
      "---  ------        --------------   -----  \n",
      " 0   id            104825 non-null  object \n",
      " 1   user_id       104825 non-null  int64  \n",
      " 2   session_date  104825 non-null  object \n",
      " 3   mb_used       104825 non-null  float64\n",
      "dtypes: float64(1), int64(1), object(2)\n",
      "memory usage: 3.2+ MB\n",
      "None\n"
     ]
    }
   ],
   "source": [
    "print(df_internet.info())"
   ]
  },
  {
   "cell_type": "code",
   "execution_count": 24,
   "metadata": {
    "trusted": true
   },
   "outputs": [
    {
     "name": "stdout",
     "output_type": "stream",
     "text": [
      "<class 'pandas.core.frame.DataFrame'>\n",
      "RangeIndex: 104825 entries, 0 to 104824\n",
      "Data columns (total 4 columns):\n",
      " #   Column        Non-Null Count   Dtype         \n",
      "---  ------        --------------   -----         \n",
      " 0   id            104825 non-null  object        \n",
      " 1   user_id       104825 non-null  int64         \n",
      " 2   session_date  104825 non-null  datetime64[ns]\n",
      " 3   mb_used       104825 non-null  float64       \n",
      "dtypes: datetime64[ns](1), float64(1), int64(1), object(1)\n",
      "memory usage: 3.2+ MB\n",
      "None\n"
     ]
    }
   ],
   "source": [
    "df_internet['session_date'] = pd.to_datetime(df_internet['session_date'], format='%Y-%m-%d')\n",
    "\n",
    "print(df_internet.info())"
   ]
  },
  {
   "cell_type": "code",
   "execution_count": 25,
   "metadata": {
    "trusted": true
   },
   "outputs": [
    {
     "name": "stdout",
     "output_type": "stream",
     "text": [
      "0\n"
     ]
    }
   ],
   "source": [
    "print(df_internet.duplicated().sum())"
   ]
  },
  {
   "cell_type": "code",
   "execution_count": 26,
   "metadata": {
    "trusted": true
   },
   "outputs": [
    {
     "name": "stdout",
     "output_type": "stream",
     "text": [
      "id           0\n",
      "user_id      0\n",
      "call_date    0\n",
      "duration     0\n",
      "dtype: int64\n"
     ]
    }
   ],
   "source": [
    "print(df_calls.isna().sum())"
   ]
  },
  {
   "cell_type": "markdown",
   "metadata": {},
   "source": [
    "Observaciones:\n",
    "\n",
    "-se cambió de \"object\" a datetime la columa \"session_date\".\n",
    "\n",
    "-No se encontraron valores duplicados ni nulos."
   ]
  },
  {
   "cell_type": "code",
   "execution_count": 27,
   "metadata": {
    "trusted": true
   },
   "outputs": [
    {
     "name": "stdout",
     "output_type": "stream",
     "text": [
      "<class 'pandas.core.frame.DataFrame'>\n",
      "RangeIndex: 2 entries, 0 to 1\n",
      "Data columns (total 8 columns):\n",
      " #   Column                 Non-Null Count  Dtype  \n",
      "---  ------                 --------------  -----  \n",
      " 0   messages_included      2 non-null      int64  \n",
      " 1   mb_per_month_included  2 non-null      int64  \n",
      " 2   minutes_included       2 non-null      int64  \n",
      " 3   usd_monthly_pay        2 non-null      int64  \n",
      " 4   usd_per_gb             2 non-null      int64  \n",
      " 5   usd_per_message        2 non-null      float64\n",
      " 6   usd_per_minute         2 non-null      float64\n",
      " 7   plan_name              2 non-null      object \n",
      "dtypes: float64(2), int64(5), object(1)\n",
      "memory usage: 256.0+ bytes\n",
      "None\n"
     ]
    }
   ],
   "source": [
    "print(df_plans.info())"
   ]
  },
  {
   "cell_type": "code",
   "execution_count": 28,
   "metadata": {
    "trusted": true
   },
   "outputs": [
    {
     "name": "stdout",
     "output_type": "stream",
     "text": [
      "0\n"
     ]
    }
   ],
   "source": [
    "print(df_plans.duplicated().sum())"
   ]
  },
  {
   "cell_type": "code",
   "execution_count": 29,
   "metadata": {
    "trusted": true
   },
   "outputs": [
    {
     "name": "stdout",
     "output_type": "stream",
     "text": [
      "id           0\n",
      "user_id      0\n",
      "call_date    0\n",
      "duration     0\n",
      "dtype: int64\n"
     ]
    }
   ],
   "source": [
    "print(df_calls.isna().sum())"
   ]
  },
  {
   "cell_type": "markdown",
   "metadata": {},
   "source": [
    "Observaciones\n",
    "No se hizo ninguna conversion en el tipo de dato ya que estan representados de forma correcta\n",
    "\n",
    "-No se encontraron valores nulos ni duplicados\n"
   ]
  },
  {
   "cell_type": "markdown",
   "metadata": {
    "id": "ohBhimvH0q01"
   },
   "source": [
    "## Tarifas"
   ]
  },
  {
   "cell_type": "code",
   "execution_count": 30,
   "metadata": {
    "id": "GptqP3Q40q02",
    "trusted": true
   },
   "outputs": [
    {
     "name": "stdout",
     "output_type": "stream",
     "text": [
      "<class 'pandas.core.frame.DataFrame'>\n",
      "RangeIndex: 2 entries, 0 to 1\n",
      "Data columns (total 8 columns):\n",
      " #   Column                 Non-Null Count  Dtype  \n",
      "---  ------                 --------------  -----  \n",
      " 0   messages_included      2 non-null      int64  \n",
      " 1   mb_per_month_included  2 non-null      int64  \n",
      " 2   minutes_included       2 non-null      int64  \n",
      " 3   usd_monthly_pay        2 non-null      int64  \n",
      " 4   usd_per_gb             2 non-null      int64  \n",
      " 5   usd_per_message        2 non-null      float64\n",
      " 6   usd_per_minute         2 non-null      float64\n",
      " 7   plan_name              2 non-null      object \n",
      "dtypes: float64(2), int64(5), object(1)\n",
      "memory usage: 256.0+ bytes\n",
      "None\n"
     ]
    }
   ],
   "source": [
    "# Imprime la información general/resumida sobre el DataFrame de las tarifas\n",
    "\n",
    "print(df_plans.info())\n",
    "\n"
   ]
  },
  {
   "cell_type": "code",
   "execution_count": 31,
   "metadata": {
    "id": "64xzjwL70q02",
    "trusted": true
   },
   "outputs": [
    {
     "name": "stdout",
     "output_type": "stream",
     "text": [
      "   messages_included  mb_per_month_included  minutes_included  \\\n",
      "0                 50                  15360               500   \n",
      "1               1000                  30720              3000   \n",
      "\n",
      "   usd_monthly_pay  usd_per_gb  usd_per_message  usd_per_minute plan_name  \n",
      "0               20          10             0.03            0.03      surf  \n",
      "1               70           7             0.01            0.01  ultimate  \n"
     ]
    }
   ],
   "source": [
    "# Imprime una muestra de los datos para las tarifas\n",
    "\n",
    "print(df_plans.head())\n",
    "\n"
   ]
  },
  {
   "cell_type": "markdown",
   "metadata": {
    "id": "mEc_3_hs0q02"
   },
   "source": [
    "[Describe lo que ves y observas en la información general y en la muestra de datos impresa para el precio de datos anterior. ¿Hay algún problema (tipos de datos no adecuados, datos ausentes, etc.) que pudieran necesitar investigación y cambios adicionales? ¿Cómo se puede arreglar?]\n",
    "\n",
    "\n",
    "No se encontaron datos faltantes ni duplicados y los tipos de datos son correctos\n",
    ",sin embargo mb_per_month_included estan en MB y no estan redondeados a GB por lo cual se tendrian que redondear para tener la tarifa correcta qye se le cobrara utilizando numpy"
   ]
  },
  {
   "cell_type": "markdown",
   "metadata": {
    "id": "R3C05i1l0q03"
   },
   "source": [
    "## Corregir datos"
   ]
  },
  {
   "cell_type": "markdown",
   "metadata": {
    "id": "bIi8StZI0q03"
   },
   "source": [
    "[Corrige los problemas obvios con los datos basándote en las observaciones iniciales.]"
   ]
  },
  {
   "cell_type": "code",
   "execution_count": 32,
   "metadata": {
    "id": "Y7SVmjGn0q03",
    "trusted": true
   },
   "outputs": [
    {
     "name": "stdout",
     "output_type": "stream",
     "text": [
      "   messages_included  mb_per_month_included  minutes_included  \\\n",
      "0                 50                  15360               500   \n",
      "1               1000                  30720              3000   \n",
      "\n",
      "   usd_monthly_pay  usd_per_gb  usd_per_message  usd_per_minute plan_name  \\\n",
      "0               20          10             0.03            0.03      surf   \n",
      "1               70           7             0.01            0.01  ultimate   \n",
      "\n",
      "   gb_per_month_included  \n",
      "0                   15.0  \n",
      "1                   30.0  \n"
     ]
    }
   ],
   "source": [
    "df_plans['gb_per_month_included'] = np.ceil(df_plans['mb_per_month_included'] / 1024)\n",
    "\n",
    "print(df_plans)\n"
   ]
  },
  {
   "cell_type": "markdown",
   "metadata": {
    "id": "LJir7bml0q03"
   },
   "source": [
    "## Enriquecer los datos"
   ]
  },
  {
   "cell_type": "markdown",
   "metadata": {
    "id": "eqADpCfg0q04"
   },
   "source": [
    "[Agrega factores adicionales a los datos si crees que pudieran ser útiles.]"
   ]
  },
  {
   "cell_type": "code",
   "execution_count": 33,
   "metadata": {
    "id": "gfcIEuXV0q04",
    "trusted": true
   },
   "outputs": [
    {
     "name": "stdout",
     "output_type": "stream",
     "text": [
      "   messages_included  mb_per_month_included  minutes_included  \\\n",
      "0                 50                  15360               500   \n",
      "1               1000                  30720              3000   \n",
      "\n",
      "   usd_monthly_pay  usd_per_gb  usd_per_message  usd_per_minute plan_name  \\\n",
      "0               20          10             0.03            0.03      surf   \n",
      "1               70           7             0.01            0.01  ultimate   \n",
      "\n",
      "   gb_per_month_included  \n",
      "0                   15.0  \n",
      "1                   30.0  \n"
     ]
    }
   ],
   "source": [
    "df_plans['gb_per_month_included'] = np.ceil(df_plans['mb_per_month_included'] / 1024)\n",
    "\n",
    "print(df_plans)\n"
   ]
  },
  {
   "cell_type": "markdown",
   "metadata": {},
   "source": [
    "Se agregó una nueva columna con el nombre \"gb_per_month_included\" para tener la información de GB al mes."
   ]
  },
  {
   "cell_type": "markdown",
   "metadata": {
    "id": "1n2X6WXf0q04"
   },
   "source": [
    "## Usuarios/as"
   ]
  },
  {
   "cell_type": "code",
   "execution_count": 34,
   "metadata": {
    "id": "2NgjWFqx0q05",
    "trusted": true
   },
   "outputs": [
    {
     "name": "stdout",
     "output_type": "stream",
     "text": [
      "<class 'pandas.core.frame.DataFrame'>\n",
      "RangeIndex: 500 entries, 0 to 499\n",
      "Data columns (total 8 columns):\n",
      " #   Column      Non-Null Count  Dtype         \n",
      "---  ------      --------------  -----         \n",
      " 0   user_id     500 non-null    int64         \n",
      " 1   first_name  500 non-null    object        \n",
      " 2   last_name   500 non-null    object        \n",
      " 3   age         500 non-null    int64         \n",
      " 4   city        500 non-null    object        \n",
      " 5   reg_date    500 non-null    datetime64[ns]\n",
      " 6   plan        500 non-null    object        \n",
      " 7   churn_date  500 non-null    datetime64[ns]\n",
      "dtypes: datetime64[ns](2), int64(2), object(4)\n",
      "memory usage: 31.4+ KB\n",
      "None\n"
     ]
    }
   ],
   "source": [
    "# Imprime la información general/resumida sobre el DataFrame de usuarios\n",
    "\n",
    "\n",
    "print(df_users.info())\n",
    "\n"
   ]
  },
  {
   "cell_type": "code",
   "execution_count": 35,
   "metadata": {
    "trusted": true
   },
   "outputs": [
    {
     "name": "stdout",
     "output_type": "stream",
     "text": [
      "           user_id         age\n",
      "count   500.000000  500.000000\n",
      "mean   1249.500000   45.486000\n",
      "std     144.481833   16.972269\n",
      "min    1000.000000   18.000000\n",
      "25%    1124.750000   30.000000\n",
      "50%    1249.500000   46.000000\n",
      "75%    1374.250000   61.000000\n",
      "max    1499.000000   75.000000\n"
     ]
    }
   ],
   "source": [
    "print(df_users.describe())"
   ]
  },
  {
   "cell_type": "code",
   "execution_count": 36,
   "metadata": {
    "id": "1IN1L9uh0q05",
    "trusted": true
   },
   "outputs": [
    {
     "name": "stdout",
     "output_type": "stream",
     "text": [
      "     user_id first_name last_name  age  \\\n",
      "436     1436    Jennine    Kinney   69   \n",
      "301     1301      Tomas    Horton   64   \n",
      "175     1175     Shiloh  Stafford   25   \n",
      "451     1451     Lenard   Harding   53   \n",
      "487     1487      Elton   Simpson   18   \n",
      "454     1454   Kymberly     Cohen   56   \n",
      "50      1050       Jone      Owen   23   \n",
      "45      1045     Barney    Ortega   20   \n",
      "417     1417      Jorge    Madden   51   \n",
      "240     1240      Drema     Lopez   61   \n",
      "387     1387   Raymonde      Lowe   28   \n",
      "330     1330       Tobi    Kinney   48   \n",
      "4       1004    Leonila  Thompson   40   \n",
      "378     1378   Mckinley   Clayton   22   \n",
      "164     1164        Kam    Macias   31   \n",
      "486     1486       Sang     Solis   29   \n",
      "84      1084      Wiley  Mckinney   21   \n",
      "283     1283       Alan   Burgess   38   \n",
      "258     1258        Kai   Russell   39   \n",
      "430     1430      Myung      Pugh   63   \n",
      "\n",
      "                                                city   reg_date      plan  \\\n",
      "436  Philadelphia-Camden-Wilmington, PA-NJ-DE-MD MSA 2018-08-26  ultimate   \n",
      "301           Chicago-Naperville-Elgin, IL-IN-WI MSA 2018-01-04  ultimate   \n",
      "175        New York-Newark-Jersey City, NY-NJ-PA MSA 2018-09-30      surf   \n",
      "451            Charlotte-Concord-Gastonia, NC-SC MSA 2018-02-15  ultimate   \n",
      "487                    Cape Coral-Fort Myers, FL MSA 2018-08-16  ultimate   \n",
      "454                San Antonio-New Braunfels, TX MSA 2018-05-30  ultimate   \n",
      "50     Miami-Fort Lauderdale-West Palm Beach, FL MSA 2018-03-20  ultimate   \n",
      "45         New York-Newark-Jersey City, NY-NJ-PA MSA 2018-10-15      surf   \n",
      "417      Minneapolis-St. Paul-Bloomington, MN-WI MSA 2018-06-22  ultimate   \n",
      "240                              Baton Rouge, LA MSA 2018-03-18      surf   \n",
      "387              Bridgeport-Stamford-Norwalk, CT MSA 2018-05-25      surf   \n",
      "330             Las Vegas-Henderson-Paradise, NV MSA 2018-11-06  ultimate   \n",
      "4                    Seattle-Tacoma-Bellevue, WA MSA 2018-05-23      surf   \n",
      "378                   Denver-Aurora-Lakewood, CO MSA 2018-12-17      surf   \n",
      "164           Chicago-Naperville-Elgin, IL-IN-WI MSA 2018-02-17  ultimate   \n",
      "486                Orlando-Kissimmee-Sanford, FL MSA 2018-12-05      surf   \n",
      "84     Miami-Fort Lauderdale-West Palm Beach, FL MSA 2018-06-04      surf   \n",
      "283              Charleston-North Charleston, SC MSA 2018-06-16  ultimate   \n",
      "258           Chicago-Naperville-Elgin, IL-IN-WI MSA 2018-07-12      surf   \n",
      "430        New York-Newark-Jersey City, NY-NJ-PA MSA 2018-12-07      surf   \n",
      "\n",
      "    churn_date  \n",
      "436 2019-01-01  \n",
      "301 2019-01-01  \n",
      "175 2019-01-01  \n",
      "451 2018-12-10  \n",
      "487 2019-01-01  \n",
      "454 2019-01-01  \n",
      "50  2018-10-07  \n",
      "45  2019-01-01  \n",
      "417 2019-01-01  \n",
      "240 2019-01-01  \n",
      "387 2019-01-01  \n",
      "330 2019-01-01  \n",
      "4   2019-01-01  \n",
      "378 2019-01-01  \n",
      "164 2019-01-01  \n",
      "486 2019-01-01  \n",
      "84  2018-11-11  \n",
      "283 2019-01-01  \n",
      "258 2019-01-01  \n",
      "430 2019-01-01  \n"
     ]
    }
   ],
   "source": [
    "# Imprime una muestra de datos para usuarios\n",
    "\n",
    "print(df_users.sample(20))"
   ]
  },
  {
   "cell_type": "markdown",
   "metadata": {
    "id": "dCZoUq4f0q06"
   },
   "source": [
    "[Describe lo que ves y observas en la información general y en la muestra de datos impresa para el precio de datos anterior. ¿Hay algún problema (tipos de datos no adecuados, datos ausentes, etc.) que pudieran necesitar investigación y cambios adicionales? ¿Cómo se puede arreglar?]"
   ]
  },
  {
   "cell_type": "markdown",
   "metadata": {
    "id": "BX5FQh_I0q06"
   },
   "source": [
    "### Corregir los datos"
   ]
  },
  {
   "cell_type": "markdown",
   "metadata": {
    "id": "8OdKMwJv0q06"
   },
   "source": [
    "[Corrige los problemas obvios con los datos basándote en las observaciones iniciales.]"
   ]
  },
  {
   "cell_type": "markdown",
   "metadata": {
    "id": "yUqX-K0C0q07"
   },
   "source": [
    "Al analizar el data frame \"users\" se corrigió previamente los datos al cambiar los datos a columna de fecha de las columnas reg_date  day y churn_date ."
   ]
  },
  {
   "cell_type": "markdown",
   "metadata": {
    "id": "ycwuARJp0q07"
   },
   "source": [
    "### Enriquecer los datos"
   ]
  },
  {
   "cell_type": "markdown",
   "metadata": {
    "id": "96NIh4CJ0q08"
   },
   "source": [
    "[Agrega factores adicionales a los datos si crees que pudieran ser útiles.]"
   ]
  },
  {
   "cell_type": "markdown",
   "metadata": {
    "id": "iq0AaBS90q08"
   },
   "source": [
    "Tambien se enriquecieron previamente los datos  identificando y llenando los valores nulos en la fecha poniendo una fecha estandar de primero de enero de 2019, que servirá como referencia para hacer el analisis y tomar en cuanta que los usuarios aun tenian el plan en esa fecha."
   ]
  },
  {
   "cell_type": "markdown",
   "metadata": {
    "id": "o7MeKCid0q08"
   },
   "source": [
    "## Llamadas"
   ]
  },
  {
   "cell_type": "code",
   "execution_count": 37,
   "metadata": {
    "id": "6dDlnoDm0q08",
    "trusted": true
   },
   "outputs": [
    {
     "name": "stdout",
     "output_type": "stream",
     "text": [
      "<class 'pandas.core.frame.DataFrame'>\n",
      "RangeIndex: 137735 entries, 0 to 137734\n",
      "Data columns (total 4 columns):\n",
      " #   Column     Non-Null Count   Dtype         \n",
      "---  ------     --------------   -----         \n",
      " 0   id         137735 non-null  object        \n",
      " 1   user_id    137735 non-null  int64         \n",
      " 2   call_date  137735 non-null  datetime64[ns]\n",
      " 3   duration   137735 non-null  float64       \n",
      "dtypes: datetime64[ns](1), float64(1), int64(1), object(1)\n",
      "memory usage: 4.2+ MB\n",
      "None\n"
     ]
    }
   ],
   "source": [
    "# Imprime la información general/resumida sobre el DataFrame de las llamadas\n",
    "print(df_calls.info())\n",
    "\n"
   ]
  },
  {
   "cell_type": "code",
   "execution_count": 38,
   "metadata": {
    "id": "kuh1vlNB0q09",
    "trusted": true
   },
   "outputs": [
    {
     "name": "stdout",
     "output_type": "stream",
     "text": [
      "              id  user_id  call_date  duration\n",
      "121625  1427_293     1427 2018-08-15      3.37\n",
      "39979   1147_799     1147 2018-07-09      2.91\n",
      "29394    1111_16     1111 2018-12-16      8.17\n",
      "69303    1249_77     1249 2018-08-03      7.35\n",
      "53244   1191_392     1191 2018-12-07     19.04\n",
      "67984     1246_3     1246 2018-05-06      0.00\n",
      "14372   1059_607     1059 2018-09-18     12.65\n",
      "55625   1199_255     1199 2018-11-14      9.48\n",
      "63757   1231_471     1231 2018-12-22     10.46\n",
      "125971   1446_60     1446 2018-10-01      2.64\n",
      "114243  1400_593     1400 2018-06-25     10.85\n",
      "134781  1489_109     1489 2018-11-04      9.32\n",
      "94355   1336_206     1336 2018-11-16      0.77\n",
      "93991   1335_221     1335 2018-12-02      9.64\n",
      "103898  1366_107     1366 2018-09-15      0.00\n",
      "30341    1114_72     1114 2018-07-27     10.04\n",
      "52644   1188_126     1188 2018-12-19      0.00\n",
      "128766  1464_125     1464 2018-11-20      6.29\n",
      "25787   1099_107     1099 2018-04-02      0.00\n",
      "102758  1364_405     1364 2018-10-09      3.30\n"
     ]
    }
   ],
   "source": [
    "# Imprime una muestra de datos para las llamadas\n",
    "\n",
    "print(df_calls.sample(20))\n"
   ]
  },
  {
   "cell_type": "markdown",
   "metadata": {
    "id": "DOAxYJSx0q09"
   },
   "source": [
    "[Describe lo que ves y observas en la información general y en la muestra de datos impresa para el precio de datos anterior. ¿Hay algún problema (tipos de datos no adecuados, datos ausentes, etc.) que pudieran necesitar investigación y cambios adicionales? ¿Cómo se puede arreglar?]\n",
    "\n",
    "\n",
    "Los datos no adecuados que no coincidian son el tipo de dato de la fecha en call_date la cual fue cambiada a tipo de dato data time. No se encontraron valores nulos ni duplicados"
   ]
  },
  {
   "cell_type": "markdown",
   "metadata": {
    "id": "S7hzxmbX0q0-"
   },
   "source": [
    "### Corregir los datos"
   ]
  },
  {
   "cell_type": "markdown",
   "metadata": {
    "id": "YxWyAjD20q0-"
   },
   "source": [
    "[Corrige los problemas obvios con los datos basándote en las observaciones iniciales.]"
   ]
  },
  {
   "cell_type": "markdown",
   "metadata": {
    "id": "S2r8xA4f0q0-"
   },
   "source": [
    "Se cambió el formato de la fecha utilizando el metodo to date time para que no hubiera problema al momento de analizar los datos."
   ]
  },
  {
   "cell_type": "markdown",
   "metadata": {
    "id": "KrMgTrlG0q0_"
   },
   "source": [
    "### Enriquecer los datos"
   ]
  },
  {
   "cell_type": "markdown",
   "metadata": {
    "id": "a9MbmEvE0q0_"
   },
   "source": [
    "[Agrega factores adicionales a los datos si crees que pudieran ser útiles.]"
   ]
  },
  {
   "cell_type": "code",
   "execution_count": 39,
   "metadata": {
    "id": "iZ1avpA_0q0_",
    "trusted": true
   },
   "outputs": [
    {
     "name": "stdout",
     "output_type": "stream",
     "text": [
      "              id  user_id  call_date  duration  duration_rounded\n",
      "10418   1046_284     1046 2018-09-02      0.00               0.0\n",
      "28634   1109_261     1109 2018-06-11     17.14              18.0\n",
      "72009    1256_65     1256 2018-09-18      4.21               5.0\n",
      "120417  1419_141     1419 2018-12-27      0.00               0.0\n",
      "129951  1467_187     1467 2018-07-26      6.87               7.0\n",
      "27286    1103_76     1103 2018-12-30      0.00               0.0\n",
      "95354   1338_148     1338 2018-12-12      0.00               0.0\n",
      "9844    1044_105     1044 2018-10-26      0.56               1.0\n",
      "7986     1038_97     1038 2018-12-17      4.86               5.0\n",
      "131984  1475_131     1475 2018-09-14      0.00               0.0\n"
     ]
    }
   ],
   "source": [
    "df_calls['duration_rounded'] = np.ceil(df_calls['duration'])\n",
    "\n",
    "print(df_calls. sample(10)) "
   ]
  },
  {
   "cell_type": "markdown",
   "metadata": {},
   "source": [
    "Como extra, se agrego otra fila en donde se redondean los minutos hacia arriba."
   ]
  },
  {
   "cell_type": "markdown",
   "metadata": {
    "id": "mOUZSi180q0_"
   },
   "source": [
    "## Mensajes"
   ]
  },
  {
   "cell_type": "code",
   "execution_count": 40,
   "metadata": {
    "id": "R-bYJpdV0q1A",
    "trusted": true
   },
   "outputs": [
    {
     "name": "stdout",
     "output_type": "stream",
     "text": [
      "<class 'pandas.core.frame.DataFrame'>\n",
      "RangeIndex: 76051 entries, 0 to 76050\n",
      "Data columns (total 3 columns):\n",
      " #   Column        Non-Null Count  Dtype         \n",
      "---  ------        --------------  -----         \n",
      " 0   id            76051 non-null  object        \n",
      " 1   user_id       76051 non-null  int64         \n",
      " 2   message_date  76051 non-null  datetime64[ns]\n",
      "dtypes: datetime64[ns](1), int64(1), object(1)\n",
      "memory usage: 1.7+ MB\n",
      "None\n"
     ]
    }
   ],
   "source": [
    "# Imprime la información general/resumida sobre el DataFrame de los mensajes\n",
    "\n",
    "print(df_messages. info())\n",
    "\n"
   ]
  },
  {
   "cell_type": "code",
   "execution_count": 41,
   "metadata": {
    "id": "mCEl2iGE0q1A",
    "trusted": true
   },
   "outputs": [
    {
     "name": "stdout",
     "output_type": "stream",
     "text": [
      "             id  user_id message_date\n",
      "54706  1346_209     1346   2018-12-25\n",
      "66725  1434_259     1434   2018-10-21\n",
      "27631   1172_88     1172   2018-11-24\n",
      "30993  1194_152     1194   2018-10-23\n",
      "44509   1296_11     1296   2018-10-25\n",
      "28573  1174_363     1174   2018-08-17\n",
      "35756   1236_21     1236   2018-11-22\n",
      "56750  1361_102     1361   2018-07-05\n",
      "23849  1144_337     1144   2018-11-24\n",
      "62658   1394_47     1394   2018-09-25\n"
     ]
    }
   ],
   "source": [
    "# Imprime una muestra de datos para los mensajes\n",
    "\n",
    "print(df_messages.sample(10))\n",
    "\n"
   ]
  },
  {
   "cell_type": "markdown",
   "metadata": {
    "id": "04xDj7KH0q1A"
   },
   "source": [
    "[Describe lo que ves y observas en la información general y en la muestra de datos impresa para el precio de datos anterior. ¿Hay algún problema (tipos de datos no adecuados, datos ausentes, etc.) que pudieran necesitar investigación y cambios adicionales? ¿Cómo se puede arreglar?]"
   ]
  },
  {
   "cell_type": "markdown",
   "metadata": {
    "id": "Sprfak900q1B"
   },
   "source": [
    "### Corregir los datos"
   ]
  },
  {
   "cell_type": "markdown",
   "metadata": {
    "id": "eGw7d9j10q1B"
   },
   "source": [
    "[Corrige los problemas obvios con los datos basándote en las observaciones iniciales.]"
   ]
  },
  {
   "cell_type": "markdown",
   "metadata": {
    "id": "vsllvkoa0q1B"
   },
   "source": [
    "Nuevamente en este data frame la fecha fue previamente cambiada de \"object\" a data time y no se encontraron valores nulos ni duplicados."
   ]
  },
  {
   "cell_type": "markdown",
   "metadata": {
    "id": "HvLid7iD0q1B"
   },
   "source": [
    "### Enriquecer los datos"
   ]
  },
  {
   "cell_type": "markdown",
   "metadata": {
    "id": "8nhPFKIe0q1C"
   },
   "source": [
    "[Agrega factores adicionales a los datos si crees que pudieran ser útiles.]"
   ]
  },
  {
   "cell_type": "markdown",
   "metadata": {
    "id": "zYEXZac10q1C"
   },
   "source": [
    "No se encontraron aspectos extras en el data frame para enriquecerlo o que pudieran afectar el resultado del análisis. "
   ]
  },
  {
   "cell_type": "markdown",
   "metadata": {
    "id": "bStkaxn40q1C"
   },
   "source": [
    "## Internet"
   ]
  },
  {
   "cell_type": "code",
   "execution_count": 42,
   "metadata": {
    "id": "e-Uz5qyn0q1C",
    "trusted": true
   },
   "outputs": [
    {
     "name": "stdout",
     "output_type": "stream",
     "text": [
      "<class 'pandas.core.frame.DataFrame'>\n",
      "RangeIndex: 104825 entries, 0 to 104824\n",
      "Data columns (total 4 columns):\n",
      " #   Column        Non-Null Count   Dtype         \n",
      "---  ------        --------------   -----         \n",
      " 0   id            104825 non-null  object        \n",
      " 1   user_id       104825 non-null  int64         \n",
      " 2   session_date  104825 non-null  datetime64[ns]\n",
      " 3   mb_used       104825 non-null  float64       \n",
      "dtypes: datetime64[ns](1), float64(1), int64(1), object(1)\n",
      "memory usage: 3.2+ MB\n",
      "None\n"
     ]
    }
   ],
   "source": [
    "# Imprime la información general/resumida sobre el DataFrame de internet\n",
    "\n",
    "print(df_internet.info())\n",
    "\n"
   ]
  },
  {
   "cell_type": "code",
   "execution_count": 43,
   "metadata": {
    "id": "9r3x_XLw0q1C",
    "trusted": true
   },
   "outputs": [
    {
     "name": "stdout",
     "output_type": "stream",
     "text": [
      "             id  user_id session_date  mb_used\n",
      "77195  1361_224     1361   2018-09-04   741.37\n",
      "14050  1065_146     1065   2018-10-27   144.73\n",
      "66307  1308_125     1308   2018-12-02   434.52\n",
      "53406  1240_378     1240   2018-08-05   699.60\n",
      "77398   1362_66     1362   2018-01-25  1231.09\n",
      "23736  1109_314     1109   2018-06-16   639.01\n",
      "25944   1121_37     1121   2018-12-07   396.69\n",
      "5355   1029_151     1029   2018-09-03   376.20\n",
      "593    1004_211     1004   2018-11-01   729.10\n",
      "4742   1028_302     1028   2018-05-22   461.93\n"
     ]
    }
   ],
   "source": [
    "# Imprime una muestra de datos para el tráfico de internet\n",
    "\n",
    "print(df_internet.sample(10))\n",
    "\n"
   ]
  },
  {
   "cell_type": "markdown",
   "metadata": {
    "id": "EzOG5ik30q1D"
   },
   "source": [
    "[Describe lo que ves y observas en la información general y en la muestra de datos impresa para el precio de datos anterior. ¿Hay algún problema (tipos de datos no adecuados, datos ausentes, etc.) que pudieran necesitar investigación y cambios adicionales? ¿Cómo se puede arreglar?]\n",
    "\n"
   ]
  },
  {
   "cell_type": "markdown",
   "metadata": {
    "id": "yA0tkPFg0q1D"
   },
   "source": [
    "### Corregir los datos"
   ]
  },
  {
   "cell_type": "markdown",
   "metadata": {
    "id": "zlZMuIEK0q1D"
   },
   "source": [
    "[Corrige los problemas obvios con los datos basándote en las observaciones iniciales.]"
   ]
  },
  {
   "cell_type": "markdown",
   "metadata": {
    "id": "zVeanzdd0q1E"
   },
   "source": [
    "Se corrigi previamente la columna session_date cambiandola de tipo de dato a data time ya que indica una fecha, no se encontraron valores nulos ni duplicados.\n",
    "\n",
    "-No se encuentra algun problema con los tipos de datos ya que la fecha fue modificada de object a date time y no se encontraron valores ausentes ni duplicados."
   ]
  },
  {
   "cell_type": "markdown",
   "metadata": {
    "id": "e8_mLF4a0q1E"
   },
   "source": [
    "### Enriquecer los datos"
   ]
  },
  {
   "cell_type": "markdown",
   "metadata": {
    "id": "xhNdn2tE0q1E"
   },
   "source": [
    "[Agrega factores adicionales a los datos si crees que pudieran ser útiles.]"
   ]
  },
  {
   "cell_type": "code",
   "execution_count": 44,
   "metadata": {
    "id": "ESiYPIEK0q1E",
    "trusted": true
   },
   "outputs": [
    {
     "name": "stdout",
     "output_type": "stream",
     "text": [
      "             id  user_id session_date  mb_used  gb_used\n",
      "71310  1332_283     1332   2018-08-30   528.88      1.0\n",
      "17231  1077_351     1077   2018-01-21   536.79      1.0\n",
      "11497  1056_164     1056   2018-11-11   676.27      1.0\n",
      "33185  1150_176     1150   2018-11-28     0.00      0.0\n",
      "69675   1325_77     1325   2018-12-28    13.49      1.0\n",
      "96217   1450_13     1450   2018-12-14   265.78      1.0\n",
      "49022   1220_21     1220   2018-05-18   235.01      1.0\n",
      "41882   1187_59     1187   2018-08-30     0.00      0.0\n",
      "28437   1131_20     1131   2018-06-03   140.14      1.0\n",
      "81201  1380_183     1380   2018-12-09   100.08      1.0\n"
     ]
    }
   ],
   "source": [
    "df_internet['gb_used'] = np.ceil(df_internet['mb_used'] / 1024)\n",
    "\n",
    "print(df_internet.sample(10))"
   ]
  },
  {
   "cell_type": "markdown",
   "metadata": {},
   "source": [
    "Se agregó una columna extra redondeando los datos de megabytes a gigabytes para saber cuando sera la cantidad real que pagará el cliente."
   ]
  },
  {
   "cell_type": "markdown",
   "metadata": {
    "id": "3UA2cqIW0q1E"
   },
   "source": [
    "## Estudiar las condiciones de las tarifas"
   ]
  },
  {
   "cell_type": "markdown",
   "metadata": {
    "id": "T86Sqltq0q1F"
   },
   "source": [
    "[Es sumamente importante entender cómo funcionan las tarifas, cómo se les cobra a los usuarios en función de su plan de suscripción. Así que te sugerimos imprimir la información de la tarifa para ver una vez más sus condiciones.]"
   ]
  },
  {
   "cell_type": "code",
   "execution_count": 45,
   "metadata": {
    "id": "i409op8p0q1F",
    "trusted": true
   },
   "outputs": [
    {
     "name": "stdout",
     "output_type": "stream",
     "text": [
      "\n",
      "Tarifa Surf:\n",
      "- Pago mensual: $20\n",
      "- Minutos incluidos: 500 minutos\n",
      "- SMS incluidos: 50 SMS\n",
      "- Datos incluidos: 15 GB\n",
      "\n",
      "Costo adicional:\n",
      "- Minuto extra: $0.03\n",
      "- SMS extra: $0.03\n",
      "- GB extra: $10\n",
      "\n"
     ]
    }
   ],
   "source": [
    "# Imprime las condiciones de la tarifa y asegúrate de que te quedan claras\n",
    "\n",
    "surf_conditions = \"\"\"\n",
    "Tarifa Surf:\n",
    "- Pago mensual: $20\n",
    "- Minutos incluidos: 500 minutos\n",
    "- SMS incluidos: 50 SMS\n",
    "- Datos incluidos: 15 GB\n",
    "\n",
    "Costo adicional:\n",
    "- Minuto extra: $0.03\n",
    "- SMS extra: $0.03\n",
    "- GB extra: $10\n",
    "\"\"\"\n",
    "\n",
    "print(surf_conditions)\n"
   ]
  },
  {
   "cell_type": "code",
   "execution_count": 46,
   "metadata": {
    "trusted": true
   },
   "outputs": [
    {
     "name": "stdout",
     "output_type": "stream",
     "text": [
      "\n",
      "Tarifa Ultimate:\n",
      "- Pago mensual: $70\n",
      "- Minutos incluidos: 3000 minutos\n",
      "- SMS incluidos: 1000 SMS\n",
      "- Datos incluidos: 30 GB\n",
      "\n",
      "Costo adicional:\n",
      "- Minuto extra: $0.01\n",
      "- SMS extra: $0.01\n",
      "- GB extra: $7\n",
      "\n"
     ]
    }
   ],
   "source": [
    "ultimate_conditions = \"\"\"\n",
    "Tarifa Ultimate:\n",
    "- Pago mensual: $70\n",
    "- Minutos incluidos: 3000 minutos\n",
    "- SMS incluidos: 1000 SMS\n",
    "- Datos incluidos: 30 GB\n",
    "\n",
    "Costo adicional:\n",
    "- Minuto extra: $0.01\n",
    "- SMS extra: $0.01\n",
    "- GB extra: $7\n",
    "\"\"\"\n",
    "\n",
    "print(ultimate_conditions)"
   ]
  },
  {
   "cell_type": "markdown",
   "metadata": {
    "id": "hMR1tP5d0q1F"
   },
   "source": [
    "## Agregar datos por usuario\n",
    "\n",
    "[Ahora que los datos están limpios, agrega los datos por usuario y por periodo para que solo haya un registro por usuario y por periodo. Esto facilitará mucho el análisis posterior.]"
   ]
  },
  {
   "cell_type": "code",
   "execution_count": 47,
   "metadata": {
    "id": "A332cedB0q1G",
    "trusted": true
   },
   "outputs": [
    {
     "name": "stdout",
     "output_type": "stream",
     "text": [
      "      user_id year_month  calls_count\n",
      "0        1000    2018-12           16\n",
      "1        1001    2018-08           27\n",
      "2        1001    2018-09           49\n",
      "3        1001    2018-10           65\n",
      "4        1001    2018-11           64\n",
      "...       ...        ...          ...\n",
      "2253     1498    2018-12           39\n",
      "2254     1499    2018-09           41\n",
      "2255     1499    2018-10           53\n",
      "2256     1499    2018-11           45\n",
      "2257     1499    2018-12           65\n",
      "\n",
      "[2258 rows x 3 columns]\n"
     ]
    }
   ],
   "source": [
    "# Calcula el número de llamadas hechas por cada usuario al mes. Guarda el resultado.\n",
    "\n",
    "df_calls['year_month'] = df_calls['call_date'].dt.to_period('M')\n",
    "calls_per_user_month = df_calls.groupby(['user_id', 'year_month']).size().reset_index(name='calls_count')\n",
    "\n",
    "print(calls_per_user_month)\n"
   ]
  },
  {
   "cell_type": "code",
   "execution_count": 48,
   "metadata": {
    "id": "aw2cmuql0q1G",
    "trusted": true
   },
   "outputs": [
    {
     "name": "stdout",
     "output_type": "stream",
     "text": [
      "      user_id year_month  minutes_used\n",
      "0        1000    2018-12        116.83\n",
      "1        1001    2018-08        171.14\n",
      "2        1001    2018-09        297.69\n",
      "3        1001    2018-10        374.11\n",
      "4        1001    2018-11        404.59\n",
      "...       ...        ...           ...\n",
      "2253     1498    2018-12        324.77\n",
      "2254     1499    2018-09        330.37\n",
      "2255     1499    2018-10        363.28\n",
      "2256     1499    2018-11        288.56\n",
      "2257     1499    2018-12        468.10\n",
      "\n",
      "[2258 rows x 3 columns]\n"
     ]
    }
   ],
   "source": [
    "# Calcula la cantidad de minutos usados por cada usuario al mes. Guarda el resultado.\n",
    "\n",
    "df_calls['year_month'] = df_calls['call_date'].dt.to_period('M')\n",
    "minutes_per_user_month = df_calls.groupby(['user_id', 'year_month'])['duration'].sum().reset_index(name='minutes_used')\n",
    "\n",
    "\n",
    "print(minutes_per_user_month)\n"
   ]
  },
  {
   "cell_type": "code",
   "execution_count": 49,
   "metadata": {
    "trusted": true
   },
   "outputs": [
    {
     "name": "stdout",
     "output_type": "stream",
     "text": [
      "      user_id year_month  minutes_used\n",
      "0        1000    2018-12         124.0\n",
      "1        1001    2018-08         182.0\n",
      "2        1001    2018-09         315.0\n",
      "3        1001    2018-10         393.0\n",
      "4        1001    2018-11         426.0\n",
      "...       ...        ...           ...\n",
      "2253     1498    2018-12         339.0\n",
      "2254     1499    2018-09         346.0\n",
      "2255     1499    2018-10         385.0\n",
      "2256     1499    2018-11         308.0\n",
      "2257     1499    2018-12         496.0\n",
      "\n",
      "[2258 rows x 3 columns]\n"
     ]
    }
   ],
   "source": [
    "df_calls['rounded_duration'] = np.ceil(df_calls['duration'])\n",
    "\n",
    "\n",
    "df_calls['year_month'] = df_calls['call_date'].dt.to_period('M')\n",
    "minutes_per_user_month = df_calls.groupby(['user_id', 'year_month'])['rounded_duration'].sum().reset_index(name='minutes_used')\n",
    "\n",
    "print(minutes_per_user_month)"
   ]
  },
  {
   "cell_type": "code",
   "execution_count": 50,
   "metadata": {
    "id": "CcQvNHn60q1G",
    "trusted": true
   },
   "outputs": [
    {
     "name": "stdout",
     "output_type": "stream",
     "text": [
      "      user_id year_month  messages_sent\n",
      "0        1000    2018-12             11\n",
      "1        1001    2018-08             30\n",
      "2        1001    2018-09             44\n",
      "3        1001    2018-10             53\n",
      "4        1001    2018-11             36\n",
      "...       ...        ...            ...\n",
      "1801     1496    2018-09             21\n",
      "1802     1496    2018-10             18\n",
      "1803     1496    2018-11             13\n",
      "1804     1496    2018-12             11\n",
      "1805     1497    2018-12             50\n",
      "\n",
      "[1806 rows x 3 columns]\n"
     ]
    }
   ],
   "source": [
    "# Calcula el número de mensajes enviados por cada usuario al mes. Guarda el resultado.\n",
    "\n",
    "df_messages['year_month'] = df_messages['message_date'].dt.to_period('M')\n",
    "messages_per_user_month = df_messages.groupby(['user_id', 'year_month']).size().reset_index(name='messages_sent')\n",
    "\n",
    "print(messages_per_user_month)\n",
    "\n"
   ]
  },
  {
   "cell_type": "code",
   "execution_count": 51,
   "metadata": {
    "id": "H1AqN2eG0q1H",
    "trusted": true
   },
   "outputs": [
    {
     "name": "stdout",
     "output_type": "stream",
     "text": [
      "      user_id year_month  internet_used_mb\n",
      "0        1000    2018-12           1901.47\n",
      "1        1001    2018-08           6919.15\n",
      "2        1001    2018-09          13314.82\n",
      "3        1001    2018-10          22330.49\n",
      "4        1001    2018-11          18504.30\n",
      "...       ...        ...               ...\n",
      "2272     1498    2018-12          23137.69\n",
      "2273     1499    2018-09          12984.76\n",
      "2274     1499    2018-10          19492.43\n",
      "2275     1499    2018-11          16813.83\n",
      "2276     1499    2018-12          22059.21\n",
      "\n",
      "[2277 rows x 3 columns]\n"
     ]
    }
   ],
   "source": [
    "# Calcula el volumen del tráfico de Internet usado por cada usuario al mes. Guarda el resultado.\n",
    "\n",
    "df_internet['year_month'] = df_internet['session_date'].dt.to_period('M')\n",
    "internet_per_user_month = df_internet.groupby(['user_id', 'year_month'])['mb_used'].sum().reset_index(name='internet_used_mb')\n",
    "\n",
    "print(internet_per_user_month)\n",
    "\n"
   ]
  },
  {
   "cell_type": "code",
   "execution_count": 52,
   "metadata": {
    "trusted": true
   },
   "outputs": [
    {
     "name": "stdout",
     "output_type": "stream",
     "text": [
      "      user_id year_month  internet_used_mb  internet_used_gb\n",
      "0        1000    2018-12           1901.47               2.0\n",
      "1        1001    2018-08           6919.15               7.0\n",
      "2        1001    2018-09          13314.82              14.0\n",
      "3        1001    2018-10          22330.49              22.0\n",
      "4        1001    2018-11          18504.30              19.0\n",
      "...       ...        ...               ...               ...\n",
      "2272     1498    2018-12          23137.69              23.0\n",
      "2273     1499    2018-09          12984.76              13.0\n",
      "2274     1499    2018-10          19492.43              20.0\n",
      "2275     1499    2018-11          16813.83              17.0\n",
      "2276     1499    2018-12          22059.21              22.0\n",
      "\n",
      "[2277 rows x 4 columns]\n"
     ]
    }
   ],
   "source": [
    "df_internet['year_month'] = df_internet['session_date'].dt.to_period('M')\n",
    "internet_per_user_month = df_internet.groupby(['user_id', 'year_month'])['mb_used'].sum().reset_index(name='internet_used_mb')\n",
    "\n",
    "\n",
    "internet_per_user_month['internet_used_gb'] = np.ceil(internet_per_user_month['internet_used_mb'] / 1024)\n",
    "\n",
    "print(internet_per_user_month)"
   ]
  },
  {
   "cell_type": "markdown",
   "metadata": {
    "id": "VDfYXnj80q1H"
   },
   "source": [
    "[Junta los datos agregados en un DataFrame para que haya un registro que represente lo que consumió un usuario único en un mes determinado.]"
   ]
  },
  {
   "cell_type": "code",
   "execution_count": 53,
   "metadata": {
    "id": "FW99ykyf0q1H",
    "trusted": true
   },
   "outputs": [
    {
     "name": "stdout",
     "output_type": "stream",
     "text": [
      "      user_id year_month  calls_count  minutes_used  messages_sent  \\\n",
      "0        1000    2018-12         16.0         124.0           11.0   \n",
      "1        1001    2018-08         27.0         182.0           30.0   \n",
      "2        1001    2018-09         49.0         315.0           44.0   \n",
      "3        1001    2018-10         65.0         393.0           53.0   \n",
      "4        1001    2018-11         64.0         426.0           36.0   \n",
      "...       ...        ...          ...           ...            ...   \n",
      "2288     1349    2018-12          NaN           NaN           61.0   \n",
      "2289     1361    2018-05          NaN           NaN            2.0   \n",
      "2290     1482    2018-10          NaN           NaN            2.0   \n",
      "2291     1108    2018-12          NaN           NaN            NaN   \n",
      "2292     1311    2018-06          NaN           NaN            NaN   \n",
      "\n",
      "      internet_used_mb  internet_used_gb  \n",
      "0              1901.47               2.0  \n",
      "1              6919.15               7.0  \n",
      "2             13314.82              14.0  \n",
      "3             22330.49              22.0  \n",
      "4             18504.30              19.0  \n",
      "...                ...               ...  \n",
      "2288          13039.91              13.0  \n",
      "2289           1519.69               2.0  \n",
      "2290               NaN               NaN  \n",
      "2291            233.17               1.0  \n",
      "2292           1498.83               2.0  \n",
      "\n",
      "[2293 rows x 7 columns]\n"
     ]
    }
   ],
   "source": [
    "# Fusiona los datos de llamadas, minutos, mensajes e Internet con base en user_id y month\n",
    "\n",
    "df_calls_minutes = pd.merge(calls_per_user_month, minutes_per_user_month, on=['user_id', 'year_month'], how='outer')\n",
    "df_calls_minutes_messages = pd.merge(df_calls_minutes, messages_per_user_month, on=['user_id', 'year_month'], how='outer')\n",
    "df_full_data = pd.merge(df_calls_minutes_messages, internet_per_user_month, on=['user_id', 'year_month'], how='outer')\n",
    "\n",
    "print(df_full_data)\n"
   ]
  },
  {
   "cell_type": "code",
   "execution_count": 55,
   "metadata": {
    "id": "0dNOXHag0q1H",
    "trusted": true
   },
   "outputs": [
    {
     "name": "stdout",
     "output_type": "stream",
     "text": [
      "      user_id year_month  calls_count  minutes_used  messages_sent  \\\n",
      "0        1000    2018-12         16.0         124.0           11.0   \n",
      "1        1001    2018-08         27.0         182.0           30.0   \n",
      "2        1001    2018-09         49.0         315.0           44.0   \n",
      "3        1001    2018-10         65.0         393.0           53.0   \n",
      "4        1001    2018-11         64.0         426.0           36.0   \n",
      "...       ...        ...          ...           ...            ...   \n",
      "2288     1349    2018-12          NaN           NaN           61.0   \n",
      "2289     1361    2018-05          NaN           NaN            2.0   \n",
      "2290     1482    2018-10          NaN           NaN            2.0   \n",
      "2291     1108    2018-12          NaN           NaN            NaN   \n",
      "2292     1311    2018-06          NaN           NaN            NaN   \n",
      "\n",
      "      internet_used_mb  internet_used_gb      plan  \n",
      "0              1901.47               2.0  ultimate  \n",
      "1              6919.15               7.0      surf  \n",
      "2             13314.82              14.0      surf  \n",
      "3             22330.49              22.0      surf  \n",
      "4             18504.30              19.0      surf  \n",
      "...                ...               ...       ...  \n",
      "2288          13039.91              13.0      surf  \n",
      "2289           1519.69               2.0      surf  \n",
      "2290               NaN               NaN  ultimate  \n",
      "2291            233.17               1.0  ultimate  \n",
      "2292           1498.83               2.0  ultimate  \n",
      "\n",
      "[2293 rows x 8 columns]\n"
     ]
    }
   ],
   "source": [
    "# Añade la información de la tarifa\n",
    "df_final = pd.merge(df_full_data, df_users[['user_id', 'plan']], on='user_id', how='left')\n",
    "print(df_final)\n"
   ]
  },
  {
   "cell_type": "code",
   "execution_count": 56,
   "metadata": {
    "trusted": true
   },
   "outputs": [],
   "source": [
    "df = minutes_per_user_month.merge(df_users[['user_id', 'plan']], on='user_id') \\\n",
    "    .merge(internet_per_user_month[['user_id', 'year_month', 'internet_used_gb']], on=['user_id', 'year_month']) \\\n",
    "    .merge(df_plans[['plan_name', 'usd_per_minute', 'usd_per_gb', 'minutes_included', 'mb_per_month_included']], \n",
    "           left_on='plan', right_on='plan_name')\n"
   ]
  },
  {
   "cell_type": "code",
   "execution_count": 57,
   "metadata": {
    "trusted": true
   },
   "outputs": [],
   "source": [
    "df['excess_minutes'] = df[['minutes_used', 'minutes_included']].max(axis=1) - df['minutes_included']\n",
    "df['excess_gb'] = df[['internet_used_gb', 'mb_per_month_included']].max(axis=1) - df['mb_per_month_included'] / 1024\n"
   ]
  },
  {
   "cell_type": "code",
   "execution_count": 58,
   "metadata": {
    "trusted": true
   },
   "outputs": [],
   "source": [
    "df['excess_minutes'] = df['excess_minutes'].clip(lower=0)\n",
    "df['excess_gb'] = df['excess_gb'].clip(lower=0)"
   ]
  },
  {
   "cell_type": "code",
   "execution_count": 59,
   "metadata": {
    "trusted": true
   },
   "outputs": [],
   "source": [
    "df['extra_cost'] = df['excess_minutes'] * df['usd_per_minute'] + df['excess_gb'] * df['usd_per_gb']"
   ]
  },
  {
   "cell_type": "code",
   "execution_count": 60,
   "metadata": {
    "trusted": true
   },
   "outputs": [
    {
     "name": "stdout",
     "output_type": "stream",
     "text": [
      "      user_id year_month      plan  minutes_used  internet_used_gb  \\\n",
      "0        1000    2018-12  ultimate         124.0               2.0   \n",
      "1        1006    2018-11  ultimate          10.0               3.0   \n",
      "2        1006    2018-12  ultimate          59.0              32.0   \n",
      "3        1008    2018-10  ultimate         476.0              17.0   \n",
      "4        1008    2018-11  ultimate         446.0              24.0   \n",
      "...       ...        ...       ...           ...               ...   \n",
      "2238     1498    2018-12      surf         339.0              23.0   \n",
      "2239     1499    2018-09      surf         346.0              13.0   \n",
      "2240     1499    2018-10      surf         385.0              20.0   \n",
      "2241     1499    2018-11      surf         308.0              17.0   \n",
      "2242     1499    2018-12      surf         496.0              22.0   \n",
      "\n",
      "      minutes_included  mb_per_month_included  excess_minutes  excess_gb  \\\n",
      "0                 3000                  30720             0.0    30690.0   \n",
      "1                 3000                  30720             0.0    30690.0   \n",
      "2                 3000                  30720             0.0    30690.0   \n",
      "3                 3000                  30720             0.0    30690.0   \n",
      "4                 3000                  30720             0.0    30690.0   \n",
      "...                ...                    ...             ...        ...   \n",
      "2238               500                  15360             0.0    15345.0   \n",
      "2239               500                  15360             0.0    15345.0   \n",
      "2240               500                  15360             0.0    15345.0   \n",
      "2241               500                  15360             0.0    15345.0   \n",
      "2242               500                  15360             0.0    15345.0   \n",
      "\n",
      "      extra_cost  \n",
      "0       214830.0  \n",
      "1       214830.0  \n",
      "2       214830.0  \n",
      "3       214830.0  \n",
      "4       214830.0  \n",
      "...          ...  \n",
      "2238    153450.0  \n",
      "2239    153450.0  \n",
      "2240    153450.0  \n",
      "2241    153450.0  \n",
      "2242    153450.0  \n",
      "\n",
      "[2243 rows x 10 columns]\n"
     ]
    }
   ],
   "source": [
    "result = df[['user_id', 'year_month', 'plan', 'minutes_used', 'internet_used_gb', \n",
    "             'minutes_included', 'mb_per_month_included', 'excess_minutes', 'excess_gb', 'extra_cost']]\n",
    "\n",
    "print(result)"
   ]
  },
  {
   "cell_type": "markdown",
   "metadata": {
    "id": "1IwGo4wg0q1I"
   },
   "source": [
    "[Calcula los ingresos mensuales por usuario (resta el límite del paquete gratuito del número total de llamadas, mensajes de texto y datos; multiplica el resultado por el valor del plan de llamadas; añade la tarifa mensual en función del plan de llamadas). Nota: Dadas las condiciones del plan, ¡esto podría no ser tan trivial como un par de líneas! Así que no pasa nada si dedicas algo de tiempo a ello.]"
   ]
  },
  {
   "cell_type": "code",
   "execution_count": 61,
   "metadata": {
    "trusted": true
   },
   "outputs": [
    {
     "name": "stdout",
     "output_type": "stream",
     "text": [
      "      user_id year_month  monthly_revenue\n",
      "0        1000    2018-12            70.00\n",
      "1        1001    2018-08            20.00\n",
      "2        1001    2018-09            20.00\n",
      "3        1001    2018-10            90.09\n",
      "4        1001    2018-11            60.00\n",
      "...       ...        ...              ...\n",
      "2288     1349    2018-12            20.33\n",
      "2289     1361    2018-05            20.00\n",
      "2290     1482    2018-10            70.00\n",
      "2291     1108    2018-12            70.00\n",
      "2292     1311    2018-06            70.00\n",
      "\n",
      "[2293 rows x 3 columns]\n"
     ]
    }
   ],
   "source": [
    "plan_limits = {\n",
    "    'Surf': {\n",
    "        'minutes_included': 500,\n",
    "        'messages_included': 50,\n",
    "        'mb_per_month_included': 15 * 1024,  \n",
    "        'usd_monthly_fee': 20,\n",
    "        'usd_per_minute': 0.03,  \n",
    "        'usd_per_message': 0.03,  \n",
    "        'usd_per_gb': 10  \n",
    "    },\n",
    "    'Ultimate': {\n",
    "        'minutes_included': 3000,\n",
    "        'messages_included': 1000,\n",
    "        'mb_per_month_included': 30 * 1024,  \n",
    "        'usd_monthly_fee': 70,\n",
    "        'usd_per_minute': 0.01,  \n",
    "        'usd_per_message': 0.01,  \n",
    "        'usd_per_gb': 7  \n",
    "    }\n",
    "}\n",
    "\n",
    "def calculate_monthly_revenue(row):\n",
    "    plan = row['plan'].capitalize()\n",
    "    plan_data = plan_limits[plan]\n",
    "    \n",
    "    \n",
    "    monthly_revenue = plan_data['usd_monthly_fee']\n",
    "    \n",
    "    \n",
    "    excess_minutes = max(0, np.ceil(row['minutes_used']) - plan_data['minutes_included'])\n",
    "    monthly_revenue += excess_minutes * plan_data['usd_per_minute']\n",
    "    \n",
    "   \n",
    "    excess_messages = max(0, row['messages_sent'] - plan_data['messages_included'])\n",
    "    monthly_revenue += excess_messages * plan_data['usd_per_message']\n",
    "    \n",
    "    \n",
    "    excess_data_gb = max(0, np.ceil(row['internet_used_mb'] / 1024) - plan_data['mb_per_month_included'] / 1024)\n",
    "    monthly_revenue += excess_data_gb * plan_data['usd_per_gb']\n",
    "    \n",
    "    return monthly_revenue\n",
    "\n",
    "\n",
    "df_final['monthly_revenue'] = df_final.apply(calculate_monthly_revenue, axis=1)\n",
    "\n",
    "\n",
    "print(df_final[['user_id', 'year_month', 'monthly_revenue']])"
   ]
  },
  {
   "cell_type": "markdown",
   "metadata": {
    "id": "-jtyHzJb0q1I"
   },
   "source": [
    "## Estudia el comportamiento de usuario"
   ]
  },
  {
   "cell_type": "markdown",
   "metadata": {
    "id": "AxU3Y0N70q1J"
   },
   "source": [
    "[Calcula algunas estadísticas descriptivas para los datos agregados y fusionados que nos sean útiles y que muestren un panorama general captado por los datos. Dibuja gráficos útiles para facilitar la comprensión. Dado que la tarea principal es comparar las tarifas y decidir cuál es más rentable, las estadísticas y gráficas deben calcularse por tarifa.]\n",
    "\n",
    "[En los comentarios hallarás pistas relevantes para las llamadas, pero no las hay para los mensajes e Internet. Sin embargo, el principio del estudio estadístico que se aplica para ellos es el mismo que para las llamadas.]"
   ]
  },
  {
   "cell_type": "markdown",
   "metadata": {
    "id": "vtW4CJEe0q1J"
   },
   "source": [
    "### Llamadas"
   ]
  },
  {
   "cell_type": "code",
   "execution_count": 62,
   "metadata": {
    "id": "Jf5v5--k0q1J",
    "trusted": true
   },
   "outputs": [
    {
     "name": "stdout",
     "output_type": "stream",
     "text": [
      "plan         surf  ultimate\n",
      "month                      \n",
      "2018-01  6.428000  6.541518\n",
      "2018-02  6.906175  6.517230\n",
      "2018-03  6.696919  6.210906\n",
      "2018-04  6.799918  6.659990\n",
      "2018-05  6.769200  6.662443\n",
      "2018-06  6.846812  6.705188\n",
      "2018-07  6.721710  6.879085\n",
      "2018-08  6.726164  6.613484\n",
      "2018-09  6.728684  6.770040\n",
      "2018-10  6.722302  6.665850\n",
      "2018-11  6.759115  6.742506\n",
      "2018-12  6.836607  6.671929\n"
     ]
    }
   ],
   "source": [
    "# Compara la duración promedio de llamadas por cada plan y por cada mes. Traza un gráfico de barras para visualizarla.\n",
    "\n",
    "df_calls['month'] = df_calls['call_date'].dt.to_period('M')\n",
    "df_calls = df_calls.merge(df_users[['user_id', 'plan']], on='user_id', how='left')\n",
    "avg_duration_per_month = df_calls.groupby(['month', 'plan'])['duration'].mean().reset_index()\n",
    "avg_duration_per_month_pivot = avg_duration_per_month.pivot(index='month', columns='plan', values='duration')\n",
    "\n",
    "\n",
    "print(avg_duration_per_month_pivot)\n",
    "\n"
   ]
  },
  {
   "cell_type": "code",
   "execution_count": 63,
   "metadata": {
    "trusted": true
   },
   "outputs": [
    {
     "name": "stdout",
     "output_type": "stream",
     "text": [
      "plan        surf   ultimate\n",
      "count  12.000000  12.000000\n",
      "mean    6.745134   6.636681\n",
      "std     0.117943   0.165388\n",
      "min     6.428000   6.210906\n",
      "25%     6.722154   6.595493\n",
      "50%     6.743900   6.664146\n",
      "75%     6.809090   6.714517\n",
      "max     6.906175   6.879085\n"
     ]
    }
   ],
   "source": [
    "print(avg_duration_per_month_pivot.describe())\n"
   ]
  },
  {
   "cell_type": "code",
   "execution_count": 64,
   "metadata": {
    "trusted": true
   },
   "outputs": [
    {
     "data": {
      "text/plain": [
       "<Figure size 1200x600 with 0 Axes>"
      ]
     },
     "metadata": {},
     "output_type": "display_data"
    },
    {
     "data": {
      "image/png": "[encoded data removed]",
      "text/plain": [
       "<Figure size 1200x600 with 1 Axes>"
      ]
     },
     "metadata": {},
     "output_type": "display_data"
    }
   ],
   "source": [
    "plt.figure(figsize=(12, 6))\n",
    "\n",
    "for plan in avg_duration_per_month['plan'].unique():\n",
    "    plan_data = avg_duration_per_month[avg_duration_per_month['plan'] == plan]\n",
    "    \n",
    "\n",
    "avg_duration_per_month_pivot.plot(kind='bar', figsize=(12, 6))\n",
    "\n",
    "\n",
    "plt.title('Duración Promedio de Llamadas por Plan y Mes')\n",
    "plt.xlabel('Mes')\n",
    "plt.ylabel('Duración Promedio de Llamadas (minutos)')\n",
    "plt.xticks(rotation=45)\n",
    "plt.tight_layout()\n",
    "\n",
    "\n",
    "plt.show()"
   ]
  },
  {
   "cell_type": "markdown",
   "metadata": {},
   "source": [
    "Conclusión:Al extraer los datos sobre las llamadas, aunque no hay diferencia muy marcada en la media y la desvición estandar entre ambos planes, se puede identificar que el plan en donde más llamadas realizarón los usuarios durante el año 2018, es el plan suft, en donde los utuarios realizaron más llamadas en 9 meses comparadado con el plan ultimate en el que solo superó al otro plan en 3 meses por una diferencia minima."
   ]
  },
  {
   "cell_type": "code",
   "execution_count": 65,
   "metadata": {
    "id": "QoLqW1S_0q1J",
    "trusted": true
   },
   "outputs": [
    {
     "name": "stdout",
     "output_type": "stream",
     "text": [
      "plan        surf  ultimate\n",
      "user_id                   \n",
      "1000         NaN    116.83\n",
      "1001     1640.46       NaN\n",
      "1002      777.13       NaN\n",
      "1003     1041.00       NaN\n",
      "1004     2618.95       NaN\n",
      "...          ...       ...\n",
      "1495     1666.41       NaN\n",
      "1496     1376.21       NaN\n",
      "1497         NaN    276.53\n",
      "1498     3029.97       NaN\n",
      "1499     1450.31       NaN\n",
      "\n",
      "[481 rows x 2 columns]\n"
     ]
    }
   ],
   "source": [
    "# Compara el número de minutos mensuales que necesitan los usuarios de cada plan. Traza un histograma.\n",
    "\n",
    "df_calls = df_calls.merge(df_users[['user_id', 'plan']], on='user_id', how='left', suffixes=('', '_plan'))\n",
    "user_minutes = df_calls.groupby(['user_id', 'plan'])['duration'].sum().reset_index()\n",
    "user_minutes_pivot = user_minutes.pivot(index='user_id', columns='plan', values='duration')\n",
    "\n",
    "print(user_minutes_pivot)"
   ]
  },
  {
   "cell_type": "code",
   "execution_count": 66,
   "metadata": {
    "trusted": true
   },
   "outputs": [
    {
     "name": "stdout",
     "output_type": "stream",
     "text": [
      "Filas con valores nulos en la columna 'surf':\n",
      "plan     surf  ultimate\n",
      "user_id                \n",
      "1000      NaN    116.83\n",
      "1006      NaN     64.11\n",
      "1008      NaN   1473.31\n",
      "1011      NaN   2744.87\n",
      "1013      NaN    203.37\n",
      "...       ...       ...\n",
      "1482      NaN    786.62\n",
      "1487      NaN    392.71\n",
      "1490      NaN   2123.33\n",
      "1493      NaN   2197.37\n",
      "1497      NaN    276.53\n",
      "\n",
      "[155 rows x 2 columns]\n",
      "\n",
      "Filas con valores nulos en la columna 'ultimate':\n",
      "plan        surf  ultimate\n",
      "user_id                   \n",
      "1001     1640.46       NaN\n",
      "1002      777.13       NaN\n",
      "1003     1041.00       NaN\n",
      "1004     2618.95       NaN\n",
      "1005      470.22       NaN\n",
      "...          ...       ...\n",
      "1494     2672.66       NaN\n",
      "1495     1666.41       NaN\n",
      "1496     1376.21       NaN\n",
      "1498     3029.97       NaN\n",
      "1499     1450.31       NaN\n",
      "\n",
      "[326 rows x 2 columns]\n"
     ]
    }
   ],
   "source": [
    "nulos_surf = user_minutes_pivot[user_minutes_pivot['surf'].isnull()]\n",
    "nulos_ultimate = user_minutes_pivot[user_minutes_pivot['ultimate'].isnull()]\n",
    "\n",
    "print(\"Filas con valores nulos en la columna 'surf':\")\n",
    "print(nulos_surf)\n",
    "\n",
    "print(\"\\nFilas con valores nulos en la columna 'ultimate':\")\n",
    "print(nulos_ultimate)"
   ]
  },
  {
   "cell_type": "code",
   "execution_count": 67,
   "metadata": {
    "trusted": true
   },
   "outputs": [
    {
     "name": "stdout",
     "output_type": "stream",
     "text": [
      "plan        surf  ultimate\n",
      "user_id                   \n",
      "1000        0.00    116.83\n",
      "1001     1640.46      0.00\n",
      "1002      777.13      0.00\n",
      "1003     1041.00      0.00\n",
      "1004     2618.95      0.00\n",
      "...          ...       ...\n",
      "1495     1666.41      0.00\n",
      "1496     1376.21      0.00\n",
      "1497        0.00    276.53\n",
      "1498     3029.97      0.00\n",
      "1499     1450.31      0.00\n",
      "\n",
      "[481 rows x 2 columns]\n"
     ]
    }
   ],
   "source": [
    "user_minutes_pivot['surf'].fillna(0, inplace=True)\n",
    "user_minutes_pivot['ultimate'].fillna(0, inplace=True)\n",
    "\n",
    "\n",
    "print(user_minutes_pivot)"
   ]
  },
  {
   "cell_type": "code",
   "execution_count": 68,
   "metadata": {
    "trusted": true
   },
   "outputs": [
    {
     "name": "stdout",
     "output_type": "stream",
     "text": [
      "plan          surf     ultimate\n",
      "count   481.000000   481.000000\n",
      "mean   1323.682412   608.022911\n",
      "std    1613.580774  1265.112025\n",
      "min       0.000000     0.000000\n",
      "25%       0.000000     0.000000\n",
      "50%     777.130000     0.000000\n",
      "75%    2009.500000   630.580000\n",
      "max    8950.280000  8024.090000\n"
     ]
    }
   ],
   "source": [
    "print(user_minutes_pivot.describe())"
   ]
  },
  {
   "cell_type": "code",
   "execution_count": 69,
   "metadata": {
    "trusted": true
   },
   "outputs": [
    {
     "data": {
      "image/png": "[encoded data removed]",
      "text/plain": [
       "<Figure size 1000x600 with 1 Axes>"
      ]
     },
     "metadata": {},
     "output_type": "display_data"
    }
   ],
   "source": [
    "user_minutes_pivot.plot(kind='hist', bins=8, alpha=0.7, figsize=(10, 6), edgecolor='black')\n",
    "\n",
    "plt.title('Distribución de los minutos de uso por plan', fontsize=14)\n",
    "plt.xlabel('Minutos de uso', fontsize=12)\n",
    "plt.ylabel('Frecuencia', fontsize=12)\n",
    "plt.legend(title='Plan', labels=user_minutes_pivot.columns, loc='upper right')\n",
    "\n",
    "plt.show()"
   ]
  },
  {
   "cell_type": "markdown",
   "metadata": {},
   "source": [
    "Como se puede observar en el histograma anterior, el número de minutos mensuales que los usuarios necesitan más minutos para cada plan, es en el plan ultimate. Al tener datos sesgados hacia la derecha se puede identificar tambien que esto ocurrio en la mayor parte de los 12 meses."
   ]
  },
  {
   "cell_type": "markdown",
   "metadata": {
    "id": "bLS9T8OH0q1K"
   },
   "source": [
    "[Calcula la media y la variable de la duración de las llamadas para averiguar si los usuarios de los distintos planes se comportan de forma diferente al realizar sus llamadas.]"
   ]
  },
  {
   "cell_type": "code",
   "execution_count": 71,
   "metadata": {
    "id": "oSndbAnt0q1K",
    "trusted": true
   },
   "outputs": [
    {
     "name": "stdout",
     "output_type": "stream",
     "text": [
      "       plan         mean           var\n",
      "0      surf  1953.040613  2.612436e+06\n",
      "1  ultimate  1886.832387  2.560030e+06\n"
     ]
    }
   ],
   "source": [
    "# Calcula la media y la varianza de la duración mensual de llamadas.\n",
    "\n",
    "\n",
    "user_minutes = df_calls.groupby(['user_id', 'plan'])['duration'].sum().reset_index()\n",
    "duration_stats = user_minutes.groupby('plan')['duration'].agg(['mean', 'var']).reset_index()\n",
    "print(duration_stats)\n",
    "\n"
   ]
  },
  {
   "cell_type": "code",
   "execution_count": 72,
   "metadata": {
    "id": "nZzoRUKc0q1K",
    "trusted": true
   },
   "outputs": [
    {
     "data": {
      "text/plain": [
       "<Figure size 1200x600 with 0 Axes>"
      ]
     },
     "metadata": {},
     "output_type": "display_data"
    },
    {
     "data": {
      "image/png": "[encoded data removed]",
      "text/plain": [
       "<Figure size 640x480 with 1 Axes>"
      ]
     },
     "metadata": {},
     "output_type": "display_data"
    }
   ],
   "source": [
    "# Traza un diagrama de caja para visualizar la distribución de la duración mensual de llamadas\n",
    "\n",
    "plt.figure(figsize=(12, 6))\n",
    "user_minutes.boxplot(by='plan', column=['duration'], patch_artist=True)\n",
    "\n",
    "plt.title('Distribución de la Duración Mensual de Llamadas por Plan')\n",
    "plt.suptitle('') \n",
    "plt.xlabel('Plan')\n",
    "plt.ylabel('Duración de Llamadas Mensuales (minutos)')\n",
    "plt.tight_layout()\n",
    "\n",
    "plt.show()"
   ]
  },
  {
   "cell_type": "markdown",
   "metadata": {
    "id": "r627zBO50q1K"
   },
   "source": [
    "[Elabora las conclusiones sobre el comportamiento de los usuarios con respecto a las llamadas. ¿Su comportamiento varía en función del plan?]"
   ]
  },
  {
   "cell_type": "markdown",
   "metadata": {},
   "source": [
    "De acuerdo al diagrama de caja, la mediana de la duración mensual de llamadas en ambos planes es muy similar,\n",
    "además de que hay valores atípicos en ambos planes, lo que sugiere que algunos usuarios realizan un número significativamente mayor de llamadas que el promedio.\n",
    "La dispersión es alta, con una gran cantidad de valores por encima del tercer cuartil, lo que indica que hay usuarios que utilizan mucho más minutos de lo que la mayoría de los clientes usan.\n",
    "\n",
    "\n",
    "Además, aunque el plan Ultimate incluye más minutos en el paquete base (3000 minutos frente a 500 minutos en Surf), la duración media de las llamadas de los usuarios de ambos planes es similar y está por debajo del límite de Ultimate.\n",
    "Esto nos muestra  que la mayoría de los usuarios, incluso en Ultimate, no consumen la totalidad de los minutos incluidos en su plan.\n"
   ]
  },
  {
   "cell_type": "markdown",
   "metadata": {
    "id": "8idKy8Wh0q1L"
   },
   "source": [
    "### Mensajes"
   ]
  },
  {
   "cell_type": "code",
   "execution_count": 73,
   "metadata": {
    "id": "NXLxiTit0q1L",
    "trusted": true
   },
   "outputs": [
    {
     "name": "stdout",
     "output_type": "stream",
     "text": [
      "      month      plan  message_count\n",
      "0   2018-01      surf             21\n",
      "1   2018-01  ultimate             62\n",
      "2   2018-02      surf            108\n",
      "3   2018-02  ultimate            151\n",
      "4   2018-03      surf            351\n",
      "5   2018-03  ultimate            243\n",
      "6   2018-04      surf            870\n",
      "7   2018-04  ultimate            463\n",
      "8   2018-05      surf           1849\n",
      "9   2018-05  ultimate            931\n",
      "10  2018-06      surf           2454\n",
      "11  2018-06  ultimate           1379\n",
      "12  2018-07      surf           3271\n",
      "13  2018-07  ultimate           1937\n",
      "14  2018-08      surf           4662\n",
      "15  2018-08  ultimate           2732\n",
      "16  2018-09      surf           5968\n",
      "17  2018-09  ultimate           3259\n",
      "18  2018-10      surf           8020\n",
      "19  2018-10  ultimate           4181\n",
      "20  2018-11      surf           9165\n",
      "21  2018-11  ultimate           4903\n",
      "22  2018-12      surf          12275\n",
      "23  2018-12  ultimate           6796\n"
     ]
    }
   ],
   "source": [
    "# Comprara el número de mensajes que tienden a enviar cada mes los usuarios de cada plan\n",
    "\n",
    "df_messages = df_messages.merge(df_users[['user_id', 'plan']], on='user_id', how='left')\n",
    "df_messages['month'] = df_messages['message_date'].dt.to_period('M')\n",
    "messages_per_month = df_messages.groupby(['month', 'plan']).size().reset_index(name='message_count')\n",
    "\n",
    "print(messages_per_month)"
   ]
  },
  {
   "cell_type": "code",
   "execution_count": 74,
   "metadata": {
    "trusted": true
   },
   "outputs": [
    {
     "data": {
      "image/png": "[encoded data removed]",
      "text/plain": [
       "<Figure size 1200x600 with 1 Axes>"
      ]
     },
     "metadata": {},
     "output_type": "display_data"
    }
   ],
   "source": [
    "plt.figure(figsize=(12, 6))\n",
    "\n",
    "# Crear el gráfico de barras apiladas\n",
    "for plan in messages_per_month['plan'].unique():\n",
    "    plan_data = messages_per_month[messages_per_month['plan'] == plan]\n",
    "    plt.bar(plan_data['month'].astype(str), plan_data['message_count'], label=plan, alpha=0.7)\n",
    "\n",
    "# Personalizar el gráfico\n",
    "plt.title('Número de Mensajes Enviados por Mes y Plan')\n",
    "plt.xlabel('Mes')\n",
    "plt.ylabel('Número de Mensajes Enviados')\n",
    "plt.xticks(rotation=45)\n",
    "plt.legend(title='Plan')\n",
    "plt.tight_layout()\n",
    "\n",
    "\n",
    "plt.show()"
   ]
  },
  {
   "cell_type": "code",
   "execution_count": 75,
   "metadata": {
    "id": "GRI_R7xF0q1L",
    "trusted": true
   },
   "outputs": [
    {
     "name": "stdout",
     "output_type": "stream",
     "text": [
      "       plan      mb_used\n",
      "0      surf  26046179.93\n",
      "1  ultimate  12394583.78\n"
     ]
    }
   ],
   "source": [
    "# Compara la cantidad de tráfico de Internet consumido por usuarios por plan\n",
    "\n",
    "df_merged = df_users.merge(df_internet, on='user_id')\n",
    "df_traffic_per_user = df_merged.groupby(['plan', 'user_id'])['mb_used'].sum().reset_index()\n",
    "df_traffic_by_plan = df_traffic_per_user.groupby('plan')['mb_used'].sum().reset_index()\n",
    "\n",
    "print(df_traffic_by_plan)\n",
    "\n"
   ]
  },
  {
   "cell_type": "markdown",
   "metadata": {
    "id": "390SSL480q1M"
   },
   "source": [
    "[Elabora las conclusiones sobre el comportamiento de los usuarios con respecto a los mensajes. ¿Su comportamiento varía en función del plan?]\n",
    "\n",
    "Como se puede observar en la gráfica de barras anterior, el plan en el que se tienden a enviar más mensajes por més es el plan surf al igual que en las llamadas. Obteniendo datos sesgados hacia la izquierda y apilados juntos los dos planes se puede notar que en 10 de los 12 meses del 2018 en el plan Surf los usuarios enviaron más mensajes, es decir que el comportamiento del usuario si varía en función de su plan."
   ]
  },
  {
   "cell_type": "markdown",
   "metadata": {
    "id": "42YSypXz0q1M"
   },
   "source": [
    "### Internet"
   ]
  },
  {
   "cell_type": "code",
   "execution_count": 76,
   "metadata": {
    "id": "wnh8jYXi0q1N",
    "trusted": true
   },
   "outputs": [
    {
     "data": {
      "image/png": "[encoded data removed]",
      "text/plain": [
       "<Figure size 1000x600 with 1 Axes>"
      ]
     },
     "metadata": {},
     "output_type": "display_data"
    }
   ],
   "source": [
    "plt.figure(figsize=(10, 6))\n",
    "plt.bar(df_traffic_by_plan['plan'], df_traffic_by_plan['mb_used'], color=['skyblue', 'orange'])\n",
    "plt.xlabel('Plan')\n",
    "plt.ylabel('Consumo Total de Datos (MB)')\n",
    "plt.title('Consumo de Internet por Plan')\n",
    "plt.show()"
   ]
  },
  {
   "cell_type": "markdown",
   "metadata": {
    "id": "UN9zwuMP0q1N"
   },
   "source": [
    "[Elabora las conclusiones sobre cómo los usuarios tienden a consumir el tráfico de Internet. ¿Su comportamiento varía en función del plan?]\n",
    "\n",
    "\n",
    "Al obtener el grafico anterior, podemos notar que si varía el consumo de internet entre los usuarios en ambos planes, y que es el plan suft en el que los usuarios consumen más trafico de internet."
   ]
  },
  {
   "cell_type": "markdown",
   "metadata": {
    "id": "tCijq3260q1N"
   },
   "source": [
    "## Ingreso"
   ]
  },
  {
   "cell_type": "markdown",
   "metadata": {
    "id": "9nq5IAcy0q1O"
   },
   "source": [
    "[Del mismo modo que has estudiado el comportamiento de los usuarios, describe estadísticamente los ingresos de los planes.]"
   ]
  },
  {
   "cell_type": "code",
   "execution_count": 77,
   "metadata": {
    "trusted": true
   },
   "outputs": [],
   "source": [
    "df_calls = df_calls.groupby('user_id')['duration'].sum().reset_index()\n",
    "df_messages = df_messages.groupby('user_id')['id'].count().reset_index()\n",
    "df_internet = df_internet.groupby('user_id')['mb_used'].sum().reset_index()"
   ]
  },
  {
   "cell_type": "code",
   "execution_count": 78,
   "metadata": {
    "trusted": true
   },
   "outputs": [],
   "source": [
    "df = df_users.merge(df_calls, on='user_id', how='left')\n",
    "df = df.merge(df_messages, on='user_id', how='left')\n",
    "df = df.merge(df_internet, on='user_id', how='left')"
   ]
  },
  {
   "cell_type": "code",
   "execution_count": 79,
   "metadata": {
    "trusted": true
   },
   "outputs": [],
   "source": [
    "df = df.merge(df_plans, left_on='plan', right_on='plan_name', how='left')"
   ]
  },
  {
   "cell_type": "code",
   "execution_count": 80,
   "metadata": {
    "trusted": true
   },
   "outputs": [],
   "source": [
    "def calcular_ingreso(row):\n",
    "    # Ingreso mensual base\n",
    "    ingreso = row['usd_monthly_pay']  # Cambié 'usd_monthly_fee' por 'usd_monthly_pay'\n",
    "    \n",
    "    # Cálculo de excedentes\n",
    "    if row['duration'] > row['minutes_included']:\n",
    "        ingreso += (row['duration'] - row['minutes_included']) * row['usd_per_minute']\n",
    "    if row['id'] > row['messages_included']:\n",
    "        ingreso += (row['id'] - row['messages_included']) * row['usd_per_message']\n",
    "    if row['mb_used'] > row['mb_per_month_included']:\n",
    "        ingreso += (row['mb_used'] - row['mb_per_month_included'] / 1024) * row['usd_per_gb']\n",
    "    \n",
    "    return ingreso"
   ]
  },
  {
   "cell_type": "code",
   "execution_count": 81,
   "metadata": {
    "trusted": true
   },
   "outputs": [],
   "source": [
    "df['ingreso'] = df.apply(calcular_ingreso, axis=1)"
   ]
  },
  {
   "cell_type": "code",
   "execution_count": 82,
   "metadata": {
    "trusted": true
   },
   "outputs": [],
   "source": [
    "ingresos_por_plan = df.groupby('plan')['ingreso'].describe()"
   ]
  },
  {
   "cell_type": "code",
   "execution_count": 83,
   "metadata": {
    "trusted": true
   },
   "outputs": [
    {
     "name": "stdout",
     "output_type": "stream",
     "text": [
      "          count           mean            std   min        25%          50%  \\\n",
      "plan                                                                          \n",
      "surf      339.0  759228.841765  612240.834218  20.0  282167.77  621584.6492   \n",
      "ultimate  161.0  510099.862917  495322.807968  70.0      70.00  409931.2000   \n",
      "\n",
      "                   75%           max  \n",
      "plan                                  \n",
      "surf      1.168762e+06  3.125192e+06  \n",
      "ultimate  7.461047e+05  2.730975e+06  \n"
     ]
    }
   ],
   "source": [
    "print(ingresos_por_plan)"
   ]
  },
  {
   "cell_type": "code",
   "execution_count": 84,
   "metadata": {
    "trusted": true
   },
   "outputs": [
    {
     "name": "stdout",
     "output_type": "stream",
     "text": [
      "Varianza de ingresos por plan:\n",
      "plan\n",
      "surf        3.748388e+11\n",
      "ultimate    2.453447e+11\n",
      "Name: ingreso, dtype: float64\n"
     ]
    }
   ],
   "source": [
    "varianza_ingresos = df.groupby('plan')['ingreso'].var()\n",
    "print(\"Varianza de ingresos por plan:\")\n",
    "print(varianza_ingresos)"
   ]
  },
  {
   "cell_type": "code",
   "execution_count": 85,
   "metadata": {
    "trusted": true
   },
   "outputs": [
    {
     "data": {
      "image/png": "[encoded data removed]",
      "text/plain": [
       "<Figure size 800x600 with 1 Axes>"
      ]
     },
     "metadata": {},
     "output_type": "display_data"
    }
   ],
   "source": [
    "plt.figure(figsize=(8, 6))\n",
    "sns.boxplot(x='plan', y='ingreso', data=df)\n",
    "plt.title('Boxplot de ingresos por plan')\n",
    "plt.xlabel('Plan')\n",
    "plt.ylabel('Ingreso ($)')\n",
    "plt.show()"
   ]
  },
  {
   "cell_type": "code",
   "execution_count": 85,
   "metadata": {
    "trusted": true
   },
   "outputs": [
    {
     "data": {
      "image/png": "[encoded data removed]",
      "text/plain": [
       "<Figure size 800x600 with 1 Axes>"
      ]
     },
     "metadata": {},
     "output_type": "display_data"
    }
   ],
   "source": [
    "plt.figure(figsize=(8, 6))\n",
    "sns.histplot(data=df, x='ingreso', hue='plan', kde=True, bins=30, palette='Set1', element='step', stat='density')\n",
    "plt.title('Histograma de ingresos por plan')\n",
    "plt.xlabel('Ingreso ($)')\n",
    "plt.ylabel('Densidad')\n",
    "\n",
    "\n",
    "plt.legend(title='Plan', labels=['Surf', 'Ultimate'], loc='upper right')\n",
    "\n",
    "plt.show()"
   ]
  },
  {
   "cell_type": "markdown",
   "metadata": {},
   "source": [
    "[Describe cómo difiere el ingreso entre los planes]\n",
    "\n",
    "Despues de analizar la informacíon anterior se puede notar que Surf genera más ingresos en promedio que Ultimate. Generando Suft ingresos en promedio de 759,228 USD mientras que Ultimate solo 510,099 USD. Es decir  que, en términos generales, los usuarios de Surf están pagando más, ya sea porque exceden sus límites con mayor frecuencia o porque hay más clientes en este plan.\n",
    "\n",
    "\n",
    "En cuanto a la La varianza de ingresos en Surf  es mayor que en Ultimate.\n",
    "Esto indica que los ingresos en el plan Surf son más dispersos, lo que puede significar que algunos usuarios generan ingresos muy altos mientras que otros generan ingresos más bajos.\n",
    "\n",
    "Y respecto al grafico bloxplot,  se puede ver que ambos planes tienen varios valores atípicos, lo que sugiere que algunos clientes generan ingresos significativamente superiores al promedio.\n",
    "La mediana de ingresos en Surf parece ser más alta que la de Ultimate, lo que refuerza la idea de que este plan genera más ingresos en general."
   ]
  },
  {
   "cell_type": "markdown",
   "metadata": {
    "id": "ajJ7VKeI0q1Q"
   },
   "source": [
    "## Prueba las hipótesis estadísticas"
   ]
  },
  {
   "cell_type": "markdown",
   "metadata": {
    "id": "AdXAZ-yL0q1Q"
   },
   "source": [
    "[Prueba la hipótesis de que son diferentes los ingresos promedio procedentes de los usuarios de los planes de llamada Ultimate y Surf.]"
   ]
  },
  {
   "cell_type": "markdown",
   "metadata": {
    "id": "IQwa_hsh0q1Q"
   },
   "source": [
    "[Elabora las hipótesis nula y alternativa, escoge la prueba estadística, determina el valor alfa.]\n",
    "\n",
    "Hipótesis nula (H₀):\n",
    "La hipótesis nula es que no hay diferencia significativa entre los ingresos promedio de los usuarios de los planes Ultimate y Surf.\n",
    "\n",
    "\n",
    "Hipótesis alternativa (H₁):\n",
    "La hipótesis alternativa es que sí hay una diferencia significativa entre los ingresos promedio de los usuarios de los planes Ultimate y Surf."
   ]
  },
  {
   "cell_type": "markdown",
   "metadata": {},
   "source": [
    "Hipótesis nula (H₀): No hay diferencia significativa entre los ingresos promedio de los usuarios de los planes Ultimate y Surf. (Los ingresos promedio de ambos planes son iguales)\n",
    "\n",
    "\n",
    "\n",
    "Hipótesis alternativa (H₁): Hay una diferencia significativa entre los ingresos promedio de los usuarios de los planes Ultimate y Surf."
   ]
  },
  {
   "cell_type": "code",
   "execution_count": 86,
   "metadata": {
    "id": "nFoPNlPq0q1R",
    "trusted": true
   },
   "outputs": [
    {
     "name": "stdout",
     "output_type": "stream",
     "text": [
      "No rechazamos la hipótesis nula: no hay una diferencia significativa entre los ingresos promedio de los dos planes.\n"
     ]
    }
   ],
   "source": [
    "# Prueba las hipótesis\n",
    "\n",
    "df_ultimate = df[df['plan'] == 'Ultimate']['ingreso']\n",
    "df_surf = df[df['plan'] == 'Surf']['ingreso']\n",
    "\n",
    "t_stat, p_value = stats.ttest_ind(df_ultimate, df_surf)\n",
    "\n",
    "alpha = 0.05\n",
    "if p_value < alpha:\n",
    "    print(\"Rechazamos la hipótesis nula: hay una diferencia significativa entre los ingresos promedio de los dos planes.\")\n",
    "else:\n",
    "    print(\"No rechazamos la hipótesis nula: no hay una diferencia significativa entre los ingresos promedio de los dos planes.\")\n",
    "\n"
   ]
  },
  {
   "cell_type": "code",
   "execution_count": 89,
   "metadata": {
    "trusted": true
   },
   "outputs": [
    {
     "name": "stdout",
     "output_type": "stream",
     "text": [
      "Rechazamos la hipótesis nula: hay una diferencia significativa entre los ingresos promedio de los dos planes.\n",
      "p-value: 8.130955326980624e-06\n"
     ]
    }
   ],
   "source": [
    "df_ultimate = df[df['plan'] == 'ultimate']['ingreso']\n",
    "df_surf = df[df['plan'] == 'surf']['ingreso']\n",
    "\n",
    "\n",
    "if df_ultimate.empty or df_surf.empty:\n",
    "    print(\"Uno o ambos de los subconjuntos están vacíos. No se puede realizar la prueba.\")\n",
    "else:\n",
    "    \n",
    "    t_stat, p_value = stats.ttest_ind(df_ultimate, df_surf)\n",
    "\n",
    "    alpha = 0.05\n",
    "    if p_value < alpha:\n",
    "        print(\"Rechazamos la hipótesis nula: hay una diferencia significativa entre los ingresos promedio de los dos planes.\")\n",
    "    else:\n",
    "        print(\"No rechazamos la hipótesis nula: no hay una diferencia significativa entre los ingresos promedio de los dos planes.\")\n",
    "\n",
    "\n",
    "print(\"p-value:\", p_value)"
   ]
  },
  {
   "cell_type": "markdown",
   "metadata": {
    "id": "tCcAruM60q1R"
   },
   "source": [
    "[Prueba la hipótesis de que el ingreso promedio de los usuarios del área NY-NJ es diferente al de los usuarios de otras regiones.]"
   ]
  },
  {
   "cell_type": "markdown",
   "metadata": {
    "id": "LsBgitqj0q1R"
   },
   "source": [
    "[Elabora las hipótesis nula y alternativa, escoge la prueba estadística, determina el valor alfa.]"
   ]
  },
  {
   "cell_type": "markdown",
   "metadata": {},
   "source": [
    "Hipótesis nula (H₀): No hay diferencia significativa entre el ingreso promedio de los usuarios del área NY-NJ y los usuarios de otras regiones.\n",
    "    \n",
    "Hipótesis alternativa (H₁): Hay una diferencia significativa entre el ingreso promedio de los usuarios del área NY-NJ y los usuarios de otras regiones."
   ]
  },
  {
   "cell_type": "code",
   "execution_count": 90,
   "metadata": {
    "trusted": true
   },
   "outputs": [
    {
     "name": "stdout",
     "output_type": "stream",
     "text": [
      "Las varianzas son iguales entre los dos grupos. Usaremos varianzas iguales para la prueba t.\n",
      "No rechazamos la hipótesis nula: no hay una diferencia significativa entre los ingresos promedio de los usuarios de NY-NJ y otras regiones.\n",
      "p-value: 0.21792797131048658\n"
     ]
    }
   ],
   "source": [
    "def clasificar_region(ciudad):\n",
    "    ciudad = str(ciudad).upper()  \n",
    "    if 'NY' in ciudad or 'NJ' in ciudad:\n",
    "        return 'NY-NJ'\n",
    "    else:\n",
    "        return 'Otras regiones'\n",
    "\n",
    "\n",
    "df['region'] = df['city'].apply(clasificar_region)\n",
    "\n",
    "\n",
    "\n",
    "df_nynj = df[df['region'] == 'NY-NJ']['ingreso']\n",
    "df_otras = df[df['region'] == 'Otras regiones']['ingreso']\n",
    "\n",
    "\n",
    "if df_nynj.empty or df_otras.empty:\n",
    "    print(\"Uno o ambos de los subconjuntos están vacíos. No se puede realizar la prueba.\")\n",
    "else:\n",
    "   \n",
    "    stat_levene, p_value_levene = stats.levene(df_nynj, df_otras)\n",
    "    \n",
    "    \n",
    "    if p_value_levene < 0.05:\n",
    "        print(\"Las varianzas son diferentes entre los dos grupos. Usaremos varianzas desiguales para la prueba t.\")\n",
    "        equal_var = False  \n",
    "    else:\n",
    "        print(\"Las varianzas son iguales entre los dos grupos. Usaremos varianzas iguales para la prueba t.\")\n",
    "        equal_var = True  \n",
    "\n",
    "    \n",
    "    t_stat, p_value = stats.ttest_ind(df_nynj, df_otras, equal_var=equal_var)\n",
    "\n",
    "    \n",
    "    alpha = 0.05\n",
    "    \n",
    "    \n",
    "    if p_value < alpha:\n",
    "        print(\"Rechazamos la hipótesis nula: hay una diferencia significativa entre los ingresos promedio de los usuarios de NY-NJ y otras regiones.\")\n",
    "    else:\n",
    "        print(\"No rechazamos la hipótesis nula: no hay una diferencia significativa entre los ingresos promedio de los usuarios de NY-NJ y otras regiones.\")\n",
    "\n",
    "    \n",
    "    print(f\"p-value: {p_value}\")"
   ]
  },
  {
   "cell_type": "markdown",
   "metadata": {},
   "source": [
    "Conclusión despues de haber analizado el comportamiento general de los usuarios se puede decir que el plan que más ingresos genera es el plan Surf, Aunque el plan Ultimate tiene una tarifa base más alta ($70 vs. $20), los clientes del plan Surf parecen exceder los límites con más frecuencia, lo que genera ingresos adicionales significativos.\n",
    "\n",
    "Como comentario final, en promedio el plan Surf genera más ingresos que el plan Ultimate por lo que sería el plan más adecuado al que se le puede hacer el ajuste de publicidad. \n",
    "\n",
    "\n",
    "A pesar de no haber diferencias significativas entre ambos planes en varios aspectos como por ejemplo, la diferencia en los minutos incluidos en cada plan o el uso real de llamadas es similar entre ambos tipos de usuarios, si varía y se nota la diferencia en otros aspectos como  en el uso de internet, mensajes e ingresos. Siendo superior el plan Surf.\n",
    "\n",
    "Por otra parte, la dispersión en los ingresos de Surf es mayor, lo que indica que hay una variabilidad significativa entre los clientes.\n",
    "\n",
    "\n",
    "En cuanto a la estrategia  publicitaria, la empresa podría enfocarse en entender mejor el perfil de los usuarios de Surf que generan ingresos adicionales por excedentes y compararlos con los de ultimate para ver si conviene redirigir a ciertos clientes a un plan más rentable y sobre eso lanzar su nueva publicidad. Además de que para maximizar ingresos, la empresa debería analizar qué factores llevan a los usuarios de Surf a exceder sus límites y generar otro archivo (dataframe) para evaluar si es posible aumentar la rentabilidad del plan ultimate (por ejemplo, ajustando precios o promoviendo su adopción entre usuarios con mayor consumo).\n",
    "\n"
   ]
  },
  {
   "cell_type": "markdown",
   "metadata": {
    "id": "bbTR8UQO0q1T"
   },
   "source": [
    "## Conclusión general\n",
    "\n",
    "[En esta sección final, enumera tus conclusiones importantes. Asegúrate de que estas abarquen todas las decisiones (suposiciones) importantes que adoptaste y que determinaron la forma elegida para procesar y analizar los datos.]\n",
    "\n",
    "\n",
    "\n",
    "\n",
    "Para realizar el análisis entre los dos planes se tuvo que limpiar los datos, principalmente convertir los datos object a fechas en formate datetime para facilitar la fúsion de los dataframes y obtener el análisis del comportamiento de los clientes. Además de poder analizar bien los histogramas, boxplox, y datos estadisticos como media, mediana, varianza y desviacion estandar es importante tener conocimiento avanzado en el area de estadistica, ya que en varios puntos se necesitó para llegar a una conclusión de cual era el plan que genera más ingresos y poder obtener una hipotesis nula y alternativa para llegar a una conslusión final."
   ]
  }
 ],
 "metadata": {
  "ExecuteTimeLog": [
   {
    "duration": 828,
    "start_time": "2021-11-16T09:21:11.304Z"
   },
   {
    "duration": 893,
    "start_time": "2021-11-16T09:21:17.728Z"
   },
   {
    "duration": 1150,
    "start_time": "2021-11-16T09:21:29.568Z"
   },
   {
    "duration": 3,
    "start_time": "2021-11-16T09:24:14.495Z"
   },
   {
    "duration": 120,
    "start_time": "2021-11-16T09:24:46.630Z"
   },
   {
    "duration": 3,
    "start_time": "2021-11-16T09:28:27.882Z"
   },
   {
    "duration": 4,
    "start_time": "2021-11-16T09:29:54.281Z"
   },
   {
    "duration": 3,
    "start_time": "2021-11-16T09:30:45.936Z"
   },
   {
    "duration": 4,
    "start_time": "2021-11-16T09:31:06.300Z"
   },
   {
    "duration": 113,
    "start_time": "2021-11-16T09:31:37.208Z"
   },
   {
    "duration": 143,
    "start_time": "2021-11-16T09:31:48.656Z"
   },
   {
    "duration": 98,
    "start_time": "2021-11-16T09:31:55.678Z"
   },
   {
    "duration": 3,
    "start_time": "2021-11-16T09:32:08.535Z"
   },
   {
    "duration": 111,
    "start_time": "2021-11-16T09:32:10.120Z"
   },
   {
    "duration": 3,
    "start_time": "2021-11-16T09:32:15.732Z"
   },
   {
    "duration": 4,
    "start_time": "2021-11-16T09:32:29.423Z"
   },
   {
    "duration": 3,
    "start_time": "2021-11-16T10:03:03.074Z"
   },
   {
    "duration": 3,
    "start_time": "2021-11-16T10:10:01.288Z"
   },
   {
    "duration": 3,
    "start_time": "2021-11-16T10:10:46.923Z"
   },
   {
    "duration": 121,
    "start_time": "2021-11-16T10:37:46.494Z"
   },
   {
    "duration": 125,
    "start_time": "2021-11-16T10:38:20.632Z"
   },
   {
    "duration": 112,
    "start_time": "2021-11-16T10:46:53.001Z"
   },
   {
    "duration": 110,
    "start_time": "2021-11-16T10:48:25.775Z"
   },
   {
    "duration": 3,
    "start_time": "2021-11-16T10:50:18.720Z"
   },
   {
    "duration": 4,
    "start_time": "2021-11-16T10:50:37.649Z"
   },
   {
    "duration": 2,
    "start_time": "2021-11-16T10:50:51.884Z"
   },
   {
    "duration": 3,
    "start_time": "2021-11-16T10:51:56.237Z"
   },
   {
    "duration": 101,
    "start_time": "2021-11-16T10:53:13.791Z"
   },
   {
    "duration": 3,
    "start_time": "2021-11-16T10:55:59.186Z"
   },
   {
    "duration": 3,
    "start_time": "2021-11-16T10:56:10.751Z"
   },
   {
    "duration": 3,
    "start_time": "2021-11-16T10:56:49.038Z"
   },
   {
    "duration": 3,
    "start_time": "2021-11-16T10:56:49.174Z"
   },
   {
    "duration": 4,
    "start_time": "2021-11-16T10:56:49.414Z"
   },
   {
    "duration": 3,
    "start_time": "2021-11-16T10:56:49.680Z"
   },
   {
    "duration": 3,
    "start_time": "2021-11-16T10:56:50.370Z"
   },
   {
    "duration": 114,
    "start_time": "2021-11-16T10:59:34.518Z"
   },
   {
    "duration": 3,
    "start_time": "2021-11-16T11:01:41.201Z"
   },
   {
    "duration": 116,
    "start_time": "2021-11-16T11:01:48.754Z"
   },
   {
    "duration": 3,
    "start_time": "2021-11-16T11:02:16.685Z"
   },
   {
    "duration": 3,
    "start_time": "2021-11-16T11:02:19.479Z"
   },
   {
    "duration": 3,
    "start_time": "2021-11-16T11:02:47.067Z"
   },
   {
    "duration": 3,
    "start_time": "2021-11-16T11:02:49.353Z"
   },
   {
    "duration": 3,
    "start_time": "2021-11-16T11:03:07.835Z"
   },
   {
    "duration": 3,
    "start_time": "2021-11-16T11:03:07.953Z"
   },
   {
    "duration": 112,
    "start_time": "2021-11-16T11:07:52.072Z"
   },
   {
    "duration": 187,
    "start_time": "2021-11-16T11:09:23.468Z"
   },
   {
    "duration": 4,
    "start_time": "2021-11-16T11:10:01.455Z"
   },
   {
    "duration": 3,
    "start_time": "2021-11-16T11:10:05.069Z"
   },
   {
    "duration": 4,
    "start_time": "2021-11-16T11:10:13.376Z"
   },
   {
    "duration": 3,
    "start_time": "2021-11-16T11:10:14.434Z"
   },
   {
    "duration": 3,
    "start_time": "2021-11-16T11:10:22.853Z"
   },
   {
    "duration": 4,
    "start_time": "2021-11-16T11:27:29.279Z"
   },
   {
    "duration": 4,
    "start_time": "2021-11-16T11:29:08.919Z"
   },
   {
    "duration": 118,
    "start_time": "2021-11-16T11:29:46.703Z"
   },
   {
    "duration": 437,
    "start_time": "2021-11-16T11:36:02.181Z"
   },
   {
    "duration": 157,
    "start_time": "2021-11-16T11:36:14.388Z"
   },
   {
    "duration": 207,
    "start_time": "2021-11-16T11:47:15.898Z"
   },
   {
    "duration": 3,
    "start_time": "2021-11-16T11:53:52.092Z"
   },
   {
    "duration": 3,
    "start_time": "2021-11-16T11:53:52.236Z"
   },
   {
    "duration": 3,
    "start_time": "2021-11-16T11:59:12.005Z"
   },
   {
    "duration": 112,
    "start_time": "2021-11-16T12:00:33.446Z"
   },
   {
    "duration": 3,
    "start_time": "2021-11-16T12:02:14.453Z"
   },
   {
    "duration": 3,
    "start_time": "2021-11-16T12:02:39.512Z"
   },
   {
    "duration": 106,
    "start_time": "2021-11-16T12:03:03.460Z"
   },
   {
    "duration": 3,
    "start_time": "2021-11-17T20:37:21.139Z"
   },
   {
    "duration": 3,
    "start_time": "2021-11-17T20:37:22.229Z"
   },
   {
    "duration": 3,
    "start_time": "2021-11-17T20:38:38.806Z"
   },
   {
    "duration": 3,
    "start_time": "2021-11-17T20:38:41.958Z"
   },
   {
    "duration": 3,
    "start_time": "2021-11-17T20:43:46.551Z"
   },
   {
    "duration": 4,
    "start_time": "2021-11-17T20:58:21.835Z"
   },
   {
    "duration": 3,
    "start_time": "2021-11-17T20:59:21.872Z"
   },
   {
    "duration": 4,
    "start_time": "2021-11-17T20:59:45.352Z"
   },
   {
    "duration": 4,
    "start_time": "2021-11-17T20:59:49.646Z"
   },
   {
    "duration": 159,
    "start_time": "2021-11-17T21:02:26.949Z"
   },
   {
    "duration": 3,
    "start_time": "2021-11-17T21:03:53.461Z"
   },
   {
    "duration": 3,
    "start_time": "2021-11-17T21:03:53.694Z"
   },
   {
    "duration": 3,
    "start_time": "2021-11-17T21:05:28.145Z"
   },
   {
    "duration": 116,
    "start_time": "2021-11-17T21:05:57.787Z"
   },
   {
    "duration": 3,
    "start_time": "2021-11-17T21:06:37.993Z"
   },
   {
    "duration": 3,
    "start_time": "2021-11-17T21:06:38.261Z"
   },
   {
    "duration": 3,
    "start_time": "2021-11-17T21:11:54.358Z"
   },
   {
    "duration": 3,
    "start_time": "2021-11-17T21:12:43.846Z"
   },
   {
    "duration": 4,
    "start_time": "2021-11-17T21:13:08.773Z"
   },
   {
    "duration": 3,
    "start_time": "2021-11-17T21:14:44.441Z"
   },
   {
    "duration": 3,
    "start_time": "2021-11-17T21:15:42.059Z"
   },
   {
    "duration": 4,
    "start_time": "2021-11-17T21:15:51.995Z"
   },
   {
    "duration": 3,
    "start_time": "2021-11-17T21:15:53.923Z"
   },
   {
    "duration": 3,
    "start_time": "2021-11-17T21:15:55.282Z"
   },
   {
    "duration": 3,
    "start_time": "2021-11-17T21:16:28.492Z"
   },
   {
    "duration": 3,
    "start_time": "2021-11-17T21:16:32.603Z"
   },
   {
    "duration": 3,
    "start_time": "2021-11-17T21:17:06.941Z"
   },
   {
    "duration": 98,
    "start_time": "2021-11-17T21:18:05.733Z"
   },
   {
    "duration": 4,
    "start_time": "2021-11-17T21:21:35.255Z"
   },
   {
    "duration": 3,
    "start_time": "2021-11-17T21:21:37.804Z"
   },
   {
    "duration": 4,
    "start_time": "2021-11-17T21:23:06.071Z"
   },
   {
    "duration": 3,
    "start_time": "2021-11-17T21:23:24.799Z"
   },
   {
    "duration": 3,
    "start_time": "2021-11-17T21:23:32.591Z"
   },
   {
    "duration": 98,
    "start_time": "2021-11-17T21:28:31.559Z"
   },
   {
    "duration": 3,
    "start_time": "2021-11-17T21:28:45.448Z"
   },
   {
    "duration": 3,
    "start_time": "2021-11-17T21:29:17.303Z"
   },
   {
    "duration": 3,
    "start_time": "2021-11-17T21:29:29.617Z"
   },
   {
    "duration": 3,
    "start_time": "2021-11-17T21:29:32.681Z"
   },
   {
    "duration": 3,
    "start_time": "2021-11-17T21:36:11.474Z"
   },
   {
    "duration": 3,
    "start_time": "2021-11-17T21:36:14.791Z"
   },
   {
    "duration": 3,
    "start_time": "2021-11-17T21:36:53.943Z"
   },
   {
    "duration": 3,
    "start_time": "2021-11-17T21:36:56.165Z"
   },
   {
    "duration": 4,
    "start_time": "2021-11-17T21:37:16.590Z"
   },
   {
    "duration": 3,
    "start_time": "2021-11-17T21:37:22.702Z"
   },
   {
    "duration": 4,
    "start_time": "2021-11-17T21:38:03.479Z"
   },
   {
    "duration": 3,
    "start_time": "2021-11-17T21:38:08.601Z"
   },
   {
    "duration": 3,
    "start_time": "2021-11-17T21:38:12.928Z"
   },
   {
    "duration": 3,
    "start_time": "2021-11-17T21:38:48.896Z"
   },
   {
    "duration": 2,
    "start_time": "2021-11-17T21:38:49.171Z"
   },
   {
    "duration": 4,
    "start_time": "2021-11-17T21:39:57.889Z"
   },
   {
    "duration": 3,
    "start_time": "2021-11-17T21:39:58.057Z"
   },
   {
    "duration": 3,
    "start_time": "2021-11-17T21:41:20.108Z"
   },
   {
    "duration": 3,
    "start_time": "2021-11-17T21:41:20.629Z"
   },
   {
    "duration": 3,
    "start_time": "2021-11-17T21:42:49.136Z"
   },
   {
    "duration": 3,
    "start_time": "2021-11-17T21:43:15.137Z"
   },
   {
    "duration": 4,
    "start_time": "2021-11-17T21:43:16.766Z"
   },
   {
    "duration": 4,
    "start_time": "2021-11-17T21:43:31.711Z"
   },
   {
    "duration": 3,
    "start_time": "2021-11-17T21:43:36.312Z"
   },
   {
    "duration": 4,
    "start_time": "2021-11-17T21:45:08.825Z"
   },
   {
    "duration": 4,
    "start_time": "2021-11-17T21:45:10.119Z"
   },
   {
    "duration": 4,
    "start_time": "2021-11-17T21:45:13.748Z"
   },
   {
    "duration": 3,
    "start_time": "2021-11-17T21:45:22.219Z"
   },
   {
    "duration": 3,
    "start_time": "2021-11-17T21:45:33.412Z"
   },
   {
    "duration": 2,
    "start_time": "2021-11-17T21:46:01.885Z"
   },
   {
    "duration": 3,
    "start_time": "2021-11-17T21:46:03.628Z"
   },
   {
    "duration": 107,
    "start_time": "2021-11-17T21:47:32.512Z"
   },
   {
    "duration": 103,
    "start_time": "2021-11-17T21:50:36.243Z"
   },
   {
    "duration": 3,
    "start_time": "2021-11-18T06:28:31.440Z"
   },
   {
    "duration": 3,
    "start_time": "2021-11-18T06:29:00.168Z"
   },
   {
    "duration": 3,
    "start_time": "2021-11-18T06:31:27.008Z"
   },
   {
    "duration": 2,
    "start_time": "2021-11-18T06:35:34.288Z"
   },
   {
    "duration": 2,
    "start_time": "2021-11-18T06:38:04.527Z"
   },
   {
    "duration": 173,
    "start_time": "2025-02-11T01:39:15.593Z"
   },
   {
    "duration": 5,
    "start_time": "2025-02-11T01:39:32.717Z"
   },
   {
    "duration": 335,
    "start_time": "2025-02-11T01:40:01.302Z"
   },
   {
    "duration": 45,
    "start_time": "2025-02-11T01:40:01.708Z"
   },
   {
    "duration": 90,
    "start_time": "2025-02-11T01:40:32.764Z"
   },
   {
    "duration": 73,
    "start_time": "2025-02-11T01:40:48.660Z"
   },
   {
    "duration": 76,
    "start_time": "2025-02-11T01:42:24.572Z"
   },
   {
    "duration": 19,
    "start_time": "2025-02-11T01:44:21.371Z"
   },
   {
    "duration": 49,
    "start_time": "2025-02-11T01:44:28.642Z"
   },
   {
    "duration": 361,
    "start_time": "2025-02-11T01:46:19.789Z"
   },
   {
    "duration": 15,
    "start_time": "2025-02-11T01:46:27.098Z"
   },
   {
    "duration": 72,
    "start_time": "2025-02-11T01:46:57.870Z"
   },
   {
    "duration": 63,
    "start_time": "2025-02-11T01:49:15.278Z"
   },
   {
    "duration": 10,
    "start_time": "2025-02-11T01:49:51.579Z"
   },
   {
    "duration": 8,
    "start_time": "2025-02-11T01:51:53.442Z"
   },
   {
    "duration": 9,
    "start_time": "2025-02-11T01:52:34.661Z"
   },
   {
    "duration": 157,
    "start_time": "2025-02-11T02:56:34.926Z"
   },
   {
    "duration": 301,
    "start_time": "2025-02-11T02:56:46.081Z"
   },
   {
    "duration": 14,
    "start_time": "2025-02-11T02:56:46.384Z"
   },
   {
    "duration": 91,
    "start_time": "2025-02-11T02:56:46.399Z"
   },
   {
    "duration": 44,
    "start_time": "2025-02-11T02:56:46.492Z"
   },
   {
    "duration": 80,
    "start_time": "2025-02-11T02:56:46.539Z"
   },
   {
    "duration": 9,
    "start_time": "2025-02-11T02:56:46.620Z"
   },
   {
    "duration": 11,
    "start_time": "2025-02-11T02:56:46.630Z"
   },
   {
    "duration": 15,
    "start_time": "2025-02-11T02:56:51.081Z"
   },
   {
    "duration": 13,
    "start_time": "2025-02-11T02:57:31.487Z"
   },
   {
    "duration": 13,
    "start_time": "2025-02-11T02:57:53.992Z"
   },
   {
    "duration": 9,
    "start_time": "2025-02-11T02:58:22.699Z"
   },
   {
    "duration": 35,
    "start_time": "2025-02-11T03:08:16.687Z"
   },
   {
    "duration": 216,
    "start_time": "2025-02-11T03:09:15.368Z"
   },
   {
    "duration": 7,
    "start_time": "2025-02-11T03:11:18.782Z"
   },
   {
    "duration": 4,
    "start_time": "2025-02-11T03:11:35.662Z"
   },
   {
    "duration": 12,
    "start_time": "2025-02-11T03:11:46.167Z"
   },
   {
    "duration": 10,
    "start_time": "2025-02-11T03:12:06.392Z"
   },
   {
    "duration": 15,
    "start_time": "2025-02-11T03:20:08.572Z"
   },
   {
    "duration": 10,
    "start_time": "2025-02-11T03:20:08.793Z"
   },
   {
    "duration": 5,
    "start_time": "2025-02-11T03:20:20.322Z"
   },
   {
    "duration": 3,
    "start_time": "2025-02-11T03:21:52.488Z"
   },
   {
    "duration": 6,
    "start_time": "2025-02-11T03:22:22.085Z"
   },
   {
    "duration": 4,
    "start_time": "2025-02-11T03:22:33.117Z"
   },
   {
    "duration": 4,
    "start_time": "2025-02-11T03:23:03.647Z"
   },
   {
    "duration": 4,
    "start_time": "2025-02-11T03:23:34.190Z"
   },
   {
    "duration": 5,
    "start_time": "2025-02-11T03:28:27.947Z"
   },
   {
    "duration": 583,
    "start_time": "2025-02-11T03:28:33.305Z"
   },
   {
    "duration": 4,
    "start_time": "2025-02-11T03:28:45.532Z"
   },
   {
    "duration": 4,
    "start_time": "2025-02-11T03:28:50.782Z"
   },
   {
    "duration": 4,
    "start_time": "2025-02-11T03:28:57.513Z"
   },
   {
    "duration": 2,
    "start_time": "2025-02-11T03:46:15.132Z"
   },
   {
    "duration": 2,
    "start_time": "2025-02-11T03:46:18.650Z"
   },
   {
    "duration": 11,
    "start_time": "2025-02-11T03:48:45.757Z"
   },
   {
    "duration": 4,
    "start_time": "2025-02-11T03:51:56.377Z"
   },
   {
    "duration": 5,
    "start_time": "2025-02-11T03:52:19.008Z"
   },
   {
    "duration": 5,
    "start_time": "2025-02-11T03:57:00.096Z"
   },
   {
    "duration": 23,
    "start_time": "2025-02-11T04:02:55.835Z"
   },
   {
    "duration": 21,
    "start_time": "2025-02-11T04:07:26.175Z"
   },
   {
    "duration": 17,
    "start_time": "2025-02-11T04:08:55.162Z"
   },
   {
    "duration": 5,
    "start_time": "2025-02-11T04:10:35.909Z"
   },
   {
    "duration": 21,
    "start_time": "2025-02-11T04:15:11.652Z"
   },
   {
    "duration": 17,
    "start_time": "2025-02-11T04:15:19.733Z"
   },
   {
    "duration": 13,
    "start_time": "2025-02-11T04:17:13.741Z"
   },
   {
    "duration": 5,
    "start_time": "2025-02-11T04:17:33.390Z"
   },
   {
    "duration": 21,
    "start_time": "2025-02-11T04:22:22.619Z"
   },
   {
    "duration": 3,
    "start_time": "2025-02-11T04:22:52.039Z"
   },
   {
    "duration": 10,
    "start_time": "2025-02-11T04:22:52.357Z"
   },
   {
    "duration": 7,
    "start_time": "2025-02-11T04:22:52.369Z"
   },
   {
    "duration": 3,
    "start_time": "2025-02-11T04:23:38.875Z"
   },
   {
    "duration": 31,
    "start_time": "2025-02-11T04:25:56.559Z"
   },
   {
    "duration": 6,
    "start_time": "2025-02-11T04:26:19.512Z"
   },
   {
    "duration": 4,
    "start_time": "2025-02-11T04:32:26.728Z"
   },
   {
    "duration": 5,
    "start_time": "2025-02-11T04:32:50.208Z"
   },
   {
    "duration": 8,
    "start_time": "2025-02-11T04:34:24.861Z"
   },
   {
    "duration": 55,
    "start_time": "2025-02-11T04:34:54.224Z"
   },
   {
    "duration": 6,
    "start_time": "2025-02-11T04:35:13.857Z"
   },
   {
    "duration": 24,
    "start_time": "2025-02-11T04:35:22.336Z"
   },
   {
    "duration": 5,
    "start_time": "2025-02-11T04:37:29.919Z"
   },
   {
    "duration": 5,
    "start_time": "2025-02-11T04:38:35.488Z"
   },
   {
    "duration": 5,
    "start_time": "2025-02-11T04:38:40.443Z"
   },
   {
    "duration": 12,
    "start_time": "2025-02-11T04:58:35.026Z"
   },
   {
    "duration": 12,
    "start_time": "2025-02-11T04:59:05.867Z"
   },
   {
    "duration": 352,
    "start_time": "2025-02-12T02:07:28.103Z"
   },
   {
    "duration": 16,
    "start_time": "2025-02-12T02:07:28.458Z"
   },
   {
    "duration": 110,
    "start_time": "2025-02-12T02:07:28.476Z"
   },
   {
    "duration": 71,
    "start_time": "2025-02-12T02:07:28.588Z"
   },
   {
    "duration": 79,
    "start_time": "2025-02-12T02:07:28.662Z"
   },
   {
    "duration": 10,
    "start_time": "2025-02-12T02:07:28.743Z"
   },
   {
    "duration": 11,
    "start_time": "2025-02-12T02:07:28.755Z"
   },
   {
    "duration": 9,
    "start_time": "2025-02-12T02:07:28.768Z"
   },
   {
    "duration": 9,
    "start_time": "2025-02-12T02:07:28.787Z"
   },
   {
    "duration": 5,
    "start_time": "2025-02-12T02:07:28.800Z"
   },
   {
    "duration": 4,
    "start_time": "2025-02-12T02:07:28.806Z"
   },
   {
    "duration": 11,
    "start_time": "2025-02-12T02:07:28.812Z"
   },
   {
    "duration": 4,
    "start_time": "2025-02-12T02:07:28.826Z"
   },
   {
    "duration": 5,
    "start_time": "2025-02-12T02:07:28.832Z"
   },
   {
    "duration": 51,
    "start_time": "2025-02-12T02:07:28.839Z"
   },
   {
    "duration": 25,
    "start_time": "2025-02-12T02:07:28.892Z"
   },
   {
    "duration": 33,
    "start_time": "2025-02-12T02:07:28.919Z"
   },
   {
    "duration": 32,
    "start_time": "2025-02-12T02:07:28.954Z"
   },
   {
    "duration": 13,
    "start_time": "2025-02-12T02:07:28.988Z"
   },
   {
    "duration": 17,
    "start_time": "2025-02-12T02:07:29.003Z"
   },
   {
    "duration": 14,
    "start_time": "2025-02-12T02:07:29.023Z"
   },
   {
    "duration": 11,
    "start_time": "2025-02-12T02:07:29.039Z"
   },
   {
    "duration": 37,
    "start_time": "2025-02-12T02:07:29.052Z"
   },
   {
    "duration": 21,
    "start_time": "2025-02-12T02:07:29.091Z"
   },
   {
    "duration": 28,
    "start_time": "2025-02-12T02:07:29.114Z"
   },
   {
    "duration": 11,
    "start_time": "2025-02-12T02:07:29.144Z"
   },
   {
    "duration": 32,
    "start_time": "2025-02-12T02:07:29.158Z"
   },
   {
    "duration": 3,
    "start_time": "2025-02-12T02:07:29.194Z"
   },
   {
    "duration": 8,
    "start_time": "2025-02-12T02:07:29.199Z"
   },
   {
    "duration": 11,
    "start_time": "2025-02-12T02:07:29.208Z"
   },
   {
    "duration": 5,
    "start_time": "2025-02-12T02:07:29.220Z"
   },
   {
    "duration": 7,
    "start_time": "2025-02-12T02:07:33.905Z"
   },
   {
    "duration": 6,
    "start_time": "2025-02-12T02:07:48.056Z"
   },
   {
    "duration": 8,
    "start_time": "2025-02-12T02:09:27.682Z"
   },
   {
    "duration": 7,
    "start_time": "2025-02-12T02:10:00.184Z"
   },
   {
    "duration": 12,
    "start_time": "2025-02-12T02:13:01.844Z"
   },
   {
    "duration": 10,
    "start_time": "2025-02-12T02:53:50.304Z"
   },
   {
    "duration": 449,
    "start_time": "2025-02-12T02:54:51.564Z"
   },
   {
    "duration": 12,
    "start_time": "2025-02-12T02:55:10.553Z"
   },
   {
    "duration": 7,
    "start_time": "2025-02-12T02:55:39.296Z"
   },
   {
    "duration": 319,
    "start_time": "2025-02-14T03:10:44.717Z"
   },
   {
    "duration": 15,
    "start_time": "2025-02-14T03:10:45.038Z"
   },
   {
    "duration": 124,
    "start_time": "2025-02-14T03:10:45.056Z"
   },
   {
    "duration": 51,
    "start_time": "2025-02-14T03:10:45.182Z"
   },
   {
    "duration": 94,
    "start_time": "2025-02-14T03:10:45.236Z"
   },
   {
    "duration": 10,
    "start_time": "2025-02-14T03:10:45.332Z"
   },
   {
    "duration": 10,
    "start_time": "2025-02-14T03:10:45.344Z"
   },
   {
    "duration": 12,
    "start_time": "2025-02-14T03:10:45.355Z"
   },
   {
    "duration": 10,
    "start_time": "2025-02-14T03:10:45.370Z"
   },
   {
    "duration": 5,
    "start_time": "2025-02-14T03:10:45.384Z"
   },
   {
    "duration": 4,
    "start_time": "2025-02-14T03:10:45.390Z"
   },
   {
    "duration": 45,
    "start_time": "2025-02-14T03:10:45.396Z"
   },
   {
    "duration": 5,
    "start_time": "2025-02-14T03:10:45.443Z"
   },
   {
    "duration": 5,
    "start_time": "2025-02-14T03:10:45.451Z"
   },
   {
    "duration": 21,
    "start_time": "2025-02-14T03:10:45.457Z"
   },
   {
    "duration": 57,
    "start_time": "2025-02-14T03:10:45.480Z"
   },
   {
    "duration": 30,
    "start_time": "2025-02-14T03:10:45.539Z"
   },
   {
    "duration": 10,
    "start_time": "2025-02-14T03:10:45.572Z"
   },
   {
    "duration": 14,
    "start_time": "2025-02-14T03:10:45.585Z"
   },
   {
    "duration": 43,
    "start_time": "2025-02-14T03:10:45.601Z"
   },
   {
    "duration": 12,
    "start_time": "2025-02-14T03:10:45.647Z"
   },
   {
    "duration": 8,
    "start_time": "2025-02-14T03:10:45.661Z"
   },
   {
    "duration": 18,
    "start_time": "2025-02-14T03:10:45.671Z"
   },
   {
    "duration": 50,
    "start_time": "2025-02-14T03:10:45.691Z"
   },
   {
    "duration": 30,
    "start_time": "2025-02-14T03:10:45.743Z"
   },
   {
    "duration": 9,
    "start_time": "2025-02-14T03:10:45.776Z"
   },
   {
    "duration": 11,
    "start_time": "2025-02-14T03:10:45.787Z"
   },
   {
    "duration": 31,
    "start_time": "2025-02-14T03:10:45.802Z"
   },
   {
    "duration": 10,
    "start_time": "2025-02-14T03:10:45.835Z"
   },
   {
    "duration": 9,
    "start_time": "2025-02-14T03:10:45.847Z"
   },
   {
    "duration": 5,
    "start_time": "2025-02-14T03:10:45.859Z"
   },
   {
    "duration": 7,
    "start_time": "2025-02-14T03:10:45.866Z"
   },
   {
    "duration": 5,
    "start_time": "2025-02-14T03:10:45.875Z"
   },
   {
    "duration": 10,
    "start_time": "2025-02-14T03:10:45.882Z"
   },
   {
    "duration": 47,
    "start_time": "2025-02-14T03:10:45.893Z"
   },
   {
    "duration": 9,
    "start_time": "2025-02-14T03:10:45.942Z"
   },
   {
    "duration": 15,
    "start_time": "2025-02-14T03:10:45.954Z"
   },
   {
    "duration": 10,
    "start_time": "2025-02-14T03:10:45.972Z"
   },
   {
    "duration": 64,
    "start_time": "2025-02-14T03:16:25.061Z"
   },
   {
    "duration": 12,
    "start_time": "2025-02-14T03:16:34.839Z"
   },
   {
    "duration": 7,
    "start_time": "2025-02-14T03:16:51.740Z"
   },
   {
    "duration": 7,
    "start_time": "2025-02-14T03:16:58.759Z"
   },
   {
    "duration": 25,
    "start_time": "2025-02-14T03:17:47.855Z"
   },
   {
    "duration": 6,
    "start_time": "2025-02-14T03:18:12.557Z"
   },
   {
    "duration": 13,
    "start_time": "2025-02-14T03:18:16.866Z"
   },
   {
    "duration": 12,
    "start_time": "2025-02-14T03:22:05.913Z"
   },
   {
    "duration": 6,
    "start_time": "2025-02-14T03:22:45.822Z"
   },
   {
    "duration": 7,
    "start_time": "2025-02-14T03:24:18.117Z"
   },
   {
    "duration": 6,
    "start_time": "2025-02-14T03:38:02.999Z"
   },
   {
    "duration": 8,
    "start_time": "2025-02-14T03:38:35.128Z"
   },
   {
    "duration": 9,
    "start_time": "2025-02-14T03:38:55.008Z"
   },
   {
    "duration": 13,
    "start_time": "2025-02-14T03:47:13.565Z"
   },
   {
    "duration": 12,
    "start_time": "2025-02-14T03:47:29.293Z"
   },
   {
    "duration": 3,
    "start_time": "2025-02-14T03:58:26.461Z"
   },
   {
    "duration": 3,
    "start_time": "2025-02-14T03:59:16.514Z"
   },
   {
    "duration": 18,
    "start_time": "2025-02-14T04:04:06.397Z"
   },
   {
    "duration": 19,
    "start_time": "2025-02-14T04:08:02.336Z"
   },
   {
    "duration": 15,
    "start_time": "2025-02-14T04:13:43.441Z"
   },
   {
    "duration": 17,
    "start_time": "2025-02-14T04:20:01.327Z"
   },
   {
    "duration": 16,
    "start_time": "2025-02-14T04:23:28.726Z"
   },
   {
    "duration": 11,
    "start_time": "2025-02-14T04:26:24.929Z"
   },
   {
    "duration": 474,
    "start_time": "2025-02-14T04:31:17.333Z"
   },
   {
    "duration": 3,
    "start_time": "2025-02-14T04:32:32.557Z"
   },
   {
    "duration": 48,
    "start_time": "2025-02-14T04:33:48.389Z"
   },
   {
    "duration": 6,
    "start_time": "2025-02-14T04:35:56.835Z"
   },
   {
    "duration": 48,
    "start_time": "2025-02-14T04:36:13.387Z"
   },
   {
    "duration": 49,
    "start_time": "2025-02-14T04:37:44.933Z"
   },
   {
    "duration": 74,
    "start_time": "2025-02-14T04:39:52.953Z"
   },
   {
    "duration": 304,
    "start_time": "2025-02-17T01:01:03.121Z"
   },
   {
    "duration": 16,
    "start_time": "2025-02-17T01:01:03.427Z"
   },
   {
    "duration": 94,
    "start_time": "2025-02-17T01:01:03.445Z"
   },
   {
    "duration": 52,
    "start_time": "2025-02-17T01:01:03.542Z"
   },
   {
    "duration": 83,
    "start_time": "2025-02-17T01:01:03.596Z"
   },
   {
    "duration": 11,
    "start_time": "2025-02-17T01:01:03.681Z"
   },
   {
    "duration": 9,
    "start_time": "2025-02-17T01:01:03.694Z"
   },
   {
    "duration": 9,
    "start_time": "2025-02-17T01:01:03.706Z"
   },
   {
    "duration": 9,
    "start_time": "2025-02-17T01:01:03.717Z"
   },
   {
    "duration": 4,
    "start_time": "2025-02-17T01:01:03.729Z"
   },
   {
    "duration": 36,
    "start_time": "2025-02-17T01:01:03.735Z"
   },
   {
    "duration": 11,
    "start_time": "2025-02-17T01:01:03.773Z"
   },
   {
    "duration": 5,
    "start_time": "2025-02-17T01:01:03.786Z"
   },
   {
    "duration": 5,
    "start_time": "2025-02-17T01:01:03.793Z"
   },
   {
    "duration": 15,
    "start_time": "2025-02-17T01:01:03.800Z"
   },
   {
    "duration": 58,
    "start_time": "2025-02-17T01:01:03.816Z"
   },
   {
    "duration": 29,
    "start_time": "2025-02-17T01:01:03.876Z"
   },
   {
    "duration": 9,
    "start_time": "2025-02-17T01:01:03.906Z"
   },
   {
    "duration": 12,
    "start_time": "2025-02-17T01:01:03.918Z"
   },
   {
    "duration": 47,
    "start_time": "2025-02-17T01:01:03.932Z"
   },
   {
    "duration": 12,
    "start_time": "2025-02-17T01:01:03.982Z"
   },
   {
    "duration": 8,
    "start_time": "2025-02-17T01:01:03.996Z"
   },
   {
    "duration": 14,
    "start_time": "2025-02-17T01:01:04.006Z"
   },
   {
    "duration": 19,
    "start_time": "2025-02-17T01:01:04.021Z"
   },
   {
    "duration": 58,
    "start_time": "2025-02-17T01:01:04.042Z"
   },
   {
    "duration": 8,
    "start_time": "2025-02-17T01:01:04.102Z"
   },
   {
    "duration": 8,
    "start_time": "2025-02-17T01:01:04.111Z"
   },
   {
    "duration": 4,
    "start_time": "2025-02-17T01:01:04.124Z"
   },
   {
    "duration": 9,
    "start_time": "2025-02-17T01:01:04.130Z"
   },
   {
    "duration": 38,
    "start_time": "2025-02-17T01:01:04.140Z"
   },
   {
    "duration": 5,
    "start_time": "2025-02-17T01:01:04.180Z"
   },
   {
    "duration": 8,
    "start_time": "2025-02-17T01:01:04.186Z"
   },
   {
    "duration": 5,
    "start_time": "2025-02-17T01:01:04.195Z"
   },
   {
    "duration": 8,
    "start_time": "2025-02-17T01:01:04.202Z"
   },
   {
    "duration": 9,
    "start_time": "2025-02-17T01:01:04.211Z"
   },
   {
    "duration": 6,
    "start_time": "2025-02-17T01:01:04.221Z"
   },
   {
    "duration": 48,
    "start_time": "2025-02-17T01:01:04.229Z"
   },
   {
    "duration": 7,
    "start_time": "2025-02-17T01:01:04.278Z"
   },
   {
    "duration": 10,
    "start_time": "2025-02-17T01:01:04.287Z"
   },
   {
    "duration": 5,
    "start_time": "2025-02-17T01:01:04.298Z"
   },
   {
    "duration": 0,
    "start_time": "2025-02-17T01:01:04.305Z"
   },
   {
    "duration": 0,
    "start_time": "2025-02-17T01:01:04.306Z"
   },
   {
    "duration": 0,
    "start_time": "2025-02-17T01:01:04.307Z"
   },
   {
    "duration": 0,
    "start_time": "2025-02-17T01:01:04.308Z"
   },
   {
    "duration": 0,
    "start_time": "2025-02-17T01:01:04.309Z"
   },
   {
    "duration": 0,
    "start_time": "2025-02-17T01:01:04.310Z"
   },
   {
    "duration": 0,
    "start_time": "2025-02-17T01:01:04.311Z"
   },
   {
    "duration": 0,
    "start_time": "2025-02-17T01:01:04.312Z"
   },
   {
    "duration": 0,
    "start_time": "2025-02-17T01:01:04.314Z"
   },
   {
    "duration": 0,
    "start_time": "2025-02-17T01:01:04.315Z"
   },
   {
    "duration": 0,
    "start_time": "2025-02-17T01:01:04.316Z"
   },
   {
    "duration": 0,
    "start_time": "2025-02-17T01:01:04.318Z"
   },
   {
    "duration": 0,
    "start_time": "2025-02-17T01:01:04.319Z"
   },
   {
    "duration": 185,
    "start_time": "2025-02-17T01:01:11.015Z"
   },
   {
    "duration": 13,
    "start_time": "2025-02-17T01:01:19.671Z"
   },
   {
    "duration": 3,
    "start_time": "2025-02-17T01:01:26.988Z"
   },
   {
    "duration": 12,
    "start_time": "2025-02-17T01:01:26.995Z"
   },
   {
    "duration": 73,
    "start_time": "2025-02-17T01:01:27.009Z"
   },
   {
    "duration": 43,
    "start_time": "2025-02-17T01:01:27.084Z"
   },
   {
    "duration": 71,
    "start_time": "2025-02-17T01:01:27.129Z"
   },
   {
    "duration": 9,
    "start_time": "2025-02-17T01:01:27.202Z"
   },
   {
    "duration": 8,
    "start_time": "2025-02-17T01:01:27.213Z"
   },
   {
    "duration": 10,
    "start_time": "2025-02-17T01:01:27.222Z"
   },
   {
    "duration": 37,
    "start_time": "2025-02-17T01:01:27.234Z"
   },
   {
    "duration": 6,
    "start_time": "2025-02-17T01:01:27.273Z"
   },
   {
    "duration": 3,
    "start_time": "2025-02-17T01:01:27.283Z"
   },
   {
    "duration": 10,
    "start_time": "2025-02-17T01:01:27.288Z"
   },
   {
    "duration": 5,
    "start_time": "2025-02-17T01:01:27.300Z"
   },
   {
    "duration": 5,
    "start_time": "2025-02-17T01:01:27.307Z"
   },
   {
    "duration": 18,
    "start_time": "2025-02-17T01:01:27.313Z"
   },
   {
    "duration": 24,
    "start_time": "2025-02-17T01:01:27.371Z"
   },
   {
    "duration": 26,
    "start_time": "2025-02-17T01:01:27.397Z"
   },
   {
    "duration": 8,
    "start_time": "2025-02-17T01:01:27.425Z"
   },
   {
    "duration": 36,
    "start_time": "2025-02-17T01:01:27.434Z"
   },
   {
    "duration": 18,
    "start_time": "2025-02-17T01:01:27.471Z"
   },
   {
    "duration": 12,
    "start_time": "2025-02-17T01:01:27.491Z"
   },
   {
    "duration": 7,
    "start_time": "2025-02-17T01:01:27.505Z"
   },
   {
    "duration": 13,
    "start_time": "2025-02-17T01:01:27.514Z"
   },
   {
    "duration": 50,
    "start_time": "2025-02-17T01:01:27.529Z"
   },
   {
    "duration": 27,
    "start_time": "2025-02-17T01:01:27.581Z"
   },
   {
    "duration": 8,
    "start_time": "2025-02-17T01:01:27.610Z"
   },
   {
    "duration": 8,
    "start_time": "2025-02-17T01:01:27.620Z"
   },
   {
    "duration": 4,
    "start_time": "2025-02-17T01:01:27.629Z"
   },
   {
    "duration": 39,
    "start_time": "2025-02-17T01:01:27.637Z"
   },
   {
    "duration": 8,
    "start_time": "2025-02-17T01:01:27.677Z"
   },
   {
    "duration": 4,
    "start_time": "2025-02-17T01:01:27.687Z"
   },
   {
    "duration": 5,
    "start_time": "2025-02-17T01:01:27.693Z"
   },
   {
    "duration": 5,
    "start_time": "2025-02-17T01:01:27.700Z"
   },
   {
    "duration": 9,
    "start_time": "2025-02-17T01:01:27.707Z"
   },
   {
    "duration": 9,
    "start_time": "2025-02-17T01:01:27.717Z"
   },
   {
    "duration": 43,
    "start_time": "2025-02-17T01:01:27.728Z"
   },
   {
    "duration": 12,
    "start_time": "2025-02-17T01:01:27.773Z"
   },
   {
    "duration": 8,
    "start_time": "2025-02-17T01:01:27.787Z"
   },
   {
    "duration": 9,
    "start_time": "2025-02-17T01:01:27.797Z"
   },
   {
    "duration": 4,
    "start_time": "2025-02-17T01:01:27.807Z"
   },
   {
    "duration": 0,
    "start_time": "2025-02-17T01:01:27.813Z"
   },
   {
    "duration": 0,
    "start_time": "2025-02-17T01:01:27.814Z"
   },
   {
    "duration": 0,
    "start_time": "2025-02-17T01:01:27.815Z"
   },
   {
    "duration": 0,
    "start_time": "2025-02-17T01:01:27.816Z"
   },
   {
    "duration": 0,
    "start_time": "2025-02-17T01:01:27.817Z"
   },
   {
    "duration": 0,
    "start_time": "2025-02-17T01:01:27.818Z"
   },
   {
    "duration": 0,
    "start_time": "2025-02-17T01:01:27.819Z"
   },
   {
    "duration": 0,
    "start_time": "2025-02-17T01:01:27.820Z"
   },
   {
    "duration": 0,
    "start_time": "2025-02-17T01:01:27.821Z"
   },
   {
    "duration": 0,
    "start_time": "2025-02-17T01:01:27.822Z"
   },
   {
    "duration": 0,
    "start_time": "2025-02-17T01:01:27.823Z"
   },
   {
    "duration": 0,
    "start_time": "2025-02-17T01:01:27.824Z"
   },
   {
    "duration": 0,
    "start_time": "2025-02-17T01:01:27.825Z"
   },
   {
    "duration": 17,
    "start_time": "2025-02-17T01:01:42.389Z"
   },
   {
    "duration": 17,
    "start_time": "2025-02-17T01:01:46.243Z"
   },
   {
    "duration": 14,
    "start_time": "2025-02-17T01:01:53.493Z"
   },
   {
    "duration": 22,
    "start_time": "2025-02-17T01:01:56.531Z"
   },
   {
    "duration": 16,
    "start_time": "2025-02-17T01:02:00.516Z"
   },
   {
    "duration": 2,
    "start_time": "2025-02-17T01:02:17.543Z"
   },
   {
    "duration": 11,
    "start_time": "2025-02-17T01:02:17.549Z"
   },
   {
    "duration": 69,
    "start_time": "2025-02-17T01:02:17.562Z"
   },
   {
    "duration": 46,
    "start_time": "2025-02-17T01:02:17.633Z"
   },
   {
    "duration": 54,
    "start_time": "2025-02-17T01:02:17.682Z"
   },
   {
    "duration": 7,
    "start_time": "2025-02-17T01:02:17.738Z"
   },
   {
    "duration": 29,
    "start_time": "2025-02-17T01:02:17.747Z"
   },
   {
    "duration": 9,
    "start_time": "2025-02-17T01:02:17.778Z"
   },
   {
    "duration": 8,
    "start_time": "2025-02-17T01:02:17.788Z"
   },
   {
    "duration": 4,
    "start_time": "2025-02-17T01:02:17.798Z"
   },
   {
    "duration": 4,
    "start_time": "2025-02-17T01:02:17.805Z"
   },
   {
    "duration": 9,
    "start_time": "2025-02-17T01:02:17.810Z"
   },
   {
    "duration": 4,
    "start_time": "2025-02-17T01:02:17.821Z"
   },
   {
    "duration": 47,
    "start_time": "2025-02-17T01:02:17.826Z"
   },
   {
    "duration": 15,
    "start_time": "2025-02-17T01:02:17.874Z"
   },
   {
    "duration": 24,
    "start_time": "2025-02-17T01:02:17.890Z"
   },
   {
    "duration": 23,
    "start_time": "2025-02-17T01:02:17.916Z"
   },
   {
    "duration": 36,
    "start_time": "2025-02-17T01:02:17.941Z"
   },
   {
    "duration": 12,
    "start_time": "2025-02-17T01:02:17.979Z"
   },
   {
    "duration": 17,
    "start_time": "2025-02-17T01:02:17.993Z"
   },
   {
    "duration": 11,
    "start_time": "2025-02-17T01:02:18.012Z"
   },
   {
    "duration": 8,
    "start_time": "2025-02-17T01:02:18.025Z"
   },
   {
    "duration": 45,
    "start_time": "2025-02-17T01:02:18.034Z"
   },
   {
    "duration": 19,
    "start_time": "2025-02-17T01:02:18.081Z"
   },
   {
    "duration": 28,
    "start_time": "2025-02-17T01:02:18.102Z"
   },
   {
    "duration": 9,
    "start_time": "2025-02-17T01:02:18.132Z"
   },
   {
    "duration": 33,
    "start_time": "2025-02-17T01:02:18.143Z"
   },
   {
    "duration": 4,
    "start_time": "2025-02-17T01:02:18.178Z"
   },
   {
    "duration": 8,
    "start_time": "2025-02-17T01:02:18.186Z"
   },
   {
    "duration": 8,
    "start_time": "2025-02-17T01:02:18.196Z"
   },
   {
    "duration": 5,
    "start_time": "2025-02-17T01:02:18.206Z"
   },
   {
    "duration": 6,
    "start_time": "2025-02-17T01:02:18.212Z"
   },
   {
    "duration": 5,
    "start_time": "2025-02-17T01:02:18.220Z"
   },
   {
    "duration": 50,
    "start_time": "2025-02-17T01:02:18.227Z"
   },
   {
    "duration": 10,
    "start_time": "2025-02-17T01:02:18.278Z"
   },
   {
    "duration": 6,
    "start_time": "2025-02-17T01:02:18.290Z"
   },
   {
    "duration": 15,
    "start_time": "2025-02-17T01:02:18.298Z"
   },
   {
    "duration": 10,
    "start_time": "2025-02-17T01:02:18.315Z"
   },
   {
    "duration": 9,
    "start_time": "2025-02-17T01:02:18.326Z"
   },
   {
    "duration": 3,
    "start_time": "2025-02-17T01:02:18.370Z"
   },
   {
    "duration": 0,
    "start_time": "2025-02-17T01:02:18.375Z"
   },
   {
    "duration": 0,
    "start_time": "2025-02-17T01:02:18.376Z"
   },
   {
    "duration": 0,
    "start_time": "2025-02-17T01:02:18.377Z"
   },
   {
    "duration": 0,
    "start_time": "2025-02-17T01:02:18.378Z"
   },
   {
    "duration": 0,
    "start_time": "2025-02-17T01:02:18.380Z"
   },
   {
    "duration": 0,
    "start_time": "2025-02-17T01:02:18.381Z"
   },
   {
    "duration": 0,
    "start_time": "2025-02-17T01:02:18.382Z"
   },
   {
    "duration": 0,
    "start_time": "2025-02-17T01:02:18.383Z"
   },
   {
    "duration": 0,
    "start_time": "2025-02-17T01:02:18.384Z"
   },
   {
    "duration": 0,
    "start_time": "2025-02-17T01:02:18.385Z"
   },
   {
    "duration": 0,
    "start_time": "2025-02-17T01:02:18.386Z"
   },
   {
    "duration": 0,
    "start_time": "2025-02-17T01:02:18.388Z"
   },
   {
    "duration": 0,
    "start_time": "2025-02-17T01:02:18.389Z"
   },
   {
    "duration": 0,
    "start_time": "2025-02-17T01:02:18.390Z"
   },
   {
    "duration": 0,
    "start_time": "2025-02-17T01:02:18.391Z"
   },
   {
    "duration": 0,
    "start_time": "2025-02-17T01:02:18.393Z"
   },
   {
    "duration": 0,
    "start_time": "2025-02-17T01:02:18.395Z"
   },
   {
    "duration": 0,
    "start_time": "2025-02-17T01:02:18.396Z"
   },
   {
    "duration": 0,
    "start_time": "2025-02-17T01:02:18.397Z"
   },
   {
    "duration": 0,
    "start_time": "2025-02-17T01:02:18.399Z"
   },
   {
    "duration": 0,
    "start_time": "2025-02-17T01:02:18.400Z"
   },
   {
    "duration": 0,
    "start_time": "2025-02-17T01:02:18.401Z"
   },
   {
    "duration": 11,
    "start_time": "2025-02-17T01:02:38.276Z"
   },
   {
    "duration": 9,
    "start_time": "2025-02-17T01:02:41.924Z"
   },
   {
    "duration": 13,
    "start_time": "2025-02-17T01:02:53.079Z"
   },
   {
    "duration": 17,
    "start_time": "2025-02-17T01:03:07.193Z"
   },
   {
    "duration": 18,
    "start_time": "2025-02-17T01:03:12.086Z"
   },
   {
    "duration": 17,
    "start_time": "2025-02-17T01:03:14.881Z"
   },
   {
    "duration": 14,
    "start_time": "2025-02-17T01:03:17.506Z"
   },
   {
    "duration": 15,
    "start_time": "2025-02-17T01:03:20.365Z"
   },
   {
    "duration": 15,
    "start_time": "2025-02-17T01:03:23.488Z"
   },
   {
    "duration": 11,
    "start_time": "2025-02-17T01:03:26.418Z"
   },
   {
    "duration": 41,
    "start_time": "2025-02-17T01:03:31.516Z"
   },
   {
    "duration": 1913,
    "start_time": "2025-02-17T01:11:38.011Z"
   },
   {
    "duration": 59,
    "start_time": "2025-02-17T01:13:00.709Z"
   },
   {
    "duration": 362,
    "start_time": "2025-02-17T01:13:13.924Z"
   },
   {
    "duration": 41,
    "start_time": "2025-02-17T01:13:34.455Z"
   },
   {
    "duration": 304,
    "start_time": "2025-02-17T01:19:44.933Z"
   },
   {
    "duration": 154,
    "start_time": "2025-02-17T01:22:42.534Z"
   },
   {
    "duration": 477,
    "start_time": "2025-02-17T01:23:17.351Z"
   },
   {
    "duration": 364,
    "start_time": "2025-02-17T01:23:40.625Z"
   },
   {
    "duration": 78,
    "start_time": "2025-02-17T01:25:41.083Z"
   },
   {
    "duration": 58,
    "start_time": "2025-02-17T01:25:55.990Z"
   },
   {
    "duration": 299,
    "start_time": "2025-02-17T01:26:13.410Z"
   },
   {
    "duration": 98,
    "start_time": "2025-02-17T01:30:21.554Z"
   },
   {
    "duration": 60,
    "start_time": "2025-02-17T01:30:26.978Z"
   },
   {
    "duration": 6,
    "start_time": "2025-02-17T01:31:16.334Z"
   },
   {
    "duration": 21,
    "start_time": "2025-02-17T01:31:28.429Z"
   },
   {
    "duration": 9,
    "start_time": "2025-02-17T01:31:33.262Z"
   },
   {
    "duration": 88,
    "start_time": "2025-02-17T01:31:59.824Z"
   },
   {
    "duration": 67,
    "start_time": "2025-02-17T01:32:02.652Z"
   },
   {
    "duration": 416,
    "start_time": "2025-02-17T01:32:30.123Z"
   },
   {
    "duration": 3,
    "start_time": "2025-02-17T01:33:28.080Z"
   },
   {
    "duration": 11,
    "start_time": "2025-02-17T01:33:28.085Z"
   },
   {
    "duration": 62,
    "start_time": "2025-02-17T01:33:28.097Z"
   },
   {
    "duration": 41,
    "start_time": "2025-02-17T01:33:28.161Z"
   },
   {
    "duration": 51,
    "start_time": "2025-02-17T01:33:28.204Z"
   },
   {
    "duration": 8,
    "start_time": "2025-02-17T01:33:28.270Z"
   },
   {
    "duration": 9,
    "start_time": "2025-02-17T01:33:28.280Z"
   },
   {
    "duration": 9,
    "start_time": "2025-02-17T01:33:28.291Z"
   },
   {
    "duration": 8,
    "start_time": "2025-02-17T01:33:28.302Z"
   },
   {
    "duration": 3,
    "start_time": "2025-02-17T01:33:28.312Z"
   },
   {
    "duration": 4,
    "start_time": "2025-02-17T01:33:28.317Z"
   },
   {
    "duration": 50,
    "start_time": "2025-02-17T01:33:28.322Z"
   },
   {
    "duration": 4,
    "start_time": "2025-02-17T01:33:28.374Z"
   },
   {
    "duration": 5,
    "start_time": "2025-02-17T01:33:28.382Z"
   },
   {
    "duration": 15,
    "start_time": "2025-02-17T01:33:28.389Z"
   },
   {
    "duration": 24,
    "start_time": "2025-02-17T01:33:28.406Z"
   },
   {
    "duration": 50,
    "start_time": "2025-02-17T01:33:28.432Z"
   },
   {
    "duration": 12,
    "start_time": "2025-02-17T01:33:28.483Z"
   },
   {
    "duration": 14,
    "start_time": "2025-02-17T01:33:28.498Z"
   },
   {
    "duration": 19,
    "start_time": "2025-02-17T01:33:28.514Z"
   },
   {
    "duration": 36,
    "start_time": "2025-02-17T01:33:28.535Z"
   },
   {
    "duration": 9,
    "start_time": "2025-02-17T01:33:28.573Z"
   },
   {
    "duration": 12,
    "start_time": "2025-02-17T01:33:28.585Z"
   },
   {
    "duration": 20,
    "start_time": "2025-02-17T01:33:28.599Z"
   },
   {
    "duration": 27,
    "start_time": "2025-02-17T01:33:29.216Z"
   },
   {
    "duration": 9,
    "start_time": "2025-02-17T01:33:29.245Z"
   },
   {
    "duration": 9,
    "start_time": "2025-02-17T01:33:29.255Z"
   },
   {
    "duration": 4,
    "start_time": "2025-02-17T01:33:29.266Z"
   },
   {
    "duration": 9,
    "start_time": "2025-02-17T01:33:29.272Z"
   },
   {
    "duration": 7,
    "start_time": "2025-02-17T01:33:29.283Z"
   },
   {
    "duration": 5,
    "start_time": "2025-02-17T01:33:29.292Z"
   },
   {
    "duration": 5,
    "start_time": "2025-02-17T01:33:29.299Z"
   },
   {
    "duration": 5,
    "start_time": "2025-02-17T01:33:29.306Z"
   },
   {
    "duration": 9,
    "start_time": "2025-02-17T01:33:29.313Z"
   },
   {
    "duration": 9,
    "start_time": "2025-02-17T01:33:29.324Z"
   },
   {
    "duration": 7,
    "start_time": "2025-02-17T01:33:29.370Z"
   },
   {
    "duration": 13,
    "start_time": "2025-02-17T01:33:29.380Z"
   },
   {
    "duration": 7,
    "start_time": "2025-02-17T01:33:29.394Z"
   },
   {
    "duration": 9,
    "start_time": "2025-02-17T01:33:29.402Z"
   },
   {
    "duration": 9,
    "start_time": "2025-02-17T01:33:29.413Z"
   },
   {
    "duration": 6,
    "start_time": "2025-02-17T01:33:29.423Z"
   },
   {
    "duration": 47,
    "start_time": "2025-02-17T01:33:29.430Z"
   },
   {
    "duration": 7,
    "start_time": "2025-02-17T01:33:29.479Z"
   },
   {
    "duration": 8,
    "start_time": "2025-02-17T01:33:29.487Z"
   },
   {
    "duration": 3,
    "start_time": "2025-02-17T01:33:29.497Z"
   },
   {
    "duration": 3,
    "start_time": "2025-02-17T01:33:29.618Z"
   },
   {
    "duration": 17,
    "start_time": "2025-02-17T01:33:29.623Z"
   },
   {
    "duration": 17,
    "start_time": "2025-02-17T01:33:30.101Z"
   },
   {
    "duration": 13,
    "start_time": "2025-02-17T01:33:30.120Z"
   },
   {
    "duration": 15,
    "start_time": "2025-02-17T01:33:30.135Z"
   },
   {
    "duration": 15,
    "start_time": "2025-02-17T01:33:30.152Z"
   },
   {
    "duration": 10,
    "start_time": "2025-02-17T01:33:30.169Z"
   },
   {
    "duration": 40,
    "start_time": "2025-02-17T01:33:30.180Z"
   },
   {
    "duration": 34,
    "start_time": "2025-02-17T01:33:30.222Z"
   },
   {
    "duration": 289,
    "start_time": "2025-02-17T01:33:30.299Z"
   },
   {
    "duration": 55,
    "start_time": "2025-02-17T01:33:44.398Z"
   },
   {
    "duration": 31,
    "start_time": "2025-02-17T01:33:47.771Z"
   },
   {
    "duration": 64,
    "start_time": "2025-02-17T01:35:39.070Z"
   },
   {
    "duration": 46,
    "start_time": "2025-02-17T01:35:42.432Z"
   },
   {
    "duration": 168,
    "start_time": "2025-02-17T02:10:19.341Z"
   },
   {
    "duration": 23,
    "start_time": "2025-02-17T02:37:02.725Z"
   },
   {
    "duration": 317,
    "start_time": "2025-02-17T02:37:22.546Z"
   },
   {
    "duration": 2171,
    "start_time": "2025-02-17T04:58:44.418Z"
   },
   {
    "duration": 22,
    "start_time": "2025-02-17T04:58:46.591Z"
   },
   {
    "duration": 107,
    "start_time": "2025-02-17T04:58:46.615Z"
   },
   {
    "duration": 61,
    "start_time": "2025-02-17T04:58:46.725Z"
   },
   {
    "duration": 96,
    "start_time": "2025-02-17T04:58:46.788Z"
   },
   {
    "duration": 12,
    "start_time": "2025-02-17T04:58:46.886Z"
   },
   {
    "duration": 10,
    "start_time": "2025-02-17T04:58:46.901Z"
   },
   {
    "duration": 10,
    "start_time": "2025-02-17T04:58:46.912Z"
   },
   {
    "duration": 10,
    "start_time": "2025-02-17T04:58:46.924Z"
   },
   {
    "duration": 4,
    "start_time": "2025-02-17T04:58:46.937Z"
   },
   {
    "duration": 4,
    "start_time": "2025-02-17T04:58:46.942Z"
   },
   {
    "duration": 10,
    "start_time": "2025-02-17T04:58:46.947Z"
   },
   {
    "duration": 5,
    "start_time": "2025-02-17T04:58:46.959Z"
   },
   {
    "duration": 6,
    "start_time": "2025-02-17T04:58:46.966Z"
   },
   {
    "duration": 14,
    "start_time": "2025-02-17T04:58:47.010Z"
   },
   {
    "duration": 25,
    "start_time": "2025-02-17T04:58:47.025Z"
   },
   {
    "duration": 26,
    "start_time": "2025-02-17T04:58:47.052Z"
   },
   {
    "duration": 31,
    "start_time": "2025-02-17T04:58:47.080Z"
   },
   {
    "duration": 14,
    "start_time": "2025-02-17T04:58:47.113Z"
   },
   {
    "duration": 24,
    "start_time": "2025-02-17T04:58:47.128Z"
   },
   {
    "duration": 15,
    "start_time": "2025-02-17T04:58:47.153Z"
   },
   {
    "duration": 13,
    "start_time": "2025-02-17T04:58:47.170Z"
   },
   {
    "duration": 44,
    "start_time": "2025-02-17T04:58:47.186Z"
   },
   {
    "duration": 31,
    "start_time": "2025-02-17T04:58:47.232Z"
   },
   {
    "duration": 47,
    "start_time": "2025-02-17T04:58:47.265Z"
   },
   {
    "duration": 16,
    "start_time": "2025-02-17T04:58:47.314Z"
   },
   {
    "duration": 9,
    "start_time": "2025-02-17T04:58:47.331Z"
   },
   {
    "duration": 5,
    "start_time": "2025-02-17T04:58:47.346Z"
   },
   {
    "duration": 10,
    "start_time": "2025-02-17T04:58:47.353Z"
   },
   {
    "duration": 11,
    "start_time": "2025-02-17T04:58:47.364Z"
   },
   {
    "duration": 4,
    "start_time": "2025-02-17T04:58:47.377Z"
   },
   {
    "duration": 8,
    "start_time": "2025-02-17T04:58:47.409Z"
   },
   {
    "duration": 7,
    "start_time": "2025-02-17T04:58:47.419Z"
   },
   {
    "duration": 8,
    "start_time": "2025-02-17T04:58:47.430Z"
   },
   {
    "duration": 9,
    "start_time": "2025-02-17T04:58:47.440Z"
   },
   {
    "duration": 7,
    "start_time": "2025-02-17T04:58:47.450Z"
   },
   {
    "duration": 13,
    "start_time": "2025-02-17T04:58:47.458Z"
   },
   {
    "duration": 40,
    "start_time": "2025-02-17T04:58:47.473Z"
   },
   {
    "duration": 13,
    "start_time": "2025-02-17T04:58:47.515Z"
   },
   {
    "duration": 11,
    "start_time": "2025-02-17T04:58:47.529Z"
   },
   {
    "duration": 5,
    "start_time": "2025-02-17T04:58:47.542Z"
   },
   {
    "duration": 10,
    "start_time": "2025-02-17T04:58:47.549Z"
   },
   {
    "duration": 6,
    "start_time": "2025-02-17T04:58:47.562Z"
   },
   {
    "duration": 37,
    "start_time": "2025-02-17T04:58:47.571Z"
   },
   {
    "duration": 3,
    "start_time": "2025-02-17T04:58:47.610Z"
   },
   {
    "duration": 9,
    "start_time": "2025-02-17T04:58:47.614Z"
   },
   {
    "duration": 29,
    "start_time": "2025-02-17T04:58:47.624Z"
   },
   {
    "duration": 23,
    "start_time": "2025-02-17T04:58:47.655Z"
   },
   {
    "duration": 29,
    "start_time": "2025-02-17T04:58:47.680Z"
   },
   {
    "duration": 21,
    "start_time": "2025-02-17T04:58:47.714Z"
   },
   {
    "duration": 18,
    "start_time": "2025-02-17T04:58:47.736Z"
   },
   {
    "duration": 11,
    "start_time": "2025-02-17T04:58:47.756Z"
   },
   {
    "duration": 75,
    "start_time": "2025-02-17T04:58:47.769Z"
   },
   {
    "duration": 50,
    "start_time": "2025-02-17T04:58:47.846Z"
   },
   {
    "duration": 354,
    "start_time": "2025-02-17T04:58:47.898Z"
   },
   {
    "duration": 531,
    "start_time": "2025-02-17T04:58:48.253Z"
   },
   {
    "duration": 0,
    "start_time": "2025-02-17T04:58:48.786Z"
   },
   {
    "duration": 0,
    "start_time": "2025-02-17T04:58:48.787Z"
   },
   {
    "duration": 0,
    "start_time": "2025-02-17T04:58:48.788Z"
   },
   {
    "duration": 0,
    "start_time": "2025-02-17T04:58:48.789Z"
   },
   {
    "duration": 21,
    "start_time": "2025-02-17T05:00:20.153Z"
   },
   {
    "duration": 23,
    "start_time": "2025-02-17T05:00:24.040Z"
   },
   {
    "duration": 405,
    "start_time": "2025-02-17T05:00:27.556Z"
   },
   {
    "duration": 51,
    "start_time": "2025-02-17T05:04:55.586Z"
   },
   {
    "duration": 48,
    "start_time": "2025-02-17T05:05:08.056Z"
   },
   {
    "duration": 33,
    "start_time": "2025-02-17T05:05:32.190Z"
   },
   {
    "duration": 122,
    "start_time": "2025-02-17T05:17:17.981Z"
   },
   {
    "duration": 23,
    "start_time": "2025-02-17T05:17:24.879Z"
   },
   {
    "duration": 28,
    "start_time": "2025-02-17T05:19:43.862Z"
   },
   {
    "duration": 31,
    "start_time": "2025-02-17T05:21:54.184Z"
   },
   {
    "duration": 23,
    "start_time": "2025-02-17T05:21:59.298Z"
   },
   {
    "duration": 44,
    "start_time": "2025-02-17T05:22:09.917Z"
   },
   {
    "duration": 28,
    "start_time": "2025-02-17T05:22:13.195Z"
   },
   {
    "duration": 24,
    "start_time": "2025-02-17T05:22:30.926Z"
   },
   {
    "duration": 117,
    "start_time": "2025-02-17T05:22:34.370Z"
   },
   {
    "duration": 23,
    "start_time": "2025-02-17T05:22:55.774Z"
   },
   {
    "duration": 29,
    "start_time": "2025-02-17T05:23:03.236Z"
   },
   {
    "duration": 26,
    "start_time": "2025-02-17T05:23:13.301Z"
   },
   {
    "duration": 27,
    "start_time": "2025-02-17T05:23:16.317Z"
   },
   {
    "duration": 97,
    "start_time": "2025-02-17T05:23:39.534Z"
   },
   {
    "duration": 29,
    "start_time": "2025-02-17T05:23:48.074Z"
   },
   {
    "duration": 2263,
    "start_time": "2025-02-18T00:45:21.876Z"
   },
   {
    "duration": 16,
    "start_time": "2025-02-18T00:45:24.141Z"
   },
   {
    "duration": 110,
    "start_time": "2025-02-18T00:45:24.158Z"
   },
   {
    "duration": 56,
    "start_time": "2025-02-18T00:45:24.272Z"
   },
   {
    "duration": 79,
    "start_time": "2025-02-18T00:45:24.330Z"
   },
   {
    "duration": 10,
    "start_time": "2025-02-18T00:45:24.411Z"
   },
   {
    "duration": 9,
    "start_time": "2025-02-18T00:45:24.422Z"
   },
   {
    "duration": 10,
    "start_time": "2025-02-18T00:45:24.433Z"
   },
   {
    "duration": 10,
    "start_time": "2025-02-18T00:45:24.444Z"
   },
   {
    "duration": 5,
    "start_time": "2025-02-18T00:45:24.457Z"
   },
   {
    "duration": 4,
    "start_time": "2025-02-18T00:45:24.464Z"
   },
   {
    "duration": 10,
    "start_time": "2025-02-18T00:45:24.470Z"
   },
   {
    "duration": 5,
    "start_time": "2025-02-18T00:45:24.481Z"
   },
   {
    "duration": 44,
    "start_time": "2025-02-18T00:45:24.487Z"
   },
   {
    "duration": 17,
    "start_time": "2025-02-18T00:45:24.533Z"
   },
   {
    "duration": 27,
    "start_time": "2025-02-18T00:45:24.553Z"
   },
   {
    "duration": 27,
    "start_time": "2025-02-18T00:45:24.582Z"
   },
   {
    "duration": 9,
    "start_time": "2025-02-18T00:45:24.632Z"
   },
   {
    "duration": 11,
    "start_time": "2025-02-18T00:45:24.643Z"
   },
   {
    "duration": 18,
    "start_time": "2025-02-18T00:45:24.656Z"
   },
   {
    "duration": 12,
    "start_time": "2025-02-18T00:45:24.676Z"
   },
   {
    "duration": 41,
    "start_time": "2025-02-18T00:45:24.689Z"
   },
   {
    "duration": 14,
    "start_time": "2025-02-18T00:45:24.733Z"
   },
   {
    "duration": 20,
    "start_time": "2025-02-18T00:45:24.748Z"
   },
   {
    "duration": 33,
    "start_time": "2025-02-18T00:45:24.770Z"
   },
   {
    "duration": 32,
    "start_time": "2025-02-18T00:45:24.805Z"
   },
   {
    "duration": 9,
    "start_time": "2025-02-18T00:45:24.839Z"
   },
   {
    "duration": 3,
    "start_time": "2025-02-18T00:45:24.853Z"
   },
   {
    "duration": 9,
    "start_time": "2025-02-18T00:45:24.858Z"
   },
   {
    "duration": 9,
    "start_time": "2025-02-18T00:45:24.869Z"
   },
   {
    "duration": 6,
    "start_time": "2025-02-18T00:45:24.880Z"
   },
   {
    "duration": 7,
    "start_time": "2025-02-18T00:45:24.887Z"
   },
   {
    "duration": 7,
    "start_time": "2025-02-18T00:45:24.932Z"
   },
   {
    "duration": 9,
    "start_time": "2025-02-18T00:45:24.940Z"
   },
   {
    "duration": 8,
    "start_time": "2025-02-18T00:45:24.951Z"
   },
   {
    "duration": 6,
    "start_time": "2025-02-18T00:45:24.961Z"
   },
   {
    "duration": 16,
    "start_time": "2025-02-18T00:45:24.968Z"
   },
   {
    "duration": 8,
    "start_time": "2025-02-18T00:45:24.985Z"
   },
   {
    "duration": 45,
    "start_time": "2025-02-18T00:45:24.995Z"
   },
   {
    "duration": 10,
    "start_time": "2025-02-18T00:45:25.041Z"
   },
   {
    "duration": 6,
    "start_time": "2025-02-18T00:45:25.053Z"
   },
   {
    "duration": 11,
    "start_time": "2025-02-18T00:45:25.061Z"
   },
   {
    "duration": 6,
    "start_time": "2025-02-18T00:45:25.074Z"
   },
   {
    "duration": 8,
    "start_time": "2025-02-18T00:45:25.084Z"
   },
   {
    "duration": 38,
    "start_time": "2025-02-18T00:45:25.094Z"
   },
   {
    "duration": 3,
    "start_time": "2025-02-18T00:45:25.134Z"
   },
   {
    "duration": 21,
    "start_time": "2025-02-18T00:45:25.139Z"
   },
   {
    "duration": 20,
    "start_time": "2025-02-18T00:45:25.162Z"
   },
   {
    "duration": 13,
    "start_time": "2025-02-18T00:45:25.184Z"
   },
   {
    "duration": 15,
    "start_time": "2025-02-18T00:45:25.232Z"
   },
   {
    "duration": 16,
    "start_time": "2025-02-18T00:45:25.249Z"
   },
   {
    "duration": 11,
    "start_time": "2025-02-18T00:45:25.267Z"
   },
   {
    "duration": 76,
    "start_time": "2025-02-18T00:45:25.279Z"
   },
   {
    "duration": 43,
    "start_time": "2025-02-18T00:45:25.358Z"
   },
   {
    "duration": 388,
    "start_time": "2025-02-18T00:45:25.403Z"
   },
   {
    "duration": 566,
    "start_time": "2025-02-18T00:45:25.793Z"
   },
   {
    "duration": 0,
    "start_time": "2025-02-18T00:45:26.360Z"
   },
   {
    "duration": 0,
    "start_time": "2025-02-18T00:45:26.363Z"
   },
   {
    "duration": 0,
    "start_time": "2025-02-18T00:45:26.364Z"
   },
   {
    "duration": 0,
    "start_time": "2025-02-18T00:45:26.365Z"
   },
   {
    "duration": 0,
    "start_time": "2025-02-18T00:45:26.367Z"
   },
   {
    "duration": 35,
    "start_time": "2025-02-18T00:45:32.215Z"
   },
   {
    "duration": 17,
    "start_time": "2025-02-18T00:45:40.210Z"
   },
   {
    "duration": 16,
    "start_time": "2025-02-18T00:45:44.157Z"
   },
   {
    "duration": 23,
    "start_time": "2025-02-18T00:45:48.172Z"
   },
   {
    "duration": 327,
    "start_time": "2025-02-18T00:45:51.116Z"
   },
   {
    "duration": 162,
    "start_time": "2025-02-18T00:57:30.977Z"
   },
   {
    "duration": 11,
    "start_time": "2025-02-18T00:57:38.397Z"
   },
   {
    "duration": 13,
    "start_time": "2025-02-18T00:57:52.419Z"
   },
   {
    "duration": 12,
    "start_time": "2025-02-18T00:58:01.530Z"
   },
   {
    "duration": 12,
    "start_time": "2025-02-18T00:58:09.243Z"
   },
   {
    "duration": 541,
    "start_time": "2025-02-18T00:58:15.765Z"
   },
   {
    "duration": 15,
    "start_time": "2025-02-18T00:58:16.308Z"
   },
   {
    "duration": 99,
    "start_time": "2025-02-18T00:58:16.325Z"
   },
   {
    "duration": 45,
    "start_time": "2025-02-18T00:58:16.427Z"
   },
   {
    "duration": 82,
    "start_time": "2025-02-18T00:58:16.474Z"
   },
   {
    "duration": 9,
    "start_time": "2025-02-18T00:58:16.558Z"
   },
   {
    "duration": 9,
    "start_time": "2025-02-18T00:58:16.568Z"
   },
   {
    "duration": 9,
    "start_time": "2025-02-18T00:58:16.579Z"
   },
   {
    "duration": 10,
    "start_time": "2025-02-18T00:58:16.590Z"
   },
   {
    "duration": 30,
    "start_time": "2025-02-18T00:58:16.603Z"
   },
   {
    "duration": 4,
    "start_time": "2025-02-18T00:58:16.635Z"
   },
   {
    "duration": 10,
    "start_time": "2025-02-18T00:58:16.641Z"
   },
   {
    "duration": 5,
    "start_time": "2025-02-18T00:58:16.653Z"
   },
   {
    "duration": 5,
    "start_time": "2025-02-18T00:58:16.661Z"
   },
   {
    "duration": 17,
    "start_time": "2025-02-18T00:58:16.667Z"
   },
   {
    "duration": 60,
    "start_time": "2025-02-18T00:58:16.686Z"
   },
   {
    "duration": 26,
    "start_time": "2025-02-18T00:58:16.748Z"
   },
   {
    "duration": 9,
    "start_time": "2025-02-18T00:58:16.776Z"
   },
   {
    "duration": 12,
    "start_time": "2025-02-18T00:58:16.787Z"
   },
   {
    "duration": 41,
    "start_time": "2025-02-18T00:58:16.801Z"
   },
   {
    "duration": 12,
    "start_time": "2025-02-18T00:58:16.844Z"
   },
   {
    "duration": 9,
    "start_time": "2025-02-18T00:58:16.859Z"
   },
   {
    "duration": 15,
    "start_time": "2025-02-18T00:58:16.869Z"
   },
   {
    "duration": 49,
    "start_time": "2025-02-18T00:58:16.885Z"
   },
   {
    "duration": 29,
    "start_time": "2025-02-18T00:58:16.936Z"
   },
   {
    "duration": 9,
    "start_time": "2025-02-18T00:58:16.967Z"
   },
   {
    "duration": 8,
    "start_time": "2025-02-18T00:58:16.980Z"
   },
   {
    "duration": 3,
    "start_time": "2025-02-18T00:58:16.993Z"
   },
   {
    "duration": 37,
    "start_time": "2025-02-18T00:58:16.998Z"
   },
   {
    "duration": 9,
    "start_time": "2025-02-18T00:58:17.037Z"
   },
   {
    "duration": 7,
    "start_time": "2025-02-18T00:58:17.047Z"
   },
   {
    "duration": 6,
    "start_time": "2025-02-18T00:58:17.056Z"
   },
   {
    "duration": 6,
    "start_time": "2025-02-18T00:58:17.064Z"
   },
   {
    "duration": 9,
    "start_time": "2025-02-18T00:58:17.072Z"
   },
   {
    "duration": 9,
    "start_time": "2025-02-18T00:58:17.083Z"
   },
   {
    "duration": 7,
    "start_time": "2025-02-18T00:58:17.132Z"
   },
   {
    "duration": 12,
    "start_time": "2025-02-18T00:58:17.140Z"
   },
   {
    "duration": 7,
    "start_time": "2025-02-18T00:58:17.154Z"
   },
   {
    "duration": 10,
    "start_time": "2025-02-18T00:58:17.162Z"
   },
   {
    "duration": 10,
    "start_time": "2025-02-18T00:58:17.174Z"
   },
   {
    "duration": 5,
    "start_time": "2025-02-18T00:58:17.186Z"
   },
   {
    "duration": 47,
    "start_time": "2025-02-18T00:58:17.193Z"
   },
   {
    "duration": 8,
    "start_time": "2025-02-18T00:58:17.243Z"
   },
   {
    "duration": 11,
    "start_time": "2025-02-18T00:58:17.253Z"
   },
   {
    "duration": 3,
    "start_time": "2025-02-18T00:58:17.267Z"
   },
   {
    "duration": 3,
    "start_time": "2025-02-18T00:58:17.272Z"
   },
   {
    "duration": 24,
    "start_time": "2025-02-18T00:58:17.277Z"
   },
   {
    "duration": 21,
    "start_time": "2025-02-18T00:58:17.332Z"
   },
   {
    "duration": 14,
    "start_time": "2025-02-18T00:58:17.354Z"
   },
   {
    "duration": 16,
    "start_time": "2025-02-18T00:58:17.370Z"
   },
   {
    "duration": 45,
    "start_time": "2025-02-18T00:58:17.388Z"
   },
   {
    "duration": 11,
    "start_time": "2025-02-18T00:58:17.435Z"
   },
   {
    "duration": 41,
    "start_time": "2025-02-18T00:58:17.448Z"
   },
   {
    "duration": 53,
    "start_time": "2025-02-18T00:58:17.492Z"
   },
   {
    "duration": 351,
    "start_time": "2025-02-18T00:58:17.547Z"
   },
   {
    "duration": 433,
    "start_time": "2025-02-18T00:58:17.900Z"
   },
   {
    "duration": 0,
    "start_time": "2025-02-18T00:58:18.336Z"
   },
   {
    "duration": 0,
    "start_time": "2025-02-18T00:58:18.337Z"
   },
   {
    "duration": 0,
    "start_time": "2025-02-18T00:58:18.338Z"
   },
   {
    "duration": 0,
    "start_time": "2025-02-18T00:58:18.340Z"
   },
   {
    "duration": 0,
    "start_time": "2025-02-18T00:58:18.341Z"
   },
   {
    "duration": 40,
    "start_time": "2025-02-18T00:58:29.195Z"
   },
   {
    "duration": 335,
    "start_time": "2025-02-18T00:58:33.181Z"
   },
   {
    "duration": 82,
    "start_time": "2025-02-18T00:58:36.648Z"
   },
   {
    "duration": 56,
    "start_time": "2025-02-18T00:58:46.909Z"
   },
   {
    "duration": 350,
    "start_time": "2025-02-18T00:58:49.902Z"
   },
   {
    "duration": 101,
    "start_time": "2025-02-18T00:58:55.061Z"
   },
   {
    "duration": 64,
    "start_time": "2025-02-18T00:58:59.492Z"
   },
   {
    "duration": 225,
    "start_time": "2025-02-18T00:59:02.912Z"
   },
   {
    "duration": 22,
    "start_time": "2025-02-18T00:59:07.492Z"
   },
   {
    "duration": 54,
    "start_time": "2025-02-18T01:01:50.030Z"
   },
   {
    "duration": 24,
    "start_time": "2025-02-18T01:01:54.256Z"
   },
   {
    "duration": 424,
    "start_time": "2025-02-18T01:01:57.709Z"
   },
   {
    "duration": 36,
    "start_time": "2025-02-18T01:02:02.974Z"
   },
   {
    "duration": 119,
    "start_time": "2025-02-18T01:02:12.134Z"
   },
   {
    "duration": 25,
    "start_time": "2025-02-18T01:05:28.909Z"
   },
   {
    "duration": 6,
    "start_time": "2025-02-18T01:05:49.827Z"
   },
   {
    "duration": 6,
    "start_time": "2025-02-18T01:06:25.924Z"
   },
   {
    "duration": 6,
    "start_time": "2025-02-18T01:06:50.995Z"
   },
   {
    "duration": 7,
    "start_time": "2025-02-18T01:07:04.805Z"
   },
   {
    "duration": 12,
    "start_time": "2025-02-18T01:07:17.793Z"
   },
   {
    "duration": 17,
    "start_time": "2025-02-18T01:07:28.955Z"
   },
   {
    "duration": 10,
    "start_time": "2025-02-18T01:07:32.545Z"
   },
   {
    "duration": 9,
    "start_time": "2025-02-18T01:07:42.959Z"
   },
   {
    "duration": 22,
    "start_time": "2025-02-18T01:09:19.246Z"
   },
   {
    "duration": 108,
    "start_time": "2025-02-18T01:09:35.763Z"
   },
   {
    "duration": 99,
    "start_time": "2025-02-18T01:10:03.357Z"
   },
   {
    "duration": 98,
    "start_time": "2025-02-18T01:10:29.145Z"
   },
   {
    "duration": 165,
    "start_time": "2025-02-18T01:11:48.268Z"
   },
   {
    "duration": 12,
    "start_time": "2025-02-18T01:12:08.444Z"
   },
   {
    "duration": 12,
    "start_time": "2025-02-18T01:12:14.133Z"
   },
   {
    "duration": 13,
    "start_time": "2025-02-18T01:12:24.145Z"
   },
   {
    "duration": 12,
    "start_time": "2025-02-18T01:12:32.953Z"
   },
   {
    "duration": 12,
    "start_time": "2025-02-18T01:12:35.979Z"
   },
   {
    "duration": 12,
    "start_time": "2025-02-18T01:21:04.548Z"
   },
   {
    "duration": 32,
    "start_time": "2025-02-18T01:21:38.811Z"
   },
   {
    "duration": 12,
    "start_time": "2025-02-18T01:21:43.530Z"
   },
   {
    "duration": 11,
    "start_time": "2025-02-18T01:21:54.660Z"
   },
   {
    "duration": 489,
    "start_time": "2025-02-18T01:21:59.462Z"
   },
   {
    "duration": 13,
    "start_time": "2025-02-18T01:22:01.709Z"
   },
   {
    "duration": 92,
    "start_time": "2025-02-18T01:22:04.982Z"
   },
   {
    "duration": 55,
    "start_time": "2025-02-18T01:22:07.624Z"
   },
   {
    "duration": 83,
    "start_time": "2025-02-18T01:22:10.533Z"
   },
   {
    "duration": 9,
    "start_time": "2025-02-18T01:22:14.026Z"
   },
   {
    "duration": 9,
    "start_time": "2025-02-18T01:22:19.339Z"
   },
   {
    "duration": 10,
    "start_time": "2025-02-18T01:22:23.458Z"
   },
   {
    "duration": 9,
    "start_time": "2025-02-18T01:22:26.666Z"
   },
   {
    "duration": 4,
    "start_time": "2025-02-18T01:22:29.665Z"
   },
   {
    "duration": 4,
    "start_time": "2025-02-18T01:22:32.721Z"
   },
   {
    "duration": 10,
    "start_time": "2025-02-18T01:22:37.120Z"
   },
   {
    "duration": 5,
    "start_time": "2025-02-18T01:22:43.845Z"
   },
   {
    "duration": 39,
    "start_time": "2025-02-18T01:22:57.046Z"
   },
   {
    "duration": 422,
    "start_time": "2025-02-18T01:23:00.313Z"
   },
   {
    "duration": 37,
    "start_time": "2025-02-18T01:23:04.840Z"
   },
   {
    "duration": 14,
    "start_time": "2025-02-18T01:23:14.851Z"
   },
   {
    "duration": 11,
    "start_time": "2025-02-18T01:23:20.345Z"
   },
   {
    "duration": 13,
    "start_time": "2025-02-18T01:23:46.326Z"
   },
   {
    "duration": 14,
    "start_time": "2025-02-18T01:23:58.279Z"
   },
   {
    "duration": 162,
    "start_time": "2025-02-18T01:24:36.961Z"
   },
   {
    "duration": 12,
    "start_time": "2025-02-18T01:24:43.095Z"
   },
   {
    "duration": 534,
    "start_time": "2025-02-18T01:24:57.774Z"
   },
   {
    "duration": 20,
    "start_time": "2025-02-18T01:24:58.311Z"
   },
   {
    "duration": 100,
    "start_time": "2025-02-18T01:24:58.334Z"
   },
   {
    "duration": 45,
    "start_time": "2025-02-18T01:24:58.437Z"
   },
   {
    "duration": 82,
    "start_time": "2025-02-18T01:24:58.484Z"
   },
   {
    "duration": 9,
    "start_time": "2025-02-18T01:24:58.567Z"
   },
   {
    "duration": 9,
    "start_time": "2025-02-18T01:24:58.578Z"
   },
   {
    "duration": 9,
    "start_time": "2025-02-18T01:24:58.589Z"
   },
   {
    "duration": 9,
    "start_time": "2025-02-18T01:24:58.600Z"
   },
   {
    "duration": 4,
    "start_time": "2025-02-18T01:24:58.633Z"
   },
   {
    "duration": 4,
    "start_time": "2025-02-18T01:24:58.639Z"
   },
   {
    "duration": 11,
    "start_time": "2025-02-18T01:24:58.644Z"
   },
   {
    "duration": 5,
    "start_time": "2025-02-18T01:24:58.656Z"
   },
   {
    "duration": 5,
    "start_time": "2025-02-18T01:24:58.663Z"
   },
   {
    "duration": 17,
    "start_time": "2025-02-18T01:24:58.669Z"
   },
   {
    "duration": 63,
    "start_time": "2025-02-18T01:24:58.688Z"
   },
   {
    "duration": 26,
    "start_time": "2025-02-18T01:24:58.753Z"
   },
   {
    "duration": 9,
    "start_time": "2025-02-18T01:24:58.780Z"
   },
   {
    "duration": 12,
    "start_time": "2025-02-18T01:24:58.790Z"
   },
   {
    "duration": 40,
    "start_time": "2025-02-18T01:24:58.804Z"
   },
   {
    "duration": 11,
    "start_time": "2025-02-18T01:24:58.846Z"
   },
   {
    "duration": 8,
    "start_time": "2025-02-18T01:24:58.860Z"
   },
   {
    "duration": 15,
    "start_time": "2025-02-18T01:24:58.870Z"
   },
   {
    "duration": 48,
    "start_time": "2025-02-18T01:24:58.886Z"
   },
   {
    "duration": 37,
    "start_time": "2025-02-18T01:24:58.938Z"
   },
   {
    "duration": 10,
    "start_time": "2025-02-18T01:24:58.977Z"
   },
   {
    "duration": 10,
    "start_time": "2025-02-18T01:24:58.989Z"
   },
   {
    "duration": 4,
    "start_time": "2025-02-18T01:24:59.004Z"
   },
   {
    "duration": 9,
    "start_time": "2025-02-18T01:24:59.032Z"
   },
   {
    "duration": 9,
    "start_time": "2025-02-18T01:24:59.042Z"
   },
   {
    "duration": 6,
    "start_time": "2025-02-18T01:24:59.052Z"
   },
   {
    "duration": 8,
    "start_time": "2025-02-18T01:24:59.059Z"
   },
   {
    "duration": 6,
    "start_time": "2025-02-18T01:24:59.068Z"
   },
   {
    "duration": 10,
    "start_time": "2025-02-18T01:24:59.075Z"
   },
   {
    "duration": 48,
    "start_time": "2025-02-18T01:24:59.086Z"
   },
   {
    "duration": 6,
    "start_time": "2025-02-18T01:24:59.136Z"
   },
   {
    "duration": 12,
    "start_time": "2025-02-18T01:24:59.144Z"
   },
   {
    "duration": 9,
    "start_time": "2025-02-18T01:24:59.159Z"
   },
   {
    "duration": 11,
    "start_time": "2025-02-18T01:24:59.169Z"
   },
   {
    "duration": 9,
    "start_time": "2025-02-18T01:24:59.182Z"
   },
   {
    "duration": 38,
    "start_time": "2025-02-18T01:24:59.193Z"
   },
   {
    "duration": 12,
    "start_time": "2025-02-18T01:24:59.233Z"
   },
   {
    "duration": 6,
    "start_time": "2025-02-18T01:24:59.247Z"
   },
   {
    "duration": 9,
    "start_time": "2025-02-18T01:24:59.255Z"
   },
   {
    "duration": 3,
    "start_time": "2025-02-18T01:24:59.266Z"
   },
   {
    "duration": 3,
    "start_time": "2025-02-18T01:24:59.270Z"
   },
   {
    "duration": 20,
    "start_time": "2025-02-18T01:24:59.275Z"
   },
   {
    "duration": 53,
    "start_time": "2025-02-18T01:24:59.296Z"
   },
   {
    "duration": 13,
    "start_time": "2025-02-18T01:24:59.351Z"
   },
   {
    "duration": 17,
    "start_time": "2025-02-18T01:24:59.366Z"
   },
   {
    "duration": 16,
    "start_time": "2025-02-18T01:24:59.384Z"
   },
   {
    "duration": 40,
    "start_time": "2025-02-18T01:24:59.401Z"
   },
   {
    "duration": 42,
    "start_time": "2025-02-18T01:24:59.443Z"
   },
   {
    "duration": 58,
    "start_time": "2025-02-18T01:24:59.487Z"
   },
   {
    "duration": 324,
    "start_time": "2025-02-18T01:24:59.547Z"
   },
   {
    "duration": 434,
    "start_time": "2025-02-18T01:24:59.873Z"
   },
   {
    "duration": 0,
    "start_time": "2025-02-18T01:25:00.309Z"
   },
   {
    "duration": 0,
    "start_time": "2025-02-18T01:25:00.310Z"
   },
   {
    "duration": 0,
    "start_time": "2025-02-18T01:25:00.312Z"
   },
   {
    "duration": 0,
    "start_time": "2025-02-18T01:25:00.313Z"
   },
   {
    "duration": 0,
    "start_time": "2025-02-18T01:25:00.314Z"
   },
   {
    "duration": 0,
    "start_time": "2025-02-18T01:25:00.330Z"
   },
   {
    "duration": 0,
    "start_time": "2025-02-18T01:25:00.332Z"
   },
   {
    "duration": 0,
    "start_time": "2025-02-18T01:25:00.333Z"
   },
   {
    "duration": 159,
    "start_time": "2025-02-18T01:25:56.963Z"
   },
   {
    "duration": 12,
    "start_time": "2025-02-18T01:26:01.492Z"
   },
   {
    "duration": 12,
    "start_time": "2025-02-18T01:26:04.111Z"
   },
   {
    "duration": 12,
    "start_time": "2025-02-18T01:26:09.396Z"
   },
   {
    "duration": 562,
    "start_time": "2025-02-18T01:26:21.964Z"
   },
   {
    "duration": 17,
    "start_time": "2025-02-18T01:26:22.528Z"
   },
   {
    "duration": 105,
    "start_time": "2025-02-18T01:26:22.547Z"
   },
   {
    "duration": 54,
    "start_time": "2025-02-18T01:26:22.656Z"
   },
   {
    "duration": 86,
    "start_time": "2025-02-18T01:26:22.713Z"
   },
   {
    "duration": 11,
    "start_time": "2025-02-18T01:26:22.801Z"
   },
   {
    "duration": 9,
    "start_time": "2025-02-18T01:26:22.813Z"
   },
   {
    "duration": 10,
    "start_time": "2025-02-18T01:26:22.824Z"
   },
   {
    "duration": 10,
    "start_time": "2025-02-18T01:26:22.835Z"
   },
   {
    "duration": 4,
    "start_time": "2025-02-18T01:26:22.850Z"
   },
   {
    "duration": 4,
    "start_time": "2025-02-18T01:26:22.856Z"
   },
   {
    "duration": 11,
    "start_time": "2025-02-18T01:26:22.861Z"
   },
   {
    "duration": 9,
    "start_time": "2025-02-18T01:26:22.873Z"
   },
   {
    "duration": 5,
    "start_time": "2025-02-18T01:26:22.884Z"
   },
   {
    "duration": 17,
    "start_time": "2025-02-18T01:26:22.930Z"
   },
   {
    "duration": 40,
    "start_time": "2025-02-18T01:26:22.949Z"
   },
   {
    "duration": 47,
    "start_time": "2025-02-18T01:26:22.992Z"
   },
   {
    "duration": 9,
    "start_time": "2025-02-18T01:26:23.041Z"
   },
   {
    "duration": 17,
    "start_time": "2025-02-18T01:26:23.052Z"
   },
   {
    "duration": 18,
    "start_time": "2025-02-18T01:26:23.070Z"
   },
   {
    "duration": 11,
    "start_time": "2025-02-18T01:26:23.090Z"
   },
   {
    "duration": 9,
    "start_time": "2025-02-18T01:26:23.131Z"
   },
   {
    "duration": 14,
    "start_time": "2025-02-18T01:26:23.142Z"
   },
   {
    "duration": 26,
    "start_time": "2025-02-18T01:26:23.158Z"
   },
   {
    "duration": 53,
    "start_time": "2025-02-18T01:26:23.186Z"
   },
   {
    "duration": 11,
    "start_time": "2025-02-18T01:26:23.241Z"
   },
   {
    "duration": 9,
    "start_time": "2025-02-18T01:26:23.254Z"
   },
   {
    "duration": 4,
    "start_time": "2025-02-18T01:26:23.268Z"
   },
   {
    "duration": 9,
    "start_time": "2025-02-18T01:26:23.273Z"
   },
   {
    "duration": 8,
    "start_time": "2025-02-18T01:26:23.284Z"
   },
   {
    "duration": 5,
    "start_time": "2025-02-18T01:26:23.294Z"
   },
   {
    "duration": 37,
    "start_time": "2025-02-18T01:26:23.301Z"
   },
   {
    "duration": 5,
    "start_time": "2025-02-18T01:26:23.340Z"
   },
   {
    "duration": 8,
    "start_time": "2025-02-18T01:26:23.347Z"
   },
   {
    "duration": 8,
    "start_time": "2025-02-18T01:26:23.357Z"
   },
   {
    "duration": 6,
    "start_time": "2025-02-18T01:26:23.367Z"
   },
   {
    "duration": 12,
    "start_time": "2025-02-18T01:26:23.374Z"
   },
   {
    "duration": 48,
    "start_time": "2025-02-18T01:26:23.388Z"
   },
   {
    "duration": 9,
    "start_time": "2025-02-18T01:26:23.438Z"
   },
   {
    "duration": 10,
    "start_time": "2025-02-18T01:26:23.449Z"
   },
   {
    "duration": 6,
    "start_time": "2025-02-18T01:26:23.461Z"
   },
   {
    "duration": 11,
    "start_time": "2025-02-18T01:26:23.468Z"
   },
   {
    "duration": 7,
    "start_time": "2025-02-18T01:26:23.481Z"
   },
   {
    "duration": 45,
    "start_time": "2025-02-18T01:26:23.489Z"
   },
   {
    "duration": 3,
    "start_time": "2025-02-18T01:26:23.536Z"
   },
   {
    "duration": 3,
    "start_time": "2025-02-18T01:26:23.540Z"
   },
   {
    "duration": 20,
    "start_time": "2025-02-18T01:26:23.546Z"
   },
   {
    "duration": 20,
    "start_time": "2025-02-18T01:26:23.568Z"
   },
   {
    "duration": 41,
    "start_time": "2025-02-18T01:26:23.590Z"
   },
   {
    "duration": 19,
    "start_time": "2025-02-18T01:26:23.632Z"
   },
   {
    "duration": 15,
    "start_time": "2025-02-18T01:26:23.653Z"
   },
   {
    "duration": 11,
    "start_time": "2025-02-18T01:26:23.670Z"
   },
   {
    "duration": 71,
    "start_time": "2025-02-18T01:26:23.683Z"
   },
   {
    "duration": 37,
    "start_time": "2025-02-18T01:26:23.756Z"
   },
   {
    "duration": 346,
    "start_time": "2025-02-18T01:26:23.795Z"
   },
   {
    "duration": 423,
    "start_time": "2025-02-18T01:26:24.143Z"
   },
   {
    "duration": 0,
    "start_time": "2025-02-18T01:26:24.568Z"
   },
   {
    "duration": 0,
    "start_time": "2025-02-18T01:26:24.569Z"
   },
   {
    "duration": 0,
    "start_time": "2025-02-18T01:26:24.570Z"
   },
   {
    "duration": 0,
    "start_time": "2025-02-18T01:26:24.572Z"
   },
   {
    "duration": 0,
    "start_time": "2025-02-18T01:26:24.573Z"
   },
   {
    "duration": 0,
    "start_time": "2025-02-18T01:26:24.574Z"
   },
   {
    "duration": 0,
    "start_time": "2025-02-18T01:26:24.576Z"
   },
   {
    "duration": 165,
    "start_time": "2025-02-18T01:26:36.333Z"
   },
   {
    "duration": 14,
    "start_time": "2025-02-18T01:26:37.710Z"
   },
   {
    "duration": 512,
    "start_time": "2025-02-18T01:27:22.300Z"
   },
   {
    "duration": 16,
    "start_time": "2025-02-18T01:27:22.815Z"
   },
   {
    "duration": 92,
    "start_time": "2025-02-18T01:27:22.834Z"
   },
   {
    "duration": 45,
    "start_time": "2025-02-18T01:27:22.928Z"
   },
   {
    "duration": 84,
    "start_time": "2025-02-18T01:27:22.975Z"
   },
   {
    "duration": 9,
    "start_time": "2025-02-18T01:27:23.060Z"
   },
   {
    "duration": 9,
    "start_time": "2025-02-18T01:27:23.070Z"
   },
   {
    "duration": 10,
    "start_time": "2025-02-18T01:27:23.081Z"
   },
   {
    "duration": 9,
    "start_time": "2025-02-18T01:27:23.092Z"
   },
   {
    "duration": 4,
    "start_time": "2025-02-18T01:27:23.105Z"
   },
   {
    "duration": 26,
    "start_time": "2025-02-18T01:27:23.110Z"
   },
   {
    "duration": 12,
    "start_time": "2025-02-18T01:27:23.138Z"
   },
   {
    "duration": 6,
    "start_time": "2025-02-18T01:27:23.151Z"
   },
   {
    "duration": 5,
    "start_time": "2025-02-18T01:27:23.159Z"
   },
   {
    "duration": 15,
    "start_time": "2025-02-18T01:27:23.165Z"
   },
   {
    "duration": 64,
    "start_time": "2025-02-18T01:27:23.182Z"
   },
   {
    "duration": 26,
    "start_time": "2025-02-18T01:27:23.248Z"
   },
   {
    "duration": 8,
    "start_time": "2025-02-18T01:27:23.277Z"
   },
   {
    "duration": 13,
    "start_time": "2025-02-18T01:27:23.286Z"
   },
   {
    "duration": 39,
    "start_time": "2025-02-18T01:27:23.300Z"
   },
   {
    "duration": 12,
    "start_time": "2025-02-18T01:27:23.341Z"
   },
   {
    "duration": 9,
    "start_time": "2025-02-18T01:27:23.355Z"
   },
   {
    "duration": 14,
    "start_time": "2025-02-18T01:27:23.366Z"
   },
   {
    "duration": 50,
    "start_time": "2025-02-18T01:27:23.381Z"
   },
   {
    "duration": 36,
    "start_time": "2025-02-18T01:27:23.433Z"
   },
   {
    "duration": 9,
    "start_time": "2025-02-18T01:27:23.471Z"
   },
   {
    "duration": 10,
    "start_time": "2025-02-18T01:27:23.481Z"
   },
   {
    "duration": 4,
    "start_time": "2025-02-18T01:27:23.496Z"
   },
   {
    "duration": 35,
    "start_time": "2025-02-18T01:27:23.502Z"
   },
   {
    "duration": 9,
    "start_time": "2025-02-18T01:27:23.539Z"
   },
   {
    "duration": 6,
    "start_time": "2025-02-18T01:27:23.550Z"
   },
   {
    "duration": 7,
    "start_time": "2025-02-18T01:27:23.559Z"
   },
   {
    "duration": 5,
    "start_time": "2025-02-18T01:27:23.568Z"
   },
   {
    "duration": 10,
    "start_time": "2025-02-18T01:27:23.575Z"
   },
   {
    "duration": 48,
    "start_time": "2025-02-18T01:27:23.587Z"
   },
   {
    "duration": 7,
    "start_time": "2025-02-18T01:27:23.637Z"
   },
   {
    "duration": 12,
    "start_time": "2025-02-18T01:27:23.646Z"
   },
   {
    "duration": 7,
    "start_time": "2025-02-18T01:27:23.660Z"
   },
   {
    "duration": 10,
    "start_time": "2025-02-18T01:27:23.670Z"
   },
   {
    "duration": 12,
    "start_time": "2025-02-18T01:27:23.681Z"
   },
   {
    "duration": 39,
    "start_time": "2025-02-18T01:27:23.695Z"
   },
   {
    "duration": 11,
    "start_time": "2025-02-18T01:27:23.736Z"
   },
   {
    "duration": 7,
    "start_time": "2025-02-18T01:27:23.749Z"
   },
   {
    "duration": 10,
    "start_time": "2025-02-18T01:27:23.757Z"
   },
   {
    "duration": 3,
    "start_time": "2025-02-18T01:27:23.769Z"
   },
   {
    "duration": 4,
    "start_time": "2025-02-18T01:27:23.774Z"
   },
   {
    "duration": 62,
    "start_time": "2025-02-18T01:27:23.780Z"
   },
   {
    "duration": 21,
    "start_time": "2025-02-18T01:27:23.844Z"
   },
   {
    "duration": 14,
    "start_time": "2025-02-18T01:27:23.867Z"
   },
   {
    "duration": 16,
    "start_time": "2025-02-18T01:27:23.882Z"
   },
   {
    "duration": 45,
    "start_time": "2025-02-18T01:27:23.900Z"
   },
   {
    "duration": 11,
    "start_time": "2025-02-18T01:27:23.947Z"
   },
   {
    "duration": 46,
    "start_time": "2025-02-18T01:27:23.959Z"
   },
   {
    "duration": 55,
    "start_time": "2025-02-18T01:27:24.006Z"
   },
   {
    "duration": 363,
    "start_time": "2025-02-18T01:27:24.063Z"
   },
   {
    "duration": 415,
    "start_time": "2025-02-18T01:27:24.428Z"
   },
   {
    "duration": 0,
    "start_time": "2025-02-18T01:27:24.845Z"
   },
   {
    "duration": 0,
    "start_time": "2025-02-18T01:27:24.846Z"
   },
   {
    "duration": 0,
    "start_time": "2025-02-18T01:27:24.848Z"
   },
   {
    "duration": 0,
    "start_time": "2025-02-18T01:27:24.849Z"
   },
   {
    "duration": 0,
    "start_time": "2025-02-18T01:27:24.850Z"
   },
   {
    "duration": 0,
    "start_time": "2025-02-18T01:27:24.851Z"
   },
   {
    "duration": 0,
    "start_time": "2025-02-18T01:27:24.853Z"
   },
   {
    "duration": 0,
    "start_time": "2025-02-18T01:27:24.854Z"
   },
   {
    "duration": 0,
    "start_time": "2025-02-18T01:27:24.856Z"
   },
   {
    "duration": 0,
    "start_time": "2025-02-18T01:27:24.857Z"
   },
   {
    "duration": 0,
    "start_time": "2025-02-18T01:27:24.858Z"
   },
   {
    "duration": 0,
    "start_time": "2025-02-18T01:27:24.859Z"
   },
   {
    "duration": 0,
    "start_time": "2025-02-18T01:27:24.860Z"
   },
   {
    "duration": 0,
    "start_time": "2025-02-18T01:27:24.862Z"
   },
   {
    "duration": 0,
    "start_time": "2025-02-18T01:27:24.863Z"
   },
   {
    "duration": 0,
    "start_time": "2025-02-18T01:27:24.864Z"
   },
   {
    "duration": 0,
    "start_time": "2025-02-18T01:27:24.865Z"
   },
   {
    "duration": 161,
    "start_time": "2025-02-18T01:27:36.282Z"
   },
   {
    "duration": 14,
    "start_time": "2025-02-18T01:27:36.756Z"
   },
   {
    "duration": 502,
    "start_time": "2025-02-18T01:28:55.202Z"
   },
   {
    "duration": 13,
    "start_time": "2025-02-18T01:28:55.706Z"
   },
   {
    "duration": 96,
    "start_time": "2025-02-18T01:28:55.730Z"
   },
   {
    "duration": 45,
    "start_time": "2025-02-18T01:28:55.829Z"
   },
   {
    "duration": 80,
    "start_time": "2025-02-18T01:28:55.876Z"
   },
   {
    "duration": 8,
    "start_time": "2025-02-18T01:28:55.958Z"
   },
   {
    "duration": 9,
    "start_time": "2025-02-18T01:28:55.968Z"
   },
   {
    "duration": 10,
    "start_time": "2025-02-18T01:28:55.979Z"
   },
   {
    "duration": 9,
    "start_time": "2025-02-18T01:28:55.990Z"
   },
   {
    "duration": 4,
    "start_time": "2025-02-18T01:28:56.003Z"
   },
   {
    "duration": 4,
    "start_time": "2025-02-18T01:28:56.032Z"
   },
   {
    "duration": 10,
    "start_time": "2025-02-18T01:28:56.038Z"
   },
   {
    "duration": 4,
    "start_time": "2025-02-18T01:28:56.049Z"
   },
   {
    "duration": 7,
    "start_time": "2025-02-18T01:28:56.055Z"
   },
   {
    "duration": 20,
    "start_time": "2025-02-18T01:28:56.063Z"
   },
   {
    "duration": 62,
    "start_time": "2025-02-18T01:28:56.085Z"
   },
   {
    "duration": 27,
    "start_time": "2025-02-18T01:28:56.149Z"
   },
   {
    "duration": 9,
    "start_time": "2025-02-18T01:28:56.178Z"
   },
   {
    "duration": 11,
    "start_time": "2025-02-18T01:28:56.189Z"
   },
   {
    "duration": 38,
    "start_time": "2025-02-18T01:28:56.202Z"
   },
   {
    "duration": 12,
    "start_time": "2025-02-18T01:28:56.243Z"
   },
   {
    "duration": 8,
    "start_time": "2025-02-18T01:28:56.257Z"
   },
   {
    "duration": 13,
    "start_time": "2025-02-18T01:28:56.267Z"
   },
   {
    "duration": 49,
    "start_time": "2025-02-18T01:28:56.282Z"
   },
   {
    "duration": 31,
    "start_time": "2025-02-18T01:28:56.333Z"
   },
   {
    "duration": 9,
    "start_time": "2025-02-18T01:28:56.366Z"
   },
   {
    "duration": 9,
    "start_time": "2025-02-18T01:28:56.377Z"
   },
   {
    "duration": 3,
    "start_time": "2025-02-18T01:28:56.391Z"
   },
   {
    "duration": 37,
    "start_time": "2025-02-18T01:28:56.396Z"
   },
   {
    "duration": 9,
    "start_time": "2025-02-18T01:28:56.434Z"
   },
   {
    "duration": 5,
    "start_time": "2025-02-18T01:28:56.445Z"
   },
   {
    "duration": 9,
    "start_time": "2025-02-18T01:28:56.452Z"
   },
   {
    "duration": 6,
    "start_time": "2025-02-18T01:28:56.462Z"
   },
   {
    "duration": 9,
    "start_time": "2025-02-18T01:28:56.469Z"
   },
   {
    "duration": 9,
    "start_time": "2025-02-18T01:28:56.480Z"
   },
   {
    "duration": 44,
    "start_time": "2025-02-18T01:28:56.491Z"
   },
   {
    "duration": 13,
    "start_time": "2025-02-18T01:28:56.537Z"
   },
   {
    "duration": 7,
    "start_time": "2025-02-18T01:28:56.552Z"
   },
   {
    "duration": 10,
    "start_time": "2025-02-18T01:28:56.561Z"
   },
   {
    "duration": 12,
    "start_time": "2025-02-18T01:28:56.572Z"
   },
   {
    "duration": 6,
    "start_time": "2025-02-18T01:28:56.586Z"
   },
   {
    "duration": 47,
    "start_time": "2025-02-18T01:28:56.594Z"
   },
   {
    "duration": 7,
    "start_time": "2025-02-18T01:28:56.643Z"
   },
   {
    "duration": 9,
    "start_time": "2025-02-18T01:28:56.652Z"
   },
   {
    "duration": 3,
    "start_time": "2025-02-18T01:28:56.663Z"
   },
   {
    "duration": 3,
    "start_time": "2025-02-18T01:28:56.667Z"
   },
   {
    "duration": 20,
    "start_time": "2025-02-18T01:28:56.672Z"
   },
   {
    "duration": 20,
    "start_time": "2025-02-18T01:28:56.732Z"
   },
   {
    "duration": 14,
    "start_time": "2025-02-18T01:28:56.755Z"
   },
   {
    "duration": 17,
    "start_time": "2025-02-18T01:28:56.770Z"
   },
   {
    "duration": 16,
    "start_time": "2025-02-18T01:28:56.789Z"
   },
   {
    "duration": 12,
    "start_time": "2025-02-18T01:28:56.831Z"
   },
   {
    "duration": 42,
    "start_time": "2025-02-18T01:28:56.845Z"
   },
   {
    "duration": 59,
    "start_time": "2025-02-18T01:28:56.889Z"
   },
   {
    "duration": 338,
    "start_time": "2025-02-18T01:28:56.949Z"
   },
   {
    "duration": 435,
    "start_time": "2025-02-18T01:28:57.289Z"
   },
   {
    "duration": 0,
    "start_time": "2025-02-18T01:28:57.726Z"
   },
   {
    "duration": 0,
    "start_time": "2025-02-18T01:28:57.731Z"
   },
   {
    "duration": 0,
    "start_time": "2025-02-18T01:28:57.732Z"
   },
   {
    "duration": 0,
    "start_time": "2025-02-18T01:28:57.734Z"
   },
   {
    "duration": 0,
    "start_time": "2025-02-18T01:28:57.736Z"
   },
   {
    "duration": 0,
    "start_time": "2025-02-18T01:28:57.737Z"
   },
   {
    "duration": 0,
    "start_time": "2025-02-18T01:28:57.739Z"
   },
   {
    "duration": 487,
    "start_time": "2025-02-18T01:29:42.728Z"
   },
   {
    "duration": 57,
    "start_time": "2025-02-18T01:29:43.217Z"
   },
   {
    "duration": 101,
    "start_time": "2025-02-18T01:29:43.277Z"
   },
   {
    "duration": 46,
    "start_time": "2025-02-18T01:29:43.380Z"
   },
   {
    "duration": 81,
    "start_time": "2025-02-18T01:29:43.429Z"
   },
   {
    "duration": 8,
    "start_time": "2025-02-18T01:29:43.512Z"
   },
   {
    "duration": 8,
    "start_time": "2025-02-18T01:29:43.522Z"
   },
   {
    "duration": 9,
    "start_time": "2025-02-18T01:29:43.532Z"
   },
   {
    "duration": 9,
    "start_time": "2025-02-18T01:29:43.543Z"
   },
   {
    "duration": 5,
    "start_time": "2025-02-18T01:29:43.553Z"
   },
   {
    "duration": 4,
    "start_time": "2025-02-18T01:29:43.559Z"
   },
   {
    "duration": 10,
    "start_time": "2025-02-18T01:29:43.565Z"
   },
   {
    "duration": 5,
    "start_time": "2025-02-18T01:29:43.577Z"
   },
   {
    "duration": 45,
    "start_time": "2025-02-18T01:29:43.586Z"
   },
   {
    "duration": 17,
    "start_time": "2025-02-18T01:29:43.633Z"
   },
   {
    "duration": 25,
    "start_time": "2025-02-18T01:29:43.651Z"
   },
   {
    "duration": 26,
    "start_time": "2025-02-18T01:29:43.678Z"
   },
   {
    "duration": 32,
    "start_time": "2025-02-18T01:29:43.706Z"
   },
   {
    "duration": 12,
    "start_time": "2025-02-18T01:29:43.740Z"
   },
   {
    "duration": 16,
    "start_time": "2025-02-18T01:29:43.754Z"
   },
   {
    "duration": 13,
    "start_time": "2025-02-18T01:29:43.772Z"
   },
   {
    "duration": 9,
    "start_time": "2025-02-18T01:29:43.787Z"
   },
   {
    "duration": 43,
    "start_time": "2025-02-18T01:29:43.797Z"
   },
   {
    "duration": 23,
    "start_time": "2025-02-18T01:29:43.842Z"
   },
   {
    "duration": 31,
    "start_time": "2025-02-18T01:29:43.868Z"
   },
   {
    "duration": 31,
    "start_time": "2025-02-18T01:29:43.901Z"
   },
   {
    "duration": 8,
    "start_time": "2025-02-18T01:29:43.933Z"
   },
   {
    "duration": 5,
    "start_time": "2025-02-18T01:29:43.943Z"
   },
   {
    "duration": 9,
    "start_time": "2025-02-18T01:29:43.949Z"
   },
   {
    "duration": 9,
    "start_time": "2025-02-18T01:29:43.959Z"
   },
   {
    "duration": 5,
    "start_time": "2025-02-18T01:29:43.969Z"
   },
   {
    "duration": 8,
    "start_time": "2025-02-18T01:29:43.975Z"
   },
   {
    "duration": 5,
    "start_time": "2025-02-18T01:29:43.985Z"
   },
   {
    "duration": 9,
    "start_time": "2025-02-18T01:29:44.032Z"
   },
   {
    "duration": 10,
    "start_time": "2025-02-18T01:29:44.043Z"
   },
   {
    "duration": 7,
    "start_time": "2025-02-18T01:29:44.055Z"
   },
   {
    "duration": 13,
    "start_time": "2025-02-18T01:29:44.064Z"
   },
   {
    "duration": 8,
    "start_time": "2025-02-18T01:29:44.079Z"
   },
   {
    "duration": 43,
    "start_time": "2025-02-18T01:29:44.088Z"
   },
   {
    "duration": 11,
    "start_time": "2025-02-18T01:29:44.133Z"
   },
   {
    "duration": 5,
    "start_time": "2025-02-18T01:29:44.149Z"
   },
   {
    "duration": 11,
    "start_time": "2025-02-18T01:29:44.156Z"
   },
   {
    "duration": 6,
    "start_time": "2025-02-18T01:29:44.169Z"
   },
   {
    "duration": 10,
    "start_time": "2025-02-18T01:29:44.177Z"
   },
   {
    "duration": 3,
    "start_time": "2025-02-18T01:29:44.189Z"
   },
   {
    "duration": 40,
    "start_time": "2025-02-18T01:29:44.194Z"
   },
   {
    "duration": 21,
    "start_time": "2025-02-18T01:29:44.236Z"
   },
   {
    "duration": 20,
    "start_time": "2025-02-18T01:29:44.259Z"
   },
   {
    "duration": 13,
    "start_time": "2025-02-18T01:29:44.281Z"
   },
   {
    "duration": 44,
    "start_time": "2025-02-18T01:29:44.296Z"
   },
   {
    "duration": 16,
    "start_time": "2025-02-18T01:29:44.342Z"
   },
   {
    "duration": 11,
    "start_time": "2025-02-18T01:29:44.360Z"
   },
   {
    "duration": 79,
    "start_time": "2025-02-18T01:29:44.372Z"
   },
   {
    "duration": 37,
    "start_time": "2025-02-18T01:29:44.453Z"
   },
   {
    "duration": 346,
    "start_time": "2025-02-18T01:29:44.492Z"
   },
   {
    "duration": 576,
    "start_time": "2025-02-18T01:29:44.840Z"
   },
   {
    "duration": 0,
    "start_time": "2025-02-18T01:29:45.419Z"
   },
   {
    "duration": 0,
    "start_time": "2025-02-18T01:29:45.430Z"
   },
   {
    "duration": 0,
    "start_time": "2025-02-18T01:29:45.432Z"
   },
   {
    "duration": 0,
    "start_time": "2025-02-18T01:29:45.434Z"
   },
   {
    "duration": 0,
    "start_time": "2025-02-18T01:29:45.435Z"
   },
   {
    "duration": 0,
    "start_time": "2025-02-18T01:29:45.436Z"
   },
   {
    "duration": 0,
    "start_time": "2025-02-18T01:29:45.438Z"
   },
   {
    "duration": 162,
    "start_time": "2025-02-18T01:30:01.070Z"
   },
   {
    "duration": 0,
    "start_time": "2025-02-18T01:30:01.234Z"
   },
   {
    "duration": 472,
    "start_time": "2025-02-18T01:32:23.908Z"
   },
   {
    "duration": 53,
    "start_time": "2025-02-18T01:32:24.382Z"
   },
   {
    "duration": 94,
    "start_time": "2025-02-18T01:32:24.436Z"
   },
   {
    "duration": 47,
    "start_time": "2025-02-18T01:32:24.533Z"
   },
   {
    "duration": 85,
    "start_time": "2025-02-18T01:32:24.582Z"
   },
   {
    "duration": 9,
    "start_time": "2025-02-18T01:32:24.669Z"
   },
   {
    "duration": 9,
    "start_time": "2025-02-18T01:32:24.679Z"
   },
   {
    "duration": 9,
    "start_time": "2025-02-18T01:32:24.690Z"
   },
   {
    "duration": 34,
    "start_time": "2025-02-18T01:32:24.701Z"
   },
   {
    "duration": 4,
    "start_time": "2025-02-18T01:32:24.740Z"
   },
   {
    "duration": 4,
    "start_time": "2025-02-18T01:32:24.747Z"
   },
   {
    "duration": 10,
    "start_time": "2025-02-18T01:32:24.752Z"
   },
   {
    "duration": 5,
    "start_time": "2025-02-18T01:32:24.764Z"
   },
   {
    "duration": 5,
    "start_time": "2025-02-18T01:32:24.771Z"
   },
   {
    "duration": 55,
    "start_time": "2025-02-18T01:32:24.778Z"
   },
   {
    "duration": 27,
    "start_time": "2025-02-18T01:32:24.835Z"
   },
   {
    "duration": 28,
    "start_time": "2025-02-18T01:32:24.864Z"
   },
   {
    "duration": 8,
    "start_time": "2025-02-18T01:32:24.894Z"
   },
   {
    "duration": 37,
    "start_time": "2025-02-18T01:32:24.904Z"
   },
   {
    "duration": 17,
    "start_time": "2025-02-18T01:32:24.943Z"
   },
   {
    "duration": 13,
    "start_time": "2025-02-18T01:32:24.962Z"
   },
   {
    "duration": 8,
    "start_time": "2025-02-18T01:32:24.977Z"
   },
   {
    "duration": 14,
    "start_time": "2025-02-18T01:32:24.986Z"
   },
   {
    "duration": 51,
    "start_time": "2025-02-18T01:32:25.001Z"
   },
   {
    "duration": 31,
    "start_time": "2025-02-18T01:32:25.054Z"
   },
   {
    "duration": 9,
    "start_time": "2025-02-18T01:32:25.087Z"
   },
   {
    "duration": 35,
    "start_time": "2025-02-18T01:32:25.098Z"
   },
   {
    "duration": 4,
    "start_time": "2025-02-18T01:32:25.139Z"
   },
   {
    "duration": 9,
    "start_time": "2025-02-18T01:32:25.144Z"
   },
   {
    "duration": 8,
    "start_time": "2025-02-18T01:32:25.155Z"
   },
   {
    "duration": 5,
    "start_time": "2025-02-18T01:32:25.165Z"
   },
   {
    "duration": 10,
    "start_time": "2025-02-18T01:32:25.171Z"
   },
   {
    "duration": 6,
    "start_time": "2025-02-18T01:32:25.183Z"
   },
   {
    "duration": 41,
    "start_time": "2025-02-18T01:32:25.191Z"
   },
   {
    "duration": 10,
    "start_time": "2025-02-18T01:32:25.234Z"
   },
   {
    "duration": 6,
    "start_time": "2025-02-18T01:32:25.246Z"
   },
   {
    "duration": 12,
    "start_time": "2025-02-18T01:32:25.254Z"
   },
   {
    "duration": 8,
    "start_time": "2025-02-18T01:32:25.267Z"
   },
   {
    "duration": 10,
    "start_time": "2025-02-18T01:32:25.277Z"
   },
   {
    "duration": 50,
    "start_time": "2025-02-18T01:32:25.289Z"
   },
   {
    "duration": 7,
    "start_time": "2025-02-18T01:32:25.341Z"
   },
   {
    "duration": 11,
    "start_time": "2025-02-18T01:32:25.350Z"
   },
   {
    "duration": 6,
    "start_time": "2025-02-18T01:32:25.363Z"
   },
   {
    "duration": 9,
    "start_time": "2025-02-18T01:32:25.371Z"
   },
   {
    "duration": 3,
    "start_time": "2025-02-18T01:32:25.382Z"
   },
   {
    "duration": 3,
    "start_time": "2025-02-18T01:32:25.387Z"
   },
   {
    "duration": 58,
    "start_time": "2025-02-18T01:32:25.392Z"
   },
   {
    "duration": 20,
    "start_time": "2025-02-18T01:32:25.452Z"
   },
   {
    "duration": 15,
    "start_time": "2025-02-18T01:32:25.474Z"
   },
   {
    "duration": 44,
    "start_time": "2025-02-18T01:32:25.491Z"
   },
   {
    "duration": 16,
    "start_time": "2025-02-18T01:32:25.537Z"
   },
   {
    "duration": 11,
    "start_time": "2025-02-18T01:32:25.555Z"
   },
   {
    "duration": 65,
    "start_time": "2025-02-18T01:32:25.567Z"
   },
   {
    "duration": 39,
    "start_time": "2025-02-18T01:32:25.634Z"
   },
   {
    "duration": 360,
    "start_time": "2025-02-18T01:32:25.674Z"
   },
   {
    "duration": 573,
    "start_time": "2025-02-18T01:32:26.036Z"
   },
   {
    "duration": 0,
    "start_time": "2025-02-18T01:32:26.611Z"
   },
   {
    "duration": 0,
    "start_time": "2025-02-18T01:32:26.613Z"
   },
   {
    "duration": 0,
    "start_time": "2025-02-18T01:32:26.614Z"
   },
   {
    "duration": 0,
    "start_time": "2025-02-18T01:32:26.615Z"
   },
   {
    "duration": 0,
    "start_time": "2025-02-18T01:32:26.617Z"
   },
   {
    "duration": 0,
    "start_time": "2025-02-18T01:32:26.631Z"
   },
   {
    "duration": 0,
    "start_time": "2025-02-18T01:32:26.633Z"
   },
   {
    "duration": 162,
    "start_time": "2025-02-18T01:33:08.549Z"
   },
   {
    "duration": 12,
    "start_time": "2025-02-18T01:33:24.759Z"
   },
   {
    "duration": 461,
    "start_time": "2025-02-18T01:34:16.611Z"
   },
   {
    "duration": 45,
    "start_time": "2025-02-18T01:34:17.073Z"
   },
   {
    "duration": 92,
    "start_time": "2025-02-18T01:34:17.120Z"
   },
   {
    "duration": 46,
    "start_time": "2025-02-18T01:34:17.214Z"
   },
   {
    "duration": 79,
    "start_time": "2025-02-18T01:34:17.262Z"
   },
   {
    "duration": 9,
    "start_time": "2025-02-18T01:34:17.343Z"
   },
   {
    "duration": 9,
    "start_time": "2025-02-18T01:34:17.354Z"
   },
   {
    "duration": 10,
    "start_time": "2025-02-18T01:34:17.364Z"
   },
   {
    "duration": 10,
    "start_time": "2025-02-18T01:34:17.376Z"
   },
   {
    "duration": 4,
    "start_time": "2025-02-18T01:34:17.390Z"
   },
   {
    "duration": 4,
    "start_time": "2025-02-18T01:34:17.395Z"
   },
   {
    "duration": 11,
    "start_time": "2025-02-18T01:34:17.432Z"
   },
   {
    "duration": 6,
    "start_time": "2025-02-18T01:34:17.445Z"
   },
   {
    "duration": 6,
    "start_time": "2025-02-18T01:34:17.452Z"
   },
   {
    "duration": 15,
    "start_time": "2025-02-18T01:34:17.459Z"
   },
   {
    "duration": 54,
    "start_time": "2025-02-18T01:34:17.477Z"
   },
   {
    "duration": 27,
    "start_time": "2025-02-18T01:34:17.533Z"
   },
   {
    "duration": 8,
    "start_time": "2025-02-18T01:34:17.562Z"
   },
   {
    "duration": 14,
    "start_time": "2025-02-18T01:34:17.572Z"
   },
   {
    "duration": 43,
    "start_time": "2025-02-18T01:34:17.588Z"
   },
   {
    "duration": 15,
    "start_time": "2025-02-18T01:34:17.633Z"
   },
   {
    "duration": 11,
    "start_time": "2025-02-18T01:34:17.650Z"
   },
   {
    "duration": 19,
    "start_time": "2025-02-18T01:34:17.663Z"
   },
   {
    "duration": 46,
    "start_time": "2025-02-18T01:34:17.685Z"
   },
   {
    "duration": 32,
    "start_time": "2025-02-18T01:34:17.734Z"
   },
   {
    "duration": 9,
    "start_time": "2025-02-18T01:34:17.767Z"
   },
   {
    "duration": 8,
    "start_time": "2025-02-18T01:34:17.778Z"
   },
   {
    "duration": 3,
    "start_time": "2025-02-18T01:34:17.793Z"
   },
   {
    "duration": 39,
    "start_time": "2025-02-18T01:34:17.798Z"
   },
   {
    "duration": 8,
    "start_time": "2025-02-18T01:34:17.839Z"
   },
   {
    "duration": 5,
    "start_time": "2025-02-18T01:34:17.849Z"
   },
   {
    "duration": 7,
    "start_time": "2025-02-18T01:34:17.856Z"
   },
   {
    "duration": 5,
    "start_time": "2025-02-18T01:34:17.864Z"
   },
   {
    "duration": 8,
    "start_time": "2025-02-18T01:34:17.871Z"
   },
   {
    "duration": 9,
    "start_time": "2025-02-18T01:34:17.881Z"
   },
   {
    "duration": 43,
    "start_time": "2025-02-18T01:34:17.891Z"
   },
   {
    "duration": 14,
    "start_time": "2025-02-18T01:34:17.936Z"
   },
   {
    "duration": 7,
    "start_time": "2025-02-18T01:34:17.952Z"
   },
   {
    "duration": 9,
    "start_time": "2025-02-18T01:34:17.961Z"
   },
   {
    "duration": 10,
    "start_time": "2025-02-18T01:34:17.972Z"
   },
   {
    "duration": 5,
    "start_time": "2025-02-18T01:34:17.985Z"
   },
   {
    "duration": 50,
    "start_time": "2025-02-18T01:34:17.992Z"
   },
   {
    "duration": 7,
    "start_time": "2025-02-18T01:34:18.044Z"
   },
   {
    "duration": 9,
    "start_time": "2025-02-18T01:34:18.053Z"
   },
   {
    "duration": 5,
    "start_time": "2025-02-18T01:34:18.064Z"
   },
   {
    "duration": 4,
    "start_time": "2025-02-18T01:34:18.072Z"
   },
   {
    "duration": 24,
    "start_time": "2025-02-18T01:34:18.077Z"
   },
   {
    "duration": 50,
    "start_time": "2025-02-18T01:34:18.103Z"
   },
   {
    "duration": 13,
    "start_time": "2025-02-18T01:34:18.155Z"
   },
   {
    "duration": 17,
    "start_time": "2025-02-18T01:34:18.170Z"
   },
   {
    "duration": 42,
    "start_time": "2025-02-18T01:34:18.189Z"
   },
   {
    "duration": 12,
    "start_time": "2025-02-18T01:34:18.234Z"
   },
   {
    "duration": 42,
    "start_time": "2025-02-18T01:34:18.248Z"
   },
   {
    "duration": 60,
    "start_time": "2025-02-18T01:34:18.292Z"
   },
   {
    "duration": 344,
    "start_time": "2025-02-18T01:34:18.354Z"
   },
   {
    "duration": 572,
    "start_time": "2025-02-18T01:34:18.700Z"
   },
   {
    "duration": 0,
    "start_time": "2025-02-18T01:34:19.274Z"
   },
   {
    "duration": 0,
    "start_time": "2025-02-18T01:34:19.275Z"
   },
   {
    "duration": 0,
    "start_time": "2025-02-18T01:34:19.277Z"
   },
   {
    "duration": 0,
    "start_time": "2025-02-18T01:34:19.278Z"
   },
   {
    "duration": 0,
    "start_time": "2025-02-18T01:34:19.278Z"
   },
   {
    "duration": 0,
    "start_time": "2025-02-18T01:34:19.279Z"
   },
   {
    "duration": 0,
    "start_time": "2025-02-18T01:34:19.280Z"
   },
   {
    "duration": 0,
    "start_time": "2025-02-18T01:34:19.281Z"
   },
   {
    "duration": 0,
    "start_time": "2025-02-18T01:34:19.282Z"
   },
   {
    "duration": 0,
    "start_time": "2025-02-18T01:34:19.283Z"
   },
   {
    "duration": 0,
    "start_time": "2025-02-18T01:34:19.284Z"
   },
   {
    "duration": 12,
    "start_time": "2025-02-18T01:34:26.400Z"
   },
   {
    "duration": 444,
    "start_time": "2025-02-18T01:37:20.575Z"
   },
   {
    "duration": 46,
    "start_time": "2025-02-18T01:37:23.771Z"
   },
   {
    "duration": 101,
    "start_time": "2025-02-18T01:37:27.823Z"
   },
   {
    "duration": 45,
    "start_time": "2025-02-18T01:37:32.335Z"
   },
   {
    "duration": 86,
    "start_time": "2025-02-18T01:37:35.948Z"
   },
   {
    "duration": 9,
    "start_time": "2025-02-18T01:37:39.028Z"
   },
   {
    "duration": 12,
    "start_time": "2025-02-18T01:37:41.948Z"
   },
   {
    "duration": 12,
    "start_time": "2025-02-18T01:37:44.959Z"
   },
   {
    "duration": 11,
    "start_time": "2025-02-18T01:37:47.948Z"
   },
   {
    "duration": 4,
    "start_time": "2025-02-18T01:37:51.584Z"
   },
   {
    "duration": 5,
    "start_time": "2025-02-18T01:37:55.168Z"
   },
   {
    "duration": 10,
    "start_time": "2025-02-18T01:38:00.316Z"
   },
   {
    "duration": 5,
    "start_time": "2025-02-18T01:38:03.710Z"
   },
   {
    "duration": 5,
    "start_time": "2025-02-18T01:38:06.725Z"
   },
   {
    "duration": 15,
    "start_time": "2025-02-18T01:38:10.568Z"
   },
   {
    "duration": 26,
    "start_time": "2025-02-18T01:38:13.118Z"
   },
   {
    "duration": 25,
    "start_time": "2025-02-18T01:38:15.743Z"
   },
   {
    "duration": 8,
    "start_time": "2025-02-18T01:38:17.877Z"
   },
   {
    "duration": 13,
    "start_time": "2025-02-18T01:38:21.062Z"
   },
   {
    "duration": 18,
    "start_time": "2025-02-18T01:38:23.694Z"
   },
   {
    "duration": 12,
    "start_time": "2025-02-18T01:38:27.191Z"
   },
   {
    "duration": 8,
    "start_time": "2025-02-18T01:38:29.798Z"
   },
   {
    "duration": 13,
    "start_time": "2025-02-18T01:38:32.725Z"
   },
   {
    "duration": 21,
    "start_time": "2025-02-18T01:38:35.719Z"
   },
   {
    "duration": 31,
    "start_time": "2025-02-18T01:38:39.249Z"
   },
   {
    "duration": 9,
    "start_time": "2025-02-18T01:38:42.838Z"
   },
   {
    "duration": 10,
    "start_time": "2025-02-18T01:38:45.480Z"
   },
   {
    "duration": 4,
    "start_time": "2025-02-18T01:38:47.916Z"
   },
   {
    "duration": 8,
    "start_time": "2025-02-18T01:38:50.489Z"
   },
   {
    "duration": 10,
    "start_time": "2025-02-18T01:38:53.905Z"
   },
   {
    "duration": 6,
    "start_time": "2025-02-18T01:38:57.717Z"
   },
   {
    "duration": 8,
    "start_time": "2025-02-18T01:39:01.631Z"
   },
   {
    "duration": 5,
    "start_time": "2025-02-18T01:39:04.420Z"
   },
   {
    "duration": 9,
    "start_time": "2025-02-18T01:39:08.508Z"
   },
   {
    "duration": 9,
    "start_time": "2025-02-18T01:39:12.617Z"
   },
   {
    "duration": 11,
    "start_time": "2025-02-18T01:39:27.199Z"
   },
   {
    "duration": 10,
    "start_time": "2025-02-18T01:39:30.987Z"
   },
   {
    "duration": 10,
    "start_time": "2025-02-18T01:39:36.028Z"
   },
   {
    "duration": 6,
    "start_time": "2025-02-18T01:39:39.601Z"
   },
   {
    "duration": 12,
    "start_time": "2025-02-18T01:39:45.571Z"
   },
   {
    "duration": 8,
    "start_time": "2025-02-18T01:39:49.614Z"
   },
   {
    "duration": 9,
    "start_time": "2025-02-18T01:39:54.462Z"
   },
   {
    "duration": 3,
    "start_time": "2025-02-18T01:40:00.622Z"
   },
   {
    "duration": 3,
    "start_time": "2025-02-18T01:40:04.570Z"
   },
   {
    "duration": 20,
    "start_time": "2025-02-18T01:40:08.983Z"
   },
   {
    "duration": 28,
    "start_time": "2025-02-18T01:40:13.210Z"
   },
   {
    "duration": 14,
    "start_time": "2025-02-18T01:40:16.604Z"
   },
   {
    "duration": 16,
    "start_time": "2025-02-18T01:40:20.318Z"
   },
   {
    "duration": 16,
    "start_time": "2025-02-18T01:40:24.256Z"
   },
   {
    "duration": 10,
    "start_time": "2025-02-18T01:40:27.206Z"
   },
   {
    "duration": 41,
    "start_time": "2025-02-18T01:40:33.437Z"
   },
   {
    "duration": 38,
    "start_time": "2025-02-18T01:40:38.291Z"
   },
   {
    "duration": 342,
    "start_time": "2025-02-18T01:40:42.871Z"
   },
   {
    "duration": 571,
    "start_time": "2025-02-18T01:40:46.418Z"
   },
   {
    "duration": 37,
    "start_time": "2025-02-18T01:40:56.636Z"
   },
   {
    "duration": 349,
    "start_time": "2025-02-18T01:40:59.120Z"
   },
   {
    "duration": 79,
    "start_time": "2025-02-18T01:41:03.606Z"
   },
   {
    "duration": 54,
    "start_time": "2025-02-18T01:41:06.482Z"
   },
   {
    "duration": 188,
    "start_time": "2025-02-18T01:41:09.659Z"
   },
   {
    "duration": 23,
    "start_time": "2025-02-18T01:41:13.682Z"
   },
   {
    "duration": 298,
    "start_time": "2025-02-18T01:41:17.053Z"
   },
   {
    "duration": 37,
    "start_time": "2025-02-18T01:41:20.802Z"
   },
   {
    "duration": 99,
    "start_time": "2025-02-18T01:41:23.657Z"
   },
   {
    "duration": 165,
    "start_time": "2025-02-18T01:41:35.496Z"
   },
   {
    "duration": 14,
    "start_time": "2025-02-18T01:41:41.461Z"
   },
   {
    "duration": 461,
    "start_time": "2025-02-18T01:42:15.219Z"
   },
   {
    "duration": 58,
    "start_time": "2025-02-18T01:42:15.682Z"
   },
   {
    "duration": 92,
    "start_time": "2025-02-18T01:42:15.742Z"
   },
   {
    "duration": 46,
    "start_time": "2025-02-18T01:42:15.836Z"
   },
   {
    "duration": 83,
    "start_time": "2025-02-18T01:42:15.886Z"
   },
   {
    "duration": 10,
    "start_time": "2025-02-18T01:42:15.971Z"
   },
   {
    "duration": 9,
    "start_time": "2025-02-18T01:42:15.982Z"
   },
   {
    "duration": 10,
    "start_time": "2025-02-18T01:42:15.993Z"
   },
   {
    "duration": 31,
    "start_time": "2025-02-18T01:42:16.006Z"
   },
   {
    "duration": 5,
    "start_time": "2025-02-18T01:42:16.039Z"
   },
   {
    "duration": 4,
    "start_time": "2025-02-18T01:42:16.046Z"
   },
   {
    "duration": 11,
    "start_time": "2025-02-18T01:42:16.051Z"
   },
   {
    "duration": 4,
    "start_time": "2025-02-18T01:42:16.064Z"
   },
   {
    "duration": 5,
    "start_time": "2025-02-18T01:42:16.072Z"
   },
   {
    "duration": 15,
    "start_time": "2025-02-18T01:42:16.079Z"
   },
   {
    "duration": 32,
    "start_time": "2025-02-18T01:42:16.132Z"
   },
   {
    "duration": 31,
    "start_time": "2025-02-18T01:42:16.168Z"
   },
   {
    "duration": 13,
    "start_time": "2025-02-18T01:42:16.201Z"
   },
   {
    "duration": 26,
    "start_time": "2025-02-18T01:42:16.216Z"
   },
   {
    "duration": 17,
    "start_time": "2025-02-18T01:42:16.244Z"
   },
   {
    "duration": 13,
    "start_time": "2025-02-18T01:42:16.264Z"
   },
   {
    "duration": 9,
    "start_time": "2025-02-18T01:42:16.279Z"
   },
   {
    "duration": 45,
    "start_time": "2025-02-18T01:42:16.290Z"
   },
   {
    "duration": 20,
    "start_time": "2025-02-18T01:42:16.337Z"
   },
   {
    "duration": 30,
    "start_time": "2025-02-18T01:42:16.359Z"
   },
   {
    "duration": 8,
    "start_time": "2025-02-18T01:42:16.392Z"
   },
   {
    "duration": 31,
    "start_time": "2025-02-18T01:42:16.402Z"
   },
   {
    "duration": 4,
    "start_time": "2025-02-18T01:42:16.435Z"
   },
   {
    "duration": 8,
    "start_time": "2025-02-18T01:42:16.441Z"
   },
   {
    "duration": 7,
    "start_time": "2025-02-18T01:42:16.451Z"
   },
   {
    "duration": 5,
    "start_time": "2025-02-18T01:42:16.460Z"
   },
   {
    "duration": 6,
    "start_time": "2025-02-18T01:42:16.466Z"
   },
   {
    "duration": 7,
    "start_time": "2025-02-18T01:42:16.473Z"
   },
   {
    "duration": 51,
    "start_time": "2025-02-18T01:42:16.481Z"
   },
   {
    "duration": 9,
    "start_time": "2025-02-18T01:42:16.534Z"
   },
   {
    "duration": 6,
    "start_time": "2025-02-18T01:42:16.545Z"
   },
   {
    "duration": 12,
    "start_time": "2025-02-18T01:42:16.552Z"
   },
   {
    "duration": 7,
    "start_time": "2025-02-18T01:42:16.566Z"
   },
   {
    "duration": 11,
    "start_time": "2025-02-18T01:42:16.575Z"
   },
   {
    "duration": 10,
    "start_time": "2025-02-18T01:42:16.587Z"
   },
   {
    "duration": 8,
    "start_time": "2025-02-18T01:42:16.634Z"
   },
   {
    "duration": 12,
    "start_time": "2025-02-18T01:42:16.644Z"
   },
   {
    "duration": 8,
    "start_time": "2025-02-18T01:42:16.658Z"
   },
   {
    "duration": 10,
    "start_time": "2025-02-18T01:42:16.668Z"
   },
   {
    "duration": 4,
    "start_time": "2025-02-18T01:42:16.680Z"
   },
   {
    "duration": 4,
    "start_time": "2025-02-18T01:42:16.685Z"
   },
   {
    "duration": 61,
    "start_time": "2025-02-18T01:42:16.690Z"
   },
   {
    "duration": 20,
    "start_time": "2025-02-18T01:42:16.753Z"
   },
   {
    "duration": 14,
    "start_time": "2025-02-18T01:42:16.774Z"
   },
   {
    "duration": 15,
    "start_time": "2025-02-18T01:42:16.791Z"
   },
   {
    "duration": 18,
    "start_time": "2025-02-18T01:42:16.832Z"
   },
   {
    "duration": 11,
    "start_time": "2025-02-18T01:42:16.852Z"
   },
   {
    "duration": 43,
    "start_time": "2025-02-18T01:42:16.864Z"
   },
   {
    "duration": 59,
    "start_time": "2025-02-18T01:42:16.909Z"
   },
   {
    "duration": 369,
    "start_time": "2025-02-18T01:42:16.970Z"
   },
   {
    "duration": 563,
    "start_time": "2025-02-18T01:42:17.341Z"
   },
   {
    "duration": 0,
    "start_time": "2025-02-18T01:42:17.906Z"
   },
   {
    "duration": 0,
    "start_time": "2025-02-18T01:42:17.907Z"
   },
   {
    "duration": 0,
    "start_time": "2025-02-18T01:42:17.911Z"
   },
   {
    "duration": 0,
    "start_time": "2025-02-18T01:42:17.912Z"
   },
   {
    "duration": 0,
    "start_time": "2025-02-18T01:42:17.913Z"
   },
   {
    "duration": 0,
    "start_time": "2025-02-18T01:42:17.913Z"
   },
   {
    "duration": 0,
    "start_time": "2025-02-18T01:42:17.914Z"
   },
   {
    "duration": 0,
    "start_time": "2025-02-18T01:42:17.916Z"
   },
   {
    "duration": 0,
    "start_time": "2025-02-18T01:42:17.931Z"
   },
   {
    "duration": 0,
    "start_time": "2025-02-18T01:42:17.933Z"
   },
   {
    "duration": 0,
    "start_time": "2025-02-18T01:42:17.934Z"
   },
   {
    "duration": 16,
    "start_time": "2025-02-18T01:42:37.665Z"
   },
   {
    "duration": 488,
    "start_time": "2025-02-18T01:45:08.682Z"
   },
   {
    "duration": 47,
    "start_time": "2025-02-18T01:45:09.172Z"
   },
   {
    "duration": 89,
    "start_time": "2025-02-18T01:45:09.221Z"
   },
   {
    "duration": 46,
    "start_time": "2025-02-18T01:45:09.313Z"
   },
   {
    "duration": 88,
    "start_time": "2025-02-18T01:45:09.361Z"
   },
   {
    "duration": 8,
    "start_time": "2025-02-18T01:45:09.451Z"
   },
   {
    "duration": 9,
    "start_time": "2025-02-18T01:45:09.460Z"
   },
   {
    "duration": 12,
    "start_time": "2025-02-18T01:45:09.471Z"
   },
   {
    "duration": 10,
    "start_time": "2025-02-18T01:45:09.485Z"
   },
   {
    "duration": 4,
    "start_time": "2025-02-18T01:45:09.498Z"
   },
   {
    "duration": 4,
    "start_time": "2025-02-18T01:45:09.532Z"
   },
   {
    "duration": 10,
    "start_time": "2025-02-18T01:45:09.537Z"
   },
   {
    "duration": 4,
    "start_time": "2025-02-18T01:45:09.549Z"
   },
   {
    "duration": 6,
    "start_time": "2025-02-18T01:45:09.555Z"
   },
   {
    "duration": 15,
    "start_time": "2025-02-18T01:45:09.562Z"
   },
   {
    "duration": 60,
    "start_time": "2025-02-18T01:45:09.579Z"
   },
   {
    "duration": 27,
    "start_time": "2025-02-18T01:45:09.640Z"
   },
   {
    "duration": 10,
    "start_time": "2025-02-18T01:45:09.669Z"
   },
   {
    "duration": 12,
    "start_time": "2025-02-18T01:45:09.680Z"
   },
   {
    "duration": 42,
    "start_time": "2025-02-18T01:45:09.694Z"
   },
   {
    "duration": 11,
    "start_time": "2025-02-18T01:45:09.738Z"
   },
   {
    "duration": 9,
    "start_time": "2025-02-18T01:45:09.751Z"
   },
   {
    "duration": 14,
    "start_time": "2025-02-18T01:45:09.761Z"
   },
   {
    "duration": 24,
    "start_time": "2025-02-18T01:45:09.776Z"
   },
   {
    "duration": 30,
    "start_time": "2025-02-18T01:45:09.831Z"
   },
   {
    "duration": 8,
    "start_time": "2025-02-18T01:45:09.863Z"
   },
   {
    "duration": 10,
    "start_time": "2025-02-18T01:45:09.873Z"
   },
   {
    "duration": 4,
    "start_time": "2025-02-18T01:45:09.887Z"
   },
   {
    "duration": 9,
    "start_time": "2025-02-18T01:45:09.892Z"
   },
   {
    "duration": 9,
    "start_time": "2025-02-18T01:45:09.931Z"
   },
   {
    "duration": 5,
    "start_time": "2025-02-18T01:45:09.942Z"
   },
   {
    "duration": 7,
    "start_time": "2025-02-18T01:45:09.948Z"
   },
   {
    "duration": 6,
    "start_time": "2025-02-18T01:45:09.956Z"
   },
   {
    "duration": 9,
    "start_time": "2025-02-18T01:45:09.963Z"
   },
   {
    "duration": 10,
    "start_time": "2025-02-18T01:45:09.973Z"
   },
   {
    "duration": 46,
    "start_time": "2025-02-18T01:45:09.985Z"
   },
   {
    "duration": 12,
    "start_time": "2025-02-18T01:45:10.033Z"
   },
   {
    "duration": 7,
    "start_time": "2025-02-18T01:45:10.047Z"
   },
   {
    "duration": 9,
    "start_time": "2025-02-18T01:45:10.056Z"
   },
   {
    "duration": 10,
    "start_time": "2025-02-18T01:45:10.067Z"
   },
   {
    "duration": 6,
    "start_time": "2025-02-18T01:45:10.079Z"
   },
   {
    "duration": 44,
    "start_time": "2025-02-18T01:45:10.087Z"
   },
   {
    "duration": 7,
    "start_time": "2025-02-18T01:45:10.133Z"
   },
   {
    "duration": 8,
    "start_time": "2025-02-18T01:45:10.142Z"
   },
   {
    "duration": 3,
    "start_time": "2025-02-18T01:45:10.152Z"
   },
   {
    "duration": 4,
    "start_time": "2025-02-18T01:45:10.156Z"
   },
   {
    "duration": 21,
    "start_time": "2025-02-18T01:45:10.162Z"
   },
   {
    "duration": 53,
    "start_time": "2025-02-18T01:45:10.184Z"
   },
   {
    "duration": 13,
    "start_time": "2025-02-18T01:45:10.239Z"
   },
   {
    "duration": 16,
    "start_time": "2025-02-18T01:45:10.254Z"
   },
   {
    "duration": 17,
    "start_time": "2025-02-18T01:45:10.271Z"
   },
   {
    "duration": 11,
    "start_time": "2025-02-18T01:45:10.289Z"
   },
   {
    "duration": 70,
    "start_time": "2025-02-18T01:45:10.302Z"
   },
   {
    "duration": 42,
    "start_time": "2025-02-18T01:45:10.374Z"
   },
   {
    "duration": 336,
    "start_time": "2025-02-18T01:45:10.432Z"
   },
   {
    "duration": 554,
    "start_time": "2025-02-18T01:45:10.770Z"
   },
   {
    "duration": 0,
    "start_time": "2025-02-18T01:45:11.326Z"
   },
   {
    "duration": 0,
    "start_time": "2025-02-18T01:45:11.331Z"
   },
   {
    "duration": 0,
    "start_time": "2025-02-18T01:45:11.333Z"
   },
   {
    "duration": 0,
    "start_time": "2025-02-18T01:45:11.335Z"
   },
   {
    "duration": 0,
    "start_time": "2025-02-18T01:45:11.336Z"
   },
   {
    "duration": 0,
    "start_time": "2025-02-18T01:45:11.337Z"
   },
   {
    "duration": 17,
    "start_time": "2025-02-18T01:45:19.837Z"
   },
   {
    "duration": 36,
    "start_time": "2025-02-18T01:45:22.931Z"
   },
   {
    "duration": 98,
    "start_time": "2025-02-18T01:45:26.163Z"
   },
   {
    "duration": 2,
    "start_time": "2025-02-18T01:52:04.927Z"
   },
   {
    "duration": 364,
    "start_time": "2025-02-18T01:53:00.397Z"
   },
   {
    "duration": 42,
    "start_time": "2025-02-18T01:53:28.752Z"
   },
   {
    "duration": 2,
    "start_time": "2025-02-18T01:56:26.127Z"
   },
   {
    "duration": 15,
    "start_time": "2025-02-18T01:56:47.004Z"
   },
   {
    "duration": 166,
    "start_time": "2025-02-18T01:57:44.482Z"
   },
   {
    "duration": 170,
    "start_time": "2025-02-18T01:58:19.614Z"
   },
   {
    "duration": 809,
    "start_time": "2025-02-18T01:58:23.167Z"
   },
   {
    "duration": 15,
    "start_time": "2025-02-18T01:58:25.590Z"
   },
   {
    "duration": 75,
    "start_time": "2025-02-18T01:58:33.144Z"
   },
   {
    "duration": 94,
    "start_time": "2025-02-18T01:58:48.739Z"
   },
   {
    "duration": 48,
    "start_time": "2025-02-18T01:58:51.369Z"
   },
   {
    "duration": 85,
    "start_time": "2025-02-18T01:58:53.718Z"
   },
   {
    "duration": 10,
    "start_time": "2025-02-18T01:58:57.082Z"
   },
   {
    "duration": 829,
    "start_time": "2025-02-18T02:02:21.328Z"
   },
   {
    "duration": 14,
    "start_time": "2025-02-18T02:02:24.457Z"
   },
   {
    "duration": 97,
    "start_time": "2025-02-18T02:02:28.104Z"
   },
   {
    "duration": 48,
    "start_time": "2025-02-18T02:02:30.610Z"
   },
   {
    "duration": 81,
    "start_time": "2025-02-18T02:02:34.486Z"
   },
   {
    "duration": 9,
    "start_time": "2025-02-18T02:02:37.456Z"
   },
   {
    "duration": 825,
    "start_time": "2025-02-18T02:06:56.060Z"
   },
   {
    "duration": 13,
    "start_time": "2025-02-18T02:06:59.182Z"
   },
   {
    "duration": 98,
    "start_time": "2025-02-18T02:07:02.915Z"
   },
   {
    "duration": 48,
    "start_time": "2025-02-18T02:07:05.559Z"
   },
   {
    "duration": 81,
    "start_time": "2025-02-18T02:07:08.351Z"
   },
   {
    "duration": 12,
    "start_time": "2025-02-18T02:07:10.872Z"
   },
   {
    "duration": 848,
    "start_time": "2025-02-18T02:13:20.346Z"
   },
   {
    "duration": 13,
    "start_time": "2025-02-18T02:13:21.197Z"
   },
   {
    "duration": 90,
    "start_time": "2025-02-18T02:13:21.213Z"
   },
   {
    "duration": 45,
    "start_time": "2025-02-18T02:13:21.305Z"
   },
   {
    "duration": 83,
    "start_time": "2025-02-18T02:13:21.351Z"
   },
   {
    "duration": 8,
    "start_time": "2025-02-18T02:13:21.435Z"
   },
   {
    "duration": 9,
    "start_time": "2025-02-18T02:13:21.445Z"
   },
   {
    "duration": 10,
    "start_time": "2025-02-18T02:13:21.455Z"
   },
   {
    "duration": 10,
    "start_time": "2025-02-18T02:13:21.466Z"
   },
   {
    "duration": 4,
    "start_time": "2025-02-18T02:13:21.479Z"
   },
   {
    "duration": 5,
    "start_time": "2025-02-18T02:13:21.485Z"
   },
   {
    "duration": 45,
    "start_time": "2025-02-18T02:13:21.491Z"
   },
   {
    "duration": 5,
    "start_time": "2025-02-18T02:13:21.538Z"
   },
   {
    "duration": 5,
    "start_time": "2025-02-18T02:13:21.545Z"
   },
   {
    "duration": 14,
    "start_time": "2025-02-18T02:13:21.553Z"
   },
   {
    "duration": 27,
    "start_time": "2025-02-18T02:13:21.569Z"
   },
   {
    "duration": 55,
    "start_time": "2025-02-18T02:13:21.598Z"
   },
   {
    "duration": 9,
    "start_time": "2025-02-18T02:13:21.655Z"
   },
   {
    "duration": 13,
    "start_time": "2025-02-18T02:13:21.666Z"
   },
   {
    "duration": 17,
    "start_time": "2025-02-18T02:13:21.680Z"
   },
   {
    "duration": 41,
    "start_time": "2025-02-18T02:13:21.699Z"
   },
   {
    "duration": 9,
    "start_time": "2025-02-18T02:13:21.741Z"
   },
   {
    "duration": 13,
    "start_time": "2025-02-18T02:13:21.752Z"
   },
   {
    "duration": 21,
    "start_time": "2025-02-18T02:13:21.767Z"
   },
   {
    "duration": 55,
    "start_time": "2025-02-18T02:13:21.790Z"
   },
   {
    "duration": 9,
    "start_time": "2025-02-18T02:13:21.847Z"
   },
   {
    "duration": 8,
    "start_time": "2025-02-18T02:13:21.857Z"
   },
   {
    "duration": 3,
    "start_time": "2025-02-18T02:13:21.870Z"
   },
   {
    "duration": 9,
    "start_time": "2025-02-18T02:13:21.875Z"
   },
   {
    "duration": 8,
    "start_time": "2025-02-18T02:13:21.886Z"
   },
   {
    "duration": 41,
    "start_time": "2025-02-18T02:13:21.895Z"
   },
   {
    "duration": 7,
    "start_time": "2025-02-18T02:13:21.937Z"
   },
   {
    "duration": 5,
    "start_time": "2025-02-18T02:13:21.947Z"
   },
   {
    "duration": 12,
    "start_time": "2025-02-18T02:13:21.955Z"
   },
   {
    "duration": 9,
    "start_time": "2025-02-18T02:13:21.971Z"
   },
   {
    "duration": 7,
    "start_time": "2025-02-18T02:13:21.982Z"
   },
   {
    "duration": 45,
    "start_time": "2025-02-18T02:13:21.991Z"
   },
   {
    "duration": 7,
    "start_time": "2025-02-18T02:13:22.038Z"
   },
   {
    "duration": 11,
    "start_time": "2025-02-18T02:13:22.047Z"
   },
   {
    "duration": 11,
    "start_time": "2025-02-18T02:13:22.060Z"
   },
   {
    "duration": 8,
    "start_time": "2025-02-18T02:13:22.073Z"
   },
   {
    "duration": 14,
    "start_time": "2025-02-18T02:13:22.084Z"
   },
   {
    "duration": 39,
    "start_time": "2025-02-18T02:13:22.099Z"
   },
   {
    "duration": 10,
    "start_time": "2025-02-18T02:13:22.140Z"
   },
   {
    "duration": 3,
    "start_time": "2025-02-18T02:13:22.152Z"
   },
   {
    "duration": 4,
    "start_time": "2025-02-18T02:13:22.157Z"
   },
   {
    "duration": 22,
    "start_time": "2025-02-18T02:13:22.163Z"
   },
   {
    "duration": 53,
    "start_time": "2025-02-18T02:13:22.187Z"
   },
   {
    "duration": 16,
    "start_time": "2025-02-18T02:13:22.242Z"
   },
   {
    "duration": 16,
    "start_time": "2025-02-18T02:13:22.259Z"
   },
   {
    "duration": 16,
    "start_time": "2025-02-18T02:13:22.277Z"
   },
   {
    "duration": 39,
    "start_time": "2025-02-18T02:13:22.295Z"
   },
   {
    "duration": 41,
    "start_time": "2025-02-18T02:13:22.337Z"
   },
   {
    "duration": 51,
    "start_time": "2025-02-18T02:13:22.380Z"
   },
   {
    "duration": 332,
    "start_time": "2025-02-18T02:13:22.433Z"
   },
   {
    "duration": 619,
    "start_time": "2025-02-18T02:13:22.767Z"
   },
   {
    "duration": 0,
    "start_time": "2025-02-18T02:13:23.388Z"
   },
   {
    "duration": 0,
    "start_time": "2025-02-18T02:13:23.389Z"
   },
   {
    "duration": 0,
    "start_time": "2025-02-18T02:13:23.390Z"
   },
   {
    "duration": 0,
    "start_time": "2025-02-18T02:13:23.392Z"
   },
   {
    "duration": 0,
    "start_time": "2025-02-18T02:13:23.393Z"
   },
   {
    "duration": 0,
    "start_time": "2025-02-18T02:13:23.395Z"
   },
   {
    "duration": 0,
    "start_time": "2025-02-18T02:13:23.396Z"
   },
   {
    "duration": 16,
    "start_time": "2025-02-18T02:13:31.422Z"
   },
   {
    "duration": 46,
    "start_time": "2025-02-18T02:13:38.667Z"
   },
   {
    "duration": 160,
    "start_time": "2025-02-18T02:16:30.090Z"
   },
   {
    "duration": 810,
    "start_time": "2025-02-18T02:17:14.964Z"
   },
   {
    "duration": 13,
    "start_time": "2025-02-18T02:17:19.332Z"
   },
   {
    "duration": 93,
    "start_time": "2025-02-18T02:17:23.477Z"
   },
   {
    "duration": 50,
    "start_time": "2025-02-18T02:17:30.955Z"
   },
   {
    "duration": 97,
    "start_time": "2025-02-18T02:17:33.809Z"
   },
   {
    "duration": 9,
    "start_time": "2025-02-18T02:17:37.242Z"
   },
   {
    "duration": 10,
    "start_time": "2025-02-18T02:17:46.231Z"
   },
   {
    "duration": 10,
    "start_time": "2025-02-18T02:17:49.412Z"
   },
   {
    "duration": 11,
    "start_time": "2025-02-18T02:17:53.550Z"
   },
   {
    "duration": 5,
    "start_time": "2025-02-18T02:18:01.196Z"
   },
   {
    "duration": 4,
    "start_time": "2025-02-18T02:18:03.517Z"
   },
   {
    "duration": 11,
    "start_time": "2025-02-18T02:18:06.997Z"
   },
   {
    "duration": 4,
    "start_time": "2025-02-18T02:18:10.849Z"
   },
   {
    "duration": 7,
    "start_time": "2025-02-18T02:18:13.837Z"
   },
   {
    "duration": 15,
    "start_time": "2025-02-18T02:18:17.273Z"
   },
   {
    "duration": 25,
    "start_time": "2025-02-18T02:18:19.823Z"
   },
   {
    "duration": 28,
    "start_time": "2025-02-18T02:18:23.045Z"
   },
   {
    "duration": 8,
    "start_time": "2025-02-18T02:18:25.929Z"
   },
   {
    "duration": 13,
    "start_time": "2025-02-18T02:18:28.989Z"
   },
   {
    "duration": 17,
    "start_time": "2025-02-18T02:18:32.326Z"
   },
   {
    "duration": 16,
    "start_time": "2025-02-18T02:18:35.400Z"
   },
   {
    "duration": 9,
    "start_time": "2025-02-18T02:18:38.097Z"
   },
   {
    "duration": 19,
    "start_time": "2025-02-18T02:18:41.809Z"
   },
   {
    "duration": 22,
    "start_time": "2025-02-18T02:18:44.967Z"
   },
   {
    "duration": 29,
    "start_time": "2025-02-18T02:18:48.644Z"
   },
   {
    "duration": 9,
    "start_time": "2025-02-18T02:18:50.522Z"
   },
   {
    "duration": 8,
    "start_time": "2025-02-18T02:18:54.227Z"
   },
   {
    "duration": 4,
    "start_time": "2025-02-18T02:18:57.928Z"
   },
   {
    "duration": 9,
    "start_time": "2025-02-18T02:18:59.723Z"
   },
   {
    "duration": 5,
    "start_time": "2025-02-18T02:19:22.285Z"
   },
   {
    "duration": 12,
    "start_time": "2025-02-18T02:19:28.042Z"
   },
   {
    "duration": 6,
    "start_time": "2025-02-18T02:19:31.043Z"
   },
   {
    "duration": 9,
    "start_time": "2025-02-18T02:19:43.318Z"
   },
   {
    "duration": 9,
    "start_time": "2025-02-18T02:19:50.496Z"
   },
   {
    "duration": 7,
    "start_time": "2025-02-18T02:19:53.949Z"
   },
   {
    "duration": 13,
    "start_time": "2025-02-18T02:20:04.770Z"
   },
   {
    "duration": 8,
    "start_time": "2025-02-18T02:20:10.326Z"
   },
   {
    "duration": 10,
    "start_time": "2025-02-18T02:20:15.059Z"
   },
   {
    "duration": 11,
    "start_time": "2025-02-18T02:20:17.694Z"
   },
   {
    "duration": 7,
    "start_time": "2025-02-18T02:20:20.405Z"
   },
   {
    "duration": 12,
    "start_time": "2025-02-18T02:20:24.160Z"
   },
   {
    "duration": 7,
    "start_time": "2025-02-18T02:20:27.358Z"
   },
   {
    "duration": 10,
    "start_time": "2025-02-18T02:20:32.982Z"
   },
   {
    "duration": 3,
    "start_time": "2025-02-18T02:20:37.929Z"
   },
   {
    "duration": 3,
    "start_time": "2025-02-18T02:20:41.305Z"
   },
   {
    "duration": 21,
    "start_time": "2025-02-18T02:20:45.407Z"
   },
   {
    "duration": 21,
    "start_time": "2025-02-18T02:20:49.160Z"
   },
   {
    "duration": 14,
    "start_time": "2025-02-18T02:20:52.645Z"
   },
   {
    "duration": 18,
    "start_time": "2025-02-18T02:20:55.768Z"
   },
   {
    "duration": 18,
    "start_time": "2025-02-18T02:20:59.026Z"
   },
   {
    "duration": 12,
    "start_time": "2025-02-18T02:21:01.994Z"
   },
   {
    "duration": 42,
    "start_time": "2025-02-18T02:21:32.975Z"
   },
   {
    "duration": 41,
    "start_time": "2025-02-18T02:21:39.331Z"
   },
   {
    "duration": 358,
    "start_time": "2025-02-18T02:21:44.596Z"
   },
   {
    "duration": 577,
    "start_time": "2025-02-18T02:21:48.721Z"
   },
   {
    "duration": 37,
    "start_time": "2025-02-18T02:21:52.052Z"
   },
   {
    "duration": 399,
    "start_time": "2025-02-18T02:21:54.856Z"
   },
   {
    "duration": 70,
    "start_time": "2025-02-18T02:21:59.316Z"
   },
   {
    "duration": 57,
    "start_time": "2025-02-18T02:22:03.226Z"
   },
   {
    "duration": 181,
    "start_time": "2025-02-18T02:22:06.700Z"
   },
   {
    "duration": 22,
    "start_time": "2025-02-18T02:22:11.381Z"
   },
   {
    "duration": 288,
    "start_time": "2025-02-18T02:22:16.367Z"
   },
   {
    "duration": 35,
    "start_time": "2025-02-18T02:22:20.638Z"
   },
   {
    "duration": 100,
    "start_time": "2025-02-18T02:22:33.565Z"
   },
   {
    "duration": 20,
    "start_time": "2025-02-18T02:24:19.258Z"
   },
   {
    "duration": 332,
    "start_time": "2025-02-18T02:24:24.474Z"
   },
   {
    "duration": 19,
    "start_time": "2025-02-18T02:24:28.513Z"
   },
   {
    "duration": 61,
    "start_time": "2025-02-18T02:26:06.766Z"
   },
   {
    "duration": 826,
    "start_time": "2025-02-18T02:27:24.215Z"
   },
   {
    "duration": 15,
    "start_time": "2025-02-18T02:27:25.045Z"
   },
   {
    "duration": 93,
    "start_time": "2025-02-18T02:27:25.062Z"
   },
   {
    "duration": 49,
    "start_time": "2025-02-18T02:27:25.157Z"
   },
   {
    "duration": 81,
    "start_time": "2025-02-18T02:27:25.208Z"
   },
   {
    "duration": 9,
    "start_time": "2025-02-18T02:27:25.290Z"
   },
   {
    "duration": 8,
    "start_time": "2025-02-18T02:27:25.300Z"
   },
   {
    "duration": 9,
    "start_time": "2025-02-18T02:27:25.310Z"
   },
   {
    "duration": 17,
    "start_time": "2025-02-18T02:27:25.320Z"
   },
   {
    "duration": 4,
    "start_time": "2025-02-18T02:27:25.340Z"
   },
   {
    "duration": 4,
    "start_time": "2025-02-18T02:27:25.345Z"
   },
   {
    "duration": 10,
    "start_time": "2025-02-18T02:27:25.351Z"
   },
   {
    "duration": 4,
    "start_time": "2025-02-18T02:27:25.363Z"
   },
   {
    "duration": 5,
    "start_time": "2025-02-18T02:27:25.369Z"
   },
   {
    "duration": 18,
    "start_time": "2025-02-18T02:27:25.375Z"
   },
   {
    "duration": 26,
    "start_time": "2025-02-18T02:27:25.432Z"
   },
   {
    "duration": 26,
    "start_time": "2025-02-18T02:27:25.459Z"
   },
   {
    "duration": 8,
    "start_time": "2025-02-18T02:27:25.487Z"
   },
   {
    "duration": 37,
    "start_time": "2025-02-18T02:27:25.497Z"
   },
   {
    "duration": 17,
    "start_time": "2025-02-18T02:27:25.537Z"
   },
   {
    "duration": 12,
    "start_time": "2025-02-18T02:27:25.556Z"
   },
   {
    "duration": 10,
    "start_time": "2025-02-18T02:27:25.569Z"
   },
   {
    "duration": 15,
    "start_time": "2025-02-18T02:27:25.581Z"
   },
   {
    "duration": 22,
    "start_time": "2025-02-18T02:27:25.630Z"
   },
   {
    "duration": 30,
    "start_time": "2025-02-18T02:27:25.654Z"
   },
   {
    "duration": 8,
    "start_time": "2025-02-18T02:27:25.686Z"
   },
   {
    "duration": 8,
    "start_time": "2025-02-18T02:27:25.695Z"
   },
   {
    "duration": 7,
    "start_time": "2025-02-18T02:27:25.732Z"
   },
   {
    "duration": 10,
    "start_time": "2025-02-18T02:27:25.740Z"
   },
   {
    "duration": 9,
    "start_time": "2025-02-18T02:27:25.752Z"
   },
   {
    "duration": 7,
    "start_time": "2025-02-18T02:27:25.763Z"
   },
   {
    "duration": 8,
    "start_time": "2025-02-18T02:27:25.772Z"
   },
   {
    "duration": 6,
    "start_time": "2025-02-18T02:27:25.782Z"
   },
   {
    "duration": 42,
    "start_time": "2025-02-18T02:27:25.790Z"
   },
   {
    "duration": 10,
    "start_time": "2025-02-18T02:27:25.834Z"
   },
   {
    "duration": 6,
    "start_time": "2025-02-18T02:27:25.846Z"
   },
   {
    "duration": 12,
    "start_time": "2025-02-18T02:27:25.853Z"
   },
   {
    "duration": 8,
    "start_time": "2025-02-18T02:27:25.867Z"
   },
   {
    "duration": 11,
    "start_time": "2025-02-18T02:27:25.876Z"
   },
   {
    "duration": 49,
    "start_time": "2025-02-18T02:27:25.888Z"
   },
   {
    "duration": 6,
    "start_time": "2025-02-18T02:27:25.939Z"
   },
   {
    "duration": 12,
    "start_time": "2025-02-18T02:27:25.946Z"
   },
   {
    "duration": 7,
    "start_time": "2025-02-18T02:27:25.959Z"
   },
   {
    "duration": 9,
    "start_time": "2025-02-18T02:27:25.967Z"
   },
   {
    "duration": 3,
    "start_time": "2025-02-18T02:27:25.978Z"
   },
   {
    "duration": 3,
    "start_time": "2025-02-18T02:27:25.983Z"
   },
   {
    "duration": 62,
    "start_time": "2025-02-18T02:27:25.988Z"
   },
   {
    "duration": 19,
    "start_time": "2025-02-18T02:27:26.052Z"
   },
   {
    "duration": 14,
    "start_time": "2025-02-18T02:27:26.073Z"
   },
   {
    "duration": 16,
    "start_time": "2025-02-18T02:27:26.089Z"
   },
   {
    "duration": 38,
    "start_time": "2025-02-18T02:27:26.107Z"
   },
   {
    "duration": 10,
    "start_time": "2025-02-18T02:27:26.147Z"
   },
   {
    "duration": 45,
    "start_time": "2025-02-18T02:27:26.158Z"
   },
   {
    "duration": 62,
    "start_time": "2025-02-18T02:27:26.204Z"
   },
   {
    "duration": 355,
    "start_time": "2025-02-18T02:27:26.268Z"
   },
   {
    "duration": 597,
    "start_time": "2025-02-18T02:27:26.625Z"
   },
   {
    "duration": 0,
    "start_time": "2025-02-18T02:27:27.224Z"
   },
   {
    "duration": 0,
    "start_time": "2025-02-18T02:27:27.231Z"
   },
   {
    "duration": 0,
    "start_time": "2025-02-18T02:27:27.233Z"
   },
   {
    "duration": 0,
    "start_time": "2025-02-18T02:27:27.234Z"
   },
   {
    "duration": 0,
    "start_time": "2025-02-18T02:27:27.236Z"
   },
   {
    "duration": 0,
    "start_time": "2025-02-18T02:27:27.237Z"
   },
   {
    "duration": 0,
    "start_time": "2025-02-18T02:27:27.238Z"
   },
   {
    "duration": 13,
    "start_time": "2025-02-18T02:28:23.256Z"
   },
   {
    "duration": 2,
    "start_time": "2025-02-18T02:28:36.044Z"
   },
   {
    "duration": 11,
    "start_time": "2025-02-18T02:28:36.050Z"
   },
   {
    "duration": 68,
    "start_time": "2025-02-18T02:28:36.062Z"
   },
   {
    "duration": 38,
    "start_time": "2025-02-18T02:28:36.180Z"
   },
   {
    "duration": 56,
    "start_time": "2025-02-18T02:28:36.220Z"
   },
   {
    "duration": 7,
    "start_time": "2025-02-18T02:28:36.278Z"
   },
   {
    "duration": 8,
    "start_time": "2025-02-18T02:28:36.286Z"
   },
   {
    "duration": 9,
    "start_time": "2025-02-18T02:28:36.297Z"
   },
   {
    "duration": 10,
    "start_time": "2025-02-18T02:28:36.390Z"
   },
   {
    "duration": 4,
    "start_time": "2025-02-18T02:28:36.402Z"
   },
   {
    "duration": 4,
    "start_time": "2025-02-18T02:28:36.408Z"
   },
   {
    "duration": 11,
    "start_time": "2025-02-18T02:28:36.590Z"
   },
   {
    "duration": 5,
    "start_time": "2025-02-18T02:28:36.603Z"
   },
   {
    "duration": 5,
    "start_time": "2025-02-18T02:28:36.609Z"
   },
   {
    "duration": 15,
    "start_time": "2025-02-18T02:28:36.615Z"
   },
   {
    "duration": 24,
    "start_time": "2025-02-18T02:28:36.632Z"
   },
   {
    "duration": 25,
    "start_time": "2025-02-18T02:28:36.657Z"
   },
   {
    "duration": 10,
    "start_time": "2025-02-18T02:28:37.671Z"
   },
   {
    "duration": 12,
    "start_time": "2025-02-18T02:28:37.683Z"
   },
   {
    "duration": 18,
    "start_time": "2025-02-18T02:28:37.698Z"
   },
   {
    "duration": 11,
    "start_time": "2025-02-18T02:28:37.718Z"
   },
   {
    "duration": 11,
    "start_time": "2025-02-18T02:28:37.732Z"
   },
   {
    "duration": 14,
    "start_time": "2025-02-18T02:28:37.747Z"
   },
   {
    "duration": 21,
    "start_time": "2025-02-18T02:28:37.763Z"
   },
   {
    "duration": 25,
    "start_time": "2025-02-18T02:28:37.786Z"
   },
   {
    "duration": 9,
    "start_time": "2025-02-18T02:28:37.830Z"
   },
   {
    "duration": 9,
    "start_time": "2025-02-18T02:28:37.841Z"
   },
   {
    "duration": 5,
    "start_time": "2025-02-18T02:28:37.852Z"
   },
   {
    "duration": 8,
    "start_time": "2025-02-18T02:28:38.285Z"
   },
   {
    "duration": 9,
    "start_time": "2025-02-18T02:28:38.295Z"
   },
   {
    "duration": 6,
    "start_time": "2025-02-18T02:28:38.305Z"
   },
   {
    "duration": 6,
    "start_time": "2025-02-18T02:28:38.384Z"
   },
   {
    "duration": 5,
    "start_time": "2025-02-18T02:28:38.392Z"
   },
   {
    "duration": 8,
    "start_time": "2025-02-18T02:28:38.399Z"
   },
   {
    "duration": 9,
    "start_time": "2025-02-18T02:28:38.409Z"
   },
   {
    "duration": 6,
    "start_time": "2025-02-18T02:28:38.421Z"
   },
   {
    "duration": 13,
    "start_time": "2025-02-18T02:28:38.429Z"
   },
   {
    "duration": 7,
    "start_time": "2025-02-18T02:28:38.443Z"
   },
   {
    "duration": 10,
    "start_time": "2025-02-18T02:28:38.452Z"
   },
   {
    "duration": 10,
    "start_time": "2025-02-18T02:28:38.464Z"
   },
   {
    "duration": 7,
    "start_time": "2025-02-18T02:28:38.475Z"
   },
   {
    "duration": 11,
    "start_time": "2025-02-18T02:28:38.484Z"
   },
   {
    "duration": 41,
    "start_time": "2025-02-18T02:28:38.496Z"
   },
   {
    "duration": 10,
    "start_time": "2025-02-18T02:28:38.539Z"
   },
   {
    "duration": 3,
    "start_time": "2025-02-18T02:28:38.553Z"
   },
   {
    "duration": 3,
    "start_time": "2025-02-18T02:28:38.558Z"
   },
   {
    "duration": 21,
    "start_time": "2025-02-18T02:28:38.562Z"
   },
   {
    "duration": 51,
    "start_time": "2025-02-18T02:28:38.584Z"
   },
   {
    "duration": 14,
    "start_time": "2025-02-18T02:28:38.638Z"
   },
   {
    "duration": 16,
    "start_time": "2025-02-18T02:28:38.654Z"
   },
   {
    "duration": 17,
    "start_time": "2025-02-18T02:28:38.672Z"
   },
   {
    "duration": 40,
    "start_time": "2025-02-18T02:28:38.691Z"
   },
   {
    "duration": 55,
    "start_time": "2025-02-18T02:28:39.176Z"
   },
   {
    "duration": 42,
    "start_time": "2025-02-18T02:28:39.235Z"
   },
   {
    "duration": 384,
    "start_time": "2025-02-18T02:28:39.279Z"
   },
   {
    "duration": 67,
    "start_time": "2025-02-18T02:28:39.665Z"
   },
   {
    "duration": 0,
    "start_time": "2025-02-18T02:28:39.734Z"
   },
   {
    "duration": 43,
    "start_time": "2025-02-18T02:28:39.760Z"
   },
   {
    "duration": 0,
    "start_time": "2025-02-18T02:28:39.805Z"
   },
   {
    "duration": 0,
    "start_time": "2025-02-18T02:28:39.806Z"
   },
   {
    "duration": 18,
    "start_time": "2025-02-18T02:28:40.015Z"
   },
   {
    "duration": 0,
    "start_time": "2025-02-18T02:28:40.035Z"
   },
   {
    "duration": 0,
    "start_time": "2025-02-18T02:28:40.037Z"
   },
   {
    "duration": 14,
    "start_time": "2025-02-18T02:28:45.727Z"
   },
   {
    "duration": 34,
    "start_time": "2025-02-18T02:29:08.380Z"
   },
   {
    "duration": 320,
    "start_time": "2025-02-18T02:29:11.741Z"
   },
   {
    "duration": 18,
    "start_time": "2025-02-18T02:29:15.964Z"
   },
   {
    "duration": 231,
    "start_time": "2025-02-18T02:29:18.821Z"
   },
   {
    "duration": 22,
    "start_time": "2025-02-18T02:29:22.286Z"
   },
   {
    "duration": 294,
    "start_time": "2025-02-18T02:29:25.760Z"
   },
   {
    "duration": 37,
    "start_time": "2025-02-18T02:29:29.779Z"
   },
   {
    "duration": 100,
    "start_time": "2025-02-18T02:29:33.191Z"
   },
   {
    "duration": 819,
    "start_time": "2025-02-18T02:35:24.562Z"
   },
   {
    "duration": 12,
    "start_time": "2025-02-18T02:35:25.385Z"
   },
   {
    "duration": 91,
    "start_time": "2025-02-18T02:35:25.399Z"
   },
   {
    "duration": 49,
    "start_time": "2025-02-18T02:35:25.493Z"
   },
   {
    "duration": 80,
    "start_time": "2025-02-18T02:35:25.544Z"
   },
   {
    "duration": 8,
    "start_time": "2025-02-18T02:35:25.626Z"
   },
   {
    "duration": 8,
    "start_time": "2025-02-18T02:35:25.636Z"
   },
   {
    "duration": 9,
    "start_time": "2025-02-18T02:35:25.646Z"
   },
   {
    "duration": 10,
    "start_time": "2025-02-18T02:35:25.656Z"
   },
   {
    "duration": 4,
    "start_time": "2025-02-18T02:35:25.670Z"
   },
   {
    "duration": 4,
    "start_time": "2025-02-18T02:35:25.676Z"
   },
   {
    "duration": 9,
    "start_time": "2025-02-18T02:35:25.682Z"
   },
   {
    "duration": 42,
    "start_time": "2025-02-18T02:35:25.692Z"
   },
   {
    "duration": 5,
    "start_time": "2025-02-18T02:35:25.736Z"
   },
   {
    "duration": 15,
    "start_time": "2025-02-18T02:35:25.742Z"
   },
   {
    "duration": 25,
    "start_time": "2025-02-18T02:35:25.758Z"
   },
   {
    "duration": 46,
    "start_time": "2025-02-18T02:35:25.785Z"
   },
   {
    "duration": 8,
    "start_time": "2025-02-18T02:35:25.833Z"
   },
   {
    "duration": 12,
    "start_time": "2025-02-18T02:35:25.842Z"
   },
   {
    "duration": 17,
    "start_time": "2025-02-18T02:35:25.856Z"
   },
   {
    "duration": 11,
    "start_time": "2025-02-18T02:35:25.875Z"
   },
   {
    "duration": 8,
    "start_time": "2025-02-18T02:35:25.888Z"
   },
   {
    "duration": 48,
    "start_time": "2025-02-18T02:35:25.897Z"
   },
   {
    "duration": 26,
    "start_time": "2025-02-18T02:35:25.947Z"
   },
   {
    "duration": 55,
    "start_time": "2025-02-18T02:35:25.976Z"
   },
   {
    "duration": 10,
    "start_time": "2025-02-18T02:35:26.033Z"
   },
   {
    "duration": 8,
    "start_time": "2025-02-18T02:35:26.045Z"
   },
   {
    "duration": 4,
    "start_time": "2025-02-18T02:35:26.058Z"
   },
   {
    "duration": 8,
    "start_time": "2025-02-18T02:35:26.064Z"
   },
   {
    "duration": 8,
    "start_time": "2025-02-18T02:35:26.073Z"
   },
   {
    "duration": 6,
    "start_time": "2025-02-18T02:35:26.083Z"
   },
   {
    "duration": 48,
    "start_time": "2025-02-18T02:35:26.091Z"
   },
   {
    "duration": 5,
    "start_time": "2025-02-18T02:35:26.141Z"
   },
   {
    "duration": 9,
    "start_time": "2025-02-18T02:35:26.148Z"
   },
   {
    "duration": 19,
    "start_time": "2025-02-18T02:35:26.159Z"
   },
   {
    "duration": 8,
    "start_time": "2025-02-18T02:35:26.182Z"
   },
   {
    "duration": 14,
    "start_time": "2025-02-18T02:35:26.192Z"
   },
   {
    "duration": 31,
    "start_time": "2025-02-18T02:35:26.207Z"
   },
   {
    "duration": 12,
    "start_time": "2025-02-18T02:35:26.240Z"
   },
   {
    "duration": 11,
    "start_time": "2025-02-18T02:35:26.253Z"
   },
   {
    "duration": 5,
    "start_time": "2025-02-18T02:35:26.266Z"
   },
   {
    "duration": 12,
    "start_time": "2025-02-18T02:35:26.273Z"
   },
   {
    "duration": 7,
    "start_time": "2025-02-18T02:35:26.288Z"
   },
   {
    "duration": 10,
    "start_time": "2025-02-18T02:35:26.331Z"
   },
   {
    "duration": 3,
    "start_time": "2025-02-18T02:35:26.343Z"
   },
   {
    "duration": 4,
    "start_time": "2025-02-18T02:35:26.348Z"
   },
   {
    "duration": 23,
    "start_time": "2025-02-18T02:35:26.353Z"
   },
   {
    "duration": 20,
    "start_time": "2025-02-18T02:35:26.379Z"
   },
   {
    "duration": 14,
    "start_time": "2025-02-18T02:35:26.431Z"
   },
   {
    "duration": 17,
    "start_time": "2025-02-18T02:35:26.446Z"
   },
   {
    "duration": 17,
    "start_time": "2025-02-18T02:35:26.464Z"
   },
   {
    "duration": 11,
    "start_time": "2025-02-18T02:35:26.483Z"
   },
   {
    "duration": 77,
    "start_time": "2025-02-18T02:35:26.496Z"
   },
   {
    "duration": 40,
    "start_time": "2025-02-18T02:35:26.575Z"
   },
   {
    "duration": 342,
    "start_time": "2025-02-18T02:35:26.617Z"
   },
   {
    "duration": 591,
    "start_time": "2025-02-18T02:35:26.961Z"
   },
   {
    "duration": 0,
    "start_time": "2025-02-18T02:35:27.554Z"
   },
   {
    "duration": 0,
    "start_time": "2025-02-18T02:35:27.556Z"
   },
   {
    "duration": 0,
    "start_time": "2025-02-18T02:35:27.557Z"
   },
   {
    "duration": 0,
    "start_time": "2025-02-18T02:35:27.559Z"
   },
   {
    "duration": 0,
    "start_time": "2025-02-18T02:35:27.560Z"
   },
   {
    "duration": 0,
    "start_time": "2025-02-18T02:35:27.562Z"
   },
   {
    "duration": 0,
    "start_time": "2025-02-18T02:35:27.564Z"
   },
   {
    "duration": 17,
    "start_time": "2025-02-18T02:35:38.278Z"
   },
   {
    "duration": 37,
    "start_time": "2025-02-18T02:35:45.784Z"
   },
   {
    "duration": 103,
    "start_time": "2025-02-18T02:35:49.653Z"
   },
   {
    "duration": 100,
    "start_time": "2025-02-18T02:36:00.602Z"
   },
   {
    "duration": 19,
    "start_time": "2025-02-18T02:36:18.647Z"
   },
   {
    "duration": 22,
    "start_time": "2025-02-18T02:36:23.672Z"
   },
   {
    "duration": 327,
    "start_time": "2025-02-18T02:36:27.118Z"
   },
   {
    "duration": 17,
    "start_time": "2025-02-18T02:36:33.538Z"
   },
   {
    "duration": 16,
    "start_time": "2025-02-18T02:36:36.951Z"
   },
   {
    "duration": 41,
    "start_time": "2025-02-18T02:36:40.088Z"
   },
   {
    "duration": 38,
    "start_time": "2025-02-18T02:36:46.604Z"
   },
   {
    "duration": 334,
    "start_time": "2025-02-18T02:36:50.287Z"
   },
   {
    "duration": 17,
    "start_time": "2025-02-18T02:36:55.200Z"
   },
   {
    "duration": 185,
    "start_time": "2025-02-18T02:36:57.969Z"
   },
   {
    "duration": 177,
    "start_time": "2025-02-18T02:38:51.641Z"
   },
   {
    "duration": 835,
    "start_time": "2025-02-18T02:39:14.538Z"
   },
   {
    "duration": 17,
    "start_time": "2025-02-18T02:39:15.379Z"
   },
   {
    "duration": 94,
    "start_time": "2025-02-18T02:39:15.398Z"
   },
   {
    "duration": 47,
    "start_time": "2025-02-18T02:39:15.494Z"
   },
   {
    "duration": 83,
    "start_time": "2025-02-18T02:39:15.542Z"
   },
   {
    "duration": 8,
    "start_time": "2025-02-18T02:39:15.628Z"
   },
   {
    "duration": 9,
    "start_time": "2025-02-18T02:39:15.637Z"
   },
   {
    "duration": 10,
    "start_time": "2025-02-18T02:39:15.647Z"
   },
   {
    "duration": 9,
    "start_time": "2025-02-18T02:39:15.658Z"
   },
   {
    "duration": 4,
    "start_time": "2025-02-18T02:39:15.670Z"
   },
   {
    "duration": 4,
    "start_time": "2025-02-18T02:39:15.675Z"
   },
   {
    "duration": 10,
    "start_time": "2025-02-18T02:39:15.681Z"
   },
   {
    "duration": 41,
    "start_time": "2025-02-18T02:39:15.692Z"
   },
   {
    "duration": 5,
    "start_time": "2025-02-18T02:39:15.736Z"
   },
   {
    "duration": 15,
    "start_time": "2025-02-18T02:39:15.744Z"
   },
   {
    "duration": 26,
    "start_time": "2025-02-18T02:39:15.760Z"
   },
   {
    "duration": 52,
    "start_time": "2025-02-18T02:39:15.788Z"
   },
   {
    "duration": 8,
    "start_time": "2025-02-18T02:39:15.842Z"
   },
   {
    "duration": 12,
    "start_time": "2025-02-18T02:39:15.852Z"
   },
   {
    "duration": 18,
    "start_time": "2025-02-18T02:39:15.866Z"
   },
   {
    "duration": 12,
    "start_time": "2025-02-18T02:39:15.885Z"
   },
   {
    "duration": 39,
    "start_time": "2025-02-18T02:39:15.899Z"
   },
   {
    "duration": 14,
    "start_time": "2025-02-18T02:39:15.940Z"
   },
   {
    "duration": 19,
    "start_time": "2025-02-18T02:39:15.955Z"
   },
   {
    "duration": 29,
    "start_time": "2025-02-18T02:39:15.976Z"
   },
   {
    "duration": 10,
    "start_time": "2025-02-18T02:39:16.030Z"
   },
   {
    "duration": 8,
    "start_time": "2025-02-18T02:39:16.041Z"
   },
   {
    "duration": 3,
    "start_time": "2025-02-18T02:39:16.056Z"
   },
   {
    "duration": 9,
    "start_time": "2025-02-18T02:39:16.061Z"
   },
   {
    "duration": 9,
    "start_time": "2025-02-18T02:39:16.072Z"
   },
   {
    "duration": 5,
    "start_time": "2025-02-18T02:39:16.083Z"
   },
   {
    "duration": 49,
    "start_time": "2025-02-18T02:39:16.090Z"
   },
   {
    "duration": 6,
    "start_time": "2025-02-18T02:39:16.140Z"
   },
   {
    "duration": 11,
    "start_time": "2025-02-18T02:39:16.148Z"
   },
   {
    "duration": 9,
    "start_time": "2025-02-18T02:39:16.161Z"
   },
   {
    "duration": 7,
    "start_time": "2025-02-18T02:39:16.172Z"
   },
   {
    "duration": 12,
    "start_time": "2025-02-18T02:39:16.181Z"
   },
   {
    "duration": 44,
    "start_time": "2025-02-18T02:39:16.194Z"
   },
   {
    "duration": 10,
    "start_time": "2025-02-18T02:39:16.240Z"
   },
   {
    "duration": 11,
    "start_time": "2025-02-18T02:39:16.252Z"
   },
   {
    "duration": 5,
    "start_time": "2025-02-18T02:39:16.265Z"
   },
   {
    "duration": 10,
    "start_time": "2025-02-18T02:39:16.272Z"
   },
   {
    "duration": 7,
    "start_time": "2025-02-18T02:39:16.284Z"
   },
   {
    "duration": 42,
    "start_time": "2025-02-18T02:39:16.292Z"
   },
   {
    "duration": 3,
    "start_time": "2025-02-18T02:39:16.336Z"
   },
   {
    "duration": 3,
    "start_time": "2025-02-18T02:39:16.341Z"
   },
   {
    "duration": 21,
    "start_time": "2025-02-18T02:39:16.346Z"
   },
   {
    "duration": 20,
    "start_time": "2025-02-18T02:39:16.368Z"
   },
   {
    "duration": 47,
    "start_time": "2025-02-18T02:39:16.390Z"
   },
   {
    "duration": 18,
    "start_time": "2025-02-18T02:39:16.441Z"
   },
   {
    "duration": 18,
    "start_time": "2025-02-18T02:39:16.461Z"
   },
   {
    "duration": 11,
    "start_time": "2025-02-18T02:39:16.480Z"
   },
   {
    "duration": 72,
    "start_time": "2025-02-18T02:39:16.493Z"
   },
   {
    "duration": 44,
    "start_time": "2025-02-18T02:39:16.567Z"
   },
   {
    "duration": 344,
    "start_time": "2025-02-18T02:39:16.613Z"
   },
   {
    "duration": 573,
    "start_time": "2025-02-18T02:39:16.959Z"
   },
   {
    "duration": 0,
    "start_time": "2025-02-18T02:39:17.534Z"
   },
   {
    "duration": 0,
    "start_time": "2025-02-18T02:39:17.537Z"
   },
   {
    "duration": 0,
    "start_time": "2025-02-18T02:39:17.538Z"
   },
   {
    "duration": 0,
    "start_time": "2025-02-18T02:39:17.539Z"
   },
   {
    "duration": 0,
    "start_time": "2025-02-18T02:39:17.540Z"
   },
   {
    "duration": 0,
    "start_time": "2025-02-18T02:39:17.541Z"
   },
   {
    "duration": 0,
    "start_time": "2025-02-18T02:39:17.542Z"
   },
   {
    "duration": 0,
    "start_time": "2025-02-18T02:39:17.543Z"
   },
   {
    "duration": 0,
    "start_time": "2025-02-18T02:39:17.545Z"
   },
   {
    "duration": 13,
    "start_time": "2025-02-18T02:39:24.784Z"
   },
   {
    "duration": 35,
    "start_time": "2025-02-18T02:39:39.153Z"
   },
   {
    "duration": 415,
    "start_time": "2025-02-18T02:39:42.340Z"
   },
   {
    "duration": 16,
    "start_time": "2025-02-18T02:39:46.213Z"
   },
   {
    "duration": 173,
    "start_time": "2025-02-18T02:39:48.999Z"
   },
   {
    "duration": 23,
    "start_time": "2025-02-18T02:39:52.352Z"
   },
   {
    "duration": 304,
    "start_time": "2025-02-18T02:39:55.978Z"
   },
   {
    "duration": 37,
    "start_time": "2025-02-18T02:39:59.423Z"
   },
   {
    "duration": 97,
    "start_time": "2025-02-18T02:40:02.240Z"
   },
   {
    "duration": 809,
    "start_time": "2025-02-18T02:43:52.870Z"
   },
   {
    "duration": 13,
    "start_time": "2025-02-18T02:43:53.682Z"
   },
   {
    "duration": 92,
    "start_time": "2025-02-18T02:43:53.697Z"
   },
   {
    "duration": 46,
    "start_time": "2025-02-18T02:43:53.791Z"
   },
   {
    "duration": 79,
    "start_time": "2025-02-18T02:43:53.839Z"
   },
   {
    "duration": 9,
    "start_time": "2025-02-18T02:43:53.920Z"
   },
   {
    "duration": 9,
    "start_time": "2025-02-18T02:43:53.930Z"
   },
   {
    "duration": 9,
    "start_time": "2025-02-18T02:43:53.941Z"
   },
   {
    "duration": 9,
    "start_time": "2025-02-18T02:43:53.952Z"
   },
   {
    "duration": 4,
    "start_time": "2025-02-18T02:43:53.964Z"
   },
   {
    "duration": 4,
    "start_time": "2025-02-18T02:43:53.969Z"
   },
   {
    "duration": 10,
    "start_time": "2025-02-18T02:43:53.975Z"
   },
   {
    "duration": 45,
    "start_time": "2025-02-18T02:43:53.987Z"
   },
   {
    "duration": 4,
    "start_time": "2025-02-18T02:43:54.035Z"
   },
   {
    "duration": 14,
    "start_time": "2025-02-18T02:43:54.041Z"
   },
   {
    "duration": 26,
    "start_time": "2025-02-18T02:43:54.057Z"
   },
   {
    "duration": 46,
    "start_time": "2025-02-18T02:43:54.085Z"
   },
   {
    "duration": 9,
    "start_time": "2025-02-18T02:43:54.133Z"
   },
   {
    "duration": 11,
    "start_time": "2025-02-18T02:43:54.143Z"
   },
   {
    "duration": 16,
    "start_time": "2025-02-18T02:43:54.156Z"
   },
   {
    "duration": 12,
    "start_time": "2025-02-18T02:43:54.174Z"
   },
   {
    "duration": 9,
    "start_time": "2025-02-18T02:43:54.187Z"
   },
   {
    "duration": 46,
    "start_time": "2025-02-18T02:43:54.197Z"
   },
   {
    "duration": 20,
    "start_time": "2025-02-18T02:43:54.245Z"
   },
   {
    "duration": 29,
    "start_time": "2025-02-18T02:43:54.267Z"
   },
   {
    "duration": 9,
    "start_time": "2025-02-18T02:43:54.298Z"
   },
   {
    "duration": 8,
    "start_time": "2025-02-18T02:43:54.332Z"
   },
   {
    "duration": 4,
    "start_time": "2025-02-18T02:43:54.345Z"
   },
   {
    "duration": 8,
    "start_time": "2025-02-18T02:43:54.350Z"
   },
   {
    "duration": 8,
    "start_time": "2025-02-18T02:43:54.361Z"
   },
   {
    "duration": 5,
    "start_time": "2025-02-18T02:43:54.370Z"
   },
   {
    "duration": 6,
    "start_time": "2025-02-18T02:43:54.377Z"
   },
   {
    "duration": 5,
    "start_time": "2025-02-18T02:43:54.385Z"
   },
   {
    "duration": 48,
    "start_time": "2025-02-18T02:43:54.391Z"
   },
   {
    "duration": 9,
    "start_time": "2025-02-18T02:43:54.441Z"
   },
   {
    "duration": 5,
    "start_time": "2025-02-18T02:43:54.452Z"
   },
   {
    "duration": 12,
    "start_time": "2025-02-18T02:43:54.459Z"
   },
   {
    "duration": 7,
    "start_time": "2025-02-18T02:43:54.473Z"
   },
   {
    "duration": 10,
    "start_time": "2025-02-18T02:43:54.482Z"
   },
   {
    "duration": 43,
    "start_time": "2025-02-18T02:43:54.494Z"
   },
   {
    "duration": 7,
    "start_time": "2025-02-18T02:43:54.541Z"
   },
   {
    "duration": 15,
    "start_time": "2025-02-18T02:43:54.552Z"
   },
   {
    "duration": 7,
    "start_time": "2025-02-18T02:43:54.570Z"
   },
   {
    "duration": 12,
    "start_time": "2025-02-18T02:43:54.578Z"
   },
   {
    "duration": 3,
    "start_time": "2025-02-18T02:43:54.592Z"
   },
   {
    "duration": 36,
    "start_time": "2025-02-18T02:43:54.597Z"
   },
   {
    "duration": 21,
    "start_time": "2025-02-18T02:43:54.635Z"
   },
   {
    "duration": 21,
    "start_time": "2025-02-18T02:43:54.658Z"
   },
   {
    "duration": 13,
    "start_time": "2025-02-18T02:43:54.681Z"
   },
   {
    "duration": 42,
    "start_time": "2025-02-18T02:43:54.696Z"
   },
   {
    "duration": 16,
    "start_time": "2025-02-18T02:43:54.740Z"
   },
   {
    "duration": 10,
    "start_time": "2025-02-18T02:43:54.758Z"
   },
   {
    "duration": 67,
    "start_time": "2025-02-18T02:43:54.770Z"
   },
   {
    "duration": 38,
    "start_time": "2025-02-18T02:43:54.840Z"
   },
   {
    "duration": 366,
    "start_time": "2025-02-18T02:43:54.879Z"
   },
   {
    "duration": 571,
    "start_time": "2025-02-18T02:43:55.247Z"
   },
   {
    "duration": 0,
    "start_time": "2025-02-18T02:43:55.820Z"
   },
   {
    "duration": 0,
    "start_time": "2025-02-18T02:43:55.822Z"
   },
   {
    "duration": 0,
    "start_time": "2025-02-18T02:43:55.823Z"
   },
   {
    "duration": 0,
    "start_time": "2025-02-18T02:43:55.831Z"
   },
   {
    "duration": 0,
    "start_time": "2025-02-18T02:43:55.833Z"
   },
   {
    "duration": 0,
    "start_time": "2025-02-18T02:43:55.834Z"
   },
   {
    "duration": 0,
    "start_time": "2025-02-18T02:43:55.835Z"
   },
   {
    "duration": 0,
    "start_time": "2025-02-18T02:43:55.836Z"
   },
   {
    "duration": 0,
    "start_time": "2025-02-18T02:43:55.837Z"
   },
   {
    "duration": 34,
    "start_time": "2025-02-18T02:44:10.822Z"
   },
   {
    "duration": 369,
    "start_time": "2025-02-18T02:44:14.182Z"
   },
   {
    "duration": 20,
    "start_time": "2025-02-18T02:44:18.116Z"
   },
   {
    "duration": 183,
    "start_time": "2025-02-18T02:44:21.881Z"
   },
   {
    "duration": 22,
    "start_time": "2025-02-18T02:44:25.243Z"
   },
   {
    "duration": 330,
    "start_time": "2025-02-18T02:44:28.185Z"
   },
   {
    "duration": 36,
    "start_time": "2025-02-18T02:44:32.581Z"
   },
   {
    "duration": 106,
    "start_time": "2025-02-18T02:44:35.498Z"
   },
   {
    "duration": 2710,
    "start_time": "2025-02-18T04:13:32.822Z"
   },
   {
    "duration": 20,
    "start_time": "2025-02-18T04:13:35.534Z"
   },
   {
    "duration": 109,
    "start_time": "2025-02-18T04:13:35.570Z"
   },
   {
    "duration": 51,
    "start_time": "2025-02-18T04:13:35.682Z"
   },
   {
    "duration": 99,
    "start_time": "2025-02-18T04:13:35.735Z"
   },
   {
    "duration": 36,
    "start_time": "2025-02-18T04:13:35.837Z"
   },
   {
    "duration": 9,
    "start_time": "2025-02-18T04:13:35.875Z"
   },
   {
    "duration": 9,
    "start_time": "2025-02-18T04:13:35.886Z"
   },
   {
    "duration": 9,
    "start_time": "2025-02-18T04:13:35.897Z"
   },
   {
    "duration": 4,
    "start_time": "2025-02-18T04:13:35.909Z"
   },
   {
    "duration": 3,
    "start_time": "2025-02-18T04:13:35.915Z"
   },
   {
    "duration": 8,
    "start_time": "2025-02-18T04:13:35.920Z"
   },
   {
    "duration": 16,
    "start_time": "2025-02-18T04:13:35.930Z"
   },
   {
    "duration": 14,
    "start_time": "2025-02-18T04:13:35.950Z"
   },
   {
    "duration": 17,
    "start_time": "2025-02-18T04:13:35.965Z"
   },
   {
    "duration": 25,
    "start_time": "2025-02-18T04:13:35.983Z"
   },
   {
    "duration": 52,
    "start_time": "2025-02-18T04:13:36.010Z"
   },
   {
    "duration": 9,
    "start_time": "2025-02-18T04:13:36.071Z"
   },
   {
    "duration": 13,
    "start_time": "2025-02-18T04:13:36.082Z"
   },
   {
    "duration": 17,
    "start_time": "2025-02-18T04:13:36.096Z"
   },
   {
    "duration": 11,
    "start_time": "2025-02-18T04:13:36.115Z"
   },
   {
    "duration": 35,
    "start_time": "2025-02-18T04:13:36.127Z"
   },
   {
    "duration": 17,
    "start_time": "2025-02-18T04:13:36.167Z"
   },
   {
    "duration": 27,
    "start_time": "2025-02-18T04:13:36.186Z"
   },
   {
    "duration": 55,
    "start_time": "2025-02-18T04:13:36.215Z"
   },
   {
    "duration": 8,
    "start_time": "2025-02-18T04:13:36.272Z"
   },
   {
    "duration": 8,
    "start_time": "2025-02-18T04:13:36.282Z"
   },
   {
    "duration": 3,
    "start_time": "2025-02-18T04:13:36.296Z"
   },
   {
    "duration": 8,
    "start_time": "2025-02-18T04:13:36.301Z"
   },
   {
    "duration": 8,
    "start_time": "2025-02-18T04:13:36.310Z"
   },
   {
    "duration": 38,
    "start_time": "2025-02-18T04:13:36.320Z"
   },
   {
    "duration": 8,
    "start_time": "2025-02-18T04:13:36.367Z"
   },
   {
    "duration": 6,
    "start_time": "2025-02-18T04:13:36.376Z"
   },
   {
    "duration": 8,
    "start_time": "2025-02-18T04:13:36.384Z"
   },
   {
    "duration": 8,
    "start_time": "2025-02-18T04:13:36.394Z"
   },
   {
    "duration": 6,
    "start_time": "2025-02-18T04:13:36.404Z"
   },
   {
    "duration": 11,
    "start_time": "2025-02-18T04:13:36.412Z"
   },
   {
    "duration": 45,
    "start_time": "2025-02-18T04:13:36.425Z"
   },
   {
    "duration": 11,
    "start_time": "2025-02-18T04:13:36.473Z"
   },
   {
    "duration": 11,
    "start_time": "2025-02-18T04:13:36.486Z"
   },
   {
    "duration": 5,
    "start_time": "2025-02-18T04:13:36.499Z"
   },
   {
    "duration": 11,
    "start_time": "2025-02-18T04:13:36.505Z"
   },
   {
    "duration": 6,
    "start_time": "2025-02-18T04:13:36.517Z"
   },
   {
    "duration": 37,
    "start_time": "2025-02-18T04:13:36.525Z"
   },
   {
    "duration": 5,
    "start_time": "2025-02-18T04:13:36.569Z"
   },
   {
    "duration": 3,
    "start_time": "2025-02-18T04:13:36.576Z"
   },
   {
    "duration": 20,
    "start_time": "2025-02-18T04:13:36.581Z"
   },
   {
    "duration": 20,
    "start_time": "2025-02-18T04:13:36.603Z"
   },
   {
    "duration": 37,
    "start_time": "2025-02-18T04:13:36.625Z"
   },
   {
    "duration": 17,
    "start_time": "2025-02-18T04:13:36.667Z"
   },
   {
    "duration": 16,
    "start_time": "2025-02-18T04:13:36.686Z"
   },
   {
    "duration": 11,
    "start_time": "2025-02-18T04:13:36.703Z"
   },
   {
    "duration": 70,
    "start_time": "2025-02-18T04:13:36.715Z"
   },
   {
    "duration": 38,
    "start_time": "2025-02-18T04:13:36.787Z"
   },
   {
    "duration": 379,
    "start_time": "2025-02-18T04:13:36.827Z"
   },
   {
    "duration": 614,
    "start_time": "2025-02-18T04:13:37.208Z"
   },
   {
    "duration": 0,
    "start_time": "2025-02-18T04:13:37.824Z"
   },
   {
    "duration": 0,
    "start_time": "2025-02-18T04:13:37.825Z"
   },
   {
    "duration": 0,
    "start_time": "2025-02-18T04:13:37.826Z"
   },
   {
    "duration": 0,
    "start_time": "2025-02-18T04:13:37.828Z"
   },
   {
    "duration": 0,
    "start_time": "2025-02-18T04:13:37.829Z"
   },
   {
    "duration": 0,
    "start_time": "2025-02-18T04:13:37.830Z"
   },
   {
    "duration": 54,
    "start_time": "2025-02-18T04:13:46.637Z"
   },
   {
    "duration": 341,
    "start_time": "2025-02-18T04:13:49.813Z"
   },
   {
    "duration": 18,
    "start_time": "2025-02-18T04:13:54.480Z"
   },
   {
    "duration": 232,
    "start_time": "2025-02-18T04:13:57.422Z"
   },
   {
    "duration": 25,
    "start_time": "2025-02-18T04:14:01.170Z"
   },
   {
    "duration": 446,
    "start_time": "2025-02-18T04:14:04.404Z"
   },
   {
    "duration": 40,
    "start_time": "2025-02-18T04:14:08.467Z"
   },
   {
    "duration": 115,
    "start_time": "2025-02-18T04:15:00.467Z"
   },
   {
    "duration": 742,
    "start_time": "2025-02-18T04:16:38.533Z"
   },
   {
    "duration": 12,
    "start_time": "2025-02-18T04:16:39.278Z"
   },
   {
    "duration": 110,
    "start_time": "2025-02-18T04:16:39.292Z"
   },
   {
    "duration": 50,
    "start_time": "2025-02-18T04:16:39.404Z"
   },
   {
    "duration": 95,
    "start_time": "2025-02-18T04:16:39.471Z"
   },
   {
    "duration": 8,
    "start_time": "2025-02-18T04:16:39.572Z"
   },
   {
    "duration": 9,
    "start_time": "2025-02-18T04:16:39.582Z"
   },
   {
    "duration": 10,
    "start_time": "2025-02-18T04:16:39.592Z"
   },
   {
    "duration": 9,
    "start_time": "2025-02-18T04:16:39.604Z"
   },
   {
    "duration": 4,
    "start_time": "2025-02-18T04:16:39.616Z"
   },
   {
    "duration": 4,
    "start_time": "2025-02-18T04:16:39.622Z"
   },
   {
    "duration": 30,
    "start_time": "2025-02-18T04:16:39.649Z"
   },
   {
    "duration": 5,
    "start_time": "2025-02-18T04:16:39.681Z"
   },
   {
    "duration": 6,
    "start_time": "2025-02-18T04:16:39.688Z"
   },
   {
    "duration": 19,
    "start_time": "2025-02-18T04:16:39.695Z"
   },
   {
    "duration": 53,
    "start_time": "2025-02-18T04:16:39.717Z"
   },
   {
    "duration": 26,
    "start_time": "2025-02-18T04:16:39.772Z"
   },
   {
    "duration": 8,
    "start_time": "2025-02-18T04:16:39.800Z"
   },
   {
    "duration": 11,
    "start_time": "2025-02-18T04:16:39.810Z"
   },
   {
    "duration": 45,
    "start_time": "2025-02-18T04:16:39.823Z"
   },
   {
    "duration": 11,
    "start_time": "2025-02-18T04:16:39.872Z"
   },
   {
    "duration": 9,
    "start_time": "2025-02-18T04:16:39.885Z"
   },
   {
    "duration": 14,
    "start_time": "2025-02-18T04:16:39.895Z"
   },
   {
    "duration": 20,
    "start_time": "2025-02-18T04:16:39.910Z"
   },
   {
    "duration": 63,
    "start_time": "2025-02-18T04:16:39.931Z"
   },
   {
    "duration": 8,
    "start_time": "2025-02-18T04:16:39.997Z"
   },
   {
    "duration": 8,
    "start_time": "2025-02-18T04:16:40.007Z"
   },
   {
    "duration": 3,
    "start_time": "2025-02-18T04:16:40.020Z"
   },
   {
    "duration": 44,
    "start_time": "2025-02-18T04:16:40.026Z"
   },
   {
    "duration": 8,
    "start_time": "2025-02-18T04:16:40.073Z"
   },
   {
    "duration": 6,
    "start_time": "2025-02-18T04:16:40.082Z"
   },
   {
    "duration": 8,
    "start_time": "2025-02-18T04:16:40.089Z"
   },
   {
    "duration": 6,
    "start_time": "2025-02-18T04:16:40.099Z"
   },
   {
    "duration": 8,
    "start_time": "2025-02-18T04:16:40.106Z"
   },
   {
    "duration": 9,
    "start_time": "2025-02-18T04:16:40.116Z"
   },
   {
    "duration": 35,
    "start_time": "2025-02-18T04:16:40.127Z"
   },
   {
    "duration": 14,
    "start_time": "2025-02-18T04:16:40.168Z"
   },
   {
    "duration": 7,
    "start_time": "2025-02-18T04:16:40.183Z"
   },
   {
    "duration": 9,
    "start_time": "2025-02-18T04:16:40.192Z"
   },
   {
    "duration": 9,
    "start_time": "2025-02-18T04:16:40.203Z"
   },
   {
    "duration": 6,
    "start_time": "2025-02-18T04:16:40.213Z"
   },
   {
    "duration": 46,
    "start_time": "2025-02-18T04:16:40.220Z"
   },
   {
    "duration": 8,
    "start_time": "2025-02-18T04:16:40.271Z"
   },
   {
    "duration": 9,
    "start_time": "2025-02-18T04:16:40.281Z"
   },
   {
    "duration": 3,
    "start_time": "2025-02-18T04:16:40.292Z"
   },
   {
    "duration": 4,
    "start_time": "2025-02-18T04:16:40.297Z"
   },
   {
    "duration": 19,
    "start_time": "2025-02-18T04:16:40.302Z"
   },
   {
    "duration": 31,
    "start_time": "2025-02-18T04:16:40.323Z"
   },
   {
    "duration": 21,
    "start_time": "2025-02-18T04:16:40.355Z"
   },
   {
    "duration": 16,
    "start_time": "2025-02-18T04:16:40.377Z"
   },
   {
    "duration": 15,
    "start_time": "2025-02-18T04:16:40.395Z"
   },
   {
    "duration": 38,
    "start_time": "2025-02-18T04:16:40.412Z"
   },
   {
    "duration": 59,
    "start_time": "2025-02-18T04:16:40.452Z"
   },
   {
    "duration": 61,
    "start_time": "2025-02-18T04:16:40.513Z"
   },
   {
    "duration": 341,
    "start_time": "2025-02-18T04:16:40.576Z"
   },
   {
    "duration": 647,
    "start_time": "2025-02-18T04:16:40.919Z"
   },
   {
    "duration": 0,
    "start_time": "2025-02-18T04:16:41.568Z"
   },
   {
    "duration": 0,
    "start_time": "2025-02-18T04:16:41.569Z"
   },
   {
    "duration": 0,
    "start_time": "2025-02-18T04:16:41.570Z"
   },
   {
    "duration": 0,
    "start_time": "2025-02-18T04:16:41.571Z"
   },
   {
    "duration": 0,
    "start_time": "2025-02-18T04:16:41.572Z"
   },
   {
    "duration": 0,
    "start_time": "2025-02-18T04:16:41.573Z"
   },
   {
    "duration": 0,
    "start_time": "2025-02-18T04:16:41.574Z"
   },
   {
    "duration": 48,
    "start_time": "2025-02-18T04:16:52.010Z"
   },
   {
    "duration": 426,
    "start_time": "2025-02-18T04:16:54.867Z"
   },
   {
    "duration": 20,
    "start_time": "2025-02-18T04:16:59.463Z"
   },
   {
    "duration": 210,
    "start_time": "2025-02-18T04:17:01.783Z"
   },
   {
    "duration": 21,
    "start_time": "2025-02-18T04:17:08.375Z"
   },
   {
    "duration": 307,
    "start_time": "2025-02-18T04:17:11.268Z"
   },
   {
    "duration": 48,
    "start_time": "2025-02-18T04:17:14.918Z"
   },
   {
    "duration": 127,
    "start_time": "2025-02-18T04:17:18.255Z"
   },
   {
    "duration": 95,
    "start_time": "2025-02-18T04:30:43.680Z"
   },
   {
    "duration": 4,
    "start_time": "2025-02-18T04:30:52.074Z"
   },
   {
    "duration": 229,
    "start_time": "2025-02-18T04:31:05.745Z"
   },
   {
    "duration": 3,
    "start_time": "2025-02-18T04:31:18.764Z"
   },
   {
    "duration": 55,
    "start_time": "2025-02-18T04:31:24.229Z"
   },
   {
    "duration": 52,
    "start_time": "2025-02-18T04:31:52.165Z"
   },
   {
    "duration": 24,
    "start_time": "2025-02-18T04:31:56.531Z"
   },
   {
    "duration": 28,
    "start_time": "2025-02-18T04:32:23.001Z"
   },
   {
    "duration": 18,
    "start_time": "2025-02-18T04:32:50.783Z"
   },
   {
    "duration": 44,
    "start_time": "2025-02-18T04:33:17.485Z"
   },
   {
    "duration": 43,
    "start_time": "2025-02-18T04:33:24.034Z"
   },
   {
    "duration": 4,
    "start_time": "2025-02-18T04:33:37.479Z"
   },
   {
    "duration": 42,
    "start_time": "2025-02-18T04:34:03.870Z"
   },
   {
    "duration": 42,
    "start_time": "2025-02-18T04:34:09.448Z"
   },
   {
    "duration": 5,
    "start_time": "2025-02-18T04:34:17.417Z"
   },
   {
    "duration": 40,
    "start_time": "2025-02-18T04:34:20.566Z"
   },
   {
    "duration": 45,
    "start_time": "2025-02-18T04:34:52.918Z"
   },
   {
    "duration": 40,
    "start_time": "2025-02-18T04:36:52.467Z"
   },
   {
    "duration": 2,
    "start_time": "2025-02-18T04:37:06.500Z"
   },
   {
    "duration": 12,
    "start_time": "2025-02-18T04:37:06.507Z"
   },
   {
    "duration": 71,
    "start_time": "2025-02-18T04:37:06.521Z"
   },
   {
    "duration": 52,
    "start_time": "2025-02-18T04:37:06.594Z"
   },
   {
    "duration": 54,
    "start_time": "2025-02-18T04:37:06.648Z"
   },
   {
    "duration": 8,
    "start_time": "2025-02-18T04:37:06.704Z"
   },
   {
    "duration": 9,
    "start_time": "2025-02-18T04:37:06.713Z"
   },
   {
    "duration": 10,
    "start_time": "2025-02-18T04:37:06.743Z"
   },
   {
    "duration": 10,
    "start_time": "2025-02-18T04:37:06.754Z"
   },
   {
    "duration": 6,
    "start_time": "2025-02-18T04:37:06.765Z"
   },
   {
    "duration": 4,
    "start_time": "2025-02-18T04:37:06.775Z"
   },
   {
    "duration": 9,
    "start_time": "2025-02-18T04:37:06.780Z"
   },
   {
    "duration": 4,
    "start_time": "2025-02-18T04:37:06.790Z"
   },
   {
    "duration": 5,
    "start_time": "2025-02-18T04:37:06.796Z"
   },
   {
    "duration": 56,
    "start_time": "2025-02-18T04:37:06.802Z"
   },
   {
    "duration": 25,
    "start_time": "2025-02-18T04:37:06.859Z"
   },
   {
    "duration": 20,
    "start_time": "2025-02-18T04:37:06.885Z"
   },
   {
    "duration": 9,
    "start_time": "2025-02-18T04:37:06.906Z"
   },
   {
    "duration": 12,
    "start_time": "2025-02-18T04:37:06.943Z"
   },
   {
    "duration": 17,
    "start_time": "2025-02-18T04:37:06.956Z"
   },
   {
    "duration": 12,
    "start_time": "2025-02-18T04:37:06.974Z"
   },
   {
    "duration": 8,
    "start_time": "2025-02-18T04:37:06.987Z"
   },
   {
    "duration": 13,
    "start_time": "2025-02-18T04:37:06.998Z"
   },
   {
    "duration": 51,
    "start_time": "2025-02-18T04:37:07.012Z"
   },
   {
    "duration": 25,
    "start_time": "2025-02-18T04:37:07.065Z"
   },
   {
    "duration": 7,
    "start_time": "2025-02-18T04:37:07.092Z"
   },
   {
    "duration": 9,
    "start_time": "2025-02-18T04:37:07.101Z"
   },
   {
    "duration": 4,
    "start_time": "2025-02-18T04:37:07.111Z"
   },
   {
    "duration": 7,
    "start_time": "2025-02-18T04:37:07.146Z"
   },
   {
    "duration": 7,
    "start_time": "2025-02-18T04:37:07.155Z"
   },
   {
    "duration": 5,
    "start_time": "2025-02-18T04:37:07.164Z"
   },
   {
    "duration": 5,
    "start_time": "2025-02-18T04:37:07.171Z"
   },
   {
    "duration": 6,
    "start_time": "2025-02-18T04:37:07.178Z"
   },
   {
    "duration": 9,
    "start_time": "2025-02-18T04:37:07.186Z"
   },
   {
    "duration": 49,
    "start_time": "2025-02-18T04:37:07.197Z"
   },
   {
    "duration": 5,
    "start_time": "2025-02-18T04:37:07.248Z"
   },
   {
    "duration": 12,
    "start_time": "2025-02-18T04:37:07.255Z"
   },
   {
    "duration": 6,
    "start_time": "2025-02-18T04:37:07.269Z"
   },
   {
    "duration": 8,
    "start_time": "2025-02-18T04:37:07.276Z"
   },
   {
    "duration": 10,
    "start_time": "2025-02-18T04:37:07.285Z"
   },
   {
    "duration": 5,
    "start_time": "2025-02-18T04:37:07.296Z"
   },
   {
    "duration": 46,
    "start_time": "2025-02-18T04:37:07.303Z"
   },
   {
    "duration": 6,
    "start_time": "2025-02-18T04:37:07.350Z"
   },
   {
    "duration": 9,
    "start_time": "2025-02-18T04:37:07.358Z"
   },
   {
    "duration": 3,
    "start_time": "2025-02-18T04:37:07.368Z"
   },
   {
    "duration": 3,
    "start_time": "2025-02-18T04:37:07.372Z"
   },
   {
    "duration": 16,
    "start_time": "2025-02-18T04:37:07.377Z"
   },
   {
    "duration": 15,
    "start_time": "2025-02-18T04:37:07.394Z"
   },
   {
    "duration": 42,
    "start_time": "2025-02-18T04:37:07.410Z"
   },
   {
    "duration": 15,
    "start_time": "2025-02-18T04:37:07.454Z"
   },
   {
    "duration": 17,
    "start_time": "2025-02-18T04:37:07.471Z"
   },
   {
    "duration": 9,
    "start_time": "2025-02-18T04:37:07.489Z"
   },
   {
    "duration": 74,
    "start_time": "2025-02-18T04:37:07.500Z"
   },
   {
    "duration": 36,
    "start_time": "2025-02-18T04:37:07.576Z"
   },
   {
    "duration": 341,
    "start_time": "2025-02-18T04:37:07.614Z"
   },
   {
    "duration": 148,
    "start_time": "2025-02-18T04:37:07.957Z"
   },
   {
    "duration": 0,
    "start_time": "2025-02-18T04:37:08.107Z"
   },
   {
    "duration": 0,
    "start_time": "2025-02-18T04:37:08.108Z"
   },
   {
    "duration": 0,
    "start_time": "2025-02-18T04:37:08.109Z"
   },
   {
    "duration": 0,
    "start_time": "2025-02-18T04:37:08.110Z"
   },
   {
    "duration": 0,
    "start_time": "2025-02-18T04:37:08.112Z"
   },
   {
    "duration": 0,
    "start_time": "2025-02-18T04:37:08.113Z"
   },
   {
    "duration": 30,
    "start_time": "2025-02-18T04:37:19.644Z"
   },
   {
    "duration": 364,
    "start_time": "2025-02-18T04:37:22.381Z"
   },
   {
    "duration": 16,
    "start_time": "2025-02-18T04:37:26.316Z"
   },
   {
    "duration": 192,
    "start_time": "2025-02-18T04:37:29.390Z"
   },
   {
    "duration": 22,
    "start_time": "2025-02-18T04:37:32.891Z"
   },
   {
    "duration": 283,
    "start_time": "2025-02-18T04:37:36.075Z"
   },
   {
    "duration": 34,
    "start_time": "2025-02-18T04:37:40.578Z"
   },
   {
    "duration": 98,
    "start_time": "2025-02-18T04:37:45.366Z"
   },
   {
    "duration": 4,
    "start_time": "2025-02-18T04:37:49.662Z"
   },
   {
    "duration": 67,
    "start_time": "2025-02-18T04:37:54.232Z"
   },
   {
    "duration": 3,
    "start_time": "2025-02-18T04:38:00.526Z"
   },
   {
    "duration": 54,
    "start_time": "2025-02-18T04:38:05.419Z"
   },
   {
    "duration": 52,
    "start_time": "2025-02-18T04:38:08.875Z"
   },
   {
    "duration": 23,
    "start_time": "2025-02-18T04:38:12.165Z"
   },
   {
    "duration": 26,
    "start_time": "2025-02-18T04:38:18.197Z"
   },
   {
    "duration": 18,
    "start_time": "2025-02-18T04:38:21.060Z"
   },
   {
    "duration": 5,
    "start_time": "2025-02-18T04:38:25.056Z"
   },
   {
    "duration": 3,
    "start_time": "2025-02-18T04:38:29.070Z"
   },
   {
    "duration": 3,
    "start_time": "2025-02-18T04:38:33.711Z"
   },
   {
    "duration": 4,
    "start_time": "2025-02-18T04:40:50.305Z"
   },
   {
    "duration": 81,
    "start_time": "2025-02-18T04:40:53.471Z"
   },
   {
    "duration": 81,
    "start_time": "2025-02-18T04:41:01.968Z"
   },
   {
    "duration": 63,
    "start_time": "2025-02-18T04:41:20.097Z"
   },
   {
    "duration": 39,
    "start_time": "2025-02-18T04:41:23.179Z"
   },
   {
    "duration": 56,
    "start_time": "2025-02-18T04:41:45.656Z"
   },
   {
    "duration": 30,
    "start_time": "2025-02-18T04:41:48.750Z"
   },
   {
    "duration": 18,
    "start_time": "2025-02-18T04:42:10.732Z"
   },
   {
    "duration": 4,
    "start_time": "2025-02-18T04:42:27.245Z"
   },
   {
    "duration": 40,
    "start_time": "2025-02-18T04:42:54.762Z"
   },
   {
    "duration": 3,
    "start_time": "2025-02-18T04:43:01.818Z"
   },
   {
    "duration": 42,
    "start_time": "2025-02-18T04:43:07.520Z"
   },
   {
    "duration": 16,
    "start_time": "2025-02-18T04:43:46.764Z"
   },
   {
    "duration": 42,
    "start_time": "2025-02-18T04:43:59.423Z"
   },
   {
    "duration": 41,
    "start_time": "2025-02-18T04:44:03.231Z"
   },
   {
    "duration": 4,
    "start_time": "2025-02-18T04:45:46.406Z"
   },
   {
    "duration": 83,
    "start_time": "2025-02-18T04:45:56.304Z"
   },
   {
    "duration": 64,
    "start_time": "2025-02-18T04:46:13.973Z"
   },
   {
    "duration": 45,
    "start_time": "2025-02-18T04:46:38.562Z"
   },
   {
    "duration": 28,
    "start_time": "2025-02-18T04:58:48.168Z"
   },
   {
    "duration": 117,
    "start_time": "2025-02-18T04:59:03.787Z"
   },
   {
    "duration": 32,
    "start_time": "2025-02-18T04:59:17.574Z"
   },
   {
    "duration": 32,
    "start_time": "2025-02-18T05:03:46.291Z"
   },
   {
    "duration": 37,
    "start_time": "2025-02-18T05:04:10.625Z"
   },
   {
    "duration": 4,
    "start_time": "2025-02-18T05:06:03.611Z"
   },
   {
    "duration": 8,
    "start_time": "2025-02-18T05:07:21.571Z"
   },
   {
    "duration": 4,
    "start_time": "2025-02-18T05:07:38.288Z"
   },
   {
    "duration": 15,
    "start_time": "2025-02-18T05:07:55.478Z"
   },
   {
    "duration": 14,
    "start_time": "2025-02-18T05:08:06.198Z"
   },
   {
    "duration": 7,
    "start_time": "2025-02-18T05:11:37.212Z"
   },
   {
    "duration": 3,
    "start_time": "2025-02-18T05:12:57.958Z"
   },
   {
    "duration": 14,
    "start_time": "2025-02-18T05:13:00.852Z"
   },
   {
    "duration": 3,
    "start_time": "2025-02-18T05:13:14.139Z"
   },
   {
    "duration": 14,
    "start_time": "2025-02-18T05:13:16.865Z"
   },
   {
    "duration": 2561,
    "start_time": "2025-02-19T01:11:30.164Z"
   },
   {
    "duration": 18,
    "start_time": "2025-02-19T01:11:32.727Z"
   },
   {
    "duration": 102,
    "start_time": "2025-02-19T01:11:32.747Z"
   },
   {
    "duration": 53,
    "start_time": "2025-02-19T01:11:32.852Z"
   },
   {
    "duration": 100,
    "start_time": "2025-02-19T01:11:32.907Z"
   },
   {
    "duration": 11,
    "start_time": "2025-02-19T01:11:33.009Z"
   },
   {
    "duration": 9,
    "start_time": "2025-02-19T01:11:33.023Z"
   },
   {
    "duration": 12,
    "start_time": "2025-02-19T01:11:33.033Z"
   },
   {
    "duration": 9,
    "start_time": "2025-02-19T01:11:33.047Z"
   },
   {
    "duration": 5,
    "start_time": "2025-02-19T01:11:33.060Z"
   },
   {
    "duration": 4,
    "start_time": "2025-02-19T01:11:33.066Z"
   },
   {
    "duration": 11,
    "start_time": "2025-02-19T01:11:33.072Z"
   },
   {
    "duration": 5,
    "start_time": "2025-02-19T01:11:33.085Z"
   },
   {
    "duration": 44,
    "start_time": "2025-02-19T01:11:33.092Z"
   },
   {
    "duration": 16,
    "start_time": "2025-02-19T01:11:33.138Z"
   },
   {
    "duration": 27,
    "start_time": "2025-02-19T01:11:33.156Z"
   },
   {
    "duration": 55,
    "start_time": "2025-02-19T01:11:33.185Z"
   },
   {
    "duration": 8,
    "start_time": "2025-02-19T01:11:33.242Z"
   },
   {
    "duration": 12,
    "start_time": "2025-02-19T01:11:33.252Z"
   },
   {
    "duration": 18,
    "start_time": "2025-02-19T01:11:33.266Z"
   },
   {
    "duration": 11,
    "start_time": "2025-02-19T01:11:33.286Z"
   },
   {
    "duration": 39,
    "start_time": "2025-02-19T01:11:33.299Z"
   },
   {
    "duration": 14,
    "start_time": "2025-02-19T01:11:33.340Z"
   },
   {
    "duration": 21,
    "start_time": "2025-02-19T01:11:33.355Z"
   },
   {
    "duration": 52,
    "start_time": "2025-02-19T01:11:33.379Z"
   },
   {
    "duration": 9,
    "start_time": "2025-02-19T01:11:33.433Z"
   },
   {
    "duration": 10,
    "start_time": "2025-02-19T01:11:33.444Z"
   },
   {
    "duration": 4,
    "start_time": "2025-02-19T01:11:33.459Z"
   },
   {
    "duration": 8,
    "start_time": "2025-02-19T01:11:33.465Z"
   },
   {
    "duration": 8,
    "start_time": "2025-02-19T01:11:33.475Z"
   },
   {
    "duration": 7,
    "start_time": "2025-02-19T01:11:33.484Z"
   },
   {
    "duration": 8,
    "start_time": "2025-02-19T01:11:33.531Z"
   },
   {
    "duration": 6,
    "start_time": "2025-02-19T01:11:33.541Z"
   },
   {
    "duration": 10,
    "start_time": "2025-02-19T01:11:33.548Z"
   },
   {
    "duration": 8,
    "start_time": "2025-02-19T01:11:33.560Z"
   },
   {
    "duration": 6,
    "start_time": "2025-02-19T01:11:33.570Z"
   },
   {
    "duration": 12,
    "start_time": "2025-02-19T01:11:33.578Z"
   },
   {
    "duration": 46,
    "start_time": "2025-02-19T01:11:33.592Z"
   },
   {
    "duration": 11,
    "start_time": "2025-02-19T01:11:33.640Z"
   },
   {
    "duration": 10,
    "start_time": "2025-02-19T01:11:33.653Z"
   },
   {
    "duration": 7,
    "start_time": "2025-02-19T01:11:33.665Z"
   },
   {
    "duration": 12,
    "start_time": "2025-02-19T01:11:33.674Z"
   },
   {
    "duration": 8,
    "start_time": "2025-02-19T01:11:33.687Z"
   },
   {
    "duration": 11,
    "start_time": "2025-02-19T01:11:33.732Z"
   },
   {
    "duration": 4,
    "start_time": "2025-02-19T01:11:33.744Z"
   },
   {
    "duration": 3,
    "start_time": "2025-02-19T01:11:33.749Z"
   },
   {
    "duration": 21,
    "start_time": "2025-02-19T01:11:33.754Z"
   },
   {
    "duration": 54,
    "start_time": "2025-02-19T01:11:33.777Z"
   },
   {
    "duration": 14,
    "start_time": "2025-02-19T01:11:33.833Z"
   },
   {
    "duration": 16,
    "start_time": "2025-02-19T01:11:33.849Z"
   },
   {
    "duration": 16,
    "start_time": "2025-02-19T01:11:33.867Z"
   },
   {
    "duration": 11,
    "start_time": "2025-02-19T01:11:33.885Z"
   },
   {
    "duration": 116,
    "start_time": "2025-02-19T01:11:33.897Z"
   },
   {
    "duration": 48,
    "start_time": "2025-02-19T01:11:34.015Z"
   },
   {
    "duration": 396,
    "start_time": "2025-02-19T01:11:34.066Z"
   },
   {
    "duration": 588,
    "start_time": "2025-02-19T01:11:34.465Z"
   },
   {
    "duration": 0,
    "start_time": "2025-02-19T01:11:35.054Z"
   },
   {
    "duration": 0,
    "start_time": "2025-02-19T01:11:35.055Z"
   },
   {
    "duration": 0,
    "start_time": "2025-02-19T01:11:35.057Z"
   },
   {
    "duration": 0,
    "start_time": "2025-02-19T01:11:35.058Z"
   },
   {
    "duration": 0,
    "start_time": "2025-02-19T01:11:35.059Z"
   },
   {
    "duration": 0,
    "start_time": "2025-02-19T01:11:35.060Z"
   },
   {
    "duration": 37,
    "start_time": "2025-02-19T01:15:34.391Z"
   },
   {
    "duration": 335,
    "start_time": "2025-02-19T01:15:37.729Z"
   },
   {
    "duration": 19,
    "start_time": "2025-02-19T01:15:42.527Z"
   },
   {
    "duration": 211,
    "start_time": "2025-02-19T01:15:45.434Z"
   },
   {
    "duration": 25,
    "start_time": "2025-02-19T01:15:49.090Z"
   },
   {
    "duration": 337,
    "start_time": "2025-02-19T01:15:52.200Z"
   },
   {
    "duration": 39,
    "start_time": "2025-02-19T01:15:56.031Z"
   },
   {
    "duration": 6,
    "start_time": "2025-02-19T01:21:37.759Z"
   },
   {
    "duration": 5,
    "start_time": "2025-02-19T01:22:18.078Z"
   },
   {
    "duration": 15,
    "start_time": "2025-02-19T01:22:32.265Z"
   },
   {
    "duration": 13,
    "start_time": "2025-02-19T01:22:51.856Z"
   },
   {
    "duration": 3,
    "start_time": "2025-02-19T01:22:55.113Z"
   },
   {
    "duration": 14,
    "start_time": "2025-02-19T01:23:08.555Z"
   },
   {
    "duration": 4,
    "start_time": "2025-02-19T01:23:15.144Z"
   },
   {
    "duration": 3,
    "start_time": "2025-02-19T01:24:20.229Z"
   },
   {
    "duration": 4,
    "start_time": "2025-02-19T01:24:59.287Z"
   },
   {
    "duration": 14,
    "start_time": "2025-02-19T01:25:10.480Z"
   },
   {
    "duration": 4,
    "start_time": "2025-02-19T01:28:27.054Z"
   },
   {
    "duration": 22,
    "start_time": "2025-02-19T01:28:39.043Z"
   },
   {
    "duration": 312,
    "start_time": "2025-02-19T01:29:07.015Z"
   },
   {
    "duration": 52,
    "start_time": "2025-02-19T01:29:15.518Z"
   },
   {
    "duration": 4,
    "start_time": "2025-02-19T01:31:11.443Z"
   },
   {
    "duration": 7,
    "start_time": "2025-02-19T01:33:45.796Z"
   },
   {
    "duration": 4,
    "start_time": "2025-02-19T01:33:55.915Z"
   },
   {
    "duration": 18,
    "start_time": "2025-02-19T01:34:09.060Z"
   },
   {
    "duration": 41,
    "start_time": "2025-02-19T01:34:24.776Z"
   },
   {
    "duration": 3,
    "start_time": "2025-02-19T01:34:55.913Z"
   },
   {
    "duration": 68,
    "start_time": "2025-02-19T01:35:20.443Z"
   },
   {
    "duration": 4,
    "start_time": "2025-02-19T01:36:41.373Z"
   },
   {
    "duration": 21,
    "start_time": "2025-02-19T01:37:00.305Z"
   },
   {
    "duration": 46,
    "start_time": "2025-02-19T01:37:17.684Z"
   },
   {
    "duration": 754,
    "start_time": "2025-02-19T01:41:41.620Z"
   },
   {
    "duration": 15,
    "start_time": "2025-02-19T01:41:42.377Z"
   },
   {
    "duration": 96,
    "start_time": "2025-02-19T01:41:42.394Z"
   },
   {
    "duration": 47,
    "start_time": "2025-02-19T01:41:42.492Z"
   },
   {
    "duration": 84,
    "start_time": "2025-02-19T01:41:42.541Z"
   },
   {
    "duration": 9,
    "start_time": "2025-02-19T01:41:42.627Z"
   },
   {
    "duration": 9,
    "start_time": "2025-02-19T01:41:42.638Z"
   },
   {
    "duration": 10,
    "start_time": "2025-02-19T01:41:42.649Z"
   },
   {
    "duration": 9,
    "start_time": "2025-02-19T01:41:42.662Z"
   },
   {
    "duration": 4,
    "start_time": "2025-02-19T01:41:42.674Z"
   },
   {
    "duration": 4,
    "start_time": "2025-02-19T01:41:42.680Z"
   },
   {
    "duration": 47,
    "start_time": "2025-02-19T01:41:42.686Z"
   },
   {
    "duration": 5,
    "start_time": "2025-02-19T01:41:42.735Z"
   },
   {
    "duration": 5,
    "start_time": "2025-02-19T01:41:42.742Z"
   },
   {
    "duration": 15,
    "start_time": "2025-02-19T01:41:42.748Z"
   },
   {
    "duration": 28,
    "start_time": "2025-02-19T01:41:42.765Z"
   },
   {
    "duration": 51,
    "start_time": "2025-02-19T01:41:42.795Z"
   },
   {
    "duration": 9,
    "start_time": "2025-02-19T01:41:42.847Z"
   },
   {
    "duration": 11,
    "start_time": "2025-02-19T01:41:42.858Z"
   },
   {
    "duration": 16,
    "start_time": "2025-02-19T01:41:42.871Z"
   },
   {
    "duration": 11,
    "start_time": "2025-02-19T01:41:42.889Z"
   },
   {
    "duration": 9,
    "start_time": "2025-02-19T01:41:42.931Z"
   },
   {
    "duration": 14,
    "start_time": "2025-02-19T01:41:42.942Z"
   },
   {
    "duration": 22,
    "start_time": "2025-02-19T01:41:42.957Z"
   },
   {
    "duration": 61,
    "start_time": "2025-02-19T01:41:42.981Z"
   },
   {
    "duration": 8,
    "start_time": "2025-02-19T01:41:43.045Z"
   },
   {
    "duration": 9,
    "start_time": "2025-02-19T01:41:43.055Z"
   },
   {
    "duration": 4,
    "start_time": "2025-02-19T01:41:43.068Z"
   },
   {
    "duration": 8,
    "start_time": "2025-02-19T01:41:43.074Z"
   },
   {
    "duration": 8,
    "start_time": "2025-02-19T01:41:43.085Z"
   },
   {
    "duration": 5,
    "start_time": "2025-02-19T01:41:43.094Z"
   },
   {
    "duration": 8,
    "start_time": "2025-02-19T01:41:43.132Z"
   },
   {
    "duration": 6,
    "start_time": "2025-02-19T01:41:43.142Z"
   },
   {
    "duration": 10,
    "start_time": "2025-02-19T01:41:43.149Z"
   },
   {
    "duration": 10,
    "start_time": "2025-02-19T01:41:43.161Z"
   },
   {
    "duration": 17,
    "start_time": "2025-02-19T01:41:43.172Z"
   },
   {
    "duration": 44,
    "start_time": "2025-02-19T01:41:43.191Z"
   },
   {
    "duration": 9,
    "start_time": "2025-02-19T01:41:43.237Z"
   },
   {
    "duration": 12,
    "start_time": "2025-02-19T01:41:43.248Z"
   },
   {
    "duration": 11,
    "start_time": "2025-02-19T01:41:43.261Z"
   },
   {
    "duration": 6,
    "start_time": "2025-02-19T01:41:43.274Z"
   },
   {
    "duration": 11,
    "start_time": "2025-02-19T01:41:43.283Z"
   },
   {
    "duration": 7,
    "start_time": "2025-02-19T01:41:43.295Z"
   },
   {
    "duration": 10,
    "start_time": "2025-02-19T01:41:43.332Z"
   },
   {
    "duration": 3,
    "start_time": "2025-02-19T01:41:43.344Z"
   },
   {
    "duration": 4,
    "start_time": "2025-02-19T01:41:43.349Z"
   },
   {
    "duration": 23,
    "start_time": "2025-02-19T01:41:43.355Z"
   },
   {
    "duration": 54,
    "start_time": "2025-02-19T01:41:43.380Z"
   },
   {
    "duration": 14,
    "start_time": "2025-02-19T01:41:43.436Z"
   },
   {
    "duration": 16,
    "start_time": "2025-02-19T01:41:43.452Z"
   },
   {
    "duration": 17,
    "start_time": "2025-02-19T01:41:43.471Z"
   },
   {
    "duration": 10,
    "start_time": "2025-02-19T01:41:43.490Z"
   },
   {
    "duration": 43,
    "start_time": "2025-02-19T01:41:43.530Z"
   },
   {
    "duration": 40,
    "start_time": "2025-02-19T01:41:43.575Z"
   },
   {
    "duration": 326,
    "start_time": "2025-02-19T01:41:43.632Z"
   },
   {
    "duration": 646,
    "start_time": "2025-02-19T01:41:43.961Z"
   },
   {
    "duration": 0,
    "start_time": "2025-02-19T01:41:44.609Z"
   },
   {
    "duration": 0,
    "start_time": "2025-02-19T01:41:44.610Z"
   },
   {
    "duration": 0,
    "start_time": "2025-02-19T01:41:44.611Z"
   },
   {
    "duration": 0,
    "start_time": "2025-02-19T01:41:44.612Z"
   },
   {
    "duration": 0,
    "start_time": "2025-02-19T01:41:44.613Z"
   },
   {
    "duration": 0,
    "start_time": "2025-02-19T01:41:44.614Z"
   },
   {
    "duration": 56,
    "start_time": "2025-02-19T01:42:04.297Z"
   },
   {
    "duration": 454,
    "start_time": "2025-02-19T01:42:07.913Z"
   },
   {
    "duration": 28,
    "start_time": "2025-02-19T01:42:12.154Z"
   },
   {
    "duration": 185,
    "start_time": "2025-02-19T01:42:15.385Z"
   },
   {
    "duration": 31,
    "start_time": "2025-02-19T01:42:19.159Z"
   },
   {
    "duration": 331,
    "start_time": "2025-02-19T01:42:22.809Z"
   },
   {
    "duration": 38,
    "start_time": "2025-02-19T01:42:27.216Z"
   },
   {
    "duration": 97,
    "start_time": "2025-02-19T01:42:31.468Z"
   },
   {
    "duration": 156,
    "start_time": "2025-02-19T01:47:17.283Z"
   },
   {
    "duration": 773,
    "start_time": "2025-02-19T01:47:28.806Z"
   },
   {
    "duration": 14,
    "start_time": "2025-02-19T01:47:29.582Z"
   },
   {
    "duration": 92,
    "start_time": "2025-02-19T01:47:29.597Z"
   },
   {
    "duration": 53,
    "start_time": "2025-02-19T01:47:29.693Z"
   },
   {
    "duration": 85,
    "start_time": "2025-02-19T01:47:29.748Z"
   },
   {
    "duration": 9,
    "start_time": "2025-02-19T01:47:29.835Z"
   },
   {
    "duration": 8,
    "start_time": "2025-02-19T01:47:29.845Z"
   },
   {
    "duration": 9,
    "start_time": "2025-02-19T01:47:29.855Z"
   },
   {
    "duration": 10,
    "start_time": "2025-02-19T01:47:29.866Z"
   },
   {
    "duration": 4,
    "start_time": "2025-02-19T01:47:29.881Z"
   },
   {
    "duration": 4,
    "start_time": "2025-02-19T01:47:29.887Z"
   },
   {
    "duration": 42,
    "start_time": "2025-02-19T01:47:29.892Z"
   },
   {
    "duration": 5,
    "start_time": "2025-02-19T01:47:29.936Z"
   },
   {
    "duration": 5,
    "start_time": "2025-02-19T01:47:29.943Z"
   },
   {
    "duration": 15,
    "start_time": "2025-02-19T01:47:29.950Z"
   },
   {
    "duration": 41,
    "start_time": "2025-02-19T01:47:29.967Z"
   },
   {
    "duration": 39,
    "start_time": "2025-02-19T01:47:30.032Z"
   },
   {
    "duration": 10,
    "start_time": "2025-02-19T01:47:30.072Z"
   },
   {
    "duration": 18,
    "start_time": "2025-02-19T01:47:30.085Z"
   },
   {
    "duration": 40,
    "start_time": "2025-02-19T01:47:30.104Z"
   },
   {
    "duration": 11,
    "start_time": "2025-02-19T01:47:30.146Z"
   },
   {
    "duration": 10,
    "start_time": "2025-02-19T01:47:30.159Z"
   },
   {
    "duration": 15,
    "start_time": "2025-02-19T01:47:30.171Z"
   },
   {
    "duration": 59,
    "start_time": "2025-02-19T01:47:30.188Z"
   },
   {
    "duration": 33,
    "start_time": "2025-02-19T01:47:30.249Z"
   },
   {
    "duration": 11,
    "start_time": "2025-02-19T01:47:30.284Z"
   },
   {
    "duration": 10,
    "start_time": "2025-02-19T01:47:30.297Z"
   },
   {
    "duration": 5,
    "start_time": "2025-02-19T01:47:30.334Z"
   },
   {
    "duration": 11,
    "start_time": "2025-02-19T01:47:30.342Z"
   },
   {
    "duration": 10,
    "start_time": "2025-02-19T01:47:30.355Z"
   },
   {
    "duration": 6,
    "start_time": "2025-02-19T01:47:30.366Z"
   },
   {
    "duration": 10,
    "start_time": "2025-02-19T01:47:30.374Z"
   },
   {
    "duration": 6,
    "start_time": "2025-02-19T01:47:30.385Z"
   },
   {
    "duration": 54,
    "start_time": "2025-02-19T01:47:30.392Z"
   },
   {
    "duration": 16,
    "start_time": "2025-02-19T01:47:30.451Z"
   },
   {
    "duration": 6,
    "start_time": "2025-02-19T01:47:30.469Z"
   },
   {
    "duration": 13,
    "start_time": "2025-02-19T01:47:30.477Z"
   },
   {
    "duration": 8,
    "start_time": "2025-02-19T01:47:30.492Z"
   },
   {
    "duration": 36,
    "start_time": "2025-02-19T01:47:30.502Z"
   },
   {
    "duration": 10,
    "start_time": "2025-02-19T01:47:30.541Z"
   },
   {
    "duration": 8,
    "start_time": "2025-02-19T01:47:30.552Z"
   },
   {
    "duration": 13,
    "start_time": "2025-02-19T01:47:30.561Z"
   },
   {
    "duration": 14,
    "start_time": "2025-02-19T01:47:30.576Z"
   },
   {
    "duration": 10,
    "start_time": "2025-02-19T01:47:30.592Z"
   },
   {
    "duration": 31,
    "start_time": "2025-02-19T01:47:30.604Z"
   },
   {
    "duration": 5,
    "start_time": "2025-02-19T01:47:30.638Z"
   },
   {
    "duration": 21,
    "start_time": "2025-02-19T01:47:30.644Z"
   },
   {
    "duration": 21,
    "start_time": "2025-02-19T01:47:30.666Z"
   },
   {
    "duration": 43,
    "start_time": "2025-02-19T01:47:30.689Z"
   },
   {
    "duration": 16,
    "start_time": "2025-02-19T01:47:30.734Z"
   },
   {
    "duration": 22,
    "start_time": "2025-02-19T01:47:30.753Z"
   },
   {
    "duration": 16,
    "start_time": "2025-02-19T01:47:30.777Z"
   },
   {
    "duration": 77,
    "start_time": "2025-02-19T01:47:30.795Z"
   },
   {
    "duration": 41,
    "start_time": "2025-02-19T01:47:30.874Z"
   },
   {
    "duration": 352,
    "start_time": "2025-02-19T01:47:30.917Z"
   },
   {
    "duration": 575,
    "start_time": "2025-02-19T01:47:31.271Z"
   },
   {
    "duration": 0,
    "start_time": "2025-02-19T01:47:31.848Z"
   },
   {
    "duration": 0,
    "start_time": "2025-02-19T01:47:31.849Z"
   },
   {
    "duration": 0,
    "start_time": "2025-02-19T01:47:31.850Z"
   },
   {
    "duration": 0,
    "start_time": "2025-02-19T01:47:31.851Z"
   },
   {
    "duration": 0,
    "start_time": "2025-02-19T01:47:31.852Z"
   },
   {
    "duration": 0,
    "start_time": "2025-02-19T01:47:31.853Z"
   },
   {
    "duration": 36,
    "start_time": "2025-02-19T01:47:44.260Z"
   },
   {
    "duration": 429,
    "start_time": "2025-02-19T01:47:48.122Z"
   },
   {
    "duration": 18,
    "start_time": "2025-02-19T01:47:52.405Z"
   },
   {
    "duration": 216,
    "start_time": "2025-02-19T01:47:55.739Z"
   },
   {
    "duration": 22,
    "start_time": "2025-02-19T01:47:59.203Z"
   },
   {
    "duration": 307,
    "start_time": "2025-02-19T01:48:02.841Z"
   },
   {
    "duration": 38,
    "start_time": "2025-02-19T01:48:06.448Z"
   },
   {
    "duration": 97,
    "start_time": "2025-02-19T01:48:09.991Z"
   },
   {
    "duration": 20,
    "start_time": "2025-02-19T01:48:16.568Z"
   },
   {
    "duration": 805,
    "start_time": "2025-02-19T01:51:08.980Z"
   },
   {
    "duration": 13,
    "start_time": "2025-02-19T01:51:09.788Z"
   },
   {
    "duration": 90,
    "start_time": "2025-02-19T01:51:09.802Z"
   },
   {
    "duration": 46,
    "start_time": "2025-02-19T01:51:09.894Z"
   },
   {
    "duration": 80,
    "start_time": "2025-02-19T01:51:09.942Z"
   },
   {
    "duration": 8,
    "start_time": "2025-02-19T01:51:10.024Z"
   },
   {
    "duration": 9,
    "start_time": "2025-02-19T01:51:10.033Z"
   },
   {
    "duration": 9,
    "start_time": "2025-02-19T01:51:10.044Z"
   },
   {
    "duration": 9,
    "start_time": "2025-02-19T01:51:10.054Z"
   },
   {
    "duration": 4,
    "start_time": "2025-02-19T01:51:10.066Z"
   },
   {
    "duration": 4,
    "start_time": "2025-02-19T01:51:10.072Z"
   },
   {
    "duration": 9,
    "start_time": "2025-02-19T01:51:10.077Z"
   },
   {
    "duration": 46,
    "start_time": "2025-02-19T01:51:10.088Z"
   },
   {
    "duration": 6,
    "start_time": "2025-02-19T01:51:10.136Z"
   },
   {
    "duration": 16,
    "start_time": "2025-02-19T01:51:10.143Z"
   },
   {
    "duration": 27,
    "start_time": "2025-02-19T01:51:10.160Z"
   },
   {
    "duration": 54,
    "start_time": "2025-02-19T01:51:10.189Z"
   },
   {
    "duration": 8,
    "start_time": "2025-02-19T01:51:10.244Z"
   },
   {
    "duration": 12,
    "start_time": "2025-02-19T01:51:10.254Z"
   },
   {
    "duration": 17,
    "start_time": "2025-02-19T01:51:10.268Z"
   },
   {
    "duration": 11,
    "start_time": "2025-02-19T01:51:10.287Z"
   },
   {
    "duration": 37,
    "start_time": "2025-02-19T01:51:10.300Z"
   },
   {
    "duration": 14,
    "start_time": "2025-02-19T01:51:10.339Z"
   },
   {
    "duration": 20,
    "start_time": "2025-02-19T01:51:10.355Z"
   },
   {
    "duration": 56,
    "start_time": "2025-02-19T01:51:10.376Z"
   },
   {
    "duration": 8,
    "start_time": "2025-02-19T01:51:10.434Z"
   },
   {
    "duration": 8,
    "start_time": "2025-02-19T01:51:10.445Z"
   },
   {
    "duration": 4,
    "start_time": "2025-02-19T01:51:10.457Z"
   },
   {
    "duration": 8,
    "start_time": "2025-02-19T01:51:10.462Z"
   },
   {
    "duration": 8,
    "start_time": "2025-02-19T01:51:10.472Z"
   },
   {
    "duration": 4,
    "start_time": "2025-02-19T01:51:10.482Z"
   },
   {
    "duration": 48,
    "start_time": "2025-02-19T01:51:10.487Z"
   },
   {
    "duration": 6,
    "start_time": "2025-02-19T01:51:10.536Z"
   },
   {
    "duration": 9,
    "start_time": "2025-02-19T01:51:10.543Z"
   },
   {
    "duration": 9,
    "start_time": "2025-02-19T01:51:10.553Z"
   },
   {
    "duration": 6,
    "start_time": "2025-02-19T01:51:10.563Z"
   },
   {
    "duration": 15,
    "start_time": "2025-02-19T01:51:10.570Z"
   },
   {
    "duration": 8,
    "start_time": "2025-02-19T01:51:10.586Z"
   },
   {
    "duration": 39,
    "start_time": "2025-02-19T01:51:10.596Z"
   },
   {
    "duration": 11,
    "start_time": "2025-02-19T01:51:10.636Z"
   },
   {
    "duration": 6,
    "start_time": "2025-02-19T01:51:10.648Z"
   },
   {
    "duration": 10,
    "start_time": "2025-02-19T01:51:10.656Z"
   },
   {
    "duration": 6,
    "start_time": "2025-02-19T01:51:10.668Z"
   },
   {
    "duration": 9,
    "start_time": "2025-02-19T01:51:10.676Z"
   },
   {
    "duration": 45,
    "start_time": "2025-02-19T01:51:10.686Z"
   },
   {
    "duration": 2,
    "start_time": "2025-02-19T01:51:10.735Z"
   },
   {
    "duration": 20,
    "start_time": "2025-02-19T01:51:10.739Z"
   },
   {
    "duration": 20,
    "start_time": "2025-02-19T01:51:10.760Z"
   },
   {
    "duration": 16,
    "start_time": "2025-02-19T01:51:10.781Z"
   },
   {
    "duration": 43,
    "start_time": "2025-02-19T01:51:10.799Z"
   },
   {
    "duration": 20,
    "start_time": "2025-02-19T01:51:10.844Z"
   },
   {
    "duration": 11,
    "start_time": "2025-02-19T01:51:10.866Z"
   },
   {
    "duration": 66,
    "start_time": "2025-02-19T01:51:10.878Z"
   },
   {
    "duration": 40,
    "start_time": "2025-02-19T01:51:10.946Z"
   },
   {
    "duration": 364,
    "start_time": "2025-02-19T01:51:10.988Z"
   },
   {
    "duration": 585,
    "start_time": "2025-02-19T01:51:11.354Z"
   },
   {
    "duration": 0,
    "start_time": "2025-02-19T01:51:11.941Z"
   },
   {
    "duration": 0,
    "start_time": "2025-02-19T01:51:11.942Z"
   },
   {
    "duration": 0,
    "start_time": "2025-02-19T01:51:11.945Z"
   },
   {
    "duration": 0,
    "start_time": "2025-02-19T01:51:11.946Z"
   },
   {
    "duration": 0,
    "start_time": "2025-02-19T01:51:11.947Z"
   },
   {
    "duration": 0,
    "start_time": "2025-02-19T01:51:11.949Z"
   },
   {
    "duration": 0,
    "start_time": "2025-02-19T01:51:11.950Z"
   },
   {
    "duration": 2,
    "start_time": "2025-02-19T01:52:09.917Z"
   },
   {
    "duration": 11,
    "start_time": "2025-02-19T01:52:09.922Z"
   },
   {
    "duration": 72,
    "start_time": "2025-02-19T01:52:09.935Z"
   },
   {
    "duration": 52,
    "start_time": "2025-02-19T01:52:10.009Z"
   },
   {
    "duration": 74,
    "start_time": "2025-02-19T01:52:10.063Z"
   },
   {
    "duration": 7,
    "start_time": "2025-02-19T01:52:10.139Z"
   },
   {
    "duration": 9,
    "start_time": "2025-02-19T01:52:10.148Z"
   },
   {
    "duration": 9,
    "start_time": "2025-02-19T01:52:10.159Z"
   },
   {
    "duration": 11,
    "start_time": "2025-02-19T01:52:10.172Z"
   },
   {
    "duration": 5,
    "start_time": "2025-02-19T01:52:10.184Z"
   },
   {
    "duration": 40,
    "start_time": "2025-02-19T01:52:10.191Z"
   },
   {
    "duration": 12,
    "start_time": "2025-02-19T01:52:10.233Z"
   },
   {
    "duration": 4,
    "start_time": "2025-02-19T01:52:10.248Z"
   },
   {
    "duration": 4,
    "start_time": "2025-02-19T01:52:10.254Z"
   },
   {
    "duration": 15,
    "start_time": "2025-02-19T01:52:10.260Z"
   },
   {
    "duration": 58,
    "start_time": "2025-02-19T01:52:10.277Z"
   },
   {
    "duration": 24,
    "start_time": "2025-02-19T01:52:10.337Z"
   },
   {
    "duration": 8,
    "start_time": "2025-02-19T01:52:10.363Z"
   },
   {
    "duration": 14,
    "start_time": "2025-02-19T01:52:10.372Z"
   },
   {
    "duration": 47,
    "start_time": "2025-02-19T01:52:10.388Z"
   },
   {
    "duration": 16,
    "start_time": "2025-02-19T01:52:10.438Z"
   },
   {
    "duration": 9,
    "start_time": "2025-02-19T01:52:10.456Z"
   },
   {
    "duration": 16,
    "start_time": "2025-02-19T01:52:10.468Z"
   },
   {
    "duration": 49,
    "start_time": "2025-02-19T01:52:10.489Z"
   },
   {
    "duration": 27,
    "start_time": "2025-02-19T01:52:10.540Z"
   },
   {
    "duration": 9,
    "start_time": "2025-02-19T01:52:10.569Z"
   },
   {
    "duration": 9,
    "start_time": "2025-02-19T01:52:10.580Z"
   },
   {
    "duration": 4,
    "start_time": "2025-02-19T01:52:10.592Z"
   },
   {
    "duration": 34,
    "start_time": "2025-02-19T01:52:10.598Z"
   },
   {
    "duration": 9,
    "start_time": "2025-02-19T01:52:10.634Z"
   },
   {
    "duration": 6,
    "start_time": "2025-02-19T01:52:10.645Z"
   },
   {
    "duration": 6,
    "start_time": "2025-02-19T01:52:10.653Z"
   },
   {
    "duration": 6,
    "start_time": "2025-02-19T01:52:10.661Z"
   },
   {
    "duration": 9,
    "start_time": "2025-02-19T01:52:10.669Z"
   },
   {
    "duration": 8,
    "start_time": "2025-02-19T01:52:10.680Z"
   },
   {
    "duration": 46,
    "start_time": "2025-02-19T01:52:10.690Z"
   },
   {
    "duration": 14,
    "start_time": "2025-02-19T01:52:10.738Z"
   },
   {
    "duration": 8,
    "start_time": "2025-02-19T01:52:10.754Z"
   },
   {
    "duration": 9,
    "start_time": "2025-02-19T01:52:10.764Z"
   },
   {
    "duration": 11,
    "start_time": "2025-02-19T01:52:10.775Z"
   },
   {
    "duration": 6,
    "start_time": "2025-02-19T01:52:10.788Z"
   },
   {
    "duration": 47,
    "start_time": "2025-02-19T01:52:10.795Z"
   },
   {
    "duration": 6,
    "start_time": "2025-02-19T01:52:10.843Z"
   },
   {
    "duration": 9,
    "start_time": "2025-02-19T01:52:10.851Z"
   },
   {
    "duration": 3,
    "start_time": "2025-02-19T01:52:10.862Z"
   },
   {
    "duration": 3,
    "start_time": "2025-02-19T01:52:10.867Z"
   },
   {
    "duration": 20,
    "start_time": "2025-02-19T01:52:10.872Z"
   },
   {
    "duration": 51,
    "start_time": "2025-02-19T01:52:10.894Z"
   },
   {
    "duration": 14,
    "start_time": "2025-02-19T01:52:10.947Z"
   },
   {
    "duration": 17,
    "start_time": "2025-02-19T01:52:10.962Z"
   },
   {
    "duration": 18,
    "start_time": "2025-02-19T01:52:10.983Z"
   },
   {
    "duration": 12,
    "start_time": "2025-02-19T01:52:11.030Z"
   },
   {
    "duration": 41,
    "start_time": "2025-02-19T01:52:11.043Z"
   },
   {
    "duration": 58,
    "start_time": "2025-02-19T01:52:11.086Z"
   },
   {
    "duration": 412,
    "start_time": "2025-02-19T01:52:11.146Z"
   },
   {
    "duration": 59,
    "start_time": "2025-02-19T01:52:11.560Z"
   },
   {
    "duration": 0,
    "start_time": "2025-02-19T01:52:11.621Z"
   },
   {
    "duration": 0,
    "start_time": "2025-02-19T01:52:11.622Z"
   },
   {
    "duration": 0,
    "start_time": "2025-02-19T01:52:11.623Z"
   },
   {
    "duration": 0,
    "start_time": "2025-02-19T01:52:11.623Z"
   },
   {
    "duration": 0,
    "start_time": "2025-02-19T01:52:11.624Z"
   },
   {
    "duration": 0,
    "start_time": "2025-02-19T01:52:11.624Z"
   },
   {
    "duration": 33,
    "start_time": "2025-02-19T01:52:22.651Z"
   },
   {
    "duration": 321,
    "start_time": "2025-02-19T01:52:25.644Z"
   },
   {
    "duration": 23,
    "start_time": "2025-02-19T01:52:32.088Z"
   },
   {
    "duration": 244,
    "start_time": "2025-02-19T01:52:35.317Z"
   },
   {
    "duration": 22,
    "start_time": "2025-02-19T01:52:39.803Z"
   },
   {
    "duration": 314,
    "start_time": "2025-02-19T01:52:44.423Z"
   },
   {
    "duration": 40,
    "start_time": "2025-02-19T01:52:48.303Z"
   },
   {
    "duration": 98,
    "start_time": "2025-02-19T01:52:52.370Z"
   },
   {
    "duration": 20,
    "start_time": "2025-02-19T01:53:14.881Z"
   },
   {
    "duration": 923,
    "start_time": "2025-02-19T01:55:49.948Z"
   },
   {
    "duration": 14,
    "start_time": "2025-02-19T01:55:50.875Z"
   },
   {
    "duration": 94,
    "start_time": "2025-02-19T01:55:50.890Z"
   },
   {
    "duration": 64,
    "start_time": "2025-02-19T01:55:50.987Z"
   },
   {
    "duration": 83,
    "start_time": "2025-02-19T01:55:51.057Z"
   },
   {
    "duration": 9,
    "start_time": "2025-02-19T01:55:51.143Z"
   },
   {
    "duration": 9,
    "start_time": "2025-02-19T01:55:51.156Z"
   },
   {
    "duration": 11,
    "start_time": "2025-02-19T01:55:51.167Z"
   },
   {
    "duration": 12,
    "start_time": "2025-02-19T01:55:51.180Z"
   },
   {
    "duration": 4,
    "start_time": "2025-02-19T01:55:51.196Z"
   },
   {
    "duration": 3,
    "start_time": "2025-02-19T01:55:51.232Z"
   },
   {
    "duration": 11,
    "start_time": "2025-02-19T01:55:51.238Z"
   },
   {
    "duration": 5,
    "start_time": "2025-02-19T01:55:51.251Z"
   },
   {
    "duration": 5,
    "start_time": "2025-02-19T01:55:51.257Z"
   },
   {
    "duration": 17,
    "start_time": "2025-02-19T01:55:51.264Z"
   },
   {
    "duration": 59,
    "start_time": "2025-02-19T01:55:51.282Z"
   },
   {
    "duration": 41,
    "start_time": "2025-02-19T01:55:51.343Z"
   },
   {
    "duration": 11,
    "start_time": "2025-02-19T01:55:51.386Z"
   },
   {
    "duration": 41,
    "start_time": "2025-02-19T01:55:51.398Z"
   },
   {
    "duration": 24,
    "start_time": "2025-02-19T01:55:51.448Z"
   },
   {
    "duration": 11,
    "start_time": "2025-02-19T01:55:51.473Z"
   },
   {
    "duration": 8,
    "start_time": "2025-02-19T01:55:51.486Z"
   },
   {
    "duration": 13,
    "start_time": "2025-02-19T01:55:51.496Z"
   },
   {
    "duration": 40,
    "start_time": "2025-02-19T01:55:51.511Z"
   },
   {
    "duration": 31,
    "start_time": "2025-02-19T01:55:51.553Z"
   },
   {
    "duration": 11,
    "start_time": "2025-02-19T01:55:51.586Z"
   },
   {
    "duration": 32,
    "start_time": "2025-02-19T01:55:51.599Z"
   },
   {
    "duration": 5,
    "start_time": "2025-02-19T01:55:51.636Z"
   },
   {
    "duration": 8,
    "start_time": "2025-02-19T01:55:51.642Z"
   },
   {
    "duration": 8,
    "start_time": "2025-02-19T01:55:51.652Z"
   },
   {
    "duration": 6,
    "start_time": "2025-02-19T01:55:51.661Z"
   },
   {
    "duration": 7,
    "start_time": "2025-02-19T01:55:51.669Z"
   },
   {
    "duration": 8,
    "start_time": "2025-02-19T01:55:51.678Z"
   },
   {
    "duration": 47,
    "start_time": "2025-02-19T01:55:51.688Z"
   },
   {
    "duration": 9,
    "start_time": "2025-02-19T01:55:51.737Z"
   },
   {
    "duration": 8,
    "start_time": "2025-02-19T01:55:51.748Z"
   },
   {
    "duration": 13,
    "start_time": "2025-02-19T01:55:51.759Z"
   },
   {
    "duration": 8,
    "start_time": "2025-02-19T01:55:51.773Z"
   },
   {
    "duration": 11,
    "start_time": "2025-02-19T01:55:51.783Z"
   },
   {
    "duration": 44,
    "start_time": "2025-02-19T01:55:51.797Z"
   },
   {
    "duration": 6,
    "start_time": "2025-02-19T01:55:51.843Z"
   },
   {
    "duration": 11,
    "start_time": "2025-02-19T01:55:51.852Z"
   },
   {
    "duration": 7,
    "start_time": "2025-02-19T01:55:51.865Z"
   },
   {
    "duration": 10,
    "start_time": "2025-02-19T01:55:51.874Z"
   },
   {
    "duration": 4,
    "start_time": "2025-02-19T01:55:51.885Z"
   },
   {
    "duration": 3,
    "start_time": "2025-02-19T01:55:51.891Z"
   },
   {
    "duration": 23,
    "start_time": "2025-02-19T01:55:51.932Z"
   },
   {
    "duration": 23,
    "start_time": "2025-02-19T01:55:51.957Z"
   },
   {
    "duration": 16,
    "start_time": "2025-02-19T01:55:51.982Z"
   },
   {
    "duration": 43,
    "start_time": "2025-02-19T01:55:51.999Z"
   },
   {
    "duration": 21,
    "start_time": "2025-02-19T01:55:52.043Z"
   },
   {
    "duration": 14,
    "start_time": "2025-02-19T01:55:52.065Z"
   },
   {
    "duration": 65,
    "start_time": "2025-02-19T01:55:52.082Z"
   },
   {
    "duration": 53,
    "start_time": "2025-02-19T01:55:52.148Z"
   },
   {
    "duration": 398,
    "start_time": "2025-02-19T01:55:52.203Z"
   },
   {
    "duration": 743,
    "start_time": "2025-02-19T01:55:52.602Z"
   },
   {
    "duration": 0,
    "start_time": "2025-02-19T01:55:53.347Z"
   },
   {
    "duration": 0,
    "start_time": "2025-02-19T01:55:53.349Z"
   },
   {
    "duration": 0,
    "start_time": "2025-02-19T01:55:53.350Z"
   },
   {
    "duration": 0,
    "start_time": "2025-02-19T01:55:53.351Z"
   },
   {
    "duration": 0,
    "start_time": "2025-02-19T01:55:53.352Z"
   },
   {
    "duration": 0,
    "start_time": "2025-02-19T01:55:53.352Z"
   },
   {
    "duration": 0,
    "start_time": "2025-02-19T01:55:53.353Z"
   },
   {
    "duration": 37,
    "start_time": "2025-02-19T01:56:07.494Z"
   },
   {
    "duration": 392,
    "start_time": "2025-02-19T01:56:11.389Z"
   },
   {
    "duration": 18,
    "start_time": "2025-02-19T01:56:18.577Z"
   },
   {
    "duration": 206,
    "start_time": "2025-02-19T01:56:21.761Z"
   },
   {
    "duration": 23,
    "start_time": "2025-02-19T01:56:25.650Z"
   },
   {
    "duration": 298,
    "start_time": "2025-02-19T01:56:29.473Z"
   },
   {
    "duration": 37,
    "start_time": "2025-02-19T01:56:33.538Z"
   },
   {
    "duration": 104,
    "start_time": "2025-02-19T01:56:37.027Z"
   },
   {
    "duration": 794,
    "start_time": "2025-02-19T02:24:18.786Z"
   },
   {
    "duration": 14,
    "start_time": "2025-02-19T02:24:19.583Z"
   },
   {
    "duration": 92,
    "start_time": "2025-02-19T02:24:19.599Z"
   },
   {
    "duration": 51,
    "start_time": "2025-02-19T02:24:19.694Z"
   },
   {
    "duration": 89,
    "start_time": "2025-02-19T02:24:19.747Z"
   },
   {
    "duration": 10,
    "start_time": "2025-02-19T02:24:19.837Z"
   },
   {
    "duration": 9,
    "start_time": "2025-02-19T02:24:19.849Z"
   },
   {
    "duration": 10,
    "start_time": "2025-02-19T02:24:19.859Z"
   },
   {
    "duration": 9,
    "start_time": "2025-02-19T02:24:19.870Z"
   },
   {
    "duration": 5,
    "start_time": "2025-02-19T02:24:19.883Z"
   },
   {
    "duration": 4,
    "start_time": "2025-02-19T02:24:19.889Z"
   },
   {
    "duration": 46,
    "start_time": "2025-02-19T02:24:19.894Z"
   },
   {
    "duration": 4,
    "start_time": "2025-02-19T02:24:19.942Z"
   },
   {
    "duration": 5,
    "start_time": "2025-02-19T02:24:19.948Z"
   },
   {
    "duration": 14,
    "start_time": "2025-02-19T02:24:19.955Z"
   },
   {
    "duration": 25,
    "start_time": "2025-02-19T02:24:19.970Z"
   },
   {
    "duration": 54,
    "start_time": "2025-02-19T02:24:19.997Z"
   },
   {
    "duration": 7,
    "start_time": "2025-02-19T02:24:20.053Z"
   },
   {
    "duration": 12,
    "start_time": "2025-02-19T02:24:20.062Z"
   },
   {
    "duration": 16,
    "start_time": "2025-02-19T02:24:20.076Z"
   },
   {
    "duration": 37,
    "start_time": "2025-02-19T02:24:20.094Z"
   },
   {
    "duration": 9,
    "start_time": "2025-02-19T02:24:20.133Z"
   },
   {
    "duration": 13,
    "start_time": "2025-02-19T02:24:20.144Z"
   },
   {
    "duration": 20,
    "start_time": "2025-02-19T02:24:20.159Z"
   },
   {
    "duration": 58,
    "start_time": "2025-02-19T02:24:20.181Z"
   },
   {
    "duration": 8,
    "start_time": "2025-02-19T02:24:20.241Z"
   },
   {
    "duration": 8,
    "start_time": "2025-02-19T02:24:20.251Z"
   },
   {
    "duration": 4,
    "start_time": "2025-02-19T02:24:20.263Z"
   },
   {
    "duration": 7,
    "start_time": "2025-02-19T02:24:20.268Z"
   },
   {
    "duration": 8,
    "start_time": "2025-02-19T02:24:20.277Z"
   },
   {
    "duration": 5,
    "start_time": "2025-02-19T02:24:20.286Z"
   },
   {
    "duration": 42,
    "start_time": "2025-02-19T02:24:20.293Z"
   },
   {
    "duration": 5,
    "start_time": "2025-02-19T02:24:20.337Z"
   },
   {
    "duration": 8,
    "start_time": "2025-02-19T02:24:20.344Z"
   },
   {
    "duration": 9,
    "start_time": "2025-02-19T02:24:20.353Z"
   },
   {
    "duration": 5,
    "start_time": "2025-02-19T02:24:20.363Z"
   },
   {
    "duration": 12,
    "start_time": "2025-02-19T02:24:20.370Z"
   },
   {
    "duration": 7,
    "start_time": "2025-02-19T02:24:20.384Z"
   },
   {
    "duration": 43,
    "start_time": "2025-02-19T02:24:20.392Z"
   },
   {
    "duration": 11,
    "start_time": "2025-02-19T02:24:20.437Z"
   },
   {
    "duration": 6,
    "start_time": "2025-02-19T02:24:20.450Z"
   },
   {
    "duration": 11,
    "start_time": "2025-02-19T02:24:20.457Z"
   },
   {
    "duration": 6,
    "start_time": "2025-02-19T02:24:20.470Z"
   },
   {
    "duration": 9,
    "start_time": "2025-02-19T02:24:20.478Z"
   },
   {
    "duration": 43,
    "start_time": "2025-02-19T02:24:20.489Z"
   },
   {
    "duration": 3,
    "start_time": "2025-02-19T02:24:20.534Z"
   },
   {
    "duration": 20,
    "start_time": "2025-02-19T02:24:20.539Z"
   },
   {
    "duration": 21,
    "start_time": "2025-02-19T02:24:20.560Z"
   },
   {
    "duration": 13,
    "start_time": "2025-02-19T02:24:20.582Z"
   },
   {
    "duration": 43,
    "start_time": "2025-02-19T02:24:20.598Z"
   },
   {
    "duration": 15,
    "start_time": "2025-02-19T02:24:20.643Z"
   },
   {
    "duration": 11,
    "start_time": "2025-02-19T02:24:20.660Z"
   },
   {
    "duration": 64,
    "start_time": "2025-02-19T02:24:20.672Z"
   },
   {
    "duration": 37,
    "start_time": "2025-02-19T02:24:20.738Z"
   },
   {
    "duration": 368,
    "start_time": "2025-02-19T02:24:20.777Z"
   },
   {
    "duration": 572,
    "start_time": "2025-02-19T02:24:21.147Z"
   },
   {
    "duration": 0,
    "start_time": "2025-02-19T02:24:21.721Z"
   },
   {
    "duration": 0,
    "start_time": "2025-02-19T02:24:21.722Z"
   },
   {
    "duration": 0,
    "start_time": "2025-02-19T02:24:21.723Z"
   },
   {
    "duration": 0,
    "start_time": "2025-02-19T02:24:21.731Z"
   },
   {
    "duration": 0,
    "start_time": "2025-02-19T02:24:21.732Z"
   },
   {
    "duration": 0,
    "start_time": "2025-02-19T02:24:21.733Z"
   },
   {
    "duration": 0,
    "start_time": "2025-02-19T02:24:21.734Z"
   },
   {
    "duration": 36,
    "start_time": "2025-02-19T02:24:35.932Z"
   },
   {
    "duration": 404,
    "start_time": "2025-02-19T02:24:40.084Z"
   },
   {
    "duration": 17,
    "start_time": "2025-02-19T02:24:45.434Z"
   },
   {
    "duration": 184,
    "start_time": "2025-02-19T02:24:49.394Z"
   },
   {
    "duration": 23,
    "start_time": "2025-02-19T02:24:53.504Z"
   },
   {
    "duration": 308,
    "start_time": "2025-02-19T02:24:57.453Z"
   },
   {
    "duration": 37,
    "start_time": "2025-02-19T02:25:02.006Z"
   },
   {
    "duration": 97,
    "start_time": "2025-02-19T02:25:05.886Z"
   },
   {
    "duration": 99,
    "start_time": "2025-02-19T02:25:55.620Z"
   },
   {
    "duration": 285,
    "start_time": "2025-02-19T02:25:59.673Z"
   },
   {
    "duration": 162,
    "start_time": "2025-02-19T02:28:36.152Z"
   },
   {
    "duration": 762,
    "start_time": "2025-02-19T02:37:13.511Z"
   },
   {
    "duration": 14,
    "start_time": "2025-02-19T02:37:14.275Z"
   },
   {
    "duration": 100,
    "start_time": "2025-02-19T02:37:14.291Z"
   },
   {
    "duration": 50,
    "start_time": "2025-02-19T02:37:14.393Z"
   },
   {
    "duration": 80,
    "start_time": "2025-02-19T02:37:14.445Z"
   },
   {
    "duration": 9,
    "start_time": "2025-02-19T02:37:14.527Z"
   },
   {
    "duration": 9,
    "start_time": "2025-02-19T02:37:14.537Z"
   },
   {
    "duration": 10,
    "start_time": "2025-02-19T02:37:14.548Z"
   },
   {
    "duration": 9,
    "start_time": "2025-02-19T02:37:14.559Z"
   },
   {
    "duration": 4,
    "start_time": "2025-02-19T02:37:14.571Z"
   },
   {
    "duration": 4,
    "start_time": "2025-02-19T02:37:14.577Z"
   },
   {
    "duration": 9,
    "start_time": "2025-02-19T02:37:14.584Z"
   },
   {
    "duration": 37,
    "start_time": "2025-02-19T02:37:14.594Z"
   },
   {
    "duration": 6,
    "start_time": "2025-02-19T02:37:14.633Z"
   },
   {
    "duration": 20,
    "start_time": "2025-02-19T02:37:14.641Z"
   },
   {
    "duration": 31,
    "start_time": "2025-02-19T02:37:14.663Z"
   },
   {
    "duration": 53,
    "start_time": "2025-02-19T02:37:14.696Z"
   },
   {
    "duration": 9,
    "start_time": "2025-02-19T02:37:14.750Z"
   },
   {
    "duration": 12,
    "start_time": "2025-02-19T02:37:14.760Z"
   },
   {
    "duration": 18,
    "start_time": "2025-02-19T02:37:14.774Z"
   },
   {
    "duration": 37,
    "start_time": "2025-02-19T02:37:14.794Z"
   },
   {
    "duration": 8,
    "start_time": "2025-02-19T02:37:14.833Z"
   },
   {
    "duration": 13,
    "start_time": "2025-02-19T02:37:14.843Z"
   },
   {
    "duration": 20,
    "start_time": "2025-02-19T02:37:14.857Z"
   },
   {
    "duration": 53,
    "start_time": "2025-02-19T02:37:14.879Z"
   },
   {
    "duration": 8,
    "start_time": "2025-02-19T02:37:14.934Z"
   },
   {
    "duration": 9,
    "start_time": "2025-02-19T02:37:14.943Z"
   },
   {
    "duration": 4,
    "start_time": "2025-02-19T02:37:14.957Z"
   },
   {
    "duration": 8,
    "start_time": "2025-02-19T02:37:14.963Z"
   },
   {
    "duration": 9,
    "start_time": "2025-02-19T02:37:14.973Z"
   },
   {
    "duration": 5,
    "start_time": "2025-02-19T02:37:14.984Z"
   },
   {
    "duration": 44,
    "start_time": "2025-02-19T02:37:14.990Z"
   },
   {
    "duration": 5,
    "start_time": "2025-02-19T02:37:15.036Z"
   },
   {
    "duration": 8,
    "start_time": "2025-02-19T02:37:15.043Z"
   },
   {
    "duration": 8,
    "start_time": "2025-02-19T02:37:15.053Z"
   },
   {
    "duration": 6,
    "start_time": "2025-02-19T02:37:15.062Z"
   },
   {
    "duration": 13,
    "start_time": "2025-02-19T02:37:15.070Z"
   },
   {
    "duration": 8,
    "start_time": "2025-02-19T02:37:15.084Z"
   },
   {
    "duration": 12,
    "start_time": "2025-02-19T02:37:15.131Z"
   },
   {
    "duration": 10,
    "start_time": "2025-02-19T02:37:15.145Z"
   },
   {
    "duration": 5,
    "start_time": "2025-02-19T02:37:15.157Z"
   },
   {
    "duration": 11,
    "start_time": "2025-02-19T02:37:15.164Z"
   },
   {
    "duration": 7,
    "start_time": "2025-02-19T02:37:15.176Z"
   },
   {
    "duration": 9,
    "start_time": "2025-02-19T02:37:15.184Z"
   },
   {
    "duration": 3,
    "start_time": "2025-02-19T02:37:15.231Z"
   },
   {
    "duration": 5,
    "start_time": "2025-02-19T02:37:15.235Z"
   },
   {
    "duration": 21,
    "start_time": "2025-02-19T02:37:15.241Z"
   },
   {
    "duration": 19,
    "start_time": "2025-02-19T02:37:15.264Z"
   },
   {
    "duration": 14,
    "start_time": "2025-02-19T02:37:15.284Z"
   },
   {
    "duration": 41,
    "start_time": "2025-02-19T02:37:15.299Z"
   },
   {
    "duration": 16,
    "start_time": "2025-02-19T02:37:15.341Z"
   },
   {
    "duration": 9,
    "start_time": "2025-02-19T02:37:15.359Z"
   },
   {
    "duration": 66,
    "start_time": "2025-02-19T02:37:15.369Z"
   },
   {
    "duration": 38,
    "start_time": "2025-02-19T02:37:15.437Z"
   },
   {
    "duration": 373,
    "start_time": "2025-02-19T02:37:15.477Z"
   },
   {
    "duration": 575,
    "start_time": "2025-02-19T02:37:15.851Z"
   },
   {
    "duration": 0,
    "start_time": "2025-02-19T02:37:16.431Z"
   },
   {
    "duration": 0,
    "start_time": "2025-02-19T02:37:16.432Z"
   },
   {
    "duration": 0,
    "start_time": "2025-02-19T02:37:16.433Z"
   },
   {
    "duration": 0,
    "start_time": "2025-02-19T02:37:16.434Z"
   },
   {
    "duration": 0,
    "start_time": "2025-02-19T02:37:16.436Z"
   },
   {
    "duration": 0,
    "start_time": "2025-02-19T02:37:16.437Z"
   },
   {
    "duration": 828,
    "start_time": "2025-02-19T02:39:58.835Z"
   },
   {
    "duration": 11,
    "start_time": "2025-02-19T02:39:59.666Z"
   },
   {
    "duration": 79,
    "start_time": "2025-02-19T02:39:59.679Z"
   },
   {
    "duration": 37,
    "start_time": "2025-02-19T02:39:59.760Z"
   },
   {
    "duration": 67,
    "start_time": "2025-02-19T02:39:59.799Z"
   },
   {
    "duration": 7,
    "start_time": "2025-02-19T02:39:59.868Z"
   },
   {
    "duration": 8,
    "start_time": "2025-02-19T02:39:59.877Z"
   },
   {
    "duration": 9,
    "start_time": "2025-02-19T02:39:59.886Z"
   },
   {
    "duration": 10,
    "start_time": "2025-02-19T02:39:59.897Z"
   },
   {
    "duration": 4,
    "start_time": "2025-02-19T02:39:59.931Z"
   },
   {
    "duration": 4,
    "start_time": "2025-02-19T02:39:59.936Z"
   },
   {
    "duration": 9,
    "start_time": "2025-02-19T02:39:59.942Z"
   },
   {
    "duration": 5,
    "start_time": "2025-02-19T02:39:59.953Z"
   },
   {
    "duration": 5,
    "start_time": "2025-02-19T02:39:59.959Z"
   },
   {
    "duration": 15,
    "start_time": "2025-02-19T02:39:59.966Z"
   },
   {
    "duration": 56,
    "start_time": "2025-02-19T02:39:59.983Z"
   },
   {
    "duration": 27,
    "start_time": "2025-02-19T02:40:00.041Z"
   },
   {
    "duration": 8,
    "start_time": "2025-02-19T02:40:00.070Z"
   },
   {
    "duration": 12,
    "start_time": "2025-02-19T02:40:00.080Z"
   },
   {
    "duration": 51,
    "start_time": "2025-02-19T02:40:00.093Z"
   },
   {
    "duration": 13,
    "start_time": "2025-02-19T02:40:00.146Z"
   },
   {
    "duration": 8,
    "start_time": "2025-02-19T02:40:00.161Z"
   },
   {
    "duration": 14,
    "start_time": "2025-02-19T02:40:00.171Z"
   },
   {
    "duration": 20,
    "start_time": "2025-02-19T02:40:00.187Z"
   },
   {
    "duration": 49,
    "start_time": "2025-02-19T02:40:00.208Z"
   },
   {
    "duration": 8,
    "start_time": "2025-02-19T02:40:00.259Z"
   },
   {
    "duration": 9,
    "start_time": "2025-02-19T02:40:00.269Z"
   },
   {
    "duration": 4,
    "start_time": "2025-02-19T02:40:00.285Z"
   },
   {
    "duration": 7,
    "start_time": "2025-02-19T02:40:00.291Z"
   },
   {
    "duration": 39,
    "start_time": "2025-02-19T02:40:00.300Z"
   },
   {
    "duration": 5,
    "start_time": "2025-02-19T02:40:00.341Z"
   },
   {
    "duration": 7,
    "start_time": "2025-02-19T02:40:00.352Z"
   },
   {
    "duration": 6,
    "start_time": "2025-02-19T02:40:00.361Z"
   },
   {
    "duration": 10,
    "start_time": "2025-02-19T02:40:00.369Z"
   },
   {
    "duration": 13,
    "start_time": "2025-02-19T02:40:00.380Z"
   },
   {
    "duration": 41,
    "start_time": "2025-02-19T02:40:00.396Z"
   },
   {
    "duration": 12,
    "start_time": "2025-02-19T02:40:00.440Z"
   },
   {
    "duration": 7,
    "start_time": "2025-02-19T02:40:00.454Z"
   },
   {
    "duration": 9,
    "start_time": "2025-02-19T02:40:00.462Z"
   },
   {
    "duration": 10,
    "start_time": "2025-02-19T02:40:00.473Z"
   },
   {
    "duration": 5,
    "start_time": "2025-02-19T02:40:00.485Z"
   },
   {
    "duration": 44,
    "start_time": "2025-02-19T02:40:00.491Z"
   },
   {
    "duration": 6,
    "start_time": "2025-02-19T02:40:00.537Z"
   },
   {
    "duration": 9,
    "start_time": "2025-02-19T02:40:00.545Z"
   },
   {
    "duration": 4,
    "start_time": "2025-02-19T02:40:00.555Z"
   },
   {
    "duration": 3,
    "start_time": "2025-02-19T02:40:00.560Z"
   },
   {
    "duration": 21,
    "start_time": "2025-02-19T02:40:00.564Z"
   },
   {
    "duration": 56,
    "start_time": "2025-02-19T02:40:00.586Z"
   },
   {
    "duration": 14,
    "start_time": "2025-02-19T02:40:00.644Z"
   },
   {
    "duration": 16,
    "start_time": "2025-02-19T02:40:00.660Z"
   },
   {
    "duration": 16,
    "start_time": "2025-02-19T02:40:00.678Z"
   },
   {
    "duration": 11,
    "start_time": "2025-02-19T02:40:00.696Z"
   },
   {
    "duration": 43,
    "start_time": "2025-02-19T02:40:00.732Z"
   },
   {
    "duration": 54,
    "start_time": "2025-02-19T02:40:00.777Z"
   },
   {
    "duration": 332,
    "start_time": "2025-02-19T02:40:00.833Z"
   },
   {
    "duration": 592,
    "start_time": "2025-02-19T02:40:01.167Z"
   },
   {
    "duration": 0,
    "start_time": "2025-02-19T02:40:01.761Z"
   },
   {
    "duration": 0,
    "start_time": "2025-02-19T02:40:01.762Z"
   },
   {
    "duration": 0,
    "start_time": "2025-02-19T02:40:01.763Z"
   },
   {
    "duration": 0,
    "start_time": "2025-02-19T02:40:01.764Z"
   },
   {
    "duration": 0,
    "start_time": "2025-02-19T02:40:01.765Z"
   },
   {
    "duration": 0,
    "start_time": "2025-02-19T02:40:01.767Z"
   },
   {
    "duration": 16,
    "start_time": "2025-02-19T02:40:11.927Z"
   },
   {
    "duration": 35,
    "start_time": "2025-02-19T02:40:17.311Z"
   },
   {
    "duration": 392,
    "start_time": "2025-02-19T02:40:21.093Z"
   },
   {
    "duration": 17,
    "start_time": "2025-02-19T02:40:25.767Z"
   },
   {
    "duration": 227,
    "start_time": "2025-02-19T02:40:29.721Z"
   },
   {
    "duration": 22,
    "start_time": "2025-02-19T02:40:33.498Z"
   },
   {
    "duration": 327,
    "start_time": "2025-02-19T02:40:36.891Z"
   },
   {
    "duration": 35,
    "start_time": "2025-02-19T02:40:41.543Z"
   },
   {
    "duration": 111,
    "start_time": "2025-02-19T02:40:45.030Z"
   },
   {
    "duration": 5,
    "start_time": "2025-02-19T02:45:09.758Z"
   },
   {
    "duration": 5,
    "start_time": "2025-02-19T02:45:28.724Z"
   },
   {
    "duration": 8,
    "start_time": "2025-02-19T02:45:55.452Z"
   },
   {
    "duration": 10,
    "start_time": "2025-02-19T02:46:13.138Z"
   },
   {
    "duration": 4,
    "start_time": "2025-02-19T02:46:39.885Z"
   },
   {
    "duration": 87,
    "start_time": "2025-02-19T02:47:07.416Z"
   },
   {
    "duration": 39,
    "start_time": "2025-02-19T02:47:21.017Z"
   },
   {
    "duration": 37,
    "start_time": "2025-02-19T02:47:42.843Z"
   },
   {
    "duration": 284,
    "start_time": "2025-02-19T02:48:06.401Z"
   },
   {
    "duration": 5,
    "start_time": "2025-02-19T02:51:09.461Z"
   },
   {
    "duration": 4,
    "start_time": "2025-02-19T02:53:03.139Z"
   },
   {
    "duration": 6,
    "start_time": "2025-02-19T02:53:19.875Z"
   },
   {
    "duration": 11,
    "start_time": "2025-02-19T02:55:30.474Z"
   },
   {
    "duration": 14,
    "start_time": "2025-02-19T02:55:50.420Z"
   },
   {
    "duration": 6,
    "start_time": "2025-02-19T02:56:12.709Z"
   },
   {
    "duration": 98,
    "start_time": "2025-02-19T02:56:45.023Z"
   },
   {
    "duration": 14,
    "start_time": "2025-02-19T02:56:53.772Z"
   },
   {
    "duration": 16,
    "start_time": "2025-02-19T02:57:23.536Z"
   },
   {
    "duration": 13,
    "start_time": "2025-02-19T02:57:41.388Z"
   },
   {
    "duration": 66,
    "start_time": "2025-02-19T02:58:39.588Z"
   },
   {
    "duration": 123,
    "start_time": "2025-02-19T02:58:46.004Z"
   },
   {
    "duration": 147,
    "start_time": "2025-02-19T02:58:51.575Z"
   },
   {
    "duration": 5,
    "start_time": "2025-02-19T02:59:13.356Z"
   },
   {
    "duration": 9,
    "start_time": "2025-02-19T02:59:17.554Z"
   },
   {
    "duration": 13,
    "start_time": "2025-02-19T02:59:22.146Z"
   },
   {
    "duration": 5,
    "start_time": "2025-02-19T02:59:28.284Z"
   },
   {
    "duration": 15,
    "start_time": "2025-02-19T02:59:51.559Z"
   },
   {
    "duration": 127,
    "start_time": "2025-02-19T03:00:00.819Z"
   },
   {
    "duration": 6,
    "start_time": "2025-02-19T03:00:42.834Z"
   },
   {
    "duration": 13,
    "start_time": "2025-02-19T03:00:46.361Z"
   },
   {
    "duration": 105,
    "start_time": "2025-02-19T03:00:52.561Z"
   },
   {
    "duration": 170,
    "start_time": "2025-02-19T03:00:59.127Z"
   },
   {
    "duration": 5,
    "start_time": "2025-02-19T03:04:05.877Z"
   },
   {
    "duration": 4,
    "start_time": "2025-02-19T03:04:08.165Z"
   },
   {
    "duration": 6,
    "start_time": "2025-02-19T03:04:25.443Z"
   },
   {
    "duration": 4,
    "start_time": "2025-02-19T03:04:39.919Z"
   },
   {
    "duration": 9,
    "start_time": "2025-02-19T03:04:42.872Z"
   },
   {
    "duration": 8,
    "start_time": "2025-02-19T03:05:18.387Z"
   },
   {
    "duration": 15,
    "start_time": "2025-02-19T03:05:21.969Z"
   },
   {
    "duration": 6,
    "start_time": "2025-02-19T03:05:31.818Z"
   },
   {
    "duration": 5,
    "start_time": "2025-02-19T03:05:34.140Z"
   },
   {
    "duration": 5,
    "start_time": "2025-02-19T03:05:36.687Z"
   },
   {
    "duration": 3,
    "start_time": "2025-02-19T03:05:39.138Z"
   },
   {
    "duration": 9,
    "start_time": "2025-02-19T03:05:42.299Z"
   },
   {
    "duration": 5,
    "start_time": "2025-02-19T03:05:46.927Z"
   },
   {
    "duration": 13,
    "start_time": "2025-02-19T03:05:49.876Z"
   },
   {
    "duration": 110,
    "start_time": "2025-02-19T03:05:57.735Z"
   },
   {
    "duration": 148,
    "start_time": "2025-02-19T03:06:04.506Z"
   },
   {
    "duration": 5,
    "start_time": "2025-02-19T03:15:38.563Z"
   },
   {
    "duration": 15,
    "start_time": "2025-02-19T03:15:42.970Z"
   },
   {
    "duration": 106,
    "start_time": "2025-02-19T03:15:50.869Z"
   },
   {
    "duration": 103,
    "start_time": "2025-02-19T03:15:57.317Z"
   },
   {
    "duration": 10,
    "start_time": "2025-02-19T03:18:28.865Z"
   },
   {
    "duration": 28,
    "start_time": "2025-02-19T03:18:44.239Z"
   },
   {
    "duration": 4,
    "start_time": "2025-02-19T03:22:21.687Z"
   },
   {
    "duration": 20,
    "start_time": "2025-02-19T03:22:38.799Z"
   },
   {
    "duration": 9,
    "start_time": "2025-02-19T03:23:21.931Z"
   },
   {
    "duration": 5,
    "start_time": "2025-02-19T03:23:29.164Z"
   },
   {
    "duration": 14,
    "start_time": "2025-02-19T03:23:45.197Z"
   },
   {
    "duration": 6,
    "start_time": "2025-02-19T03:24:16.134Z"
   },
   {
    "duration": 6,
    "start_time": "2025-02-19T03:24:34.217Z"
   },
   {
    "duration": 89,
    "start_time": "2025-02-19T03:24:57.835Z"
   },
   {
    "duration": 136,
    "start_time": "2025-02-19T03:25:15.132Z"
   },
   {
    "duration": 6,
    "start_time": "2025-02-19T03:25:41.272Z"
   },
   {
    "duration": 5,
    "start_time": "2025-02-19T03:25:44.338Z"
   },
   {
    "duration": 6,
    "start_time": "2025-02-19T03:25:47.081Z"
   },
   {
    "duration": 4,
    "start_time": "2025-02-19T03:25:49.613Z"
   },
   {
    "duration": 10,
    "start_time": "2025-02-19T03:25:52.124Z"
   },
   {
    "duration": 4,
    "start_time": "2025-02-19T03:25:56.287Z"
   },
   {
    "duration": 51,
    "start_time": "2025-02-19T03:25:59.142Z"
   },
   {
    "duration": 46,
    "start_time": "2025-02-19T03:26:03.144Z"
   },
   {
    "duration": 52,
    "start_time": "2025-02-19T03:26:22.618Z"
   },
   {
    "duration": 7,
    "start_time": "2025-02-19T03:26:27.047Z"
   },
   {
    "duration": 5,
    "start_time": "2025-02-19T03:26:30.701Z"
   },
   {
    "duration": 5,
    "start_time": "2025-02-19T03:26:33.497Z"
   },
   {
    "duration": 3,
    "start_time": "2025-02-19T03:26:36.419Z"
   },
   {
    "duration": 11,
    "start_time": "2025-02-19T03:26:39.106Z"
   },
   {
    "duration": 5,
    "start_time": "2025-02-19T03:26:43.006Z"
   },
   {
    "duration": 54,
    "start_time": "2025-02-19T03:26:45.952Z"
   },
   {
    "duration": 6,
    "start_time": "2025-02-19T03:30:24.487Z"
   },
   {
    "duration": 4,
    "start_time": "2025-02-19T03:30:36.983Z"
   },
   {
    "duration": 5,
    "start_time": "2025-02-19T03:30:50.881Z"
   },
   {
    "duration": 3,
    "start_time": "2025-02-19T03:31:03.357Z"
   },
   {
    "duration": 12,
    "start_time": "2025-02-19T03:31:42.621Z"
   },
   {
    "duration": 18,
    "start_time": "2025-02-19T03:32:10.920Z"
   },
   {
    "duration": 6,
    "start_time": "2025-02-19T03:55:59.884Z"
   },
   {
    "duration": 7,
    "start_time": "2025-02-19T03:56:18.479Z"
   },
   {
    "duration": 5,
    "start_time": "2025-02-19T03:56:31.760Z"
   },
   {
    "duration": 4,
    "start_time": "2025-02-19T03:57:22.949Z"
   },
   {
    "duration": 3,
    "start_time": "2025-02-19T03:58:24.343Z"
   },
   {
    "duration": 40,
    "start_time": "2025-02-19T03:58:45.329Z"
   },
   {
    "duration": 39,
    "start_time": "2025-02-19T03:59:12.589Z"
   },
   {
    "duration": 275,
    "start_time": "2025-02-19T03:59:54.401Z"
   },
   {
    "duration": 42,
    "start_time": "2025-02-19T04:00:39.326Z"
   },
   {
    "duration": 158,
    "start_time": "2025-02-20T04:45:55.300Z"
   },
   {
    "duration": 2519,
    "start_time": "2025-02-20T04:46:00.351Z"
   },
   {
    "duration": 16,
    "start_time": "2025-02-20T04:46:02.872Z"
   },
   {
    "duration": 87,
    "start_time": "2025-02-20T04:46:02.890Z"
   },
   {
    "duration": 54,
    "start_time": "2025-02-20T04:46:02.980Z"
   },
   {
    "duration": 84,
    "start_time": "2025-02-20T04:46:03.035Z"
   },
   {
    "duration": 11,
    "start_time": "2025-02-20T04:46:03.120Z"
   },
   {
    "duration": 10,
    "start_time": "2025-02-20T04:46:03.132Z"
   },
   {
    "duration": 10,
    "start_time": "2025-02-20T04:46:03.143Z"
   },
   {
    "duration": 23,
    "start_time": "2025-02-20T04:46:03.154Z"
   },
   {
    "duration": 4,
    "start_time": "2025-02-20T04:46:03.180Z"
   },
   {
    "duration": 3,
    "start_time": "2025-02-20T04:46:03.186Z"
   },
   {
    "duration": 9,
    "start_time": "2025-02-20T04:46:03.191Z"
   },
   {
    "duration": 4,
    "start_time": "2025-02-20T04:46:03.202Z"
   },
   {
    "duration": 5,
    "start_time": "2025-02-20T04:46:03.208Z"
   },
   {
    "duration": 55,
    "start_time": "2025-02-20T04:46:03.215Z"
   },
   {
    "duration": 26,
    "start_time": "2025-02-20T04:46:03.272Z"
   },
   {
    "duration": 27,
    "start_time": "2025-02-20T04:46:03.300Z"
   },
   {
    "duration": 8,
    "start_time": "2025-02-20T04:46:03.329Z"
   },
   {
    "duration": 36,
    "start_time": "2025-02-20T04:46:03.339Z"
   },
   {
    "duration": 17,
    "start_time": "2025-02-20T04:46:03.377Z"
   },
   {
    "duration": 12,
    "start_time": "2025-02-20T04:46:03.396Z"
   },
   {
    "duration": 9,
    "start_time": "2025-02-20T04:46:03.409Z"
   },
   {
    "duration": 14,
    "start_time": "2025-02-20T04:46:03.420Z"
   },
   {
    "duration": 49,
    "start_time": "2025-02-20T04:46:03.435Z"
   },
   {
    "duration": 31,
    "start_time": "2025-02-20T04:46:03.486Z"
   },
   {
    "duration": 8,
    "start_time": "2025-02-20T04:46:03.519Z"
   },
   {
    "duration": 8,
    "start_time": "2025-02-20T04:46:03.529Z"
   },
   {
    "duration": 4,
    "start_time": "2025-02-20T04:46:03.570Z"
   },
   {
    "duration": 8,
    "start_time": "2025-02-20T04:46:03.575Z"
   },
   {
    "duration": 8,
    "start_time": "2025-02-20T04:46:03.585Z"
   },
   {
    "duration": 5,
    "start_time": "2025-02-20T04:46:03.594Z"
   },
   {
    "duration": 6,
    "start_time": "2025-02-20T04:46:03.600Z"
   },
   {
    "duration": 5,
    "start_time": "2025-02-20T04:46:03.608Z"
   },
   {
    "duration": 10,
    "start_time": "2025-02-20T04:46:03.615Z"
   },
   {
    "duration": 53,
    "start_time": "2025-02-20T04:46:03.626Z"
   },
   {
    "duration": 7,
    "start_time": "2025-02-20T04:46:03.681Z"
   },
   {
    "duration": 12,
    "start_time": "2025-02-20T04:46:03.690Z"
   },
   {
    "duration": 7,
    "start_time": "2025-02-20T04:46:03.703Z"
   },
   {
    "duration": 11,
    "start_time": "2025-02-20T04:46:03.712Z"
   },
   {
    "duration": 9,
    "start_time": "2025-02-20T04:46:03.724Z"
   },
   {
    "duration": 39,
    "start_time": "2025-02-20T04:46:03.735Z"
   },
   {
    "duration": 12,
    "start_time": "2025-02-20T04:46:03.776Z"
   },
   {
    "duration": 7,
    "start_time": "2025-02-20T04:46:03.789Z"
   },
   {
    "duration": 9,
    "start_time": "2025-02-20T04:46:03.798Z"
   },
   {
    "duration": 2,
    "start_time": "2025-02-20T04:46:03.809Z"
   },
   {
    "duration": 4,
    "start_time": "2025-02-20T04:46:03.813Z"
   },
   {
    "duration": 53,
    "start_time": "2025-02-20T04:46:03.818Z"
   },
   {
    "duration": 19,
    "start_time": "2025-02-20T04:46:03.873Z"
   },
   {
    "duration": 14,
    "start_time": "2025-02-20T04:46:03.894Z"
   },
   {
    "duration": 15,
    "start_time": "2025-02-20T04:46:03.909Z"
   },
   {
    "duration": 15,
    "start_time": "2025-02-20T04:46:03.925Z"
   },
   {
    "duration": 10,
    "start_time": "2025-02-20T04:46:03.970Z"
   },
   {
    "duration": 40,
    "start_time": "2025-02-20T04:46:03.982Z"
   },
   {
    "duration": 55,
    "start_time": "2025-02-20T04:46:04.024Z"
   },
   {
    "duration": 336,
    "start_time": "2025-02-20T04:46:04.080Z"
   },
   {
    "duration": 453,
    "start_time": "2025-02-20T04:46:04.418Z"
   },
   {
    "duration": 0,
    "start_time": "2025-02-20T04:46:04.873Z"
   },
   {
    "duration": 0,
    "start_time": "2025-02-20T04:46:04.874Z"
   },
   {
    "duration": 0,
    "start_time": "2025-02-20T04:46:04.876Z"
   },
   {
    "duration": 0,
    "start_time": "2025-02-20T04:46:04.877Z"
   },
   {
    "duration": 0,
    "start_time": "2025-02-20T04:46:04.879Z"
   },
   {
    "duration": 0,
    "start_time": "2025-02-20T04:46:04.880Z"
   },
   {
    "duration": 36,
    "start_time": "2025-02-20T04:46:16.275Z"
   },
   {
    "duration": 324,
    "start_time": "2025-02-20T04:46:19.267Z"
   },
   {
    "duration": 18,
    "start_time": "2025-02-20T04:46:26.199Z"
   },
   {
    "duration": 177,
    "start_time": "2025-02-20T04:46:30.842Z"
   },
   {
    "duration": 23,
    "start_time": "2025-02-20T04:46:34.571Z"
   },
   {
    "duration": 382,
    "start_time": "2025-02-20T04:46:37.696Z"
   },
   {
    "duration": 36,
    "start_time": "2025-02-20T04:46:41.732Z"
   },
   {
    "duration": 99,
    "start_time": "2025-02-20T04:46:44.284Z"
   },
   {
    "duration": 14,
    "start_time": "2025-02-20T04:50:45.811Z"
   },
   {
    "duration": 11,
    "start_time": "2025-02-20T04:50:59.364Z"
   },
   {
    "duration": 7,
    "start_time": "2025-02-20T04:51:39.687Z"
   },
   {
    "duration": 3,
    "start_time": "2025-02-20T04:51:42.569Z"
   },
   {
    "duration": 434,
    "start_time": "2025-02-20T04:51:58.034Z"
   },
   {
    "duration": 68,
    "start_time": "2025-02-20T04:52:13.835Z"
   },
   {
    "duration": 71,
    "start_time": "2025-02-20T04:52:38.542Z"
   },
   {
    "duration": 114,
    "start_time": "2025-02-20T04:53:00.267Z"
   },
   {
    "duration": 3,
    "start_time": "2025-02-20T04:54:32.369Z"
   },
   {
    "duration": 4,
    "start_time": "2025-02-20T04:55:46.299Z"
   },
   {
    "duration": 20,
    "start_time": "2025-02-20T04:56:00.025Z"
   },
   {
    "duration": 8,
    "start_time": "2025-02-20T04:56:12.601Z"
   },
   {
    "duration": 6,
    "start_time": "2025-02-20T04:56:24.382Z"
   },
   {
    "duration": 4,
    "start_time": "2025-02-20T05:02:10.576Z"
   },
   {
    "duration": 109,
    "start_time": "2025-02-20T05:02:32.459Z"
   },
   {
    "duration": 260,
    "start_time": "2025-02-20T05:02:47.494Z"
   },
   {
    "duration": 309,
    "start_time": "2025-02-20T05:04:41.141Z"
   },
   {
    "duration": 231,
    "start_time": "2025-02-20T05:07:23.941Z"
   },
   {
    "duration": 5,
    "start_time": "2025-02-20T05:11:28.790Z"
   },
   {
    "duration": 5,
    "start_time": "2025-02-20T05:11:44.998Z"
   },
   {
    "duration": 5,
    "start_time": "2025-02-20T05:14:47.735Z"
   },
   {
    "duration": 3,
    "start_time": "2025-02-20T05:19:39.038Z"
   },
   {
    "duration": 4,
    "start_time": "2025-02-20T05:19:50.783Z"
   },
   {
    "duration": 5,
    "start_time": "2025-02-20T05:20:17.682Z"
   },
   {
    "duration": 3,
    "start_time": "2025-02-20T05:20:42.874Z"
   },
   {
    "duration": 241,
    "start_time": "2025-02-20T05:21:09.232Z"
   },
   {
    "duration": 77,
    "start_time": "2025-02-20T05:28:46.727Z"
   },
   {
    "duration": 49,
    "start_time": "2025-02-20T05:29:06.934Z"
   },
   {
    "duration": 42,
    "start_time": "2025-02-20T05:29:11.562Z"
   },
   {
    "duration": 45,
    "start_time": "2025-02-20T05:29:29.300Z"
   },
   {
    "duration": 45,
    "start_time": "2025-02-20T05:29:46.286Z"
   },
   {
    "duration": 41,
    "start_time": "2025-02-20T05:30:09.349Z"
   },
   {
    "duration": 44,
    "start_time": "2025-02-20T05:30:51.736Z"
   },
   {
    "duration": 3,
    "start_time": "2025-02-20T05:31:49.559Z"
   },
   {
    "duration": 43,
    "start_time": "2025-02-20T05:33:10.005Z"
   },
   {
    "duration": 5,
    "start_time": "2025-02-20T05:34:10.993Z"
   },
   {
    "duration": 2572,
    "start_time": "2025-02-20T20:48:57.896Z"
   },
   {
    "duration": 15,
    "start_time": "2025-02-20T20:49:01.840Z"
   },
   {
    "duration": 90,
    "start_time": "2025-02-20T20:49:05.518Z"
   },
   {
    "duration": 48,
    "start_time": "2025-02-20T20:49:09.718Z"
   },
   {
    "duration": 82,
    "start_time": "2025-02-20T20:49:12.629Z"
   },
   {
    "duration": 10,
    "start_time": "2025-02-20T20:49:16.447Z"
   },
   {
    "duration": 9,
    "start_time": "2025-02-20T20:49:20.127Z"
   },
   {
    "duration": 11,
    "start_time": "2025-02-20T20:49:24.577Z"
   },
   {
    "duration": 10,
    "start_time": "2025-02-20T20:49:28.333Z"
   },
   {
    "duration": 4,
    "start_time": "2025-02-20T20:49:33.727Z"
   },
   {
    "duration": 4,
    "start_time": "2025-02-20T20:49:36.650Z"
   },
   {
    "duration": 10,
    "start_time": "2025-02-20T20:49:39.472Z"
   },
   {
    "duration": 5,
    "start_time": "2025-02-20T20:49:42.671Z"
   },
   {
    "duration": 5,
    "start_time": "2025-02-20T20:49:45.956Z"
   },
   {
    "duration": 16,
    "start_time": "2025-02-20T20:49:48.497Z"
   },
   {
    "duration": 26,
    "start_time": "2025-02-20T20:49:51.008Z"
   },
   {
    "duration": 26,
    "start_time": "2025-02-20T20:49:54.272Z"
   },
   {
    "duration": 9,
    "start_time": "2025-02-20T20:49:57.576Z"
   },
   {
    "duration": 12,
    "start_time": "2025-02-20T20:50:01.017Z"
   },
   {
    "duration": 17,
    "start_time": "2025-02-20T20:50:04.811Z"
   },
   {
    "duration": 12,
    "start_time": "2025-02-20T20:50:07.865Z"
   },
   {
    "duration": 8,
    "start_time": "2025-02-20T20:50:10.514Z"
   },
   {
    "duration": 15,
    "start_time": "2025-02-20T20:50:13.985Z"
   },
   {
    "duration": 21,
    "start_time": "2025-02-20T20:50:19.596Z"
   },
   {
    "duration": 31,
    "start_time": "2025-02-20T20:50:23.776Z"
   },
   {
    "duration": 8,
    "start_time": "2025-02-20T20:50:26.404Z"
   },
   {
    "duration": 8,
    "start_time": "2025-02-20T20:50:30.807Z"
   },
   {
    "duration": 5,
    "start_time": "2025-02-20T20:50:34.096Z"
   },
   {
    "duration": 8,
    "start_time": "2025-02-20T20:50:35.915Z"
   },
   {
    "duration": 10,
    "start_time": "2025-02-20T20:50:38.964Z"
   },
   {
    "duration": 5,
    "start_time": "2025-02-20T20:50:42.358Z"
   },
   {
    "duration": 13,
    "start_time": "2025-02-20T20:50:56.612Z"
   },
   {
    "duration": 5,
    "start_time": "2025-02-20T20:51:00.270Z"
   },
   {
    "duration": 8,
    "start_time": "2025-02-20T20:51:04.406Z"
   },
   {
    "duration": 11,
    "start_time": "2025-02-20T20:51:11.621Z"
   },
   {
    "duration": 11,
    "start_time": "2025-02-20T20:51:15.184Z"
   },
   {
    "duration": 7,
    "start_time": "2025-02-20T20:51:21.327Z"
   },
   {
    "duration": 12,
    "start_time": "2025-02-20T20:51:37.210Z"
   },
   {
    "duration": 10,
    "start_time": "2025-02-20T20:51:40.575Z"
   },
   {
    "duration": 12,
    "start_time": "2025-02-20T20:51:54.085Z"
   },
   {
    "duration": 12,
    "start_time": "2025-02-20T20:52:08.318Z"
   },
   {
    "duration": 7,
    "start_time": "2025-02-20T20:52:11.635Z"
   },
   {
    "duration": 11,
    "start_time": "2025-02-20T20:52:16.426Z"
   },
   {
    "duration": 10,
    "start_time": "2025-02-20T20:52:24.387Z"
   },
   {
    "duration": 7,
    "start_time": "2025-02-20T20:52:27.337Z"
   },
   {
    "duration": 12,
    "start_time": "2025-02-20T20:52:32.851Z"
   },
   {
    "duration": 7,
    "start_time": "2025-02-20T20:52:36.537Z"
   },
   {
    "duration": 9,
    "start_time": "2025-02-20T20:52:40.776Z"
   },
   {
    "duration": 3,
    "start_time": "2025-02-20T20:52:53.429Z"
   },
   {
    "duration": 3,
    "start_time": "2025-02-20T20:52:58.391Z"
   },
   {
    "duration": 21,
    "start_time": "2025-02-20T20:53:01.998Z"
   },
   {
    "duration": 21,
    "start_time": "2025-02-20T20:53:04.796Z"
   },
   {
    "duration": 14,
    "start_time": "2025-02-20T20:53:07.328Z"
   },
   {
    "duration": 17,
    "start_time": "2025-02-20T20:53:10.318Z"
   },
   {
    "duration": 17,
    "start_time": "2025-02-20T20:53:13.885Z"
   },
   {
    "duration": 12,
    "start_time": "2025-02-20T20:53:17.435Z"
   },
   {
    "duration": 43,
    "start_time": "2025-02-20T20:53:23.424Z"
   },
   {
    "duration": 41,
    "start_time": "2025-02-20T20:53:28.678Z"
   },
   {
    "duration": 7,
    "start_time": "2025-02-20T20:53:32.267Z"
   },
   {
    "duration": 353,
    "start_time": "2025-02-20T20:53:37.520Z"
   },
   {
    "duration": 564,
    "start_time": "2025-02-20T20:53:41.464Z"
   },
   {
    "duration": 33,
    "start_time": "2025-02-20T20:53:46.593Z"
   },
   {
    "duration": 70,
    "start_time": "2025-02-20T20:53:55.620Z"
   },
   {
    "duration": 57,
    "start_time": "2025-02-20T20:53:59.028Z"
   },
   {
    "duration": 311,
    "start_time": "2025-02-20T20:54:04.055Z"
   },
   {
    "duration": 20,
    "start_time": "2025-02-20T20:54:08.347Z"
   },
   {
    "duration": 193,
    "start_time": "2025-02-20T20:54:15.197Z"
   },
   {
    "duration": 22,
    "start_time": "2025-02-20T20:54:20.179Z"
   },
   {
    "duration": 85,
    "start_time": "2025-02-20T20:54:24.904Z"
   },
   {
    "duration": 17,
    "start_time": "2025-02-20T20:54:28.237Z"
   },
   {
    "duration": 34,
    "start_time": "2025-02-20T20:54:35.253Z"
   },
   {
    "duration": 99,
    "start_time": "2025-02-20T20:54:40.732Z"
   },
   {
    "duration": 18,
    "start_time": "2025-02-20T20:54:48.244Z"
   },
   {
    "duration": 13,
    "start_time": "2025-02-20T20:54:50.990Z"
   },
   {
    "duration": 6,
    "start_time": "2025-02-20T20:54:52.813Z"
   },
   {
    "duration": 4,
    "start_time": "2025-02-20T20:54:56.381Z"
   },
   {
    "duration": 22,
    "start_time": "2025-02-20T20:54:58.346Z"
   },
   {
    "duration": 10,
    "start_time": "2025-02-20T20:55:00.636Z"
   },
   {
    "duration": 7,
    "start_time": "2025-02-20T20:55:02.957Z"
   },
   {
    "duration": 6,
    "start_time": "2025-02-20T20:55:05.657Z"
   },
   {
    "duration": 253,
    "start_time": "2025-02-20T20:55:10.106Z"
   },
   {
    "duration": 19,
    "start_time": "2025-02-20T20:55:36.264Z"
   },
   {
    "duration": 16,
    "start_time": "2025-02-20T20:55:40.816Z"
   },
   {
    "duration": 112,
    "start_time": "2025-02-20T20:55:54.568Z"
   },
   {
    "duration": 279,
    "start_time": "2025-02-20T20:55:58.925Z"
   },
   {
    "duration": 17,
    "start_time": "2025-02-20T20:56:04.921Z"
   },
   {
    "duration": 3,
    "start_time": "2025-02-20T20:57:21.571Z"
   },
   {
    "duration": 5,
    "start_time": "2025-02-20T20:57:25.236Z"
   },
   {
    "duration": 5,
    "start_time": "2025-02-20T20:57:27.404Z"
   },
   {
    "duration": 14,
    "start_time": "2025-02-20T20:57:33.194Z"
   },
   {
    "duration": 6,
    "start_time": "2025-02-20T21:04:49.521Z"
   },
   {
    "duration": 3,
    "start_time": "2025-02-20T21:10:16.977Z"
   },
   {
    "duration": 4,
    "start_time": "2025-02-20T21:10:22.163Z"
   },
   {
    "duration": 9,
    "start_time": "2025-02-20T21:17:30.535Z"
   },
   {
    "duration": 8,
    "start_time": "2025-02-20T21:19:20.845Z"
   },
   {
    "duration": 334,
    "start_time": "2025-02-20T21:19:26.430Z"
   },
   {
    "duration": 316,
    "start_time": "2025-02-20T21:21:26.228Z"
   },
   {
    "duration": 307,
    "start_time": "2025-02-20T21:21:35.719Z"
   },
   {
    "duration": 4,
    "start_time": "2025-02-20T21:33:40.909Z"
   },
   {
    "duration": 9,
    "start_time": "2025-02-20T21:33:59.977Z"
   },
   {
    "duration": 5,
    "start_time": "2025-02-20T21:35:04.649Z"
   },
   {
    "duration": 13,
    "start_time": "2025-02-20T21:35:04.801Z"
   },
   {
    "duration": 45,
    "start_time": "2025-02-20T21:35:27.650Z"
   },
   {
    "duration": 12,
    "start_time": "2025-02-20T21:35:33.224Z"
   },
   {
    "duration": 46,
    "start_time": "2025-02-20T21:35:53.983Z"
   },
   {
    "duration": 15,
    "start_time": "2025-02-20T21:36:00.731Z"
   },
   {
    "duration": 11,
    "start_time": "2025-02-20T21:41:21.668Z"
   },
   {
    "duration": 278,
    "start_time": "2025-02-20T21:46:37.484Z"
   },
   {
    "duration": 294,
    "start_time": "2025-02-20T21:47:17.303Z"
   },
   {
    "duration": 291,
    "start_time": "2025-02-20T21:47:31.516Z"
   },
   {
    "duration": 321,
    "start_time": "2025-02-20T22:04:40.704Z"
   },
   {
    "duration": 45,
    "start_time": "2025-02-20T22:04:45.727Z"
   },
   {
    "duration": 45,
    "start_time": "2025-02-20T22:04:53.719Z"
   },
   {
    "duration": 47,
    "start_time": "2025-02-20T22:05:05.049Z"
   },
   {
    "duration": 52,
    "start_time": "2025-02-20T22:05:36.967Z"
   },
   {
    "duration": 45,
    "start_time": "2025-02-20T22:05:44.870Z"
   },
   {
    "duration": 47,
    "start_time": "2025-02-20T22:06:22.901Z"
   },
   {
    "duration": 49,
    "start_time": "2025-02-20T22:07:29.620Z"
   },
   {
    "duration": 2627,
    "start_time": "2025-02-20T22:35:58.780Z"
   },
   {
    "duration": 18,
    "start_time": "2025-02-20T22:36:01.559Z"
   },
   {
    "duration": 90,
    "start_time": "2025-02-20T22:36:05.285Z"
   },
   {
    "duration": 47,
    "start_time": "2025-02-20T22:36:08.664Z"
   },
   {
    "duration": 83,
    "start_time": "2025-02-20T22:36:11.772Z"
   },
   {
    "duration": 10,
    "start_time": "2025-02-20T22:36:15.124Z"
   },
   {
    "duration": 10,
    "start_time": "2025-02-20T22:36:18.395Z"
   },
   {
    "duration": 10,
    "start_time": "2025-02-20T22:36:21.357Z"
   },
   {
    "duration": 10,
    "start_time": "2025-02-20T22:36:24.963Z"
   },
   {
    "duration": 6,
    "start_time": "2025-02-20T22:36:27.742Z"
   },
   {
    "duration": 4,
    "start_time": "2025-02-20T22:36:30.780Z"
   },
   {
    "duration": 19,
    "start_time": "2025-02-20T22:36:41.375Z"
   },
   {
    "duration": 5,
    "start_time": "2025-02-20T22:36:45.173Z"
   },
   {
    "duration": 6,
    "start_time": "2025-02-20T22:36:48.278Z"
   },
   {
    "duration": 17,
    "start_time": "2025-02-20T22:36:53.976Z"
   },
   {
    "duration": 26,
    "start_time": "2025-02-20T22:36:56.795Z"
   },
   {
    "duration": 30,
    "start_time": "2025-02-20T22:36:59.999Z"
   },
   {
    "duration": 9,
    "start_time": "2025-02-20T22:37:02.691Z"
   },
   {
    "duration": 12,
    "start_time": "2025-02-20T22:37:06.363Z"
   },
   {
    "duration": 19,
    "start_time": "2025-02-20T22:37:08.970Z"
   },
   {
    "duration": 13,
    "start_time": "2025-02-20T22:37:11.905Z"
   },
   {
    "duration": 9,
    "start_time": "2025-02-20T22:37:15.030Z"
   },
   {
    "duration": 14,
    "start_time": "2025-02-20T22:37:17.969Z"
   },
   {
    "duration": 21,
    "start_time": "2025-02-20T22:37:20.463Z"
   },
   {
    "duration": 31,
    "start_time": "2025-02-20T22:37:23.289Z"
   },
   {
    "duration": 8,
    "start_time": "2025-02-20T22:37:25.437Z"
   },
   {
    "duration": 8,
    "start_time": "2025-02-20T22:37:29.511Z"
   },
   {
    "duration": 4,
    "start_time": "2025-02-20T22:37:32.233Z"
   },
   {
    "duration": 9,
    "start_time": "2025-02-20T22:37:35.504Z"
   },
   {
    "duration": 9,
    "start_time": "2025-02-20T22:37:37.921Z"
   },
   {
    "duration": 6,
    "start_time": "2025-02-20T22:37:41.276Z"
   },
   {
    "duration": 13,
    "start_time": "2025-02-20T22:37:44.521Z"
   },
   {
    "duration": 7,
    "start_time": "2025-02-20T22:37:48.185Z"
   },
   {
    "duration": 9,
    "start_time": "2025-02-20T22:38:32.533Z"
   },
   {
    "duration": 9,
    "start_time": "2025-02-20T22:38:36.046Z"
   },
   {
    "duration": 6,
    "start_time": "2025-02-20T22:38:41.318Z"
   },
   {
    "duration": 8,
    "start_time": "2025-02-20T22:38:46.906Z"
   },
   {
    "duration": 9,
    "start_time": "2025-02-20T22:38:49.063Z"
   },
   {
    "duration": 7,
    "start_time": "2025-02-20T22:38:52.343Z"
   },
   {
    "duration": 12,
    "start_time": "2025-02-20T22:38:58.059Z"
   },
   {
    "duration": 8,
    "start_time": "2025-02-20T22:39:00.750Z"
   },
   {
    "duration": 10,
    "start_time": "2025-02-20T22:39:19.572Z"
   },
   {
    "duration": 10,
    "start_time": "2025-02-20T22:39:22.546Z"
   },
   {
    "duration": 7,
    "start_time": "2025-02-20T22:39:26.374Z"
   },
   {
    "duration": 16,
    "start_time": "2025-02-20T22:39:36.524Z"
   },
   {
    "duration": 7,
    "start_time": "2025-02-20T22:39:39.083Z"
   },
   {
    "duration": 9,
    "start_time": "2025-02-20T22:39:42.841Z"
   },
   {
    "duration": 4,
    "start_time": "2025-02-20T22:39:47.965Z"
   },
   {
    "duration": 3,
    "start_time": "2025-02-20T22:39:50.939Z"
   },
   {
    "duration": 20,
    "start_time": "2025-02-20T22:39:54.509Z"
   },
   {
    "duration": 20,
    "start_time": "2025-02-20T22:39:57.610Z"
   },
   {
    "duration": 16,
    "start_time": "2025-02-20T22:40:00.433Z"
   },
   {
    "duration": 17,
    "start_time": "2025-02-20T22:40:04.020Z"
   },
   {
    "duration": 16,
    "start_time": "2025-02-20T22:40:07.740Z"
   },
   {
    "duration": 10,
    "start_time": "2025-02-20T22:40:11.096Z"
   },
   {
    "duration": 42,
    "start_time": "2025-02-20T22:40:20.331Z"
   },
   {
    "duration": 37,
    "start_time": "2025-02-20T22:40:24.252Z"
   },
   {
    "duration": 9,
    "start_time": "2025-02-20T22:40:28.144Z"
   },
   {
    "duration": 341,
    "start_time": "2025-02-20T22:40:30.806Z"
   },
   {
    "duration": 563,
    "start_time": "2025-02-20T22:40:34.766Z"
   },
   {
    "duration": 34,
    "start_time": "2025-02-20T22:40:38.641Z"
   },
   {
    "duration": 7,
    "start_time": "2025-02-20T22:40:44.585Z"
   },
   {
    "duration": 6,
    "start_time": "2025-02-20T22:40:50.029Z"
   },
   {
    "duration": 11,
    "start_time": "2025-02-20T22:40:54.237Z"
   },
   {
    "duration": 282,
    "start_time": "2025-02-20T22:40:57.577Z"
   },
   {
    "duration": 17,
    "start_time": "2025-02-20T22:41:05.690Z"
   },
   {
    "duration": 170,
    "start_time": "2025-02-20T22:41:09.748Z"
   },
   {
    "duration": 22,
    "start_time": "2025-02-20T22:41:14.466Z"
   },
   {
    "duration": 336,
    "start_time": "2025-02-20T22:41:22.136Z"
   },
   {
    "duration": 48,
    "start_time": "2025-02-20T22:47:30.898Z"
   },
   {
    "duration": 36,
    "start_time": "2025-02-20T22:49:16.924Z"
   },
   {
    "duration": 126,
    "start_time": "2025-02-20T22:49:19.789Z"
   },
   {
    "duration": 817,
    "start_time": "2025-02-21T18:27:45.817Z"
   },
   {
    "duration": 13,
    "start_time": "2025-02-21T18:27:46.636Z"
   },
   {
    "duration": 71,
    "start_time": "2025-02-21T18:27:46.651Z"
   },
   {
    "duration": 37,
    "start_time": "2025-02-21T18:27:46.731Z"
   },
   {
    "duration": 68,
    "start_time": "2025-02-21T18:27:46.770Z"
   },
   {
    "duration": 8,
    "start_time": "2025-02-21T18:27:46.840Z"
   },
   {
    "duration": 9,
    "start_time": "2025-02-21T18:27:46.849Z"
   },
   {
    "duration": 10,
    "start_time": "2025-02-21T18:27:46.859Z"
   },
   {
    "duration": 10,
    "start_time": "2025-02-21T18:27:46.871Z"
   },
   {
    "duration": 4,
    "start_time": "2025-02-21T18:27:46.884Z"
   },
   {
    "duration": 4,
    "start_time": "2025-02-21T18:27:46.890Z"
   },
   {
    "duration": 44,
    "start_time": "2025-02-21T18:27:46.896Z"
   },
   {
    "duration": 4,
    "start_time": "2025-02-21T18:27:46.942Z"
   },
   {
    "duration": 4,
    "start_time": "2025-02-21T18:27:46.948Z"
   },
   {
    "duration": 15,
    "start_time": "2025-02-21T18:27:46.954Z"
   },
   {
    "duration": 25,
    "start_time": "2025-02-21T18:27:46.970Z"
   },
   {
    "duration": 59,
    "start_time": "2025-02-21T18:27:46.997Z"
   },
   {
    "duration": 8,
    "start_time": "2025-02-21T18:27:47.058Z"
   },
   {
    "duration": 13,
    "start_time": "2025-02-21T18:27:47.068Z"
   },
   {
    "duration": 17,
    "start_time": "2025-02-21T18:27:47.083Z"
   },
   {
    "duration": 38,
    "start_time": "2025-02-21T18:27:47.102Z"
   },
   {
    "duration": 8,
    "start_time": "2025-02-21T18:27:47.142Z"
   },
   {
    "duration": 13,
    "start_time": "2025-02-21T18:27:47.152Z"
   },
   {
    "duration": 22,
    "start_time": "2025-02-21T18:27:47.167Z"
   },
   {
    "duration": 56,
    "start_time": "2025-02-21T18:27:47.191Z"
   },
   {
    "duration": 9,
    "start_time": "2025-02-21T18:27:47.249Z"
   },
   {
    "duration": 8,
    "start_time": "2025-02-21T18:27:47.260Z"
   },
   {
    "duration": 4,
    "start_time": "2025-02-21T18:27:47.274Z"
   },
   {
    "duration": 8,
    "start_time": "2025-02-21T18:27:47.279Z"
   },
   {
    "duration": 8,
    "start_time": "2025-02-21T18:27:47.289Z"
   },
   {
    "duration": 4,
    "start_time": "2025-02-21T18:27:47.331Z"
   },
   {
    "duration": 8,
    "start_time": "2025-02-21T18:27:47.337Z"
   },
   {
    "duration": 5,
    "start_time": "2025-02-21T18:27:47.347Z"
   },
   {
    "duration": 9,
    "start_time": "2025-02-21T18:27:47.354Z"
   },
   {
    "duration": 10,
    "start_time": "2025-02-21T18:27:47.364Z"
   },
   {
    "duration": 7,
    "start_time": "2025-02-21T18:27:47.376Z"
   },
   {
    "duration": 49,
    "start_time": "2025-02-21T18:27:47.385Z"
   },
   {
    "duration": 7,
    "start_time": "2025-02-21T18:27:47.436Z"
   },
   {
    "duration": 10,
    "start_time": "2025-02-21T18:27:47.445Z"
   },
   {
    "duration": 11,
    "start_time": "2025-02-21T18:27:47.456Z"
   },
   {
    "duration": 6,
    "start_time": "2025-02-21T18:27:47.468Z"
   },
   {
    "duration": 11,
    "start_time": "2025-02-21T18:27:47.475Z"
   },
   {
    "duration": 43,
    "start_time": "2025-02-21T18:27:47.488Z"
   },
   {
    "duration": 9,
    "start_time": "2025-02-21T18:27:47.534Z"
   },
   {
    "duration": 3,
    "start_time": "2025-02-21T18:27:47.545Z"
   },
   {
    "duration": 3,
    "start_time": "2025-02-21T18:27:47.550Z"
   },
   {
    "duration": 21,
    "start_time": "2025-02-21T18:27:47.555Z"
   },
   {
    "duration": 20,
    "start_time": "2025-02-21T18:27:47.578Z"
   },
   {
    "duration": 14,
    "start_time": "2025-02-21T18:27:47.631Z"
   },
   {
    "duration": 21,
    "start_time": "2025-02-21T18:27:47.648Z"
   },
   {
    "duration": 22,
    "start_time": "2025-02-21T18:27:47.674Z"
   },
   {
    "duration": 13,
    "start_time": "2025-02-21T18:27:47.700Z"
   },
   {
    "duration": 43,
    "start_time": "2025-02-21T18:27:47.732Z"
   },
   {
    "duration": 38,
    "start_time": "2025-02-21T18:27:47.777Z"
   },
   {
    "duration": 21,
    "start_time": "2025-02-21T18:27:47.816Z"
   },
   {
    "duration": 341,
    "start_time": "2025-02-21T18:27:47.839Z"
   },
   {
    "duration": 658,
    "start_time": "2025-02-21T18:27:48.182Z"
   },
   {
    "duration": 0,
    "start_time": "2025-02-21T18:27:48.842Z"
   },
   {
    "duration": 0,
    "start_time": "2025-02-21T18:27:48.843Z"
   },
   {
    "duration": 0,
    "start_time": "2025-02-21T18:27:48.844Z"
   },
   {
    "duration": 0,
    "start_time": "2025-02-21T18:27:48.845Z"
   },
   {
    "duration": 0,
    "start_time": "2025-02-21T18:27:48.846Z"
   },
   {
    "duration": 0,
    "start_time": "2025-02-21T18:27:48.848Z"
   },
   {
    "duration": 0,
    "start_time": "2025-02-21T18:27:48.849Z"
   },
   {
    "duration": 0,
    "start_time": "2025-02-21T18:27:48.850Z"
   },
   {
    "duration": 0,
    "start_time": "2025-02-21T18:27:48.851Z"
   },
   {
    "duration": 0,
    "start_time": "2025-02-21T18:27:48.852Z"
   },
   {
    "duration": 0,
    "start_time": "2025-02-21T18:27:48.853Z"
   },
   {
    "duration": 0,
    "start_time": "2025-02-21T18:27:48.854Z"
   },
   {
    "duration": 0,
    "start_time": "2025-02-21T18:27:48.856Z"
   },
   {
    "duration": 0,
    "start_time": "2025-02-21T18:27:48.856Z"
   },
   {
    "duration": 0,
    "start_time": "2025-02-21T18:27:48.858Z"
   },
   {
    "duration": 0,
    "start_time": "2025-02-21T18:27:48.859Z"
   },
   {
    "duration": 0,
    "start_time": "2025-02-21T18:27:48.860Z"
   },
   {
    "duration": 0,
    "start_time": "2025-02-21T18:27:48.861Z"
   },
   {
    "duration": 0,
    "start_time": "2025-02-21T18:27:48.862Z"
   },
   {
    "duration": 0,
    "start_time": "2025-02-21T18:27:48.863Z"
   },
   {
    "duration": 0,
    "start_time": "2025-02-21T18:27:48.865Z"
   },
   {
    "duration": 0,
    "start_time": "2025-02-21T18:27:48.867Z"
   },
   {
    "duration": 0,
    "start_time": "2025-02-21T18:27:48.869Z"
   },
   {
    "duration": 0,
    "start_time": "2025-02-21T18:27:48.870Z"
   },
   {
    "duration": 0,
    "start_time": "2025-02-21T18:27:48.872Z"
   },
   {
    "duration": 0,
    "start_time": "2025-02-21T18:27:48.872Z"
   },
   {
    "duration": 14,
    "start_time": "2025-02-21T18:28:09.165Z"
   },
   {
    "duration": 13,
    "start_time": "2025-02-21T18:28:15.014Z"
   },
   {
    "duration": 15,
    "start_time": "2025-02-21T18:28:17.018Z"
   },
   {
    "duration": 14,
    "start_time": "2025-02-21T18:28:29.111Z"
   },
   {
    "duration": 14,
    "start_time": "2025-02-21T18:28:30.506Z"
   },
   {
    "duration": 13,
    "start_time": "2025-02-21T18:28:31.848Z"
   },
   {
    "duration": 14,
    "start_time": "2025-02-21T18:28:32.586Z"
   },
   {
    "duration": 43,
    "start_time": "2025-02-21T18:28:33.833Z"
   },
   {
    "duration": 23,
    "start_time": "2025-02-21T18:28:35.661Z"
   },
   {
    "duration": 338,
    "start_time": "2025-02-21T18:28:38.009Z"
   },
   {
    "duration": 35,
    "start_time": "2025-02-21T18:28:39.818Z"
   },
   {
    "duration": 111,
    "start_time": "2025-02-21T18:28:41.536Z"
   },
   {
    "duration": 14,
    "start_time": "2025-02-21T18:28:43.400Z"
   },
   {
    "duration": 12,
    "start_time": "2025-02-21T18:28:45.849Z"
   },
   {
    "duration": 8,
    "start_time": "2025-02-21T18:28:46.692Z"
   },
   {
    "duration": 3,
    "start_time": "2025-02-21T18:28:47.422Z"
   },
   {
    "duration": 21,
    "start_time": "2025-02-21T18:28:49.017Z"
   },
   {
    "duration": 9,
    "start_time": "2025-02-21T18:28:49.626Z"
   },
   {
    "duration": 6,
    "start_time": "2025-02-21T18:28:50.356Z"
   },
   {
    "duration": 6,
    "start_time": "2025-02-21T18:28:51.407Z"
   },
   {
    "duration": 106,
    "start_time": "2025-02-21T18:28:52.916Z"
   },
   {
    "duration": 271,
    "start_time": "2025-02-21T18:28:56.652Z"
   },
   {
    "duration": 6,
    "start_time": "2025-02-21T18:29:00.566Z"
   },
   {
    "duration": 3,
    "start_time": "2025-02-21T18:29:11.088Z"
   },
   {
    "duration": 3,
    "start_time": "2025-02-21T18:29:13.307Z"
   },
   {
    "duration": 4,
    "start_time": "2025-02-21T18:29:14.404Z"
   },
   {
    "duration": 4,
    "start_time": "2025-02-21T18:29:15.160Z"
   },
   {
    "duration": 4,
    "start_time": "2025-02-21T18:29:15.861Z"
   },
   {
    "duration": 2,
    "start_time": "2025-02-21T18:29:16.982Z"
   },
   {
    "duration": 4,
    "start_time": "2025-02-21T18:29:23.213Z"
   },
   {
    "duration": 29,
    "start_time": "2025-02-21T18:29:38.622Z"
   },
   {
    "duration": 162,
    "start_time": "2025-02-22T01:48:39.692Z"
   },
   {
    "duration": 2687,
    "start_time": "2025-02-22T01:48:48.365Z"
   },
   {
    "duration": 14,
    "start_time": "2025-02-22T01:48:51.054Z"
   },
   {
    "duration": 339,
    "start_time": "2025-02-22T01:48:51.070Z"
   },
   {
    "duration": 47,
    "start_time": "2025-02-22T01:48:51.411Z"
   },
   {
    "duration": 81,
    "start_time": "2025-02-22T01:48:51.460Z"
   },
   {
    "duration": 9,
    "start_time": "2025-02-22T01:48:51.542Z"
   },
   {
    "duration": 9,
    "start_time": "2025-02-22T01:48:51.553Z"
   },
   {
    "duration": 10,
    "start_time": "2025-02-22T01:48:51.564Z"
   },
   {
    "duration": 9,
    "start_time": "2025-02-22T01:48:51.576Z"
   },
   {
    "duration": 4,
    "start_time": "2025-02-22T01:48:51.589Z"
   },
   {
    "duration": 4,
    "start_time": "2025-02-22T01:48:51.594Z"
   },
   {
    "duration": 46,
    "start_time": "2025-02-22T01:48:51.599Z"
   },
   {
    "duration": 5,
    "start_time": "2025-02-22T01:48:51.647Z"
   },
   {
    "duration": 6,
    "start_time": "2025-02-22T01:48:51.653Z"
   },
   {
    "duration": 16,
    "start_time": "2025-02-22T01:48:51.662Z"
   },
   {
    "duration": 31,
    "start_time": "2025-02-22T01:48:51.679Z"
   },
   {
    "duration": 58,
    "start_time": "2025-02-22T01:48:51.712Z"
   },
   {
    "duration": 8,
    "start_time": "2025-02-22T01:48:51.772Z"
   },
   {
    "duration": 12,
    "start_time": "2025-02-22T01:48:51.782Z"
   },
   {
    "duration": 16,
    "start_time": "2025-02-22T01:48:51.795Z"
   },
   {
    "duration": 36,
    "start_time": "2025-02-22T01:48:51.812Z"
   },
   {
    "duration": 9,
    "start_time": "2025-02-22T01:48:51.849Z"
   },
   {
    "duration": 16,
    "start_time": "2025-02-22T01:48:51.859Z"
   },
   {
    "duration": 20,
    "start_time": "2025-02-22T01:48:51.876Z"
   },
   {
    "duration": 56,
    "start_time": "2025-02-22T01:48:51.898Z"
   },
   {
    "duration": 9,
    "start_time": "2025-02-22T01:48:51.956Z"
   },
   {
    "duration": 8,
    "start_time": "2025-02-22T01:48:51.967Z"
   },
   {
    "duration": 4,
    "start_time": "2025-02-22T01:48:51.979Z"
   },
   {
    "duration": 8,
    "start_time": "2025-02-22T01:48:51.984Z"
   },
   {
    "duration": 9,
    "start_time": "2025-02-22T01:48:51.993Z"
   },
   {
    "duration": 42,
    "start_time": "2025-02-22T01:48:52.003Z"
   },
   {
    "duration": 7,
    "start_time": "2025-02-22T01:48:52.047Z"
   },
   {
    "duration": 6,
    "start_time": "2025-02-22T01:48:52.056Z"
   },
   {
    "duration": 9,
    "start_time": "2025-02-22T01:48:52.064Z"
   },
   {
    "duration": 9,
    "start_time": "2025-02-22T01:48:52.074Z"
   },
   {
    "duration": 5,
    "start_time": "2025-02-22T01:48:52.085Z"
   },
   {
    "duration": 11,
    "start_time": "2025-02-22T01:48:52.092Z"
   },
   {
    "duration": 44,
    "start_time": "2025-02-22T01:48:52.105Z"
   },
   {
    "duration": 10,
    "start_time": "2025-02-22T01:48:52.150Z"
   },
   {
    "duration": 10,
    "start_time": "2025-02-22T01:48:52.162Z"
   },
   {
    "duration": 5,
    "start_time": "2025-02-22T01:48:52.174Z"
   },
   {
    "duration": 10,
    "start_time": "2025-02-22T01:48:52.181Z"
   },
   {
    "duration": 7,
    "start_time": "2025-02-22T01:48:52.193Z"
   },
   {
    "duration": 41,
    "start_time": "2025-02-22T01:48:52.202Z"
   },
   {
    "duration": 3,
    "start_time": "2025-02-22T01:48:52.245Z"
   },
   {
    "duration": 3,
    "start_time": "2025-02-22T01:48:52.250Z"
   },
   {
    "duration": 22,
    "start_time": "2025-02-22T01:48:52.255Z"
   },
   {
    "duration": 19,
    "start_time": "2025-02-22T01:48:52.279Z"
   },
   {
    "duration": 21,
    "start_time": "2025-02-22T01:49:01.621Z"
   },
   {
    "duration": 3,
    "start_time": "2025-02-22T01:49:20.592Z"
   },
   {
    "duration": 10,
    "start_time": "2025-02-22T01:49:20.602Z"
   },
   {
    "duration": 79,
    "start_time": "2025-02-22T01:49:20.614Z"
   },
   {
    "duration": 48,
    "start_time": "2025-02-22T01:49:20.695Z"
   },
   {
    "duration": 59,
    "start_time": "2025-02-22T01:49:20.745Z"
   },
   {
    "duration": 7,
    "start_time": "2025-02-22T01:49:20.806Z"
   },
   {
    "duration": 29,
    "start_time": "2025-02-22T01:49:20.814Z"
   },
   {
    "duration": 10,
    "start_time": "2025-02-22T01:49:20.845Z"
   },
   {
    "duration": 10,
    "start_time": "2025-02-22T01:49:20.857Z"
   },
   {
    "duration": 4,
    "start_time": "2025-02-22T01:49:20.870Z"
   },
   {
    "duration": 5,
    "start_time": "2025-02-22T01:49:20.875Z"
   },
   {
    "duration": 8,
    "start_time": "2025-02-22T01:49:20.882Z"
   },
   {
    "duration": 5,
    "start_time": "2025-02-22T01:49:20.892Z"
   },
   {
    "duration": 45,
    "start_time": "2025-02-22T01:49:20.899Z"
   },
   {
    "duration": 17,
    "start_time": "2025-02-22T01:49:20.946Z"
   },
   {
    "duration": 24,
    "start_time": "2025-02-22T01:49:20.965Z"
   },
   {
    "duration": 19,
    "start_time": "2025-02-22T01:49:20.991Z"
   },
   {
    "duration": 40,
    "start_time": "2025-02-22T01:49:21.012Z"
   },
   {
    "duration": 14,
    "start_time": "2025-02-22T01:49:21.053Z"
   },
   {
    "duration": 17,
    "start_time": "2025-02-22T01:49:21.068Z"
   },
   {
    "duration": 12,
    "start_time": "2025-02-22T01:49:21.087Z"
   },
   {
    "duration": 43,
    "start_time": "2025-02-22T01:49:21.100Z"
   },
   {
    "duration": 17,
    "start_time": "2025-02-22T01:49:21.144Z"
   },
   {
    "duration": 24,
    "start_time": "2025-02-22T01:49:21.163Z"
   },
   {
    "duration": 50,
    "start_time": "2025-02-22T01:49:21.193Z"
   },
   {
    "duration": 9,
    "start_time": "2025-02-22T01:49:21.245Z"
   },
   {
    "duration": 9,
    "start_time": "2025-02-22T01:49:21.256Z"
   },
   {
    "duration": 5,
    "start_time": "2025-02-22T01:49:21.266Z"
   },
   {
    "duration": 8,
    "start_time": "2025-02-22T01:49:21.272Z"
   },
   {
    "duration": 9,
    "start_time": "2025-02-22T01:49:21.281Z"
   },
   {
    "duration": 6,
    "start_time": "2025-02-22T01:49:21.291Z"
   },
   {
    "duration": 47,
    "start_time": "2025-02-22T01:49:21.299Z"
   },
   {
    "duration": 5,
    "start_time": "2025-02-22T01:49:21.348Z"
   },
   {
    "duration": 8,
    "start_time": "2025-02-22T01:49:21.355Z"
   },
   {
    "duration": 9,
    "start_time": "2025-02-22T01:49:21.365Z"
   },
   {
    "duration": 5,
    "start_time": "2025-02-22T01:49:21.376Z"
   },
   {
    "duration": 11,
    "start_time": "2025-02-22T01:49:21.383Z"
   },
   {
    "duration": 7,
    "start_time": "2025-02-22T01:49:21.396Z"
   },
   {
    "duration": 45,
    "start_time": "2025-02-22T01:49:21.405Z"
   },
   {
    "duration": 9,
    "start_time": "2025-02-22T01:49:21.452Z"
   },
   {
    "duration": 6,
    "start_time": "2025-02-22T01:49:21.462Z"
   },
   {
    "duration": 9,
    "start_time": "2025-02-22T01:49:21.470Z"
   },
   {
    "duration": 6,
    "start_time": "2025-02-22T01:49:21.481Z"
   },
   {
    "duration": 8,
    "start_time": "2025-02-22T01:49:21.488Z"
   },
   {
    "duration": 2,
    "start_time": "2025-02-22T01:49:21.498Z"
   },
   {
    "duration": 3,
    "start_time": "2025-02-22T01:49:21.543Z"
   },
   {
    "duration": 16,
    "start_time": "2025-02-22T01:49:21.548Z"
   },
   {
    "duration": 16,
    "start_time": "2025-02-22T01:49:21.565Z"
   },
   {
    "duration": 17,
    "start_time": "2025-02-22T01:49:21.582Z"
   },
   {
    "duration": 12,
    "start_time": "2025-02-22T01:49:21.601Z"
   },
   {
    "duration": 14,
    "start_time": "2025-02-22T01:49:21.643Z"
   },
   {
    "duration": 64,
    "start_time": "2025-02-22T01:49:21.659Z"
   },
   {
    "duration": 25,
    "start_time": "2025-02-22T01:49:21.725Z"
   },
   {
    "duration": 41,
    "start_time": "2025-02-22T01:49:21.751Z"
   },
   {
    "duration": 52,
    "start_time": "2025-02-22T01:49:21.793Z"
   },
   {
    "duration": 8,
    "start_time": "2025-02-22T01:49:21.847Z"
   },
   {
    "duration": 329,
    "start_time": "2025-02-22T01:49:21.856Z"
   },
   {
    "duration": 454,
    "start_time": "2025-02-22T01:49:22.187Z"
   },
   {
    "duration": 0,
    "start_time": "2025-02-22T01:49:22.644Z"
   },
   {
    "duration": 0,
    "start_time": "2025-02-22T01:49:22.645Z"
   },
   {
    "duration": 0,
    "start_time": "2025-02-22T01:49:22.646Z"
   },
   {
    "duration": 0,
    "start_time": "2025-02-22T01:49:22.648Z"
   },
   {
    "duration": 0,
    "start_time": "2025-02-22T01:49:22.648Z"
   },
   {
    "duration": 0,
    "start_time": "2025-02-22T01:49:22.650Z"
   },
   {
    "duration": 0,
    "start_time": "2025-02-22T01:49:22.651Z"
   },
   {
    "duration": 0,
    "start_time": "2025-02-22T01:49:22.653Z"
   },
   {
    "duration": 0,
    "start_time": "2025-02-22T01:49:22.653Z"
   },
   {
    "duration": 0,
    "start_time": "2025-02-22T01:49:22.654Z"
   },
   {
    "duration": 0,
    "start_time": "2025-02-22T01:49:22.656Z"
   },
   {
    "duration": 0,
    "start_time": "2025-02-22T01:49:22.657Z"
   },
   {
    "duration": 0,
    "start_time": "2025-02-22T01:49:22.658Z"
   },
   {
    "duration": 0,
    "start_time": "2025-02-22T01:49:22.659Z"
   },
   {
    "duration": 0,
    "start_time": "2025-02-22T01:49:22.661Z"
   },
   {
    "duration": 0,
    "start_time": "2025-02-22T01:49:22.662Z"
   },
   {
    "duration": 0,
    "start_time": "2025-02-22T01:49:22.664Z"
   },
   {
    "duration": 0,
    "start_time": "2025-02-22T01:49:22.665Z"
   },
   {
    "duration": 0,
    "start_time": "2025-02-22T01:49:22.667Z"
   },
   {
    "duration": 0,
    "start_time": "2025-02-22T01:49:22.669Z"
   },
   {
    "duration": 0,
    "start_time": "2025-02-22T01:49:22.671Z"
   },
   {
    "duration": 0,
    "start_time": "2025-02-22T01:49:22.673Z"
   },
   {
    "duration": 0,
    "start_time": "2025-02-22T01:49:22.674Z"
   },
   {
    "duration": 0,
    "start_time": "2025-02-22T01:49:22.677Z"
   },
   {
    "duration": 0,
    "start_time": "2025-02-22T01:49:22.679Z"
   },
   {
    "duration": 0,
    "start_time": "2025-02-22T01:49:22.680Z"
   },
   {
    "duration": 0,
    "start_time": "2025-02-22T01:49:22.682Z"
   },
   {
    "duration": 0,
    "start_time": "2025-02-22T01:49:22.742Z"
   },
   {
    "duration": 0,
    "start_time": "2025-02-22T01:49:22.743Z"
   },
   {
    "duration": 19,
    "start_time": "2025-02-22T01:50:21.233Z"
   },
   {
    "duration": 21,
    "start_time": "2025-02-22T01:52:48.764Z"
   },
   {
    "duration": 16,
    "start_time": "2025-02-22T01:55:43.378Z"
   },
   {
    "duration": 10,
    "start_time": "2025-02-22T01:55:51.987Z"
   },
   {
    "duration": 34,
    "start_time": "2025-02-22T01:56:46.997Z"
   },
   {
    "duration": 25,
    "start_time": "2025-02-22T01:57:10.503Z"
   },
   {
    "duration": 24,
    "start_time": "2025-02-22T02:00:11.685Z"
   },
   {
    "duration": 23,
    "start_time": "2025-02-22T02:00:26.751Z"
   },
   {
    "duration": 3,
    "start_time": "2025-02-22T02:00:45.767Z"
   },
   {
    "duration": 3,
    "start_time": "2025-02-22T02:00:56.958Z"
   },
   {
    "duration": 19,
    "start_time": "2025-02-22T02:01:12.741Z"
   },
   {
    "duration": 3,
    "start_time": "2025-02-22T02:01:24.248Z"
   },
   {
    "duration": 20,
    "start_time": "2025-02-22T02:01:33.049Z"
   },
   {
    "duration": 5,
    "start_time": "2025-02-22T02:04:07.761Z"
   },
   {
    "duration": 9,
    "start_time": "2025-02-22T02:05:20.579Z"
   },
   {
    "duration": 2,
    "start_time": "2025-02-22T02:05:41.203Z"
   },
   {
    "duration": 216,
    "start_time": "2025-02-22T02:06:01.595Z"
   },
   {
    "duration": 14,
    "start_time": "2025-02-22T02:17:31.287Z"
   },
   {
    "duration": 12,
    "start_time": "2025-02-22T02:17:41.575Z"
   },
   {
    "duration": 18,
    "start_time": "2025-02-22T02:17:45.119Z"
   },
   {
    "duration": 11,
    "start_time": "2025-02-22T02:17:58.901Z"
   },
   {
    "duration": 16,
    "start_time": "2025-02-22T02:18:18.858Z"
   },
   {
    "duration": 21,
    "start_time": "2025-02-22T02:19:50.995Z"
   },
   {
    "duration": 18,
    "start_time": "2025-02-22T02:19:59.408Z"
   },
   {
    "duration": 42,
    "start_time": "2025-02-22T02:23:45.543Z"
   },
   {
    "duration": 12,
    "start_time": "2025-02-22T02:30:42.531Z"
   },
   {
    "duration": 7,
    "start_time": "2025-02-22T02:30:54.074Z"
   },
   {
    "duration": 5,
    "start_time": "2025-02-22T02:31:29.701Z"
   },
   {
    "duration": 4,
    "start_time": "2025-02-22T02:31:52.300Z"
   },
   {
    "duration": 11,
    "start_time": "2025-02-22T02:32:04.975Z"
   },
   {
    "duration": 40,
    "start_time": "2025-02-22T02:37:55.657Z"
   },
   {
    "duration": 46,
    "start_time": "2025-02-22T02:38:53.288Z"
   },
   {
    "duration": 47,
    "start_time": "2025-02-22T02:39:49.446Z"
   },
   {
    "duration": 45,
    "start_time": "2025-02-22T02:40:07.468Z"
   },
   {
    "duration": 48,
    "start_time": "2025-02-22T02:41:30.725Z"
   },
   {
    "duration": 47,
    "start_time": "2025-02-22T02:42:20.890Z"
   },
   {
    "duration": 40,
    "start_time": "2025-02-22T02:43:22.989Z"
   },
   {
    "duration": 39,
    "start_time": "2025-02-22T02:46:00.143Z"
   },
   {
    "duration": 59,
    "start_time": "2025-02-22T02:46:29.398Z"
   },
   {
    "duration": 298,
    "start_time": "2025-02-22T02:46:52.513Z"
   },
   {
    "duration": 205,
    "start_time": "2025-02-22T02:49:00.578Z"
   },
   {
    "duration": 10,
    "start_time": "2025-02-22T02:49:07.901Z"
   },
   {
    "duration": 7,
    "start_time": "2025-02-22T02:49:12.172Z"
   },
   {
    "duration": 10,
    "start_time": "2025-02-22T02:49:15.860Z"
   },
   {
    "duration": 192,
    "start_time": "2025-02-22T02:49:20.933Z"
   },
   {
    "duration": 153,
    "start_time": "2025-02-22T02:49:32.993Z"
   },
   {
    "duration": 251,
    "start_time": "2025-02-22T02:49:58.856Z"
   },
   {
    "duration": 163,
    "start_time": "2025-02-22T02:50:20.404Z"
   },
   {
    "duration": 57,
    "start_time": "2025-02-22T02:50:31.563Z"
   },
   {
    "duration": 8,
    "start_time": "2025-02-22T02:50:40.205Z"
   },
   {
    "duration": 7,
    "start_time": "2025-02-22T02:50:43.322Z"
   },
   {
    "duration": 11,
    "start_time": "2025-02-22T02:50:46.353Z"
   },
   {
    "duration": 160,
    "start_time": "2025-02-22T02:50:49.162Z"
   },
   {
    "duration": 18,
    "start_time": "2025-02-22T02:51:09.066Z"
   },
   {
    "duration": 236,
    "start_time": "2025-02-22T02:51:12.230Z"
   },
   {
    "duration": 30,
    "start_time": "2025-02-22T02:51:16.294Z"
   },
   {
    "duration": 323,
    "start_time": "2025-02-22T02:51:19.667Z"
   },
   {
    "duration": 36,
    "start_time": "2025-02-22T02:51:23.468Z"
   },
   {
    "duration": 97,
    "start_time": "2025-02-22T02:51:26.700Z"
   },
   {
    "duration": 16,
    "start_time": "2025-02-22T02:51:32.724Z"
   },
   {
    "duration": 12,
    "start_time": "2025-02-22T02:51:35.333Z"
   },
   {
    "duration": 6,
    "start_time": "2025-02-22T02:51:37.423Z"
   },
   {
    "duration": 4,
    "start_time": "2025-02-22T02:51:40.130Z"
   },
   {
    "duration": 20,
    "start_time": "2025-02-22T02:51:42.597Z"
   },
   {
    "duration": 9,
    "start_time": "2025-02-22T02:51:45.314Z"
   },
   {
    "duration": 5,
    "start_time": "2025-02-22T02:51:47.441Z"
   },
   {
    "duration": 111,
    "start_time": "2025-02-22T02:51:50.233Z"
   },
   {
    "duration": 243,
    "start_time": "2025-02-22T02:51:54.301Z"
   },
   {
    "duration": 118,
    "start_time": "2025-02-22T02:52:42.184Z"
   },
   {
    "duration": 112,
    "start_time": "2025-02-22T02:53:30.992Z"
   },
   {
    "duration": 239,
    "start_time": "2025-02-22T02:53:33.992Z"
   },
   {
    "duration": 7,
    "start_time": "2025-02-22T02:58:30.994Z"
   },
   {
    "duration": 6,
    "start_time": "2025-02-22T02:58:54.130Z"
   },
   {
    "duration": 4,
    "start_time": "2025-02-22T02:59:11.285Z"
   },
   {
    "duration": 2,
    "start_time": "2025-02-22T03:04:10.010Z"
   },
   {
    "duration": 11,
    "start_time": "2025-02-22T03:05:23.475Z"
   },
   {
    "duration": 9,
    "start_time": "2025-02-22T03:06:16.075Z"
   },
   {
    "duration": 10,
    "start_time": "2025-02-22T03:06:27.336Z"
   },
   {
    "duration": 8,
    "start_time": "2025-02-22T03:07:08.132Z"
   },
   {
    "duration": 9,
    "start_time": "2025-02-22T03:07:14.451Z"
   },
   {
    "duration": 8,
    "start_time": "2025-02-22T03:09:01.243Z"
   },
   {
    "duration": 9,
    "start_time": "2025-02-22T03:09:09.266Z"
   },
   {
    "duration": 3,
    "start_time": "2025-02-22T03:10:16.876Z"
   },
   {
    "duration": 11,
    "start_time": "2025-02-22T03:10:19.322Z"
   },
   {
    "duration": 70,
    "start_time": "2025-02-22T03:10:22.305Z"
   },
   {
    "duration": 37,
    "start_time": "2025-02-22T03:10:24.929Z"
   },
   {
    "duration": 57,
    "start_time": "2025-02-22T03:10:27.386Z"
   },
   {
    "duration": 10,
    "start_time": "2025-02-22T03:10:30.333Z"
   },
   {
    "duration": 8,
    "start_time": "2025-02-22T03:10:32.828Z"
   },
   {
    "duration": 10,
    "start_time": "2025-02-22T03:10:35.822Z"
   },
   {
    "duration": 10,
    "start_time": "2025-02-22T03:10:38.392Z"
   },
   {
    "duration": 4,
    "start_time": "2025-02-22T03:10:41.163Z"
   },
   {
    "duration": 4,
    "start_time": "2025-02-22T03:10:44.607Z"
   },
   {
    "duration": 12,
    "start_time": "2025-02-22T03:10:47.712Z"
   },
   {
    "duration": 9,
    "start_time": "2025-02-22T03:10:50.496Z"
   },
   {
    "duration": 5,
    "start_time": "2025-02-22T03:10:53.571Z"
   },
   {
    "duration": 17,
    "start_time": "2025-02-22T03:10:56.303Z"
   },
   {
    "duration": 25,
    "start_time": "2025-02-22T03:10:59.354Z"
   },
   {
    "duration": 23,
    "start_time": "2025-02-22T03:11:01.985Z"
   },
   {
    "duration": 8,
    "start_time": "2025-02-22T03:11:03.968Z"
   },
   {
    "duration": 13,
    "start_time": "2025-02-22T03:11:08.123Z"
   },
   {
    "duration": 18,
    "start_time": "2025-02-22T03:11:10.570Z"
   },
   {
    "duration": 13,
    "start_time": "2025-02-22T03:11:13.266Z"
   },
   {
    "duration": 10,
    "start_time": "2025-02-22T03:11:15.274Z"
   },
   {
    "duration": 13,
    "start_time": "2025-02-22T03:11:17.747Z"
   },
   {
    "duration": 26,
    "start_time": "2025-02-22T03:11:20.502Z"
   },
   {
    "duration": 28,
    "start_time": "2025-02-22T03:11:23.357Z"
   },
   {
    "duration": 9,
    "start_time": "2025-02-22T03:11:26.338Z"
   },
   {
    "duration": 9,
    "start_time": "2025-02-22T03:11:29.135Z"
   },
   {
    "duration": 4,
    "start_time": "2025-02-22T03:11:32.319Z"
   },
   {
    "duration": 9,
    "start_time": "2025-02-22T03:11:34.422Z"
   },
   {
    "duration": 8,
    "start_time": "2025-02-22T03:11:39.011Z"
   },
   {
    "duration": 6,
    "start_time": "2025-02-22T03:11:41.700Z"
   },
   {
    "duration": 7,
    "start_time": "2025-02-22T03:11:46.651Z"
   },
   {
    "duration": 6,
    "start_time": "2025-02-22T03:11:49.729Z"
   },
   {
    "duration": 8,
    "start_time": "2025-02-22T03:11:53.700Z"
   },
   {
    "duration": 10,
    "start_time": "2025-02-22T03:11:56.770Z"
   },
   {
    "duration": 10,
    "start_time": "2025-02-22T03:12:01.725Z"
   },
   {
    "duration": 6,
    "start_time": "2025-02-22T03:12:04.809Z"
   },
   {
    "duration": 13,
    "start_time": "2025-02-22T03:12:11.798Z"
   },
   {
    "duration": 9,
    "start_time": "2025-02-22T03:12:14.566Z"
   },
   {
    "duration": 10,
    "start_time": "2025-02-22T03:12:18.537Z"
   },
   {
    "duration": 10,
    "start_time": "2025-02-22T03:12:21.905Z"
   },
   {
    "duration": 5,
    "start_time": "2025-02-22T03:12:24.614Z"
   },
   {
    "duration": 14,
    "start_time": "2025-02-22T03:12:28.301Z"
   },
   {
    "duration": 6,
    "start_time": "2025-02-22T03:12:31.089Z"
   },
   {
    "duration": 10,
    "start_time": "2025-02-22T03:12:35.900Z"
   },
   {
    "duration": 3,
    "start_time": "2025-02-22T03:12:41.634Z"
   },
   {
    "duration": 3,
    "start_time": "2025-02-22T03:12:44.884Z"
   },
   {
    "duration": 21,
    "start_time": "2025-02-22T03:12:48.512Z"
   },
   {
    "duration": 16,
    "start_time": "2025-02-22T03:12:51.431Z"
   },
   {
    "duration": 19,
    "start_time": "2025-02-22T03:12:54.261Z"
   },
   {
    "duration": 13,
    "start_time": "2025-02-22T03:12:57.265Z"
   },
   {
    "duration": 20,
    "start_time": "2025-02-22T03:13:00.659Z"
   },
   {
    "duration": 16,
    "start_time": "2025-02-22T03:13:03.769Z"
   },
   {
    "duration": 17,
    "start_time": "2025-02-22T03:13:07.240Z"
   },
   {
    "duration": 12,
    "start_time": "2025-02-22T03:13:11.145Z"
   },
   {
    "duration": 11,
    "start_time": "2025-02-22T03:13:15.512Z"
   },
   {
    "duration": 8,
    "start_time": "2025-02-22T03:13:19.374Z"
   },
   {
    "duration": 4,
    "start_time": "2025-02-22T03:13:21.879Z"
   },
   {
    "duration": 4,
    "start_time": "2025-02-22T03:13:24.715Z"
   },
   {
    "duration": 13,
    "start_time": "2025-02-22T03:13:28.061Z"
   },
   {
    "duration": 18,
    "start_time": "2025-02-22T03:13:52.062Z"
   },
   {
    "duration": 18,
    "start_time": "2025-02-22T03:14:02.814Z"
   },
   {
    "duration": 10,
    "start_time": "2025-02-22T03:14:07.749Z"
   },
   {
    "duration": 49,
    "start_time": "2025-02-22T03:14:14.149Z"
   },
   {
    "duration": 38,
    "start_time": "2025-02-22T03:14:20.847Z"
   },
   {
    "duration": 9,
    "start_time": "2025-02-22T03:14:24.401Z"
   },
   {
    "duration": 329,
    "start_time": "2025-02-22T03:14:28.727Z"
   },
   {
    "duration": 55,
    "start_time": "2025-02-22T03:14:44.479Z"
   },
   {
    "duration": 33,
    "start_time": "2025-02-22T03:14:49.943Z"
   },
   {
    "duration": 38,
    "start_time": "2025-02-22T03:14:51.291Z"
   },
   {
    "duration": 49,
    "start_time": "2025-02-22T03:16:02.532Z"
   },
   {
    "duration": 52,
    "start_time": "2025-02-22T03:16:10.517Z"
   },
   {
    "duration": 316,
    "start_time": "2025-02-22T03:16:13.951Z"
   },
   {
    "duration": 60,
    "start_time": "2025-02-22T03:16:17.966Z"
   },
   {
    "duration": 9,
    "start_time": "2025-02-22T03:16:21.623Z"
   },
   {
    "duration": 6,
    "start_time": "2025-02-22T03:16:24.715Z"
   },
   {
    "duration": 10,
    "start_time": "2025-02-22T03:16:27.371Z"
   },
   {
    "duration": 149,
    "start_time": "2025-02-22T03:16:31.118Z"
   },
   {
    "duration": 20,
    "start_time": "2025-02-22T03:16:36.026Z"
   },
   {
    "duration": 189,
    "start_time": "2025-02-22T03:16:43.488Z"
   },
   {
    "duration": 22,
    "start_time": "2025-02-22T03:16:50.889Z"
   },
   {
    "duration": 54,
    "start_time": "2025-02-22T03:16:56.116Z"
   },
   {
    "duration": 24,
    "start_time": "2025-02-22T03:17:03.538Z"
   },
   {
    "duration": 244,
    "start_time": "2025-02-22T03:17:12.730Z"
   },
   {
    "duration": 63,
    "start_time": "2025-02-22T03:17:16.242Z"
   },
   {
    "duration": 37,
    "start_time": "2025-02-22T03:17:27.442Z"
   },
   {
    "duration": 407,
    "start_time": "2025-02-22T03:17:31.383Z"
   },
   {
    "duration": 39,
    "start_time": "2025-02-22T03:17:35.204Z"
   },
   {
    "duration": 97,
    "start_time": "2025-02-22T03:17:38.548Z"
   },
   {
    "duration": 18,
    "start_time": "2025-02-22T03:17:43.503Z"
   },
   {
    "duration": 11,
    "start_time": "2025-02-22T03:17:46.236Z"
   },
   {
    "duration": 7,
    "start_time": "2025-02-22T03:17:48.886Z"
   },
   {
    "duration": 4,
    "start_time": "2025-02-22T03:17:51.742Z"
   },
   {
    "duration": 21,
    "start_time": "2025-02-22T03:17:54.822Z"
   },
   {
    "duration": 9,
    "start_time": "2025-02-22T03:17:57.148Z"
   },
   {
    "duration": 6,
    "start_time": "2025-02-22T03:17:59.343Z"
   },
   {
    "duration": 5,
    "start_time": "2025-02-22T03:18:02.533Z"
   },
   {
    "duration": 243,
    "start_time": "2025-02-22T03:18:06.283Z"
   },
   {
    "duration": 6,
    "start_time": "2025-02-22T03:18:14.431Z"
   },
   {
    "duration": 4,
    "start_time": "2025-02-22T03:18:19.121Z"
   },
   {
    "duration": 6,
    "start_time": "2025-02-22T03:18:27.766Z"
   },
   {
    "duration": 5,
    "start_time": "2025-02-22T03:18:42.398Z"
   },
   {
    "duration": 6,
    "start_time": "2025-02-22T03:18:47.040Z"
   },
   {
    "duration": 10,
    "start_time": "2025-02-22T03:18:51.657Z"
   },
   {
    "duration": 44,
    "start_time": "2025-02-22T03:19:12.283Z"
   },
   {
    "duration": 44,
    "start_time": "2025-02-22T03:19:18.706Z"
   },
   {
    "duration": 45,
    "start_time": "2025-02-22T03:19:22.890Z"
   },
   {
    "duration": 180,
    "start_time": "2025-02-22T03:19:34.892Z"
   },
   {
    "duration": 48,
    "start_time": "2025-02-22T03:19:42.083Z"
   },
   {
    "duration": 49,
    "start_time": "2025-02-22T03:20:16.694Z"
   },
   {
    "duration": 49,
    "start_time": "2025-02-22T03:20:22.687Z"
   },
   {
    "duration": 48,
    "start_time": "2025-02-22T03:20:47.902Z"
   },
   {
    "duration": 225,
    "start_time": "2025-02-22T03:21:28.539Z"
   },
   {
    "duration": 46,
    "start_time": "2025-02-22T03:21:32.503Z"
   },
   {
    "duration": 3,
    "start_time": "2025-02-22T03:22:27.144Z"
   },
   {
    "duration": 810,
    "start_time": "2025-02-22T03:23:50.001Z"
   },
   {
    "duration": 12,
    "start_time": "2025-02-22T03:23:54.098Z"
   },
   {
    "duration": 69,
    "start_time": "2025-02-22T03:23:56.982Z"
   },
   {
    "duration": 35,
    "start_time": "2025-02-22T03:23:59.620Z"
   },
   {
    "duration": 60,
    "start_time": "2025-02-22T03:24:02.248Z"
   },
   {
    "duration": 8,
    "start_time": "2025-02-22T03:24:05.338Z"
   },
   {
    "duration": 9,
    "start_time": "2025-02-22T03:24:08.121Z"
   },
   {
    "duration": 10,
    "start_time": "2025-02-22T03:24:10.974Z"
   },
   {
    "duration": 10,
    "start_time": "2025-02-22T03:24:13.796Z"
   },
   {
    "duration": 4,
    "start_time": "2025-02-22T03:24:16.255Z"
   },
   {
    "duration": 4,
    "start_time": "2025-02-22T03:24:18.782Z"
   },
   {
    "duration": 11,
    "start_time": "2025-02-22T03:24:22.407Z"
   },
   {
    "duration": 4,
    "start_time": "2025-02-22T03:24:25.514Z"
   },
   {
    "duration": 5,
    "start_time": "2025-02-22T03:24:28.648Z"
   },
   {
    "duration": 16,
    "start_time": "2025-02-22T03:24:34.248Z"
   },
   {
    "duration": 26,
    "start_time": "2025-02-22T03:24:36.712Z"
   },
   {
    "duration": 29,
    "start_time": "2025-02-22T03:24:39.744Z"
   },
   {
    "duration": 8,
    "start_time": "2025-02-22T03:24:41.816Z"
   },
   {
    "duration": 11,
    "start_time": "2025-02-22T03:24:45.556Z"
   },
   {
    "duration": 17,
    "start_time": "2025-02-22T03:24:48.388Z"
   },
   {
    "duration": 12,
    "start_time": "2025-02-22T03:24:51.344Z"
   },
   {
    "duration": 9,
    "start_time": "2025-02-22T03:24:53.858Z"
   },
   {
    "duration": 13,
    "start_time": "2025-02-22T03:24:56.774Z"
   },
   {
    "duration": 21,
    "start_time": "2025-02-22T03:24:59.473Z"
   },
   {
    "duration": 36,
    "start_time": "2025-02-22T03:25:03.350Z"
   },
   {
    "duration": 10,
    "start_time": "2025-02-22T03:25:05.420Z"
   },
   {
    "duration": 11,
    "start_time": "2025-02-22T03:25:08.860Z"
   },
   {
    "duration": 5,
    "start_time": "2025-02-22T03:25:11.657Z"
   },
   {
    "duration": 9,
    "start_time": "2025-02-22T03:25:14.162Z"
   },
   {
    "duration": 9,
    "start_time": "2025-02-22T03:25:17.344Z"
   },
   {
    "duration": 5,
    "start_time": "2025-02-22T03:25:20.100Z"
   },
   {
    "duration": 13,
    "start_time": "2025-02-22T03:25:22.980Z"
   },
   {
    "duration": 6,
    "start_time": "2025-02-22T03:25:26.790Z"
   },
   {
    "duration": 9,
    "start_time": "2025-02-22T03:25:30.553Z"
   },
   {
    "duration": 9,
    "start_time": "2025-02-22T03:25:33.667Z"
   },
   {
    "duration": 9,
    "start_time": "2025-02-22T03:25:37.579Z"
   },
   {
    "duration": 7,
    "start_time": "2025-02-22T03:25:41.484Z"
   },
   {
    "duration": 12,
    "start_time": "2025-02-22T03:25:45.958Z"
   },
   {
    "duration": 7,
    "start_time": "2025-02-22T03:25:48.624Z"
   },
   {
    "duration": 11,
    "start_time": "2025-02-22T03:25:52.709Z"
   },
   {
    "duration": 10,
    "start_time": "2025-02-22T03:25:57.084Z"
   },
   {
    "duration": 6,
    "start_time": "2025-02-22T03:25:59.719Z"
   },
   {
    "duration": 12,
    "start_time": "2025-02-22T03:26:03.360Z"
   },
   {
    "duration": 7,
    "start_time": "2025-02-22T03:26:06.102Z"
   },
   {
    "duration": 10,
    "start_time": "2025-02-22T03:26:10.054Z"
   },
   {
    "duration": 3,
    "start_time": "2025-02-22T03:26:15.435Z"
   },
   {
    "duration": 3,
    "start_time": "2025-02-22T03:26:18.470Z"
   },
   {
    "duration": 20,
    "start_time": "2025-02-22T03:26:21.607Z"
   },
   {
    "duration": 21,
    "start_time": "2025-02-22T03:26:24.527Z"
   },
   {
    "duration": 21,
    "start_time": "2025-02-22T03:26:27.326Z"
   },
   {
    "duration": 15,
    "start_time": "2025-02-22T03:26:30.151Z"
   },
   {
    "duration": 16,
    "start_time": "2025-02-22T03:26:33.103Z"
   },
   {
    "duration": 15,
    "start_time": "2025-02-22T03:26:35.777Z"
   },
   {
    "duration": 21,
    "start_time": "2025-02-22T03:26:39.051Z"
   },
   {
    "duration": 12,
    "start_time": "2025-02-22T03:26:41.939Z"
   },
   {
    "duration": 12,
    "start_time": "2025-02-22T03:26:47.625Z"
   },
   {
    "duration": 7,
    "start_time": "2025-02-22T03:26:50.562Z"
   },
   {
    "duration": 7,
    "start_time": "2025-02-22T03:26:52.744Z"
   },
   {
    "duration": 3,
    "start_time": "2025-02-22T03:26:54.997Z"
   },
   {
    "duration": 13,
    "start_time": "2025-02-22T03:26:58.014Z"
   },
   {
    "duration": 47,
    "start_time": "2025-02-22T03:27:03.914Z"
   },
   {
    "duration": 41,
    "start_time": "2025-02-22T03:27:08.250Z"
   },
   {
    "duration": 9,
    "start_time": "2025-02-22T03:27:11.601Z"
   },
   {
    "duration": 331,
    "start_time": "2025-02-22T03:27:15.290Z"
   },
   {
    "duration": 34,
    "start_time": "2025-02-22T03:27:19.211Z"
   },
   {
    "duration": 8,
    "start_time": "2025-02-22T03:27:23.387Z"
   },
   {
    "duration": 6,
    "start_time": "2025-02-22T03:27:26.928Z"
   },
   {
    "duration": 12,
    "start_time": "2025-02-22T03:27:30.039Z"
   },
   {
    "duration": 200,
    "start_time": "2025-02-22T03:27:32.779Z"
   },
   {
    "duration": 15,
    "start_time": "2025-02-22T03:27:36.668Z"
   },
   {
    "duration": 16,
    "start_time": "2025-02-22T03:27:41.182Z"
   },
   {
    "duration": 189,
    "start_time": "2025-02-22T03:27:45.399Z"
   },
   {
    "duration": 23,
    "start_time": "2025-02-22T03:27:48.853Z"
   },
   {
    "duration": 292,
    "start_time": "2025-02-22T03:27:56.862Z"
   },
   {
    "duration": 36,
    "start_time": "2025-02-22T03:28:00.909Z"
   },
   {
    "duration": 96,
    "start_time": "2025-02-22T03:28:04.334Z"
   },
   {
    "duration": 15,
    "start_time": "2025-02-22T03:28:09.126Z"
   },
   {
    "duration": 12,
    "start_time": "2025-02-22T03:28:11.798Z"
   },
   {
    "duration": 6,
    "start_time": "2025-02-22T03:28:14.199Z"
   },
   {
    "duration": 4,
    "start_time": "2025-02-22T03:28:16.871Z"
   },
   {
    "duration": 21,
    "start_time": "2025-02-22T03:28:19.895Z"
   },
   {
    "duration": 9,
    "start_time": "2025-02-22T03:28:21.809Z"
   },
   {
    "duration": 7,
    "start_time": "2025-02-22T03:28:23.647Z"
   },
   {
    "duration": 5,
    "start_time": "2025-02-22T03:28:26.417Z"
   },
   {
    "duration": 107,
    "start_time": "2025-02-22T03:28:30.056Z"
   },
   {
    "duration": 260,
    "start_time": "2025-02-22T03:28:34.368Z"
   },
   {
    "duration": 6,
    "start_time": "2025-02-22T03:28:41.920Z"
   },
   {
    "duration": 6,
    "start_time": "2025-02-22T03:28:45.663Z"
   },
   {
    "duration": 10,
    "start_time": "2025-02-22T03:28:51.041Z"
   },
   {
    "duration": 47,
    "start_time": "2025-02-22T03:31:07.539Z"
   },
   {
    "duration": 596,
    "start_time": "2025-02-22T03:31:53.437Z"
   },
   {
    "duration": 44,
    "start_time": "2025-02-22T03:32:02.450Z"
   },
   {
    "duration": 49,
    "start_time": "2025-02-22T03:34:23.239Z"
   },
   {
    "duration": 51,
    "start_time": "2025-02-22T03:35:12.099Z"
   },
   {
    "duration": 113,
    "start_time": "2025-02-22T03:35:50.326Z"
   },
   {
    "duration": 783,
    "start_time": "2025-02-22T03:36:05.441Z"
   },
   {
    "duration": 14,
    "start_time": "2025-02-22T03:36:07.041Z"
   },
   {
    "duration": 70,
    "start_time": "2025-02-22T03:36:11.298Z"
   },
   {
    "duration": 35,
    "start_time": "2025-02-22T03:36:17.600Z"
   },
   {
    "duration": 58,
    "start_time": "2025-02-22T03:36:25.563Z"
   },
   {
    "duration": 9,
    "start_time": "2025-02-22T03:36:28.806Z"
   },
   {
    "duration": 9,
    "start_time": "2025-02-22T03:36:33.189Z"
   },
   {
    "duration": 9,
    "start_time": "2025-02-22T03:36:36.313Z"
   },
   {
    "duration": 10,
    "start_time": "2025-02-22T03:36:39.379Z"
   },
   {
    "duration": 5,
    "start_time": "2025-02-22T03:36:42.190Z"
   },
   {
    "duration": 5,
    "start_time": "2025-02-22T03:36:44.383Z"
   },
   {
    "duration": 10,
    "start_time": "2025-02-22T03:36:47.044Z"
   },
   {
    "duration": 5,
    "start_time": "2025-02-22T03:36:50.000Z"
   },
   {
    "duration": 6,
    "start_time": "2025-02-22T03:36:53.248Z"
   },
   {
    "duration": 15,
    "start_time": "2025-02-22T03:36:55.781Z"
   },
   {
    "duration": 26,
    "start_time": "2025-02-22T03:36:58.176Z"
   },
   {
    "duration": 34,
    "start_time": "2025-02-22T03:37:01.137Z"
   },
   {
    "duration": 8,
    "start_time": "2025-02-22T03:37:03.841Z"
   },
   {
    "duration": 12,
    "start_time": "2025-02-22T03:37:07.184Z"
   },
   {
    "duration": 17,
    "start_time": "2025-02-22T03:37:09.625Z"
   },
   {
    "duration": 12,
    "start_time": "2025-02-22T03:37:12.114Z"
   },
   {
    "duration": 9,
    "start_time": "2025-02-22T03:37:13.876Z"
   },
   {
    "duration": 13,
    "start_time": "2025-02-22T03:37:16.197Z"
   },
   {
    "duration": 24,
    "start_time": "2025-02-22T03:37:19.089Z"
   },
   {
    "duration": 29,
    "start_time": "2025-02-22T03:37:21.593Z"
   },
   {
    "duration": 8,
    "start_time": "2025-02-22T03:37:23.395Z"
   },
   {
    "duration": 9,
    "start_time": "2025-02-22T03:37:26.428Z"
   },
   {
    "duration": 4,
    "start_time": "2025-02-22T03:37:28.992Z"
   },
   {
    "duration": 8,
    "start_time": "2025-02-22T03:37:31.200Z"
   },
   {
    "duration": 9,
    "start_time": "2025-02-22T03:37:34.274Z"
   },
   {
    "duration": 5,
    "start_time": "2025-02-22T03:37:37.258Z"
   },
   {
    "duration": 12,
    "start_time": "2025-02-22T03:37:42.157Z"
   },
   {
    "duration": 7,
    "start_time": "2025-02-22T03:37:45.185Z"
   },
   {
    "duration": 10,
    "start_time": "2025-02-22T03:37:48.652Z"
   },
   {
    "duration": 9,
    "start_time": "2025-02-22T03:37:51.888Z"
   },
   {
    "duration": 6,
    "start_time": "2025-02-22T03:37:56.451Z"
   },
   {
    "duration": 15,
    "start_time": "2025-02-22T03:38:02.109Z"
   },
   {
    "duration": 8,
    "start_time": "2025-02-22T03:38:04.775Z"
   },
   {
    "duration": 11,
    "start_time": "2025-02-22T03:38:09.139Z"
   },
   {
    "duration": 10,
    "start_time": "2025-02-22T03:38:11.791Z"
   },
   {
    "duration": 6,
    "start_time": "2025-02-22T03:38:13.925Z"
   },
   {
    "duration": 12,
    "start_time": "2025-02-22T03:38:18.957Z"
   },
   {
    "duration": 7,
    "start_time": "2025-02-22T03:38:21.679Z"
   },
   {
    "duration": 9,
    "start_time": "2025-02-22T03:38:25.122Z"
   },
   {
    "duration": 4,
    "start_time": "2025-02-22T03:38:29.206Z"
   },
   {
    "duration": 3,
    "start_time": "2025-02-22T03:38:32.127Z"
   },
   {
    "duration": 20,
    "start_time": "2025-02-22T03:38:35.094Z"
   },
   {
    "duration": 19,
    "start_time": "2025-02-22T03:38:37.703Z"
   },
   {
    "duration": 20,
    "start_time": "2025-02-22T03:38:40.269Z"
   },
   {
    "duration": 14,
    "start_time": "2025-02-22T03:38:43.407Z"
   },
   {
    "duration": 16,
    "start_time": "2025-02-22T03:38:46.287Z"
   },
   {
    "duration": 16,
    "start_time": "2025-02-22T03:38:49.571Z"
   },
   {
    "duration": 17,
    "start_time": "2025-02-22T03:38:52.477Z"
   },
   {
    "duration": 11,
    "start_time": "2025-02-22T03:38:56.231Z"
   },
   {
    "duration": 13,
    "start_time": "2025-02-22T03:39:06.867Z"
   },
   {
    "duration": 13,
    "start_time": "2025-02-22T03:39:10.037Z"
   },
   {
    "duration": 8,
    "start_time": "2025-02-22T03:39:12.561Z"
   },
   {
    "duration": 5,
    "start_time": "2025-02-22T03:39:15.000Z"
   },
   {
    "duration": 4,
    "start_time": "2025-02-22T03:39:17.169Z"
   },
   {
    "duration": 10,
    "start_time": "2025-02-22T03:39:19.788Z"
   },
   {
    "duration": 50,
    "start_time": "2025-02-22T03:39:25.982Z"
   },
   {
    "duration": 38,
    "start_time": "2025-02-22T03:39:31.181Z"
   },
   {
    "duration": 18,
    "start_time": "2025-02-22T03:39:35.138Z"
   },
   {
    "duration": 352,
    "start_time": "2025-02-22T03:39:38.595Z"
   },
   {
    "duration": 33,
    "start_time": "2025-02-22T03:39:43.703Z"
   },
   {
    "duration": 11,
    "start_time": "2025-02-22T03:39:47.720Z"
   },
   {
    "duration": 7,
    "start_time": "2025-02-22T03:39:50.841Z"
   },
   {
    "duration": 10,
    "start_time": "2025-02-22T03:39:53.534Z"
   },
   {
    "duration": 200,
    "start_time": "2025-02-22T03:39:58.434Z"
   },
   {
    "duration": 16,
    "start_time": "2025-02-22T03:40:03.029Z"
   },
   {
    "duration": 16,
    "start_time": "2025-02-22T03:40:08.141Z"
   },
   {
    "duration": 189,
    "start_time": "2025-02-22T03:40:10.791Z"
   },
   {
    "duration": 21,
    "start_time": "2025-02-22T03:40:15.429Z"
   },
   {
    "duration": 329,
    "start_time": "2025-02-22T03:40:19.024Z"
   },
   {
    "duration": 36,
    "start_time": "2025-02-22T03:40:22.850Z"
   },
   {
    "duration": 96,
    "start_time": "2025-02-22T03:40:25.748Z"
   },
   {
    "duration": 15,
    "start_time": "2025-02-22T03:40:31.176Z"
   },
   {
    "duration": 12,
    "start_time": "2025-02-22T03:40:33.520Z"
   },
   {
    "duration": 8,
    "start_time": "2025-02-22T03:40:35.656Z"
   },
   {
    "duration": 3,
    "start_time": "2025-02-22T03:40:38.043Z"
   },
   {
    "duration": 29,
    "start_time": "2025-02-22T03:40:40.540Z"
   },
   {
    "duration": 8,
    "start_time": "2025-02-22T03:40:42.276Z"
   },
   {
    "duration": 6,
    "start_time": "2025-02-22T03:40:44.925Z"
   },
   {
    "duration": 8,
    "start_time": "2025-02-22T03:40:48.007Z"
   },
   {
    "duration": 294,
    "start_time": "2025-02-22T03:40:51.033Z"
   },
   {
    "duration": 15,
    "start_time": "2025-02-22T03:40:57.551Z"
   },
   {
    "duration": 11,
    "start_time": "2025-02-22T03:41:00.559Z"
   },
   {
    "duration": 9,
    "start_time": "2025-02-22T03:41:04.920Z"
   },
   {
    "duration": 6,
    "start_time": "2025-02-22T03:42:14.232Z"
   },
   {
    "duration": 9,
    "start_time": "2025-02-22T03:42:31.768Z"
   },
   {
    "duration": 6,
    "start_time": "2025-02-22T14:01:47.749Z"
   }
  ],
  "colab": {
   "provenance": []
  },
  "kernelspec": {
   "display_name": "Python 3 (ipykernel)",
   "language": "python",
   "name": "python3"
  },
  "language_info": {
   "codemirror_mode": {
    "name": "ipython",
    "version": 3
   },
   "file_extension": ".py",
   "mimetype": "text/x-python",
   "name": "python",
   "nbconvert_exporter": "python",
   "pygments_lexer": "ipython3",
   "version": "3.9.19"
  },
  "toc": {
   "base_numbering": 1,
   "nav_menu": {},
   "number_sections": true,
   "sideBar": true,
   "skip_h1_title": false,
   "title_cell": "Table of Contents",
   "title_sidebar": "Contents",
   "toc_cell": false,
   "toc_position": {},
   "toc_section_display": true,
   "toc_window_display": false
  }
 },
 "nbformat": 4,
 "nbformat_minor": 1
}
