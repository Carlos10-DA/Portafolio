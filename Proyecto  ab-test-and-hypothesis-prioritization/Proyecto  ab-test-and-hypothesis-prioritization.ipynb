{
 "cells": [
  {
   "cell_type": "markdown",
   "metadata": {},
   "source": [
    "<h1 style=\"font-size:40px;\">Sprint 10 - Proyecto Tomar decisiones de negocios basadas en datos</h1> "
   ]
  },
  {
   "cell_type": "markdown",
   "metadata": {},
   "source": [
    "<h1 style=\"font-size:20px;\">Descripción del proyecto</h1> \n",
    "\n",
    "Contexto\n",
    "En el entorno altamente competitivo del comercio electrónico, optimizar la experiencia del usuario y aumentar los ingresos son objetivos clave para cualquier tienda online. En este contexto, el equipo de marketing y análisis de datos de una gran tienda digital ha colaborado para identificar oportunidades de mejora mediante la generación de hipótesis orientadas al crecimiento de una gran tienda en linea y junto con el departamento de marketing lograr que se que pueden ayudar a aumentar los ingresos.\n",
    "\n",
    "Objetivos del proyecto\n",
    "Este proyecto se divide en dos fases principales:\n",
    "\n",
    "1. Priorización de hipótesis\n",
    "Se aplicaron los modelos ICE (Impact, Confidence, Effort) y RICE (Reach, Impact, Confidence, Effort) para clasificar las hipótesis de mejora con mayor potencial de retorno, permitiendo al equipo tomar decisiones eficientes sobre cuáles ideas probar primero.\n",
    "\n",
    "2. Análisis de prueba A/B\n",
    "Una de las hipótesis priorizadas se implementó en un experimento A/B controlado, cuyos resultados se analizaron mediante:\n",
    "\n",
    "-Gráficos acumulativos de ingresos y pedidos,\n",
    "\n",
    "-Análisis de tasa de conversión diaria,\n",
    "\n",
    "-Identificación de valores atípicos,\n",
    "\n",
    "-Pruebas de significancia estadística (Z-test, U-test, t-test),\n",
    "\n",
    "-Y comparación detallada entre grupos A (control) y B (experimental)."
   ]
  },
  {
   "cell_type": "markdown",
   "metadata": {},
   "source": [
    "<h1 style=\"font-size:40px;\">Limpieza de datos</h1>"
   ]
  },
  {
   "cell_type": "code",
   "execution_count": 1,
   "metadata": {
    "trusted": false
   },
   "outputs": [],
   "source": [
    "import pandas as pd\n",
    "import numpy as np\n",
    "import matplotlib.pyplot as plt\n",
    "import seaborn as sns\n",
    "import scipy.stats as stats\n",
    "from scipy.stats import mannwhitneyu\n",
    "from scipy.stats import ttest_ind\n",
    "from statsmodels.stats.proportion import proportions_ztest"
   ]
  },
  {
   "cell_type": "code",
   "execution_count": 2,
   "metadata": {
    "trusted": false
   },
   "outputs": [
    {
     "name": "stdout",
     "output_type": "stream",
     "text": [
      "           Hypothesis;Reach;Impact;Confidence;Effort\n",
      "0  Add two new channels for attracting traffic. T...\n",
      "1  Launch your own delivery service. This will sh...\n",
      "2  Add product recommendation blocks to the store...\n",
      "3  Change the category structure. This will incre...\n",
      "4  Change the background color on the main page. ...\n",
      "5  Add a customer review page. This will increase...\n",
      "6  Show banners with current offers and sales on ...\n",
      "7  Add a subscription form to all the main pages....\n",
      "8  Launch a promotion that gives users discounts ...\n"
     ]
    }
   ],
   "source": [
    "df_hypotheses = pd.read_csv('/datasets/hypotheses_us.csv')\n",
    "print(df_hypotheses)"
   ]
  },
  {
   "cell_type": "code",
   "execution_count": 3,
   "metadata": {
    "trusted": false
   },
   "outputs": [
    {
     "name": "stdout",
     "output_type": "stream",
     "text": [
      "<class 'pandas.core.frame.DataFrame'>\n",
      "RangeIndex: 9 entries, 0 to 8\n",
      "Data columns (total 1 columns):\n",
      " #   Column                                     Non-Null Count  Dtype \n",
      "---  ------                                     --------------  ----- \n",
      " 0   Hypothesis;Reach;Impact;Confidence;Effort  9 non-null      object\n",
      "dtypes: object(1)\n",
      "memory usage: 200.0+ bytes\n",
      "None\n"
     ]
    }
   ],
   "source": [
    "print(df_hypotheses.info())"
   ]
  },
  {
   "cell_type": "code",
   "execution_count": 4,
   "metadata": {
    "trusted": false
   },
   "outputs": [
    {
     "name": "stdout",
     "output_type": "stream",
     "text": [
      "           Hypothesis;Reach;Impact;Confidence;Effort\n",
      "0  Add two new channels for attracting traffic. T...\n",
      "1  Launch your own delivery service. This will sh...\n",
      "2  Add product recommendation blocks to the store...\n",
      "3  Change the category structure. This will incre...\n",
      "4  Change the background color on the main page. ...\n",
      "5  Add a customer review page. This will increase...\n",
      "6  Show banners with current offers and sales on ...\n",
      "7  Add a subscription form to all the main pages....\n",
      "8  Launch a promotion that gives users discounts ...\n"
     ]
    }
   ],
   "source": [
    "print(df_hypotheses.head(10))"
   ]
  },
  {
   "cell_type": "code",
   "execution_count": 5,
   "metadata": {
    "trusted": false
   },
   "outputs": [
    {
     "name": "stdout",
     "output_type": "stream",
     "text": [
      "Index(['Hypothesis;Reach;Impact;Confidence;Effort'], dtype='object')\n"
     ]
    }
   ],
   "source": [
    "print(df_hypotheses.columns)"
   ]
  },
  {
   "cell_type": "code",
   "execution_count": 6,
   "metadata": {
    "trusted": false
   },
   "outputs": [],
   "source": [
    "df_hypotheses = pd.read_csv('/datasets/hypotheses_us.csv', sep=';')"
   ]
  },
  {
   "cell_type": "code",
   "execution_count": 7,
   "metadata": {
    "trusted": false
   },
   "outputs": [
    {
     "name": "stdout",
     "output_type": "stream",
     "text": [
      "      transactionId   visitorId        date  revenue group\n",
      "0        3667963787  3312258926  2019-08-15     30.4     B\n",
      "1        2804400009  3642806036  2019-08-15     15.2     B\n",
      "2        2961555356  4069496402  2019-08-15     10.2     A\n",
      "3        3797467345  1196621759  2019-08-15    155.1     B\n",
      "4        2282983706  2322279887  2019-08-15     40.5     B\n",
      "...             ...         ...         ...      ...   ...\n",
      "1192     2662137336  3733762160  2019-08-14    100.8     B\n",
      "1193     2203539145   370388673  2019-08-14     50.1     A\n",
      "1194     1807773912   573423106  2019-08-14    165.3     A\n",
      "1195     1947021204  1614305549  2019-08-14      5.5     A\n",
      "1196     3936777065  2108080724  2019-08-15   3120.1     B\n",
      "\n",
      "[1197 rows x 5 columns]\n"
     ]
    }
   ],
   "source": [
    "df_orders = pd.read_csv('/datasets/orders_us.csv')\n",
    "print(df_orders)"
   ]
  },
  {
   "cell_type": "code",
   "execution_count": 8,
   "metadata": {
    "trusted": false
   },
   "outputs": [
    {
     "name": "stdout",
     "output_type": "stream",
     "text": [
      "<class 'pandas.core.frame.DataFrame'>\n",
      "RangeIndex: 1197 entries, 0 to 1196\n",
      "Data columns (total 5 columns):\n",
      " #   Column         Non-Null Count  Dtype  \n",
      "---  ------         --------------  -----  \n",
      " 0   transactionId  1197 non-null   int64  \n",
      " 1   visitorId      1197 non-null   int64  \n",
      " 2   date           1197 non-null   object \n",
      " 3   revenue        1197 non-null   float64\n",
      " 4   group          1197 non-null   object \n",
      "dtypes: float64(1), int64(2), object(2)\n",
      "memory usage: 46.9+ KB\n",
      "None\n"
     ]
    }
   ],
   "source": [
    "print(df_orders.info())"
   ]
  },
  {
   "cell_type": "code",
   "execution_count": 9,
   "metadata": {
    "trusted": false
   },
   "outputs": [
    {
     "name": "stdout",
     "output_type": "stream",
     "text": [
      "<class 'pandas.core.frame.DataFrame'>\n",
      "RangeIndex: 1197 entries, 0 to 1196\n",
      "Data columns (total 5 columns):\n",
      " #   Column         Non-Null Count  Dtype         \n",
      "---  ------         --------------  -----         \n",
      " 0   transactionId  1197 non-null   int64         \n",
      " 1   visitorId      1197 non-null   int64         \n",
      " 2   date           1197 non-null   datetime64[ns]\n",
      " 3   revenue        1197 non-null   float64       \n",
      " 4   group          1197 non-null   object        \n",
      "dtypes: datetime64[ns](1), float64(1), int64(2), object(1)\n",
      "memory usage: 46.9+ KB\n",
      "None\n"
     ]
    }
   ],
   "source": [
    "df_orders['date'] = pd.to_datetime(df_orders['date'], format='%Y-%m-%d')\n",
    "print(df_orders.info())"
   ]
  },
  {
   "cell_type": "code",
   "execution_count": 10,
   "metadata": {
    "trusted": false
   },
   "outputs": [
    {
     "name": "stdout",
     "output_type": "stream",
     "text": [
      "          date group  visits\n",
      "0   2019-08-01     A     719\n",
      "1   2019-08-02     A     619\n",
      "2   2019-08-03     A     507\n",
      "3   2019-08-04     A     717\n",
      "4   2019-08-05     A     756\n",
      "..         ...   ...     ...\n",
      "57  2019-08-27     B     720\n",
      "58  2019-08-28     B     654\n",
      "59  2019-08-29     B     531\n",
      "60  2019-08-30     B     490\n",
      "61  2019-08-31     B     718\n",
      "\n",
      "[62 rows x 3 columns]\n"
     ]
    }
   ],
   "source": [
    "df_visits = pd.read_csv('/datasets/visits_us.csv')\n",
    "print(df_visits)"
   ]
  },
  {
   "cell_type": "code",
   "execution_count": 11,
   "metadata": {
    "trusted": false
   },
   "outputs": [
    {
     "name": "stdout",
     "output_type": "stream",
     "text": [
      "<class 'pandas.core.frame.DataFrame'>\n",
      "RangeIndex: 62 entries, 0 to 61\n",
      "Data columns (total 3 columns):\n",
      " #   Column  Non-Null Count  Dtype \n",
      "---  ------  --------------  ----- \n",
      " 0   date    62 non-null     object\n",
      " 1   group   62 non-null     object\n",
      " 2   visits  62 non-null     int64 \n",
      "dtypes: int64(1), object(2)\n",
      "memory usage: 1.6+ KB\n",
      "None\n"
     ]
    }
   ],
   "source": [
    "print(df_visits.info())"
   ]
  },
  {
   "cell_type": "code",
   "execution_count": 12,
   "metadata": {
    "scrolled": true,
    "trusted": false
   },
   "outputs": [
    {
     "name": "stdout",
     "output_type": "stream",
     "text": [
      "<class 'pandas.core.frame.DataFrame'>\n",
      "RangeIndex: 62 entries, 0 to 61\n",
      "Data columns (total 3 columns):\n",
      " #   Column  Non-Null Count  Dtype         \n",
      "---  ------  --------------  -----         \n",
      " 0   date    62 non-null     datetime64[ns]\n",
      " 1   group   62 non-null     object        \n",
      " 2   visits  62 non-null     int64         \n",
      "dtypes: datetime64[ns](1), int64(1), object(1)\n",
      "memory usage: 1.6+ KB\n",
      "None\n"
     ]
    }
   ],
   "source": [
    "df_visits['date'] = pd.to_datetime(df_visits['date'], format='%Y-%m-%d')\n",
    "print(df_visits.info())"
   ]
  },
  {
   "cell_type": "code",
   "execution_count": 13,
   "metadata": {
    "trusted": false
   },
   "outputs": [
    {
     "name": "stdout",
     "output_type": "stream",
     "text": [
      "Visitantes en ambos grupos: 58\n"
     ]
    }
   ],
   "source": [
    "group_a_visitors = set(df_orders[df_orders['group'] == 'A']['visitorId'])\n",
    "group_b_visitors = set(df_orders[df_orders['group'] == 'B']['visitorId'])\n",
    "\n",
    "\n",
    "duplicate_visitors = group_a_visitors & group_b_visitors\n",
    "\n",
    "print(f\"Visitantes en ambos grupos: {len(duplicate_visitors)}\")"
   ]
  },
  {
   "cell_type": "code",
   "execution_count": 14,
   "metadata": {
    "trusted": false
   },
   "outputs": [],
   "source": [
    "df_orders = df_orders[~df_orders['visitorId'].isin(duplicate_visitors)]"
   ]
  },
  {
   "cell_type": "code",
   "execution_count": 15,
   "metadata": {
    "trusted": false
   },
   "outputs": [
    {
     "name": "stdout",
     "output_type": "stream",
     "text": [
      "Visitantes en ambos grupos: 0\n"
     ]
    }
   ],
   "source": [
    "group_a_visitors = set(df_orders[df_orders['group'] == 'A']['visitorId'])\n",
    "group_b_visitors = set(df_orders[df_orders['group'] == 'B']['visitorId'])\n",
    "\n",
    "\n",
    "duplicate_visitors = group_a_visitors & group_b_visitors\n",
    "\n",
    "print(f\"Visitantes en ambos grupos: {len(duplicate_visitors)}\")"
   ]
  },
  {
   "cell_type": "markdown",
   "metadata": {},
   "source": [
    "Analisis:\n",
    "\n",
    "-En el dataframe \"orders\" se cambio la columna \"date\" de tipo object a \"datetime\" ya que contiene una fecha\"\n",
    "-De igual forma en el data frame \"visits\" se cambio la columna \"date\" de tipo object a datetime debido a que contiene una fecha.\n",
    "- Se encontraron 58 datos de visitantes en ambos grupos, los cuales fueron eliminados ya que corresponde a una parte del data frame. De este modo se evitan sesgos sin alterar los resultados del analisis de forma significativa."
   ]
  },
  {
   "cell_type": "markdown",
   "metadata": {},
   "source": [
    "<h1 style=\"font-size:40px;\">Parte 1. Priorizar hipótesis</h1> "
   ]
  },
  {
   "cell_type": "markdown",
   "metadata": {},
   "source": [
    "1.-Aplicar el framework ICE para priorizar hipótesis. Ordenarlas en orden descendente de prioridad."
   ]
  },
  {
   "cell_type": "code",
   "execution_count": 16,
   "metadata": {
    "scrolled": true,
    "trusted": false
   },
   "outputs": [
    {
     "data": {
      "text/html": [
       "<div>\n",
       "<style scoped>\n",
       "    .dataframe tbody tr th:only-of-type {\n",
       "        vertical-align: middle;\n",
       "    }\n",
       "\n",
       "    .dataframe tbody tr th {\n",
       "        vertical-align: top;\n",
       "    }\n",
       "\n",
       "    .dataframe thead th {\n",
       "        text-align: right;\n",
       "    }\n",
       "</style>\n",
       "<table border=\"1\" class=\"dataframe\">\n",
       "  <thead>\n",
       "    <tr style=\"text-align: right;\">\n",
       "      <th></th>\n",
       "      <th>Hypothesis</th>\n",
       "      <th>ICE</th>\n",
       "    </tr>\n",
       "  </thead>\n",
       "  <tbody>\n",
       "    <tr>\n",
       "      <th>8</th>\n",
       "      <td>Launch a promotion that gives users discounts ...</td>\n",
       "      <td>16.200000</td>\n",
       "    </tr>\n",
       "    <tr>\n",
       "      <th>0</th>\n",
       "      <td>Add two new channels for attracting traffic. T...</td>\n",
       "      <td>13.333333</td>\n",
       "    </tr>\n",
       "    <tr>\n",
       "      <th>7</th>\n",
       "      <td>Add a subscription form to all the main pages....</td>\n",
       "      <td>11.200000</td>\n",
       "    </tr>\n",
       "    <tr>\n",
       "      <th>6</th>\n",
       "      <td>Show banners with current offers and sales on ...</td>\n",
       "      <td>8.000000</td>\n",
       "    </tr>\n",
       "    <tr>\n",
       "      <th>2</th>\n",
       "      <td>Add product recommendation blocks to the store...</td>\n",
       "      <td>7.000000</td>\n",
       "    </tr>\n",
       "    <tr>\n",
       "      <th>1</th>\n",
       "      <td>Launch your own delivery service. This will sh...</td>\n",
       "      <td>2.000000</td>\n",
       "    </tr>\n",
       "    <tr>\n",
       "      <th>5</th>\n",
       "      <td>Add a customer review page. This will increase...</td>\n",
       "      <td>1.333333</td>\n",
       "    </tr>\n",
       "    <tr>\n",
       "      <th>3</th>\n",
       "      <td>Change the category structure. This will incre...</td>\n",
       "      <td>1.125000</td>\n",
       "    </tr>\n",
       "    <tr>\n",
       "      <th>4</th>\n",
       "      <td>Change the background color on the main page. ...</td>\n",
       "      <td>1.000000</td>\n",
       "    </tr>\n",
       "  </tbody>\n",
       "</table>\n",
       "</div>"
      ],
      "text/plain": [
       "                                          Hypothesis        ICE\n",
       "8  Launch a promotion that gives users discounts ...  16.200000\n",
       "0  Add two new channels for attracting traffic. T...  13.333333\n",
       "7  Add a subscription form to all the main pages....  11.200000\n",
       "6  Show banners with current offers and sales on ...   8.000000\n",
       "2  Add product recommendation blocks to the store...   7.000000\n",
       "1  Launch your own delivery service. This will sh...   2.000000\n",
       "5  Add a customer review page. This will increase...   1.333333\n",
       "3  Change the category structure. This will incre...   1.125000\n",
       "4  Change the background color on the main page. ...   1.000000"
      ]
     },
     "execution_count": 16,
     "metadata": {},
     "output_type": "execute_result"
    }
   ],
   "source": [
    "df_hypotheses['ICE'] = (df_hypotheses['Impact'] * df_hypotheses['Confidence']) / df_hypotheses['Effort']\n",
    "df_hypotheses_ice_sorted = df_hypotheses.sort_values(by='ICE', ascending=False)\n",
    "df_hypotheses_ice_sorted[['Hypothesis', 'ICE']]"
   ]
  },
  {
   "cell_type": "markdown",
   "metadata": {},
   "source": [
    "2.-Aplicar el framework RICE para priorizar hipótesis. Ordenarlas en orden descendente de prioridad."
   ]
  },
  {
   "cell_type": "code",
   "execution_count": 17,
   "metadata": {
    "trusted": false
   },
   "outputs": [
    {
     "data": {
      "text/html": [
       "<div>\n",
       "<style scoped>\n",
       "    .dataframe tbody tr th:only-of-type {\n",
       "        vertical-align: middle;\n",
       "    }\n",
       "\n",
       "    .dataframe tbody tr th {\n",
       "        vertical-align: top;\n",
       "    }\n",
       "\n",
       "    .dataframe thead th {\n",
       "        text-align: right;\n",
       "    }\n",
       "</style>\n",
       "<table border=\"1\" class=\"dataframe\">\n",
       "  <thead>\n",
       "    <tr style=\"text-align: right;\">\n",
       "      <th></th>\n",
       "      <th>Hypothesis</th>\n",
       "      <th>RICE</th>\n",
       "    </tr>\n",
       "  </thead>\n",
       "  <tbody>\n",
       "    <tr>\n",
       "      <th>7</th>\n",
       "      <td>Add a subscription form to all the main pages....</td>\n",
       "      <td>112.0</td>\n",
       "    </tr>\n",
       "    <tr>\n",
       "      <th>2</th>\n",
       "      <td>Add product recommendation blocks to the store...</td>\n",
       "      <td>56.0</td>\n",
       "    </tr>\n",
       "    <tr>\n",
       "      <th>0</th>\n",
       "      <td>Add two new channels for attracting traffic. T...</td>\n",
       "      <td>40.0</td>\n",
       "    </tr>\n",
       "    <tr>\n",
       "      <th>6</th>\n",
       "      <td>Show banners with current offers and sales on ...</td>\n",
       "      <td>40.0</td>\n",
       "    </tr>\n",
       "    <tr>\n",
       "      <th>8</th>\n",
       "      <td>Launch a promotion that gives users discounts ...</td>\n",
       "      <td>16.2</td>\n",
       "    </tr>\n",
       "    <tr>\n",
       "      <th>3</th>\n",
       "      <td>Change the category structure. This will incre...</td>\n",
       "      <td>9.0</td>\n",
       "    </tr>\n",
       "    <tr>\n",
       "      <th>1</th>\n",
       "      <td>Launch your own delivery service. This will sh...</td>\n",
       "      <td>4.0</td>\n",
       "    </tr>\n",
       "    <tr>\n",
       "      <th>5</th>\n",
       "      <td>Add a customer review page. This will increase...</td>\n",
       "      <td>4.0</td>\n",
       "    </tr>\n",
       "    <tr>\n",
       "      <th>4</th>\n",
       "      <td>Change the background color on the main page. ...</td>\n",
       "      <td>3.0</td>\n",
       "    </tr>\n",
       "  </tbody>\n",
       "</table>\n",
       "</div>"
      ],
      "text/plain": [
       "                                          Hypothesis   RICE\n",
       "7  Add a subscription form to all the main pages....  112.0\n",
       "2  Add product recommendation blocks to the store...   56.0\n",
       "0  Add two new channels for attracting traffic. T...   40.0\n",
       "6  Show banners with current offers and sales on ...   40.0\n",
       "8  Launch a promotion that gives users discounts ...   16.2\n",
       "3  Change the category structure. This will incre...    9.0\n",
       "1  Launch your own delivery service. This will sh...    4.0\n",
       "5  Add a customer review page. This will increase...    4.0\n",
       "4  Change the background color on the main page. ...    3.0"
      ]
     },
     "execution_count": 17,
     "metadata": {},
     "output_type": "execute_result"
    }
   ],
   "source": [
    "df_hypotheses['RICE'] = (\n",
    "    df_hypotheses['Reach'] * df_hypotheses['Impact'] * df_hypotheses['Confidence']\n",
    ") / df_hypotheses['Effort']\n",
    "\n",
    "\n",
    "df_hypotheses_rice_sorted = df_hypotheses.sort_values(by='RICE', ascending=False)\n",
    "\n",
    "\n",
    "df_hypotheses_rice_sorted[['Hypothesis', 'RICE']]"
   ]
  },
  {
   "cell_type": "markdown",
   "metadata": {},
   "source": [
    "3.-Mostrar cómo cambia la priorización de hipótesis cuando utilizas RICE en lugar de ICE. Proporcionar una explicación de los cambios."
   ]
  },
  {
   "cell_type": "code",
   "execution_count": 18,
   "metadata": {
    "trusted": false
   },
   "outputs": [
    {
     "data": {
      "text/html": [
       "<div>\n",
       "<style scoped>\n",
       "    .dataframe tbody tr th:only-of-type {\n",
       "        vertical-align: middle;\n",
       "    }\n",
       "\n",
       "    .dataframe tbody tr th {\n",
       "        vertical-align: top;\n",
       "    }\n",
       "\n",
       "    .dataframe thead th {\n",
       "        text-align: right;\n",
       "    }\n",
       "</style>\n",
       "<table border=\"1\" class=\"dataframe\">\n",
       "  <thead>\n",
       "    <tr style=\"text-align: right;\">\n",
       "      <th></th>\n",
       "      <th>Hypothesis</th>\n",
       "      <th>ICE_rank</th>\n",
       "      <th>RICE_rank</th>\n",
       "      <th>Rank_Change</th>\n",
       "    </tr>\n",
       "  </thead>\n",
       "  <tbody>\n",
       "    <tr>\n",
       "      <th>2</th>\n",
       "      <td>Add product recommendation blocks to the store...</td>\n",
       "      <td>5.0</td>\n",
       "      <td>2.0</td>\n",
       "      <td>3.0</td>\n",
       "    </tr>\n",
       "    <tr>\n",
       "      <th>3</th>\n",
       "      <td>Change the category structure. This will incre...</td>\n",
       "      <td>8.0</td>\n",
       "      <td>6.0</td>\n",
       "      <td>2.0</td>\n",
       "    </tr>\n",
       "    <tr>\n",
       "      <th>7</th>\n",
       "      <td>Add a subscription form to all the main pages....</td>\n",
       "      <td>3.0</td>\n",
       "      <td>1.0</td>\n",
       "      <td>2.0</td>\n",
       "    </tr>\n",
       "    <tr>\n",
       "      <th>6</th>\n",
       "      <td>Show banners with current offers and sales on ...</td>\n",
       "      <td>4.0</td>\n",
       "      <td>3.5</td>\n",
       "      <td>0.5</td>\n",
       "    </tr>\n",
       "    <tr>\n",
       "      <th>4</th>\n",
       "      <td>Change the background color on the main page. ...</td>\n",
       "      <td>9.0</td>\n",
       "      <td>9.0</td>\n",
       "      <td>0.0</td>\n",
       "    </tr>\n",
       "    <tr>\n",
       "      <th>5</th>\n",
       "      <td>Add a customer review page. This will increase...</td>\n",
       "      <td>7.0</td>\n",
       "      <td>7.5</td>\n",
       "      <td>-0.5</td>\n",
       "    </tr>\n",
       "    <tr>\n",
       "      <th>0</th>\n",
       "      <td>Add two new channels for attracting traffic. T...</td>\n",
       "      <td>2.0</td>\n",
       "      <td>3.5</td>\n",
       "      <td>-1.5</td>\n",
       "    </tr>\n",
       "    <tr>\n",
       "      <th>1</th>\n",
       "      <td>Launch your own delivery service. This will sh...</td>\n",
       "      <td>6.0</td>\n",
       "      <td>7.5</td>\n",
       "      <td>-1.5</td>\n",
       "    </tr>\n",
       "    <tr>\n",
       "      <th>8</th>\n",
       "      <td>Launch a promotion that gives users discounts ...</td>\n",
       "      <td>1.0</td>\n",
       "      <td>5.0</td>\n",
       "      <td>-4.0</td>\n",
       "    </tr>\n",
       "  </tbody>\n",
       "</table>\n",
       "</div>"
      ],
      "text/plain": [
       "                                          Hypothesis  ICE_rank  RICE_rank  \\\n",
       "2  Add product recommendation blocks to the store...       5.0        2.0   \n",
       "3  Change the category structure. This will incre...       8.0        6.0   \n",
       "7  Add a subscription form to all the main pages....       3.0        1.0   \n",
       "6  Show banners with current offers and sales on ...       4.0        3.5   \n",
       "4  Change the background color on the main page. ...       9.0        9.0   \n",
       "5  Add a customer review page. This will increase...       7.0        7.5   \n",
       "0  Add two new channels for attracting traffic. T...       2.0        3.5   \n",
       "1  Launch your own delivery service. This will sh...       6.0        7.5   \n",
       "8  Launch a promotion that gives users discounts ...       1.0        5.0   \n",
       "\n",
       "   Rank_Change  \n",
       "2          3.0  \n",
       "3          2.0  \n",
       "7          2.0  \n",
       "6          0.5  \n",
       "4          0.0  \n",
       "5         -0.5  \n",
       "0         -1.5  \n",
       "1         -1.5  \n",
       "8         -4.0  "
      ]
     },
     "execution_count": 18,
     "metadata": {},
     "output_type": "execute_result"
    }
   ],
   "source": [
    "df_hypotheses['ICE_rank'] = df_hypotheses['ICE'].rank(ascending=False)\n",
    "df_hypotheses['RICE_rank'] = df_hypotheses['RICE'].rank(ascending=False)\n",
    "\n",
    "\n",
    "df_hypotheses['Rank_Change'] = df_hypotheses['ICE_rank'] - df_hypotheses['RICE_rank']\n",
    "\n",
    "\n",
    "df_rank_comparison = df_hypotheses.sort_values(by='Rank_Change', ascending=False)\n",
    "\n",
    "\n",
    "df_rank_comparison[['Hypothesis', 'ICE_rank', 'RICE_rank', 'Rank_Change']]"
   ]
  },
  {
   "cell_type": "code",
   "execution_count": 19,
   "metadata": {
    "trusted": false
   },
   "outputs": [
    {
     "data": {
      "image/png": "[encoded data removed]",
      "text/plain": [
       "<Figure size 800x600 with 1 Axes>"
      ]
     },
     "metadata": {},
     "output_type": "display_data"
    }
   ],
   "source": [
    "plt.figure(figsize=(8, 6))\n",
    "sns.scatterplot(\n",
    "    data=df_hypotheses,\n",
    "    x='ICE_rank',\n",
    "    y='RICE_rank',\n",
    "    s=100\n",
    ")\n",
    "\n",
    "\n",
    "plt.plot([1, df_hypotheses['ICE_rank'].max()], [1, df_hypotheses['RICE_rank'].max()], 'r--')\n",
    "\n",
    "\n",
    "for i in range(len(df_hypotheses)):\n",
    "    plt.text(\n",
    "        df_hypotheses['ICE_rank'].iloc[i] + 0.1,\n",
    "        df_hypotheses['RICE_rank'].iloc[i] + 0.1,\n",
    "        str(i + 1),  \n",
    "        fontsize=9\n",
    "    )\n",
    "\n",
    "plt.title('Cambio de Ranking: ICE vs. RICE')\n",
    "plt.xlabel('Ranking ICE')\n",
    "plt.ylabel('Ranking RICE')\n",
    "plt.grid(True)\n",
    "plt.tight_layout()\n",
    "plt.show()"
   ]
  },
  {
   "cell_type": "markdown",
   "metadata": {},
   "source": [
    "<h1 style=\"font-size:15px;\">Analisis framework ICE, RICE Y cómo cambia la priorización de hipótesis cuando utilizas RICE en lugar de ICE</h1>\n",
    "\n",
    "\n",
    "Despues de analizar la informacion previamente mostrada, se puede concluir lo siguiente:\n",
    "\n",
    "ICE\n",
    "\n",
    "La hipótesis no. 8 (ofrecer un regalo en compras > $200) encabeza la lista y tiene un ICE más  alto, ya que requiere poco esfuerzo y tiene alta confianza, ademas de que los clientes siempre se sientes atraidos por ofertas y promociones que llamen su atención.\n",
    "\n",
    "La hipótesis #0 (nuevos canales) también destaca por tener impacto al llamar más la atención de los clientes y  y ser fácil de implementar ya que Nuevos canales de adquisición pueden significar más visitantes → más pedidos → más ingresos y si el Si el canal es bien seleccionado (por ejemplo, redes sociales, afiliados, SEO), puede escalar rápidamente.\n",
    "\n",
    "La hipotesis que menor impacto tiene es la numero 6 ya que generalmente cambiar el color no suele alterar significativamente el comportamiento del usuario ni afecta directamente a la decisión de compra, además de que No mejora ni la navegación, ni la visibilidad de productos, ni reduce las críticas, solo es una modificación estetica,más  no funcional.\n",
    "\n",
    "RICE\n",
    "la hipótesis #7 (reseñas de usuarios) pasa al primer lugar, ya que tiene alto Reach, buen impacto y confianza ya que al ser una opinion directa del cliente, es una fuente hipotesis de alta confianza y la opinion de los clientes la que más impacta en un negocio y las opiniones de las clientes permiten mejorar la expeiencia del usuario asi como atraer a más clientes.\n",
    "\n",
    "La #2 (rediseño del botón de compra y agregar recomedaciones del producto) tiene el lugar número dos debido a su gran Reach, aunque su ICE es menor.\n",
    "\n",
    "Al igual que en Ice la hipotesis que menor RICE tiene es la número 6 principalmente por las mismas razones mencionadas anteriormente, además de Aunque suena sencillo, cambiar colores puede implicar rediseño visual, revisión de UX/UI, pruebas de accesibilidad, revisiones de branding, etc. Incluso si se hace el cambio, no todos los usuarios lo notarían o reaccionarían a ello, algunas personas acceden directamente a páginas de productos o desde móviles donde el color puede ser menos perceptible.\n",
    "\n",
    "\n",
    "Por ultimo en cuanto a la comparacion entre ICE Y RICE se puede notar que si hay cambios entre las dos, ya que el El orden cambia significativamente al considerar el Reach, Por ejemplo, #8 cae del 1º al 6º lugar porque su alcance es limitado. y que ICE es útil en etapas iniciales o cuando el presupuesto es ajustado y RICE es ideal cuando se buscan acciones con mayor retorno agregado y se tiene un público amplio.\n"
   ]
  },
  {
   "cell_type": "markdown",
   "metadata": {},
   "source": [
    " <h1 style=\"font-size:25px;\">Parte 2. Análisis del test A/B</h1> "
   ]
  },
  {
   "cell_type": "markdown",
   "metadata": {},
   "source": [
    "1.-Representa gráficamente el ingreso acumulado por grupo"
   ]
  },
  {
   "cell_type": "code",
   "execution_count": 20,
   "metadata": {
    "trusted": false
   },
   "outputs": [],
   "source": [
    "revenue_daily = df_orders.groupby(['date', 'group'])['revenue'].sum().reset_index()\n",
    "\n",
    "\n",
    "revenue_pivot = revenue_daily.pivot(index='date', columns='group', values='revenue').fillna(0)\n",
    "\n",
    "revenue_pivot['A_cumulative'] = revenue_pivot['A'].cumsum()\n",
    "revenue_pivot['B_cumulative'] = revenue_pivot['B'].cumsum()"
   ]
  },
  {
   "cell_type": "code",
   "execution_count": 21,
   "metadata": {
    "trusted": false
   },
   "outputs": [
    {
     "data": {
      "image/png": "[encoded data removed]",
      "text/plain": [
       "<Figure size 1200x600 with 1 Axes>"
      ]
     },
     "metadata": {},
     "output_type": "display_data"
    }
   ],
   "source": [
    "plt.figure(figsize=(12, 6))\n",
    "plt.plot(revenue_pivot.index, revenue_pivot['A_cumulative'], label='Grupo A', color='blue')\n",
    "plt.plot(revenue_pivot.index, revenue_pivot['B_cumulative'], label='Grupo B', color='orange')\n",
    "\n",
    "plt.title('Ingreso acumulado por grupo A/B')\n",
    "plt.xlabel('Fecha')\n",
    "plt.ylabel('Ingreso acumulado ($)')\n",
    "plt.legend()\n",
    "plt.grid(True)\n",
    "plt.tight_layout()\n",
    "plt.show()"
   ]
  },
  {
   "cell_type": "markdown",
   "metadata": {},
   "source": [
    "- Al analizar la grafica anterior se puede notar que el grupo b es el grupo que genera mayor ingreso al final del periodo analizado y se mantiene con más ingresos en la mayor parte de todos los periodos, siendo solo ligeramente rebasado por el grupo a en el dia 13 de agosto, sin embargo se separan posteriormente y al final se obtienen ingresos de 80.000 al final del periodo contra 53,000 del grupo A.\n",
    "\n",
    "En otras palabras, Ambas líneas crecen de forma similar hasta cierto punto, sin embargo, Hacia el final, grupo B muestra un salto repentino, lo que sugiere pedidos atípicos (muy altos).  Esto puede ser  por pocos usuarios con pedidos muy caros."
   ]
  },
  {
   "cell_type": "markdown",
   "metadata": {},
   "source": [
    "2.-Representa gráficamente el tamaño de pedido promedio acumulado por grupo. Haz conclusiones y conjeturas."
   ]
  },
  {
   "cell_type": "code",
   "execution_count": 22,
   "metadata": {
    "trusted": false
   },
   "outputs": [],
   "source": [
    "orders_grouped = df_orders.groupby(['date', 'group']).agg(\n",
    "    revenue_sum=('revenue', 'sum'),\n",
    "    orders_count=('transactionId', 'nunique')\n",
    ").reset_index()\n",
    "\n",
    "\n",
    "revenue_pivot = orders_grouped.pivot(index='date', columns='group', values='revenue_sum').fillna(0)\n",
    "orders_pivot = orders_grouped.pivot(index='date', columns='group', values='orders_count').fillna(0)\n",
    "\n",
    "\n",
    "revenue_cum = revenue_pivot.cumsum()\n",
    "orders_cum = orders_pivot.cumsum()\n",
    "\n",
    "\n",
    "avg_order_size = revenue_cum / orders_cum"
   ]
  },
  {
   "cell_type": "code",
   "execution_count": 23,
   "metadata": {
    "trusted": false
   },
   "outputs": [
    {
     "data": {
      "image/png": "[encoded data removed]",
      "text/plain": [
       "<Figure size 1200x600 with 1 Axes>"
      ]
     },
     "metadata": {},
     "output_type": "display_data"
    }
   ],
   "source": [
    "plt.figure(figsize=(12, 6))\n",
    "plt.plot(avg_order_size.index, avg_order_size['A'], label='Grupo A', color='blue')\n",
    "plt.plot(avg_order_size.index, avg_order_size['B'], label='Grupo B', color='orange')\n",
    "\n",
    "plt.title('Tamaño promedio de pedido acumulado por grupo')\n",
    "plt.xlabel('Fecha')\n",
    "plt.ylabel('Tamaño promedio de pedido ($)')\n",
    "plt.legend()\n",
    "plt.grid(True)\n",
    "plt.tight_layout()\n",
    "plt.show()"
   ]
  },
  {
   "cell_type": "markdown",
   "metadata": {},
   "source": [
    "Respecto a la grafica anterior se puede notar que hay volatilidad alta en los primeros días ya que Al inicio, los valores de ambos grupos fluctúan mucho, sim embargo Ambas líneas se estabilizan y la curva de ambos grupos se suaviza y se puede ver una tendencia más clara.\n",
    "\n",
    "En la maypria fechas, el grupo B está por encima del grupo A, especialmente al final del experimento, lo que muestra que el experimento podría estar generando pedidos más caros."
   ]
  },
  {
   "cell_type": "markdown",
   "metadata": {},
   "source": [
    "3.- Representa gráficamente la diferencia relativa en el tamaño de pedido promedio acumulado para el grupo B en comparación con el grupo A. Haz conclusiones y conjeturas."
   ]
  },
  {
   "cell_type": "code",
   "execution_count": 24,
   "metadata": {
    "trusted": false
   },
   "outputs": [],
   "source": [
    "\n",
    "orders_grouped = df_orders.groupby(['date', 'group']).agg(\n",
    "    revenue_sum=('revenue', 'sum'),\n",
    "    orders_count=('transactionId', 'nunique')\n",
    ").reset_index()\n",
    "\n",
    "\n",
    "revenue_pivot = orders_grouped.pivot(index='date', columns='group', values='revenue_sum').fillna(0)\n",
    "orders_pivot = orders_grouped.pivot(index='date', columns='group', values='orders_count').fillna(0)\n",
    "\n",
    "\n",
    "revenue_cum = revenue_pivot.cumsum()\n",
    "orders_cum = orders_pivot.cumsum()\n",
    "\n",
    "\n",
    "avg_order_size = revenue_cum / orders_cum\n",
    "\n",
    "\n",
    "relative_diff = (avg_order_size['B'] - avg_order_size['A']) / avg_order_size['A']"
   ]
  },
  {
   "cell_type": "code",
   "execution_count": 25,
   "metadata": {
    "trusted": false
   },
   "outputs": [
    {
     "data": {
      "image/png": "[encoded data removed]",
      "text/plain": [
       "<Figure size 1200x600 with 1 Axes>"
      ]
     },
     "metadata": {},
     "output_type": "display_data"
    }
   ],
   "source": [
    "plt.figure(figsize=(12, 6))\n",
    "plt.plot(relative_diff.index, relative_diff, label='Diferencia relativa (B vs A)', color='green')\n",
    "\n",
    "plt.axhline(y=0, color='gray', linestyle='--')  # Línea base en 0\n",
    "plt.title('Diferencia relativa en el tamaño promedio de pedido acumulado (B vs A)')\n",
    "plt.xlabel('Fecha')\n",
    "plt.ylabel('Diferencia relativa')\n",
    "plt.grid(True)\n",
    "plt.legend()\n",
    "plt.tight_layout()\n",
    "plt.show()"
   ]
  },
  {
   "cell_type": "markdown",
   "metadata": {},
   "source": [
    "En la grafica anterior se puede observar una tendencia positiva y que el grupo Grupo B mantiene un tamaño de pedido promedio superior al A. En varios días, el grupo B tiene un ticket promedio acumulado que supera al del grupo A en un 10% o más. o que refuerza la hipótesis de que la intervención aplicada al grupo B tiene un impacto positivo en el tamaño del pedido.\n",
    "\n",
    "En cuanto a la conjetura es probable que la modificación aplicada al grupo B (por ejemplo, promociones, ofertas o rediseño de la página de productos) esté motivando a los usuarios a gastar más."
   ]
  },
  {
   "cell_type": "markdown",
   "metadata": {},
   "source": [
    "4.-Calcula la tasa de conversión de cada grupo como la relación entre los pedidos y el número de visitas de cada día. Representa gráficamente las tasas de conversión diarias de los dos grupos y describe la diferencia. Saca conclusiones y haz conjeturas."
   ]
  },
  {
   "cell_type": "code",
   "execution_count": 26,
   "metadata": {
    "trusted": false
   },
   "outputs": [],
   "source": [
    "daily_orders = df_orders.groupby(['date', 'group'])['transactionId'].nunique().reset_index()\n",
    "daily_orders.rename(columns={'transactionId': 'orders'}, inplace=True)\n",
    "\n",
    "\n",
    "df_conversions = pd.merge(df_visits, daily_orders, on=['date', 'group'], how='left')\n",
    "df_conversions['orders'] = df_conversions['orders'].fillna(0)\n",
    "\n",
    "\n",
    "df_conversions['conversion_rate'] = df_conversions['orders'] / df_conversions['visits']\n",
    "\n",
    "\n",
    "conversion_A = df_conversions[df_conversions['group'] == 'A']\n",
    "conversion_B = df_conversions[df_conversions['group'] == 'B']"
   ]
  },
  {
   "cell_type": "code",
   "execution_count": 27,
   "metadata": {
    "trusted": false
   },
   "outputs": [
    {
     "data": {
      "image/png": "[encoded data removed]",
      "text/plain": [
       "<Figure size 1200x600 with 1 Axes>"
      ]
     },
     "metadata": {},
     "output_type": "display_data"
    }
   ],
   "source": [
    "plt.figure(figsize=(12, 6))\n",
    "plt.plot(conversion_A['date'], conversion_A['conversion_rate'], label='Grupo A', color='blue')\n",
    "plt.plot(conversion_B['date'], conversion_B['conversion_rate'], label='Grupo B', color='orange')\n",
    "\n",
    "plt.title('Tasa de conversión diaria por grupo A/B')\n",
    "plt.xlabel('Fecha')\n",
    "plt.ylabel('Tasa de conversión')\n",
    "plt.legend()\n",
    "plt.grid(True)\n",
    "plt.tight_layout()\n",
    "plt.show()"
   ]
  },
  {
   "cell_type": "markdown",
   "metadata": {},
   "source": [
    "La grafica muestra que Ambas líneas muestran variabilidad diaria, lo cual es esperable por la naturaleza del tráfico online y el comportamiento del usuario y que aunque hay días en los que A y B están cercanos, o incluso A supera a B, en la mayoría de los días B tiene una conversión superior ya que en varios puntos se observa una diferencia clara a favor del grupo B.\n",
    "\n",
    "En otras palabras Aunque la variabilidad diaria puede sugerir ruido, la tendencia global indica que el grupo B convierte mejor que A y que La hipótesis aplicada al grupo B pudo haber mejorado aspectos como la usabilidad del sitio, el proceso de pago (menos fricción), La confianza del usuario (mejor diseño, información más clara), O bien, se aplicaron elementos como urgencia o escasez (por ejemplo: “últimos productos”)."
   ]
  },
  {
   "cell_type": "markdown",
   "metadata": {},
   "source": [
    "5.- Traza un gráfico de dispersión del número de pedidos por usuario. Haz conclusiones y conjeturas."
   ]
  },
  {
   "cell_type": "code",
   "execution_count": 28,
   "metadata": {
    "trusted": false
   },
   "outputs": [],
   "source": [
    "orders_by_user = df_orders.groupby('visitorId')['transactionId'].nunique().reset_index()\n",
    "orders_by_user.rename(columns={'transactionId': 'orders'}, inplace=True)"
   ]
  },
  {
   "cell_type": "code",
   "execution_count": 29,
   "metadata": {
    "trusted": false
   },
   "outputs": [
    {
     "data": {
      "image/png": "[encoded data removed]",
      "text/plain": [
       "<Figure size 1000x600 with 1 Axes>"
      ]
     },
     "metadata": {},
     "output_type": "display_data"
    }
   ],
   "source": [
    "plt.figure(figsize=(10, 6))\n",
    "plt.scatter(orders_by_user['visitorId'], orders_by_user['orders'], alpha=0.5, color='blue', marker='o')\n",
    "\n",
    "plt.title('Número de pedidos por usuario')\n",
    "plt.xlabel('ID de Usuario')\n",
    "plt.ylabel('Número de pedidos')\n",
    "plt.grid(True)\n",
    "plt.tight_layout()\n",
    "plt.show()"
   ]
  },
  {
   "cell_type": "markdown",
   "metadata": {},
   "source": [
    "En el grafico de dispersión se puede notar que la gran mayoría de usuarios hizo solo 1 pedido y aunque hay algunos puntos por encima del valor 1, indicando usuarios que hicieron 2, 3 o más pedidos Estos usuarios son poco frecuentes pero pueden tener impacto significativo en los promedios y totales y se observan muy pocos puntos aislados (o valores atipicos)  muy por encima del promedio, como usuarios con 4, 5 o incluso más pedidos.\n",
    "\n",
    "En otras palabras la distribución es altamente sesgada hacia un solo pedido por usuario y hay muy pocos usuarios con múltiples compras, y algunos pueden ser outliers importantes.\n",
    "\n",
    "Estos usuarios con múltiples pedidos pueden ser clientes fieles o recurrentes (ya conocían la tienda) o bien usuarios que aprovechan promociones intensamente (ej. descuentos por volumen)."
   ]
  },
  {
   "cell_type": "markdown",
   "metadata": {},
   "source": [
    "6.- Calcula los percentiles 95 y 99 del número de pedidos por usuario. Define el punto en el cual un punto de datos se convierte en una anomalía."
   ]
  },
  {
   "cell_type": "code",
   "execution_count": 30,
   "metadata": {
    "trusted": false
   },
   "outputs": [
    {
     "name": "stdout",
     "output_type": "stream",
     "text": [
      "Percentil 95 del número de pedidos por usuario: 1.0\n",
      "Percentil 99 del número de pedidos por usuario: 2.0\n"
     ]
    }
   ],
   "source": [
    "orders_by_user = df_orders.groupby('visitorId')['transactionId'].nunique().reset_index()\n",
    "orders_by_user.rename(columns={'transactionId': 'orders'}, inplace=True)\n",
    "\n",
    "\n",
    "percentile_95 = orders_by_user['orders'].quantile(0.95)\n",
    "percentile_99 = orders_by_user['orders'].quantile(0.99)\n",
    "\n",
    "print(f\"Percentil 95 del número de pedidos por usuario: {percentile_95}\")\n",
    "print(f\"Percentil 99 del número de pedidos por usuario: {percentile_99}\")"
   ]
  },
  {
   "cell_type": "code",
   "execution_count": 31,
   "metadata": {
    "scrolled": true,
    "trusted": false
   },
   "outputs": [
    {
     "name": "stdout",
     "output_type": "stream",
     "text": [
      "Número de usuarios con más pedidos que el percentil 99: 7\n",
      "Usuarios con anomalías:\n",
      "      visitorId  orders\n",
      "55    249864742       3\n",
      "138   611059232       3\n",
      "478  2108163459       3\n",
      "632  2742574263       3\n",
      "687  2988190573       3\n",
      "890  3908431265       3\n",
      "908  3967698036       3\n"
     ]
    }
   ],
   "source": [
    "anomalies = orders_by_user[orders_by_user['orders'] > percentile_99]\n",
    "\n",
    "print(f\"Número de usuarios con más pedidos que el percentil 99: {len(anomalies)}\")\n",
    "print(f\"Usuarios con anomalías:\\n{anomalies[['visitorId', 'orders']]}\")"
   ]
  },
  {
   "cell_type": "markdown",
   "metadata": {},
   "source": [
    "Despues de analizar la informacion anterior se puede notar que hay una gran concentración de usuarios que hicieron un solo pedido, teniendo una diferencia marcada entre los usuarios y reduciendo más drasticamente en los usuarios que hicieron 3 pedidos, ya que Usuarios con 3 o más pedidos representan menos del 1% del total y se consideran outliers por lo cual dichos  Usuarios con 3 o más pedidos se convierten en anómalos estadísticamente. "
   ]
  },
  {
   "cell_type": "markdown",
   "metadata": {},
   "source": [
    "7.-Traza un gráfico de dispersión de los precios de los pedidos. Haz conclusiones y conjeturas."
   ]
  },
  {
   "cell_type": "code",
   "execution_count": 32,
   "metadata": {
    "trusted": false
   },
   "outputs": [
    {
     "data": {
      "image/png": "[encoded data removed]",
      "text/plain": [
       "<Figure size 1000x600 with 1 Axes>"
      ]
     },
     "metadata": {},
     "output_type": "display_data"
    }
   ],
   "source": [
    "plt.figure(figsize=(10, 6))\n",
    "plt.scatter(df_orders['visitorId'], df_orders['revenue'], alpha=0.5, color='blue', marker='o')\n",
    "\n",
    "plt.title('Precio de los pedidos por usuario')\n",
    "plt.xlabel('ID de Usuario')\n",
    "plt.ylabel('Precio del pedido')\n",
    "plt.grid(True)\n",
    "plt.tight_layout()\n",
    "plt.show()"
   ]
  },
  {
   "cell_type": "markdown",
   "metadata": {},
   "source": [
    "Respecto a los precios de los pedidos, se puede observar que La mayoría de los puntos se encuentran en un rango bajo o medio (por ejemplo, entre 50 y 300 USD), es decir que los clientes muestran una preferencia por los articulos de bajo costo o estandar. \n",
    "\n",
    "Muy pocos puntos o pedidos están muy por encima de la media, sin embargo deben tomarse en cuenta  en cuanto a valor de compra y pueden sesgar fuertemente el promedio del ticket de pedido.\n",
    "\n",
    "Dado lo anterior se puede sugerir promociones con precios fijos o bien hacer más publicidad de productos populares con un precio estándar."
   ]
  },
  {
   "cell_type": "markdown",
   "metadata": {},
   "source": [
    "8.-Calcula los percentiles 95 y 99 de los precios de los pedidos. Define el punto en el cual un punto de datos se convierte en una anomalía."
   ]
  },
  {
   "cell_type": "code",
   "execution_count": 33,
   "metadata": {
    "trusted": false
   },
   "outputs": [
    {
     "name": "stdout",
     "output_type": "stream",
     "text": [
      "Percentil 95 del precio de los pedidos: 414.275\n",
      "Percentil 99 del precio de los pedidos: 830.3\n"
     ]
    }
   ],
   "source": [
    "percentile_95 = df_orders['revenue'].quantile(0.95)\n",
    "percentile_99 = df_orders['revenue'].quantile(0.99)\n",
    "\n",
    "print(f\"Percentil 95 del precio de los pedidos: {percentile_95}\")\n",
    "print(f\"Percentil 99 del precio de los pedidos: {percentile_99}\")"
   ]
  },
  {
   "cell_type": "code",
   "execution_count": 34,
   "metadata": {
    "scrolled": true,
    "trusted": false
   },
   "outputs": [
    {
     "name": "stdout",
     "output_type": "stream",
     "text": [
      "Número de pedidos con precios mayores que el percentil 99: 9\n",
      "Pedidos con anomalías:\n",
      "      transactionId  revenue\n",
      "425       590470918  19920.4\n",
      "743      3603576309   1050.0\n",
      "744      3668308183   1335.6\n",
      "940      2420050534    905.8\n",
      "949      1347999392    930.0\n",
      "1099      316924019   1015.9\n",
      "1103     1348774318   1025.8\n",
      "1136      666610489   1425.8\n",
      "1196     3936777065   3120.1\n"
     ]
    }
   ],
   "source": [
    "anomalies = df_orders[df_orders['revenue'] > percentile_99]\n",
    "\n",
    "print(f\"Número de pedidos con precios mayores que el percentil 99: {len(anomalies)}\")\n",
    "print(f\"Pedidos con anomalías:\\n{anomalies[['transactionId', 'revenue']]}\")"
   ]
  },
  {
   "cell_type": "markdown",
   "metadata": {},
   "source": [
    "Como se menciono anteriormente se muestra una alta concentración de pedidos en un rango estándar (ej. 50–300 USD) y que Hay pedidos inusualmente altos que, aunque reales, representan menos del 1%.\n",
    "\n",
    "Estos valores extremos podrían deberse a Usuarios corporativos o mayoristas, Compras impulsadas por promociones exclusivas o recomendaciones exitosas, o bien compras de múltiples artículos caros que contarian como conjeturas y anomaliás."
   ]
  },
  {
   "cell_type": "markdown",
   "metadata": {},
   "source": [
    "9.- Encuentra la significancia estadística de la diferencia en la conversión entre los grupos utilizando los datos en bruto. Haz conclusiones y conjeturas."
   ]
  },
  {
   "cell_type": "code",
   "execution_count": 35,
   "metadata": {
    "trusted": false
   },
   "outputs": [
    {
     "name": "stdout",
     "output_type": "stream",
     "text": [
      "Tasa de conversión por grupo:\n",
      "  group  orders  visits  conversion_rate\n",
      "0     A     445   18736         0.023751\n",
      "1     B     528   18916         0.027913\n"
     ]
    }
   ],
   "source": [
    "orders_by_group = df_orders.groupby('group')['visitorId'].nunique().reset_index(name='orders')\n",
    "\n",
    "\n",
    "visits_by_group = df_visits.groupby('group')['visits'].sum().reset_index()\n",
    "\n",
    "\n",
    "conversion = orders_by_group.merge(visits_by_group, on='group')\n",
    "\n",
    "\n",
    "conversion['conversion_rate'] = conversion['orders'] / conversion['visits']\n",
    "print(\"Tasa de conversión por grupo:\")\n",
    "print(conversion)"
   ]
  },
  {
   "cell_type": "code",
   "execution_count": 36,
   "metadata": {
    "trusted": false
   },
   "outputs": [
    {
     "name": "stdout",
     "output_type": "stream",
     "text": [
      "\n",
      "Estadístico Z: -2.5449\n",
      "Valor p: 0.0109\n"
     ]
    }
   ],
   "source": [
    "orders_A = conversion.loc[conversion['group'] == 'A', 'orders'].values[0]\n",
    "orders_B = conversion.loc[conversion['group'] == 'B', 'orders'].values[0]\n",
    "\n",
    "visits_A = conversion.loc[conversion['group'] == 'A', 'visits'].values[0]\n",
    "visits_B = conversion.loc[conversion['group'] == 'B', 'visits'].values[0]\n",
    "\n",
    "\n",
    "z_stat, p_value = proportions_ztest(count=[orders_A, orders_B], nobs=[visits_A, visits_B])\n",
    "\n",
    "\n",
    "print(f\"\\nEstadístico Z: {z_stat:.4f}\")\n",
    "print(f\"Valor p: {p_value:.4f}\")"
   ]
  },
  {
   "cell_type": "code",
   "execution_count": 37,
   "metadata": {
    "trusted": false
   },
   "outputs": [
    {
     "name": "stdout",
     "output_type": "stream",
     "text": [
      "✅ Hay una diferencia estadísticamente significativa entre las tasas de conversión de los grupos.\n"
     ]
    }
   ],
   "source": [
    "if p_value < 0.05:\n",
    "    print(\"✅ Hay una diferencia estadísticamente significativa entre las tasas de conversión de los grupos.\")\n",
    "else:\n",
    "    print(\"❌ No hay evidencia suficiente para afirmar que hay una diferencia significativa entre los grupos.\")"
   ]
  },
  {
   "cell_type": "markdown",
   "metadata": {},
   "source": [
    "Analizando lo anterior, como p = 0.0109 < 0.05, rechazamos la hipótesis nula H₀, Esto indica que sí existe una diferencia estadísticamente significativa en la conversión entre los grupos A y B ya que el valor negativo de Z sugiere que la tasa de conversión del grupo B es superior (si tomamos B - A como la diferencia)."
   ]
  },
  {
   "cell_type": "markdown",
   "metadata": {},
   "source": [
    "10.- Encuentra la significancia estadística de la diferencia en el tamaño promedio de pedido entre los grupos utilizando los datos en bruto. Haz conclusiones y conjeturas."
   ]
  },
  {
   "cell_type": "code",
   "execution_count": 38,
   "metadata": {
    "trusted": false
   },
   "outputs": [
    {
     "name": "stdout",
     "output_type": "stream",
     "text": [
      "Tamaño promedio del pedido - Grupo A: 113.70\n",
      "Tamaño promedio del pedido - Grupo B: 145.35\n"
     ]
    }
   ],
   "source": [
    "group_a_revenue = df_orders[df_orders['group'] == 'A']['revenue']\n",
    "group_b_revenue = df_orders[df_orders['group'] == 'B']['revenue']\n",
    "\n",
    "\n",
    "mean_a = group_a_revenue.mean()\n",
    "mean_b = group_b_revenue.mean()\n",
    "\n",
    "print(f\"Tamaño promedio del pedido - Grupo A: {mean_a:.2f}\")\n",
    "print(f\"Tamaño promedio del pedido - Grupo B: {mean_b:.2f}\")"
   ]
  },
  {
   "cell_type": "code",
   "execution_count": 39,
   "metadata": {
    "trusted": false
   },
   "outputs": [
    {
     "name": "stdout",
     "output_type": "stream",
     "text": [
      "Estadístico U: 129041.500\n",
      "Valor p: 0.8622\n"
     ]
    }
   ],
   "source": [
    "stat, p_value = mannwhitneyu(group_a_revenue, group_b_revenue, alternative='two-sided')\n",
    "\n",
    "print(f\"Estadístico U: {stat:.3f}\")\n",
    "print(f\"Valor p: {p_value:.4f}\")"
   ]
  },
  {
   "cell_type": "code",
   "execution_count": 40,
   "metadata": {
    "trusted": false
   },
   "outputs": [
    {
     "name": "stdout",
     "output_type": "stream",
     "text": [
      "❌ No hay diferencia estadísticamente significativa en el tamaño promedio de pedido entre los grupos.\n"
     ]
    }
   ],
   "source": [
    "if p_value < 0.05:\n",
    "    print(\"✅ Hay una diferencia estadísticamente significativa en el tamaño promedio de pedido entre los grupos.\")\n",
    "else:\n",
    "    print(\"❌ No hay diferencia estadísticamente significativa en el tamaño promedio de pedido entre los grupos.\")"
   ]
  },
  {
   "cell_type": "markdown",
   "metadata": {},
   "source": [
    "Despues de analizar la informacion anterior se puede identificar que Aunque el grupo B tiene un promedio visiblemente mayor (145.35 vs 113.70), La variabilidad en los datos es alta por lo que La diferencia entre medias no es lo suficientemente consistente o fuerte como para ser estadísticamente significativa."
   ]
  },
  {
   "cell_type": "markdown",
   "metadata": {},
   "source": [
    "11.- Encuentra la significancia estadística de la diferencia en la conversión entre los grupos utilizando los datos filtrados. Haz conclusiones y conjeturas."
   ]
  },
  {
   "cell_type": "code",
   "execution_count": 41,
   "metadata": {
    "trusted": false
   },
   "outputs": [
    {
     "name": "stdout",
     "output_type": "stream",
     "text": [
      "Tasa de conversión - Grupo A: 0.0238\n",
      "Tasa de conversión - Grupo B: 0.0279\n"
     ]
    }
   ],
   "source": [
    "group_a_visits = df_visits[df_visits['group'] == 'A']\n",
    "group_b_visits = df_visits[df_visits['group'] == 'B']\n",
    "\n",
    "\n",
    "group_a_orders = df_orders[df_orders['group'] == 'A']\n",
    "group_b_orders = df_orders[df_orders['group'] == 'B']\n",
    "\n",
    "\n",
    "conversion_a = group_a_orders.groupby('visitorId').size().count() / group_a_visits['visits'].sum()\n",
    "conversion_b = group_b_orders.groupby('visitorId').size().count() / group_b_visits['visits'].sum()\n",
    "\n",
    "\n",
    "print(f\"Tasa de conversión - Grupo A: {conversion_a:.4f}\")\n",
    "print(f\"Tasa de conversión - Grupo B: {conversion_b:.4f}\")"
   ]
  },
  {
   "cell_type": "code",
   "execution_count": 42,
   "metadata": {
    "trusted": false
   },
   "outputs": [
    {
     "name": "stdout",
     "output_type": "stream",
     "text": [
      "Estadístico U: 455.500\n",
      "Valor p: 0.7301\n"
     ]
    }
   ],
   "source": [
    "stat, p_value = mannwhitneyu(group_a_visits['visits'], group_b_visits['visits'], alternative='two-sided')\n",
    "\n",
    "print(f\"Estadístico U: {stat:.3f}\")\n",
    "print(f\"Valor p: {p_value:.4f}\")"
   ]
  },
  {
   "cell_type": "code",
   "execution_count": 43,
   "metadata": {
    "trusted": false
   },
   "outputs": [
    {
     "name": "stdout",
     "output_type": "stream",
     "text": [
      "❌ No hay suficiente evidencia para rechazar la hipótesis nula. No hay diferencia significativa en las tasas de conversión.\n"
     ]
    }
   ],
   "source": [
    "if p_value < 0.05:\n",
    "    print(\"✅ Hay una diferencia estadísticamente significativa en la tasa de conversión entre los grupos.\")\n",
    "else:\n",
    "    print(\"❌ No hay suficiente evidencia para rechazar la hipótesis nula. No hay diferencia significativa en las tasas de conversión.\")"
   ]
  },
  {
   "cell_type": "markdown",
   "metadata": {},
   "source": [
    "Al analizar la información anterior se puede concluir que El valor p = 0.7301 es mucho mayor al umbral común de significancia (0.05), lo que indica que no hay suficiente evidencia estadística para afirmar que las tasas de conversión de A y B son diferentes y que aunque el grupo B tiene una tasa levemente mayor (0.0279 vs 0.0238), esa diferencia podría deberse al azar, y no se puede atribuir con confianza a un cambio real causado por el experimento.\n",
    "\n",
    "En otras palabras,  no se puede afirmar que el grupo B tenga mejor conversión que el grupo A tras filtrar los datos.\n",
    "La diferencia observada es pequeña y no significativa desde el punto de vista estadístico (valor p = 0.7301).\n",
    "Por tanto, no hay evidencia suficiente para recomendar el cambio con base en la tasa de conversión."
   ]
  },
  {
   "cell_type": "markdown",
   "metadata": {},
   "source": [
    "12.- Encuentra la significancia estadística de la diferencia en el tamaño promedio de pedido entre los grupos utilizando los datos filtrados. Haz conclusiones y conjeturas."
   ]
  },
  {
   "cell_type": "code",
   "execution_count": 44,
   "metadata": {
    "trusted": false
   },
   "outputs": [
    {
     "name": "stdout",
     "output_type": "stream",
     "text": [
      "Tamaño promedio de pedido - Grupo A: 113.70\n",
      "Tamaño promedio de pedido - Grupo B: 145.35\n"
     ]
    }
   ],
   "source": [
    "group_a_orders = df_orders[df_orders['group'] == 'A']\n",
    "group_b_orders = df_orders[df_orders['group'] == 'B']\n",
    "\n",
    "\n",
    "group_a_avg_order_size = group_a_orders['revenue'].mean()\n",
    "group_b_avg_order_size = group_b_orders['revenue'].mean()\n",
    "\n",
    "print(f\"Tamaño promedio de pedido - Grupo A: {group_a_avg_order_size:.2f}\")\n",
    "print(f\"Tamaño promedio de pedido - Grupo B: {group_b_avg_order_size:.2f}\")"
   ]
  },
  {
   "cell_type": "code",
   "execution_count": 45,
   "metadata": {
    "trusted": false
   },
   "outputs": [
    {
     "name": "stdout",
     "output_type": "stream",
     "text": [
      "Estadístico t: -0.776\n",
      "Valor p: 0.4381\n"
     ]
    }
   ],
   "source": [
    "stat, p_value = ttest_ind(group_a_orders['revenue'], group_b_orders['revenue'])\n",
    "\n",
    "print(f\"Estadístico t: {stat:.3f}\")\n",
    "print(f\"Valor p: {p_value:.4f}\")"
   ]
  },
  {
   "cell_type": "code",
   "execution_count": 46,
   "metadata": {
    "trusted": false
   },
   "outputs": [
    {
     "name": "stdout",
     "output_type": "stream",
     "text": [
      "❌ No hay suficiente evidencia para rechazar la hipótesis nula. No hay diferencia significativa en el tamaño promedio de pedido entre los grupos A y B.\n"
     ]
    }
   ],
   "source": [
    "if p_value < 0.05:\n",
    "    print(\"✅ Hay una diferencia estadísticamente significativa en el tamaño promedio de pedido entre los grupos A y B.\")\n",
    "else:\n",
    "    print(\"❌ No hay suficiente evidencia para rechazar la hipótesis nula. No hay diferencia significativa en el tamaño promedio de pedido entre los grupos A y B.\")"
   ]
  },
  {
   "cell_type": "markdown",
   "metadata": {},
   "source": [
    "Despues de analizar lo anterior, podemos decir que el valor p = 0.4381 es muy superior al grado de significancia (0.05) por lo que esto implica que no hay evidencia suficiente para rechazar la hipótesis nula. Es decir, aunque el grupo B parece tener un pedido promedio mayor (145.35 vs. 113.70), la diferencia no es estadísticamente significativa."
   ]
  },
  {
   "cell_type": "markdown",
   "metadata": {},
   "source": [
    "13.- Toma una decisión basada en los resultados de la prueba. Las decisiones posibles son: 1. Parar la prueba, considerar a uno de los grupos como líder. 2. Parar la prueba, concluir que no hay diferencia entre los grupos. 3. Continuar la prueba."
   ]
  },
  {
   "cell_type": "markdown",
   "metadata": {},
   "source": [
    "Inicialmente, el grupo B mostraba una mejor conversión y tamaño de pedido, lo que sugiere una mejora del cambio propuesto, sin embargo Sin embargo, al hacer las pruebas estadisticas de valor p y t, la diferencia desaparece estadísticamente, especialmente en Conversión (U = 455.5, p = 0.7301) y Tamaño promedio pedido (t = -0.776, p = 0.4381). Por lo que lo más ideal seria parar la prueba, concluir que no hay diferencia entre los grupos como lo marcan las pruebas estadisticas ya que No hay evidencia sólida para declarar a B como mejor, Extender la prueba probablemente no aporte mucho más valor y Es más eficiente parar ahora y analizar otras hipótesis con mejor RICE/ICE y como recomendación final del proyecto La tienda online debería centrarse en probar otras hipótesis priorizadas con ICE y RICE, como por ejemplo Lanzar una campaña de marketing exclusiva para suscriptores o Agregar dos nuevos canales para atraer tráfico."
   ]
  }
 ],
 "metadata": {
  "ExecuteTimeLog": [
   {
    "duration": 2527,
    "start_time": "2025-05-04T01:22:47.035Z"
   },
   {
    "duration": 10,
    "start_time": "2025-05-04T01:24:24.418Z"
   },
   {
    "duration": 9,
    "start_time": "2025-05-04T01:25:11.347Z"
   },
   {
    "duration": 4,
    "start_time": "2025-05-04T01:25:57.168Z"
   },
   {
    "duration": 12,
    "start_time": "2025-05-04T01:29:02.766Z"
   },
   {
    "duration": 9,
    "start_time": "2025-05-04T01:29:47.375Z"
   },
   {
    "duration": 9,
    "start_time": "2025-05-04T01:30:05.558Z"
   },
   {
    "duration": 8,
    "start_time": "2025-05-04T01:35:11.793Z"
   },
   {
    "duration": 3,
    "start_time": "2025-05-04T01:35:17.164Z"
   },
   {
    "duration": 7,
    "start_time": "2025-05-04T01:35:19.843Z"
   },
   {
    "duration": 7,
    "start_time": "2025-05-04T01:35:23.805Z"
   },
   {
    "duration": 4,
    "start_time": "2025-05-04T01:35:27.127Z"
   },
   {
    "duration": 9,
    "start_time": "2025-05-04T01:35:30.529Z"
   },
   {
    "duration": 9,
    "start_time": "2025-05-04T01:35:33.938Z"
   },
   {
    "duration": 10,
    "start_time": "2025-05-04T01:36:22.258Z"
   },
   {
    "duration": 11,
    "start_time": "2025-05-04T01:48:41.443Z"
   },
   {
    "duration": 8,
    "start_time": "2025-05-04T01:49:09.979Z"
   },
   {
    "duration": 9,
    "start_time": "2025-05-04T01:50:29.943Z"
   },
   {
    "duration": 216,
    "start_time": "2025-05-04T01:53:23.866Z"
   },
   {
    "duration": 13,
    "start_time": "2025-05-04T01:54:07.184Z"
   },
   {
    "duration": 7,
    "start_time": "2025-05-04T01:54:16.273Z"
   },
   {
    "duration": 7,
    "start_time": "2025-05-04T01:54:20.078Z"
   },
   {
    "duration": 4,
    "start_time": "2025-05-04T01:54:23.195Z"
   },
   {
    "duration": 11,
    "start_time": "2025-05-04T01:54:28.040Z"
   },
   {
    "duration": 9,
    "start_time": "2025-05-04T01:54:30.639Z"
   },
   {
    "duration": 10,
    "start_time": "2025-05-04T01:54:35.016Z"
   },
   {
    "duration": 8,
    "start_time": "2025-05-04T01:54:38.209Z"
   },
   {
    "duration": 9,
    "start_time": "2025-05-04T01:54:40.598Z"
   },
   {
    "duration": 9,
    "start_time": "2025-05-04T01:54:42.524Z"
   },
   {
    "duration": 14,
    "start_time": "2025-05-04T01:54:46.358Z"
   },
   {
    "duration": 62,
    "start_time": "2025-05-04T01:55:46.342Z"
   },
   {
    "duration": 6,
    "start_time": "2025-05-04T01:58:10.864Z"
   },
   {
    "duration": 7,
    "start_time": "2025-05-04T02:02:18.498Z"
   },
   {
    "duration": 5,
    "start_time": "2025-05-04T02:05:44.118Z"
   },
   {
    "duration": 6,
    "start_time": "2025-05-04T02:05:57.703Z"
   },
   {
    "duration": 4,
    "start_time": "2025-05-04T02:06:02.199Z"
   },
   {
    "duration": 6,
    "start_time": "2025-05-04T02:06:05.527Z"
   },
   {
    "duration": 4,
    "start_time": "2025-05-04T02:06:13.256Z"
   },
   {
    "duration": 6,
    "start_time": "2025-05-04T02:06:14.208Z"
   },
   {
    "duration": 6,
    "start_time": "2025-05-04T02:06:17.117Z"
   },
   {
    "duration": 3,
    "start_time": "2025-05-04T02:06:21.863Z"
   },
   {
    "duration": 8,
    "start_time": "2025-05-04T02:06:24.090Z"
   },
   {
    "duration": 7,
    "start_time": "2025-05-04T02:06:26.858Z"
   },
   {
    "duration": 4,
    "start_time": "2025-05-04T02:06:29.860Z"
   },
   {
    "duration": 10,
    "start_time": "2025-05-04T02:06:32.761Z"
   },
   {
    "duration": 9,
    "start_time": "2025-05-04T02:06:35.776Z"
   },
   {
    "duration": 10,
    "start_time": "2025-05-04T02:06:38.932Z"
   },
   {
    "duration": 8,
    "start_time": "2025-05-04T02:06:41.632Z"
   },
   {
    "duration": 9,
    "start_time": "2025-05-04T02:06:45.000Z"
   },
   {
    "duration": 9,
    "start_time": "2025-05-04T02:06:47.482Z"
   },
   {
    "duration": 6,
    "start_time": "2025-05-04T02:06:51.774Z"
   },
   {
    "duration": 4,
    "start_time": "2025-05-04T02:06:54.706Z"
   },
   {
    "duration": 5,
    "start_time": "2025-05-04T02:06:57.179Z"
   },
   {
    "duration": 4,
    "start_time": "2025-05-04T02:10:01.016Z"
   },
   {
    "duration": 6,
    "start_time": "2025-05-04T02:10:03.733Z"
   },
   {
    "duration": 4,
    "start_time": "2025-05-04T02:12:23.075Z"
   },
   {
    "duration": 343,
    "start_time": "2025-05-04T02:15:53.252Z"
   },
   {
    "duration": 14,
    "start_time": "2025-05-04T02:19:23.631Z"
   },
   {
    "duration": 3,
    "start_time": "2025-05-04T02:19:33.330Z"
   },
   {
    "duration": 7,
    "start_time": "2025-05-04T02:21:17.035Z"
   },
   {
    "duration": 16,
    "start_time": "2025-05-04T02:21:39.049Z"
   },
   {
    "duration": 76,
    "start_time": "2025-05-04T02:25:31.669Z"
   },
   {
    "duration": 13,
    "start_time": "2025-05-04T02:28:20.665Z"
   },
   {
    "duration": 16,
    "start_time": "2025-05-04T02:28:58.086Z"
   },
   {
    "duration": 142,
    "start_time": "2025-05-04T02:41:27.898Z"
   },
   {
    "duration": 6,
    "start_time": "2025-05-04T02:41:47.381Z"
   },
   {
    "duration": 271,
    "start_time": "2025-05-04T02:42:04.526Z"
   },
   {
    "duration": 249,
    "start_time": "2025-05-04T02:43:35.210Z"
   },
   {
    "duration": 200,
    "start_time": "2025-05-04T02:44:23.662Z"
   },
   {
    "duration": 12,
    "start_time": "2025-05-04T02:47:25.646Z"
   },
   {
    "duration": 361,
    "start_time": "2025-05-04T02:47:37.188Z"
   },
   {
    "duration": 17,
    "start_time": "2025-05-04T02:57:38.620Z"
   },
   {
    "duration": 273,
    "start_time": "2025-05-04T02:57:57.159Z"
   },
   {
    "duration": 23,
    "start_time": "2025-05-04T03:05:23.864Z"
   },
   {
    "duration": 408,
    "start_time": "2025-05-04T03:05:36.279Z"
   },
   {
    "duration": 13,
    "start_time": "2025-05-04T03:10:42.539Z"
   },
   {
    "duration": 306,
    "start_time": "2025-05-04T03:10:56.531Z"
   },
   {
    "duration": 4,
    "start_time": "2025-05-04T03:15:23.110Z"
   },
   {
    "duration": 6,
    "start_time": "2025-05-04T03:15:29.522Z"
   },
   {
    "duration": 6,
    "start_time": "2025-05-04T04:06:56.831Z"
   },
   {
    "duration": 244,
    "start_time": "2025-05-04T04:07:10.234Z"
   },
   {
    "duration": 8,
    "start_time": "2025-05-04T04:10:15.918Z"
   },
   {
    "duration": 5,
    "start_time": "2025-05-04T04:10:27.604Z"
   },
   {
    "duration": 217,
    "start_time": "2025-05-04T04:13:56.377Z"
   },
   {
    "duration": 3,
    "start_time": "2025-05-04T04:14:14.647Z"
   },
   {
    "duration": 5,
    "start_time": "2025-05-04T04:17:40.871Z"
   },
   {
    "duration": 6,
    "start_time": "2025-05-04T04:18:00.558Z"
   },
   {
    "duration": 17,
    "start_time": "2025-05-04T04:20:58.045Z"
   },
   {
    "duration": 7,
    "start_time": "2025-05-04T04:21:19.026Z"
   },
   {
    "duration": 7,
    "start_time": "2025-05-04T04:21:39.424Z"
   },
   {
    "duration": 3,
    "start_time": "2025-05-04T04:22:25.019Z"
   },
   {
    "duration": 4,
    "start_time": "2025-05-04T04:26:57.344Z"
   },
   {
    "duration": 6,
    "start_time": "2025-05-04T04:28:05.046Z"
   },
   {
    "duration": 5,
    "start_time": "2025-05-04T04:28:24.202Z"
   },
   {
    "duration": 3,
    "start_time": "2025-05-04T04:28:36.939Z"
   },
   {
    "duration": 8,
    "start_time": "2025-05-04T04:32:06.549Z"
   },
   {
    "duration": 5,
    "start_time": "2025-05-04T04:32:20.489Z"
   },
   {
    "duration": 3,
    "start_time": "2025-05-04T04:32:35.130Z"
   },
   {
    "duration": 6,
    "start_time": "2025-05-04T04:34:52.910Z"
   },
   {
    "duration": 15,
    "start_time": "2025-05-04T04:35:13.403Z"
   },
   {
    "duration": 16,
    "start_time": "2025-05-04T04:35:35.667Z"
   },
   {
    "duration": 3,
    "start_time": "2025-05-04T04:36:47.110Z"
   },
   {
    "duration": 4,
    "start_time": "2025-05-04T04:36:55.637Z"
   },
   {
    "duration": 3,
    "start_time": "2025-05-04T04:37:14.944Z"
   },
   {
    "duration": 2581,
    "start_time": "2025-05-05T02:30:29.758Z"
   },
   {
    "duration": 12,
    "start_time": "2025-05-05T02:30:32.341Z"
   },
   {
    "duration": 8,
    "start_time": "2025-05-05T02:30:32.354Z"
   },
   {
    "duration": 4,
    "start_time": "2025-05-05T02:30:32.363Z"
   },
   {
    "duration": 2,
    "start_time": "2025-05-05T02:30:32.370Z"
   },
   {
    "duration": 5,
    "start_time": "2025-05-05T02:30:32.374Z"
   },
   {
    "duration": 38,
    "start_time": "2025-05-05T02:30:32.380Z"
   },
   {
    "duration": 8,
    "start_time": "2025-05-05T02:30:32.420Z"
   },
   {
    "duration": 10,
    "start_time": "2025-05-05T02:30:32.430Z"
   },
   {
    "duration": 11,
    "start_time": "2025-05-05T02:30:32.443Z"
   },
   {
    "duration": 8,
    "start_time": "2025-05-05T02:30:32.455Z"
   },
   {
    "duration": 9,
    "start_time": "2025-05-05T02:30:32.465Z"
   },
   {
    "duration": 38,
    "start_time": "2025-05-05T02:30:32.476Z"
   },
   {
    "duration": 4,
    "start_time": "2025-05-05T02:30:32.520Z"
   },
   {
    "duration": 5,
    "start_time": "2025-05-05T02:30:32.525Z"
   },
   {
    "duration": 11,
    "start_time": "2025-05-05T02:30:32.532Z"
   },
   {
    "duration": 12,
    "start_time": "2025-05-05T02:30:32.544Z"
   },
   {
    "duration": 12,
    "start_time": "2025-05-05T02:30:32.558Z"
   },
   {
    "duration": 43,
    "start_time": "2025-05-05T02:30:32.572Z"
   },
   {
    "duration": 264,
    "start_time": "2025-05-05T02:30:32.617Z"
   },
   {
    "duration": 0,
    "start_time": "2025-05-05T02:30:32.883Z"
   },
   {
    "duration": 0,
    "start_time": "2025-05-05T02:30:32.884Z"
   },
   {
    "duration": 0,
    "start_time": "2025-05-05T02:30:32.886Z"
   },
   {
    "duration": 0,
    "start_time": "2025-05-05T02:30:32.888Z"
   },
   {
    "duration": 0,
    "start_time": "2025-05-05T02:30:32.890Z"
   },
   {
    "duration": 0,
    "start_time": "2025-05-05T02:30:32.891Z"
   },
   {
    "duration": 0,
    "start_time": "2025-05-05T02:30:32.893Z"
   },
   {
    "duration": 0,
    "start_time": "2025-05-05T02:30:32.911Z"
   },
   {
    "duration": 0,
    "start_time": "2025-05-05T02:30:32.913Z"
   },
   {
    "duration": 0,
    "start_time": "2025-05-05T02:30:32.914Z"
   },
   {
    "duration": 0,
    "start_time": "2025-05-05T02:30:32.916Z"
   },
   {
    "duration": 0,
    "start_time": "2025-05-05T02:30:32.917Z"
   },
   {
    "duration": 0,
    "start_time": "2025-05-05T02:30:32.920Z"
   },
   {
    "duration": 0,
    "start_time": "2025-05-05T02:30:32.921Z"
   },
   {
    "duration": 0,
    "start_time": "2025-05-05T02:30:32.923Z"
   },
   {
    "duration": 0,
    "start_time": "2025-05-05T02:30:32.924Z"
   },
   {
    "duration": 0,
    "start_time": "2025-05-05T02:30:32.926Z"
   },
   {
    "duration": 0,
    "start_time": "2025-05-05T02:30:32.927Z"
   },
   {
    "duration": 0,
    "start_time": "2025-05-05T02:30:32.929Z"
   },
   {
    "duration": 0,
    "start_time": "2025-05-05T02:30:32.930Z"
   },
   {
    "duration": 0,
    "start_time": "2025-05-05T02:30:32.932Z"
   },
   {
    "duration": 0,
    "start_time": "2025-05-05T02:30:32.933Z"
   },
   {
    "duration": 0,
    "start_time": "2025-05-05T02:30:32.934Z"
   },
   {
    "duration": 0,
    "start_time": "2025-05-05T02:30:32.936Z"
   },
   {
    "duration": 0,
    "start_time": "2025-05-05T02:30:32.937Z"
   },
   {
    "duration": 0,
    "start_time": "2025-05-05T02:30:32.938Z"
   },
   {
    "duration": 0,
    "start_time": "2025-05-05T02:30:32.939Z"
   },
   {
    "duration": 0,
    "start_time": "2025-05-05T02:30:32.944Z"
   },
   {
    "duration": 6,
    "start_time": "2025-05-05T02:31:10.619Z"
   },
   {
    "duration": 21,
    "start_time": "2025-05-05T02:31:14.094Z"
   },
   {
    "duration": 11,
    "start_time": "2025-05-05T02:31:24.874Z"
   },
   {
    "duration": 373,
    "start_time": "2025-05-05T02:31:27.268Z"
   },
   {
    "duration": 16,
    "start_time": "2025-05-05T02:31:32.157Z"
   },
   {
    "duration": 294,
    "start_time": "2025-05-05T02:31:35.129Z"
   },
   {
    "duration": 21,
    "start_time": "2025-05-05T02:31:40.215Z"
   },
   {
    "duration": 390,
    "start_time": "2025-05-05T02:31:46.096Z"
   },
   {
    "duration": 13,
    "start_time": "2025-05-05T02:31:50.616Z"
   },
   {
    "duration": 374,
    "start_time": "2025-05-05T02:31:55.312Z"
   },
   {
    "duration": 6,
    "start_time": "2025-05-05T02:32:00.139Z"
   },
   {
    "duration": 5,
    "start_time": "2025-05-05T02:32:04.243Z"
   },
   {
    "duration": 307,
    "start_time": "2025-05-05T02:32:06.874Z"
   },
   {
    "duration": 8,
    "start_time": "2025-05-05T02:32:11.667Z"
   },
   {
    "duration": 10,
    "start_time": "2025-05-05T02:32:15.001Z"
   },
   {
    "duration": 248,
    "start_time": "2025-05-05T02:32:18.144Z"
   },
   {
    "duration": 5,
    "start_time": "2025-05-05T02:32:23.489Z"
   },
   {
    "duration": 7,
    "start_time": "2025-05-05T02:32:27.102Z"
   },
   {
    "duration": 17,
    "start_time": "2025-05-05T02:32:30.506Z"
   },
   {
    "duration": 8,
    "start_time": "2025-05-05T02:32:33.333Z"
   },
   {
    "duration": 4,
    "start_time": "2025-05-05T02:32:39.390Z"
   },
   {
    "duration": 6,
    "start_time": "2025-05-05T02:32:41.959Z"
   },
   {
    "duration": 3,
    "start_time": "2025-05-05T02:32:45.207Z"
   },
   {
    "duration": 10,
    "start_time": "2025-05-05T02:32:48.224Z"
   },
   {
    "duration": 4,
    "start_time": "2025-05-05T02:32:51.625Z"
   },
   {
    "duration": 3,
    "start_time": "2025-05-05T02:32:56.614Z"
   },
   {
    "duration": 5,
    "start_time": "2025-05-05T02:32:59.616Z"
   },
   {
    "duration": 4,
    "start_time": "2025-05-05T02:33:03.539Z"
   },
   {
    "duration": 3,
    "start_time": "2025-05-05T02:33:08.009Z"
   },
   {
    "duration": 4,
    "start_time": "2025-05-05T02:34:40.796Z"
   },
   {
    "duration": 7,
    "start_time": "2025-05-05T02:34:44.273Z"
   },
   {
    "duration": 8,
    "start_time": "2025-05-05T02:34:47.017Z"
   },
   {
    "duration": 4,
    "start_time": "2025-05-05T02:34:49.465Z"
   },
   {
    "duration": 3,
    "start_time": "2025-05-05T02:34:52.599Z"
   },
   {
    "duration": 427,
    "start_time": "2025-05-05T02:34:57.587Z"
   },
   {
    "duration": 61,
    "start_time": "2025-05-05T02:35:03.202Z"
   },
   {
    "duration": 8,
    "start_time": "2025-05-05T02:35:17.330Z"
   },
   {
    "duration": 7,
    "start_time": "2025-05-05T02:35:19.655Z"
   },
   {
    "duration": 3,
    "start_time": "2025-05-05T02:35:22.493Z"
   },
   {
    "duration": 6,
    "start_time": "2025-05-05T02:35:24.811Z"
   },
   {
    "duration": 10,
    "start_time": "2025-05-05T02:35:27.124Z"
   },
   {
    "duration": 9,
    "start_time": "2025-05-05T02:35:29.476Z"
   },
   {
    "duration": 12,
    "start_time": "2025-05-05T02:35:32.253Z"
   },
   {
    "duration": 9,
    "start_time": "2025-05-05T02:35:35.094Z"
   },
   {
    "duration": 11,
    "start_time": "2025-05-05T02:35:38.744Z"
   },
   {
    "duration": 10,
    "start_time": "2025-05-05T02:35:42.158Z"
   },
   {
    "duration": 6,
    "start_time": "2025-05-05T02:35:45.651Z"
   },
   {
    "duration": 3,
    "start_time": "2025-05-05T02:35:48.294Z"
   },
   {
    "duration": 7,
    "start_time": "2025-05-05T02:35:50.964Z"
   },
   {
    "duration": 9,
    "start_time": "2025-05-05T02:35:55.590Z"
   },
   {
    "duration": 9,
    "start_time": "2025-05-05T02:36:00.462Z"
   },
   {
    "duration": 17,
    "start_time": "2025-05-05T02:36:05.051Z"
   },
   {
    "duration": 5,
    "start_time": "2025-05-05T02:36:08.218Z"
   },
   {
    "duration": 17,
    "start_time": "2025-05-05T02:36:12.693Z"
   },
   {
    "duration": 12,
    "start_time": "2025-05-05T02:36:34.818Z"
   },
   {
    "duration": 6,
    "start_time": "2025-05-05T02:36:38.765Z"
   },
   {
    "duration": 5,
    "start_time": "2025-05-05T02:36:43.514Z"
   },
   {
    "duration": 16,
    "start_time": "2025-05-05T02:36:46.091Z"
   },
   {
    "duration": 13,
    "start_time": "2025-05-05T02:42:48.353Z"
   },
   {
    "duration": 6,
    "start_time": "2025-05-05T02:42:51.684Z"
   },
   {
    "duration": 22,
    "start_time": "2025-05-05T02:42:54.305Z"
   },
   {
    "duration": 6,
    "start_time": "2025-05-05T02:44:52.744Z"
   },
   {
    "duration": 20,
    "start_time": "2025-05-05T02:44:55.082Z"
   },
   {
    "duration": 12,
    "start_time": "2025-05-05T02:51:08.876Z"
   },
   {
    "duration": 13,
    "start_time": "2025-05-05T02:52:27.597Z"
   },
   {
    "duration": 10,
    "start_time": "2025-05-05T02:52:33.525Z"
   },
   {
    "duration": 250,
    "start_time": "2025-05-05T02:53:42.112Z"
   },
   {
    "duration": 15,
    "start_time": "2025-05-05T02:56:44.301Z"
   },
   {
    "duration": 12,
    "start_time": "2025-05-05T02:58:49.835Z"
   },
   {
    "duration": 18,
    "start_time": "2025-05-05T02:59:05.681Z"
   },
   {
    "duration": 3,
    "start_time": "2025-05-05T02:59:20.350Z"
   },
   {
    "duration": 17,
    "start_time": "2025-05-05T02:59:40.353Z"
   },
   {
    "duration": 12,
    "start_time": "2025-05-05T02:59:44.873Z"
   },
   {
    "duration": 7,
    "start_time": "2025-05-05T03:00:35.249Z"
   },
   {
    "duration": 6,
    "start_time": "2025-05-05T03:00:43.708Z"
   },
   {
    "duration": 4,
    "start_time": "2025-05-05T03:01:05.588Z"
   },
   {
    "duration": 7,
    "start_time": "2025-05-05T03:03:16.059Z"
   },
   {
    "duration": 10,
    "start_time": "2025-05-05T03:04:12.601Z"
   },
   {
    "duration": 6,
    "start_time": "2025-05-05T03:04:16.848Z"
   },
   {
    "duration": 3,
    "start_time": "2025-05-05T03:04:20.264Z"
   },
   {
    "duration": 5,
    "start_time": "2025-05-05T03:04:24.477Z"
   },
   {
    "duration": 11,
    "start_time": "2025-05-05T03:07:14.515Z"
   },
   {
    "duration": 10,
    "start_time": "2025-05-05T03:09:17.673Z"
   },
   {
    "duration": 207,
    "start_time": "2025-05-05T03:09:22.170Z"
   },
   {
    "duration": 2905,
    "start_time": "2025-05-05T22:49:23.766Z"
   },
   {
    "duration": 12,
    "start_time": "2025-05-05T22:49:26.698Z"
   },
   {
    "duration": 10,
    "start_time": "2025-05-05T22:49:43.921Z"
   },
   {
    "duration": 9,
    "start_time": "2025-05-05T22:49:50.227Z"
   },
   {
    "duration": 3,
    "start_time": "2025-05-05T22:49:53.246Z"
   },
   {
    "duration": 7,
    "start_time": "2025-05-05T22:49:56.421Z"
   },
   {
    "duration": 17,
    "start_time": "2025-05-05T22:49:58.596Z"
   },
   {
    "duration": 11,
    "start_time": "2025-05-05T22:50:01.605Z"
   },
   {
    "duration": 12,
    "start_time": "2025-05-05T22:50:04.006Z"
   },
   {
    "duration": 12,
    "start_time": "2025-05-05T22:50:06.753Z"
   },
   {
    "duration": 8,
    "start_time": "2025-05-05T22:50:09.410Z"
   },
   {
    "duration": 11,
    "start_time": "2025-05-05T22:50:11.592Z"
   },
   {
    "duration": 10,
    "start_time": "2025-05-05T22:51:44.791Z"
   },
   {
    "duration": 10,
    "start_time": "2025-05-05T22:51:48.191Z"
   },
   {
    "duration": 4,
    "start_time": "2025-05-05T22:51:51.141Z"
   },
   {
    "duration": 5,
    "start_time": "2025-05-05T22:51:53.734Z"
   },
   {
    "duration": 7,
    "start_time": "2025-05-05T22:51:57.383Z"
   },
   {
    "duration": 21,
    "start_time": "2025-05-05T22:52:02.421Z"
   },
   {
    "duration": 11,
    "start_time": "2025-05-05T22:52:08.026Z"
   },
   {
    "duration": 13,
    "start_time": "2025-05-05T22:52:11.508Z"
   },
   {
    "duration": 319,
    "start_time": "2025-05-05T22:52:16.295Z"
   },
   {
    "duration": 339,
    "start_time": "2025-05-05T22:54:06.508Z"
   },
   {
    "duration": 11,
    "start_time": "2025-05-06T00:31:06.592Z"
   },
   {
    "duration": 353,
    "start_time": "2025-05-06T00:31:10.699Z"
   },
   {
    "duration": 16,
    "start_time": "2025-05-06T00:31:15.236Z"
   },
   {
    "duration": 304,
    "start_time": "2025-05-06T00:31:20.423Z"
   },
   {
    "duration": 17,
    "start_time": "2025-05-06T00:31:26.406Z"
   },
   {
    "duration": 11,
    "start_time": "2025-05-06T00:31:32.959Z"
   },
   {
    "duration": 11,
    "start_time": "2025-05-06T00:31:36.687Z"
   },
   {
    "duration": 322,
    "start_time": "2025-05-06T00:31:39.105Z"
   },
   {
    "duration": 6,
    "start_time": "2025-05-06T00:31:43.916Z"
   },
   {
    "duration": 5,
    "start_time": "2025-05-06T01:08:04.241Z"
   },
   {
    "duration": 254,
    "start_time": "2025-05-06T01:08:07.200Z"
   },
   {
    "duration": 8,
    "start_time": "2025-05-06T01:14:10.719Z"
   },
   {
    "duration": 5,
    "start_time": "2025-05-06T01:14:12.985Z"
   },
   {
    "duration": 297,
    "start_time": "2025-05-06T01:21:33.884Z"
   },
   {
    "duration": 5,
    "start_time": "2025-05-06T01:21:46.134Z"
   },
   {
    "duration": 6,
    "start_time": "2025-05-06T01:21:49.332Z"
   },
   {
    "duration": 5,
    "start_time": "2025-05-06T01:31:26.241Z"
   },
   {
    "duration": 6,
    "start_time": "2025-05-06T01:31:29.003Z"
   },
   {
    "duration": 11,
    "start_time": "2025-05-06T01:31:32.126Z"
   },
   {
    "duration": 5,
    "start_time": "2025-05-06T01:31:35.259Z"
   },
   {
    "duration": 3,
    "start_time": "2025-05-06T01:31:39.440Z"
   },
   {
    "duration": 15,
    "start_time": "2025-05-06T03:10:10.736Z"
   },
   {
    "duration": 7,
    "start_time": "2025-05-06T03:10:10.860Z"
   },
   {
    "duration": 8,
    "start_time": "2025-05-06T03:18:39.451Z"
   },
   {
    "duration": 755,
    "start_time": "2025-05-06T03:22:49.753Z"
   },
   {
    "duration": 3,
    "start_time": "2025-05-06T03:23:01.018Z"
   },
   {
    "duration": 9,
    "start_time": "2025-05-06T03:23:04.153Z"
   },
   {
    "duration": 8,
    "start_time": "2025-05-06T03:23:07.187Z"
   },
   {
    "duration": 9,
    "start_time": "2025-05-06T03:23:10.033Z"
   },
   {
    "duration": 4,
    "start_time": "2025-05-06T03:23:13.165Z"
   },
   {
    "duration": 6,
    "start_time": "2025-05-06T03:23:16.256Z"
   },
   {
    "duration": 15,
    "start_time": "2025-05-06T03:23:18.540Z"
   },
   {
    "duration": 14,
    "start_time": "2025-05-06T03:23:21.231Z"
   },
   {
    "duration": 12,
    "start_time": "2025-05-06T03:23:24.180Z"
   },
   {
    "duration": 9,
    "start_time": "2025-05-06T03:23:26.703Z"
   },
   {
    "duration": 9,
    "start_time": "2025-05-06T03:23:29.353Z"
   },
   {
    "duration": 10,
    "start_time": "2025-05-06T03:23:32.369Z"
   },
   {
    "duration": 6,
    "start_time": "2025-05-06T03:23:35.569Z"
   },
   {
    "duration": 8,
    "start_time": "2025-05-06T03:23:38.433Z"
   },
   {
    "duration": 8,
    "start_time": "2025-05-06T03:23:40.849Z"
   },
   {
    "duration": 10,
    "start_time": "2025-05-06T03:23:44.661Z"
   },
   {
    "duration": 11,
    "start_time": "2025-05-06T03:23:48.916Z"
   },
   {
    "duration": 23,
    "start_time": "2025-05-06T03:23:52.826Z"
   },
   {
    "duration": 272,
    "start_time": "2025-05-06T03:23:57.244Z"
   },
   {
    "duration": 14,
    "start_time": "2025-05-06T03:24:33.643Z"
   },
   {
    "duration": 12,
    "start_time": "2025-05-06T03:25:05.810Z"
   },
   {
    "duration": 292,
    "start_time": "2025-05-06T03:25:10.429Z"
   },
   {
    "duration": 305,
    "start_time": "2025-05-06T03:25:25.294Z"
   },
   {
    "duration": 15,
    "start_time": "2025-05-06T03:25:38.726Z"
   },
   {
    "duration": 308,
    "start_time": "2025-05-06T03:25:42.349Z"
   },
   {
    "duration": 21,
    "start_time": "2025-05-06T03:25:55.243Z"
   },
   {
    "duration": 302,
    "start_time": "2025-05-06T03:25:58.650Z"
   },
   {
    "duration": 16,
    "start_time": "2025-05-06T03:26:23.405Z"
   },
   {
    "duration": 313,
    "start_time": "2025-05-06T03:26:26.491Z"
   },
   {
    "duration": 16,
    "start_time": "2025-05-06T03:26:34.609Z"
   },
   {
    "duration": 299,
    "start_time": "2025-05-06T03:26:37.859Z"
   },
   {
    "duration": 12,
    "start_time": "2025-05-06T03:27:03.876Z"
   },
   {
    "duration": 304,
    "start_time": "2025-05-06T03:27:09.237Z"
   },
   {
    "duration": 6,
    "start_time": "2025-05-06T03:27:34.086Z"
   },
   {
    "duration": 227,
    "start_time": "2025-05-06T03:27:38.056Z"
   },
   {
    "duration": 9,
    "start_time": "2025-05-06T03:27:55.746Z"
   },
   {
    "duration": 5,
    "start_time": "2025-05-06T03:27:59.713Z"
   },
   {
    "duration": 243,
    "start_time": "2025-05-06T03:28:09.040Z"
   },
   {
    "duration": 6,
    "start_time": "2025-05-06T03:28:18.205Z"
   },
   {
    "duration": 7,
    "start_time": "2025-05-06T03:28:22.162Z"
   },
   {
    "duration": 11,
    "start_time": "2025-05-06T03:28:37.715Z"
   },
   {
    "duration": 6,
    "start_time": "2025-05-06T03:28:49.851Z"
   },
   {
    "duration": 7,
    "start_time": "2025-05-06T03:28:57.207Z"
   },
   {
    "duration": 3,
    "start_time": "2025-05-06T03:29:02.370Z"
   },
   {
    "duration": 6,
    "start_time": "2025-05-06T03:29:11.526Z"
   },
   {
    "duration": 6,
    "start_time": "2025-05-06T03:29:15.433Z"
   },
   {
    "duration": 3,
    "start_time": "2025-05-06T03:29:19.129Z"
   },
   {
    "duration": 9,
    "start_time": "2025-05-06T03:29:33.634Z"
   },
   {
    "duration": 6,
    "start_time": "2025-05-06T03:29:38.559Z"
   },
   {
    "duration": 3,
    "start_time": "2025-05-06T03:29:45.885Z"
   },
   {
    "duration": 6,
    "start_time": "2025-05-06T03:29:53.389Z"
   },
   {
    "duration": 5,
    "start_time": "2025-05-06T03:30:01.745Z"
   },
   {
    "duration": 5,
    "start_time": "2025-05-06T03:30:08.212Z"
   },
   {
    "duration": 2517,
    "start_time": "2025-05-06T03:40:13.573Z"
   },
   {
    "duration": 10,
    "start_time": "2025-05-06T03:40:16.092Z"
   },
   {
    "duration": 7,
    "start_time": "2025-05-06T03:40:16.104Z"
   },
   {
    "duration": 19,
    "start_time": "2025-05-06T03:40:16.113Z"
   },
   {
    "duration": 3,
    "start_time": "2025-05-06T03:40:16.138Z"
   },
   {
    "duration": 7,
    "start_time": "2025-05-06T03:40:16.142Z"
   },
   {
    "duration": 13,
    "start_time": "2025-05-06T03:40:16.150Z"
   },
   {
    "duration": 9,
    "start_time": "2025-05-06T03:40:16.165Z"
   },
   {
    "duration": 10,
    "start_time": "2025-05-06T03:40:16.175Z"
   },
   {
    "duration": 9,
    "start_time": "2025-05-06T03:40:16.186Z"
   },
   {
    "duration": 8,
    "start_time": "2025-05-06T03:40:16.196Z"
   },
   {
    "duration": 10,
    "start_time": "2025-05-06T03:40:16.232Z"
   },
   {
    "duration": 5,
    "start_time": "2025-05-06T03:40:16.244Z"
   },
   {
    "duration": 3,
    "start_time": "2025-05-06T03:40:16.254Z"
   },
   {
    "duration": 5,
    "start_time": "2025-05-06T03:40:16.258Z"
   },
   {
    "duration": 10,
    "start_time": "2025-05-06T03:40:16.264Z"
   },
   {
    "duration": 9,
    "start_time": "2025-05-06T03:40:16.276Z"
   },
   {
    "duration": 57,
    "start_time": "2025-05-06T03:40:16.286Z"
   },
   {
    "duration": 326,
    "start_time": "2025-05-06T03:40:16.345Z"
   },
   {
    "duration": 10,
    "start_time": "2025-05-06T03:40:16.673Z"
   },
   {
    "duration": 343,
    "start_time": "2025-05-06T03:40:16.685Z"
   },
   {
    "duration": 16,
    "start_time": "2025-05-06T03:40:17.030Z"
   },
   {
    "duration": 293,
    "start_time": "2025-05-06T03:40:17.048Z"
   },
   {
    "duration": 16,
    "start_time": "2025-05-06T03:40:17.343Z"
   },
   {
    "duration": 365,
    "start_time": "2025-05-06T03:40:17.361Z"
   },
   {
    "duration": 12,
    "start_time": "2025-05-06T03:40:17.732Z"
   },
   {
    "duration": 309,
    "start_time": "2025-05-06T03:40:17.745Z"
   },
   {
    "duration": 7,
    "start_time": "2025-05-06T03:40:18.056Z"
   },
   {
    "duration": 234,
    "start_time": "2025-05-06T03:40:18.065Z"
   },
   {
    "duration": 8,
    "start_time": "2025-05-06T03:40:18.301Z"
   },
   {
    "duration": 7,
    "start_time": "2025-05-06T03:40:18.310Z"
   },
   {
    "duration": 301,
    "start_time": "2025-05-06T03:40:18.330Z"
   },
   {
    "duration": 5,
    "start_time": "2025-05-06T03:40:18.633Z"
   },
   {
    "duration": 6,
    "start_time": "2025-05-06T03:40:18.640Z"
   },
   {
    "duration": 10,
    "start_time": "2025-05-06T03:40:18.648Z"
   },
   {
    "duration": 5,
    "start_time": "2025-05-06T03:40:18.661Z"
   },
   {
    "duration": 2,
    "start_time": "2025-05-06T03:40:18.668Z"
   },
   {
    "duration": 6,
    "start_time": "2025-05-06T03:40:18.672Z"
   },
   {
    "duration": 4,
    "start_time": "2025-05-06T03:40:18.681Z"
   },
   {
    "duration": 3,
    "start_time": "2025-05-06T03:40:18.687Z"
   },
   {
    "duration": 45,
    "start_time": "2025-05-06T03:40:18.693Z"
   },
   {
    "duration": 4,
    "start_time": "2025-05-06T03:40:18.740Z"
   },
   {
    "duration": 3,
    "start_time": "2025-05-06T03:40:18.746Z"
   },
   {
    "duration": 6,
    "start_time": "2025-05-06T03:40:18.751Z"
   },
   {
    "duration": 4,
    "start_time": "2025-05-06T03:40:18.758Z"
   },
   {
    "duration": 5,
    "start_time": "2025-05-06T03:40:18.763Z"
   }
  ],
  "kernelspec": {
   "display_name": "Python 3 (ipykernel)",
   "language": "python",
   "name": "python3"
  },
  "language_info": {
   "codemirror_mode": {
    "name": "ipython",
    "version": 3
   },
   "file_extension": ".py",
   "mimetype": "text/x-python",
   "name": "python",
   "nbconvert_exporter": "python",
   "pygments_lexer": "ipython3",
   "version": "3.9.19"
  },
  "toc": {
   "base_numbering": 1,
   "nav_menu": {},
   "number_sections": true,
   "sideBar": true,
   "skip_h1_title": true,
   "title_cell": "Table of Contents",
   "title_sidebar": "Contents",
   "toc_cell": false,
   "toc_position": {},
   "toc_section_display": true,
   "toc_window_display": false
  }
 },
 "nbformat": 4,
 "nbformat_minor": 2
}
